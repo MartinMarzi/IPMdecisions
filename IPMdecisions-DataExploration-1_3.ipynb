{
 "cells": [
  {
   "cell_type": "code",
   "execution_count": 1,
   "metadata": {
    "executionInfo": {
     "elapsed": 1360,
     "status": "ok",
     "timestamp": 1618570861257,
     "user": {
      "displayName": "Martin Marzidovsek",
      "photoUrl": "https://lh3.googleusercontent.com/a-/AOh14GhXbFh589XGiI6oB78rtIMBiCa5tel2SF_97PQ1fA=s64",
      "userId": "00159942044512018365"
     },
     "user_tz": -120
    },
    "id": "l2iXxyyhkdJ0"
   },
   "outputs": [],
   "source": [
    "import numpy as np\n",
    "import pandas as pd\n",
    "import matplotlib.pyplot as plt\n",
    "from sklearn.datasets import load_digits\n",
    "from sklearn.model_selection import train_test_split\n",
    "from sklearn.preprocessing import StandardScaler\n",
    "import seaborn as sns\n",
    "import pandas as pd\n",
    "from pandas.api.types import CategoricalDtype\n",
    "import umap"
   ]
  },
  {
   "cell_type": "code",
   "execution_count": 2,
   "metadata": {
    "executionInfo": {
     "elapsed": 1349,
     "status": "ok",
     "timestamp": 1618570861258,
     "user": {
      "displayName": "Martin Marzidovsek",
      "photoUrl": "https://lh3.googleusercontent.com/a-/AOh14GhXbFh589XGiI6oB78rtIMBiCa5tel2SF_97PQ1fA=s64",
      "userId": "00159942044512018365"
     },
     "user_tz": -120
    },
    "id": "WtiRqHhNng-Y"
   },
   "outputs": [],
   "source": [
    "DATA_FILE = \"data/Farmers_edited data 21.12.2020_IPS_FINAL- WEKA_JM.xlsx\""
   ]
  },
  {
   "cell_type": "code",
   "execution_count": 3,
   "metadata": {
    "executionInfo": {
     "elapsed": 2111,
     "status": "ok",
     "timestamp": 1618570862022,
     "user": {
      "displayName": "Martin Marzidovsek",
      "photoUrl": "https://lh3.googleusercontent.com/a-/AOh14GhXbFh589XGiI6oB78rtIMBiCa5tel2SF_97PQ1fA=s64",
      "userId": "00159942044512018365"
     },
     "user_tz": -120
    },
    "id": "27PBpsaZn6ek"
   },
   "outputs": [],
   "source": [
    "# Create dataframe\n",
    "df = pd.read_excel(DATA_FILE, header=0, engine='openpyxl', na_values=['?'], usecols=range(81), \n",
    "                   skiprows= range(150,155))"
   ]
  },
  {
   "cell_type": "code",
   "execution_count": 4,
   "metadata": {
    "colab": {
     "base_uri": "https://localhost:8080/"
    },
    "executionInfo": {
     "elapsed": 2089,
     "status": "ok",
     "timestamp": 1618570862023,
     "user": {
      "displayName": "Martin Marzidovsek",
      "photoUrl": "https://lh3.googleusercontent.com/a-/AOh14GhXbFh589XGiI6oB78rtIMBiCa5tel2SF_97PQ1fA=s64",
      "userId": "00159942044512018365"
     },
     "user_tz": -120
    },
    "id": "LvxmcuQwr6Bn",
    "outputId": "714b60c2-81ce-4341-8300-c9879e19abe5"
   },
   "outputs": [
    {
     "data": {
      "text/plain": [
       "(149, 81)"
      ]
     },
     "execution_count": 4,
     "metadata": {},
     "output_type": "execute_result"
    }
   ],
   "source": [
    "# Show data size\n",
    "df.shape"
   ]
  },
  {
   "cell_type": "code",
   "execution_count": 45,
   "metadata": {},
   "outputs": [],
   "source": [
    "pd.set_option(\"max_columns\", None)\n",
    "pd.set_option(\"max_rows\", 10)"
   ]
  },
  {
   "cell_type": "code",
   "execution_count": 6,
   "metadata": {},
   "outputs": [
    {
     "data": {
      "text/html": [
       "<div>\n",
       "<style scoped>\n",
       "    .dataframe tbody tr th:only-of-type {\n",
       "        vertical-align: middle;\n",
       "    }\n",
       "\n",
       "    .dataframe tbody tr th {\n",
       "        vertical-align: top;\n",
       "    }\n",
       "\n",
       "    .dataframe thead th {\n",
       "        text-align: right;\n",
       "    }\n",
       "</style>\n",
       "<table border=\"1\" class=\"dataframe\">\n",
       "  <thead>\n",
       "    <tr style=\"text-align: right;\">\n",
       "      <th></th>\n",
       "      <th>Region</th>\n",
       "      <th>Country</th>\n",
       "      <th>Subject</th>\n",
       "      <th>Age_Cat</th>\n",
       "      <th>Gender_1male</th>\n",
       "      <th>Degree_Cat</th>\n",
       "      <th>Farm_size_Cat</th>\n",
       "      <th>ProductionUse_selling</th>\n",
       "      <th>Farm_type_Conventional</th>\n",
       "      <th>Farm_type_Intergrated</th>\n",
       "      <th>Farm_type_Organic</th>\n",
       "      <th>Farm_type_Biodynamic</th>\n",
       "      <th>Income_Cat</th>\n",
       "      <th>Proportion_of_income</th>\n",
       "      <th>Production_level_1to7</th>\n",
       "      <th>Production_level_1to3</th>\n",
       "      <th>Crop_Group_Cat</th>\n",
       "      <th>Legislative_requirements</th>\n",
       "      <th>Own_phone</th>\n",
       "      <th>Years_own_phone</th>\n",
       "      <th>Use_DSS_App</th>\n",
       "      <th>Agricultural_app_use_Cat</th>\n",
       "      <th>Computer_at_home</th>\n",
       "      <th>Speed_internet_Cat</th>\n",
       "      <th>Already_used_DSS</th>\n",
       "      <th>How_do_you_access_DSS_Cat</th>\n",
       "      <th>Potencial_user_of_platform</th>\n",
       "      <th>Prefered_access_Phone</th>\n",
       "      <th>Prefered_access_PC</th>\n",
       "      <th>Prefered_access_Advisor</th>\n",
       "      <th>Willing_to_try_new_products_Cat</th>\n",
       "      <th>Price_important_factor</th>\n",
       "      <th>DSS_are_more_suited_for_ShortTermDecision_1</th>\n",
       "      <th>DSS_are_more_suited_for_LongTermDecision_2</th>\n",
       "      <th>DSS_for_ShortLongTermBothDecision_Cat_NO</th>\n",
       "      <th>Prefered_type_Web_1</th>\n",
       "      <th>Prefered_type_Software_2</th>\n",
       "      <th>Prefered_type_Web_Software_Both_Cat_NO</th>\n",
       "      <th>Importance_of_easy_to_use_1to7</th>\n",
       "      <th>Importance_of_easy_to_use_1to2</th>\n",
       "      <th>Importance_of_easy_to_use_1to3</th>\n",
       "      <th>Importance_of_efficient_1to7</th>\n",
       "      <th>Importance_of_efficient_1to2</th>\n",
       "      <th>Importance_of_efficient_1to3</th>\n",
       "      <th>Importance_low_price_1to7</th>\n",
       "      <th>Importance_low_price_1to2</th>\n",
       "      <th>Importance_low_price_1to3</th>\n",
       "      <th>Importance_polyvalence_1to7</th>\n",
       "      <th>Importance_polyvalence_1to2</th>\n",
       "      <th>Importance_polyvalence_1to3</th>\n",
       "      <th>Enjoy_using_new_techs_1to7</th>\n",
       "      <th>Enjoy_using_new_techs_1to2</th>\n",
       "      <th>Enjoy_using_new_techs_1to3</th>\n",
       "      <th>Appreciate_change_1to7</th>\n",
       "      <th>Appreciate_change_1to2</th>\n",
       "      <th>Appreciate_change_1to3</th>\n",
       "      <th>Trust_in_DSS_1to7</th>\n",
       "      <th>Trust_in_DSS_1to2</th>\n",
       "      <th>Trust_in_DSS_1to3</th>\n",
       "      <th>Trust_in_colleague_advice_1to7</th>\n",
       "      <th>Trust_in_colleague_advice_1to2</th>\n",
       "      <th>Trust_in_colleague_advice_1to3</th>\n",
       "      <th>Trust_advice_friend_1to7</th>\n",
       "      <th>Trust_advice_friend_1to2</th>\n",
       "      <th>Trust_advice_friend_1to3</th>\n",
       "      <th>Need_IT_teaching_Cat</th>\n",
       "      <th>DSS_can_improve_your_productivity_Cat</th>\n",
       "      <th>CL_Output_preference_Graphical_1</th>\n",
       "      <th>CL_Output_preference_Textual_2</th>\n",
       "      <th>CL_Output_preference_Both_3</th>\n",
       "      <th>Output_preference_Cat_NO</th>\n",
       "      <th>Share_DSS_exp_with_colleague_Cat</th>\n",
       "      <th>Use_DSS_from_trusted_sources_Always</th>\n",
       "      <th>WTP_for_DSS_Cat</th>\n",
       "      <th>DSS_must_be_tailored_for_your_farm_Cat</th>\n",
       "      <th>Use_same_DSS_than_advisor_Cat</th>\n",
       "      <th>Age_of_DSS_user_at_the_farm_1</th>\n",
       "      <th>Age_of_DSS_user_at_the_farm_2</th>\n",
       "      <th>Age_of_DSS_user_at_the_farm_3</th>\n",
       "      <th>Marketing_info_about_DSS_Cat</th>\n",
       "      <th>Manufacturer_demo_of_DSS_Cat</th>\n",
       "    </tr>\n",
       "  </thead>\n",
       "  <tbody>\n",
       "    <tr>\n",
       "      <th>0</th>\n",
       "      <td>south_EU</td>\n",
       "      <td>Italy</td>\n",
       "      <td>ITALY1</td>\n",
       "      <td>4</td>\n",
       "      <td>1.0</td>\n",
       "      <td>1.0</td>\n",
       "      <td>5.0</td>\n",
       "      <td>1.0</td>\n",
       "      <td>1.0</td>\n",
       "      <td>1.0</td>\n",
       "      <td>0.0</td>\n",
       "      <td>0.0</td>\n",
       "      <td>NaN</td>\n",
       "      <td>0.0</td>\n",
       "      <td>7.0</td>\n",
       "      <td>3.0</td>\n",
       "      <td>1.0</td>\n",
       "      <td>1.0</td>\n",
       "      <td>1</td>\n",
       "      <td>0</td>\n",
       "      <td>1.0</td>\n",
       "      <td>2.0</td>\n",
       "      <td>1</td>\n",
       "      <td>3</td>\n",
       "      <td>0.0</td>\n",
       "      <td>1.0</td>\n",
       "      <td>0.0</td>\n",
       "      <td>NaN</td>\n",
       "      <td>NaN</td>\n",
       "      <td>NaN</td>\n",
       "      <td>2.0</td>\n",
       "      <td>0.0</td>\n",
       "      <td>NaN</td>\n",
       "      <td>NaN</td>\n",
       "      <td>NaN</td>\n",
       "      <td>NaN</td>\n",
       "      <td>NaN</td>\n",
       "      <td>NaN</td>\n",
       "      <td>NaN</td>\n",
       "      <td>NaN</td>\n",
       "      <td>NaN</td>\n",
       "      <td>NaN</td>\n",
       "      <td>NaN</td>\n",
       "      <td>NaN</td>\n",
       "      <td>NaN</td>\n",
       "      <td>NaN</td>\n",
       "      <td>NaN</td>\n",
       "      <td>NaN</td>\n",
       "      <td>NaN</td>\n",
       "      <td>NaN</td>\n",
       "      <td>NaN</td>\n",
       "      <td>NaN</td>\n",
       "      <td>NaN</td>\n",
       "      <td>7.0</td>\n",
       "      <td>2.0</td>\n",
       "      <td>3.0</td>\n",
       "      <td>1.0</td>\n",
       "      <td>1.0</td>\n",
       "      <td>1.0</td>\n",
       "      <td>2.0</td>\n",
       "      <td>1.0</td>\n",
       "      <td>1.0</td>\n",
       "      <td>2.0</td>\n",
       "      <td>1.0</td>\n",
       "      <td>1.0</td>\n",
       "      <td>1.0</td>\n",
       "      <td>1.0</td>\n",
       "      <td>NaN</td>\n",
       "      <td>NaN</td>\n",
       "      <td>NaN</td>\n",
       "      <td>NaN</td>\n",
       "      <td>2.0</td>\n",
       "      <td>NaN</td>\n",
       "      <td>1.0</td>\n",
       "      <td>1.0</td>\n",
       "      <td>NaN</td>\n",
       "      <td>NaN</td>\n",
       "      <td>NaN</td>\n",
       "      <td>NaN</td>\n",
       "      <td>1.0</td>\n",
       "      <td>1.0</td>\n",
       "    </tr>\n",
       "    <tr>\n",
       "      <th>1</th>\n",
       "      <td>south_EU</td>\n",
       "      <td>Italy</td>\n",
       "      <td>ITALY2</td>\n",
       "      <td>4</td>\n",
       "      <td>1.0</td>\n",
       "      <td>2.0</td>\n",
       "      <td>4.0</td>\n",
       "      <td>1.0</td>\n",
       "      <td>1.0</td>\n",
       "      <td>0.0</td>\n",
       "      <td>0.0</td>\n",
       "      <td>0.0</td>\n",
       "      <td>2.0</td>\n",
       "      <td>0.0</td>\n",
       "      <td>4.0</td>\n",
       "      <td>2.0</td>\n",
       "      <td>2.0</td>\n",
       "      <td>NaN</td>\n",
       "      <td>1</td>\n",
       "      <td>0</td>\n",
       "      <td>NaN</td>\n",
       "      <td>NaN</td>\n",
       "      <td>1</td>\n",
       "      <td>2</td>\n",
       "      <td>NaN</td>\n",
       "      <td>NaN</td>\n",
       "      <td>NaN</td>\n",
       "      <td>NaN</td>\n",
       "      <td>NaN</td>\n",
       "      <td>NaN</td>\n",
       "      <td>NaN</td>\n",
       "      <td>NaN</td>\n",
       "      <td>NaN</td>\n",
       "      <td>NaN</td>\n",
       "      <td>NaN</td>\n",
       "      <td>NaN</td>\n",
       "      <td>NaN</td>\n",
       "      <td>NaN</td>\n",
       "      <td>NaN</td>\n",
       "      <td>NaN</td>\n",
       "      <td>NaN</td>\n",
       "      <td>NaN</td>\n",
       "      <td>NaN</td>\n",
       "      <td>NaN</td>\n",
       "      <td>NaN</td>\n",
       "      <td>NaN</td>\n",
       "      <td>NaN</td>\n",
       "      <td>NaN</td>\n",
       "      <td>NaN</td>\n",
       "      <td>NaN</td>\n",
       "      <td>7.0</td>\n",
       "      <td>2.0</td>\n",
       "      <td>3.0</td>\n",
       "      <td>7.0</td>\n",
       "      <td>2.0</td>\n",
       "      <td>3.0</td>\n",
       "      <td>6.0</td>\n",
       "      <td>2.0</td>\n",
       "      <td>2.0</td>\n",
       "      <td>2.0</td>\n",
       "      <td>1.0</td>\n",
       "      <td>1.0</td>\n",
       "      <td>4.0</td>\n",
       "      <td>1.0</td>\n",
       "      <td>1.0</td>\n",
       "      <td>2.0</td>\n",
       "      <td>2.0</td>\n",
       "      <td>NaN</td>\n",
       "      <td>NaN</td>\n",
       "      <td>NaN</td>\n",
       "      <td>NaN</td>\n",
       "      <td>2.0</td>\n",
       "      <td>NaN</td>\n",
       "      <td>1.0</td>\n",
       "      <td>2.0</td>\n",
       "      <td>NaN</td>\n",
       "      <td>0.0</td>\n",
       "      <td>1.0</td>\n",
       "      <td>0.0</td>\n",
       "      <td>2.0</td>\n",
       "      <td>2.0</td>\n",
       "    </tr>\n",
       "    <tr>\n",
       "      <th>2</th>\n",
       "      <td>south_EU</td>\n",
       "      <td>Italy</td>\n",
       "      <td>ITALY3</td>\n",
       "      <td>2</td>\n",
       "      <td>1.0</td>\n",
       "      <td>2.0</td>\n",
       "      <td>5.0</td>\n",
       "      <td>1.0</td>\n",
       "      <td>1.0</td>\n",
       "      <td>0.0</td>\n",
       "      <td>0.0</td>\n",
       "      <td>0.0</td>\n",
       "      <td>2.0</td>\n",
       "      <td>100.0</td>\n",
       "      <td>5.0</td>\n",
       "      <td>3.0</td>\n",
       "      <td>1.0</td>\n",
       "      <td>1.0</td>\n",
       "      <td>1</td>\n",
       "      <td>10</td>\n",
       "      <td>1.0</td>\n",
       "      <td>2.0</td>\n",
       "      <td>1</td>\n",
       "      <td>2</td>\n",
       "      <td>0.0</td>\n",
       "      <td>1.0</td>\n",
       "      <td>0.0</td>\n",
       "      <td>1.0</td>\n",
       "      <td>1.0</td>\n",
       "      <td>1.0</td>\n",
       "      <td>1.0</td>\n",
       "      <td>1.0</td>\n",
       "      <td>1.0</td>\n",
       "      <td>0.0</td>\n",
       "      <td>1.0</td>\n",
       "      <td>1.0</td>\n",
       "      <td>0.0</td>\n",
       "      <td>1.0</td>\n",
       "      <td>7.0</td>\n",
       "      <td>2.0</td>\n",
       "      <td>3.0</td>\n",
       "      <td>7.0</td>\n",
       "      <td>2.0</td>\n",
       "      <td>3.0</td>\n",
       "      <td>5.0</td>\n",
       "      <td>1.0</td>\n",
       "      <td>2.0</td>\n",
       "      <td>7.0</td>\n",
       "      <td>2.0</td>\n",
       "      <td>3.0</td>\n",
       "      <td>4.0</td>\n",
       "      <td>1.0</td>\n",
       "      <td>1.0</td>\n",
       "      <td>4.0</td>\n",
       "      <td>1.0</td>\n",
       "      <td>1.0</td>\n",
       "      <td>5.0</td>\n",
       "      <td>1.0</td>\n",
       "      <td>2.0</td>\n",
       "      <td>5.0</td>\n",
       "      <td>1.0</td>\n",
       "      <td>2.0</td>\n",
       "      <td>5.0</td>\n",
       "      <td>1.0</td>\n",
       "      <td>2.0</td>\n",
       "      <td>2.0</td>\n",
       "      <td>2.0</td>\n",
       "      <td>0.0</td>\n",
       "      <td>0.0</td>\n",
       "      <td>1.0</td>\n",
       "      <td>3.0</td>\n",
       "      <td>1.0</td>\n",
       "      <td>NaN</td>\n",
       "      <td>2.0</td>\n",
       "      <td>2.0</td>\n",
       "      <td>1.0</td>\n",
       "      <td>NaN</td>\n",
       "      <td>NaN</td>\n",
       "      <td>NaN</td>\n",
       "      <td>2.0</td>\n",
       "      <td>2.0</td>\n",
       "    </tr>\n",
       "    <tr>\n",
       "      <th>3</th>\n",
       "      <td>south_EU</td>\n",
       "      <td>Italy</td>\n",
       "      <td>ITALY4</td>\n",
       "      <td>2</td>\n",
       "      <td>1.0</td>\n",
       "      <td>2.0</td>\n",
       "      <td>4.0</td>\n",
       "      <td>1.0</td>\n",
       "      <td>0.0</td>\n",
       "      <td>0.0</td>\n",
       "      <td>0.0</td>\n",
       "      <td>0.0</td>\n",
       "      <td>5.0</td>\n",
       "      <td>90.0</td>\n",
       "      <td>5.0</td>\n",
       "      <td>3.0</td>\n",
       "      <td>1.0</td>\n",
       "      <td>1.0</td>\n",
       "      <td>1</td>\n",
       "      <td>10</td>\n",
       "      <td>0.0</td>\n",
       "      <td>NaN</td>\n",
       "      <td>1</td>\n",
       "      <td>2</td>\n",
       "      <td>0.0</td>\n",
       "      <td>1.0</td>\n",
       "      <td>0.0</td>\n",
       "      <td>1.0</td>\n",
       "      <td>0.0</td>\n",
       "      <td>0.0</td>\n",
       "      <td>1.0</td>\n",
       "      <td>1.0</td>\n",
       "      <td>0.0</td>\n",
       "      <td>1.0</td>\n",
       "      <td>2.0</td>\n",
       "      <td>0.0</td>\n",
       "      <td>1.0</td>\n",
       "      <td>2.0</td>\n",
       "      <td>7.0</td>\n",
       "      <td>2.0</td>\n",
       "      <td>3.0</td>\n",
       "      <td>6.0</td>\n",
       "      <td>2.0</td>\n",
       "      <td>2.0</td>\n",
       "      <td>4.0</td>\n",
       "      <td>1.0</td>\n",
       "      <td>1.0</td>\n",
       "      <td>6.0</td>\n",
       "      <td>2.0</td>\n",
       "      <td>2.0</td>\n",
       "      <td>6.0</td>\n",
       "      <td>2.0</td>\n",
       "      <td>2.0</td>\n",
       "      <td>6.0</td>\n",
       "      <td>2.0</td>\n",
       "      <td>2.0</td>\n",
       "      <td>4.0</td>\n",
       "      <td>1.0</td>\n",
       "      <td>1.0</td>\n",
       "      <td>4.0</td>\n",
       "      <td>1.0</td>\n",
       "      <td>1.0</td>\n",
       "      <td>4.0</td>\n",
       "      <td>1.0</td>\n",
       "      <td>1.0</td>\n",
       "      <td>2.0</td>\n",
       "      <td>2.0</td>\n",
       "      <td>0.0</td>\n",
       "      <td>0.0</td>\n",
       "      <td>1.0</td>\n",
       "      <td>3.0</td>\n",
       "      <td>NaN</td>\n",
       "      <td>NaN</td>\n",
       "      <td>3.0</td>\n",
       "      <td>2.0</td>\n",
       "      <td>NaN</td>\n",
       "      <td>1.0</td>\n",
       "      <td>0.0</td>\n",
       "      <td>0.0</td>\n",
       "      <td>NaN</td>\n",
       "      <td>1.0</td>\n",
       "    </tr>\n",
       "    <tr>\n",
       "      <th>4</th>\n",
       "      <td>south_EU</td>\n",
       "      <td>Italy</td>\n",
       "      <td>ITALY5</td>\n",
       "      <td>2</td>\n",
       "      <td>1.0</td>\n",
       "      <td>2.0</td>\n",
       "      <td>5.0</td>\n",
       "      <td>1.0</td>\n",
       "      <td>0.0</td>\n",
       "      <td>1.0</td>\n",
       "      <td>0.0</td>\n",
       "      <td>0.0</td>\n",
       "      <td>5.0</td>\n",
       "      <td>0.0</td>\n",
       "      <td>4.0</td>\n",
       "      <td>2.0</td>\n",
       "      <td>2.0</td>\n",
       "      <td>1.0</td>\n",
       "      <td>1</td>\n",
       "      <td>10</td>\n",
       "      <td>1.0</td>\n",
       "      <td>3.0</td>\n",
       "      <td>1</td>\n",
       "      <td>2</td>\n",
       "      <td>1.0</td>\n",
       "      <td>3.0</td>\n",
       "      <td>1.0</td>\n",
       "      <td>1.0</td>\n",
       "      <td>0.0</td>\n",
       "      <td>0.0</td>\n",
       "      <td>1.0</td>\n",
       "      <td>1.0</td>\n",
       "      <td>1.0</td>\n",
       "      <td>0.0</td>\n",
       "      <td>1.0</td>\n",
       "      <td>1.0</td>\n",
       "      <td>0.0</td>\n",
       "      <td>1.0</td>\n",
       "      <td>7.0</td>\n",
       "      <td>2.0</td>\n",
       "      <td>3.0</td>\n",
       "      <td>7.0</td>\n",
       "      <td>2.0</td>\n",
       "      <td>3.0</td>\n",
       "      <td>4.0</td>\n",
       "      <td>1.0</td>\n",
       "      <td>1.0</td>\n",
       "      <td>6.0</td>\n",
       "      <td>2.0</td>\n",
       "      <td>2.0</td>\n",
       "      <td>5.0</td>\n",
       "      <td>1.0</td>\n",
       "      <td>2.0</td>\n",
       "      <td>4.0</td>\n",
       "      <td>1.0</td>\n",
       "      <td>1.0</td>\n",
       "      <td>4.0</td>\n",
       "      <td>1.0</td>\n",
       "      <td>1.0</td>\n",
       "      <td>4.0</td>\n",
       "      <td>1.0</td>\n",
       "      <td>1.0</td>\n",
       "      <td>4.0</td>\n",
       "      <td>1.0</td>\n",
       "      <td>1.0</td>\n",
       "      <td>2.0</td>\n",
       "      <td>2.0</td>\n",
       "      <td>0.0</td>\n",
       "      <td>0.0</td>\n",
       "      <td>1.0</td>\n",
       "      <td>3.0</td>\n",
       "      <td>3.0</td>\n",
       "      <td>1.0</td>\n",
       "      <td>3.0</td>\n",
       "      <td>2.0</td>\n",
       "      <td>2.0</td>\n",
       "      <td>1.0</td>\n",
       "      <td>0.0</td>\n",
       "      <td>0.0</td>\n",
       "      <td>2.0</td>\n",
       "      <td>2.0</td>\n",
       "    </tr>\n",
       "    <tr>\n",
       "      <th>...</th>\n",
       "      <td>...</td>\n",
       "      <td>...</td>\n",
       "      <td>...</td>\n",
       "      <td>...</td>\n",
       "      <td>...</td>\n",
       "      <td>...</td>\n",
       "      <td>...</td>\n",
       "      <td>...</td>\n",
       "      <td>...</td>\n",
       "      <td>...</td>\n",
       "      <td>...</td>\n",
       "      <td>...</td>\n",
       "      <td>...</td>\n",
       "      <td>...</td>\n",
       "      <td>...</td>\n",
       "      <td>...</td>\n",
       "      <td>...</td>\n",
       "      <td>...</td>\n",
       "      <td>...</td>\n",
       "      <td>...</td>\n",
       "      <td>...</td>\n",
       "      <td>...</td>\n",
       "      <td>...</td>\n",
       "      <td>...</td>\n",
       "      <td>...</td>\n",
       "      <td>...</td>\n",
       "      <td>...</td>\n",
       "      <td>...</td>\n",
       "      <td>...</td>\n",
       "      <td>...</td>\n",
       "      <td>...</td>\n",
       "      <td>...</td>\n",
       "      <td>...</td>\n",
       "      <td>...</td>\n",
       "      <td>...</td>\n",
       "      <td>...</td>\n",
       "      <td>...</td>\n",
       "      <td>...</td>\n",
       "      <td>...</td>\n",
       "      <td>...</td>\n",
       "      <td>...</td>\n",
       "      <td>...</td>\n",
       "      <td>...</td>\n",
       "      <td>...</td>\n",
       "      <td>...</td>\n",
       "      <td>...</td>\n",
       "      <td>...</td>\n",
       "      <td>...</td>\n",
       "      <td>...</td>\n",
       "      <td>...</td>\n",
       "      <td>...</td>\n",
       "      <td>...</td>\n",
       "      <td>...</td>\n",
       "      <td>...</td>\n",
       "      <td>...</td>\n",
       "      <td>...</td>\n",
       "      <td>...</td>\n",
       "      <td>...</td>\n",
       "      <td>...</td>\n",
       "      <td>...</td>\n",
       "      <td>...</td>\n",
       "      <td>...</td>\n",
       "      <td>...</td>\n",
       "      <td>...</td>\n",
       "      <td>...</td>\n",
       "      <td>...</td>\n",
       "      <td>...</td>\n",
       "      <td>...</td>\n",
       "      <td>...</td>\n",
       "      <td>...</td>\n",
       "      <td>...</td>\n",
       "      <td>...</td>\n",
       "      <td>...</td>\n",
       "      <td>...</td>\n",
       "      <td>...</td>\n",
       "      <td>...</td>\n",
       "      <td>...</td>\n",
       "      <td>...</td>\n",
       "      <td>...</td>\n",
       "      <td>...</td>\n",
       "      <td>...</td>\n",
       "    </tr>\n",
       "    <tr>\n",
       "      <th>144</th>\n",
       "      <td>south_EU</td>\n",
       "      <td>Greece</td>\n",
       "      <td>GR12315</td>\n",
       "      <td>4</td>\n",
       "      <td>1.0</td>\n",
       "      <td>2.0</td>\n",
       "      <td>3.0</td>\n",
       "      <td>NaN</td>\n",
       "      <td>NaN</td>\n",
       "      <td>NaN</td>\n",
       "      <td>NaN</td>\n",
       "      <td>NaN</td>\n",
       "      <td>2.0</td>\n",
       "      <td>50.0</td>\n",
       "      <td>NaN</td>\n",
       "      <td>NaN</td>\n",
       "      <td>NaN</td>\n",
       "      <td>1.0</td>\n",
       "      <td>1</td>\n",
       "      <td>22</td>\n",
       "      <td>0.0</td>\n",
       "      <td>NaN</td>\n",
       "      <td>1</td>\n",
       "      <td>2</td>\n",
       "      <td>NaN</td>\n",
       "      <td>NaN</td>\n",
       "      <td>NaN</td>\n",
       "      <td>0.0</td>\n",
       "      <td>1.0</td>\n",
       "      <td>0.0</td>\n",
       "      <td>1.0</td>\n",
       "      <td>0.0</td>\n",
       "      <td>1.0</td>\n",
       "      <td>0.0</td>\n",
       "      <td>1.0</td>\n",
       "      <td>1.0</td>\n",
       "      <td>0.0</td>\n",
       "      <td>1.0</td>\n",
       "      <td>4.0</td>\n",
       "      <td>1.0</td>\n",
       "      <td>1.0</td>\n",
       "      <td>7.0</td>\n",
       "      <td>2.0</td>\n",
       "      <td>3.0</td>\n",
       "      <td>4.0</td>\n",
       "      <td>1.0</td>\n",
       "      <td>1.0</td>\n",
       "      <td>6.0</td>\n",
       "      <td>2.0</td>\n",
       "      <td>2.0</td>\n",
       "      <td>7.0</td>\n",
       "      <td>2.0</td>\n",
       "      <td>3.0</td>\n",
       "      <td>7.0</td>\n",
       "      <td>2.0</td>\n",
       "      <td>3.0</td>\n",
       "      <td>6.0</td>\n",
       "      <td>2.0</td>\n",
       "      <td>2.0</td>\n",
       "      <td>2.0</td>\n",
       "      <td>1.0</td>\n",
       "      <td>1.0</td>\n",
       "      <td>2.0</td>\n",
       "      <td>1.0</td>\n",
       "      <td>1.0</td>\n",
       "      <td>2.0</td>\n",
       "      <td>1.0</td>\n",
       "      <td>0.0</td>\n",
       "      <td>0.0</td>\n",
       "      <td>1.0</td>\n",
       "      <td>3.0</td>\n",
       "      <td>NaN</td>\n",
       "      <td>NaN</td>\n",
       "      <td>2.0</td>\n",
       "      <td>2.0</td>\n",
       "      <td>NaN</td>\n",
       "      <td>NaN</td>\n",
       "      <td>NaN</td>\n",
       "      <td>NaN</td>\n",
       "      <td>NaN</td>\n",
       "      <td>1.0</td>\n",
       "    </tr>\n",
       "    <tr>\n",
       "      <th>145</th>\n",
       "      <td>south_EU</td>\n",
       "      <td>Greece</td>\n",
       "      <td>GR12241</td>\n",
       "      <td>3</td>\n",
       "      <td>1.0</td>\n",
       "      <td>NaN</td>\n",
       "      <td>3.0</td>\n",
       "      <td>NaN</td>\n",
       "      <td>NaN</td>\n",
       "      <td>NaN</td>\n",
       "      <td>NaN</td>\n",
       "      <td>NaN</td>\n",
       "      <td>1.0</td>\n",
       "      <td>100.0</td>\n",
       "      <td>NaN</td>\n",
       "      <td>NaN</td>\n",
       "      <td>NaN</td>\n",
       "      <td>1.0</td>\n",
       "      <td>1</td>\n",
       "      <td>23</td>\n",
       "      <td>0.0</td>\n",
       "      <td>NaN</td>\n",
       "      <td>1</td>\n",
       "      <td>3</td>\n",
       "      <td>1.0</td>\n",
       "      <td>3.0</td>\n",
       "      <td>1.0</td>\n",
       "      <td>0.0</td>\n",
       "      <td>1.0</td>\n",
       "      <td>0.0</td>\n",
       "      <td>1.0</td>\n",
       "      <td>0.0</td>\n",
       "      <td>0.0</td>\n",
       "      <td>1.0</td>\n",
       "      <td>2.0</td>\n",
       "      <td>1.0</td>\n",
       "      <td>0.0</td>\n",
       "      <td>1.0</td>\n",
       "      <td>NaN</td>\n",
       "      <td>NaN</td>\n",
       "      <td>NaN</td>\n",
       "      <td>5.0</td>\n",
       "      <td>1.0</td>\n",
       "      <td>2.0</td>\n",
       "      <td>NaN</td>\n",
       "      <td>NaN</td>\n",
       "      <td>NaN</td>\n",
       "      <td>5.0</td>\n",
       "      <td>1.0</td>\n",
       "      <td>2.0</td>\n",
       "      <td>6.0</td>\n",
       "      <td>2.0</td>\n",
       "      <td>2.0</td>\n",
       "      <td>5.0</td>\n",
       "      <td>1.0</td>\n",
       "      <td>2.0</td>\n",
       "      <td>5.0</td>\n",
       "      <td>1.0</td>\n",
       "      <td>2.0</td>\n",
       "      <td>1.0</td>\n",
       "      <td>1.0</td>\n",
       "      <td>1.0</td>\n",
       "      <td>1.0</td>\n",
       "      <td>1.0</td>\n",
       "      <td>1.0</td>\n",
       "      <td>2.0</td>\n",
       "      <td>3.0</td>\n",
       "      <td>0.0</td>\n",
       "      <td>0.0</td>\n",
       "      <td>1.0</td>\n",
       "      <td>3.0</td>\n",
       "      <td>2.0</td>\n",
       "      <td>1.0</td>\n",
       "      <td>3.0</td>\n",
       "      <td>2.0</td>\n",
       "      <td>NaN</td>\n",
       "      <td>0.0</td>\n",
       "      <td>1.0</td>\n",
       "      <td>0.0</td>\n",
       "      <td>2.0</td>\n",
       "      <td>1.0</td>\n",
       "    </tr>\n",
       "    <tr>\n",
       "      <th>146</th>\n",
       "      <td>south_EU</td>\n",
       "      <td>Greece</td>\n",
       "      <td>GR12209</td>\n",
       "      <td>2</td>\n",
       "      <td>1.0</td>\n",
       "      <td>3.0</td>\n",
       "      <td>5.0</td>\n",
       "      <td>NaN</td>\n",
       "      <td>NaN</td>\n",
       "      <td>NaN</td>\n",
       "      <td>NaN</td>\n",
       "      <td>NaN</td>\n",
       "      <td>4.0</td>\n",
       "      <td>50.0</td>\n",
       "      <td>NaN</td>\n",
       "      <td>NaN</td>\n",
       "      <td>NaN</td>\n",
       "      <td>0.0</td>\n",
       "      <td>1</td>\n",
       "      <td>16</td>\n",
       "      <td>0.0</td>\n",
       "      <td>NaN</td>\n",
       "      <td>1</td>\n",
       "      <td>3</td>\n",
       "      <td>NaN</td>\n",
       "      <td>NaN</td>\n",
       "      <td>NaN</td>\n",
       "      <td>1.0</td>\n",
       "      <td>0.0</td>\n",
       "      <td>0.0</td>\n",
       "      <td>1.0</td>\n",
       "      <td>1.0</td>\n",
       "      <td>1.0</td>\n",
       "      <td>1.0</td>\n",
       "      <td>3.0</td>\n",
       "      <td>1.0</td>\n",
       "      <td>0.0</td>\n",
       "      <td>1.0</td>\n",
       "      <td>4.0</td>\n",
       "      <td>1.0</td>\n",
       "      <td>1.0</td>\n",
       "      <td>7.0</td>\n",
       "      <td>2.0</td>\n",
       "      <td>3.0</td>\n",
       "      <td>4.0</td>\n",
       "      <td>1.0</td>\n",
       "      <td>1.0</td>\n",
       "      <td>7.0</td>\n",
       "      <td>2.0</td>\n",
       "      <td>3.0</td>\n",
       "      <td>7.0</td>\n",
       "      <td>2.0</td>\n",
       "      <td>3.0</td>\n",
       "      <td>7.0</td>\n",
       "      <td>2.0</td>\n",
       "      <td>3.0</td>\n",
       "      <td>5.0</td>\n",
       "      <td>1.0</td>\n",
       "      <td>2.0</td>\n",
       "      <td>3.0</td>\n",
       "      <td>1.0</td>\n",
       "      <td>1.0</td>\n",
       "      <td>2.0</td>\n",
       "      <td>1.0</td>\n",
       "      <td>1.0</td>\n",
       "      <td>2.0</td>\n",
       "      <td>2.0</td>\n",
       "      <td>1.0</td>\n",
       "      <td>0.0</td>\n",
       "      <td>0.0</td>\n",
       "      <td>1.0</td>\n",
       "      <td>NaN</td>\n",
       "      <td>NaN</td>\n",
       "      <td>3.0</td>\n",
       "      <td>2.0</td>\n",
       "      <td>NaN</td>\n",
       "      <td>NaN</td>\n",
       "      <td>NaN</td>\n",
       "      <td>NaN</td>\n",
       "      <td>NaN</td>\n",
       "      <td>1.0</td>\n",
       "    </tr>\n",
       "    <tr>\n",
       "      <th>147</th>\n",
       "      <td>south_EU</td>\n",
       "      <td>Greece</td>\n",
       "      <td>GR12125</td>\n",
       "      <td>3</td>\n",
       "      <td>1.0</td>\n",
       "      <td>2.0</td>\n",
       "      <td>3.0</td>\n",
       "      <td>NaN</td>\n",
       "      <td>NaN</td>\n",
       "      <td>NaN</td>\n",
       "      <td>NaN</td>\n",
       "      <td>NaN</td>\n",
       "      <td>3.0</td>\n",
       "      <td>100.0</td>\n",
       "      <td>NaN</td>\n",
       "      <td>NaN</td>\n",
       "      <td>NaN</td>\n",
       "      <td>1.0</td>\n",
       "      <td>1</td>\n",
       "      <td>22</td>\n",
       "      <td>0.0</td>\n",
       "      <td>NaN</td>\n",
       "      <td>1</td>\n",
       "      <td>3</td>\n",
       "      <td>NaN</td>\n",
       "      <td>NaN</td>\n",
       "      <td>NaN</td>\n",
       "      <td>0.0</td>\n",
       "      <td>1.0</td>\n",
       "      <td>0.0</td>\n",
       "      <td>1.0</td>\n",
       "      <td>0.0</td>\n",
       "      <td>0.0</td>\n",
       "      <td>1.0</td>\n",
       "      <td>2.0</td>\n",
       "      <td>1.0</td>\n",
       "      <td>0.0</td>\n",
       "      <td>1.0</td>\n",
       "      <td>5.0</td>\n",
       "      <td>1.0</td>\n",
       "      <td>2.0</td>\n",
       "      <td>5.0</td>\n",
       "      <td>1.0</td>\n",
       "      <td>2.0</td>\n",
       "      <td>2.0</td>\n",
       "      <td>1.0</td>\n",
       "      <td>1.0</td>\n",
       "      <td>6.0</td>\n",
       "      <td>2.0</td>\n",
       "      <td>2.0</td>\n",
       "      <td>6.0</td>\n",
       "      <td>2.0</td>\n",
       "      <td>2.0</td>\n",
       "      <td>7.0</td>\n",
       "      <td>2.0</td>\n",
       "      <td>3.0</td>\n",
       "      <td>5.0</td>\n",
       "      <td>1.0</td>\n",
       "      <td>2.0</td>\n",
       "      <td>3.0</td>\n",
       "      <td>1.0</td>\n",
       "      <td>1.0</td>\n",
       "      <td>2.0</td>\n",
       "      <td>1.0</td>\n",
       "      <td>1.0</td>\n",
       "      <td>2.0</td>\n",
       "      <td>3.0</td>\n",
       "      <td>0.0</td>\n",
       "      <td>0.0</td>\n",
       "      <td>1.0</td>\n",
       "      <td>3.0</td>\n",
       "      <td>2.0</td>\n",
       "      <td>NaN</td>\n",
       "      <td>2.0</td>\n",
       "      <td>2.0</td>\n",
       "      <td>NaN</td>\n",
       "      <td>NaN</td>\n",
       "      <td>NaN</td>\n",
       "      <td>NaN</td>\n",
       "      <td>1.0</td>\n",
       "      <td>1.0</td>\n",
       "    </tr>\n",
       "    <tr>\n",
       "      <th>148</th>\n",
       "      <td>south_EU</td>\n",
       "      <td>Greece</td>\n",
       "      <td>GR11931</td>\n",
       "      <td>2</td>\n",
       "      <td>1.0</td>\n",
       "      <td>3.0</td>\n",
       "      <td>5.0</td>\n",
       "      <td>NaN</td>\n",
       "      <td>NaN</td>\n",
       "      <td>NaN</td>\n",
       "      <td>NaN</td>\n",
       "      <td>NaN</td>\n",
       "      <td>2.0</td>\n",
       "      <td>40.0</td>\n",
       "      <td>NaN</td>\n",
       "      <td>NaN</td>\n",
       "      <td>NaN</td>\n",
       "      <td>1.0</td>\n",
       "      <td>1</td>\n",
       "      <td>18</td>\n",
       "      <td>1.0</td>\n",
       "      <td>NaN</td>\n",
       "      <td>1</td>\n",
       "      <td>2</td>\n",
       "      <td>1.0</td>\n",
       "      <td>3.0</td>\n",
       "      <td>1.0</td>\n",
       "      <td>0.0</td>\n",
       "      <td>1.0</td>\n",
       "      <td>0.0</td>\n",
       "      <td>1.0</td>\n",
       "      <td>1.0</td>\n",
       "      <td>1.0</td>\n",
       "      <td>1.0</td>\n",
       "      <td>3.0</td>\n",
       "      <td>1.0</td>\n",
       "      <td>0.0</td>\n",
       "      <td>1.0</td>\n",
       "      <td>4.0</td>\n",
       "      <td>1.0</td>\n",
       "      <td>1.0</td>\n",
       "      <td>6.0</td>\n",
       "      <td>2.0</td>\n",
       "      <td>2.0</td>\n",
       "      <td>5.0</td>\n",
       "      <td>1.0</td>\n",
       "      <td>2.0</td>\n",
       "      <td>7.0</td>\n",
       "      <td>2.0</td>\n",
       "      <td>3.0</td>\n",
       "      <td>6.0</td>\n",
       "      <td>2.0</td>\n",
       "      <td>2.0</td>\n",
       "      <td>5.0</td>\n",
       "      <td>1.0</td>\n",
       "      <td>2.0</td>\n",
       "      <td>4.0</td>\n",
       "      <td>1.0</td>\n",
       "      <td>1.0</td>\n",
       "      <td>4.0</td>\n",
       "      <td>1.0</td>\n",
       "      <td>1.0</td>\n",
       "      <td>4.0</td>\n",
       "      <td>1.0</td>\n",
       "      <td>1.0</td>\n",
       "      <td>2.0</td>\n",
       "      <td>3.0</td>\n",
       "      <td>0.0</td>\n",
       "      <td>0.0</td>\n",
       "      <td>1.0</td>\n",
       "      <td>3.0</td>\n",
       "      <td>3.0</td>\n",
       "      <td>1.0</td>\n",
       "      <td>2.0</td>\n",
       "      <td>2.0</td>\n",
       "      <td>1.0</td>\n",
       "      <td>0.0</td>\n",
       "      <td>1.0</td>\n",
       "      <td>0.0</td>\n",
       "      <td>2.0</td>\n",
       "      <td>1.0</td>\n",
       "    </tr>\n",
       "  </tbody>\n",
       "</table>\n",
       "<p>149 rows × 81 columns</p>\n",
       "</div>"
      ],
      "text/plain": [
       "       Region Country  Subject  Age_Cat  Gender_1male  Degree_Cat  \\\n",
       "0    south_EU   Italy   ITALY1        4           1.0         1.0   \n",
       "1    south_EU   Italy   ITALY2        4           1.0         2.0   \n",
       "2    south_EU   Italy   ITALY3        2           1.0         2.0   \n",
       "3    south_EU   Italy   ITALY4        2           1.0         2.0   \n",
       "4    south_EU   Italy   ITALY5        2           1.0         2.0   \n",
       "..        ...     ...      ...      ...           ...         ...   \n",
       "144  south_EU  Greece  GR12315        4           1.0         2.0   \n",
       "145  south_EU  Greece  GR12241        3           1.0         NaN   \n",
       "146  south_EU  Greece  GR12209        2           1.0         3.0   \n",
       "147  south_EU  Greece  GR12125        3           1.0         2.0   \n",
       "148  south_EU  Greece  GR11931        2           1.0         3.0   \n",
       "\n",
       "     Farm_size_Cat  ProductionUse_selling  Farm_type_Conventional  \\\n",
       "0              5.0                    1.0                     1.0   \n",
       "1              4.0                    1.0                     1.0   \n",
       "2              5.0                    1.0                     1.0   \n",
       "3              4.0                    1.0                     0.0   \n",
       "4              5.0                    1.0                     0.0   \n",
       "..             ...                    ...                     ...   \n",
       "144            3.0                    NaN                     NaN   \n",
       "145            3.0                    NaN                     NaN   \n",
       "146            5.0                    NaN                     NaN   \n",
       "147            3.0                    NaN                     NaN   \n",
       "148            5.0                    NaN                     NaN   \n",
       "\n",
       "     Farm_type_Intergrated  Farm_type_Organic  Farm_type_Biodynamic  \\\n",
       "0                      1.0                0.0                   0.0   \n",
       "1                      0.0                0.0                   0.0   \n",
       "2                      0.0                0.0                   0.0   \n",
       "3                      0.0                0.0                   0.0   \n",
       "4                      1.0                0.0                   0.0   \n",
       "..                     ...                ...                   ...   \n",
       "144                    NaN                NaN                   NaN   \n",
       "145                    NaN                NaN                   NaN   \n",
       "146                    NaN                NaN                   NaN   \n",
       "147                    NaN                NaN                   NaN   \n",
       "148                    NaN                NaN                   NaN   \n",
       "\n",
       "     Income_Cat  Proportion_of_income  Production_level_1to7  \\\n",
       "0           NaN                   0.0                    7.0   \n",
       "1           2.0                   0.0                    4.0   \n",
       "2           2.0                 100.0                    5.0   \n",
       "3           5.0                  90.0                    5.0   \n",
       "4           5.0                   0.0                    4.0   \n",
       "..          ...                   ...                    ...   \n",
       "144         2.0                  50.0                    NaN   \n",
       "145         1.0                 100.0                    NaN   \n",
       "146         4.0                  50.0                    NaN   \n",
       "147         3.0                 100.0                    NaN   \n",
       "148         2.0                  40.0                    NaN   \n",
       "\n",
       "     Production_level_1to3  Crop_Group_Cat  Legislative_requirements  \\\n",
       "0                      3.0             1.0                       1.0   \n",
       "1                      2.0             2.0                       NaN   \n",
       "2                      3.0             1.0                       1.0   \n",
       "3                      3.0             1.0                       1.0   \n",
       "4                      2.0             2.0                       1.0   \n",
       "..                     ...             ...                       ...   \n",
       "144                    NaN             NaN                       1.0   \n",
       "145                    NaN             NaN                       1.0   \n",
       "146                    NaN             NaN                       0.0   \n",
       "147                    NaN             NaN                       1.0   \n",
       "148                    NaN             NaN                       1.0   \n",
       "\n",
       "     Own_phone  Years_own_phone  Use_DSS_App  Agricultural_app_use_Cat  \\\n",
       "0            1                0          1.0                       2.0   \n",
       "1            1                0          NaN                       NaN   \n",
       "2            1               10          1.0                       2.0   \n",
       "3            1               10          0.0                       NaN   \n",
       "4            1               10          1.0                       3.0   \n",
       "..         ...              ...          ...                       ...   \n",
       "144          1               22          0.0                       NaN   \n",
       "145          1               23          0.0                       NaN   \n",
       "146          1               16          0.0                       NaN   \n",
       "147          1               22          0.0                       NaN   \n",
       "148          1               18          1.0                       NaN   \n",
       "\n",
       "     Computer_at_home  Speed_internet_Cat  Already_used_DSS  \\\n",
       "0                   1                   3               0.0   \n",
       "1                   1                   2               NaN   \n",
       "2                   1                   2               0.0   \n",
       "3                   1                   2               0.0   \n",
       "4                   1                   2               1.0   \n",
       "..                ...                 ...               ...   \n",
       "144                 1                   2               NaN   \n",
       "145                 1                   3               1.0   \n",
       "146                 1                   3               NaN   \n",
       "147                 1                   3               NaN   \n",
       "148                 1                   2               1.0   \n",
       "\n",
       "     How_do_you_access_DSS_Cat  Potencial_user_of_platform  \\\n",
       "0                          1.0                         0.0   \n",
       "1                          NaN                         NaN   \n",
       "2                          1.0                         0.0   \n",
       "3                          1.0                         0.0   \n",
       "4                          3.0                         1.0   \n",
       "..                         ...                         ...   \n",
       "144                        NaN                         NaN   \n",
       "145                        3.0                         1.0   \n",
       "146                        NaN                         NaN   \n",
       "147                        NaN                         NaN   \n",
       "148                        3.0                         1.0   \n",
       "\n",
       "     Prefered_access_Phone  Prefered_access_PC  Prefered_access_Advisor  \\\n",
       "0                      NaN                 NaN                      NaN   \n",
       "1                      NaN                 NaN                      NaN   \n",
       "2                      1.0                 1.0                      1.0   \n",
       "3                      1.0                 0.0                      0.0   \n",
       "4                      1.0                 0.0                      0.0   \n",
       "..                     ...                 ...                      ...   \n",
       "144                    0.0                 1.0                      0.0   \n",
       "145                    0.0                 1.0                      0.0   \n",
       "146                    1.0                 0.0                      0.0   \n",
       "147                    0.0                 1.0                      0.0   \n",
       "148                    0.0                 1.0                      0.0   \n",
       "\n",
       "     Willing_to_try_new_products_Cat  Price_important_factor  \\\n",
       "0                                2.0                     0.0   \n",
       "1                                NaN                     NaN   \n",
       "2                                1.0                     1.0   \n",
       "3                                1.0                     1.0   \n",
       "4                                1.0                     1.0   \n",
       "..                               ...                     ...   \n",
       "144                              1.0                     0.0   \n",
       "145                              1.0                     0.0   \n",
       "146                              1.0                     1.0   \n",
       "147                              1.0                     0.0   \n",
       "148                              1.0                     1.0   \n",
       "\n",
       "     DSS_are_more_suited_for_ShortTermDecision_1  \\\n",
       "0                                            NaN   \n",
       "1                                            NaN   \n",
       "2                                            1.0   \n",
       "3                                            0.0   \n",
       "4                                            1.0   \n",
       "..                                           ...   \n",
       "144                                          1.0   \n",
       "145                                          0.0   \n",
       "146                                          1.0   \n",
       "147                                          0.0   \n",
       "148                                          1.0   \n",
       "\n",
       "     DSS_are_more_suited_for_LongTermDecision_2  \\\n",
       "0                                           NaN   \n",
       "1                                           NaN   \n",
       "2                                           0.0   \n",
       "3                                           1.0   \n",
       "4                                           0.0   \n",
       "..                                          ...   \n",
       "144                                         0.0   \n",
       "145                                         1.0   \n",
       "146                                         1.0   \n",
       "147                                         1.0   \n",
       "148                                         1.0   \n",
       "\n",
       "     DSS_for_ShortLongTermBothDecision_Cat_NO  Prefered_type_Web_1  \\\n",
       "0                                         NaN                  NaN   \n",
       "1                                         NaN                  NaN   \n",
       "2                                         1.0                  1.0   \n",
       "3                                         2.0                  0.0   \n",
       "4                                         1.0                  1.0   \n",
       "..                                        ...                  ...   \n",
       "144                                       1.0                  1.0   \n",
       "145                                       2.0                  1.0   \n",
       "146                                       3.0                  1.0   \n",
       "147                                       2.0                  1.0   \n",
       "148                                       3.0                  1.0   \n",
       "\n",
       "     Prefered_type_Software_2  Prefered_type_Web_Software_Both_Cat_NO  \\\n",
       "0                         NaN                                     NaN   \n",
       "1                         NaN                                     NaN   \n",
       "2                         0.0                                     1.0   \n",
       "3                         1.0                                     2.0   \n",
       "4                         0.0                                     1.0   \n",
       "..                        ...                                     ...   \n",
       "144                       0.0                                     1.0   \n",
       "145                       0.0                                     1.0   \n",
       "146                       0.0                                     1.0   \n",
       "147                       0.0                                     1.0   \n",
       "148                       0.0                                     1.0   \n",
       "\n",
       "     Importance_of_easy_to_use_1to7  Importance_of_easy_to_use_1to2  \\\n",
       "0                               NaN                             NaN   \n",
       "1                               NaN                             NaN   \n",
       "2                               7.0                             2.0   \n",
       "3                               7.0                             2.0   \n",
       "4                               7.0                             2.0   \n",
       "..                              ...                             ...   \n",
       "144                             4.0                             1.0   \n",
       "145                             NaN                             NaN   \n",
       "146                             4.0                             1.0   \n",
       "147                             5.0                             1.0   \n",
       "148                             4.0                             1.0   \n",
       "\n",
       "     Importance_of_easy_to_use_1to3  Importance_of_efficient_1to7  \\\n",
       "0                               NaN                           NaN   \n",
       "1                               NaN                           NaN   \n",
       "2                               3.0                           7.0   \n",
       "3                               3.0                           6.0   \n",
       "4                               3.0                           7.0   \n",
       "..                              ...                           ...   \n",
       "144                             1.0                           7.0   \n",
       "145                             NaN                           5.0   \n",
       "146                             1.0                           7.0   \n",
       "147                             2.0                           5.0   \n",
       "148                             1.0                           6.0   \n",
       "\n",
       "     Importance_of_efficient_1to2  Importance_of_efficient_1to3  \\\n",
       "0                             NaN                           NaN   \n",
       "1                             NaN                           NaN   \n",
       "2                             2.0                           3.0   \n",
       "3                             2.0                           2.0   \n",
       "4                             2.0                           3.0   \n",
       "..                            ...                           ...   \n",
       "144                           2.0                           3.0   \n",
       "145                           1.0                           2.0   \n",
       "146                           2.0                           3.0   \n",
       "147                           1.0                           2.0   \n",
       "148                           2.0                           2.0   \n",
       "\n",
       "     Importance_low_price_1to7  Importance_low_price_1to2  \\\n",
       "0                          NaN                        NaN   \n",
       "1                          NaN                        NaN   \n",
       "2                          5.0                        1.0   \n",
       "3                          4.0                        1.0   \n",
       "4                          4.0                        1.0   \n",
       "..                         ...                        ...   \n",
       "144                        4.0                        1.0   \n",
       "145                        NaN                        NaN   \n",
       "146                        4.0                        1.0   \n",
       "147                        2.0                        1.0   \n",
       "148                        5.0                        1.0   \n",
       "\n",
       "     Importance_low_price_1to3  Importance_polyvalence_1to7  \\\n",
       "0                          NaN                          NaN   \n",
       "1                          NaN                          NaN   \n",
       "2                          2.0                          7.0   \n",
       "3                          1.0                          6.0   \n",
       "4                          1.0                          6.0   \n",
       "..                         ...                          ...   \n",
       "144                        1.0                          6.0   \n",
       "145                        NaN                          5.0   \n",
       "146                        1.0                          7.0   \n",
       "147                        1.0                          6.0   \n",
       "148                        2.0                          7.0   \n",
       "\n",
       "     Importance_polyvalence_1to2  Importance_polyvalence_1to3  \\\n",
       "0                            NaN                          NaN   \n",
       "1                            NaN                          NaN   \n",
       "2                            2.0                          3.0   \n",
       "3                            2.0                          2.0   \n",
       "4                            2.0                          2.0   \n",
       "..                           ...                          ...   \n",
       "144                          2.0                          2.0   \n",
       "145                          1.0                          2.0   \n",
       "146                          2.0                          3.0   \n",
       "147                          2.0                          2.0   \n",
       "148                          2.0                          3.0   \n",
       "\n",
       "     Enjoy_using_new_techs_1to7  Enjoy_using_new_techs_1to2  \\\n",
       "0                           NaN                         NaN   \n",
       "1                           7.0                         2.0   \n",
       "2                           4.0                         1.0   \n",
       "3                           6.0                         2.0   \n",
       "4                           5.0                         1.0   \n",
       "..                          ...                         ...   \n",
       "144                         7.0                         2.0   \n",
       "145                         6.0                         2.0   \n",
       "146                         7.0                         2.0   \n",
       "147                         6.0                         2.0   \n",
       "148                         6.0                         2.0   \n",
       "\n",
       "     Enjoy_using_new_techs_1to3  Appreciate_change_1to7  \\\n",
       "0                           NaN                     7.0   \n",
       "1                           3.0                     7.0   \n",
       "2                           1.0                     4.0   \n",
       "3                           2.0                     6.0   \n",
       "4                           2.0                     4.0   \n",
       "..                          ...                     ...   \n",
       "144                         3.0                     7.0   \n",
       "145                         2.0                     5.0   \n",
       "146                         3.0                     7.0   \n",
       "147                         2.0                     7.0   \n",
       "148                         2.0                     5.0   \n",
       "\n",
       "     Appreciate_change_1to2  Appreciate_change_1to3  Trust_in_DSS_1to7  \\\n",
       "0                       2.0                     3.0                1.0   \n",
       "1                       2.0                     3.0                6.0   \n",
       "2                       1.0                     1.0                5.0   \n",
       "3                       2.0                     2.0                4.0   \n",
       "4                       1.0                     1.0                4.0   \n",
       "..                      ...                     ...                ...   \n",
       "144                     2.0                     3.0                6.0   \n",
       "145                     1.0                     2.0                5.0   \n",
       "146                     2.0                     3.0                5.0   \n",
       "147                     2.0                     3.0                5.0   \n",
       "148                     1.0                     2.0                4.0   \n",
       "\n",
       "     Trust_in_DSS_1to2  Trust_in_DSS_1to3  Trust_in_colleague_advice_1to7  \\\n",
       "0                  1.0                1.0                             2.0   \n",
       "1                  2.0                2.0                             2.0   \n",
       "2                  1.0                2.0                             5.0   \n",
       "3                  1.0                1.0                             4.0   \n",
       "4                  1.0                1.0                             4.0   \n",
       "..                 ...                ...                             ...   \n",
       "144                2.0                2.0                             2.0   \n",
       "145                1.0                2.0                             1.0   \n",
       "146                1.0                2.0                             3.0   \n",
       "147                1.0                2.0                             3.0   \n",
       "148                1.0                1.0                             4.0   \n",
       "\n",
       "     Trust_in_colleague_advice_1to2  Trust_in_colleague_advice_1to3  \\\n",
       "0                               1.0                             1.0   \n",
       "1                               1.0                             1.0   \n",
       "2                               1.0                             2.0   \n",
       "3                               1.0                             1.0   \n",
       "4                               1.0                             1.0   \n",
       "..                              ...                             ...   \n",
       "144                             1.0                             1.0   \n",
       "145                             1.0                             1.0   \n",
       "146                             1.0                             1.0   \n",
       "147                             1.0                             1.0   \n",
       "148                             1.0                             1.0   \n",
       "\n",
       "     Trust_advice_friend_1to7  Trust_advice_friend_1to2  \\\n",
       "0                         2.0                       1.0   \n",
       "1                         4.0                       1.0   \n",
       "2                         5.0                       1.0   \n",
       "3                         4.0                       1.0   \n",
       "4                         4.0                       1.0   \n",
       "..                        ...                       ...   \n",
       "144                       2.0                       1.0   \n",
       "145                       1.0                       1.0   \n",
       "146                       2.0                       1.0   \n",
       "147                       2.0                       1.0   \n",
       "148                       4.0                       1.0   \n",
       "\n",
       "     Trust_advice_friend_1to3  Need_IT_teaching_Cat  \\\n",
       "0                         1.0                   1.0   \n",
       "1                         1.0                   2.0   \n",
       "2                         2.0                   2.0   \n",
       "3                         1.0                   2.0   \n",
       "4                         1.0                   2.0   \n",
       "..                        ...                   ...   \n",
       "144                       1.0                   2.0   \n",
       "145                       1.0                   2.0   \n",
       "146                       1.0                   2.0   \n",
       "147                       1.0                   2.0   \n",
       "148                       1.0                   2.0   \n",
       "\n",
       "     DSS_can_improve_your_productivity_Cat  CL_Output_preference_Graphical_1  \\\n",
       "0                                      1.0                               NaN   \n",
       "1                                      2.0                               NaN   \n",
       "2                                      2.0                               0.0   \n",
       "3                                      2.0                               0.0   \n",
       "4                                      2.0                               0.0   \n",
       "..                                     ...                               ...   \n",
       "144                                    1.0                               0.0   \n",
       "145                                    3.0                               0.0   \n",
       "146                                    2.0                               1.0   \n",
       "147                                    3.0                               0.0   \n",
       "148                                    3.0                               0.0   \n",
       "\n",
       "     CL_Output_preference_Textual_2  CL_Output_preference_Both_3  \\\n",
       "0                               NaN                          NaN   \n",
       "1                               NaN                          NaN   \n",
       "2                               0.0                          1.0   \n",
       "3                               0.0                          1.0   \n",
       "4                               0.0                          1.0   \n",
       "..                              ...                          ...   \n",
       "144                             0.0                          1.0   \n",
       "145                             0.0                          1.0   \n",
       "146                             0.0                          0.0   \n",
       "147                             0.0                          1.0   \n",
       "148                             0.0                          1.0   \n",
       "\n",
       "     Output_preference_Cat_NO  Share_DSS_exp_with_colleague_Cat  \\\n",
       "0                         NaN                               2.0   \n",
       "1                         NaN                               2.0   \n",
       "2                         3.0                               1.0   \n",
       "3                         3.0                               NaN   \n",
       "4                         3.0                               3.0   \n",
       "..                        ...                               ...   \n",
       "144                       3.0                               NaN   \n",
       "145                       3.0                               2.0   \n",
       "146                       1.0                               NaN   \n",
       "147                       3.0                               2.0   \n",
       "148                       3.0                               3.0   \n",
       "\n",
       "     Use_DSS_from_trusted_sources_Always  WTP_for_DSS_Cat  \\\n",
       "0                                    NaN              1.0   \n",
       "1                                    NaN              1.0   \n",
       "2                                    NaN              2.0   \n",
       "3                                    NaN              3.0   \n",
       "4                                    1.0              3.0   \n",
       "..                                   ...              ...   \n",
       "144                                  NaN              2.0   \n",
       "145                                  1.0              3.0   \n",
       "146                                  NaN              3.0   \n",
       "147                                  NaN              2.0   \n",
       "148                                  1.0              2.0   \n",
       "\n",
       "     DSS_must_be_tailored_for_your_farm_Cat  Use_same_DSS_than_advisor_Cat  \\\n",
       "0                                       1.0                            NaN   \n",
       "1                                       2.0                            NaN   \n",
       "2                                       2.0                            1.0   \n",
       "3                                       2.0                            NaN   \n",
       "4                                       2.0                            2.0   \n",
       "..                                      ...                            ...   \n",
       "144                                     2.0                            NaN   \n",
       "145                                     2.0                            NaN   \n",
       "146                                     2.0                            NaN   \n",
       "147                                     2.0                            NaN   \n",
       "148                                     2.0                            1.0   \n",
       "\n",
       "     Age_of_DSS_user_at_the_farm_1  Age_of_DSS_user_at_the_farm_2  \\\n",
       "0                              NaN                            NaN   \n",
       "1                              0.0                            1.0   \n",
       "2                              NaN                            NaN   \n",
       "3                              1.0                            0.0   \n",
       "4                              1.0                            0.0   \n",
       "..                             ...                            ...   \n",
       "144                            NaN                            NaN   \n",
       "145                            0.0                            1.0   \n",
       "146                            NaN                            NaN   \n",
       "147                            NaN                            NaN   \n",
       "148                            0.0                            1.0   \n",
       "\n",
       "     Age_of_DSS_user_at_the_farm_3  Marketing_info_about_DSS_Cat  \\\n",
       "0                              NaN                           1.0   \n",
       "1                              0.0                           2.0   \n",
       "2                              NaN                           2.0   \n",
       "3                              0.0                           NaN   \n",
       "4                              0.0                           2.0   \n",
       "..                             ...                           ...   \n",
       "144                            NaN                           NaN   \n",
       "145                            0.0                           2.0   \n",
       "146                            NaN                           NaN   \n",
       "147                            NaN                           1.0   \n",
       "148                            0.0                           2.0   \n",
       "\n",
       "     Manufacturer_demo_of_DSS_Cat  \n",
       "0                             1.0  \n",
       "1                             2.0  \n",
       "2                             2.0  \n",
       "3                             1.0  \n",
       "4                             2.0  \n",
       "..                            ...  \n",
       "144                           1.0  \n",
       "145                           1.0  \n",
       "146                           1.0  \n",
       "147                           1.0  \n",
       "148                           1.0  \n",
       "\n",
       "[149 rows x 81 columns]"
      ]
     },
     "execution_count": 6,
     "metadata": {},
     "output_type": "execute_result"
    }
   ],
   "source": [
    "df"
   ]
  },
  {
   "cell_type": "code",
   "execution_count": 7,
   "metadata": {},
   "outputs": [
    {
     "name": "stdout",
     "output_type": "stream",
     "text": [
      "<class 'pandas.core.frame.DataFrame'>\n",
      "RangeIndex: 149 entries, 0 to 148\n",
      "Data columns (total 81 columns):\n",
      " #   Column                                       Non-Null Count  Dtype  \n",
      "---  ------                                       --------------  -----  \n",
      " 0   Region                                       149 non-null    object \n",
      " 1   Country                                      149 non-null    object \n",
      " 2   Subject                                      149 non-null    object \n",
      " 3   Age_Cat                                      149 non-null    int64  \n",
      " 4   Gender_1male                                 148 non-null    float64\n",
      " 5   Degree_Cat                                   144 non-null    float64\n",
      " 6   Farm_size_Cat                                148 non-null    float64\n",
      " 7   ProductionUse_selling                        117 non-null    float64\n",
      " 8   Farm_type_Conventional                       116 non-null    float64\n",
      " 9   Farm_type_Intergrated                        116 non-null    float64\n",
      " 10  Farm_type_Organic                            116 non-null    float64\n",
      " 11  Farm_type_Biodynamic                         116 non-null    float64\n",
      " 12  Income_Cat                                   144 non-null    float64\n",
      " 13  Proportion_of_income                         145 non-null    float64\n",
      " 14  Production_level_1to7                        107 non-null    float64\n",
      " 15  Production_level_1to3                        107 non-null    float64\n",
      " 16  Crop_Group_Cat                               117 non-null    float64\n",
      " 17  Legislative_requirements                     138 non-null    float64\n",
      " 18  Own_phone                                    149 non-null    int64  \n",
      " 19  Years_own_phone                              149 non-null    int64  \n",
      " 20  Use_DSS_App                                  145 non-null    float64\n",
      " 21  Agricultural_app_use_Cat                     97 non-null     float64\n",
      " 22  Computer_at_home                             149 non-null    int64  \n",
      " 23  Speed_internet_Cat                           149 non-null    int64  \n",
      " 24  Already_used_DSS                             134 non-null    float64\n",
      " 25  How_do_you_access_DSS_Cat                    134 non-null    float64\n",
      " 26  Potencial_user_of_platform                   134 non-null    float64\n",
      " 27  Prefered_access_Phone                        134 non-null    float64\n",
      " 28  Prefered_access_PC                           134 non-null    float64\n",
      " 29  Prefered_access_Advisor                      134 non-null    float64\n",
      " 30  Willing_to_try_new_products_Cat              143 non-null    float64\n",
      " 31  Price_important_factor                       146 non-null    float64\n",
      " 32  DSS_are_more_suited_for_ShortTermDecision_1  142 non-null    float64\n",
      " 33  DSS_are_more_suited_for_LongTermDecision_2   142 non-null    float64\n",
      " 34  DSS_for_ShortLongTermBothDecision_Cat_NO     142 non-null    float64\n",
      " 35  Prefered_type_Web_1                          137 non-null    float64\n",
      " 36  Prefered_type_Software_2                     137 non-null    float64\n",
      " 37  Prefered_type_Web_Software_Both_Cat_NO       137 non-null    float64\n",
      " 38  Importance_of_easy_to_use_1to7               140 non-null    float64\n",
      " 39  Importance_of_easy_to_use_1to2               140 non-null    float64\n",
      " 40  Importance_of_easy_to_use_1to3               140 non-null    float64\n",
      " 41  Importance_of_efficient_1to7                 142 non-null    float64\n",
      " 42  Importance_of_efficient_1to2                 142 non-null    float64\n",
      " 43  Importance_of_efficient_1to3                 142 non-null    float64\n",
      " 44  Importance_low_price_1to7                    136 non-null    float64\n",
      " 45  Importance_low_price_1to2                    136 non-null    float64\n",
      " 46  Importance_low_price_1to3                    136 non-null    float64\n",
      " 47  Importance_polyvalence_1to7                  136 non-null    float64\n",
      " 48  Importance_polyvalence_1to2                  136 non-null    float64\n",
      " 49  Importance_polyvalence_1to3                  136 non-null    float64\n",
      " 50  Enjoy_using_new_techs_1to7                   147 non-null    float64\n",
      " 51  Enjoy_using_new_techs_1to2                   147 non-null    float64\n",
      " 52  Enjoy_using_new_techs_1to3                   147 non-null    float64\n",
      " 53  Appreciate_change_1to7                       148 non-null    float64\n",
      " 54  Appreciate_change_1to2                       148 non-null    float64\n",
      " 55  Appreciate_change_1to3                       148 non-null    float64\n",
      " 56  Trust_in_DSS_1to7                            148 non-null    float64\n",
      " 57  Trust_in_DSS_1to2                            148 non-null    float64\n",
      " 58  Trust_in_DSS_1to3                            148 non-null    float64\n",
      " 59  Trust_in_colleague_advice_1to7               148 non-null    float64\n",
      " 60  Trust_in_colleague_advice_1to2               148 non-null    float64\n",
      " 61  Trust_in_colleague_advice_1to3               148 non-null    float64\n",
      " 62  Trust_advice_friend_1to7                     147 non-null    float64\n",
      " 63  Trust_advice_friend_1to2                     147 non-null    float64\n",
      " 64  Trust_advice_friend_1to3                     147 non-null    float64\n",
      " 65  Need_IT_teaching_Cat                         147 non-null    float64\n",
      " 66  DSS_can_improve_your_productivity_Cat        147 non-null    float64\n",
      " 67  CL_Output_preference_Graphical_1             143 non-null    float64\n",
      " 68  CL_Output_preference_Textual_2               143 non-null    float64\n",
      " 69  CL_Output_preference_Both_3                  143 non-null    float64\n",
      " 70  Output_preference_Cat_NO                     143 non-null    float64\n",
      " 71  Share_DSS_exp_with_colleague_Cat             136 non-null    float64\n",
      " 72  Use_DSS_from_trusted_sources_Always          118 non-null    float64\n",
      " 73  WTP_for_DSS_Cat                              146 non-null    float64\n",
      " 74  DSS_must_be_tailored_for_your_farm_Cat       146 non-null    float64\n",
      " 75  Use_same_DSS_than_advisor_Cat                109 non-null    float64\n",
      " 76  Age_of_DSS_user_at_the_farm_1                118 non-null    float64\n",
      " 77  Age_of_DSS_user_at_the_farm_2                118 non-null    float64\n",
      " 78  Age_of_DSS_user_at_the_farm_3                118 non-null    float64\n",
      " 79  Marketing_info_about_DSS_Cat                 127 non-null    float64\n",
      " 80  Manufacturer_demo_of_DSS_Cat                 143 non-null    float64\n",
      "dtypes: float64(73), int64(5), object(3)\n",
      "memory usage: 94.4+ KB\n"
     ]
    }
   ],
   "source": [
    "df.info()"
   ]
  },
  {
   "cell_type": "code",
   "execution_count": 8,
   "metadata": {
    "executionInfo": {
     "elapsed": 2088,
     "status": "ok",
     "timestamp": 1618570862024,
     "user": {
      "displayName": "Martin Marzidovsek",
      "photoUrl": "https://lh3.googleusercontent.com/a-/AOh14GhXbFh589XGiI6oB78rtIMBiCa5tel2SF_97PQ1fA=s64",
      "userId": "00159942044512018365"
     },
     "user_tz": -120
    },
    "id": "1BwwIb_nqyKm"
   },
   "outputs": [],
   "source": [
    "# Remove duplicate features and \"Subject\" feature.\n",
    "df= df.drop([\"Subject\", \"Production_level_1to7\", \"DSS_for_ShortLongTermBothDecision_Cat_NO\", \"Prefered_type_Web_Software_Both_Cat_NO\", \n",
    "            \"Importance_of_easy_to_use_1to7\", \"Importance_of_easy_to_use_1to2\", \"Importance_of_efficient_1to7\", \"Importance_of_efficient_1to2\", \n",
    "            \"Importance_low_price_1to7\", \"Importance_low_price_1to2\", \"Importance_polyvalence_1to7\", \"Importance_polyvalence_1to2\", \n",
    "            \"Enjoy_using_new_techs_1to7\", \"Enjoy_using_new_techs_1to2\", \"Appreciate_change_1to7\", \"Appreciate_change_1to2\",\n",
    "            \"Trust_in_DSS_1to7\", \"Trust_in_DSS_1to2\", \"Trust_in_colleague_advice_1to7\", \"Trust_in_colleague_advice_1to2\",\n",
    "            \"Trust_advice_friend_1to7\", \"Trust_advice_friend_1to2\", \"Output_preference_Cat_NO\"], axis=1)"
   ]
  },
  {
   "cell_type": "code",
   "execution_count": 9,
   "metadata": {
    "colab": {
     "base_uri": "https://localhost:8080/"
    },
    "executionInfo": {
     "elapsed": 2067,
     "status": "ok",
     "timestamp": 1618570862024,
     "user": {
      "displayName": "Martin Marzidovsek",
      "photoUrl": "https://lh3.googleusercontent.com/a-/AOh14GhXbFh589XGiI6oB78rtIMBiCa5tel2SF_97PQ1fA=s64",
      "userId": "00159942044512018365"
     },
     "user_tz": -120
    },
    "id": "OzqvgdFqkdJ-",
    "outputId": "9159c149-18a8-4037-9acf-4e1e8bc92f8f"
   },
   "outputs": [
    {
     "data": {
      "text/plain": [
       "(149, 58)"
      ]
     },
     "execution_count": 9,
     "metadata": {},
     "output_type": "execute_result"
    }
   ],
   "source": [
    "df.shape"
   ]
  },
  {
   "cell_type": "code",
   "execution_count": 10,
   "metadata": {},
   "outputs": [
    {
     "data": {
      "text/html": [
       "<div>\n",
       "<style scoped>\n",
       "    .dataframe tbody tr th:only-of-type {\n",
       "        vertical-align: middle;\n",
       "    }\n",
       "\n",
       "    .dataframe tbody tr th {\n",
       "        vertical-align: top;\n",
       "    }\n",
       "\n",
       "    .dataframe thead th {\n",
       "        text-align: right;\n",
       "    }\n",
       "</style>\n",
       "<table border=\"1\" class=\"dataframe\">\n",
       "  <thead>\n",
       "    <tr style=\"text-align: right;\">\n",
       "      <th></th>\n",
       "      <th>Age_Cat</th>\n",
       "      <th>Gender_1male</th>\n",
       "      <th>Degree_Cat</th>\n",
       "      <th>Farm_size_Cat</th>\n",
       "      <th>ProductionUse_selling</th>\n",
       "      <th>Farm_type_Conventional</th>\n",
       "      <th>Farm_type_Intergrated</th>\n",
       "      <th>Farm_type_Organic</th>\n",
       "      <th>Farm_type_Biodynamic</th>\n",
       "      <th>Income_Cat</th>\n",
       "      <th>Proportion_of_income</th>\n",
       "      <th>Production_level_1to3</th>\n",
       "      <th>Crop_Group_Cat</th>\n",
       "      <th>Legislative_requirements</th>\n",
       "      <th>Own_phone</th>\n",
       "      <th>Years_own_phone</th>\n",
       "      <th>Use_DSS_App</th>\n",
       "      <th>Agricultural_app_use_Cat</th>\n",
       "      <th>Computer_at_home</th>\n",
       "      <th>Speed_internet_Cat</th>\n",
       "      <th>Already_used_DSS</th>\n",
       "      <th>How_do_you_access_DSS_Cat</th>\n",
       "      <th>Potencial_user_of_platform</th>\n",
       "      <th>Prefered_access_Phone</th>\n",
       "      <th>Prefered_access_PC</th>\n",
       "      <th>Prefered_access_Advisor</th>\n",
       "      <th>Willing_to_try_new_products_Cat</th>\n",
       "      <th>Price_important_factor</th>\n",
       "      <th>DSS_are_more_suited_for_ShortTermDecision_1</th>\n",
       "      <th>DSS_are_more_suited_for_LongTermDecision_2</th>\n",
       "      <th>Prefered_type_Web_1</th>\n",
       "      <th>Prefered_type_Software_2</th>\n",
       "      <th>Importance_of_easy_to_use_1to3</th>\n",
       "      <th>Importance_of_efficient_1to3</th>\n",
       "      <th>Importance_low_price_1to3</th>\n",
       "      <th>Importance_polyvalence_1to3</th>\n",
       "      <th>Enjoy_using_new_techs_1to3</th>\n",
       "      <th>Appreciate_change_1to3</th>\n",
       "      <th>Trust_in_DSS_1to3</th>\n",
       "      <th>Trust_in_colleague_advice_1to3</th>\n",
       "      <th>Trust_advice_friend_1to3</th>\n",
       "      <th>Need_IT_teaching_Cat</th>\n",
       "      <th>DSS_can_improve_your_productivity_Cat</th>\n",
       "      <th>CL_Output_preference_Graphical_1</th>\n",
       "      <th>CL_Output_preference_Textual_2</th>\n",
       "      <th>CL_Output_preference_Both_3</th>\n",
       "      <th>Share_DSS_exp_with_colleague_Cat</th>\n",
       "      <th>Use_DSS_from_trusted_sources_Always</th>\n",
       "      <th>WTP_for_DSS_Cat</th>\n",
       "      <th>DSS_must_be_tailored_for_your_farm_Cat</th>\n",
       "      <th>Use_same_DSS_than_advisor_Cat</th>\n",
       "      <th>Age_of_DSS_user_at_the_farm_1</th>\n",
       "      <th>Age_of_DSS_user_at_the_farm_2</th>\n",
       "      <th>Age_of_DSS_user_at_the_farm_3</th>\n",
       "      <th>Marketing_info_about_DSS_Cat</th>\n",
       "      <th>Manufacturer_demo_of_DSS_Cat</th>\n",
       "    </tr>\n",
       "  </thead>\n",
       "  <tbody>\n",
       "    <tr>\n",
       "      <th>count</th>\n",
       "      <td>149.00000</td>\n",
       "      <td>148.000000</td>\n",
       "      <td>144.000000</td>\n",
       "      <td>148.000000</td>\n",
       "      <td>117.000000</td>\n",
       "      <td>116.000000</td>\n",
       "      <td>116.000000</td>\n",
       "      <td>116.000000</td>\n",
       "      <td>116.000000</td>\n",
       "      <td>144.000000</td>\n",
       "      <td>145.000000</td>\n",
       "      <td>107.000000</td>\n",
       "      <td>117.000000</td>\n",
       "      <td>138.000000</td>\n",
       "      <td>149.000000</td>\n",
       "      <td>149.000000</td>\n",
       "      <td>145.000000</td>\n",
       "      <td>97.000000</td>\n",
       "      <td>149.000000</td>\n",
       "      <td>149.000000</td>\n",
       "      <td>134.000000</td>\n",
       "      <td>134.000000</td>\n",
       "      <td>134.000000</td>\n",
       "      <td>134.000000</td>\n",
       "      <td>134.000000</td>\n",
       "      <td>134.000000</td>\n",
       "      <td>143.000000</td>\n",
       "      <td>146.000000</td>\n",
       "      <td>142.000000</td>\n",
       "      <td>142.000000</td>\n",
       "      <td>137.000000</td>\n",
       "      <td>137.000000</td>\n",
       "      <td>140.000000</td>\n",
       "      <td>142.000000</td>\n",
       "      <td>136.000000</td>\n",
       "      <td>136.000000</td>\n",
       "      <td>147.000000</td>\n",
       "      <td>148.000000</td>\n",
       "      <td>148.000000</td>\n",
       "      <td>148.000000</td>\n",
       "      <td>147.000000</td>\n",
       "      <td>147.000000</td>\n",
       "      <td>147.000000</td>\n",
       "      <td>143.000000</td>\n",
       "      <td>143.000000</td>\n",
       "      <td>143.000000</td>\n",
       "      <td>136.000000</td>\n",
       "      <td>118.000000</td>\n",
       "      <td>146.000000</td>\n",
       "      <td>146.000000</td>\n",
       "      <td>109.000000</td>\n",
       "      <td>118.000000</td>\n",
       "      <td>118.000000</td>\n",
       "      <td>118.000000</td>\n",
       "      <td>127.000000</td>\n",
       "      <td>143.000000</td>\n",
       "    </tr>\n",
       "    <tr>\n",
       "      <th>mean</th>\n",
       "      <td>3.09396</td>\n",
       "      <td>0.810811</td>\n",
       "      <td>2.722222</td>\n",
       "      <td>4.006757</td>\n",
       "      <td>0.820513</td>\n",
       "      <td>0.568966</td>\n",
       "      <td>0.413793</td>\n",
       "      <td>0.129310</td>\n",
       "      <td>0.008621</td>\n",
       "      <td>2.923611</td>\n",
       "      <td>71.595448</td>\n",
       "      <td>2.168224</td>\n",
       "      <td>1.461538</td>\n",
       "      <td>0.797101</td>\n",
       "      <td>0.973154</td>\n",
       "      <td>11.845638</td>\n",
       "      <td>0.779310</td>\n",
       "      <td>2.175258</td>\n",
       "      <td>0.986577</td>\n",
       "      <td>2.422819</td>\n",
       "      <td>0.731343</td>\n",
       "      <td>2.313433</td>\n",
       "      <td>0.582090</td>\n",
       "      <td>0.746269</td>\n",
       "      <td>0.410448</td>\n",
       "      <td>0.179104</td>\n",
       "      <td>1.188811</td>\n",
       "      <td>0.815068</td>\n",
       "      <td>0.619718</td>\n",
       "      <td>0.535211</td>\n",
       "      <td>0.751825</td>\n",
       "      <td>0.299270</td>\n",
       "      <td>2.578571</td>\n",
       "      <td>2.577465</td>\n",
       "      <td>1.860294</td>\n",
       "      <td>2.404412</td>\n",
       "      <td>2.115646</td>\n",
       "      <td>1.918919</td>\n",
       "      <td>1.662162</td>\n",
       "      <td>1.655405</td>\n",
       "      <td>1.619048</td>\n",
       "      <td>1.761905</td>\n",
       "      <td>2.197279</td>\n",
       "      <td>0.251748</td>\n",
       "      <td>0.055944</td>\n",
       "      <td>0.692308</td>\n",
       "      <td>2.257353</td>\n",
       "      <td>0.838983</td>\n",
       "      <td>2.376712</td>\n",
       "      <td>2.068493</td>\n",
       "      <td>1.651376</td>\n",
       "      <td>0.237288</td>\n",
       "      <td>0.347458</td>\n",
       "      <td>0.474576</td>\n",
       "      <td>1.692913</td>\n",
       "      <td>1.587413</td>\n",
       "    </tr>\n",
       "    <tr>\n",
       "      <th>std</th>\n",
       "      <td>1.11708</td>\n",
       "      <td>0.392989</td>\n",
       "      <td>0.999611</td>\n",
       "      <td>1.327350</td>\n",
       "      <td>0.385410</td>\n",
       "      <td>0.497369</td>\n",
       "      <td>0.494649</td>\n",
       "      <td>0.336999</td>\n",
       "      <td>0.092848</td>\n",
       "      <td>1.467979</td>\n",
       "      <td>34.910121</td>\n",
       "      <td>0.841001</td>\n",
       "      <td>0.637052</td>\n",
       "      <td>0.403623</td>\n",
       "      <td>0.162177</td>\n",
       "      <td>7.153458</td>\n",
       "      <td>0.416149</td>\n",
       "      <td>0.790705</td>\n",
       "      <td>0.115465</td>\n",
       "      <td>0.669623</td>\n",
       "      <td>0.444924</td>\n",
       "      <td>0.870726</td>\n",
       "      <td>0.495066</td>\n",
       "      <td>0.436778</td>\n",
       "      <td>0.493761</td>\n",
       "      <td>0.384879</td>\n",
       "      <td>0.392734</td>\n",
       "      <td>0.389578</td>\n",
       "      <td>0.487174</td>\n",
       "      <td>0.500524</td>\n",
       "      <td>0.433539</td>\n",
       "      <td>0.459619</td>\n",
       "      <td>0.668595</td>\n",
       "      <td>0.575184</td>\n",
       "      <td>0.790432</td>\n",
       "      <td>0.670861</td>\n",
       "      <td>0.726382</td>\n",
       "      <td>0.695109</td>\n",
       "      <td>0.566095</td>\n",
       "      <td>0.530855</td>\n",
       "      <td>0.553115</td>\n",
       "      <td>0.553115</td>\n",
       "      <td>0.647857</td>\n",
       "      <td>0.435543</td>\n",
       "      <td>0.230621</td>\n",
       "      <td>0.463161</td>\n",
       "      <td>0.666626</td>\n",
       "      <td>0.369114</td>\n",
       "      <td>0.696201</td>\n",
       "      <td>0.559033</td>\n",
       "      <td>0.478736</td>\n",
       "      <td>0.427235</td>\n",
       "      <td>0.478193</td>\n",
       "      <td>0.501483</td>\n",
       "      <td>0.556517</td>\n",
       "      <td>0.585369</td>\n",
       "    </tr>\n",
       "    <tr>\n",
       "      <th>min</th>\n",
       "      <td>1.00000</td>\n",
       "      <td>0.000000</td>\n",
       "      <td>1.000000</td>\n",
       "      <td>1.000000</td>\n",
       "      <td>0.000000</td>\n",
       "      <td>0.000000</td>\n",
       "      <td>0.000000</td>\n",
       "      <td>0.000000</td>\n",
       "      <td>0.000000</td>\n",
       "      <td>1.000000</td>\n",
       "      <td>0.000000</td>\n",
       "      <td>1.000000</td>\n",
       "      <td>1.000000</td>\n",
       "      <td>0.000000</td>\n",
       "      <td>0.000000</td>\n",
       "      <td>0.000000</td>\n",
       "      <td>0.000000</td>\n",
       "      <td>1.000000</td>\n",
       "      <td>0.000000</td>\n",
       "      <td>1.000000</td>\n",
       "      <td>0.000000</td>\n",
       "      <td>1.000000</td>\n",
       "      <td>0.000000</td>\n",
       "      <td>0.000000</td>\n",
       "      <td>0.000000</td>\n",
       "      <td>0.000000</td>\n",
       "      <td>1.000000</td>\n",
       "      <td>0.000000</td>\n",
       "      <td>0.000000</td>\n",
       "      <td>0.000000</td>\n",
       "      <td>0.000000</td>\n",
       "      <td>0.000000</td>\n",
       "      <td>1.000000</td>\n",
       "      <td>1.000000</td>\n",
       "      <td>1.000000</td>\n",
       "      <td>1.000000</td>\n",
       "      <td>1.000000</td>\n",
       "      <td>1.000000</td>\n",
       "      <td>1.000000</td>\n",
       "      <td>1.000000</td>\n",
       "      <td>1.000000</td>\n",
       "      <td>1.000000</td>\n",
       "      <td>1.000000</td>\n",
       "      <td>0.000000</td>\n",
       "      <td>0.000000</td>\n",
       "      <td>0.000000</td>\n",
       "      <td>1.000000</td>\n",
       "      <td>0.000000</td>\n",
       "      <td>1.000000</td>\n",
       "      <td>1.000000</td>\n",
       "      <td>1.000000</td>\n",
       "      <td>0.000000</td>\n",
       "      <td>0.000000</td>\n",
       "      <td>0.000000</td>\n",
       "      <td>1.000000</td>\n",
       "      <td>1.000000</td>\n",
       "    </tr>\n",
       "    <tr>\n",
       "      <th>25%</th>\n",
       "      <td>2.00000</td>\n",
       "      <td>1.000000</td>\n",
       "      <td>2.000000</td>\n",
       "      <td>3.000000</td>\n",
       "      <td>1.000000</td>\n",
       "      <td>0.000000</td>\n",
       "      <td>0.000000</td>\n",
       "      <td>0.000000</td>\n",
       "      <td>0.000000</td>\n",
       "      <td>2.000000</td>\n",
       "      <td>50.000000</td>\n",
       "      <td>1.000000</td>\n",
       "      <td>1.000000</td>\n",
       "      <td>1.000000</td>\n",
       "      <td>1.000000</td>\n",
       "      <td>7.000000</td>\n",
       "      <td>1.000000</td>\n",
       "      <td>2.000000</td>\n",
       "      <td>1.000000</td>\n",
       "      <td>2.000000</td>\n",
       "      <td>0.000000</td>\n",
       "      <td>1.000000</td>\n",
       "      <td>0.000000</td>\n",
       "      <td>0.250000</td>\n",
       "      <td>0.000000</td>\n",
       "      <td>0.000000</td>\n",
       "      <td>1.000000</td>\n",
       "      <td>1.000000</td>\n",
       "      <td>0.000000</td>\n",
       "      <td>0.000000</td>\n",
       "      <td>1.000000</td>\n",
       "      <td>0.000000</td>\n",
       "      <td>2.000000</td>\n",
       "      <td>2.000000</td>\n",
       "      <td>1.000000</td>\n",
       "      <td>2.000000</td>\n",
       "      <td>2.000000</td>\n",
       "      <td>1.000000</td>\n",
       "      <td>1.000000</td>\n",
       "      <td>1.000000</td>\n",
       "      <td>1.000000</td>\n",
       "      <td>1.000000</td>\n",
       "      <td>2.000000</td>\n",
       "      <td>0.000000</td>\n",
       "      <td>0.000000</td>\n",
       "      <td>0.000000</td>\n",
       "      <td>2.000000</td>\n",
       "      <td>1.000000</td>\n",
       "      <td>2.000000</td>\n",
       "      <td>2.000000</td>\n",
       "      <td>1.000000</td>\n",
       "      <td>0.000000</td>\n",
       "      <td>0.000000</td>\n",
       "      <td>0.000000</td>\n",
       "      <td>1.000000</td>\n",
       "      <td>1.000000</td>\n",
       "    </tr>\n",
       "    <tr>\n",
       "      <th>50%</th>\n",
       "      <td>3.00000</td>\n",
       "      <td>1.000000</td>\n",
       "      <td>3.000000</td>\n",
       "      <td>5.000000</td>\n",
       "      <td>1.000000</td>\n",
       "      <td>1.000000</td>\n",
       "      <td>0.000000</td>\n",
       "      <td>0.000000</td>\n",
       "      <td>0.000000</td>\n",
       "      <td>3.000000</td>\n",
       "      <td>90.000000</td>\n",
       "      <td>2.000000</td>\n",
       "      <td>1.000000</td>\n",
       "      <td>1.000000</td>\n",
       "      <td>1.000000</td>\n",
       "      <td>10.000000</td>\n",
       "      <td>1.000000</td>\n",
       "      <td>2.000000</td>\n",
       "      <td>1.000000</td>\n",
       "      <td>3.000000</td>\n",
       "      <td>1.000000</td>\n",
       "      <td>3.000000</td>\n",
       "      <td>1.000000</td>\n",
       "      <td>1.000000</td>\n",
       "      <td>0.000000</td>\n",
       "      <td>0.000000</td>\n",
       "      <td>1.000000</td>\n",
       "      <td>1.000000</td>\n",
       "      <td>1.000000</td>\n",
       "      <td>1.000000</td>\n",
       "      <td>1.000000</td>\n",
       "      <td>0.000000</td>\n",
       "      <td>3.000000</td>\n",
       "      <td>3.000000</td>\n",
       "      <td>2.000000</td>\n",
       "      <td>3.000000</td>\n",
       "      <td>2.000000</td>\n",
       "      <td>2.000000</td>\n",
       "      <td>2.000000</td>\n",
       "      <td>2.000000</td>\n",
       "      <td>2.000000</td>\n",
       "      <td>2.000000</td>\n",
       "      <td>2.000000</td>\n",
       "      <td>0.000000</td>\n",
       "      <td>0.000000</td>\n",
       "      <td>1.000000</td>\n",
       "      <td>2.000000</td>\n",
       "      <td>1.000000</td>\n",
       "      <td>2.500000</td>\n",
       "      <td>2.000000</td>\n",
       "      <td>2.000000</td>\n",
       "      <td>0.000000</td>\n",
       "      <td>0.000000</td>\n",
       "      <td>0.000000</td>\n",
       "      <td>2.000000</td>\n",
       "      <td>2.000000</td>\n",
       "    </tr>\n",
       "    <tr>\n",
       "      <th>75%</th>\n",
       "      <td>4.00000</td>\n",
       "      <td>1.000000</td>\n",
       "      <td>3.000000</td>\n",
       "      <td>5.000000</td>\n",
       "      <td>1.000000</td>\n",
       "      <td>1.000000</td>\n",
       "      <td>1.000000</td>\n",
       "      <td>0.000000</td>\n",
       "      <td>0.000000</td>\n",
       "      <td>4.000000</td>\n",
       "      <td>100.000000</td>\n",
       "      <td>3.000000</td>\n",
       "      <td>2.000000</td>\n",
       "      <td>1.000000</td>\n",
       "      <td>1.000000</td>\n",
       "      <td>18.000000</td>\n",
       "      <td>1.000000</td>\n",
       "      <td>3.000000</td>\n",
       "      <td>1.000000</td>\n",
       "      <td>3.000000</td>\n",
       "      <td>1.000000</td>\n",
       "      <td>3.000000</td>\n",
       "      <td>1.000000</td>\n",
       "      <td>1.000000</td>\n",
       "      <td>1.000000</td>\n",
       "      <td>0.000000</td>\n",
       "      <td>1.000000</td>\n",
       "      <td>1.000000</td>\n",
       "      <td>1.000000</td>\n",
       "      <td>1.000000</td>\n",
       "      <td>1.000000</td>\n",
       "      <td>1.000000</td>\n",
       "      <td>3.000000</td>\n",
       "      <td>3.000000</td>\n",
       "      <td>2.250000</td>\n",
       "      <td>3.000000</td>\n",
       "      <td>3.000000</td>\n",
       "      <td>2.000000</td>\n",
       "      <td>2.000000</td>\n",
       "      <td>2.000000</td>\n",
       "      <td>2.000000</td>\n",
       "      <td>2.000000</td>\n",
       "      <td>3.000000</td>\n",
       "      <td>0.500000</td>\n",
       "      <td>0.000000</td>\n",
       "      <td>1.000000</td>\n",
       "      <td>3.000000</td>\n",
       "      <td>1.000000</td>\n",
       "      <td>3.000000</td>\n",
       "      <td>2.000000</td>\n",
       "      <td>2.000000</td>\n",
       "      <td>0.000000</td>\n",
       "      <td>1.000000</td>\n",
       "      <td>1.000000</td>\n",
       "      <td>2.000000</td>\n",
       "      <td>2.000000</td>\n",
       "    </tr>\n",
       "    <tr>\n",
       "      <th>max</th>\n",
       "      <td>5.00000</td>\n",
       "      <td>1.000000</td>\n",
       "      <td>5.000000</td>\n",
       "      <td>5.000000</td>\n",
       "      <td>1.000000</td>\n",
       "      <td>1.000000</td>\n",
       "      <td>1.000000</td>\n",
       "      <td>1.000000</td>\n",
       "      <td>1.000000</td>\n",
       "      <td>5.000000</td>\n",
       "      <td>100.000000</td>\n",
       "      <td>3.000000</td>\n",
       "      <td>3.000000</td>\n",
       "      <td>1.000000</td>\n",
       "      <td>1.000000</td>\n",
       "      <td>28.000000</td>\n",
       "      <td>1.000000</td>\n",
       "      <td>4.000000</td>\n",
       "      <td>1.000000</td>\n",
       "      <td>3.000000</td>\n",
       "      <td>1.000000</td>\n",
       "      <td>3.000000</td>\n",
       "      <td>1.000000</td>\n",
       "      <td>1.000000</td>\n",
       "      <td>1.000000</td>\n",
       "      <td>1.000000</td>\n",
       "      <td>2.000000</td>\n",
       "      <td>1.000000</td>\n",
       "      <td>1.000000</td>\n",
       "      <td>1.000000</td>\n",
       "      <td>1.000000</td>\n",
       "      <td>1.000000</td>\n",
       "      <td>3.000000</td>\n",
       "      <td>3.000000</td>\n",
       "      <td>3.000000</td>\n",
       "      <td>3.000000</td>\n",
       "      <td>3.000000</td>\n",
       "      <td>3.000000</td>\n",
       "      <td>3.000000</td>\n",
       "      <td>3.000000</td>\n",
       "      <td>3.000000</td>\n",
       "      <td>3.000000</td>\n",
       "      <td>3.000000</td>\n",
       "      <td>1.000000</td>\n",
       "      <td>1.000000</td>\n",
       "      <td>1.000000</td>\n",
       "      <td>4.000000</td>\n",
       "      <td>1.000000</td>\n",
       "      <td>3.000000</td>\n",
       "      <td>3.000000</td>\n",
       "      <td>2.000000</td>\n",
       "      <td>1.000000</td>\n",
       "      <td>1.000000</td>\n",
       "      <td>1.000000</td>\n",
       "      <td>3.000000</td>\n",
       "      <td>3.000000</td>\n",
       "    </tr>\n",
       "  </tbody>\n",
       "</table>\n",
       "</div>"
      ],
      "text/plain": [
       "         Age_Cat  Gender_1male  Degree_Cat  Farm_size_Cat  \\\n",
       "count  149.00000    148.000000  144.000000     148.000000   \n",
       "mean     3.09396      0.810811    2.722222       4.006757   \n",
       "std      1.11708      0.392989    0.999611       1.327350   \n",
       "min      1.00000      0.000000    1.000000       1.000000   \n",
       "25%      2.00000      1.000000    2.000000       3.000000   \n",
       "50%      3.00000      1.000000    3.000000       5.000000   \n",
       "75%      4.00000      1.000000    3.000000       5.000000   \n",
       "max      5.00000      1.000000    5.000000       5.000000   \n",
       "\n",
       "       ProductionUse_selling  Farm_type_Conventional  Farm_type_Intergrated  \\\n",
       "count             117.000000              116.000000             116.000000   \n",
       "mean                0.820513                0.568966               0.413793   \n",
       "std                 0.385410                0.497369               0.494649   \n",
       "min                 0.000000                0.000000               0.000000   \n",
       "25%                 1.000000                0.000000               0.000000   \n",
       "50%                 1.000000                1.000000               0.000000   \n",
       "75%                 1.000000                1.000000               1.000000   \n",
       "max                 1.000000                1.000000               1.000000   \n",
       "\n",
       "       Farm_type_Organic  Farm_type_Biodynamic  Income_Cat  \\\n",
       "count         116.000000            116.000000  144.000000   \n",
       "mean            0.129310              0.008621    2.923611   \n",
       "std             0.336999              0.092848    1.467979   \n",
       "min             0.000000              0.000000    1.000000   \n",
       "25%             0.000000              0.000000    2.000000   \n",
       "50%             0.000000              0.000000    3.000000   \n",
       "75%             0.000000              0.000000    4.000000   \n",
       "max             1.000000              1.000000    5.000000   \n",
       "\n",
       "       Proportion_of_income  Production_level_1to3  Crop_Group_Cat  \\\n",
       "count            145.000000             107.000000      117.000000   \n",
       "mean              71.595448               2.168224        1.461538   \n",
       "std               34.910121               0.841001        0.637052   \n",
       "min                0.000000               1.000000        1.000000   \n",
       "25%               50.000000               1.000000        1.000000   \n",
       "50%               90.000000               2.000000        1.000000   \n",
       "75%              100.000000               3.000000        2.000000   \n",
       "max              100.000000               3.000000        3.000000   \n",
       "\n",
       "       Legislative_requirements   Own_phone  Years_own_phone  Use_DSS_App  \\\n",
       "count                138.000000  149.000000       149.000000   145.000000   \n",
       "mean                   0.797101    0.973154        11.845638     0.779310   \n",
       "std                    0.403623    0.162177         7.153458     0.416149   \n",
       "min                    0.000000    0.000000         0.000000     0.000000   \n",
       "25%                    1.000000    1.000000         7.000000     1.000000   \n",
       "50%                    1.000000    1.000000        10.000000     1.000000   \n",
       "75%                    1.000000    1.000000        18.000000     1.000000   \n",
       "max                    1.000000    1.000000        28.000000     1.000000   \n",
       "\n",
       "       Agricultural_app_use_Cat  Computer_at_home  Speed_internet_Cat  \\\n",
       "count                 97.000000        149.000000          149.000000   \n",
       "mean                   2.175258          0.986577            2.422819   \n",
       "std                    0.790705          0.115465            0.669623   \n",
       "min                    1.000000          0.000000            1.000000   \n",
       "25%                    2.000000          1.000000            2.000000   \n",
       "50%                    2.000000          1.000000            3.000000   \n",
       "75%                    3.000000          1.000000            3.000000   \n",
       "max                    4.000000          1.000000            3.000000   \n",
       "\n",
       "       Already_used_DSS  How_do_you_access_DSS_Cat  \\\n",
       "count        134.000000                 134.000000   \n",
       "mean           0.731343                   2.313433   \n",
       "std            0.444924                   0.870726   \n",
       "min            0.000000                   1.000000   \n",
       "25%            0.000000                   1.000000   \n",
       "50%            1.000000                   3.000000   \n",
       "75%            1.000000                   3.000000   \n",
       "max            1.000000                   3.000000   \n",
       "\n",
       "       Potencial_user_of_platform  Prefered_access_Phone  Prefered_access_PC  \\\n",
       "count                  134.000000             134.000000          134.000000   \n",
       "mean                     0.582090               0.746269            0.410448   \n",
       "std                      0.495066               0.436778            0.493761   \n",
       "min                      0.000000               0.000000            0.000000   \n",
       "25%                      0.000000               0.250000            0.000000   \n",
       "50%                      1.000000               1.000000            0.000000   \n",
       "75%                      1.000000               1.000000            1.000000   \n",
       "max                      1.000000               1.000000            1.000000   \n",
       "\n",
       "       Prefered_access_Advisor  Willing_to_try_new_products_Cat  \\\n",
       "count               134.000000                       143.000000   \n",
       "mean                  0.179104                         1.188811   \n",
       "std                   0.384879                         0.392734   \n",
       "min                   0.000000                         1.000000   \n",
       "25%                   0.000000                         1.000000   \n",
       "50%                   0.000000                         1.000000   \n",
       "75%                   0.000000                         1.000000   \n",
       "max                   1.000000                         2.000000   \n",
       "\n",
       "       Price_important_factor  DSS_are_more_suited_for_ShortTermDecision_1  \\\n",
       "count              146.000000                                   142.000000   \n",
       "mean                 0.815068                                     0.619718   \n",
       "std                  0.389578                                     0.487174   \n",
       "min                  0.000000                                     0.000000   \n",
       "25%                  1.000000                                     0.000000   \n",
       "50%                  1.000000                                     1.000000   \n",
       "75%                  1.000000                                     1.000000   \n",
       "max                  1.000000                                     1.000000   \n",
       "\n",
       "       DSS_are_more_suited_for_LongTermDecision_2  Prefered_type_Web_1  \\\n",
       "count                                  142.000000           137.000000   \n",
       "mean                                     0.535211             0.751825   \n",
       "std                                      0.500524             0.433539   \n",
       "min                                      0.000000             0.000000   \n",
       "25%                                      0.000000             1.000000   \n",
       "50%                                      1.000000             1.000000   \n",
       "75%                                      1.000000             1.000000   \n",
       "max                                      1.000000             1.000000   \n",
       "\n",
       "       Prefered_type_Software_2  Importance_of_easy_to_use_1to3  \\\n",
       "count                137.000000                      140.000000   \n",
       "mean                   0.299270                        2.578571   \n",
       "std                    0.459619                        0.668595   \n",
       "min                    0.000000                        1.000000   \n",
       "25%                    0.000000                        2.000000   \n",
       "50%                    0.000000                        3.000000   \n",
       "75%                    1.000000                        3.000000   \n",
       "max                    1.000000                        3.000000   \n",
       "\n",
       "       Importance_of_efficient_1to3  Importance_low_price_1to3  \\\n",
       "count                    142.000000                 136.000000   \n",
       "mean                       2.577465                   1.860294   \n",
       "std                        0.575184                   0.790432   \n",
       "min                        1.000000                   1.000000   \n",
       "25%                        2.000000                   1.000000   \n",
       "50%                        3.000000                   2.000000   \n",
       "75%                        3.000000                   2.250000   \n",
       "max                        3.000000                   3.000000   \n",
       "\n",
       "       Importance_polyvalence_1to3  Enjoy_using_new_techs_1to3  \\\n",
       "count                   136.000000                  147.000000   \n",
       "mean                      2.404412                    2.115646   \n",
       "std                       0.670861                    0.726382   \n",
       "min                       1.000000                    1.000000   \n",
       "25%                       2.000000                    2.000000   \n",
       "50%                       3.000000                    2.000000   \n",
       "75%                       3.000000                    3.000000   \n",
       "max                       3.000000                    3.000000   \n",
       "\n",
       "       Appreciate_change_1to3  Trust_in_DSS_1to3  \\\n",
       "count              148.000000         148.000000   \n",
       "mean                 1.918919           1.662162   \n",
       "std                  0.695109           0.566095   \n",
       "min                  1.000000           1.000000   \n",
       "25%                  1.000000           1.000000   \n",
       "50%                  2.000000           2.000000   \n",
       "75%                  2.000000           2.000000   \n",
       "max                  3.000000           3.000000   \n",
       "\n",
       "       Trust_in_colleague_advice_1to3  Trust_advice_friend_1to3  \\\n",
       "count                      148.000000                147.000000   \n",
       "mean                         1.655405                  1.619048   \n",
       "std                          0.530855                  0.553115   \n",
       "min                          1.000000                  1.000000   \n",
       "25%                          1.000000                  1.000000   \n",
       "50%                          2.000000                  2.000000   \n",
       "75%                          2.000000                  2.000000   \n",
       "max                          3.000000                  3.000000   \n",
       "\n",
       "       Need_IT_teaching_Cat  DSS_can_improve_your_productivity_Cat  \\\n",
       "count            147.000000                             147.000000   \n",
       "mean               1.761905                               2.197279   \n",
       "std                0.553115                               0.647857   \n",
       "min                1.000000                               1.000000   \n",
       "25%                1.000000                               2.000000   \n",
       "50%                2.000000                               2.000000   \n",
       "75%                2.000000                               3.000000   \n",
       "max                3.000000                               3.000000   \n",
       "\n",
       "       CL_Output_preference_Graphical_1  CL_Output_preference_Textual_2  \\\n",
       "count                        143.000000                      143.000000   \n",
       "mean                           0.251748                        0.055944   \n",
       "std                            0.435543                        0.230621   \n",
       "min                            0.000000                        0.000000   \n",
       "25%                            0.000000                        0.000000   \n",
       "50%                            0.000000                        0.000000   \n",
       "75%                            0.500000                        0.000000   \n",
       "max                            1.000000                        1.000000   \n",
       "\n",
       "       CL_Output_preference_Both_3  Share_DSS_exp_with_colleague_Cat  \\\n",
       "count                   143.000000                        136.000000   \n",
       "mean                      0.692308                          2.257353   \n",
       "std                       0.463161                          0.666626   \n",
       "min                       0.000000                          1.000000   \n",
       "25%                       0.000000                          2.000000   \n",
       "50%                       1.000000                          2.000000   \n",
       "75%                       1.000000                          3.000000   \n",
       "max                       1.000000                          4.000000   \n",
       "\n",
       "       Use_DSS_from_trusted_sources_Always  WTP_for_DSS_Cat  \\\n",
       "count                           118.000000       146.000000   \n",
       "mean                              0.838983         2.376712   \n",
       "std                               0.369114         0.696201   \n",
       "min                               0.000000         1.000000   \n",
       "25%                               1.000000         2.000000   \n",
       "50%                               1.000000         2.500000   \n",
       "75%                               1.000000         3.000000   \n",
       "max                               1.000000         3.000000   \n",
       "\n",
       "       DSS_must_be_tailored_for_your_farm_Cat  Use_same_DSS_than_advisor_Cat  \\\n",
       "count                              146.000000                     109.000000   \n",
       "mean                                 2.068493                       1.651376   \n",
       "std                                  0.559033                       0.478736   \n",
       "min                                  1.000000                       1.000000   \n",
       "25%                                  2.000000                       1.000000   \n",
       "50%                                  2.000000                       2.000000   \n",
       "75%                                  2.000000                       2.000000   \n",
       "max                                  3.000000                       2.000000   \n",
       "\n",
       "       Age_of_DSS_user_at_the_farm_1  Age_of_DSS_user_at_the_farm_2  \\\n",
       "count                     118.000000                     118.000000   \n",
       "mean                        0.237288                       0.347458   \n",
       "std                         0.427235                       0.478193   \n",
       "min                         0.000000                       0.000000   \n",
       "25%                         0.000000                       0.000000   \n",
       "50%                         0.000000                       0.000000   \n",
       "75%                         0.000000                       1.000000   \n",
       "max                         1.000000                       1.000000   \n",
       "\n",
       "       Age_of_DSS_user_at_the_farm_3  Marketing_info_about_DSS_Cat  \\\n",
       "count                     118.000000                    127.000000   \n",
       "mean                        0.474576                      1.692913   \n",
       "std                         0.501483                      0.556517   \n",
       "min                         0.000000                      1.000000   \n",
       "25%                         0.000000                      1.000000   \n",
       "50%                         0.000000                      2.000000   \n",
       "75%                         1.000000                      2.000000   \n",
       "max                         1.000000                      3.000000   \n",
       "\n",
       "       Manufacturer_demo_of_DSS_Cat  \n",
       "count                    143.000000  \n",
       "mean                       1.587413  \n",
       "std                        0.585369  \n",
       "min                        1.000000  \n",
       "25%                        1.000000  \n",
       "50%                        2.000000  \n",
       "75%                        2.000000  \n",
       "max                        3.000000  "
      ]
     },
     "execution_count": 10,
     "metadata": {},
     "output_type": "execute_result"
    }
   ],
   "source": [
    "# Descriptive statistics\n",
    "df.describe()"
   ]
  },
  {
   "cell_type": "code",
   "execution_count": 11,
   "metadata": {},
   "outputs": [],
   "source": [
    "# One hot encode categorical data.\n",
    "ohe_df = pd.get_dummies(df, columns=[\"Region\", \"Country\"])"
   ]
  },
  {
   "cell_type": "code",
   "execution_count": 12,
   "metadata": {},
   "outputs": [
    {
     "name": "stdout",
     "output_type": "stream",
     "text": [
      "<class 'pandas.core.frame.DataFrame'>\n",
      "RangeIndex: 149 entries, 0 to 148\n",
      "Data columns (total 70 columns):\n",
      " #   Column                                       Non-Null Count  Dtype  \n",
      "---  ------                                       --------------  -----  \n",
      " 0   Age_Cat                                      149 non-null    int64  \n",
      " 1   Gender_1male                                 148 non-null    float64\n",
      " 2   Degree_Cat                                   144 non-null    float64\n",
      " 3   Farm_size_Cat                                148 non-null    float64\n",
      " 4   ProductionUse_selling                        117 non-null    float64\n",
      " 5   Farm_type_Conventional                       116 non-null    float64\n",
      " 6   Farm_type_Intergrated                        116 non-null    float64\n",
      " 7   Farm_type_Organic                            116 non-null    float64\n",
      " 8   Farm_type_Biodynamic                         116 non-null    float64\n",
      " 9   Income_Cat                                   144 non-null    float64\n",
      " 10  Proportion_of_income                         145 non-null    float64\n",
      " 11  Production_level_1to3                        107 non-null    float64\n",
      " 12  Crop_Group_Cat                               117 non-null    float64\n",
      " 13  Legislative_requirements                     138 non-null    float64\n",
      " 14  Own_phone                                    149 non-null    int64  \n",
      " 15  Years_own_phone                              149 non-null    int64  \n",
      " 16  Use_DSS_App                                  145 non-null    float64\n",
      " 17  Agricultural_app_use_Cat                     97 non-null     float64\n",
      " 18  Computer_at_home                             149 non-null    int64  \n",
      " 19  Speed_internet_Cat                           149 non-null    int64  \n",
      " 20  Already_used_DSS                             134 non-null    float64\n",
      " 21  How_do_you_access_DSS_Cat                    134 non-null    float64\n",
      " 22  Potencial_user_of_platform                   134 non-null    float64\n",
      " 23  Prefered_access_Phone                        134 non-null    float64\n",
      " 24  Prefered_access_PC                           134 non-null    float64\n",
      " 25  Prefered_access_Advisor                      134 non-null    float64\n",
      " 26  Willing_to_try_new_products_Cat              143 non-null    float64\n",
      " 27  Price_important_factor                       146 non-null    float64\n",
      " 28  DSS_are_more_suited_for_ShortTermDecision_1  142 non-null    float64\n",
      " 29  DSS_are_more_suited_for_LongTermDecision_2   142 non-null    float64\n",
      " 30  Prefered_type_Web_1                          137 non-null    float64\n",
      " 31  Prefered_type_Software_2                     137 non-null    float64\n",
      " 32  Importance_of_easy_to_use_1to3               140 non-null    float64\n",
      " 33  Importance_of_efficient_1to3                 142 non-null    float64\n",
      " 34  Importance_low_price_1to3                    136 non-null    float64\n",
      " 35  Importance_polyvalence_1to3                  136 non-null    float64\n",
      " 36  Enjoy_using_new_techs_1to3                   147 non-null    float64\n",
      " 37  Appreciate_change_1to3                       148 non-null    float64\n",
      " 38  Trust_in_DSS_1to3                            148 non-null    float64\n",
      " 39  Trust_in_colleague_advice_1to3               148 non-null    float64\n",
      " 40  Trust_advice_friend_1to3                     147 non-null    float64\n",
      " 41  Need_IT_teaching_Cat                         147 non-null    float64\n",
      " 42  DSS_can_improve_your_productivity_Cat        147 non-null    float64\n",
      " 43  CL_Output_preference_Graphical_1             143 non-null    float64\n",
      " 44  CL_Output_preference_Textual_2               143 non-null    float64\n",
      " 45  CL_Output_preference_Both_3                  143 non-null    float64\n",
      " 46  Share_DSS_exp_with_colleague_Cat             136 non-null    float64\n",
      " 47  Use_DSS_from_trusted_sources_Always          118 non-null    float64\n",
      " 48  WTP_for_DSS_Cat                              146 non-null    float64\n",
      " 49  DSS_must_be_tailored_for_your_farm_Cat       146 non-null    float64\n",
      " 50  Use_same_DSS_than_advisor_Cat                109 non-null    float64\n",
      " 51  Age_of_DSS_user_at_the_farm_1                118 non-null    float64\n",
      " 52  Age_of_DSS_user_at_the_farm_2                118 non-null    float64\n",
      " 53  Age_of_DSS_user_at_the_farm_3                118 non-null    float64\n",
      " 54  Marketing_info_about_DSS_Cat                 127 non-null    float64\n",
      " 55  Manufacturer_demo_of_DSS_Cat                 143 non-null    float64\n",
      " 56  Region_central_EU                            149 non-null    uint8  \n",
      " 57  Region_north_EU                              149 non-null    uint8  \n",
      " 58  Region_south_EU                              149 non-null    uint8  \n",
      " 59  Country_Denmark                              149 non-null    uint8  \n",
      " 60  Country_Finland                              149 non-null    uint8  \n",
      " 61  Country_France                               149 non-null    uint8  \n",
      " 62  Country_Germany                              149 non-null    uint8  \n",
      " 63  Country_Greece                               149 non-null    uint8  \n",
      " 64  Country_Italy                                149 non-null    uint8  \n",
      " 65  Country_Lithuania                            149 non-null    uint8  \n",
      " 66  Country_Netherlands                          149 non-null    uint8  \n",
      " 67  Country_Slovenia                             149 non-null    uint8  \n",
      " 68  Country_Sweden                               149 non-null    uint8  \n",
      " 69  Country_UK                                   149 non-null    uint8  \n",
      "dtypes: float64(51), int64(5), uint8(14)\n",
      "memory usage: 67.3 KB\n"
     ]
    }
   ],
   "source": [
    "ohe_df.info()"
   ]
  },
  {
   "cell_type": "markdown",
   "metadata": {},
   "source": [
    "### Missing values"
   ]
  },
  {
   "cell_type": "code",
   "execution_count": 13,
   "metadata": {},
   "outputs": [],
   "source": [
    "df_noNaN = ohe_df.dropna(how=\"any\").copy()\n",
    "#df_noNaN = ohe_df.copy().fillna(ohe_df.mean())\n",
    "#df_noNaN = ohe_df.copy().fillna(ohe_df.median())\n",
    "#df_noNaN = ohe_df.copy().fillna(ohe_df.mode())\n",
    "#df_noNaN = ohe_df.interpolate(method=\"linear\", axis=0).copy()\n",
    "#df_noNaN = df.dropna(how=\"any\").copy()\n",
    "\n",
    "# df_noNaN.info()\n",
    "# df_noNaN\n",
    "\n",
    "# try scikit learn"
   ]
  },
  {
   "cell_type": "markdown",
   "metadata": {},
   "source": [
    "### Changing data types to categorical (ordinal) and separating dataframes"
   ]
  },
  {
   "cell_type": "code",
   "execution_count": 14,
   "metadata": {},
   "outputs": [
    {
     "data": {
      "text/plain": [
       "'TODO: visualization of the data with such attributes is flawed. \\nTry: \\n  (a) separate binary and numerical+categorical attributes and compare and combine both mappers\\n      (see https://umap-learn.readthedocs.io/en/latest/composing_models.html?highlight=scaling#diamonds-dataset-example)\\n  (b) discard numerical attributes, binarize all remaining non-binary and use a metric for binary data\\n'"
      ]
     },
     "execution_count": 14,
     "metadata": {},
     "output_type": "execute_result"
    }
   ],
   "source": [
    "'''TODO: visualization of the data with such attributes is flawed. \n",
    "Try: \n",
    "  (a) separate binary and numerical+categorical attributes and compare and combine both mappers\n",
    "      (see https://umap-learn.readthedocs.io/en/latest/composing_models.html?highlight=scaling#diamonds-dataset-example)\n",
    "  (b) discard numerical attributes, binarize all remaining non-binary and use a metric for binary data\n",
    "'''"
   ]
  },
  {
   "cell_type": "code",
   "execution_count": 15,
   "metadata": {},
   "outputs": [
    {
     "data": {
      "text/plain": [
       "'\\n# Make CategoricalDtype parameter for ordered features.\\noct = CategoricalDtype(ordered=True) \\n\\n# Make df with all unordered categorical data\\nuo_cat_df = ohe_df.astype(\"category\")\\n\\n# Make final cat_df with unordered and ordered categorical features and two numeric features\\ncat_df = uo_cat_df\\ncat_df[num_feat] = cat_df[num_feat].astype(\"float64\")\\n\\n# {name: oct for name in ord_feat}\\ncat_df = cat_df.astype({\"Age_Cat\":oct, \"Degree_Cat\":oct, \"Farm_size_Cat\":oct, \"Income_Cat\":oct, \"Production_level_1to3\":oct, \"Agricultural_app_use_Cat\":oct,\\n                       \"Speed_internet_Cat\":oct, \"How_do_you_access_DSS_Cat\":oct, \"Importance_of_easy_to_use_1to3\":oct, \"Importance_of_efficient_1to3\":oct, \\n                        \"Importance_low_price_1to3\":oct, \"Importance_polyvalence_1to3\":oct, \"Enjoy_using_new_techs_1to3\":oct, \"Appreciate_change_1to3\":oct, \\n                        \"Trust_in_DSS_1to3\": oct, \"Trust_in_colleague_advice_1to3\":oct, \"Trust_advice_friend_1to3\":oct, \"Need_IT_teaching_Cat\":oct,\\n                        \"DSS_must_be_tailored_for_your_farm_Cat\":oct, \"Marketing_info_about_DSS_Cat\":oct\\n                       })\\n'"
      ]
     },
     "execution_count": 15,
     "metadata": {},
     "output_type": "execute_result"
    }
   ],
   "source": [
    "\"\"\"\n",
    "# Make CategoricalDtype parameter for ordered features.\n",
    "oct = CategoricalDtype(ordered=True) \n",
    "\n",
    "# Make df with all unordered categorical data\n",
    "uo_cat_df = ohe_df.astype(\"category\")\n",
    "\n",
    "# Make final cat_df with unordered and ordered categorical features and two numeric features\n",
    "cat_df = uo_cat_df\n",
    "cat_df[num_feat] = cat_df[num_feat].astype(\"float64\")\n",
    "\n",
    "# {name: oct for name in ord_feat}\n",
    "cat_df = cat_df.astype({\"Age_Cat\":oct, \"Degree_Cat\":oct, \"Farm_size_Cat\":oct, \"Income_Cat\":oct, \"Production_level_1to3\":oct, \"Agricultural_app_use_Cat\":oct,\n",
    "                       \"Speed_internet_Cat\":oct, \"How_do_you_access_DSS_Cat\":oct, \"Importance_of_easy_to_use_1to3\":oct, \"Importance_of_efficient_1to3\":oct, \n",
    "                        \"Importance_low_price_1to3\":oct, \"Importance_polyvalence_1to3\":oct, \"Enjoy_using_new_techs_1to3\":oct, \"Appreciate_change_1to3\":oct, \n",
    "                        \"Trust_in_DSS_1to3\": oct, \"Trust_in_colleague_advice_1to3\":oct, \"Trust_advice_friend_1to3\":oct, \"Need_IT_teaching_Cat\":oct,\n",
    "                        \"DSS_must_be_tailored_for_your_farm_Cat\":oct, \"Marketing_info_about_DSS_Cat\":oct\n",
    "                       })\n",
    "\"\"\""
   ]
  },
  {
   "cell_type": "code",
   "execution_count": 16,
   "metadata": {},
   "outputs": [],
   "source": [
    "# List of ordinal features\n",
    "ord_feat = [\"Age_Cat\", \"Degree_Cat\", \"Farm_size_Cat\", \"Income_Cat\", \"Production_level_1to3\", \"Agricultural_app_use_Cat\", \"Speed_internet_Cat\", \n",
    "            \"How_do_you_access_DSS_Cat\", \"Importance_of_easy_to_use_1to3\", \"Importance_of_efficient_1to3\", \"Importance_low_price_1to3\", \n",
    "            \"Importance_polyvalence_1to3\", \"Enjoy_using_new_techs_1to3\", \"Appreciate_change_1to3\", \"Trust_in_DSS_1to3\", \"Trust_in_colleague_advice_1to3\", \n",
    "            \"Trust_advice_friend_1to3\", \"Need_IT_teaching_Cat\",\"DSS_can_improve_your_productivity_Cat\", \"Share_DSS_exp_with_colleague_Cat\", \n",
    "            \"WTP_for_DSS_Cat\", \"DSS_must_be_tailored_for_your_farm_Cat\", \"Marketing_info_about_DSS_Cat\"]\n",
    "\n",
    "# List of numeric features\n",
    "num_feat = [\"Years_own_phone\", \"Proportion_of_income\"]\n",
    "\n",
    "nom_feat = []"
   ]
  },
  {
   "cell_type": "code",
   "execution_count": 17,
   "metadata": {},
   "outputs": [
    {
     "data": {
      "text/plain": [
       "'oct = CategoricalDtype(ordered=True)\\n{name: oct for name in ord_feat}'"
      ]
     },
     "execution_count": 17,
     "metadata": {},
     "output_type": "execute_result"
    }
   ],
   "source": [
    "# How to make a dict out of ord_feat\n",
    "\"\"\"oct = CategoricalDtype(ordered=True)\n",
    "{name: oct for name in ord_feat}\"\"\""
   ]
  },
  {
   "cell_type": "code",
   "execution_count": 18,
   "metadata": {},
   "outputs": [],
   "source": [
    "# df with ordinal and numeric featureas only\n",
    "ordnum_df = pd.concat([df_noNaN[ord_feat], df_noNaN[num_feat]], axis=1).copy()\n",
    "\n",
    "# Extract column names\n",
    "all_col_names = list(df_noNaN.columns)\n",
    "ordnum_col_names = list(ordnum_df.columns)\n",
    "nom_col_names = [_ for _ in all_col_names if _ not in ordnum_col_names]\n",
    "\n",
    "# List of nominal features\n",
    "nom_feat = nom_col_names.copy()\n",
    "\n",
    "# df with nominal features only (all but two (\"Crop_Group_Cat\" and \"Willing_to_try_new_products_Cat\") are binary)\n",
    "# binarizarja ta dva\n",
    "nom_df = df_noNaN[nom_col_names].copy()"
   ]
  },
  {
   "cell_type": "markdown",
   "metadata": {
    "id": "s0YJRtEPvdzU"
   },
   "source": [
    "# Dimensionality reduction"
   ]
  },
  {
   "cell_type": "markdown",
   "metadata": {},
   "source": [
    "### Ordinal and numeric features"
   ]
  },
  {
   "cell_type": "code",
   "execution_count": 19,
   "metadata": {
    "colab": {
     "base_uri": "https://localhost:8080/",
     "height": 439
    },
    "executionInfo": {
     "elapsed": 40331,
     "status": "ok",
     "timestamp": 1618570900751,
     "user": {
      "displayName": "Martin Marzidovsek",
      "photoUrl": "https://lh3.googleusercontent.com/a-/AOh14GhXbFh589XGiI6oB78rtIMBiCa5tel2SF_97PQ1fA=s64",
      "userId": "00159942044512018365"
     },
     "user_tz": -120
    },
    "id": "V1svODxIWrh3",
    "outputId": "de718f12-ebec-4fe5-cef0-cdd2778f4768"
   },
   "outputs": [
    {
     "data": {
      "text/plain": [
       "Text(0.5, 1.0, 'UMAP projection of IPM')"
      ]
     },
     "execution_count": 19,
     "metadata": {},
     "output_type": "execute_result"
    },
    {
     "data": {
      "image/png": "[encoded data removed]",
      "text/plain": [
       "<Figure size 504x504 with 1 Axes>"
      ]
     },
     "metadata": {},
     "output_type": "display_data"
    }
   ],
   "source": [
    "# Standardisation\n",
    "scaled_array = StandardScaler().fit_transform(ordnum_df)\n",
    "scaled_df = pd.DataFrame(scaled_array, columns=ordnum_df.columns)\n",
    "\n",
    "# Mapping\n",
    "reducer = umap.UMAP(n_neighbors=10, random_state=123, n_components=2, metric=\"euclidean\")\n",
    "ord_embedding = reducer.fit_transform(scaled_df)\n",
    "\n",
    "sns.set(style='white', context='notebook', rc={'figure.figsize':(14,10)})\n",
    "fig, ax = plt.subplots(figsize=(7,7))\n",
    "xs = ord_embedding[:, 0]\n",
    "ys = ord_embedding[:, 1] \n",
    "\n",
    "ax.scatter(xs, ys, c=[sns.color_palette()[int(x)] for x in ordnum_df['DSS_can_improve_your_productivity_Cat']])\n",
    "\n",
    "for i, val in enumerate(df_noNaN['Income_Cat'].values.tolist()):\n",
    "    ax.annotate(str(int(val)), (xs[i], ys[i]), fontsize=9)\n",
    "plt.title('UMAP projection of IPM')"
   ]
  },
  {
   "cell_type": "markdown",
   "metadata": {},
   "source": [
    "##### how to add index as number in above loop?"
   ]
  },
  {
   "cell_type": "markdown",
   "metadata": {},
   "source": [
    "### Nominal features"
   ]
  },
  {
   "cell_type": "code",
   "execution_count": 20,
   "metadata": {},
   "outputs": [
    {
     "name": "stderr",
     "output_type": "stream",
     "text": [
      "/Users/mmarzi/opt/anaconda3/envs/ipm/lib/python3.9/site-packages/umap/umap_.py:1760: UserWarning: gradient function is not yet implemented for dice distance metric; inverse_transform will be unavailable\n",
      "  warn(\n"
     ]
    },
    {
     "data": {
      "text/plain": [
       "Text(0.5, 1.0, 'UMAP projection of IPM')"
      ]
     },
     "execution_count": 20,
     "metadata": {},
     "output_type": "execute_result"
    },
    {
     "data": {
      "image/png": "[encoded data removed]",
      "text/plain": [
       "<Figure size 504x504 with 1 Axes>"
      ]
     },
     "metadata": {},
     "output_type": "display_data"
    }
   ],
   "source": [
    "# scaled_array = StandardScaler().fit_transform(nom_df)\n",
    "# scaled_df = pd.DataFrame(scaled_array, columns=nom_df.columns)\n",
    "\n",
    "reducer = umap.UMAP(n_neighbors=10, random_state=123, n_components=2, metric=\"dice\")\n",
    "nom_embedding = reducer.fit_transform(nom_df)\n",
    "\n",
    "fig, ax = plt.subplots(figsize=(7,7))\n",
    "xs = nom_embedding[:, 0]\n",
    "ys = nom_embedding[:, 1] \n",
    "\n",
    "ax.scatter(xs, ys, c=[sns.color_palette()[int(x)] for x in nom_df['Already_used_DSS']])\n",
    "\n",
    "for i, val in enumerate(df_noNaN['Income_Cat'].values.tolist()):\n",
    "    ax.annotate(str(int(val)), (xs[i], ys[i]), fontsize=9)\n",
    "plt.title('UMAP projection of IPM')\n",
    "\n",
    "# naredi for loop da odstranjaš posamično atribute"
   ]
  },
  {
   "cell_type": "markdown",
   "metadata": {},
   "source": [
    "### Combine nominal and ordinal/numeric feature maps"
   ]
  },
  {
   "cell_type": "code",
   "execution_count": 21,
   "metadata": {},
   "outputs": [],
   "source": [
    "# combine mappings\n",
    "intersection_embedding = nom_embedding * ord_embedding\n",
    "union_embedding = nom_embedding + ord_embedding"
   ]
  },
  {
   "cell_type": "code",
   "execution_count": 22,
   "metadata": {},
   "outputs": [
    {
     "data": {
      "text/plain": [
       "Text(0.5, 1.0, 'UMAP projection of IPM')"
      ]
     },
     "execution_count": 22,
     "metadata": {},
     "output_type": "execute_result"
    },
    {
     "data": {
      "image/png": "[encoded data removed]",
      "text/plain": [
       "<Figure size 504x504 with 1 Axes>"
      ]
     },
     "metadata": {},
     "output_type": "display_data"
    }
   ],
   "source": [
    "# plot\n",
    "fig, ax = plt.subplots(figsize=(7,7))\n",
    "xs = intersection_embedding[:, 0]\n",
    "ys = intersection_embedding[:, 1] \n",
    "\n",
    "ax.scatter(xs, ys, c=[sns.color_palette()[int(x)] for x in df_noNaN['Already_used_DSS']])\n",
    "\n",
    "for i, val in enumerate(df_noNaN['Income_Cat'].values.tolist()):\n",
    "    ax.annotate(str(int(val)), (xs[i], ys[i]), fontsize=9)\n",
    "plt.title('UMAP projection of IPM')"
   ]
  },
  {
   "cell_type": "code",
   "execution_count": 23,
   "metadata": {},
   "outputs": [
    {
     "data": {
      "text/plain": [
       "Text(0.5, 1.0, 'UMAP projection of IPM')"
      ]
     },
     "execution_count": 23,
     "metadata": {},
     "output_type": "execute_result"
    },
    {
     "data": {
      "image/png": "[encoded data removed]",
      "text/plain": [
       "<Figure size 504x504 with 1 Axes>"
      ]
     },
     "metadata": {},
     "output_type": "display_data"
    }
   ],
   "source": [
    "fig, ax = plt.subplots(figsize=(7,7))\n",
    "xs = union_embedding[:, 0]\n",
    "ys = union_embedding[:, 1] \n",
    "\n",
    "ax.scatter(xs, ys, c=[sns.color_palette()[int(x)] for x in df_noNaN['Already_used_DSS']])\n",
    "\n",
    "for i, val in enumerate(df_noNaN['Income_Cat'].values.tolist()):\n",
    "    ax.annotate(str(int(val)), (xs[i], ys[i]), fontsize=9)\n",
    "plt.title('UMAP projection of IPM')"
   ]
  },
  {
   "cell_type": "code",
   "execution_count": 24,
   "metadata": {},
   "outputs": [
    {
     "data": {
      "text/plain": [
       "Text(0.5, 1.0, 'UMAP projection of IPM')"
      ]
     },
     "execution_count": 24,
     "metadata": {},
     "output_type": "execute_result"
    },
    {
     "data": {
      "image/png": "[encoded data removed]",
      "text/plain": [
       "<Figure size 504x504 with 1 Axes>"
      ]
     },
     "metadata": {},
     "output_type": "display_data"
    }
   ],
   "source": [
    "fig, ax = plt.subplots(figsize=(7,7))\n",
    "xs = intersection_embedding[:, 0]\n",
    "ys = intersection_embedding[:, 1] \n",
    "\n",
    "ax.scatter(xs, ys, c=[sns.color_palette()[int(x)] for x in df_noNaN['DSS_can_improve_your_productivity_Cat']])\n",
    "\n",
    "for i, val in enumerate(df_noNaN['Income_Cat'].values.tolist()):\n",
    "    ax.annotate(str(int(val)), (xs[i], ys[i]), fontsize=9)\n",
    "plt.title('UMAP projection of IPM')"
   ]
  },
  {
   "cell_type": "code",
   "execution_count": 25,
   "metadata": {},
   "outputs": [
    {
     "data": {
      "text/plain": [
       "Text(0.5, 1.0, 'UMAP projection of IPM')"
      ]
     },
     "execution_count": 25,
     "metadata": {},
     "output_type": "execute_result"
    },
    {
     "data": {
      "image/png": "[encoded data removed]",
      "text/plain": [
       "<Figure size 504x504 with 1 Axes>"
      ]
     },
     "metadata": {},
     "output_type": "display_data"
    }
   ],
   "source": [
    "fig, ax = plt.subplots(figsize=(7,7))\n",
    "xs = union_embedding[:, 0]\n",
    "ys = union_embedding[:, 1] \n",
    "\n",
    "ax.scatter(xs, ys, c=[sns.color_palette()[int(x)] for x in df_noNaN['DSS_can_improve_your_productivity_Cat']])\n",
    "\n",
    "for i, val in enumerate(df_noNaN['Income_Cat'].values.tolist()):\n",
    "    ax.annotate(str(int(val)), (xs[i], ys[i]), fontsize=9)\n",
    "plt.title('UMAP projection of IPM')"
   ]
  },
  {
   "cell_type": "markdown",
   "metadata": {
    "id": "1coJnky8vgQC"
   },
   "source": [
    "# CLUSTERING"
   ]
  },
  {
   "cell_type": "code",
   "execution_count": 26,
   "metadata": {},
   "outputs": [],
   "source": [
    "import hdbscan\n",
    "import sklearn.cluster as cluster\n",
    "from sklearn.metrics import adjusted_rand_score, adjusted_mutual_info_score"
   ]
  },
  {
   "cell_type": "code",
   "execution_count": 27,
   "metadata": {},
   "outputs": [
    {
     "data": {
      "image/png": "[encoded data removed]",
      "text/plain": [
       "<Figure size 504x504 with 1 Axes>"
      ]
     },
     "metadata": {},
     "output_type": "display_data"
    }
   ],
   "source": [
    "# kmeans\n",
    "kmeans_labels = cluster.KMeans(n_clusters=3).fit_predict(intersection_embedding)\n",
    "#kmeans_labels\n",
    "\n",
    "fig, ax = plt.subplots(figsize=(7,7))\n",
    "ax.scatter(intersection_embedding[:, 0], intersection_embedding[:, 1], c=kmeans_labels, s=30, cmap='cool')\n",
    "\n",
    "# daj clustre (številke) gor v umap\n",
    "for i, val in enumerate(kmeans_labels.tolist()):\n",
    "    ax.annotate(str(int(val)), (intersection_embedding[:, 0][i], intersection_embedding[:, 1][i]), fontsize=15)"
   ]
  },
  {
   "cell_type": "code",
   "execution_count": 28,
   "metadata": {},
   "outputs": [
    {
     "name": "stderr",
     "output_type": "stream",
     "text": [
      "*c* argument looks like a single numeric RGB or RGBA sequence, which should be avoided as value-mapping will have precedence in case its length matches with *x* & *y*.  Please use the *color* keyword-argument or provide a 2-D array with a single row if you intend to specify the same RGB or RGBA value for all points.\n"
     ]
    },
    {
     "data": {
      "image/png": "[encoded data removed]",
      "text/plain": [
       "<Figure size 504x504 with 1 Axes>"
      ]
     },
     "metadata": {},
     "output_type": "display_data"
    }
   ],
   "source": [
    "# hdbscan\n",
    "hdbscan_labels = hdbscan.HDBSCAN(min_samples=3, min_cluster_size=6).fit_predict(intersection_embedding)\n",
    "\n",
    "fig, ax = plt.subplots(figsize=(7,7))\n",
    "\n",
    "clustered = (hdbscan_labels >= 0)\n",
    "ax.scatter(intersection_embedding[~clustered, 0],\n",
    "            intersection_embedding[~clustered, 1],\n",
    "            c=(0.5, 0.5, 0.5),\n",
    "            s=50,\n",
    "            alpha=0.3)\n",
    "\n",
    "ax.scatter(intersection_embedding[clustered, 0],\n",
    "            intersection_embedding[clustered, 1],\n",
    "            c=hdbscan_labels[clustered],\n",
    "            s=50,\n",
    "            cmap='cool')\n",
    "\n",
    "for i, val in enumerate(hdbscan_labels):\n",
    "    ax.annotate(str(int(val)), (intersection_embedding[:, 0][i], intersection_embedding[:, 1][i]), fontsize=13)"
   ]
  },
  {
   "cell_type": "markdown",
   "metadata": {},
   "source": [
    "# Cluster explanation "
   ]
  },
  {
   "cell_type": "code",
   "execution_count": 29,
   "metadata": {},
   "outputs": [],
   "source": [
    "# dodaj cluster kot atribut in potem classify; ali export v Weka\n",
    "# use Weka and See5 (Quinlan) [moraš poklicat s !]\n",
    "# https://colab.research.google.com/drive/1A9bZkPvXPAViipan7u9siQfkakChyYFV?usp=sharing#scrollTo=CgxRusBSCxrn"
   ]
  },
  {
   "cell_type": "markdown",
   "metadata": {},
   "source": [
    "## Interactive 3D Visualisation"
   ]
  },
  {
   "cell_type": "code",
   "execution_count": 125,
   "metadata": {},
   "outputs": [
    {
     "name": "stdout",
     "output_type": "stream",
     "text": [
      "intersection_clusters : [ 0  4  4  4  4  5  1  5  2  5 -1  0  4  5  5  2  4  5  5  2  4  5  4  4\n",
      "  5  5  1  5  2  5 -1  5  5  1  5  0  5  4 -1  0  1  3  5  3  1  2  3  3\n",
      "  2  5  4  5  5  5]\n",
      "union_clusters : [1 3 3 3 3 5 2 5 0 5 5 1 3 5 5 0 3 5 5 0 3 5 4 3 5 5 2 5 0 5 1 5 5 2 5 1 5\n",
      " 3 3 1 2 4 5 4 2 0 4 4 0 5 3 5 5 5]\n"
     ]
    }
   ],
   "source": [
    "# 3d embedding\n",
    "reducer3d = umap.UMAP(n_neighbors=3, random_state=123, n_components=3, metric=\"euclidean\")\n",
    "ord_embedding3d = reducer3d.fit_transform(ordnum_df)\n",
    "nom_embedding3d = reducer3d.fit_transform(nom_df)\n",
    "\n",
    "# combine mappings\n",
    "intersection_embedding3d = nom_embedding3d * ord_embedding3d\n",
    "union_embedding3d = nom_embedding3d + ord_embedding3d\n",
    "\n",
    "# hdbscan\n",
    "intersection_clusters = hdbscan.HDBSCAN(min_samples=2, min_cluster_size=2).fit_predict(intersection_embedding3d)\n",
    "union_clusters = hdbscan.HDBSCAN(min_samples=3, min_cluster_size=5).fit_predict(union_embedding3d)\n",
    "print(\"intersection_clusters :\", intersection_clusters)\n",
    "print(\"union_clusters :\", union_clusters)"
   ]
  },
  {
   "cell_type": "markdown",
   "metadata": {},
   "source": [
    "### Plotly visualisation"
   ]
  },
  {
   "cell_type": "code",
   "execution_count": 109,
   "metadata": {},
   "outputs": [],
   "source": [
    "import plotly.express as px"
   ]
  },
  {
   "cell_type": "code",
   "execution_count": 126,
   "metadata": {},
   "outputs": [],
   "source": [
    "intersection_df = pd.DataFrame(data=embedding3d, columns=[\"x\", \"y\", \"z\"])\n",
    "union_df = pd.DataFrame(data=embedding3d, columns=[\"x\", \"y\", \"z\"])"
   ]
  },
  {
   "cell_type": "code",
   "execution_count": 127,
   "metadata": {},
   "outputs": [
    {
     "data": {
      "application/vnd.plotly.v1+json": {
       "config": {
        "plotlyServerURL": "https://plot.ly"
       },
       "data": [
        {
         "hovertemplate": "x=%{x}<br>y=%{y}<br>z=%{z}<br>color=%{marker.color}<extra></extra>",
         "legendgroup": "",
         "marker": {
          "color": [
           0,
           4,
           4,
           4,
           4,
           5,
           1,
           5,
           2,
           5,
           -1,
           0,
           4,
           5,
           5,
           2,
           4,
           5,
           5,
           2,
           4,
           5,
           4,
           4,
           5,
           5,
           1,
           5,
           2,
           5,
           -1,
           5,
           5,
           1,
           5,
           0,
           5,
           4,
           -1,
           0,
           1,
           3,
           5,
           3,
           1,
           2,
           3,
           3,
           2,
           5,
           4,
           5,
           5,
           5
          ],
          "coloraxis": "coloraxis",
          "symbol": "circle"
         },
         "mode": "markers",
         "name": "",
         "scene": "scene",
         "showlegend": false,
         "type": "scatter3d",
         "x": [
          20.53284454345703,
          2.188781976699829,
          2.2923781871795654,
          2.7672278881073,
          2.8580331802368164,
          7.438173770904541,
          -9.243779182434082,
          7.200241565704346,
          1.2257479429244995,
          6.604031562805176,
          8.38598346710205,
          20.58397102355957,
          2.381641387939453,
          7.214476108551025,
          6.986325740814209,
          1.1167006492614746,
          2.6649630069732666,
          7.96531867980957,
          7.671385288238525,
          0.5478932857513428,
          2.5285778045654297,
          8.330498695373535,
          4.179829120635986,
          2.4145214557647705,
          8.168740272521973,
          8.105512619018555,
          -8.997322082519531,
          8.26409912109375,
          0.9081122279167175,
          7.385092258453369,
          20.77387809753418,
          8.294143676757812,
          6.94747257232666,
          -9.075471878051758,
          8.408674240112305,
          20.726537704467773,
          6.828494071960449,
          2.946824550628662,
          2.7709431648254395,
          20.524051666259766,
          -9.358454704284668,
          4.426481246948242,
          6.708706855773926,
          4.239205360412598,
          -9.222697257995605,
          1.2780189514160156,
          4.06964111328125,
          4.15446138381958,
          0.5088449120521545,
          7.875535488128662,
          2.5983917713165283,
          8.053173065185547,
          7.171375274658203,
          6.713954925537109
         ],
         "y": [
          -1.441372275352478,
          13.88961124420166,
          13.78472900390625,
          12.774601936340332,
          12.955155372619629,
          5.703276634216309,
          12.34675121307373,
          4.512900352478027,
          -7.913484573364258,
          5.758099555969238,
          4.682033538818359,
          -1.3901046514511108,
          13.334671974182129,
          5.638161659240723,
          5.2881293296813965,
          -7.734646797180176,
          13.001219749450684,
          4.6851301193237305,
          5.336980819702148,
          -7.942014217376709,
          12.770218849182129,
          5.340771675109863,
          8.90539264678955,
          12.900041580200195,
          4.8553314208984375,
          4.883947372436523,
          12.09985065460205,
          4.990785121917725,
          -7.8318681716918945,
          4.698154926300049,
          -1.2005187273025513,
          4.780428409576416,
          4.675048828125,
          12.178093910217285,
          5.140754222869873,
          -1.247700572013855,
          4.7086639404296875,
          13.049071311950684,
          12.716550827026367,
          -1.4501272439956665,
          12.461503028869629,
          8.660115242004395,
          5.689765453338623,
          8.846447944641113,
          12.32545280456543,
          -7.983299732208252,
          9.016054153442383,
          8.931036949157715,
          -7.98287296295166,
          5.174063205718994,
          13.15256404876709,
          4.908816337585449,
          5.037686824798584,
          5.570891857147217
         ],
         "z": [
          15.905488014221191,
          5.171933174133301,
          5.074590682983398,
          6.189072608947754,
          6.2826714515686035,
          3.0811045169830322,
          10.369759559631348,
          3.4878947734832764,
          -3.3984506130218506,
          4.425290107727051,
          4.96260404586792,
          15.854204177856445,
          5.151326656341553,
          3.226151704788208,
          3.579610824584961,
          -3.5715456008911133,
          5.153702259063721,
          3.7991466522216797,
          5.554319858551025,
          -3.4118080139160156,
          5.431061744689941,
          3.0503406524658203,
          10.46552848815918,
          5.143503189086914,
          3.8717668056488037,
          4.698720455169678,
          10.122983932495117,
          3.415414571762085,
          -3.5023043155670166,
          3.6061315536499023,
          15.664599418640137,
          5.109954833984375,
          3.31091046333313,
          10.201203346252441,
          3.1906864643096924,
          15.711799621582031,
          3.2897229194641113,
          5.854251384735107,
          5.854947090148926,
          15.914240837097168,
          10.484472274780273,
          10.219371795654297,
          4.545406341552734,
          10.407242774963379,
          10.348536491394043,
          -3.329829454421997,
          10.576432228088379,
          10.491660118103027,
          -3.369579792022705,
          5.528989791870117,
          5.444940090179443,
          4.784664630889893,
          3.729238748550415,
          4.121988296508789
         ]
        }
       ],
       "layout": {
        "autosize": true,
        "coloraxis": {
         "colorbar": {
          "title": {
           "text": "color"
          }
         },
         "colorscale": [
          [
           0,
           "#0d0887"
          ],
          [
           0.1111111111111111,
           "#46039f"
          ],
          [
           0.2222222222222222,
           "#7201a8"
          ],
          [
           0.3333333333333333,
           "#9c179e"
          ],
          [
           0.4444444444444444,
           "#bd3786"
          ],
          [
           0.5555555555555556,
           "#d8576b"
          ],
          [
           0.6666666666666666,
           "#ed7953"
          ],
          [
           0.7777777777777778,
           "#fb9f3a"
          ],
          [
           0.8888888888888888,
           "#fdca26"
          ],
          [
           1,
           "#f0f921"
          ]
         ]
        },
        "legend": {
         "tracegroupgap": 0
        },
        "margin": {
         "t": 60
        },
        "scene": {
         "aspectmode": "auto",
         "aspectratio": {
          "x": 1.2867089713898445,
          "y": 0.9340156624733417,
          "z": 0.8320808212642816
         },
         "camera": {
          "center": {
           "x": 0,
           "y": 0,
           "z": 0
          },
          "eye": {
           "x": 1.414769752589372,
           "y": -0.4989880990129784,
           "z": 0.4825429447174314
          },
          "projection": {
           "type": "perspective"
          },
          "up": {
           "x": 0,
           "y": 0,
           "z": 1
          }
         },
         "domain": {
          "x": [
           0,
           1
          ],
          "y": [
           0,
           1
          ]
         },
         "xaxis": {
          "title": {
           "text": "x"
          },
          "type": "linear"
         },
         "yaxis": {
          "title": {
           "text": "y"
          },
          "type": "linear"
         },
         "zaxis": {
          "title": {
           "text": "z"
          },
          "type": "linear"
         }
        },
        "template": {
         "data": {
          "bar": [
           {
            "error_x": {
             "color": "#2a3f5f"
            },
            "error_y": {
             "color": "#2a3f5f"
            },
            "marker": {
             "line": {
              "color": "#E5ECF6",
              "width": 0.5
             }
            },
            "type": "bar"
           }
          ],
          "barpolar": [
           {
            "marker": {
             "line": {
              "color": "#E5ECF6",
              "width": 0.5
             }
            },
            "type": "barpolar"
           }
          ],
          "carpet": [
           {
            "aaxis": {
             "endlinecolor": "#2a3f5f",
             "gridcolor": "white",
             "linecolor": "white",
             "minorgridcolor": "white",
             "startlinecolor": "#2a3f5f"
            },
            "baxis": {
             "endlinecolor": "#2a3f5f",
             "gridcolor": "white",
             "linecolor": "white",
             "minorgridcolor": "white",
             "startlinecolor": "#2a3f5f"
            },
            "type": "carpet"
           }
          ],
          "choropleth": [
           {
            "colorbar": {
             "outlinewidth": 0,
             "ticks": ""
            },
            "type": "choropleth"
           }
          ],
          "contour": [
           {
            "colorbar": {
             "outlinewidth": 0,
             "ticks": ""
            },
            "colorscale": [
             [
              0,
              "#0d0887"
             ],
             [
              0.1111111111111111,
              "#46039f"
             ],
             [
              0.2222222222222222,
              "#7201a8"
             ],
             [
              0.3333333333333333,
              "#9c179e"
             ],
             [
              0.4444444444444444,
              "#bd3786"
             ],
             [
              0.5555555555555556,
              "#d8576b"
             ],
             [
              0.6666666666666666,
              "#ed7953"
             ],
             [
              0.7777777777777778,
              "#fb9f3a"
             ],
             [
              0.8888888888888888,
              "#fdca26"
             ],
             [
              1,
              "#f0f921"
             ]
            ],
            "type": "contour"
           }
          ],
          "contourcarpet": [
           {
            "colorbar": {
             "outlinewidth": 0,
             "ticks": ""
            },
            "type": "contourcarpet"
           }
          ],
          "heatmap": [
           {
            "colorbar": {
             "outlinewidth": 0,
             "ticks": ""
            },
            "colorscale": [
             [
              0,
              "#0d0887"
             ],
             [
              0.1111111111111111,
              "#46039f"
             ],
             [
              0.2222222222222222,
              "#7201a8"
             ],
             [
              0.3333333333333333,
              "#9c179e"
             ],
             [
              0.4444444444444444,
              "#bd3786"
             ],
             [
              0.5555555555555556,
              "#d8576b"
             ],
             [
              0.6666666666666666,
              "#ed7953"
             ],
             [
              0.7777777777777778,
              "#fb9f3a"
             ],
             [
              0.8888888888888888,
              "#fdca26"
             ],
             [
              1,
              "#f0f921"
             ]
            ],
            "type": "heatmap"
           }
          ],
          "heatmapgl": [
           {
            "colorbar": {
             "outlinewidth": 0,
             "ticks": ""
            },
            "colorscale": [
             [
              0,
              "#0d0887"
             ],
             [
              0.1111111111111111,
              "#46039f"
             ],
             [
              0.2222222222222222,
              "#7201a8"
             ],
             [
              0.3333333333333333,
              "#9c179e"
             ],
             [
              0.4444444444444444,
              "#bd3786"
             ],
             [
              0.5555555555555556,
              "#d8576b"
             ],
             [
              0.6666666666666666,
              "#ed7953"
             ],
             [
              0.7777777777777778,
              "#fb9f3a"
             ],
             [
              0.8888888888888888,
              "#fdca26"
             ],
             [
              1,
              "#f0f921"
             ]
            ],
            "type": "heatmapgl"
           }
          ],
          "histogram": [
           {
            "marker": {
             "colorbar": {
              "outlinewidth": 0,
              "ticks": ""
             }
            },
            "type": "histogram"
           }
          ],
          "histogram2d": [
           {
            "colorbar": {
             "outlinewidth": 0,
             "ticks": ""
            },
            "colorscale": [
             [
              0,
              "#0d0887"
             ],
             [
              0.1111111111111111,
              "#46039f"
             ],
             [
              0.2222222222222222,
              "#7201a8"
             ],
             [
              0.3333333333333333,
              "#9c179e"
             ],
             [
              0.4444444444444444,
              "#bd3786"
             ],
             [
              0.5555555555555556,
              "#d8576b"
             ],
             [
              0.6666666666666666,
              "#ed7953"
             ],
             [
              0.7777777777777778,
              "#fb9f3a"
             ],
             [
              0.8888888888888888,
              "#fdca26"
             ],
             [
              1,
              "#f0f921"
             ]
            ],
            "type": "histogram2d"
           }
          ],
          "histogram2dcontour": [
           {
            "colorbar": {
             "outlinewidth": 0,
             "ticks": ""
            },
            "colorscale": [
             [
              0,
              "#0d0887"
             ],
             [
              0.1111111111111111,
              "#46039f"
             ],
             [
              0.2222222222222222,
              "#7201a8"
             ],
             [
              0.3333333333333333,
              "#9c179e"
             ],
             [
              0.4444444444444444,
              "#bd3786"
             ],
             [
              0.5555555555555556,
              "#d8576b"
             ],
             [
              0.6666666666666666,
              "#ed7953"
             ],
             [
              0.7777777777777778,
              "#fb9f3a"
             ],
             [
              0.8888888888888888,
              "#fdca26"
             ],
             [
              1,
              "#f0f921"
             ]
            ],
            "type": "histogram2dcontour"
           }
          ],
          "mesh3d": [
           {
            "colorbar": {
             "outlinewidth": 0,
             "ticks": ""
            },
            "type": "mesh3d"
           }
          ],
          "parcoords": [
           {
            "line": {
             "colorbar": {
              "outlinewidth": 0,
              "ticks": ""
             }
            },
            "type": "parcoords"
           }
          ],
          "pie": [
           {
            "automargin": true,
            "type": "pie"
           }
          ],
          "scatter": [
           {
            "marker": {
             "colorbar": {
              "outlinewidth": 0,
              "ticks": ""
             }
            },
            "type": "scatter"
           }
          ],
          "scatter3d": [
           {
            "line": {
             "colorbar": {
              "outlinewidth": 0,
              "ticks": ""
             }
            },
            "marker": {
             "colorbar": {
              "outlinewidth": 0,
              "ticks": ""
             }
            },
            "type": "scatter3d"
           }
          ],
          "scattercarpet": [
           {
            "marker": {
             "colorbar": {
              "outlinewidth": 0,
              "ticks": ""
             }
            },
            "type": "scattercarpet"
           }
          ],
          "scattergeo": [
           {
            "marker": {
             "colorbar": {
              "outlinewidth": 0,
              "ticks": ""
             }
            },
            "type": "scattergeo"
           }
          ],
          "scattergl": [
           {
            "marker": {
             "colorbar": {
              "outlinewidth": 0,
              "ticks": ""
             }
            },
            "type": "scattergl"
           }
          ],
          "scattermapbox": [
           {
            "marker": {
             "colorbar": {
              "outlinewidth": 0,
              "ticks": ""
             }
            },
            "type": "scattermapbox"
           }
          ],
          "scatterpolar": [
           {
            "marker": {
             "colorbar": {
              "outlinewidth": 0,
              "ticks": ""
             }
            },
            "type": "scatterpolar"
           }
          ],
          "scatterpolargl": [
           {
            "marker": {
             "colorbar": {
              "outlinewidth": 0,
              "ticks": ""
             }
            },
            "type": "scatterpolargl"
           }
          ],
          "scatterternary": [
           {
            "marker": {
             "colorbar": {
              "outlinewidth": 0,
              "ticks": ""
             }
            },
            "type": "scatterternary"
           }
          ],
          "surface": [
           {
            "colorbar": {
             "outlinewidth": 0,
             "ticks": ""
            },
            "colorscale": [
             [
              0,
              "#0d0887"
             ],
             [
              0.1111111111111111,
              "#46039f"
             ],
             [
              0.2222222222222222,
              "#7201a8"
             ],
             [
              0.3333333333333333,
              "#9c179e"
             ],
             [
              0.4444444444444444,
              "#bd3786"
             ],
             [
              0.5555555555555556,
              "#d8576b"
             ],
             [
              0.6666666666666666,
              "#ed7953"
             ],
             [
              0.7777777777777778,
              "#fb9f3a"
             ],
             [
              0.8888888888888888,
              "#fdca26"
             ],
             [
              1,
              "#f0f921"
             ]
            ],
            "type": "surface"
           }
          ],
          "table": [
           {
            "cells": {
             "fill": {
              "color": "#EBF0F8"
             },
             "line": {
              "color": "white"
             }
            },
            "header": {
             "fill": {
              "color": "#C8D4E3"
             },
             "line": {
              "color": "white"
             }
            },
            "type": "table"
           }
          ]
         },
         "layout": {
          "annotationdefaults": {
           "arrowcolor": "#2a3f5f",
           "arrowhead": 0,
           "arrowwidth": 1
          },
          "autotypenumbers": "strict",
          "coloraxis": {
           "colorbar": {
            "outlinewidth": 0,
            "ticks": ""
           }
          },
          "colorscale": {
           "diverging": [
            [
             0,
             "#8e0152"
            ],
            [
             0.1,
             "#c51b7d"
            ],
            [
             0.2,
             "#de77ae"
            ],
            [
             0.3,
             "#f1b6da"
            ],
            [
             0.4,
             "#fde0ef"
            ],
            [
             0.5,
             "#f7f7f7"
            ],
            [
             0.6,
             "#e6f5d0"
            ],
            [
             0.7,
             "#b8e186"
            ],
            [
             0.8,
             "#7fbc41"
            ],
            [
             0.9,
             "#4d9221"
            ],
            [
             1,
             "#276419"
            ]
           ],
           "sequential": [
            [
             0,
             "#0d0887"
            ],
            [
             0.1111111111111111,
             "#46039f"
            ],
            [
             0.2222222222222222,
             "#7201a8"
            ],
            [
             0.3333333333333333,
             "#9c179e"
            ],
            [
             0.4444444444444444,
             "#bd3786"
            ],
            [
             0.5555555555555556,
             "#d8576b"
            ],
            [
             0.6666666666666666,
             "#ed7953"
            ],
            [
             0.7777777777777778,
             "#fb9f3a"
            ],
            [
             0.8888888888888888,
             "#fdca26"
            ],
            [
             1,
             "#f0f921"
            ]
           ],
           "sequentialminus": [
            [
             0,
             "#0d0887"
            ],
            [
             0.1111111111111111,
             "#46039f"
            ],
            [
             0.2222222222222222,
             "#7201a8"
            ],
            [
             0.3333333333333333,
             "#9c179e"
            ],
            [
             0.4444444444444444,
             "#bd3786"
            ],
            [
             0.5555555555555556,
             "#d8576b"
            ],
            [
             0.6666666666666666,
             "#ed7953"
            ],
            [
             0.7777777777777778,
             "#fb9f3a"
            ],
            [
             0.8888888888888888,
             "#fdca26"
            ],
            [
             1,
             "#f0f921"
            ]
           ]
          },
          "colorway": [
           "#636efa",
           "#EF553B",
           "#00cc96",
           "#ab63fa",
           "#FFA15A",
           "#19d3f3",
           "#FF6692",
           "#B6E880",
           "#FF97FF",
           "#FECB52"
          ],
          "font": {
           "color": "#2a3f5f"
          },
          "geo": {
           "bgcolor": "white",
           "lakecolor": "white",
           "landcolor": "#E5ECF6",
           "showlakes": true,
           "showland": true,
           "subunitcolor": "white"
          },
          "hoverlabel": {
           "align": "left"
          },
          "hovermode": "closest",
          "mapbox": {
           "style": "light"
          },
          "paper_bgcolor": "white",
          "plot_bgcolor": "#E5ECF6",
          "polar": {
           "angularaxis": {
            "gridcolor": "white",
            "linecolor": "white",
            "ticks": ""
           },
           "bgcolor": "#E5ECF6",
           "radialaxis": {
            "gridcolor": "white",
            "linecolor": "white",
            "ticks": ""
           }
          },
          "scene": {
           "xaxis": {
            "backgroundcolor": "#E5ECF6",
            "gridcolor": "white",
            "gridwidth": 2,
            "linecolor": "white",
            "showbackground": true,
            "ticks": "",
            "zerolinecolor": "white"
           },
           "yaxis": {
            "backgroundcolor": "#E5ECF6",
            "gridcolor": "white",
            "gridwidth": 2,
            "linecolor": "white",
            "showbackground": true,
            "ticks": "",
            "zerolinecolor": "white"
           },
           "zaxis": {
            "backgroundcolor": "#E5ECF6",
            "gridcolor": "white",
            "gridwidth": 2,
            "linecolor": "white",
            "showbackground": true,
            "ticks": "",
            "zerolinecolor": "white"
           }
          },
          "shapedefaults": {
           "line": {
            "color": "#2a3f5f"
           }
          },
          "ternary": {
           "aaxis": {
            "gridcolor": "white",
            "linecolor": "white",
            "ticks": ""
           },
           "baxis": {
            "gridcolor": "white",
            "linecolor": "white",
            "ticks": ""
           },
           "bgcolor": "#E5ECF6",
           "caxis": {
            "gridcolor": "white",
            "linecolor": "white",
            "ticks": ""
           }
          },
          "title": {
           "x": 0.05
          },
          "xaxis": {
           "automargin": true,
           "gridcolor": "white",
           "linecolor": "white",
           "ticks": "",
           "title": {
            "standoff": 15
           },
           "zerolinecolor": "white",
           "zerolinewidth": 2
          },
          "yaxis": {
           "automargin": true,
           "gridcolor": "white",
           "linecolor": "white",
           "ticks": "",
           "title": {
            "standoff": 15
           },
           "zerolinecolor": "white",
           "zerolinewidth": 2
          }
         }
        }
       }
      },
      "image/png": "[encoded data removed]",
      "text/html": [
       "<div>                            <div id=\"59c9eac6-d8ad-4f66-9856-784768595aed\" class=\"plotly-graph-div\" style=\"height:525px; width:100%;\"></div>            <script type=\"text/javascript\">                require([\"plotly\"], function(Plotly) {                    window.PLOTLYENV=window.PLOTLYENV || {};                                    if (document.getElementById(\"59c9eac6-d8ad-4f66-9856-784768595aed\")) {                    Plotly.newPlot(                        \"59c9eac6-d8ad-4f66-9856-784768595aed\",                        [{\"hovertemplate\": \"x=%{x}<br>y=%{y}<br>z=%{z}<br>color=%{marker.color}<extra></extra>\", \"legendgroup\": \"\", \"marker\": {\"color\": [0, 4, 4, 4, 4, 5, 1, 5, 2, 5, -1, 0, 4, 5, 5, 2, 4, 5, 5, 2, 4, 5, 4, 4, 5, 5, 1, 5, 2, 5, -1, 5, 5, 1, 5, 0, 5, 4, -1, 0, 1, 3, 5, 3, 1, 2, 3, 3, 2, 5, 4, 5, 5, 5], \"coloraxis\": \"coloraxis\", \"symbol\": \"circle\"}, \"mode\": \"markers\", \"name\": \"\", \"scene\": \"scene\", \"showlegend\": false, \"type\": \"scatter3d\", \"x\": [20.53284454345703, 2.188781976699829, 2.2923781871795654, 2.7672278881073, 2.8580331802368164, 7.438173770904541, -9.243779182434082, 7.200241565704346, 1.2257479429244995, 6.604031562805176, 8.38598346710205, 20.58397102355957, 2.381641387939453, 7.214476108551025, 6.986325740814209, 1.1167006492614746, 2.6649630069732666, 7.96531867980957, 7.671385288238525, 0.5478932857513428, 2.5285778045654297, 8.330498695373535, 4.179829120635986, 2.4145214557647705, 8.168740272521973, 8.105512619018555, -8.997322082519531, 8.26409912109375, 0.9081122279167175, 7.385092258453369, 20.77387809753418, 8.294143676757812, 6.94747257232666, -9.075471878051758, 8.408674240112305, 20.726537704467773, 6.828494071960449, 2.946824550628662, 2.7709431648254395, 20.524051666259766, -9.358454704284668, 4.426481246948242, 6.708706855773926, 4.239205360412598, -9.222697257995605, 1.2780189514160156, 4.06964111328125, 4.15446138381958, 0.5088449120521545, 7.875535488128662, 2.5983917713165283, 8.053173065185547, 7.171375274658203, 6.713954925537109], \"y\": [-1.441372275352478, 13.88961124420166, 13.78472900390625, 12.774601936340332, 12.955155372619629, 5.703276634216309, 12.34675121307373, 4.512900352478027, -7.913484573364258, 5.758099555969238, 4.682033538818359, -1.3901046514511108, 13.334671974182129, 5.638161659240723, 5.2881293296813965, -7.734646797180176, 13.001219749450684, 4.6851301193237305, 5.336980819702148, -7.942014217376709, 12.770218849182129, 5.340771675109863, 8.90539264678955, 12.900041580200195, 4.8553314208984375, 4.883947372436523, 12.09985065460205, 4.990785121917725, -7.8318681716918945, 4.698154926300049, -1.2005187273025513, 4.780428409576416, 4.675048828125, 12.178093910217285, 5.140754222869873, -1.247700572013855, 4.7086639404296875, 13.049071311950684, 12.716550827026367, -1.4501272439956665, 12.461503028869629, 8.660115242004395, 5.689765453338623, 8.846447944641113, 12.32545280456543, -7.983299732208252, 9.016054153442383, 8.931036949157715, -7.98287296295166, 5.174063205718994, 13.15256404876709, 4.908816337585449, 5.037686824798584, 5.570891857147217], \"z\": [15.905488014221191, 5.171933174133301, 5.074590682983398, 6.189072608947754, 6.2826714515686035, 3.0811045169830322, 10.369759559631348, 3.4878947734832764, -3.3984506130218506, 4.425290107727051, 4.96260404586792, 15.854204177856445, 5.151326656341553, 3.226151704788208, 3.579610824584961, -3.5715456008911133, 5.153702259063721, 3.7991466522216797, 5.554319858551025, -3.4118080139160156, 5.431061744689941, 3.0503406524658203, 10.46552848815918, 5.143503189086914, 3.8717668056488037, 4.698720455169678, 10.122983932495117, 3.415414571762085, -3.5023043155670166, 3.6061315536499023, 15.664599418640137, 5.109954833984375, 3.31091046333313, 10.201203346252441, 3.1906864643096924, 15.711799621582031, 3.2897229194641113, 5.854251384735107, 5.854947090148926, 15.914240837097168, 10.484472274780273, 10.219371795654297, 4.545406341552734, 10.407242774963379, 10.348536491394043, -3.329829454421997, 10.576432228088379, 10.491660118103027, -3.369579792022705, 5.528989791870117, 5.444940090179443, 4.784664630889893, 3.729238748550415, 4.121988296508789]}],                        {\"coloraxis\": {\"colorbar\": {\"title\": {\"text\": \"color\"}}, \"colorscale\": [[0.0, \"#0d0887\"], [0.1111111111111111, \"#46039f\"], [0.2222222222222222, \"#7201a8\"], [0.3333333333333333, \"#9c179e\"], [0.4444444444444444, \"#bd3786\"], [0.5555555555555556, \"#d8576b\"], [0.6666666666666666, \"#ed7953\"], [0.7777777777777778, \"#fb9f3a\"], [0.8888888888888888, \"#fdca26\"], [1.0, \"#f0f921\"]]}, \"legend\": {\"tracegroupgap\": 0}, \"margin\": {\"t\": 60}, \"scene\": {\"domain\": {\"x\": [0.0, 1.0], \"y\": [0.0, 1.0]}, \"xaxis\": {\"title\": {\"text\": \"x\"}}, \"yaxis\": {\"title\": {\"text\": \"y\"}}, \"zaxis\": {\"title\": {\"text\": \"z\"}}}, \"template\": {\"data\": {\"bar\": [{\"error_x\": {\"color\": \"#2a3f5f\"}, \"error_y\": {\"color\": \"#2a3f5f\"}, \"marker\": {\"line\": {\"color\": \"#E5ECF6\", \"width\": 0.5}}, \"type\": \"bar\"}], \"barpolar\": [{\"marker\": {\"line\": {\"color\": \"#E5ECF6\", \"width\": 0.5}}, \"type\": \"barpolar\"}], \"carpet\": [{\"aaxis\": {\"endlinecolor\": \"#2a3f5f\", \"gridcolor\": \"white\", \"linecolor\": \"white\", \"minorgridcolor\": \"white\", \"startlinecolor\": \"#2a3f5f\"}, \"baxis\": {\"endlinecolor\": \"#2a3f5f\", \"gridcolor\": \"white\", \"linecolor\": \"white\", \"minorgridcolor\": \"white\", \"startlinecolor\": \"#2a3f5f\"}, \"type\": \"carpet\"}], \"choropleth\": [{\"colorbar\": {\"outlinewidth\": 0, \"ticks\": \"\"}, \"type\": \"choropleth\"}], \"contour\": [{\"colorbar\": {\"outlinewidth\": 0, \"ticks\": \"\"}, \"colorscale\": [[0.0, \"#0d0887\"], [0.1111111111111111, \"#46039f\"], [0.2222222222222222, \"#7201a8\"], [0.3333333333333333, \"#9c179e\"], [0.4444444444444444, \"#bd3786\"], [0.5555555555555556, \"#d8576b\"], [0.6666666666666666, \"#ed7953\"], [0.7777777777777778, \"#fb9f3a\"], [0.8888888888888888, \"#fdca26\"], [1.0, \"#f0f921\"]], \"type\": \"contour\"}], \"contourcarpet\": [{\"colorbar\": {\"outlinewidth\": 0, \"ticks\": \"\"}, \"type\": \"contourcarpet\"}], \"heatmap\": [{\"colorbar\": {\"outlinewidth\": 0, \"ticks\": \"\"}, \"colorscale\": [[0.0, \"#0d0887\"], [0.1111111111111111, \"#46039f\"], [0.2222222222222222, \"#7201a8\"], [0.3333333333333333, \"#9c179e\"], [0.4444444444444444, \"#bd3786\"], [0.5555555555555556, \"#d8576b\"], [0.6666666666666666, \"#ed7953\"], [0.7777777777777778, \"#fb9f3a\"], [0.8888888888888888, \"#fdca26\"], [1.0, \"#f0f921\"]], \"type\": \"heatmap\"}], \"heatmapgl\": [{\"colorbar\": {\"outlinewidth\": 0, \"ticks\": \"\"}, \"colorscale\": [[0.0, \"#0d0887\"], [0.1111111111111111, \"#46039f\"], [0.2222222222222222, \"#7201a8\"], [0.3333333333333333, \"#9c179e\"], [0.4444444444444444, \"#bd3786\"], [0.5555555555555556, \"#d8576b\"], [0.6666666666666666, \"#ed7953\"], [0.7777777777777778, \"#fb9f3a\"], [0.8888888888888888, \"#fdca26\"], [1.0, \"#f0f921\"]], \"type\": \"heatmapgl\"}], \"histogram\": [{\"marker\": {\"colorbar\": {\"outlinewidth\": 0, \"ticks\": \"\"}}, \"type\": \"histogram\"}], \"histogram2d\": [{\"colorbar\": {\"outlinewidth\": 0, \"ticks\": \"\"}, \"colorscale\": [[0.0, \"#0d0887\"], [0.1111111111111111, \"#46039f\"], [0.2222222222222222, \"#7201a8\"], [0.3333333333333333, \"#9c179e\"], [0.4444444444444444, \"#bd3786\"], [0.5555555555555556, \"#d8576b\"], [0.6666666666666666, \"#ed7953\"], [0.7777777777777778, \"#fb9f3a\"], [0.8888888888888888, \"#fdca26\"], [1.0, \"#f0f921\"]], \"type\": \"histogram2d\"}], \"histogram2dcontour\": [{\"colorbar\": {\"outlinewidth\": 0, \"ticks\": \"\"}, \"colorscale\": [[0.0, \"#0d0887\"], [0.1111111111111111, \"#46039f\"], [0.2222222222222222, \"#7201a8\"], [0.3333333333333333, \"#9c179e\"], [0.4444444444444444, \"#bd3786\"], [0.5555555555555556, \"#d8576b\"], [0.6666666666666666, \"#ed7953\"], [0.7777777777777778, \"#fb9f3a\"], [0.8888888888888888, \"#fdca26\"], [1.0, \"#f0f921\"]], \"type\": \"histogram2dcontour\"}], \"mesh3d\": [{\"colorbar\": {\"outlinewidth\": 0, \"ticks\": \"\"}, \"type\": \"mesh3d\"}], \"parcoords\": [{\"line\": {\"colorbar\": {\"outlinewidth\": 0, \"ticks\": \"\"}}, \"type\": \"parcoords\"}], \"pie\": [{\"automargin\": true, \"type\": \"pie\"}], \"scatter\": [{\"marker\": {\"colorbar\": {\"outlinewidth\": 0, \"ticks\": \"\"}}, \"type\": \"scatter\"}], \"scatter3d\": [{\"line\": {\"colorbar\": {\"outlinewidth\": 0, \"ticks\": \"\"}}, \"marker\": {\"colorbar\": {\"outlinewidth\": 0, \"ticks\": \"\"}}, \"type\": \"scatter3d\"}], \"scattercarpet\": [{\"marker\": {\"colorbar\": {\"outlinewidth\": 0, \"ticks\": \"\"}}, \"type\": \"scattercarpet\"}], \"scattergeo\": [{\"marker\": {\"colorbar\": {\"outlinewidth\": 0, \"ticks\": \"\"}}, \"type\": \"scattergeo\"}], \"scattergl\": [{\"marker\": {\"colorbar\": {\"outlinewidth\": 0, \"ticks\": \"\"}}, \"type\": \"scattergl\"}], \"scattermapbox\": [{\"marker\": {\"colorbar\": {\"outlinewidth\": 0, \"ticks\": \"\"}}, \"type\": \"scattermapbox\"}], \"scatterpolar\": [{\"marker\": {\"colorbar\": {\"outlinewidth\": 0, \"ticks\": \"\"}}, \"type\": \"scatterpolar\"}], \"scatterpolargl\": [{\"marker\": {\"colorbar\": {\"outlinewidth\": 0, \"ticks\": \"\"}}, \"type\": \"scatterpolargl\"}], \"scatterternary\": [{\"marker\": {\"colorbar\": {\"outlinewidth\": 0, \"ticks\": \"\"}}, \"type\": \"scatterternary\"}], \"surface\": [{\"colorbar\": {\"outlinewidth\": 0, \"ticks\": \"\"}, \"colorscale\": [[0.0, \"#0d0887\"], [0.1111111111111111, \"#46039f\"], [0.2222222222222222, \"#7201a8\"], [0.3333333333333333, \"#9c179e\"], [0.4444444444444444, \"#bd3786\"], [0.5555555555555556, \"#d8576b\"], [0.6666666666666666, \"#ed7953\"], [0.7777777777777778, \"#fb9f3a\"], [0.8888888888888888, \"#fdca26\"], [1.0, \"#f0f921\"]], \"type\": \"surface\"}], \"table\": [{\"cells\": {\"fill\": {\"color\": \"#EBF0F8\"}, \"line\": {\"color\": \"white\"}}, \"header\": {\"fill\": {\"color\": \"#C8D4E3\"}, \"line\": {\"color\": \"white\"}}, \"type\": \"table\"}]}, \"layout\": {\"annotationdefaults\": {\"arrowcolor\": \"#2a3f5f\", \"arrowhead\": 0, \"arrowwidth\": 1}, \"autotypenumbers\": \"strict\", \"coloraxis\": {\"colorbar\": {\"outlinewidth\": 0, \"ticks\": \"\"}}, \"colorscale\": {\"diverging\": [[0, \"#8e0152\"], [0.1, \"#c51b7d\"], [0.2, \"#de77ae\"], [0.3, \"#f1b6da\"], [0.4, \"#fde0ef\"], [0.5, \"#f7f7f7\"], [0.6, \"#e6f5d0\"], [0.7, \"#b8e186\"], [0.8, \"#7fbc41\"], [0.9, \"#4d9221\"], [1, \"#276419\"]], \"sequential\": [[0.0, \"#0d0887\"], [0.1111111111111111, \"#46039f\"], [0.2222222222222222, \"#7201a8\"], [0.3333333333333333, \"#9c179e\"], [0.4444444444444444, \"#bd3786\"], [0.5555555555555556, \"#d8576b\"], [0.6666666666666666, \"#ed7953\"], [0.7777777777777778, \"#fb9f3a\"], [0.8888888888888888, \"#fdca26\"], [1.0, \"#f0f921\"]], \"sequentialminus\": [[0.0, \"#0d0887\"], [0.1111111111111111, \"#46039f\"], [0.2222222222222222, \"#7201a8\"], [0.3333333333333333, \"#9c179e\"], [0.4444444444444444, \"#bd3786\"], [0.5555555555555556, \"#d8576b\"], [0.6666666666666666, \"#ed7953\"], [0.7777777777777778, \"#fb9f3a\"], [0.8888888888888888, \"#fdca26\"], [1.0, \"#f0f921\"]]}, \"colorway\": [\"#636efa\", \"#EF553B\", \"#00cc96\", \"#ab63fa\", \"#FFA15A\", \"#19d3f3\", \"#FF6692\", \"#B6E880\", \"#FF97FF\", \"#FECB52\"], \"font\": {\"color\": \"#2a3f5f\"}, \"geo\": {\"bgcolor\": \"white\", \"lakecolor\": \"white\", \"landcolor\": \"#E5ECF6\", \"showlakes\": true, \"showland\": true, \"subunitcolor\": \"white\"}, \"hoverlabel\": {\"align\": \"left\"}, \"hovermode\": \"closest\", \"mapbox\": {\"style\": \"light\"}, \"paper_bgcolor\": \"white\", \"plot_bgcolor\": \"#E5ECF6\", \"polar\": {\"angularaxis\": {\"gridcolor\": \"white\", \"linecolor\": \"white\", \"ticks\": \"\"}, \"bgcolor\": \"#E5ECF6\", \"radialaxis\": {\"gridcolor\": \"white\", \"linecolor\": \"white\", \"ticks\": \"\"}}, \"scene\": {\"xaxis\": {\"backgroundcolor\": \"#E5ECF6\", \"gridcolor\": \"white\", \"gridwidth\": 2, \"linecolor\": \"white\", \"showbackground\": true, \"ticks\": \"\", \"zerolinecolor\": \"white\"}, \"yaxis\": {\"backgroundcolor\": \"#E5ECF6\", \"gridcolor\": \"white\", \"gridwidth\": 2, \"linecolor\": \"white\", \"showbackground\": true, \"ticks\": \"\", \"zerolinecolor\": \"white\"}, \"zaxis\": {\"backgroundcolor\": \"#E5ECF6\", \"gridcolor\": \"white\", \"gridwidth\": 2, \"linecolor\": \"white\", \"showbackground\": true, \"ticks\": \"\", \"zerolinecolor\": \"white\"}}, \"shapedefaults\": {\"line\": {\"color\": \"#2a3f5f\"}}, \"ternary\": {\"aaxis\": {\"gridcolor\": \"white\", \"linecolor\": \"white\", \"ticks\": \"\"}, \"baxis\": {\"gridcolor\": \"white\", \"linecolor\": \"white\", \"ticks\": \"\"}, \"bgcolor\": \"#E5ECF6\", \"caxis\": {\"gridcolor\": \"white\", \"linecolor\": \"white\", \"ticks\": \"\"}}, \"title\": {\"x\": 0.05}, \"xaxis\": {\"automargin\": true, \"gridcolor\": \"white\", \"linecolor\": \"white\", \"ticks\": \"\", \"title\": {\"standoff\": 15}, \"zerolinecolor\": \"white\", \"zerolinewidth\": 2}, \"yaxis\": {\"automargin\": true, \"gridcolor\": \"white\", \"linecolor\": \"white\", \"ticks\": \"\", \"title\": {\"standoff\": 15}, \"zerolinecolor\": \"white\", \"zerolinewidth\": 2}}}},                        {\"responsive\": true}                    ).then(function(){\n",
       "                            \n",
       "var gd = document.getElementById('59c9eac6-d8ad-4f66-9856-784768595aed');\n",
       "var x = new MutationObserver(function (mutations, observer) {{\n",
       "        var display = window.getComputedStyle(gd).display;\n",
       "        if (!display || display === 'none') {{\n",
       "            console.log([gd, 'removed!']);\n",
       "            Plotly.purge(gd);\n",
       "            observer.disconnect();\n",
       "        }}\n",
       "}});\n",
       "\n",
       "// Listen for the removal of the full notebook cells\n",
       "var notebookContainer = gd.closest('#notebook-container');\n",
       "if (notebookContainer) {{\n",
       "    x.observe(notebookContainer, {childList: true});\n",
       "}}\n",
       "\n",
       "// Listen for the clearing of the current output cell\n",
       "var outputEl = gd.closest('.output');\n",
       "if (outputEl) {{\n",
       "    x.observe(outputEl, {childList: true});\n",
       "}}\n",
       "\n",
       "                        })                };                });            </script>        </div>"
      ]
     },
     "metadata": {},
     "output_type": "display_data"
    }
   ],
   "source": [
    "# Intersection embedding cluster visualisation \n",
    "fig = px.scatter_3d(intersection_df, \"x\",\"y\",\"z\", color=intersection_clusters)\n",
    "fig.show()"
   ]
  },
  {
   "cell_type": "code",
   "execution_count": 113,
   "metadata": {},
   "outputs": [
    {
     "data": {
      "application/vnd.plotly.v1+json": {
       "config": {
        "plotlyServerURL": "https://plot.ly"
       },
       "data": [
        {
         "hovertemplate": "x=%{x}<br>y=%{y}<br>z=%{z}<br>color=%{marker.color}<extra></extra>",
         "legendgroup": "",
         "marker": {
          "color": [
           1,
           3,
           3,
           3,
           3,
           5,
           2,
           5,
           0,
           5,
           5,
           1,
           3,
           5,
           5,
           0,
           3,
           5,
           5,
           0,
           3,
           5,
           4,
           3,
           5,
           5,
           2,
           5,
           0,
           5,
           1,
           5,
           5,
           2,
           5,
           1,
           5,
           3,
           3,
           1,
           2,
           4,
           5,
           4,
           2,
           0,
           4,
           4,
           0,
           5,
           3,
           5,
           5,
           5
          ],
          "coloraxis": "coloraxis",
          "symbol": "circle"
         },
         "mode": "markers",
         "name": "",
         "scene": "scene",
         "showlegend": false,
         "type": "scatter3d",
         "x": [
          20.53284454345703,
          2.188781976699829,
          2.2923781871795654,
          2.7672278881073,
          2.8580331802368164,
          7.438173770904541,
          -9.243779182434082,
          7.200241565704346,
          1.2257479429244995,
          6.604031562805176,
          8.38598346710205,
          20.58397102355957,
          2.381641387939453,
          7.214476108551025,
          6.986325740814209,
          1.1167006492614746,
          2.6649630069732666,
          7.96531867980957,
          7.671385288238525,
          0.5478932857513428,
          2.5285778045654297,
          8.330498695373535,
          4.179829120635986,
          2.4145214557647705,
          8.168740272521973,
          8.105512619018555,
          -8.997322082519531,
          8.26409912109375,
          0.9081122279167175,
          7.385092258453369,
          20.77387809753418,
          8.294143676757812,
          6.94747257232666,
          -9.075471878051758,
          8.408674240112305,
          20.726537704467773,
          6.828494071960449,
          2.946824550628662,
          2.7709431648254395,
          20.524051666259766,
          -9.358454704284668,
          4.426481246948242,
          6.708706855773926,
          4.239205360412598,
          -9.222697257995605,
          1.2780189514160156,
          4.06964111328125,
          4.15446138381958,
          0.5088449120521545,
          7.875535488128662,
          2.5983917713165283,
          8.053173065185547,
          7.171375274658203,
          6.713954925537109
         ],
         "y": [
          -1.441372275352478,
          13.88961124420166,
          13.78472900390625,
          12.774601936340332,
          12.955155372619629,
          5.703276634216309,
          12.34675121307373,
          4.512900352478027,
          -7.913484573364258,
          5.758099555969238,
          4.682033538818359,
          -1.3901046514511108,
          13.334671974182129,
          5.638161659240723,
          5.2881293296813965,
          -7.734646797180176,
          13.001219749450684,
          4.6851301193237305,
          5.336980819702148,
          -7.942014217376709,
          12.770218849182129,
          5.340771675109863,
          8.90539264678955,
          12.900041580200195,
          4.8553314208984375,
          4.883947372436523,
          12.09985065460205,
          4.990785121917725,
          -7.8318681716918945,
          4.698154926300049,
          -1.2005187273025513,
          4.780428409576416,
          4.675048828125,
          12.178093910217285,
          5.140754222869873,
          -1.247700572013855,
          4.7086639404296875,
          13.049071311950684,
          12.716550827026367,
          -1.4501272439956665,
          12.461503028869629,
          8.660115242004395,
          5.689765453338623,
          8.846447944641113,
          12.32545280456543,
          -7.983299732208252,
          9.016054153442383,
          8.931036949157715,
          -7.98287296295166,
          5.174063205718994,
          13.15256404876709,
          4.908816337585449,
          5.037686824798584,
          5.570891857147217
         ],
         "z": [
          15.905488014221191,
          5.171933174133301,
          5.074590682983398,
          6.189072608947754,
          6.2826714515686035,
          3.0811045169830322,
          10.369759559631348,
          3.4878947734832764,
          -3.3984506130218506,
          4.425290107727051,
          4.96260404586792,
          15.854204177856445,
          5.151326656341553,
          3.226151704788208,
          3.579610824584961,
          -3.5715456008911133,
          5.153702259063721,
          3.7991466522216797,
          5.554319858551025,
          -3.4118080139160156,
          5.431061744689941,
          3.0503406524658203,
          10.46552848815918,
          5.143503189086914,
          3.8717668056488037,
          4.698720455169678,
          10.122983932495117,
          3.415414571762085,
          -3.5023043155670166,
          3.6061315536499023,
          15.664599418640137,
          5.109954833984375,
          3.31091046333313,
          10.201203346252441,
          3.1906864643096924,
          15.711799621582031,
          3.2897229194641113,
          5.854251384735107,
          5.854947090148926,
          15.914240837097168,
          10.484472274780273,
          10.219371795654297,
          4.545406341552734,
          10.407242774963379,
          10.348536491394043,
          -3.329829454421997,
          10.576432228088379,
          10.491660118103027,
          -3.369579792022705,
          5.528989791870117,
          5.444940090179443,
          4.784664630889893,
          3.729238748550415,
          4.121988296508789
         ]
        }
       ],
       "layout": {
        "autosize": true,
        "coloraxis": {
         "colorbar": {
          "title": {
           "text": "color"
          }
         },
         "colorscale": [
          [
           0,
           "#0d0887"
          ],
          [
           0.1111111111111111,
           "#46039f"
          ],
          [
           0.2222222222222222,
           "#7201a8"
          ],
          [
           0.3333333333333333,
           "#9c179e"
          ],
          [
           0.4444444444444444,
           "#bd3786"
          ],
          [
           0.5555555555555556,
           "#d8576b"
          ],
          [
           0.6666666666666666,
           "#ed7953"
          ],
          [
           0.7777777777777778,
           "#fb9f3a"
          ],
          [
           0.8888888888888888,
           "#fdca26"
          ],
          [
           1,
           "#f0f921"
          ]
         ]
        },
        "legend": {
         "tracegroupgap": 0
        },
        "margin": {
         "t": 60
        },
        "scene": {
         "aspectmode": "auto",
         "aspectratio": {
          "x": 1.2867089713898445,
          "y": 0.9340156624733417,
          "z": 0.8320808212642816
         },
         "camera": {
          "center": {
           "x": 0,
           "y": 0,
           "z": 0
          },
          "eye": {
           "x": 0.516874950550115,
           "y": 1.2294195453416006,
           "z": 0.48133324928859356
          },
          "projection": {
           "type": "perspective"
          },
          "up": {
           "x": 0,
           "y": 0,
           "z": 1
          }
         },
         "domain": {
          "x": [
           0,
           1
          ],
          "y": [
           0,
           1
          ]
         },
         "xaxis": {
          "title": {
           "text": "x"
          },
          "type": "linear"
         },
         "yaxis": {
          "title": {
           "text": "y"
          },
          "type": "linear"
         },
         "zaxis": {
          "title": {
           "text": "z"
          },
          "type": "linear"
         }
        },
        "template": {
         "data": {
          "bar": [
           {
            "error_x": {
             "color": "#2a3f5f"
            },
            "error_y": {
             "color": "#2a3f5f"
            },
            "marker": {
             "line": {
              "color": "#E5ECF6",
              "width": 0.5
             }
            },
            "type": "bar"
           }
          ],
          "barpolar": [
           {
            "marker": {
             "line": {
              "color": "#E5ECF6",
              "width": 0.5
             }
            },
            "type": "barpolar"
           }
          ],
          "carpet": [
           {
            "aaxis": {
             "endlinecolor": "#2a3f5f",
             "gridcolor": "white",
             "linecolor": "white",
             "minorgridcolor": "white",
             "startlinecolor": "#2a3f5f"
            },
            "baxis": {
             "endlinecolor": "#2a3f5f",
             "gridcolor": "white",
             "linecolor": "white",
             "minorgridcolor": "white",
             "startlinecolor": "#2a3f5f"
            },
            "type": "carpet"
           }
          ],
          "choropleth": [
           {
            "colorbar": {
             "outlinewidth": 0,
             "ticks": ""
            },
            "type": "choropleth"
           }
          ],
          "contour": [
           {
            "colorbar": {
             "outlinewidth": 0,
             "ticks": ""
            },
            "colorscale": [
             [
              0,
              "#0d0887"
             ],
             [
              0.1111111111111111,
              "#46039f"
             ],
             [
              0.2222222222222222,
              "#7201a8"
             ],
             [
              0.3333333333333333,
              "#9c179e"
             ],
             [
              0.4444444444444444,
              "#bd3786"
             ],
             [
              0.5555555555555556,
              "#d8576b"
             ],
             [
              0.6666666666666666,
              "#ed7953"
             ],
             [
              0.7777777777777778,
              "#fb9f3a"
             ],
             [
              0.8888888888888888,
              "#fdca26"
             ],
             [
              1,
              "#f0f921"
             ]
            ],
            "type": "contour"
           }
          ],
          "contourcarpet": [
           {
            "colorbar": {
             "outlinewidth": 0,
             "ticks": ""
            },
            "type": "contourcarpet"
           }
          ],
          "heatmap": [
           {
            "colorbar": {
             "outlinewidth": 0,
             "ticks": ""
            },
            "colorscale": [
             [
              0,
              "#0d0887"
             ],
             [
              0.1111111111111111,
              "#46039f"
             ],
             [
              0.2222222222222222,
              "#7201a8"
             ],
             [
              0.3333333333333333,
              "#9c179e"
             ],
             [
              0.4444444444444444,
              "#bd3786"
             ],
             [
              0.5555555555555556,
              "#d8576b"
             ],
             [
              0.6666666666666666,
              "#ed7953"
             ],
             [
              0.7777777777777778,
              "#fb9f3a"
             ],
             [
              0.8888888888888888,
              "#fdca26"
             ],
             [
              1,
              "#f0f921"
             ]
            ],
            "type": "heatmap"
           }
          ],
          "heatmapgl": [
           {
            "colorbar": {
             "outlinewidth": 0,
             "ticks": ""
            },
            "colorscale": [
             [
              0,
              "#0d0887"
             ],
             [
              0.1111111111111111,
              "#46039f"
             ],
             [
              0.2222222222222222,
              "#7201a8"
             ],
             [
              0.3333333333333333,
              "#9c179e"
             ],
             [
              0.4444444444444444,
              "#bd3786"
             ],
             [
              0.5555555555555556,
              "#d8576b"
             ],
             [
              0.6666666666666666,
              "#ed7953"
             ],
             [
              0.7777777777777778,
              "#fb9f3a"
             ],
             [
              0.8888888888888888,
              "#fdca26"
             ],
             [
              1,
              "#f0f921"
             ]
            ],
            "type": "heatmapgl"
           }
          ],
          "histogram": [
           {
            "marker": {
             "colorbar": {
              "outlinewidth": 0,
              "ticks": ""
             }
            },
            "type": "histogram"
           }
          ],
          "histogram2d": [
           {
            "colorbar": {
             "outlinewidth": 0,
             "ticks": ""
            },
            "colorscale": [
             [
              0,
              "#0d0887"
             ],
             [
              0.1111111111111111,
              "#46039f"
             ],
             [
              0.2222222222222222,
              "#7201a8"
             ],
             [
              0.3333333333333333,
              "#9c179e"
             ],
             [
              0.4444444444444444,
              "#bd3786"
             ],
             [
              0.5555555555555556,
              "#d8576b"
             ],
             [
              0.6666666666666666,
              "#ed7953"
             ],
             [
              0.7777777777777778,
              "#fb9f3a"
             ],
             [
              0.8888888888888888,
              "#fdca26"
             ],
             [
              1,
              "#f0f921"
             ]
            ],
            "type": "histogram2d"
           }
          ],
          "histogram2dcontour": [
           {
            "colorbar": {
             "outlinewidth": 0,
             "ticks": ""
            },
            "colorscale": [
             [
              0,
              "#0d0887"
             ],
             [
              0.1111111111111111,
              "#46039f"
             ],
             [
              0.2222222222222222,
              "#7201a8"
             ],
             [
              0.3333333333333333,
              "#9c179e"
             ],
             [
              0.4444444444444444,
              "#bd3786"
             ],
             [
              0.5555555555555556,
              "#d8576b"
             ],
             [
              0.6666666666666666,
              "#ed7953"
             ],
             [
              0.7777777777777778,
              "#fb9f3a"
             ],
             [
              0.8888888888888888,
              "#fdca26"
             ],
             [
              1,
              "#f0f921"
             ]
            ],
            "type": "histogram2dcontour"
           }
          ],
          "mesh3d": [
           {
            "colorbar": {
             "outlinewidth": 0,
             "ticks": ""
            },
            "type": "mesh3d"
           }
          ],
          "parcoords": [
           {
            "line": {
             "colorbar": {
              "outlinewidth": 0,
              "ticks": ""
             }
            },
            "type": "parcoords"
           }
          ],
          "pie": [
           {
            "automargin": true,
            "type": "pie"
           }
          ],
          "scatter": [
           {
            "marker": {
             "colorbar": {
              "outlinewidth": 0,
              "ticks": ""
             }
            },
            "type": "scatter"
           }
          ],
          "scatter3d": [
           {
            "line": {
             "colorbar": {
              "outlinewidth": 0,
              "ticks": ""
             }
            },
            "marker": {
             "colorbar": {
              "outlinewidth": 0,
              "ticks": ""
             }
            },
            "type": "scatter3d"
           }
          ],
          "scattercarpet": [
           {
            "marker": {
             "colorbar": {
              "outlinewidth": 0,
              "ticks": ""
             }
            },
            "type": "scattercarpet"
           }
          ],
          "scattergeo": [
           {
            "marker": {
             "colorbar": {
              "outlinewidth": 0,
              "ticks": ""
             }
            },
            "type": "scattergeo"
           }
          ],
          "scattergl": [
           {
            "marker": {
             "colorbar": {
              "outlinewidth": 0,
              "ticks": ""
             }
            },
            "type": "scattergl"
           }
          ],
          "scattermapbox": [
           {
            "marker": {
             "colorbar": {
              "outlinewidth": 0,
              "ticks": ""
             }
            },
            "type": "scattermapbox"
           }
          ],
          "scatterpolar": [
           {
            "marker": {
             "colorbar": {
              "outlinewidth": 0,
              "ticks": ""
             }
            },
            "type": "scatterpolar"
           }
          ],
          "scatterpolargl": [
           {
            "marker": {
             "colorbar": {
              "outlinewidth": 0,
              "ticks": ""
             }
            },
            "type": "scatterpolargl"
           }
          ],
          "scatterternary": [
           {
            "marker": {
             "colorbar": {
              "outlinewidth": 0,
              "ticks": ""
             }
            },
            "type": "scatterternary"
           }
          ],
          "surface": [
           {
            "colorbar": {
             "outlinewidth": 0,
             "ticks": ""
            },
            "colorscale": [
             [
              0,
              "#0d0887"
             ],
             [
              0.1111111111111111,
              "#46039f"
             ],
             [
              0.2222222222222222,
              "#7201a8"
             ],
             [
              0.3333333333333333,
              "#9c179e"
             ],
             [
              0.4444444444444444,
              "#bd3786"
             ],
             [
              0.5555555555555556,
              "#d8576b"
             ],
             [
              0.6666666666666666,
              "#ed7953"
             ],
             [
              0.7777777777777778,
              "#fb9f3a"
             ],
             [
              0.8888888888888888,
              "#fdca26"
             ],
             [
              1,
              "#f0f921"
             ]
            ],
            "type": "surface"
           }
          ],
          "table": [
           {
            "cells": {
             "fill": {
              "color": "#EBF0F8"
             },
             "line": {
              "color": "white"
             }
            },
            "header": {
             "fill": {
              "color": "#C8D4E3"
             },
             "line": {
              "color": "white"
             }
            },
            "type": "table"
           }
          ]
         },
         "layout": {
          "annotationdefaults": {
           "arrowcolor": "#2a3f5f",
           "arrowhead": 0,
           "arrowwidth": 1
          },
          "autotypenumbers": "strict",
          "coloraxis": {
           "colorbar": {
            "outlinewidth": 0,
            "ticks": ""
           }
          },
          "colorscale": {
           "diverging": [
            [
             0,
             "#8e0152"
            ],
            [
             0.1,
             "#c51b7d"
            ],
            [
             0.2,
             "#de77ae"
            ],
            [
             0.3,
             "#f1b6da"
            ],
            [
             0.4,
             "#fde0ef"
            ],
            [
             0.5,
             "#f7f7f7"
            ],
            [
             0.6,
             "#e6f5d0"
            ],
            [
             0.7,
             "#b8e186"
            ],
            [
             0.8,
             "#7fbc41"
            ],
            [
             0.9,
             "#4d9221"
            ],
            [
             1,
             "#276419"
            ]
           ],
           "sequential": [
            [
             0,
             "#0d0887"
            ],
            [
             0.1111111111111111,
             "#46039f"
            ],
            [
             0.2222222222222222,
             "#7201a8"
            ],
            [
             0.3333333333333333,
             "#9c179e"
            ],
            [
             0.4444444444444444,
             "#bd3786"
            ],
            [
             0.5555555555555556,
             "#d8576b"
            ],
            [
             0.6666666666666666,
             "#ed7953"
            ],
            [
             0.7777777777777778,
             "#fb9f3a"
            ],
            [
             0.8888888888888888,
             "#fdca26"
            ],
            [
             1,
             "#f0f921"
            ]
           ],
           "sequentialminus": [
            [
             0,
             "#0d0887"
            ],
            [
             0.1111111111111111,
             "#46039f"
            ],
            [
             0.2222222222222222,
             "#7201a8"
            ],
            [
             0.3333333333333333,
             "#9c179e"
            ],
            [
             0.4444444444444444,
             "#bd3786"
            ],
            [
             0.5555555555555556,
             "#d8576b"
            ],
            [
             0.6666666666666666,
             "#ed7953"
            ],
            [
             0.7777777777777778,
             "#fb9f3a"
            ],
            [
             0.8888888888888888,
             "#fdca26"
            ],
            [
             1,
             "#f0f921"
            ]
           ]
          },
          "colorway": [
           "#636efa",
           "#EF553B",
           "#00cc96",
           "#ab63fa",
           "#FFA15A",
           "#19d3f3",
           "#FF6692",
           "#B6E880",
           "#FF97FF",
           "#FECB52"
          ],
          "font": {
           "color": "#2a3f5f"
          },
          "geo": {
           "bgcolor": "white",
           "lakecolor": "white",
           "landcolor": "#E5ECF6",
           "showlakes": true,
           "showland": true,
           "subunitcolor": "white"
          },
          "hoverlabel": {
           "align": "left"
          },
          "hovermode": "closest",
          "mapbox": {
           "style": "light"
          },
          "paper_bgcolor": "white",
          "plot_bgcolor": "#E5ECF6",
          "polar": {
           "angularaxis": {
            "gridcolor": "white",
            "linecolor": "white",
            "ticks": ""
           },
           "bgcolor": "#E5ECF6",
           "radialaxis": {
            "gridcolor": "white",
            "linecolor": "white",
            "ticks": ""
           }
          },
          "scene": {
           "xaxis": {
            "backgroundcolor": "#E5ECF6",
            "gridcolor": "white",
            "gridwidth": 2,
            "linecolor": "white",
            "showbackground": true,
            "ticks": "",
            "zerolinecolor": "white"
           },
           "yaxis": {
            "backgroundcolor": "#E5ECF6",
            "gridcolor": "white",
            "gridwidth": 2,
            "linecolor": "white",
            "showbackground": true,
            "ticks": "",
            "zerolinecolor": "white"
           },
           "zaxis": {
            "backgroundcolor": "#E5ECF6",
            "gridcolor": "white",
            "gridwidth": 2,
            "linecolor": "white",
            "showbackground": true,
            "ticks": "",
            "zerolinecolor": "white"
           }
          },
          "shapedefaults": {
           "line": {
            "color": "#2a3f5f"
           }
          },
          "ternary": {
           "aaxis": {
            "gridcolor": "white",
            "linecolor": "white",
            "ticks": ""
           },
           "baxis": {
            "gridcolor": "white",
            "linecolor": "white",
            "ticks": ""
           },
           "bgcolor": "#E5ECF6",
           "caxis": {
            "gridcolor": "white",
            "linecolor": "white",
            "ticks": ""
           }
          },
          "title": {
           "x": 0.05
          },
          "xaxis": {
           "automargin": true,
           "gridcolor": "white",
           "linecolor": "white",
           "ticks": "",
           "title": {
            "standoff": 15
           },
           "zerolinecolor": "white",
           "zerolinewidth": 2
          },
          "yaxis": {
           "automargin": true,
           "gridcolor": "white",
           "linecolor": "white",
           "ticks": "",
           "title": {
            "standoff": 15
           },
           "zerolinecolor": "white",
           "zerolinewidth": 2
          }
         }
        }
       }
      },
      "image/png": "[encoded data removed]",
      "text/html": [
       "<div>                            <div id=\"cbf0c1b8-fb52-4073-9289-5ab82edc15ff\" class=\"plotly-graph-div\" style=\"height:525px; width:100%;\"></div>            <script type=\"text/javascript\">                require([\"plotly\"], function(Plotly) {                    window.PLOTLYENV=window.PLOTLYENV || {};                                    if (document.getElementById(\"cbf0c1b8-fb52-4073-9289-5ab82edc15ff\")) {                    Plotly.newPlot(                        \"cbf0c1b8-fb52-4073-9289-5ab82edc15ff\",                        [{\"hovertemplate\": \"x=%{x}<br>y=%{y}<br>z=%{z}<br>color=%{marker.color}<extra></extra>\", \"legendgroup\": \"\", \"marker\": {\"color\": [1, 3, 3, 3, 3, 5, 2, 5, 0, 5, 5, 1, 3, 5, 5, 0, 3, 5, 5, 0, 3, 5, 4, 3, 5, 5, 2, 5, 0, 5, 1, 5, 5, 2, 5, 1, 5, 3, 3, 1, 2, 4, 5, 4, 2, 0, 4, 4, 0, 5, 3, 5, 5, 5], \"coloraxis\": \"coloraxis\", \"symbol\": \"circle\"}, \"mode\": \"markers\", \"name\": \"\", \"scene\": \"scene\", \"showlegend\": false, \"type\": \"scatter3d\", \"x\": [20.53284454345703, 2.188781976699829, 2.2923781871795654, 2.7672278881073, 2.8580331802368164, 7.438173770904541, -9.243779182434082, 7.200241565704346, 1.2257479429244995, 6.604031562805176, 8.38598346710205, 20.58397102355957, 2.381641387939453, 7.214476108551025, 6.986325740814209, 1.1167006492614746, 2.6649630069732666, 7.96531867980957, 7.671385288238525, 0.5478932857513428, 2.5285778045654297, 8.330498695373535, 4.179829120635986, 2.4145214557647705, 8.168740272521973, 8.105512619018555, -8.997322082519531, 8.26409912109375, 0.9081122279167175, 7.385092258453369, 20.77387809753418, 8.294143676757812, 6.94747257232666, -9.075471878051758, 8.408674240112305, 20.726537704467773, 6.828494071960449, 2.946824550628662, 2.7709431648254395, 20.524051666259766, -9.358454704284668, 4.426481246948242, 6.708706855773926, 4.239205360412598, -9.222697257995605, 1.2780189514160156, 4.06964111328125, 4.15446138381958, 0.5088449120521545, 7.875535488128662, 2.5983917713165283, 8.053173065185547, 7.171375274658203, 6.713954925537109], \"y\": [-1.441372275352478, 13.88961124420166, 13.78472900390625, 12.774601936340332, 12.955155372619629, 5.703276634216309, 12.34675121307373, 4.512900352478027, -7.913484573364258, 5.758099555969238, 4.682033538818359, -1.3901046514511108, 13.334671974182129, 5.638161659240723, 5.2881293296813965, -7.734646797180176, 13.001219749450684, 4.6851301193237305, 5.336980819702148, -7.942014217376709, 12.770218849182129, 5.340771675109863, 8.90539264678955, 12.900041580200195, 4.8553314208984375, 4.883947372436523, 12.09985065460205, 4.990785121917725, -7.8318681716918945, 4.698154926300049, -1.2005187273025513, 4.780428409576416, 4.675048828125, 12.178093910217285, 5.140754222869873, -1.247700572013855, 4.7086639404296875, 13.049071311950684, 12.716550827026367, -1.4501272439956665, 12.461503028869629, 8.660115242004395, 5.689765453338623, 8.846447944641113, 12.32545280456543, -7.983299732208252, 9.016054153442383, 8.931036949157715, -7.98287296295166, 5.174063205718994, 13.15256404876709, 4.908816337585449, 5.037686824798584, 5.570891857147217], \"z\": [15.905488014221191, 5.171933174133301, 5.074590682983398, 6.189072608947754, 6.2826714515686035, 3.0811045169830322, 10.369759559631348, 3.4878947734832764, -3.3984506130218506, 4.425290107727051, 4.96260404586792, 15.854204177856445, 5.151326656341553, 3.226151704788208, 3.579610824584961, -3.5715456008911133, 5.153702259063721, 3.7991466522216797, 5.554319858551025, -3.4118080139160156, 5.431061744689941, 3.0503406524658203, 10.46552848815918, 5.143503189086914, 3.8717668056488037, 4.698720455169678, 10.122983932495117, 3.415414571762085, -3.5023043155670166, 3.6061315536499023, 15.664599418640137, 5.109954833984375, 3.31091046333313, 10.201203346252441, 3.1906864643096924, 15.711799621582031, 3.2897229194641113, 5.854251384735107, 5.854947090148926, 15.914240837097168, 10.484472274780273, 10.219371795654297, 4.545406341552734, 10.407242774963379, 10.348536491394043, -3.329829454421997, 10.576432228088379, 10.491660118103027, -3.369579792022705, 5.528989791870117, 5.444940090179443, 4.784664630889893, 3.729238748550415, 4.121988296508789]}],                        {\"coloraxis\": {\"colorbar\": {\"title\": {\"text\": \"color\"}}, \"colorscale\": [[0.0, \"#0d0887\"], [0.1111111111111111, \"#46039f\"], [0.2222222222222222, \"#7201a8\"], [0.3333333333333333, \"#9c179e\"], [0.4444444444444444, \"#bd3786\"], [0.5555555555555556, \"#d8576b\"], [0.6666666666666666, \"#ed7953\"], [0.7777777777777778, \"#fb9f3a\"], [0.8888888888888888, \"#fdca26\"], [1.0, \"#f0f921\"]]}, \"legend\": {\"tracegroupgap\": 0}, \"margin\": {\"t\": 60}, \"scene\": {\"domain\": {\"x\": [0.0, 1.0], \"y\": [0.0, 1.0]}, \"xaxis\": {\"title\": {\"text\": \"x\"}}, \"yaxis\": {\"title\": {\"text\": \"y\"}}, \"zaxis\": {\"title\": {\"text\": \"z\"}}}, \"template\": {\"data\": {\"bar\": [{\"error_x\": {\"color\": \"#2a3f5f\"}, \"error_y\": {\"color\": \"#2a3f5f\"}, \"marker\": {\"line\": {\"color\": \"#E5ECF6\", \"width\": 0.5}}, \"type\": \"bar\"}], \"barpolar\": [{\"marker\": {\"line\": {\"color\": \"#E5ECF6\", \"width\": 0.5}}, \"type\": \"barpolar\"}], \"carpet\": [{\"aaxis\": {\"endlinecolor\": \"#2a3f5f\", \"gridcolor\": \"white\", \"linecolor\": \"white\", \"minorgridcolor\": \"white\", \"startlinecolor\": \"#2a3f5f\"}, \"baxis\": {\"endlinecolor\": \"#2a3f5f\", \"gridcolor\": \"white\", \"linecolor\": \"white\", \"minorgridcolor\": \"white\", \"startlinecolor\": \"#2a3f5f\"}, \"type\": \"carpet\"}], \"choropleth\": [{\"colorbar\": {\"outlinewidth\": 0, \"ticks\": \"\"}, \"type\": \"choropleth\"}], \"contour\": [{\"colorbar\": {\"outlinewidth\": 0, \"ticks\": \"\"}, \"colorscale\": [[0.0, \"#0d0887\"], [0.1111111111111111, \"#46039f\"], [0.2222222222222222, \"#7201a8\"], [0.3333333333333333, \"#9c179e\"], [0.4444444444444444, \"#bd3786\"], [0.5555555555555556, \"#d8576b\"], [0.6666666666666666, \"#ed7953\"], [0.7777777777777778, \"#fb9f3a\"], [0.8888888888888888, \"#fdca26\"], [1.0, \"#f0f921\"]], \"type\": \"contour\"}], \"contourcarpet\": [{\"colorbar\": {\"outlinewidth\": 0, \"ticks\": \"\"}, \"type\": \"contourcarpet\"}], \"heatmap\": [{\"colorbar\": {\"outlinewidth\": 0, \"ticks\": \"\"}, \"colorscale\": [[0.0, \"#0d0887\"], [0.1111111111111111, \"#46039f\"], [0.2222222222222222, \"#7201a8\"], [0.3333333333333333, \"#9c179e\"], [0.4444444444444444, \"#bd3786\"], [0.5555555555555556, \"#d8576b\"], [0.6666666666666666, \"#ed7953\"], [0.7777777777777778, \"#fb9f3a\"], [0.8888888888888888, \"#fdca26\"], [1.0, \"#f0f921\"]], \"type\": \"heatmap\"}], \"heatmapgl\": [{\"colorbar\": {\"outlinewidth\": 0, \"ticks\": \"\"}, \"colorscale\": [[0.0, \"#0d0887\"], [0.1111111111111111, \"#46039f\"], [0.2222222222222222, \"#7201a8\"], [0.3333333333333333, \"#9c179e\"], [0.4444444444444444, \"#bd3786\"], [0.5555555555555556, \"#d8576b\"], [0.6666666666666666, \"#ed7953\"], [0.7777777777777778, \"#fb9f3a\"], [0.8888888888888888, \"#fdca26\"], [1.0, \"#f0f921\"]], \"type\": \"heatmapgl\"}], \"histogram\": [{\"marker\": {\"colorbar\": {\"outlinewidth\": 0, \"ticks\": \"\"}}, \"type\": \"histogram\"}], \"histogram2d\": [{\"colorbar\": {\"outlinewidth\": 0, \"ticks\": \"\"}, \"colorscale\": [[0.0, \"#0d0887\"], [0.1111111111111111, \"#46039f\"], [0.2222222222222222, \"#7201a8\"], [0.3333333333333333, \"#9c179e\"], [0.4444444444444444, \"#bd3786\"], [0.5555555555555556, \"#d8576b\"], [0.6666666666666666, \"#ed7953\"], [0.7777777777777778, \"#fb9f3a\"], [0.8888888888888888, \"#fdca26\"], [1.0, \"#f0f921\"]], \"type\": \"histogram2d\"}], \"histogram2dcontour\": [{\"colorbar\": {\"outlinewidth\": 0, \"ticks\": \"\"}, \"colorscale\": [[0.0, \"#0d0887\"], [0.1111111111111111, \"#46039f\"], [0.2222222222222222, \"#7201a8\"], [0.3333333333333333, \"#9c179e\"], [0.4444444444444444, \"#bd3786\"], [0.5555555555555556, \"#d8576b\"], [0.6666666666666666, \"#ed7953\"], [0.7777777777777778, \"#fb9f3a\"], [0.8888888888888888, \"#fdca26\"], [1.0, \"#f0f921\"]], \"type\": \"histogram2dcontour\"}], \"mesh3d\": [{\"colorbar\": {\"outlinewidth\": 0, \"ticks\": \"\"}, \"type\": \"mesh3d\"}], \"parcoords\": [{\"line\": {\"colorbar\": {\"outlinewidth\": 0, \"ticks\": \"\"}}, \"type\": \"parcoords\"}], \"pie\": [{\"automargin\": true, \"type\": \"pie\"}], \"scatter\": [{\"marker\": {\"colorbar\": {\"outlinewidth\": 0, \"ticks\": \"\"}}, \"type\": \"scatter\"}], \"scatter3d\": [{\"line\": {\"colorbar\": {\"outlinewidth\": 0, \"ticks\": \"\"}}, \"marker\": {\"colorbar\": {\"outlinewidth\": 0, \"ticks\": \"\"}}, \"type\": \"scatter3d\"}], \"scattercarpet\": [{\"marker\": {\"colorbar\": {\"outlinewidth\": 0, \"ticks\": \"\"}}, \"type\": \"scattercarpet\"}], \"scattergeo\": [{\"marker\": {\"colorbar\": {\"outlinewidth\": 0, \"ticks\": \"\"}}, \"type\": \"scattergeo\"}], \"scattergl\": [{\"marker\": {\"colorbar\": {\"outlinewidth\": 0, \"ticks\": \"\"}}, \"type\": \"scattergl\"}], \"scattermapbox\": [{\"marker\": {\"colorbar\": {\"outlinewidth\": 0, \"ticks\": \"\"}}, \"type\": \"scattermapbox\"}], \"scatterpolar\": [{\"marker\": {\"colorbar\": {\"outlinewidth\": 0, \"ticks\": \"\"}}, \"type\": \"scatterpolar\"}], \"scatterpolargl\": [{\"marker\": {\"colorbar\": {\"outlinewidth\": 0, \"ticks\": \"\"}}, \"type\": \"scatterpolargl\"}], \"scatterternary\": [{\"marker\": {\"colorbar\": {\"outlinewidth\": 0, \"ticks\": \"\"}}, \"type\": \"scatterternary\"}], \"surface\": [{\"colorbar\": {\"outlinewidth\": 0, \"ticks\": \"\"}, \"colorscale\": [[0.0, \"#0d0887\"], [0.1111111111111111, \"#46039f\"], [0.2222222222222222, \"#7201a8\"], [0.3333333333333333, \"#9c179e\"], [0.4444444444444444, \"#bd3786\"], [0.5555555555555556, \"#d8576b\"], [0.6666666666666666, \"#ed7953\"], [0.7777777777777778, \"#fb9f3a\"], [0.8888888888888888, \"#fdca26\"], [1.0, \"#f0f921\"]], \"type\": \"surface\"}], \"table\": [{\"cells\": {\"fill\": {\"color\": \"#EBF0F8\"}, \"line\": {\"color\": \"white\"}}, \"header\": {\"fill\": {\"color\": \"#C8D4E3\"}, \"line\": {\"color\": \"white\"}}, \"type\": \"table\"}]}, \"layout\": {\"annotationdefaults\": {\"arrowcolor\": \"#2a3f5f\", \"arrowhead\": 0, \"arrowwidth\": 1}, \"autotypenumbers\": \"strict\", \"coloraxis\": {\"colorbar\": {\"outlinewidth\": 0, \"ticks\": \"\"}}, \"colorscale\": {\"diverging\": [[0, \"#8e0152\"], [0.1, \"#c51b7d\"], [0.2, \"#de77ae\"], [0.3, \"#f1b6da\"], [0.4, \"#fde0ef\"], [0.5, \"#f7f7f7\"], [0.6, \"#e6f5d0\"], [0.7, \"#b8e186\"], [0.8, \"#7fbc41\"], [0.9, \"#4d9221\"], [1, \"#276419\"]], \"sequential\": [[0.0, \"#0d0887\"], [0.1111111111111111, \"#46039f\"], [0.2222222222222222, \"#7201a8\"], [0.3333333333333333, \"#9c179e\"], [0.4444444444444444, \"#bd3786\"], [0.5555555555555556, \"#d8576b\"], [0.6666666666666666, \"#ed7953\"], [0.7777777777777778, \"#fb9f3a\"], [0.8888888888888888, \"#fdca26\"], [1.0, \"#f0f921\"]], \"sequentialminus\": [[0.0, \"#0d0887\"], [0.1111111111111111, \"#46039f\"], [0.2222222222222222, \"#7201a8\"], [0.3333333333333333, \"#9c179e\"], [0.4444444444444444, \"#bd3786\"], [0.5555555555555556, \"#d8576b\"], [0.6666666666666666, \"#ed7953\"], [0.7777777777777778, \"#fb9f3a\"], [0.8888888888888888, \"#fdca26\"], [1.0, \"#f0f921\"]]}, \"colorway\": [\"#636efa\", \"#EF553B\", \"#00cc96\", \"#ab63fa\", \"#FFA15A\", \"#19d3f3\", \"#FF6692\", \"#B6E880\", \"#FF97FF\", \"#FECB52\"], \"font\": {\"color\": \"#2a3f5f\"}, \"geo\": {\"bgcolor\": \"white\", \"lakecolor\": \"white\", \"landcolor\": \"#E5ECF6\", \"showlakes\": true, \"showland\": true, \"subunitcolor\": \"white\"}, \"hoverlabel\": {\"align\": \"left\"}, \"hovermode\": \"closest\", \"mapbox\": {\"style\": \"light\"}, \"paper_bgcolor\": \"white\", \"plot_bgcolor\": \"#E5ECF6\", \"polar\": {\"angularaxis\": {\"gridcolor\": \"white\", \"linecolor\": \"white\", \"ticks\": \"\"}, \"bgcolor\": \"#E5ECF6\", \"radialaxis\": {\"gridcolor\": \"white\", \"linecolor\": \"white\", \"ticks\": \"\"}}, \"scene\": {\"xaxis\": {\"backgroundcolor\": \"#E5ECF6\", \"gridcolor\": \"white\", \"gridwidth\": 2, \"linecolor\": \"white\", \"showbackground\": true, \"ticks\": \"\", \"zerolinecolor\": \"white\"}, \"yaxis\": {\"backgroundcolor\": \"#E5ECF6\", \"gridcolor\": \"white\", \"gridwidth\": 2, \"linecolor\": \"white\", \"showbackground\": true, \"ticks\": \"\", \"zerolinecolor\": \"white\"}, \"zaxis\": {\"backgroundcolor\": \"#E5ECF6\", \"gridcolor\": \"white\", \"gridwidth\": 2, \"linecolor\": \"white\", \"showbackground\": true, \"ticks\": \"\", \"zerolinecolor\": \"white\"}}, \"shapedefaults\": {\"line\": {\"color\": \"#2a3f5f\"}}, \"ternary\": {\"aaxis\": {\"gridcolor\": \"white\", \"linecolor\": \"white\", \"ticks\": \"\"}, \"baxis\": {\"gridcolor\": \"white\", \"linecolor\": \"white\", \"ticks\": \"\"}, \"bgcolor\": \"#E5ECF6\", \"caxis\": {\"gridcolor\": \"white\", \"linecolor\": \"white\", \"ticks\": \"\"}}, \"title\": {\"x\": 0.05}, \"xaxis\": {\"automargin\": true, \"gridcolor\": \"white\", \"linecolor\": \"white\", \"ticks\": \"\", \"title\": {\"standoff\": 15}, \"zerolinecolor\": \"white\", \"zerolinewidth\": 2}, \"yaxis\": {\"automargin\": true, \"gridcolor\": \"white\", \"linecolor\": \"white\", \"ticks\": \"\", \"title\": {\"standoff\": 15}, \"zerolinecolor\": \"white\", \"zerolinewidth\": 2}}}},                        {\"responsive\": true}                    ).then(function(){\n",
       "                            \n",
       "var gd = document.getElementById('cbf0c1b8-fb52-4073-9289-5ab82edc15ff');\n",
       "var x = new MutationObserver(function (mutations, observer) {{\n",
       "        var display = window.getComputedStyle(gd).display;\n",
       "        if (!display || display === 'none') {{\n",
       "            console.log([gd, 'removed!']);\n",
       "            Plotly.purge(gd);\n",
       "            observer.disconnect();\n",
       "        }}\n",
       "}});\n",
       "\n",
       "// Listen for the removal of the full notebook cells\n",
       "var notebookContainer = gd.closest('#notebook-container');\n",
       "if (notebookContainer) {{\n",
       "    x.observe(notebookContainer, {childList: true});\n",
       "}}\n",
       "\n",
       "// Listen for the clearing of the current output cell\n",
       "var outputEl = gd.closest('.output');\n",
       "if (outputEl) {{\n",
       "    x.observe(outputEl, {childList: true});\n",
       "}}\n",
       "\n",
       "                        })                };                });            </script>        </div>"
      ]
     },
     "metadata": {},
     "output_type": "display_data"
    }
   ],
   "source": [
    "# Union embedding cluster visualisation \n",
    "fig = px.scatter_3d(union_df, \"x\",\"y\",\"z\", color=union_clusters)\n",
    "fig.show()"
   ]
  },
  {
   "cell_type": "code",
   "execution_count": 52,
   "metadata": {},
   "outputs": [
    {
     "data": {
      "application/vnd.plotly.v1+json": {
       "config": {
        "plotlyServerURL": "https://plot.ly"
       },
       "data": [
        {
         "hovertemplate": "species=setosa<br>sepal_length=%{x}<br>sepal_width=%{y}<br>petal_width=%{z}<extra></extra>",
         "legendgroup": "setosa",
         "marker": {
          "color": "#636efa",
          "symbol": "circle"
         },
         "mode": "markers",
         "name": "setosa",
         "scene": "scene",
         "showlegend": true,
         "type": "scatter3d",
         "x": [
          5.1,
          4.9,
          4.7,
          4.6,
          5,
          5.4,
          4.6,
          5,
          4.4,
          4.9,
          5.4,
          4.8,
          4.8,
          4.3,
          5.8,
          5.7,
          5.4,
          5.1,
          5.7,
          5.1,
          5.4,
          5.1,
          4.6,
          5.1,
          4.8,
          5,
          5,
          5.2,
          5.2,
          4.7,
          4.8,
          5.4,
          5.2,
          5.5,
          4.9,
          5,
          5.5,
          4.9,
          4.4,
          5.1,
          5,
          4.5,
          4.4,
          5,
          5.1,
          4.8,
          5.1,
          4.6,
          5.3,
          5
         ],
         "y": [
          3.5,
          3,
          3.2,
          3.1,
          3.6,
          3.9,
          3.4,
          3.4,
          2.9,
          3.1,
          3.7,
          3.4,
          3,
          3,
          4,
          4.4,
          3.9,
          3.5,
          3.8,
          3.8,
          3.4,
          3.7,
          3.6,
          3.3,
          3.4,
          3,
          3.4,
          3.5,
          3.4,
          3.2,
          3.1,
          3.4,
          4.1,
          4.2,
          3.1,
          3.2,
          3.5,
          3.1,
          3,
          3.4,
          3.5,
          2.3,
          3.2,
          3.5,
          3.8,
          3,
          3.8,
          3.2,
          3.7,
          3.3
         ],
         "z": [
          0.2,
          0.2,
          0.2,
          0.2,
          0.2,
          0.4,
          0.3,
          0.2,
          0.2,
          0.1,
          0.2,
          0.2,
          0.1,
          0.1,
          0.2,
          0.4,
          0.4,
          0.3,
          0.3,
          0.3,
          0.2,
          0.4,
          0.2,
          0.5,
          0.2,
          0.2,
          0.4,
          0.2,
          0.2,
          0.2,
          0.2,
          0.4,
          0.1,
          0.2,
          0.1,
          0.2,
          0.2,
          0.1,
          0.2,
          0.2,
          0.3,
          0.3,
          0.2,
          0.6,
          0.4,
          0.3,
          0.2,
          0.2,
          0.2,
          0.2
         ]
        },
        {
         "hovertemplate": "species=versicolor<br>sepal_length=%{x}<br>sepal_width=%{y}<br>petal_width=%{z}<extra></extra>",
         "legendgroup": "versicolor",
         "marker": {
          "color": "#EF553B",
          "symbol": "circle"
         },
         "mode": "markers",
         "name": "versicolor",
         "scene": "scene",
         "showlegend": true,
         "type": "scatter3d",
         "x": [
          7,
          6.4,
          6.9,
          5.5,
          6.5,
          5.7,
          6.3,
          4.9,
          6.6,
          5.2,
          5,
          5.9,
          6,
          6.1,
          5.6,
          6.7,
          5.6,
          5.8,
          6.2,
          5.6,
          5.9,
          6.1,
          6.3,
          6.1,
          6.4,
          6.6,
          6.8,
          6.7,
          6,
          5.7,
          5.5,
          5.5,
          5.8,
          6,
          5.4,
          6,
          6.7,
          6.3,
          5.6,
          5.5,
          5.5,
          6.1,
          5.8,
          5,
          5.6,
          5.7,
          5.7,
          6.2,
          5.1,
          5.7
         ],
         "y": [
          3.2,
          3.2,
          3.1,
          2.3,
          2.8,
          2.8,
          3.3,
          2.4,
          2.9,
          2.7,
          2,
          3,
          2.2,
          2.9,
          2.9,
          3.1,
          3,
          2.7,
          2.2,
          2.5,
          3.2,
          2.8,
          2.5,
          2.8,
          2.9,
          3,
          2.8,
          3,
          2.9,
          2.6,
          2.4,
          2.4,
          2.7,
          2.7,
          3,
          3.4,
          3.1,
          2.3,
          3,
          2.5,
          2.6,
          3,
          2.6,
          2.3,
          2.7,
          3,
          2.9,
          2.9,
          2.5,
          2.8
         ],
         "z": [
          1.4,
          1.5,
          1.5,
          1.3,
          1.5,
          1.3,
          1.6,
          1,
          1.3,
          1.4,
          1,
          1.5,
          1,
          1.4,
          1.3,
          1.4,
          1.5,
          1,
          1.5,
          1.1,
          1.8,
          1.3,
          1.5,
          1.2,
          1.3,
          1.4,
          1.4,
          1.7,
          1.5,
          1,
          1.1,
          1,
          1.2,
          1.6,
          1.5,
          1.6,
          1.5,
          1.3,
          1.3,
          1.3,
          1.2,
          1.4,
          1.2,
          1,
          1.3,
          1.2,
          1.3,
          1.3,
          1.1,
          1.3
         ]
        },
        {
         "hovertemplate": "species=virginica<br>sepal_length=%{x}<br>sepal_width=%{y}<br>petal_width=%{z}<extra></extra>",
         "legendgroup": "virginica",
         "marker": {
          "color": "#00cc96",
          "symbol": "circle"
         },
         "mode": "markers",
         "name": "virginica",
         "scene": "scene",
         "showlegend": true,
         "type": "scatter3d",
         "x": [
          6.3,
          5.8,
          7.1,
          6.3,
          6.5,
          7.6,
          4.9,
          7.3,
          6.7,
          7.2,
          6.5,
          6.4,
          6.8,
          5.7,
          5.8,
          6.4,
          6.5,
          7.7,
          7.7,
          6,
          6.9,
          5.6,
          7.7,
          6.3,
          6.7,
          7.2,
          6.2,
          6.1,
          6.4,
          7.2,
          7.4,
          7.9,
          6.4,
          6.3,
          6.1,
          7.7,
          6.3,
          6.4,
          6,
          6.9,
          6.7,
          6.9,
          5.8,
          6.8,
          6.7,
          6.7,
          6.3,
          6.5,
          6.2,
          5.9
         ],
         "y": [
          3.3,
          2.7,
          3,
          2.9,
          3,
          3,
          2.5,
          2.9,
          2.5,
          3.6,
          3.2,
          2.7,
          3,
          2.5,
          2.8,
          3.2,
          3,
          3.8,
          2.6,
          2.2,
          3.2,
          2.8,
          2.8,
          2.7,
          3.3,
          3.2,
          2.8,
          3,
          2.8,
          3,
          2.8,
          3.8,
          2.8,
          2.8,
          2.6,
          3,
          3.4,
          3.1,
          3,
          3.1,
          3.1,
          3.1,
          2.7,
          3.2,
          3.3,
          3,
          2.5,
          3,
          3.4,
          3
         ],
         "z": [
          2.5,
          1.9,
          2.1,
          1.8,
          2.2,
          2.1,
          1.7,
          1.8,
          1.8,
          2.5,
          2,
          1.9,
          2.1,
          2,
          2.4,
          2.3,
          1.8,
          2.2,
          2.3,
          1.5,
          2.3,
          2,
          2,
          1.8,
          2.1,
          1.8,
          1.8,
          1.8,
          2.1,
          1.6,
          1.9,
          2,
          2.2,
          1.5,
          1.4,
          2.3,
          2.4,
          1.8,
          1.8,
          2.1,
          2.4,
          2.3,
          1.9,
          2.3,
          2.5,
          2.3,
          1.9,
          2,
          2.3,
          1.8
         ]
        }
       ],
       "layout": {
        "autosize": true,
        "dragmode": "zoom",
        "legend": {
         "title": {
          "text": "species"
         },
         "tracegroupgap": 0
        },
        "margin": {
         "t": 60
        },
        "scene": {
         "aspectmode": "auto",
         "aspectratio": {
          "x": 1.3103706971044486,
          "y": 0.8735804647362989,
          "z": 0.8735804647362988
         },
         "camera": {
          "center": {
           "x": 0,
           "y": 0,
           "z": 0
          },
          "eye": {
           "x": 0.09394655394532278,
           "y": -1.358785798432541,
           "z": 0.36022709268722947
          },
          "projection": {
           "type": "perspective"
          },
          "up": {
           "x": 0,
           "y": 0,
           "z": 1
          }
         },
         "domain": {
          "x": [
           0,
           1
          ],
          "y": [
           0,
           1
          ]
         },
         "dragmode": "turntable",
         "hovermode": "closest",
         "xaxis": {
          "showspikes": true,
          "title": {
           "text": "sepal_length"
          },
          "type": "linear"
         },
         "yaxis": {
          "showspikes": true,
          "title": {
           "text": "sepal_width"
          },
          "type": "linear"
         },
         "zaxis": {
          "showspikes": true,
          "title": {
           "text": "petal_width"
          },
          "type": "linear"
         }
        },
        "template": {
         "data": {
          "bar": [
           {
            "error_x": {
             "color": "#2a3f5f"
            },
            "error_y": {
             "color": "#2a3f5f"
            },
            "marker": {
             "line": {
              "color": "#E5ECF6",
              "width": 0.5
             }
            },
            "type": "bar"
           }
          ],
          "barpolar": [
           {
            "marker": {
             "line": {
              "color": "#E5ECF6",
              "width": 0.5
             }
            },
            "type": "barpolar"
           }
          ],
          "carpet": [
           {
            "aaxis": {
             "endlinecolor": "#2a3f5f",
             "gridcolor": "white",
             "linecolor": "white",
             "minorgridcolor": "white",
             "startlinecolor": "#2a3f5f"
            },
            "baxis": {
             "endlinecolor": "#2a3f5f",
             "gridcolor": "white",
             "linecolor": "white",
             "minorgridcolor": "white",
             "startlinecolor": "#2a3f5f"
            },
            "type": "carpet"
           }
          ],
          "choropleth": [
           {
            "colorbar": {
             "outlinewidth": 0,
             "ticks": ""
            },
            "type": "choropleth"
           }
          ],
          "contour": [
           {
            "colorbar": {
             "outlinewidth": 0,
             "ticks": ""
            },
            "colorscale": [
             [
              0,
              "#0d0887"
             ],
             [
              0.1111111111111111,
              "#46039f"
             ],
             [
              0.2222222222222222,
              "#7201a8"
             ],
             [
              0.3333333333333333,
              "#9c179e"
             ],
             [
              0.4444444444444444,
              "#bd3786"
             ],
             [
              0.5555555555555556,
              "#d8576b"
             ],
             [
              0.6666666666666666,
              "#ed7953"
             ],
             [
              0.7777777777777778,
              "#fb9f3a"
             ],
             [
              0.8888888888888888,
              "#fdca26"
             ],
             [
              1,
              "#f0f921"
             ]
            ],
            "type": "contour"
           }
          ],
          "contourcarpet": [
           {
            "colorbar": {
             "outlinewidth": 0,
             "ticks": ""
            },
            "type": "contourcarpet"
           }
          ],
          "heatmap": [
           {
            "colorbar": {
             "outlinewidth": 0,
             "ticks": ""
            },
            "colorscale": [
             [
              0,
              "#0d0887"
             ],
             [
              0.1111111111111111,
              "#46039f"
             ],
             [
              0.2222222222222222,
              "#7201a8"
             ],
             [
              0.3333333333333333,
              "#9c179e"
             ],
             [
              0.4444444444444444,
              "#bd3786"
             ],
             [
              0.5555555555555556,
              "#d8576b"
             ],
             [
              0.6666666666666666,
              "#ed7953"
             ],
             [
              0.7777777777777778,
              "#fb9f3a"
             ],
             [
              0.8888888888888888,
              "#fdca26"
             ],
             [
              1,
              "#f0f921"
             ]
            ],
            "type": "heatmap"
           }
          ],
          "heatmapgl": [
           {
            "colorbar": {
             "outlinewidth": 0,
             "ticks": ""
            },
            "colorscale": [
             [
              0,
              "#0d0887"
             ],
             [
              0.1111111111111111,
              "#46039f"
             ],
             [
              0.2222222222222222,
              "#7201a8"
             ],
             [
              0.3333333333333333,
              "#9c179e"
             ],
             [
              0.4444444444444444,
              "#bd3786"
             ],
             [
              0.5555555555555556,
              "#d8576b"
             ],
             [
              0.6666666666666666,
              "#ed7953"
             ],
             [
              0.7777777777777778,
              "#fb9f3a"
             ],
             [
              0.8888888888888888,
              "#fdca26"
             ],
             [
              1,
              "#f0f921"
             ]
            ],
            "type": "heatmapgl"
           }
          ],
          "histogram": [
           {
            "marker": {
             "colorbar": {
              "outlinewidth": 0,
              "ticks": ""
             }
            },
            "type": "histogram"
           }
          ],
          "histogram2d": [
           {
            "colorbar": {
             "outlinewidth": 0,
             "ticks": ""
            },
            "colorscale": [
             [
              0,
              "#0d0887"
             ],
             [
              0.1111111111111111,
              "#46039f"
             ],
             [
              0.2222222222222222,
              "#7201a8"
             ],
             [
              0.3333333333333333,
              "#9c179e"
             ],
             [
              0.4444444444444444,
              "#bd3786"
             ],
             [
              0.5555555555555556,
              "#d8576b"
             ],
             [
              0.6666666666666666,
              "#ed7953"
             ],
             [
              0.7777777777777778,
              "#fb9f3a"
             ],
             [
              0.8888888888888888,
              "#fdca26"
             ],
             [
              1,
              "#f0f921"
             ]
            ],
            "type": "histogram2d"
           }
          ],
          "histogram2dcontour": [
           {
            "colorbar": {
             "outlinewidth": 0,
             "ticks": ""
            },
            "colorscale": [
             [
              0,
              "#0d0887"
             ],
             [
              0.1111111111111111,
              "#46039f"
             ],
             [
              0.2222222222222222,
              "#7201a8"
             ],
             [
              0.3333333333333333,
              "#9c179e"
             ],
             [
              0.4444444444444444,
              "#bd3786"
             ],
             [
              0.5555555555555556,
              "#d8576b"
             ],
             [
              0.6666666666666666,
              "#ed7953"
             ],
             [
              0.7777777777777778,
              "#fb9f3a"
             ],
             [
              0.8888888888888888,
              "#fdca26"
             ],
             [
              1,
              "#f0f921"
             ]
            ],
            "type": "histogram2dcontour"
           }
          ],
          "mesh3d": [
           {
            "colorbar": {
             "outlinewidth": 0,
             "ticks": ""
            },
            "type": "mesh3d"
           }
          ],
          "parcoords": [
           {
            "line": {
             "colorbar": {
              "outlinewidth": 0,
              "ticks": ""
             }
            },
            "type": "parcoords"
           }
          ],
          "pie": [
           {
            "automargin": true,
            "type": "pie"
           }
          ],
          "scatter": [
           {
            "marker": {
             "colorbar": {
              "outlinewidth": 0,
              "ticks": ""
             }
            },
            "type": "scatter"
           }
          ],
          "scatter3d": [
           {
            "line": {
             "colorbar": {
              "outlinewidth": 0,
              "ticks": ""
             }
            },
            "marker": {
             "colorbar": {
              "outlinewidth": 0,
              "ticks": ""
             }
            },
            "type": "scatter3d"
           }
          ],
          "scattercarpet": [
           {
            "marker": {
             "colorbar": {
              "outlinewidth": 0,
              "ticks": ""
             }
            },
            "type": "scattercarpet"
           }
          ],
          "scattergeo": [
           {
            "marker": {
             "colorbar": {
              "outlinewidth": 0,
              "ticks": ""
             }
            },
            "type": "scattergeo"
           }
          ],
          "scattergl": [
           {
            "marker": {
             "colorbar": {
              "outlinewidth": 0,
              "ticks": ""
             }
            },
            "type": "scattergl"
           }
          ],
          "scattermapbox": [
           {
            "marker": {
             "colorbar": {
              "outlinewidth": 0,
              "ticks": ""
             }
            },
            "type": "scattermapbox"
           }
          ],
          "scatterpolar": [
           {
            "marker": {
             "colorbar": {
              "outlinewidth": 0,
              "ticks": ""
             }
            },
            "type": "scatterpolar"
           }
          ],
          "scatterpolargl": [
           {
            "marker": {
             "colorbar": {
              "outlinewidth": 0,
              "ticks": ""
             }
            },
            "type": "scatterpolargl"
           }
          ],
          "scatterternary": [
           {
            "marker": {
             "colorbar": {
              "outlinewidth": 0,
              "ticks": ""
             }
            },
            "type": "scatterternary"
           }
          ],
          "surface": [
           {
            "colorbar": {
             "outlinewidth": 0,
             "ticks": ""
            },
            "colorscale": [
             [
              0,
              "#0d0887"
             ],
             [
              0.1111111111111111,
              "#46039f"
             ],
             [
              0.2222222222222222,
              "#7201a8"
             ],
             [
              0.3333333333333333,
              "#9c179e"
             ],
             [
              0.4444444444444444,
              "#bd3786"
             ],
             [
              0.5555555555555556,
              "#d8576b"
             ],
             [
              0.6666666666666666,
              "#ed7953"
             ],
             [
              0.7777777777777778,
              "#fb9f3a"
             ],
             [
              0.8888888888888888,
              "#fdca26"
             ],
             [
              1,
              "#f0f921"
             ]
            ],
            "type": "surface"
           }
          ],
          "table": [
           {
            "cells": {
             "fill": {
              "color": "#EBF0F8"
             },
             "line": {
              "color": "white"
             }
            },
            "header": {
             "fill": {
              "color": "#C8D4E3"
             },
             "line": {
              "color": "white"
             }
            },
            "type": "table"
           }
          ]
         },
         "layout": {
          "annotationdefaults": {
           "arrowcolor": "#2a3f5f",
           "arrowhead": 0,
           "arrowwidth": 1
          },
          "autotypenumbers": "strict",
          "coloraxis": {
           "colorbar": {
            "outlinewidth": 0,
            "ticks": ""
           }
          },
          "colorscale": {
           "diverging": [
            [
             0,
             "#8e0152"
            ],
            [
             0.1,
             "#c51b7d"
            ],
            [
             0.2,
             "#de77ae"
            ],
            [
             0.3,
             "#f1b6da"
            ],
            [
             0.4,
             "#fde0ef"
            ],
            [
             0.5,
             "#f7f7f7"
            ],
            [
             0.6,
             "#e6f5d0"
            ],
            [
             0.7,
             "#b8e186"
            ],
            [
             0.8,
             "#7fbc41"
            ],
            [
             0.9,
             "#4d9221"
            ],
            [
             1,
             "#276419"
            ]
           ],
           "sequential": [
            [
             0,
             "#0d0887"
            ],
            [
             0.1111111111111111,
             "#46039f"
            ],
            [
             0.2222222222222222,
             "#7201a8"
            ],
            [
             0.3333333333333333,
             "#9c179e"
            ],
            [
             0.4444444444444444,
             "#bd3786"
            ],
            [
             0.5555555555555556,
             "#d8576b"
            ],
            [
             0.6666666666666666,
             "#ed7953"
            ],
            [
             0.7777777777777778,
             "#fb9f3a"
            ],
            [
             0.8888888888888888,
             "#fdca26"
            ],
            [
             1,
             "#f0f921"
            ]
           ],
           "sequentialminus": [
            [
             0,
             "#0d0887"
            ],
            [
             0.1111111111111111,
             "#46039f"
            ],
            [
             0.2222222222222222,
             "#7201a8"
            ],
            [
             0.3333333333333333,
             "#9c179e"
            ],
            [
             0.4444444444444444,
             "#bd3786"
            ],
            [
             0.5555555555555556,
             "#d8576b"
            ],
            [
             0.6666666666666666,
             "#ed7953"
            ],
            [
             0.7777777777777778,
             "#fb9f3a"
            ],
            [
             0.8888888888888888,
             "#fdca26"
            ],
            [
             1,
             "#f0f921"
            ]
           ]
          },
          "colorway": [
           "#636efa",
           "#EF553B",
           "#00cc96",
           "#ab63fa",
           "#FFA15A",
           "#19d3f3",
           "#FF6692",
           "#B6E880",
           "#FF97FF",
           "#FECB52"
          ],
          "font": {
           "color": "#2a3f5f"
          },
          "geo": {
           "bgcolor": "white",
           "lakecolor": "white",
           "landcolor": "#E5ECF6",
           "showlakes": true,
           "showland": true,
           "subunitcolor": "white"
          },
          "hoverlabel": {
           "align": "left"
          },
          "hovermode": "closest",
          "mapbox": {
           "style": "light"
          },
          "paper_bgcolor": "white",
          "plot_bgcolor": "#E5ECF6",
          "polar": {
           "angularaxis": {
            "gridcolor": "white",
            "linecolor": "white",
            "ticks": ""
           },
           "bgcolor": "#E5ECF6",
           "radialaxis": {
            "gridcolor": "white",
            "linecolor": "white",
            "ticks": ""
           }
          },
          "scene": {
           "xaxis": {
            "backgroundcolor": "#E5ECF6",
            "gridcolor": "white",
            "gridwidth": 2,
            "linecolor": "white",
            "showbackground": true,
            "ticks": "",
            "zerolinecolor": "white"
           },
           "yaxis": {
            "backgroundcolor": "#E5ECF6",
            "gridcolor": "white",
            "gridwidth": 2,
            "linecolor": "white",
            "showbackground": true,
            "ticks": "",
            "zerolinecolor": "white"
           },
           "zaxis": {
            "backgroundcolor": "#E5ECF6",
            "gridcolor": "white",
            "gridwidth": 2,
            "linecolor": "white",
            "showbackground": true,
            "ticks": "",
            "zerolinecolor": "white"
           }
          },
          "shapedefaults": {
           "line": {
            "color": "#2a3f5f"
           }
          },
          "ternary": {
           "aaxis": {
            "gridcolor": "white",
            "linecolor": "white",
            "ticks": ""
           },
           "baxis": {
            "gridcolor": "white",
            "linecolor": "white",
            "ticks": ""
           },
           "bgcolor": "#E5ECF6",
           "caxis": {
            "gridcolor": "white",
            "linecolor": "white",
            "ticks": ""
           }
          },
          "title": {
           "x": 0.05
          },
          "xaxis": {
           "automargin": true,
           "gridcolor": "white",
           "linecolor": "white",
           "ticks": "",
           "title": {
            "standoff": 15
           },
           "zerolinecolor": "white",
           "zerolinewidth": 2
          },
          "yaxis": {
           "automargin": true,
           "gridcolor": "white",
           "linecolor": "white",
           "ticks": "",
           "title": {
            "standoff": 15
           },
           "zerolinecolor": "white",
           "zerolinewidth": 2
          }
         }
        }
       }
      },
      "image/png": "[encoded data removed]",
      "text/html": [
       "<div>                            <div id=\"bffbf261-6a78-49c4-9a4a-1d1073fec9c8\" class=\"plotly-graph-div\" style=\"height:525px; width:100%;\"></div>            <script type=\"text/javascript\">                require([\"plotly\"], function(Plotly) {                    window.PLOTLYENV=window.PLOTLYENV || {};                                    if (document.getElementById(\"bffbf261-6a78-49c4-9a4a-1d1073fec9c8\")) {                    Plotly.newPlot(                        \"bffbf261-6a78-49c4-9a4a-1d1073fec9c8\",                        [{\"hovertemplate\": \"species=setosa<br>sepal_length=%{x}<br>sepal_width=%{y}<br>petal_width=%{z}<extra></extra>\", \"legendgroup\": \"setosa\", \"marker\": {\"color\": \"#636efa\", \"symbol\": \"circle\"}, \"mode\": \"markers\", \"name\": \"setosa\", \"scene\": \"scene\", \"showlegend\": true, \"type\": \"scatter3d\", \"x\": [5.1, 4.9, 4.7, 4.6, 5.0, 5.4, 4.6, 5.0, 4.4, 4.9, 5.4, 4.8, 4.8, 4.3, 5.8, 5.7, 5.4, 5.1, 5.7, 5.1, 5.4, 5.1, 4.6, 5.1, 4.8, 5.0, 5.0, 5.2, 5.2, 4.7, 4.8, 5.4, 5.2, 5.5, 4.9, 5.0, 5.5, 4.9, 4.4, 5.1, 5.0, 4.5, 4.4, 5.0, 5.1, 4.8, 5.1, 4.6, 5.3, 5.0], \"y\": [3.5, 3.0, 3.2, 3.1, 3.6, 3.9, 3.4, 3.4, 2.9, 3.1, 3.7, 3.4, 3.0, 3.0, 4.0, 4.4, 3.9, 3.5, 3.8, 3.8, 3.4, 3.7, 3.6, 3.3, 3.4, 3.0, 3.4, 3.5, 3.4, 3.2, 3.1, 3.4, 4.1, 4.2, 3.1, 3.2, 3.5, 3.1, 3.0, 3.4, 3.5, 2.3, 3.2, 3.5, 3.8, 3.0, 3.8, 3.2, 3.7, 3.3], \"z\": [0.2, 0.2, 0.2, 0.2, 0.2, 0.4, 0.3, 0.2, 0.2, 0.1, 0.2, 0.2, 0.1, 0.1, 0.2, 0.4, 0.4, 0.3, 0.3, 0.3, 0.2, 0.4, 0.2, 0.5, 0.2, 0.2, 0.4, 0.2, 0.2, 0.2, 0.2, 0.4, 0.1, 0.2, 0.1, 0.2, 0.2, 0.1, 0.2, 0.2, 0.3, 0.3, 0.2, 0.6, 0.4, 0.3, 0.2, 0.2, 0.2, 0.2]}, {\"hovertemplate\": \"species=versicolor<br>sepal_length=%{x}<br>sepal_width=%{y}<br>petal_width=%{z}<extra></extra>\", \"legendgroup\": \"versicolor\", \"marker\": {\"color\": \"#EF553B\", \"symbol\": \"circle\"}, \"mode\": \"markers\", \"name\": \"versicolor\", \"scene\": \"scene\", \"showlegend\": true, \"type\": \"scatter3d\", \"x\": [7.0, 6.4, 6.9, 5.5, 6.5, 5.7, 6.3, 4.9, 6.6, 5.2, 5.0, 5.9, 6.0, 6.1, 5.6, 6.7, 5.6, 5.8, 6.2, 5.6, 5.9, 6.1, 6.3, 6.1, 6.4, 6.6, 6.8, 6.7, 6.0, 5.7, 5.5, 5.5, 5.8, 6.0, 5.4, 6.0, 6.7, 6.3, 5.6, 5.5, 5.5, 6.1, 5.8, 5.0, 5.6, 5.7, 5.7, 6.2, 5.1, 5.7], \"y\": [3.2, 3.2, 3.1, 2.3, 2.8, 2.8, 3.3, 2.4, 2.9, 2.7, 2.0, 3.0, 2.2, 2.9, 2.9, 3.1, 3.0, 2.7, 2.2, 2.5, 3.2, 2.8, 2.5, 2.8, 2.9, 3.0, 2.8, 3.0, 2.9, 2.6, 2.4, 2.4, 2.7, 2.7, 3.0, 3.4, 3.1, 2.3, 3.0, 2.5, 2.6, 3.0, 2.6, 2.3, 2.7, 3.0, 2.9, 2.9, 2.5, 2.8], \"z\": [1.4, 1.5, 1.5, 1.3, 1.5, 1.3, 1.6, 1.0, 1.3, 1.4, 1.0, 1.5, 1.0, 1.4, 1.3, 1.4, 1.5, 1.0, 1.5, 1.1, 1.8, 1.3, 1.5, 1.2, 1.3, 1.4, 1.4, 1.7, 1.5, 1.0, 1.1, 1.0, 1.2, 1.6, 1.5, 1.6, 1.5, 1.3, 1.3, 1.3, 1.2, 1.4, 1.2, 1.0, 1.3, 1.2, 1.3, 1.3, 1.1, 1.3]}, {\"hovertemplate\": \"species=virginica<br>sepal_length=%{x}<br>sepal_width=%{y}<br>petal_width=%{z}<extra></extra>\", \"legendgroup\": \"virginica\", \"marker\": {\"color\": \"#00cc96\", \"symbol\": \"circle\"}, \"mode\": \"markers\", \"name\": \"virginica\", \"scene\": \"scene\", \"showlegend\": true, \"type\": \"scatter3d\", \"x\": [6.3, 5.8, 7.1, 6.3, 6.5, 7.6, 4.9, 7.3, 6.7, 7.2, 6.5, 6.4, 6.8, 5.7, 5.8, 6.4, 6.5, 7.7, 7.7, 6.0, 6.9, 5.6, 7.7, 6.3, 6.7, 7.2, 6.2, 6.1, 6.4, 7.2, 7.4, 7.9, 6.4, 6.3, 6.1, 7.7, 6.3, 6.4, 6.0, 6.9, 6.7, 6.9, 5.8, 6.8, 6.7, 6.7, 6.3, 6.5, 6.2, 5.9], \"y\": [3.3, 2.7, 3.0, 2.9, 3.0, 3.0, 2.5, 2.9, 2.5, 3.6, 3.2, 2.7, 3.0, 2.5, 2.8, 3.2, 3.0, 3.8, 2.6, 2.2, 3.2, 2.8, 2.8, 2.7, 3.3, 3.2, 2.8, 3.0, 2.8, 3.0, 2.8, 3.8, 2.8, 2.8, 2.6, 3.0, 3.4, 3.1, 3.0, 3.1, 3.1, 3.1, 2.7, 3.2, 3.3, 3.0, 2.5, 3.0, 3.4, 3.0], \"z\": [2.5, 1.9, 2.1, 1.8, 2.2, 2.1, 1.7, 1.8, 1.8, 2.5, 2.0, 1.9, 2.1, 2.0, 2.4, 2.3, 1.8, 2.2, 2.3, 1.5, 2.3, 2.0, 2.0, 1.8, 2.1, 1.8, 1.8, 1.8, 2.1, 1.6, 1.9, 2.0, 2.2, 1.5, 1.4, 2.3, 2.4, 1.8, 1.8, 2.1, 2.4, 2.3, 1.9, 2.3, 2.5, 2.3, 1.9, 2.0, 2.3, 1.8]}],                        {\"legend\": {\"title\": {\"text\": \"species\"}, \"tracegroupgap\": 0}, \"margin\": {\"t\": 60}, \"scene\": {\"domain\": {\"x\": [0.0, 1.0], \"y\": [0.0, 1.0]}, \"xaxis\": {\"title\": {\"text\": \"sepal_length\"}}, \"yaxis\": {\"title\": {\"text\": \"sepal_width\"}}, \"zaxis\": {\"title\": {\"text\": \"petal_width\"}}}, \"template\": {\"data\": {\"bar\": [{\"error_x\": {\"color\": \"#2a3f5f\"}, \"error_y\": {\"color\": \"#2a3f5f\"}, \"marker\": {\"line\": {\"color\": \"#E5ECF6\", \"width\": 0.5}}, \"type\": \"bar\"}], \"barpolar\": [{\"marker\": {\"line\": {\"color\": \"#E5ECF6\", \"width\": 0.5}}, \"type\": \"barpolar\"}], \"carpet\": [{\"aaxis\": {\"endlinecolor\": \"#2a3f5f\", \"gridcolor\": \"white\", \"linecolor\": \"white\", \"minorgridcolor\": \"white\", \"startlinecolor\": \"#2a3f5f\"}, \"baxis\": {\"endlinecolor\": \"#2a3f5f\", \"gridcolor\": \"white\", \"linecolor\": \"white\", \"minorgridcolor\": \"white\", \"startlinecolor\": \"#2a3f5f\"}, \"type\": \"carpet\"}], \"choropleth\": [{\"colorbar\": {\"outlinewidth\": 0, \"ticks\": \"\"}, \"type\": \"choropleth\"}], \"contour\": [{\"colorbar\": {\"outlinewidth\": 0, \"ticks\": \"\"}, \"colorscale\": [[0.0, \"#0d0887\"], [0.1111111111111111, \"#46039f\"], [0.2222222222222222, \"#7201a8\"], [0.3333333333333333, \"#9c179e\"], [0.4444444444444444, \"#bd3786\"], [0.5555555555555556, \"#d8576b\"], [0.6666666666666666, \"#ed7953\"], [0.7777777777777778, \"#fb9f3a\"], [0.8888888888888888, \"#fdca26\"], [1.0, \"#f0f921\"]], \"type\": \"contour\"}], \"contourcarpet\": [{\"colorbar\": {\"outlinewidth\": 0, \"ticks\": \"\"}, \"type\": \"contourcarpet\"}], \"heatmap\": [{\"colorbar\": {\"outlinewidth\": 0, \"ticks\": \"\"}, \"colorscale\": [[0.0, \"#0d0887\"], [0.1111111111111111, \"#46039f\"], [0.2222222222222222, \"#7201a8\"], [0.3333333333333333, \"#9c179e\"], [0.4444444444444444, \"#bd3786\"], [0.5555555555555556, \"#d8576b\"], [0.6666666666666666, \"#ed7953\"], [0.7777777777777778, \"#fb9f3a\"], [0.8888888888888888, \"#fdca26\"], [1.0, \"#f0f921\"]], \"type\": \"heatmap\"}], \"heatmapgl\": [{\"colorbar\": {\"outlinewidth\": 0, \"ticks\": \"\"}, \"colorscale\": [[0.0, \"#0d0887\"], [0.1111111111111111, \"#46039f\"], [0.2222222222222222, \"#7201a8\"], [0.3333333333333333, \"#9c179e\"], [0.4444444444444444, \"#bd3786\"], [0.5555555555555556, \"#d8576b\"], [0.6666666666666666, \"#ed7953\"], [0.7777777777777778, \"#fb9f3a\"], [0.8888888888888888, \"#fdca26\"], [1.0, \"#f0f921\"]], \"type\": \"heatmapgl\"}], \"histogram\": [{\"marker\": {\"colorbar\": {\"outlinewidth\": 0, \"ticks\": \"\"}}, \"type\": \"histogram\"}], \"histogram2d\": [{\"colorbar\": {\"outlinewidth\": 0, \"ticks\": \"\"}, \"colorscale\": [[0.0, \"#0d0887\"], [0.1111111111111111, \"#46039f\"], [0.2222222222222222, \"#7201a8\"], [0.3333333333333333, \"#9c179e\"], [0.4444444444444444, \"#bd3786\"], [0.5555555555555556, \"#d8576b\"], [0.6666666666666666, \"#ed7953\"], [0.7777777777777778, \"#fb9f3a\"], [0.8888888888888888, \"#fdca26\"], [1.0, \"#f0f921\"]], \"type\": \"histogram2d\"}], \"histogram2dcontour\": [{\"colorbar\": {\"outlinewidth\": 0, \"ticks\": \"\"}, \"colorscale\": [[0.0, \"#0d0887\"], [0.1111111111111111, \"#46039f\"], [0.2222222222222222, \"#7201a8\"], [0.3333333333333333, \"#9c179e\"], [0.4444444444444444, \"#bd3786\"], [0.5555555555555556, \"#d8576b\"], [0.6666666666666666, \"#ed7953\"], [0.7777777777777778, \"#fb9f3a\"], [0.8888888888888888, \"#fdca26\"], [1.0, \"#f0f921\"]], \"type\": \"histogram2dcontour\"}], \"mesh3d\": [{\"colorbar\": {\"outlinewidth\": 0, \"ticks\": \"\"}, \"type\": \"mesh3d\"}], \"parcoords\": [{\"line\": {\"colorbar\": {\"outlinewidth\": 0, \"ticks\": \"\"}}, \"type\": \"parcoords\"}], \"pie\": [{\"automargin\": true, \"type\": \"pie\"}], \"scatter\": [{\"marker\": {\"colorbar\": {\"outlinewidth\": 0, \"ticks\": \"\"}}, \"type\": \"scatter\"}], \"scatter3d\": [{\"line\": {\"colorbar\": {\"outlinewidth\": 0, \"ticks\": \"\"}}, \"marker\": {\"colorbar\": {\"outlinewidth\": 0, \"ticks\": \"\"}}, \"type\": \"scatter3d\"}], \"scattercarpet\": [{\"marker\": {\"colorbar\": {\"outlinewidth\": 0, \"ticks\": \"\"}}, \"type\": \"scattercarpet\"}], \"scattergeo\": [{\"marker\": {\"colorbar\": {\"outlinewidth\": 0, \"ticks\": \"\"}}, \"type\": \"scattergeo\"}], \"scattergl\": [{\"marker\": {\"colorbar\": {\"outlinewidth\": 0, \"ticks\": \"\"}}, \"type\": \"scattergl\"}], \"scattermapbox\": [{\"marker\": {\"colorbar\": {\"outlinewidth\": 0, \"ticks\": \"\"}}, \"type\": \"scattermapbox\"}], \"scatterpolar\": [{\"marker\": {\"colorbar\": {\"outlinewidth\": 0, \"ticks\": \"\"}}, \"type\": \"scatterpolar\"}], \"scatterpolargl\": [{\"marker\": {\"colorbar\": {\"outlinewidth\": 0, \"ticks\": \"\"}}, \"type\": \"scatterpolargl\"}], \"scatterternary\": [{\"marker\": {\"colorbar\": {\"outlinewidth\": 0, \"ticks\": \"\"}}, \"type\": \"scatterternary\"}], \"surface\": [{\"colorbar\": {\"outlinewidth\": 0, \"ticks\": \"\"}, \"colorscale\": [[0.0, \"#0d0887\"], [0.1111111111111111, \"#46039f\"], [0.2222222222222222, \"#7201a8\"], [0.3333333333333333, \"#9c179e\"], [0.4444444444444444, \"#bd3786\"], [0.5555555555555556, \"#d8576b\"], [0.6666666666666666, \"#ed7953\"], [0.7777777777777778, \"#fb9f3a\"], [0.8888888888888888, \"#fdca26\"], [1.0, \"#f0f921\"]], \"type\": \"surface\"}], \"table\": [{\"cells\": {\"fill\": {\"color\": \"#EBF0F8\"}, \"line\": {\"color\": \"white\"}}, \"header\": {\"fill\": {\"color\": \"#C8D4E3\"}, \"line\": {\"color\": \"white\"}}, \"type\": \"table\"}]}, \"layout\": {\"annotationdefaults\": {\"arrowcolor\": \"#2a3f5f\", \"arrowhead\": 0, \"arrowwidth\": 1}, \"autotypenumbers\": \"strict\", \"coloraxis\": {\"colorbar\": {\"outlinewidth\": 0, \"ticks\": \"\"}}, \"colorscale\": {\"diverging\": [[0, \"#8e0152\"], [0.1, \"#c51b7d\"], [0.2, \"#de77ae\"], [0.3, \"#f1b6da\"], [0.4, \"#fde0ef\"], [0.5, \"#f7f7f7\"], [0.6, \"#e6f5d0\"], [0.7, \"#b8e186\"], [0.8, \"#7fbc41\"], [0.9, \"#4d9221\"], [1, \"#276419\"]], \"sequential\": [[0.0, \"#0d0887\"], [0.1111111111111111, \"#46039f\"], [0.2222222222222222, \"#7201a8\"], [0.3333333333333333, \"#9c179e\"], [0.4444444444444444, \"#bd3786\"], [0.5555555555555556, \"#d8576b\"], [0.6666666666666666, \"#ed7953\"], [0.7777777777777778, \"#fb9f3a\"], [0.8888888888888888, \"#fdca26\"], [1.0, \"#f0f921\"]], \"sequentialminus\": [[0.0, \"#0d0887\"], [0.1111111111111111, \"#46039f\"], [0.2222222222222222, \"#7201a8\"], [0.3333333333333333, \"#9c179e\"], [0.4444444444444444, \"#bd3786\"], [0.5555555555555556, \"#d8576b\"], [0.6666666666666666, \"#ed7953\"], [0.7777777777777778, \"#fb9f3a\"], [0.8888888888888888, \"#fdca26\"], [1.0, \"#f0f921\"]]}, \"colorway\": [\"#636efa\", \"#EF553B\", \"#00cc96\", \"#ab63fa\", \"#FFA15A\", \"#19d3f3\", \"#FF6692\", \"#B6E880\", \"#FF97FF\", \"#FECB52\"], \"font\": {\"color\": \"#2a3f5f\"}, \"geo\": {\"bgcolor\": \"white\", \"lakecolor\": \"white\", \"landcolor\": \"#E5ECF6\", \"showlakes\": true, \"showland\": true, \"subunitcolor\": \"white\"}, \"hoverlabel\": {\"align\": \"left\"}, \"hovermode\": \"closest\", \"mapbox\": {\"style\": \"light\"}, \"paper_bgcolor\": \"white\", \"plot_bgcolor\": \"#E5ECF6\", \"polar\": {\"angularaxis\": {\"gridcolor\": \"white\", \"linecolor\": \"white\", \"ticks\": \"\"}, \"bgcolor\": \"#E5ECF6\", \"radialaxis\": {\"gridcolor\": \"white\", \"linecolor\": \"white\", \"ticks\": \"\"}}, \"scene\": {\"xaxis\": {\"backgroundcolor\": \"#E5ECF6\", \"gridcolor\": \"white\", \"gridwidth\": 2, \"linecolor\": \"white\", \"showbackground\": true, \"ticks\": \"\", \"zerolinecolor\": \"white\"}, \"yaxis\": {\"backgroundcolor\": \"#E5ECF6\", \"gridcolor\": \"white\", \"gridwidth\": 2, \"linecolor\": \"white\", \"showbackground\": true, \"ticks\": \"\", \"zerolinecolor\": \"white\"}, \"zaxis\": {\"backgroundcolor\": \"#E5ECF6\", \"gridcolor\": \"white\", \"gridwidth\": 2, \"linecolor\": \"white\", \"showbackground\": true, \"ticks\": \"\", \"zerolinecolor\": \"white\"}}, \"shapedefaults\": {\"line\": {\"color\": \"#2a3f5f\"}}, \"ternary\": {\"aaxis\": {\"gridcolor\": \"white\", \"linecolor\": \"white\", \"ticks\": \"\"}, \"baxis\": {\"gridcolor\": \"white\", \"linecolor\": \"white\", \"ticks\": \"\"}, \"bgcolor\": \"#E5ECF6\", \"caxis\": {\"gridcolor\": \"white\", \"linecolor\": \"white\", \"ticks\": \"\"}}, \"title\": {\"x\": 0.05}, \"xaxis\": {\"automargin\": true, \"gridcolor\": \"white\", \"linecolor\": \"white\", \"ticks\": \"\", \"title\": {\"standoff\": 15}, \"zerolinecolor\": \"white\", \"zerolinewidth\": 2}, \"yaxis\": {\"automargin\": true, \"gridcolor\": \"white\", \"linecolor\": \"white\", \"ticks\": \"\", \"title\": {\"standoff\": 15}, \"zerolinecolor\": \"white\", \"zerolinewidth\": 2}}}},                        {\"responsive\": true}                    ).then(function(){\n",
       "                            \n",
       "var gd = document.getElementById('bffbf261-6a78-49c4-9a4a-1d1073fec9c8');\n",
       "var x = new MutationObserver(function (mutations, observer) {{\n",
       "        var display = window.getComputedStyle(gd).display;\n",
       "        if (!display || display === 'none') {{\n",
       "            console.log([gd, 'removed!']);\n",
       "            Plotly.purge(gd);\n",
       "            observer.disconnect();\n",
       "        }}\n",
       "}});\n",
       "\n",
       "// Listen for the removal of the full notebook cells\n",
       "var notebookContainer = gd.closest('#notebook-container');\n",
       "if (notebookContainer) {{\n",
       "    x.observe(notebookContainer, {childList: true});\n",
       "}}\n",
       "\n",
       "// Listen for the clearing of the current output cell\n",
       "var outputEl = gd.closest('.output');\n",
       "if (outputEl) {{\n",
       "    x.observe(outputEl, {childList: true});\n",
       "}}\n",
       "\n",
       "                        })                };                });            </script>        </div>"
      ]
     },
     "metadata": {},
     "output_type": "display_data"
    }
   ],
   "source": [
    "# plotly visualisation\n",
    "df = px.data.iris()\n",
    "fig = px.scatter_3d(df, x='sepal_length', y='sepal_width', z='petal_width',\n",
    "              color='species')\n",
    "fig.show()"
   ]
  },
  {
   "cell_type": "markdown",
   "metadata": {},
   "source": [
    "### *Babyplots Visualisation [gave up, prefer plotly now!]"
   ]
  },
  {
   "cell_type": "code",
   "execution_count": 32,
   "metadata": {},
   "outputs": [],
   "source": [
    "from babyplots import Babyplot"
   ]
  },
  {
   "cell_type": "code",
   "execution_count": null,
   "metadata": {},
   "outputs": [],
   "source": [
    "# Code for interactive 3d babyplot [needs to be adapted]\n",
    "from babyplots import Babyplot\n",
    "bp = Babyplot()\n",
    "data = [list(x) for x in list(zip(xs, ys, zs))]\n",
    "new_data = []\n",
    "for point in data:\n",
    "    new_data.append([round(point[0], 1), round(point[1], 1), round(point[2], 1)])\n",
    "bp.add_plot(int_data, plot_type=\"pointCloud\", color_by=\"categories\", color_var=list(hdbscan_labels), \n",
    "                                                                   options={\"shape\": \"sphere\",\n",
    "                                                                 \"colorScale\": \"Set2\",\n",
    "                                                                 \"showAxes\": [True, True, True]\n",
    "                                                                 })\n",
    "\n",
    "bp"
   ]
  },
  {
   "cell_type": "code",
   "execution_count": null,
   "metadata": {},
   "outputs": [],
   "source": [
    "import numpy as np\n",
    "from sklearn import decomposition\n",
    "from sklearn import datasets\n",
    "from babyplots import Babyplot\n",
    "np.random.seed(5)\n",
    "\n",
    "# load the data set\n",
    "iris = datasets.load_iris()\n",
    "X = iris.data\n",
    "y = iris.target\n",
    "\n",
    "# create the babyplots visualization\n",
    "bp = Babyplot()\n",
    "bp.add_plot(X.tolist(), \"shapeCloud\", \"categories\", y.tolist(), {\"shape\": \"sphere\",\n",
    "                                                                 \"colorScale\": \"Set2\",\n",
    "                                                                 \"showAxes\": [True, True, True],\n",
    "                                                                 \"axisLabels\": [\"PC 1\", \"PC 2\", \"PC 3\"]})\n",
    "# show the visualization\n",
    "bp"
   ]
  },
  {
   "cell_type": "code",
   "execution_count": 51,
   "metadata": {},
   "outputs": [
    {
     "data": {
      "application/javascript": [
       "/* Put everything inside the global mpl namespace */\n",
       "/* global mpl */\n",
       "window.mpl = {};\n",
       "\n",
       "mpl.get_websocket_type = function () {\n",
       "    if (typeof WebSocket !== 'undefined') {\n",
       "        return WebSocket;\n",
       "    } else if (typeof MozWebSocket !== 'undefined') {\n",
       "        return MozWebSocket;\n",
       "    } else {\n",
       "        alert(\n",
       "            'Your browser does not have WebSocket support. ' +\n",
       "                'Please try Chrome, Safari or Firefox ≥ 6. ' +\n",
       "                'Firefox 4 and 5 are also supported but you ' +\n",
       "                'have to enable WebSockets in about:config.'\n",
       "        );\n",
       "    }\n",
       "};\n",
       "\n",
       "mpl.figure = function (figure_id, websocket, ondownload, parent_element) {\n",
       "    this.id = figure_id;\n",
       "\n",
       "    this.ws = websocket;\n",
       "\n",
       "    this.supports_binary = this.ws.binaryType !== undefined;\n",
       "\n",
       "    if (!this.supports_binary) {\n",
       "        var warnings = document.getElementById('mpl-warnings');\n",
       "        if (warnings) {\n",
       "            warnings.style.display = 'block';\n",
       "            warnings.textContent =\n",
       "                'This browser does not support binary websocket messages. ' +\n",
       "                'Performance may be slow.';\n",
       "        }\n",
       "    }\n",
       "\n",
       "    this.imageObj = new Image();\n",
       "\n",
       "    this.context = undefined;\n",
       "    this.message = undefined;\n",
       "    this.canvas = undefined;\n",
       "    this.rubberband_canvas = undefined;\n",
       "    this.rubberband_context = undefined;\n",
       "    this.format_dropdown = undefined;\n",
       "\n",
       "    this.image_mode = 'full';\n",
       "\n",
       "    this.root = document.createElement('div');\n",
       "    this.root.setAttribute('style', 'display: inline-block');\n",
       "    this._root_extra_style(this.root);\n",
       "\n",
       "    parent_element.appendChild(this.root);\n",
       "\n",
       "    this._init_header(this);\n",
       "    this._init_canvas(this);\n",
       "    this._init_toolbar(this);\n",
       "\n",
       "    var fig = this;\n",
       "\n",
       "    this.waiting = false;\n",
       "\n",
       "    this.ws.onopen = function () {\n",
       "        fig.send_message('supports_binary', { value: fig.supports_binary });\n",
       "        fig.send_message('send_image_mode', {});\n",
       "        if (fig.ratio !== 1) {\n",
       "            fig.send_message('set_dpi_ratio', { dpi_ratio: fig.ratio });\n",
       "        }\n",
       "        fig.send_message('refresh', {});\n",
       "    };\n",
       "\n",
       "    this.imageObj.onload = function () {\n",
       "        if (fig.image_mode === 'full') {\n",
       "            // Full images could contain transparency (where diff images\n",
       "            // almost always do), so we need to clear the canvas so that\n",
       "            // there is no ghosting.\n",
       "            fig.context.clearRect(0, 0, fig.canvas.width, fig.canvas.height);\n",
       "        }\n",
       "        fig.context.drawImage(fig.imageObj, 0, 0);\n",
       "    };\n",
       "\n",
       "    this.imageObj.onunload = function () {\n",
       "        fig.ws.close();\n",
       "    };\n",
       "\n",
       "    this.ws.onmessage = this._make_on_message_function(this);\n",
       "\n",
       "    this.ondownload = ondownload;\n",
       "};\n",
       "\n",
       "mpl.figure.prototype._init_header = function () {\n",
       "    var titlebar = document.createElement('div');\n",
       "    titlebar.classList =\n",
       "        'ui-dialog-titlebar ui-widget-header ui-corner-all ui-helper-clearfix';\n",
       "    var titletext = document.createElement('div');\n",
       "    titletext.classList = 'ui-dialog-title';\n",
       "    titletext.setAttribute(\n",
       "        'style',\n",
       "        'width: 100%; text-align: center; padding: 3px;'\n",
       "    );\n",
       "    titlebar.appendChild(titletext);\n",
       "    this.root.appendChild(titlebar);\n",
       "    this.header = titletext;\n",
       "};\n",
       "\n",
       "mpl.figure.prototype._canvas_extra_style = function (_canvas_div) {};\n",
       "\n",
       "mpl.figure.prototype._root_extra_style = function (_canvas_div) {};\n",
       "\n",
       "mpl.figure.prototype._init_canvas = function () {\n",
       "    var fig = this;\n",
       "\n",
       "    var canvas_div = (this.canvas_div = document.createElement('div'));\n",
       "    canvas_div.setAttribute(\n",
       "        'style',\n",
       "        'border: 1px solid #ddd;' +\n",
       "            'box-sizing: content-box;' +\n",
       "            'clear: both;' +\n",
       "            'min-height: 1px;' +\n",
       "            'min-width: 1px;' +\n",
       "            'outline: 0;' +\n",
       "            'overflow: hidden;' +\n",
       "            'position: relative;' +\n",
       "            'resize: both;'\n",
       "    );\n",
       "\n",
       "    function on_keyboard_event_closure(name) {\n",
       "        return function (event) {\n",
       "            return fig.key_event(event, name);\n",
       "        };\n",
       "    }\n",
       "\n",
       "    canvas_div.addEventListener(\n",
       "        'keydown',\n",
       "        on_keyboard_event_closure('key_press')\n",
       "    );\n",
       "    canvas_div.addEventListener(\n",
       "        'keyup',\n",
       "        on_keyboard_event_closure('key_release')\n",
       "    );\n",
       "\n",
       "    this._canvas_extra_style(canvas_div);\n",
       "    this.root.appendChild(canvas_div);\n",
       "\n",
       "    var canvas = (this.canvas = document.createElement('canvas'));\n",
       "    canvas.classList.add('mpl-canvas');\n",
       "    canvas.setAttribute('style', 'box-sizing: content-box;');\n",
       "\n",
       "    this.context = canvas.getContext('2d');\n",
       "\n",
       "    var backingStore =\n",
       "        this.context.backingStorePixelRatio ||\n",
       "        this.context.webkitBackingStorePixelRatio ||\n",
       "        this.context.mozBackingStorePixelRatio ||\n",
       "        this.context.msBackingStorePixelRatio ||\n",
       "        this.context.oBackingStorePixelRatio ||\n",
       "        this.context.backingStorePixelRatio ||\n",
       "        1;\n",
       "\n",
       "    this.ratio = (window.devicePixelRatio || 1) / backingStore;\n",
       "    if (this.ratio !== 1) {\n",
       "        fig.send_message('set_dpi_ratio', { dpi_ratio: this.ratio });\n",
       "    }\n",
       "\n",
       "    var rubberband_canvas = (this.rubberband_canvas = document.createElement(\n",
       "        'canvas'\n",
       "    ));\n",
       "    rubberband_canvas.setAttribute(\n",
       "        'style',\n",
       "        'box-sizing: content-box; position: absolute; left: 0; top: 0; z-index: 1;'\n",
       "    );\n",
       "\n",
       "    var resizeObserver = new ResizeObserver(function (entries) {\n",
       "        var nentries = entries.length;\n",
       "        for (var i = 0; i < nentries; i++) {\n",
       "            var entry = entries[i];\n",
       "            var width, height;\n",
       "            if (entry.contentBoxSize) {\n",
       "                if (entry.contentBoxSize instanceof Array) {\n",
       "                    // Chrome 84 implements new version of spec.\n",
       "                    width = entry.contentBoxSize[0].inlineSize;\n",
       "                    height = entry.contentBoxSize[0].blockSize;\n",
       "                } else {\n",
       "                    // Firefox implements old version of spec.\n",
       "                    width = entry.contentBoxSize.inlineSize;\n",
       "                    height = entry.contentBoxSize.blockSize;\n",
       "                }\n",
       "            } else {\n",
       "                // Chrome <84 implements even older version of spec.\n",
       "                width = entry.contentRect.width;\n",
       "                height = entry.contentRect.height;\n",
       "            }\n",
       "\n",
       "            // Keep the size of the canvas and rubber band canvas in sync with\n",
       "            // the canvas container.\n",
       "            if (entry.devicePixelContentBoxSize) {\n",
       "                // Chrome 84 implements new version of spec.\n",
       "                canvas.setAttribute(\n",
       "                    'width',\n",
       "                    entry.devicePixelContentBoxSize[0].inlineSize\n",
       "                );\n",
       "                canvas.setAttribute(\n",
       "                    'height',\n",
       "                    entry.devicePixelContentBoxSize[0].blockSize\n",
       "                );\n",
       "            } else {\n",
       "                canvas.setAttribute('width', width * fig.ratio);\n",
       "                canvas.setAttribute('height', height * fig.ratio);\n",
       "            }\n",
       "            canvas.setAttribute(\n",
       "                'style',\n",
       "                'width: ' + width + 'px; height: ' + height + 'px;'\n",
       "            );\n",
       "\n",
       "            rubberband_canvas.setAttribute('width', width);\n",
       "            rubberband_canvas.setAttribute('height', height);\n",
       "\n",
       "            // And update the size in Python. We ignore the initial 0/0 size\n",
       "            // that occurs as the element is placed into the DOM, which should\n",
       "            // otherwise not happen due to the minimum size styling.\n",
       "            if (width != 0 && height != 0) {\n",
       "                fig.request_resize(width, height);\n",
       "            }\n",
       "        }\n",
       "    });\n",
       "    resizeObserver.observe(canvas_div);\n",
       "\n",
       "    function on_mouse_event_closure(name) {\n",
       "        return function (event) {\n",
       "            return fig.mouse_event(event, name);\n",
       "        };\n",
       "    }\n",
       "\n",
       "    rubberband_canvas.addEventListener(\n",
       "        'mousedown',\n",
       "        on_mouse_event_closure('button_press')\n",
       "    );\n",
       "    rubberband_canvas.addEventListener(\n",
       "        'mouseup',\n",
       "        on_mouse_event_closure('button_release')\n",
       "    );\n",
       "    // Throttle sequential mouse events to 1 every 20ms.\n",
       "    rubberband_canvas.addEventListener(\n",
       "        'mousemove',\n",
       "        on_mouse_event_closure('motion_notify')\n",
       "    );\n",
       "\n",
       "    rubberband_canvas.addEventListener(\n",
       "        'mouseenter',\n",
       "        on_mouse_event_closure('figure_enter')\n",
       "    );\n",
       "    rubberband_canvas.addEventListener(\n",
       "        'mouseleave',\n",
       "        on_mouse_event_closure('figure_leave')\n",
       "    );\n",
       "\n",
       "    canvas_div.addEventListener('wheel', function (event) {\n",
       "        if (event.deltaY < 0) {\n",
       "            event.step = 1;\n",
       "        } else {\n",
       "            event.step = -1;\n",
       "        }\n",
       "        on_mouse_event_closure('scroll')(event);\n",
       "    });\n",
       "\n",
       "    canvas_div.appendChild(canvas);\n",
       "    canvas_div.appendChild(rubberband_canvas);\n",
       "\n",
       "    this.rubberband_context = rubberband_canvas.getContext('2d');\n",
       "    this.rubberband_context.strokeStyle = '#000000';\n",
       "\n",
       "    this._resize_canvas = function (width, height, forward) {\n",
       "        if (forward) {\n",
       "            canvas_div.style.width = width + 'px';\n",
       "            canvas_div.style.height = height + 'px';\n",
       "        }\n",
       "    };\n",
       "\n",
       "    // Disable right mouse context menu.\n",
       "    this.rubberband_canvas.addEventListener('contextmenu', function (_e) {\n",
       "        event.preventDefault();\n",
       "        return false;\n",
       "    });\n",
       "\n",
       "    function set_focus() {\n",
       "        canvas.focus();\n",
       "        canvas_div.focus();\n",
       "    }\n",
       "\n",
       "    window.setTimeout(set_focus, 100);\n",
       "};\n",
       "\n",
       "mpl.figure.prototype._init_toolbar = function () {\n",
       "    var fig = this;\n",
       "\n",
       "    var toolbar = document.createElement('div');\n",
       "    toolbar.classList = 'mpl-toolbar';\n",
       "    this.root.appendChild(toolbar);\n",
       "\n",
       "    function on_click_closure(name) {\n",
       "        return function (_event) {\n",
       "            return fig.toolbar_button_onclick(name);\n",
       "        };\n",
       "    }\n",
       "\n",
       "    function on_mouseover_closure(tooltip) {\n",
       "        return function (event) {\n",
       "            if (!event.currentTarget.disabled) {\n",
       "                return fig.toolbar_button_onmouseover(tooltip);\n",
       "            }\n",
       "        };\n",
       "    }\n",
       "\n",
       "    fig.buttons = {};\n",
       "    var buttonGroup = document.createElement('div');\n",
       "    buttonGroup.classList = 'mpl-button-group';\n",
       "    for (var toolbar_ind in mpl.toolbar_items) {\n",
       "        var name = mpl.toolbar_items[toolbar_ind][0];\n",
       "        var tooltip = mpl.toolbar_items[toolbar_ind][1];\n",
       "        var image = mpl.toolbar_items[toolbar_ind][2];\n",
       "        var method_name = mpl.toolbar_items[toolbar_ind][3];\n",
       "\n",
       "        if (!name) {\n",
       "            /* Instead of a spacer, we start a new button group. */\n",
       "            if (buttonGroup.hasChildNodes()) {\n",
       "                toolbar.appendChild(buttonGroup);\n",
       "            }\n",
       "            buttonGroup = document.createElement('div');\n",
       "            buttonGroup.classList = 'mpl-button-group';\n",
       "            continue;\n",
       "        }\n",
       "\n",
       "        var button = (fig.buttons[name] = document.createElement('button'));\n",
       "        button.classList = 'mpl-widget';\n",
       "        button.setAttribute('role', 'button');\n",
       "        button.setAttribute('aria-disabled', 'false');\n",
       "        button.addEventListener('click', on_click_closure(method_name));\n",
       "        button.addEventListener('mouseover', on_mouseover_closure(tooltip));\n",
       "\n",
       "        var icon_img = document.createElement('img');\n",
       "        icon_img.src = '_images/' + image + '.png';\n",
       "        icon_img.srcset = '_images/' + image + '_large.png 2x';\n",
       "        icon_img.alt = tooltip;\n",
       "        button.appendChild(icon_img);\n",
       "\n",
       "        buttonGroup.appendChild(button);\n",
       "    }\n",
       "\n",
       "    if (buttonGroup.hasChildNodes()) {\n",
       "        toolbar.appendChild(buttonGroup);\n",
       "    }\n",
       "\n",
       "    var fmt_picker = document.createElement('select');\n",
       "    fmt_picker.classList = 'mpl-widget';\n",
       "    toolbar.appendChild(fmt_picker);\n",
       "    this.format_dropdown = fmt_picker;\n",
       "\n",
       "    for (var ind in mpl.extensions) {\n",
       "        var fmt = mpl.extensions[ind];\n",
       "        var option = document.createElement('option');\n",
       "        option.selected = fmt === mpl.default_extension;\n",
       "        option.innerHTML = fmt;\n",
       "        fmt_picker.appendChild(option);\n",
       "    }\n",
       "\n",
       "    var status_bar = document.createElement('span');\n",
       "    status_bar.classList = 'mpl-message';\n",
       "    toolbar.appendChild(status_bar);\n",
       "    this.message = status_bar;\n",
       "};\n",
       "\n",
       "mpl.figure.prototype.request_resize = function (x_pixels, y_pixels) {\n",
       "    // Request matplotlib to resize the figure. Matplotlib will then trigger a resize in the client,\n",
       "    // which will in turn request a refresh of the image.\n",
       "    this.send_message('resize', { width: x_pixels, height: y_pixels });\n",
       "};\n",
       "\n",
       "mpl.figure.prototype.send_message = function (type, properties) {\n",
       "    properties['type'] = type;\n",
       "    properties['figure_id'] = this.id;\n",
       "    this.ws.send(JSON.stringify(properties));\n",
       "};\n",
       "\n",
       "mpl.figure.prototype.send_draw_message = function () {\n",
       "    if (!this.waiting) {\n",
       "        this.waiting = true;\n",
       "        this.ws.send(JSON.stringify({ type: 'draw', figure_id: this.id }));\n",
       "    }\n",
       "};\n",
       "\n",
       "mpl.figure.prototype.handle_save = function (fig, _msg) {\n",
       "    var format_dropdown = fig.format_dropdown;\n",
       "    var format = format_dropdown.options[format_dropdown.selectedIndex].value;\n",
       "    fig.ondownload(fig, format);\n",
       "};\n",
       "\n",
       "mpl.figure.prototype.handle_resize = function (fig, msg) {\n",
       "    var size = msg['size'];\n",
       "    if (size[0] !== fig.canvas.width || size[1] !== fig.canvas.height) {\n",
       "        fig._resize_canvas(size[0], size[1], msg['forward']);\n",
       "        fig.send_message('refresh', {});\n",
       "    }\n",
       "};\n",
       "\n",
       "mpl.figure.prototype.handle_rubberband = function (fig, msg) {\n",
       "    var x0 = msg['x0'] / fig.ratio;\n",
       "    var y0 = (fig.canvas.height - msg['y0']) / fig.ratio;\n",
       "    var x1 = msg['x1'] / fig.ratio;\n",
       "    var y1 = (fig.canvas.height - msg['y1']) / fig.ratio;\n",
       "    x0 = Math.floor(x0) + 0.5;\n",
       "    y0 = Math.floor(y0) + 0.5;\n",
       "    x1 = Math.floor(x1) + 0.5;\n",
       "    y1 = Math.floor(y1) + 0.5;\n",
       "    var min_x = Math.min(x0, x1);\n",
       "    var min_y = Math.min(y0, y1);\n",
       "    var width = Math.abs(x1 - x0);\n",
       "    var height = Math.abs(y1 - y0);\n",
       "\n",
       "    fig.rubberband_context.clearRect(\n",
       "        0,\n",
       "        0,\n",
       "        fig.canvas.width / fig.ratio,\n",
       "        fig.canvas.height / fig.ratio\n",
       "    );\n",
       "\n",
       "    fig.rubberband_context.strokeRect(min_x, min_y, width, height);\n",
       "};\n",
       "\n",
       "mpl.figure.prototype.handle_figure_label = function (fig, msg) {\n",
       "    // Updates the figure title.\n",
       "    fig.header.textContent = msg['label'];\n",
       "};\n",
       "\n",
       "mpl.figure.prototype.handle_cursor = function (fig, msg) {\n",
       "    var cursor = msg['cursor'];\n",
       "    switch (cursor) {\n",
       "        case 0:\n",
       "            cursor = 'pointer';\n",
       "            break;\n",
       "        case 1:\n",
       "            cursor = 'default';\n",
       "            break;\n",
       "        case 2:\n",
       "            cursor = 'crosshair';\n",
       "            break;\n",
       "        case 3:\n",
       "            cursor = 'move';\n",
       "            break;\n",
       "    }\n",
       "    fig.rubberband_canvas.style.cursor = cursor;\n",
       "};\n",
       "\n",
       "mpl.figure.prototype.handle_message = function (fig, msg) {\n",
       "    fig.message.textContent = msg['message'];\n",
       "};\n",
       "\n",
       "mpl.figure.prototype.handle_draw = function (fig, _msg) {\n",
       "    // Request the server to send over a new figure.\n",
       "    fig.send_draw_message();\n",
       "};\n",
       "\n",
       "mpl.figure.prototype.handle_image_mode = function (fig, msg) {\n",
       "    fig.image_mode = msg['mode'];\n",
       "};\n",
       "\n",
       "mpl.figure.prototype.handle_history_buttons = function (fig, msg) {\n",
       "    for (var key in msg) {\n",
       "        if (!(key in fig.buttons)) {\n",
       "            continue;\n",
       "        }\n",
       "        fig.buttons[key].disabled = !msg[key];\n",
       "        fig.buttons[key].setAttribute('aria-disabled', !msg[key]);\n",
       "    }\n",
       "};\n",
       "\n",
       "mpl.figure.prototype.handle_navigate_mode = function (fig, msg) {\n",
       "    if (msg['mode'] === 'PAN') {\n",
       "        fig.buttons['Pan'].classList.add('active');\n",
       "        fig.buttons['Zoom'].classList.remove('active');\n",
       "    } else if (msg['mode'] === 'ZOOM') {\n",
       "        fig.buttons['Pan'].classList.remove('active');\n",
       "        fig.buttons['Zoom'].classList.add('active');\n",
       "    } else {\n",
       "        fig.buttons['Pan'].classList.remove('active');\n",
       "        fig.buttons['Zoom'].classList.remove('active');\n",
       "    }\n",
       "};\n",
       "\n",
       "mpl.figure.prototype.updated_canvas_event = function () {\n",
       "    // Called whenever the canvas gets updated.\n",
       "    this.send_message('ack', {});\n",
       "};\n",
       "\n",
       "// A function to construct a web socket function for onmessage handling.\n",
       "// Called in the figure constructor.\n",
       "mpl.figure.prototype._make_on_message_function = function (fig) {\n",
       "    return function socket_on_message(evt) {\n",
       "        if (evt.data instanceof Blob) {\n",
       "            /* FIXME: We get \"Resource interpreted as Image but\n",
       "             * transferred with MIME type text/plain:\" errors on\n",
       "             * Chrome.  But how to set the MIME type?  It doesn't seem\n",
       "             * to be part of the websocket stream */\n",
       "            evt.data.type = 'image/png';\n",
       "\n",
       "            /* Free the memory for the previous frames */\n",
       "            if (fig.imageObj.src) {\n",
       "                (window.URL || window.webkitURL).revokeObjectURL(\n",
       "                    fig.imageObj.src\n",
       "                );\n",
       "            }\n",
       "\n",
       "            fig.imageObj.src = (window.URL || window.webkitURL).createObjectURL(\n",
       "                evt.data\n",
       "            );\n",
       "            fig.updated_canvas_event();\n",
       "            fig.waiting = false;\n",
       "            return;\n",
       "        } else if (\n",
       "            typeof evt.data === 'string' &&\n",
       "            evt.data.slice(0, 21) === 'data:image/png;base64'\n",
       "        ) {\n",
       "            fig.imageObj.src = evt.data;\n",
       "            fig.updated_canvas_event();\n",
       "            fig.waiting = false;\n",
       "            return;\n",
       "        }\n",
       "\n",
       "        var msg = JSON.parse(evt.data);\n",
       "        var msg_type = msg['type'];\n",
       "\n",
       "        // Call the  \"handle_{type}\" callback, which takes\n",
       "        // the figure and JSON message as its only arguments.\n",
       "        try {\n",
       "            var callback = fig['handle_' + msg_type];\n",
       "        } catch (e) {\n",
       "            console.log(\n",
       "                \"No handler for the '\" + msg_type + \"' message type: \",\n",
       "                msg\n",
       "            );\n",
       "            return;\n",
       "        }\n",
       "\n",
       "        if (callback) {\n",
       "            try {\n",
       "                // console.log(\"Handling '\" + msg_type + \"' message: \", msg);\n",
       "                callback(fig, msg);\n",
       "            } catch (e) {\n",
       "                console.log(\n",
       "                    \"Exception inside the 'handler_\" + msg_type + \"' callback:\",\n",
       "                    e,\n",
       "                    e.stack,\n",
       "                    msg\n",
       "                );\n",
       "            }\n",
       "        }\n",
       "    };\n",
       "};\n",
       "\n",
       "// from http://stackoverflow.com/questions/1114465/getting-mouse-location-in-canvas\n",
       "mpl.findpos = function (e) {\n",
       "    //this section is from http://www.quirksmode.org/js/events_properties.html\n",
       "    var targ;\n",
       "    if (!e) {\n",
       "        e = window.event;\n",
       "    }\n",
       "    if (e.target) {\n",
       "        targ = e.target;\n",
       "    } else if (e.srcElement) {\n",
       "        targ = e.srcElement;\n",
       "    }\n",
       "    if (targ.nodeType === 3) {\n",
       "        // defeat Safari bug\n",
       "        targ = targ.parentNode;\n",
       "    }\n",
       "\n",
       "    // pageX,Y are the mouse positions relative to the document\n",
       "    var boundingRect = targ.getBoundingClientRect();\n",
       "    var x = e.pageX - (boundingRect.left + document.body.scrollLeft);\n",
       "    var y = e.pageY - (boundingRect.top + document.body.scrollTop);\n",
       "\n",
       "    return { x: x, y: y };\n",
       "};\n",
       "\n",
       "/*\n",
       " * return a copy of an object with only non-object keys\n",
       " * we need this to avoid circular references\n",
       " * http://stackoverflow.com/a/24161582/3208463\n",
       " */\n",
       "function simpleKeys(original) {\n",
       "    return Object.keys(original).reduce(function (obj, key) {\n",
       "        if (typeof original[key] !== 'object') {\n",
       "            obj[key] = original[key];\n",
       "        }\n",
       "        return obj;\n",
       "    }, {});\n",
       "}\n",
       "\n",
       "mpl.figure.prototype.mouse_event = function (event, name) {\n",
       "    var canvas_pos = mpl.findpos(event);\n",
       "\n",
       "    if (name === 'button_press') {\n",
       "        this.canvas.focus();\n",
       "        this.canvas_div.focus();\n",
       "    }\n",
       "\n",
       "    var x = canvas_pos.x * this.ratio;\n",
       "    var y = canvas_pos.y * this.ratio;\n",
       "\n",
       "    this.send_message(name, {\n",
       "        x: x,\n",
       "        y: y,\n",
       "        button: event.button,\n",
       "        step: event.step,\n",
       "        guiEvent: simpleKeys(event),\n",
       "    });\n",
       "\n",
       "    /* This prevents the web browser from automatically changing to\n",
       "     * the text insertion cursor when the button is pressed.  We want\n",
       "     * to control all of the cursor setting manually through the\n",
       "     * 'cursor' event from matplotlib */\n",
       "    event.preventDefault();\n",
       "    return false;\n",
       "};\n",
       "\n",
       "mpl.figure.prototype._key_event_extra = function (_event, _name) {\n",
       "    // Handle any extra behaviour associated with a key event\n",
       "};\n",
       "\n",
       "mpl.figure.prototype.key_event = function (event, name) {\n",
       "    // Prevent repeat events\n",
       "    if (name === 'key_press') {\n",
       "        if (event.which === this._key) {\n",
       "            return;\n",
       "        } else {\n",
       "            this._key = event.which;\n",
       "        }\n",
       "    }\n",
       "    if (name === 'key_release') {\n",
       "        this._key = null;\n",
       "    }\n",
       "\n",
       "    var value = '';\n",
       "    if (event.ctrlKey && event.which !== 17) {\n",
       "        value += 'ctrl+';\n",
       "    }\n",
       "    if (event.altKey && event.which !== 18) {\n",
       "        value += 'alt+';\n",
       "    }\n",
       "    if (event.shiftKey && event.which !== 16) {\n",
       "        value += 'shift+';\n",
       "    }\n",
       "\n",
       "    value += 'k';\n",
       "    value += event.which.toString();\n",
       "\n",
       "    this._key_event_extra(event, name);\n",
       "\n",
       "    this.send_message(name, { key: value, guiEvent: simpleKeys(event) });\n",
       "    return false;\n",
       "};\n",
       "\n",
       "mpl.figure.prototype.toolbar_button_onclick = function (name) {\n",
       "    if (name === 'download') {\n",
       "        this.handle_save(this, null);\n",
       "    } else {\n",
       "        this.send_message('toolbar_button', { name: name });\n",
       "    }\n",
       "};\n",
       "\n",
       "mpl.figure.prototype.toolbar_button_onmouseover = function (tooltip) {\n",
       "    this.message.textContent = tooltip;\n",
       "};\n",
       "mpl.toolbar_items = [[\"Home\", \"Reset original view\", \"fa fa-home icon-home\", \"home\"], [\"Back\", \"Back to previous view\", \"fa fa-arrow-left icon-arrow-left\", \"back\"], [\"Forward\", \"Forward to next view\", \"fa fa-arrow-right icon-arrow-right\", \"forward\"], [\"\", \"\", \"\", \"\"], [\"Pan\", \"Left button pans, Right button zooms\\nx/y fixes axis, CTRL fixes aspect\", \"fa fa-arrows icon-move\", \"pan\"], [\"Zoom\", \"Zoom to rectangle\\nx/y fixes axis, CTRL fixes aspect\", \"fa fa-square-o icon-check-empty\", \"zoom\"], [\"\", \"\", \"\", \"\"], [\"Download\", \"Download plot\", \"fa fa-floppy-o icon-save\", \"download\"]];\n",
       "\n",
       "mpl.extensions = [\"eps\", \"jpeg\", \"pdf\", \"png\", \"ps\", \"raw\", \"svg\", \"tif\"];\n",
       "\n",
       "mpl.default_extension = \"png\";/* global mpl */\n",
       "\n",
       "var comm_websocket_adapter = function (comm) {\n",
       "    // Create a \"websocket\"-like object which calls the given IPython comm\n",
       "    // object with the appropriate methods. Currently this is a non binary\n",
       "    // socket, so there is still some room for performance tuning.\n",
       "    var ws = {};\n",
       "\n",
       "    ws.close = function () {\n",
       "        comm.close();\n",
       "    };\n",
       "    ws.send = function (m) {\n",
       "        //console.log('sending', m);\n",
       "        comm.send(m);\n",
       "    };\n",
       "    // Register the callback with on_msg.\n",
       "    comm.on_msg(function (msg) {\n",
       "        //console.log('receiving', msg['content']['data'], msg);\n",
       "        // Pass the mpl event to the overridden (by mpl) onmessage function.\n",
       "        ws.onmessage(msg['content']['data']);\n",
       "    });\n",
       "    return ws;\n",
       "};\n",
       "\n",
       "mpl.mpl_figure_comm = function (comm, msg) {\n",
       "    // This is the function which gets called when the mpl process\n",
       "    // starts-up an IPython Comm through the \"matplotlib\" channel.\n",
       "\n",
       "    var id = msg.content.data.id;\n",
       "    // Get hold of the div created by the display call when the Comm\n",
       "    // socket was opened in Python.\n",
       "    var element = document.getElementById(id);\n",
       "    var ws_proxy = comm_websocket_adapter(comm);\n",
       "\n",
       "    function ondownload(figure, _format) {\n",
       "        window.open(figure.canvas.toDataURL());\n",
       "    }\n",
       "\n",
       "    var fig = new mpl.figure(id, ws_proxy, ondownload, element);\n",
       "\n",
       "    // Call onopen now - mpl needs it, as it is assuming we've passed it a real\n",
       "    // web socket which is closed, not our websocket->open comm proxy.\n",
       "    ws_proxy.onopen();\n",
       "\n",
       "    fig.parent_element = element;\n",
       "    fig.cell_info = mpl.find_output_cell(\"<div id='\" + id + \"'></div>\");\n",
       "    if (!fig.cell_info) {\n",
       "        console.error('Failed to find cell for figure', id, fig);\n",
       "        return;\n",
       "    }\n",
       "    fig.cell_info[0].output_area.element.one(\n",
       "        'cleared',\n",
       "        { fig: fig },\n",
       "        fig._remove_fig_handler\n",
       "    );\n",
       "};\n",
       "\n",
       "mpl.figure.prototype.handle_close = function (fig, msg) {\n",
       "    var width = fig.canvas.width / fig.ratio;\n",
       "    fig.cell_info[0].output_area.element.off(\n",
       "        'cleared',\n",
       "        fig._remove_fig_handler\n",
       "    );\n",
       "\n",
       "    // Update the output cell to use the data from the current canvas.\n",
       "    fig.push_to_output();\n",
       "    var dataURL = fig.canvas.toDataURL();\n",
       "    // Re-enable the keyboard manager in IPython - without this line, in FF,\n",
       "    // the notebook keyboard shortcuts fail.\n",
       "    IPython.keyboard_manager.enable();\n",
       "    fig.parent_element.innerHTML =\n",
       "        '<img src=\"' + dataURL + '\" width=\"' + width + '\">';\n",
       "    fig.close_ws(fig, msg);\n",
       "};\n",
       "\n",
       "mpl.figure.prototype.close_ws = function (fig, msg) {\n",
       "    fig.send_message('closing', msg);\n",
       "    // fig.ws.close()\n",
       "};\n",
       "\n",
       "mpl.figure.prototype.push_to_output = function (_remove_interactive) {\n",
       "    // Turn the data on the canvas into data in the output cell.\n",
       "    var width = this.canvas.width / this.ratio;\n",
       "    var dataURL = this.canvas.toDataURL();\n",
       "    this.cell_info[1]['text/html'] =\n",
       "        '<img src=\"' + dataURL + '\" width=\"' + width + '\">';\n",
       "};\n",
       "\n",
       "mpl.figure.prototype.updated_canvas_event = function () {\n",
       "    // Tell IPython that the notebook contents must change.\n",
       "    IPython.notebook.set_dirty(true);\n",
       "    this.send_message('ack', {});\n",
       "    var fig = this;\n",
       "    // Wait a second, then push the new image to the DOM so\n",
       "    // that it is saved nicely (might be nice to debounce this).\n",
       "    setTimeout(function () {\n",
       "        fig.push_to_output();\n",
       "    }, 1000);\n",
       "};\n",
       "\n",
       "mpl.figure.prototype._init_toolbar = function () {\n",
       "    var fig = this;\n",
       "\n",
       "    var toolbar = document.createElement('div');\n",
       "    toolbar.classList = 'btn-toolbar';\n",
       "    this.root.appendChild(toolbar);\n",
       "\n",
       "    function on_click_closure(name) {\n",
       "        return function (_event) {\n",
       "            return fig.toolbar_button_onclick(name);\n",
       "        };\n",
       "    }\n",
       "\n",
       "    function on_mouseover_closure(tooltip) {\n",
       "        return function (event) {\n",
       "            if (!event.currentTarget.disabled) {\n",
       "                return fig.toolbar_button_onmouseover(tooltip);\n",
       "            }\n",
       "        };\n",
       "    }\n",
       "\n",
       "    fig.buttons = {};\n",
       "    var buttonGroup = document.createElement('div');\n",
       "    buttonGroup.classList = 'btn-group';\n",
       "    var button;\n",
       "    for (var toolbar_ind in mpl.toolbar_items) {\n",
       "        var name = mpl.toolbar_items[toolbar_ind][0];\n",
       "        var tooltip = mpl.toolbar_items[toolbar_ind][1];\n",
       "        var image = mpl.toolbar_items[toolbar_ind][2];\n",
       "        var method_name = mpl.toolbar_items[toolbar_ind][3];\n",
       "\n",
       "        if (!name) {\n",
       "            /* Instead of a spacer, we start a new button group. */\n",
       "            if (buttonGroup.hasChildNodes()) {\n",
       "                toolbar.appendChild(buttonGroup);\n",
       "            }\n",
       "            buttonGroup = document.createElement('div');\n",
       "            buttonGroup.classList = 'btn-group';\n",
       "            continue;\n",
       "        }\n",
       "\n",
       "        button = fig.buttons[name] = document.createElement('button');\n",
       "        button.classList = 'btn btn-default';\n",
       "        button.href = '#';\n",
       "        button.title = name;\n",
       "        button.innerHTML = '<i class=\"fa ' + image + ' fa-lg\"></i>';\n",
       "        button.addEventListener('click', on_click_closure(method_name));\n",
       "        button.addEventListener('mouseover', on_mouseover_closure(tooltip));\n",
       "        buttonGroup.appendChild(button);\n",
       "    }\n",
       "\n",
       "    if (buttonGroup.hasChildNodes()) {\n",
       "        toolbar.appendChild(buttonGroup);\n",
       "    }\n",
       "\n",
       "    // Add the status bar.\n",
       "    var status_bar = document.createElement('span');\n",
       "    status_bar.classList = 'mpl-message pull-right';\n",
       "    toolbar.appendChild(status_bar);\n",
       "    this.message = status_bar;\n",
       "\n",
       "    // Add the close button to the window.\n",
       "    var buttongrp = document.createElement('div');\n",
       "    buttongrp.classList = 'btn-group inline pull-right';\n",
       "    button = document.createElement('button');\n",
       "    button.classList = 'btn btn-mini btn-primary';\n",
       "    button.href = '#';\n",
       "    button.title = 'Stop Interaction';\n",
       "    button.innerHTML = '<i class=\"fa fa-power-off icon-remove icon-large\"></i>';\n",
       "    button.addEventListener('click', function (_evt) {\n",
       "        fig.handle_close(fig, {});\n",
       "    });\n",
       "    button.addEventListener(\n",
       "        'mouseover',\n",
       "        on_mouseover_closure('Stop Interaction')\n",
       "    );\n",
       "    buttongrp.appendChild(button);\n",
       "    var titlebar = this.root.querySelector('.ui-dialog-titlebar');\n",
       "    titlebar.insertBefore(buttongrp, titlebar.firstChild);\n",
       "};\n",
       "\n",
       "mpl.figure.prototype._remove_fig_handler = function (event) {\n",
       "    var fig = event.data.fig;\n",
       "    fig.close_ws(fig, {});\n",
       "};\n",
       "\n",
       "mpl.figure.prototype._root_extra_style = function (el) {\n",
       "    el.style.boxSizing = 'content-box'; // override notebook setting of border-box.\n",
       "};\n",
       "\n",
       "mpl.figure.prototype._canvas_extra_style = function (el) {\n",
       "    // this is important to make the div 'focusable\n",
       "    el.setAttribute('tabindex', 0);\n",
       "    // reach out to IPython and tell the keyboard manager to turn it's self\n",
       "    // off when our div gets focus\n",
       "\n",
       "    // location in version 3\n",
       "    if (IPython.notebook.keyboard_manager) {\n",
       "        IPython.notebook.keyboard_manager.register_events(el);\n",
       "    } else {\n",
       "        // location in version 2\n",
       "        IPython.keyboard_manager.register_events(el);\n",
       "    }\n",
       "};\n",
       "\n",
       "mpl.figure.prototype._key_event_extra = function (event, _name) {\n",
       "    var manager = IPython.notebook.keyboard_manager;\n",
       "    if (!manager) {\n",
       "        manager = IPython.keyboard_manager;\n",
       "    }\n",
       "\n",
       "    // Check for shift+enter\n",
       "    if (event.shiftKey && event.which === 13) {\n",
       "        this.canvas_div.blur();\n",
       "        // select the cell after this one\n",
       "        var index = IPython.notebook.find_cell_index(this.cell_info[0]);\n",
       "        IPython.notebook.select(index + 1);\n",
       "    }\n",
       "};\n",
       "\n",
       "mpl.figure.prototype.handle_save = function (fig, _msg) {\n",
       "    fig.ondownload(fig, null);\n",
       "};\n",
       "\n",
       "mpl.find_output_cell = function (html_output) {\n",
       "    // Return the cell and output element which can be found *uniquely* in the notebook.\n",
       "    // Note - this is a bit hacky, but it is done because the \"notebook_saving.Notebook\"\n",
       "    // IPython event is triggered only after the cells have been serialised, which for\n",
       "    // our purposes (turning an active figure into a static one), is too late.\n",
       "    var cells = IPython.notebook.get_cells();\n",
       "    var ncells = cells.length;\n",
       "    for (var i = 0; i < ncells; i++) {\n",
       "        var cell = cells[i];\n",
       "        if (cell.cell_type === 'code') {\n",
       "            for (var j = 0; j < cell.output_area.outputs.length; j++) {\n",
       "                var data = cell.output_area.outputs[j];\n",
       "                if (data.data) {\n",
       "                    // IPython >= 3 moved mimebundle to data attribute of output\n",
       "                    data = data.data;\n",
       "                }\n",
       "                if (data['text/html'] === html_output) {\n",
       "                    return [cell, data, j];\n",
       "                }\n",
       "            }\n",
       "        }\n",
       "    }\n",
       "};\n",
       "\n",
       "// Register the function which deals with the matplotlib target/channel.\n",
       "// The kernel may be null if the page has been refreshed.\n",
       "if (IPython.notebook.kernel !== null) {\n",
       "    IPython.notebook.kernel.comm_manager.register_target(\n",
       "        'matplotlib',\n",
       "        mpl.mpl_figure_comm\n",
       "    );\n",
       "}\n"
      ],
      "text/plain": [
       "<IPython.core.display.Javascript object>"
      ]
     },
     "metadata": {},
     "output_type": "display_data"
    },
    {
     "data": {
      "text/html": [
       "<div id='3499fd08-fa30-45b8-94b2-aa795a26e364'></div>"
      ],
      "text/plain": [
       "<IPython.core.display.HTML object>"
      ]
     },
     "metadata": {},
     "output_type": "display_data"
    }
   ],
   "source": [
    "# interactive 3D visualisation with seaborn\n",
    "import matplotlib.pyplot as plt\n",
    "import pandas as pd\n",
    "import seaborn as sns\n",
    "from mpl_toolkits.mplot3d import Axes3D\n",
    "\n",
    "sns.set(style = \"darkgrid\")\n",
    "\n",
    "fig = plt.figure()\n",
    "ax = fig.add_subplot(111, projection = '3d')\n",
    "\n",
    "xs = embedding3d[:, 0]\n",
    "ys = embedding3d[:, 1] \n",
    "zs = embedding3d[:, 2]\n",
    "\n",
    "ax.scatter(xs, ys, zs)\n",
    "\n",
    "plt.show()"
   ]
  },
  {
   "cell_type": "markdown",
   "metadata": {},
   "source": [
    "# Decision trees"
   ]
  },
  {
   "cell_type": "code",
   "execution_count": null,
   "metadata": {},
   "outputs": [],
   "source": [
    "from sklearn import tree\n",
    "target_class = \"Already_used_DSS\"\n",
    "X = df_noNaN[[_ for _ in list(ohe_df.columns) if _ not in target_class]]\n",
    "Y = df_noNaN[target_class]\n",
    "clf = tree.DecisionTreeClassifier()\n",
    "clf = clf.fit(X, Y)"
   ]
  },
  {
   "cell_type": "code",
   "execution_count": null,
   "metadata": {},
   "outputs": [],
   "source": [
    "tree.plot_tree(clf, feature_names=list(X.columns)) "
   ]
  },
  {
   "cell_type": "code",
   "execution_count": null,
   "metadata": {},
   "outputs": [],
   "source": [
    "from sklearn.tree import DecisionTreeClassifier\n",
    "from sklearn.tree import export_text\n",
    "decision_tree = DecisionTreeClassifier(random_state=0, max_depth=2)\n",
    "decision_tree = decision_tree.fit(X, Y)\n",
    "r = export_text(decision_tree, feature_names=list(X.columns))\n",
    "print(r)"
   ]
  },
  {
   "cell_type": "code",
   "execution_count": null,
   "metadata": {},
   "outputs": [],
   "source": [
    "\"\"\"Ne morem importat, nek conflict\n",
    "import graphviz \n",
    "dot_data = tree.export_graphviz(clf, out_file=None) \n",
    "graph = graphviz.Source(dot_data) \n",
    "graph.render(\"IPM\") \n",
    "\"\"\""
   ]
  },
  {
   "cell_type": "markdown",
   "metadata": {
    "id": "oTKut8pCWRyH"
   },
   "source": [
    "# create dictionary with value mapping"
   ]
  },
  {
   "cell_type": "code",
   "execution_count": null,
   "metadata": {
    "colab": {
     "base_uri": "https://localhost:8080/",
     "height": 541
    },
    "executionInfo": {
     "elapsed": 655,
     "status": "ok",
     "timestamp": 1618571157268,
     "user": {
      "displayName": "Martin Marzidovsek",
      "photoUrl": "https://lh3.googleusercontent.com/a-/AOh14GhXbFh589XGiI6oB78rtIMBiCa5tel2SF_97PQ1fA=s64",
      "userId": "00159942044512018365"
     },
     "user_tz": -120
    },
    "id": "j0ai7zLivqOh",
    "outputId": "f9cc3738-4f67-45fc-ef15-808fa208fe35"
   },
   "outputs": [],
   "source": [
    "df[\"test\"] = df[\"Age_Cat\"].replace({4:\"več kot 50\", 3: \"test\", 1 : \"sdfsdf\", 2 : \"wsf\"})\n",
    "df[\"Age_Cat\"] = df[\"Age_Cat\"].replace({4:\"več kot 50\", 3: \"test\", 1 : \"sdfsdf\", 2 : \"wsf\"})"
   ]
  }
 ],
 "metadata": {
  "colab": {
   "collapsed_sections": [],
   "name": "IPMdecisions-DataExploration-1_1.ipynb",
   "provenance": [
    {
     "file_id": "1AZYYsUi-mV8kyVRJ4ynOkjOxLpfa2FxM",
     "timestamp": 1617786731184
    }
   ]
  },
  "kernelspec": {
   "display_name": "Python 3",
   "language": "python",
   "name": "python3"
  },
  "language_info": {
   "codemirror_mode": {
    "name": "ipython",
    "version": 3
   },
   "file_extension": ".py",
   "mimetype": "text/x-python",
   "name": "python",
   "nbconvert_exporter": "python",
   "pygments_lexer": "ipython3",
   "version": "3.9.1"
  }
 },
 "nbformat": 4,
 "nbformat_minor": 4
}
