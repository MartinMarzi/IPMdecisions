{
  "nbformat": 4,
  "nbformat_minor": 0,
  "metadata": {
    "colab": {
      "name": "IPMdecisions-DataExploration_colab-1_4_Q2.ipynb",
      "provenance": [],
      "collapsed_sections": [],
      "include_colab_link": true
    },
    "kernelspec": {
      "display_name": "Python 3",
      "language": "python",
      "name": "python3"
    },
    "language_info": {
      "codemirror_mode": {
        "name": "ipython",
        "version": 3
      },
      "file_extension": ".py",
      "mimetype": "text/x-python",
      "name": "python",
      "nbconvert_exporter": "python",
      "pygments_lexer": "ipython3",
      "version": "3.9.1"
    }
  },
  "cells": [
    {
      "cell_type": "markdown",
      "metadata": {
        "id": "view-in-github",
        "colab_type": "text"
      },
      "source": [
        "<a href=\"https://colab.research.google.com/github/MartinMarzi/IPMdecisions/blob/main/IPMdecisions_DataExploration_colab_1_4_Q2.ipynb\" target=\"_parent\"><img src=\"https://colab.research.google.com/assets/colab-badge.svg\" alt=\"Open In Colab\"/></a>"
      ]
    },
    {
      "cell_type": "code",
      "metadata": {
        "id": "QIXLlgjHmZNz"
      },
      "source": [
        "# For colab\n",
        "%pip install umap-learn\n",
        "%pip install hdbscan"
      ],
      "execution_count": null,
      "outputs": []
    },
    {
      "cell_type": "code",
      "metadata": {
        "id": "l2iXxyyhkdJ0"
      },
      "source": [
        "import numpy as np\n",
        "import pandas as pd\n",
        "from sklearn.datasets import load_digits\n",
        "from sklearn.model_selection import train_test_split\n",
        "from sklearn.preprocessing import StandardScaler\n",
        "import pandas as pd\n",
        "from pandas.api.types import CategoricalDtype\n",
        "import umap\n",
        "import hdbscan\n",
        "import sklearn.cluster as cluster\n",
        "import matplotlib.pyplot as plt\n",
        "import seaborn as sns\n",
        "import plotly.express as px"
      ],
      "execution_count": 5,
      "outputs": []
    },
    {
      "cell_type": "code",
      "metadata": {
        "id": "WtiRqHhNng-Y"
      },
      "source": [
        "#DATA_FILE = \"data/Farmers_edited data 21.12.2020_IPS_FINAL- WEKA_JM.xlsx\"\n",
        "DATA_FILE = \"https://kt-cloud.ijs.si/index.php/s/zyLj9jkFQFqJfoQ/download\""
      ],
      "execution_count": 125,
      "outputs": []
    },
    {
      "cell_type": "code",
      "metadata": {
        "id": "27PBpsaZn6ek"
      },
      "source": [
        "# Create dataframe\n",
        "df = pd.read_excel(DATA_FILE, header=0, engine='openpyxl', na_values=['?'], usecols=range(81), \n",
        "                   skiprows= range(150,155))"
      ],
      "execution_count": 126,
      "outputs": []
    },
    {
      "cell_type": "code",
      "metadata": {
        "id": "LvxmcuQwr6Bn",
        "colab": {
          "base_uri": "https://localhost:8080/"
        },
        "outputId": "ed643925-f9cd-4876-b4ae-6622ce60db35"
      },
      "source": [
        "# Show data size\n",
        "df.shape"
      ],
      "execution_count": 127,
      "outputs": [
        {
          "output_type": "execute_result",
          "data": {
            "text/plain": [
              "(149, 81)"
            ]
          },
          "metadata": {
            "tags": []
          },
          "execution_count": 127
        }
      ]
    },
    {
      "cell_type": "code",
      "metadata": {
        "id": "W3Fgq8Xwl2Nq"
      },
      "source": [
        "pd.set_option(\"max_columns\", None)\n",
        "pd.set_option(\"max_rows\", 30)"
      ],
      "execution_count": 128,
      "outputs": []
    },
    {
      "cell_type": "code",
      "metadata": {
        "id": "b0PgDIOel2Nq",
        "colab": {
          "base_uri": "https://localhost:8080/",
          "height": 224
        },
        "outputId": "a93f2864-9431-4843-d7c2-46752d8e0944"
      },
      "source": [
        "df.head()"
      ],
      "execution_count": 129,
      "outputs": [
        {
          "output_type": "execute_result",
          "data": {
            "text/html": [
              "<div>\n",
              "<style scoped>\n",
              "    .dataframe tbody tr th:only-of-type {\n",
              "        vertical-align: middle;\n",
              "    }\n",
              "\n",
              "    .dataframe tbody tr th {\n",
              "        vertical-align: top;\n",
              "    }\n",
              "\n",
              "    .dataframe thead th {\n",
              "        text-align: right;\n",
              "    }\n",
              "</style>\n",
              "<table border=\"1\" class=\"dataframe\">\n",
              "  <thead>\n",
              "    <tr style=\"text-align: right;\">\n",
              "      <th></th>\n",
              "      <th>Region</th>\n",
              "      <th>Country</th>\n",
              "      <th>Subject</th>\n",
              "      <th>Age_Cat</th>\n",
              "      <th>Gender_1male</th>\n",
              "      <th>Degree_Cat</th>\n",
              "      <th>Farm_size_Cat</th>\n",
              "      <th>ProductionUse_selling</th>\n",
              "      <th>Farm_type_Conventional</th>\n",
              "      <th>Farm_type_Intergrated</th>\n",
              "      <th>Farm_type_Organic</th>\n",
              "      <th>Farm_type_Biodynamic</th>\n",
              "      <th>Income_Cat</th>\n",
              "      <th>Proportion_of_income</th>\n",
              "      <th>Production_level_1to7</th>\n",
              "      <th>Production_level_1to3</th>\n",
              "      <th>Crop_Group_Cat</th>\n",
              "      <th>Legislative_requirements</th>\n",
              "      <th>Own_phone</th>\n",
              "      <th>Years_own_phone</th>\n",
              "      <th>Use_DSS_App</th>\n",
              "      <th>Agricultural_app_use_Cat</th>\n",
              "      <th>Computer_at_home</th>\n",
              "      <th>Speed_internet_Cat</th>\n",
              "      <th>Already_used_DSS</th>\n",
              "      <th>How_do_you_access_DSS_Cat</th>\n",
              "      <th>Potencial_user_of_platform</th>\n",
              "      <th>Prefered_access_Phone</th>\n",
              "      <th>Prefered_access_PC</th>\n",
              "      <th>Prefered_access_Advisor</th>\n",
              "      <th>Willing_to_try_new_products_Cat</th>\n",
              "      <th>Price_important_factor</th>\n",
              "      <th>DSS_are_more_suited_for_ShortTermDecision_1</th>\n",
              "      <th>DSS_are_more_suited_for_LongTermDecision_2</th>\n",
              "      <th>DSS_for_ShortLongTermBothDecision_Cat_NO</th>\n",
              "      <th>Prefered_type_Web_1</th>\n",
              "      <th>Prefered_type_Software_2</th>\n",
              "      <th>Prefered_type_Web_Software_Both_Cat_NO</th>\n",
              "      <th>Importance_of_easy_to_use_1to7</th>\n",
              "      <th>Importance_of_easy_to_use_1to2</th>\n",
              "      <th>Importance_of_easy_to_use_1to3</th>\n",
              "      <th>Importance_of_efficient_1to7</th>\n",
              "      <th>Importance_of_efficient_1to2</th>\n",
              "      <th>Importance_of_efficient_1to3</th>\n",
              "      <th>Importance_low_price_1to7</th>\n",
              "      <th>Importance_low_price_1to2</th>\n",
              "      <th>Importance_low_price_1to3</th>\n",
              "      <th>Importance_polyvalence_1to7</th>\n",
              "      <th>Importance_polyvalence_1to2</th>\n",
              "      <th>Importance_polyvalence_1to3</th>\n",
              "      <th>Enjoy_using_new_techs_1to7</th>\n",
              "      <th>Enjoy_using_new_techs_1to2</th>\n",
              "      <th>Enjoy_using_new_techs_1to3</th>\n",
              "      <th>Appreciate_change_1to7</th>\n",
              "      <th>Appreciate_change_1to2</th>\n",
              "      <th>Appreciate_change_1to3</th>\n",
              "      <th>Trust_in_DSS_1to7</th>\n",
              "      <th>Trust_in_DSS_1to2</th>\n",
              "      <th>Trust_in_DSS_1to3</th>\n",
              "      <th>Trust_in_colleague_advice_1to7</th>\n",
              "      <th>Trust_in_colleague_advice_1to2</th>\n",
              "      <th>Trust_in_colleague_advice_1to3</th>\n",
              "      <th>Trust_advice_friend_1to7</th>\n",
              "      <th>Trust_advice_friend_1to2</th>\n",
              "      <th>Trust_advice_friend_1to3</th>\n",
              "      <th>Need_IT_teaching_Cat</th>\n",
              "      <th>DSS_can_improve_your_productivity_Cat</th>\n",
              "      <th>CL_Output_preference_Graphical_1</th>\n",
              "      <th>CL_Output_preference_Textual_2</th>\n",
              "      <th>CL_Output_preference_Both_3</th>\n",
              "      <th>Output_preference_Cat_NO</th>\n",
              "      <th>Share_DSS_exp_with_colleague_Cat</th>\n",
              "      <th>Use_DSS_from_trusted_sources_Always</th>\n",
              "      <th>WTP_for_DSS_Cat</th>\n",
              "      <th>DSS_must_be_tailored_for_your_farm_Cat</th>\n",
              "      <th>Use_same_DSS_than_advisor_Cat</th>\n",
              "      <th>Age_of_DSS_user_at_the_farm_1</th>\n",
              "      <th>Age_of_DSS_user_at_the_farm_2</th>\n",
              "      <th>Age_of_DSS_user_at_the_farm_3</th>\n",
              "      <th>Marketing_info_about_DSS_Cat</th>\n",
              "      <th>Manufacturer_demo_of_DSS_Cat</th>\n",
              "    </tr>\n",
              "  </thead>\n",
              "  <tbody>\n",
              "    <tr>\n",
              "      <th>0</th>\n",
              "      <td>south_EU</td>\n",
              "      <td>Italy</td>\n",
              "      <td>ITALY1</td>\n",
              "      <td>4</td>\n",
              "      <td>1.0</td>\n",
              "      <td>1.0</td>\n",
              "      <td>5.0</td>\n",
              "      <td>1.0</td>\n",
              "      <td>1.0</td>\n",
              "      <td>1.0</td>\n",
              "      <td>0.0</td>\n",
              "      <td>0.0</td>\n",
              "      <td>NaN</td>\n",
              "      <td>0.0</td>\n",
              "      <td>7.0</td>\n",
              "      <td>3.0</td>\n",
              "      <td>1.0</td>\n",
              "      <td>1.0</td>\n",
              "      <td>1</td>\n",
              "      <td>0</td>\n",
              "      <td>1.0</td>\n",
              "      <td>2.0</td>\n",
              "      <td>1</td>\n",
              "      <td>3</td>\n",
              "      <td>0.0</td>\n",
              "      <td>1.0</td>\n",
              "      <td>0.0</td>\n",
              "      <td>NaN</td>\n",
              "      <td>NaN</td>\n",
              "      <td>NaN</td>\n",
              "      <td>2.0</td>\n",
              "      <td>0.0</td>\n",
              "      <td>NaN</td>\n",
              "      <td>NaN</td>\n",
              "      <td>NaN</td>\n",
              "      <td>NaN</td>\n",
              "      <td>NaN</td>\n",
              "      <td>NaN</td>\n",
              "      <td>NaN</td>\n",
              "      <td>NaN</td>\n",
              "      <td>NaN</td>\n",
              "      <td>NaN</td>\n",
              "      <td>NaN</td>\n",
              "      <td>NaN</td>\n",
              "      <td>NaN</td>\n",
              "      <td>NaN</td>\n",
              "      <td>NaN</td>\n",
              "      <td>NaN</td>\n",
              "      <td>NaN</td>\n",
              "      <td>NaN</td>\n",
              "      <td>NaN</td>\n",
              "      <td>NaN</td>\n",
              "      <td>NaN</td>\n",
              "      <td>7.0</td>\n",
              "      <td>2.0</td>\n",
              "      <td>3.0</td>\n",
              "      <td>1.0</td>\n",
              "      <td>1.0</td>\n",
              "      <td>1.0</td>\n",
              "      <td>2.0</td>\n",
              "      <td>1.0</td>\n",
              "      <td>1.0</td>\n",
              "      <td>2.0</td>\n",
              "      <td>1.0</td>\n",
              "      <td>1.0</td>\n",
              "      <td>1.0</td>\n",
              "      <td>1.0</td>\n",
              "      <td>NaN</td>\n",
              "      <td>NaN</td>\n",
              "      <td>NaN</td>\n",
              "      <td>NaN</td>\n",
              "      <td>2.0</td>\n",
              "      <td>NaN</td>\n",
              "      <td>1.0</td>\n",
              "      <td>1.0</td>\n",
              "      <td>NaN</td>\n",
              "      <td>NaN</td>\n",
              "      <td>NaN</td>\n",
              "      <td>NaN</td>\n",
              "      <td>1.0</td>\n",
              "      <td>1.0</td>\n",
              "    </tr>\n",
              "    <tr>\n",
              "      <th>1</th>\n",
              "      <td>south_EU</td>\n",
              "      <td>Italy</td>\n",
              "      <td>ITALY2</td>\n",
              "      <td>4</td>\n",
              "      <td>1.0</td>\n",
              "      <td>2.0</td>\n",
              "      <td>4.0</td>\n",
              "      <td>1.0</td>\n",
              "      <td>1.0</td>\n",
              "      <td>0.0</td>\n",
              "      <td>0.0</td>\n",
              "      <td>0.0</td>\n",
              "      <td>2.0</td>\n",
              "      <td>0.0</td>\n",
              "      <td>4.0</td>\n",
              "      <td>2.0</td>\n",
              "      <td>2.0</td>\n",
              "      <td>NaN</td>\n",
              "      <td>1</td>\n",
              "      <td>0</td>\n",
              "      <td>NaN</td>\n",
              "      <td>NaN</td>\n",
              "      <td>1</td>\n",
              "      <td>2</td>\n",
              "      <td>NaN</td>\n",
              "      <td>NaN</td>\n",
              "      <td>NaN</td>\n",
              "      <td>NaN</td>\n",
              "      <td>NaN</td>\n",
              "      <td>NaN</td>\n",
              "      <td>NaN</td>\n",
              "      <td>NaN</td>\n",
              "      <td>NaN</td>\n",
              "      <td>NaN</td>\n",
              "      <td>NaN</td>\n",
              "      <td>NaN</td>\n",
              "      <td>NaN</td>\n",
              "      <td>NaN</td>\n",
              "      <td>NaN</td>\n",
              "      <td>NaN</td>\n",
              "      <td>NaN</td>\n",
              "      <td>NaN</td>\n",
              "      <td>NaN</td>\n",
              "      <td>NaN</td>\n",
              "      <td>NaN</td>\n",
              "      <td>NaN</td>\n",
              "      <td>NaN</td>\n",
              "      <td>NaN</td>\n",
              "      <td>NaN</td>\n",
              "      <td>NaN</td>\n",
              "      <td>7.0</td>\n",
              "      <td>2.0</td>\n",
              "      <td>3.0</td>\n",
              "      <td>7.0</td>\n",
              "      <td>2.0</td>\n",
              "      <td>3.0</td>\n",
              "      <td>6.0</td>\n",
              "      <td>2.0</td>\n",
              "      <td>2.0</td>\n",
              "      <td>2.0</td>\n",
              "      <td>1.0</td>\n",
              "      <td>1.0</td>\n",
              "      <td>4.0</td>\n",
              "      <td>1.0</td>\n",
              "      <td>1.0</td>\n",
              "      <td>2.0</td>\n",
              "      <td>3.0</td>\n",
              "      <td>NaN</td>\n",
              "      <td>NaN</td>\n",
              "      <td>NaN</td>\n",
              "      <td>NaN</td>\n",
              "      <td>2.0</td>\n",
              "      <td>NaN</td>\n",
              "      <td>1.0</td>\n",
              "      <td>2.0</td>\n",
              "      <td>NaN</td>\n",
              "      <td>0.0</td>\n",
              "      <td>1.0</td>\n",
              "      <td>0.0</td>\n",
              "      <td>2.0</td>\n",
              "      <td>2.0</td>\n",
              "    </tr>\n",
              "    <tr>\n",
              "      <th>2</th>\n",
              "      <td>south_EU</td>\n",
              "      <td>Italy</td>\n",
              "      <td>ITALY3</td>\n",
              "      <td>2</td>\n",
              "      <td>1.0</td>\n",
              "      <td>2.0</td>\n",
              "      <td>5.0</td>\n",
              "      <td>1.0</td>\n",
              "      <td>1.0</td>\n",
              "      <td>0.0</td>\n",
              "      <td>0.0</td>\n",
              "      <td>0.0</td>\n",
              "      <td>2.0</td>\n",
              "      <td>100.0</td>\n",
              "      <td>5.0</td>\n",
              "      <td>3.0</td>\n",
              "      <td>1.0</td>\n",
              "      <td>1.0</td>\n",
              "      <td>1</td>\n",
              "      <td>10</td>\n",
              "      <td>1.0</td>\n",
              "      <td>2.0</td>\n",
              "      <td>1</td>\n",
              "      <td>2</td>\n",
              "      <td>0.0</td>\n",
              "      <td>1.0</td>\n",
              "      <td>0.0</td>\n",
              "      <td>1.0</td>\n",
              "      <td>1.0</td>\n",
              "      <td>1.0</td>\n",
              "      <td>1.0</td>\n",
              "      <td>1.0</td>\n",
              "      <td>1.0</td>\n",
              "      <td>0.0</td>\n",
              "      <td>1.0</td>\n",
              "      <td>1.0</td>\n",
              "      <td>0.0</td>\n",
              "      <td>1.0</td>\n",
              "      <td>7.0</td>\n",
              "      <td>2.0</td>\n",
              "      <td>3.0</td>\n",
              "      <td>7.0</td>\n",
              "      <td>2.0</td>\n",
              "      <td>3.0</td>\n",
              "      <td>5.0</td>\n",
              "      <td>1.0</td>\n",
              "      <td>2.0</td>\n",
              "      <td>7.0</td>\n",
              "      <td>2.0</td>\n",
              "      <td>3.0</td>\n",
              "      <td>4.0</td>\n",
              "      <td>1.0</td>\n",
              "      <td>1.0</td>\n",
              "      <td>4.0</td>\n",
              "      <td>1.0</td>\n",
              "      <td>1.0</td>\n",
              "      <td>5.0</td>\n",
              "      <td>1.0</td>\n",
              "      <td>2.0</td>\n",
              "      <td>5.0</td>\n",
              "      <td>1.0</td>\n",
              "      <td>2.0</td>\n",
              "      <td>5.0</td>\n",
              "      <td>1.0</td>\n",
              "      <td>2.0</td>\n",
              "      <td>2.0</td>\n",
              "      <td>3.0</td>\n",
              "      <td>0.0</td>\n",
              "      <td>0.0</td>\n",
              "      <td>1.0</td>\n",
              "      <td>3.0</td>\n",
              "      <td>1.0</td>\n",
              "      <td>NaN</td>\n",
              "      <td>2.0</td>\n",
              "      <td>2.0</td>\n",
              "      <td>1.0</td>\n",
              "      <td>NaN</td>\n",
              "      <td>NaN</td>\n",
              "      <td>NaN</td>\n",
              "      <td>2.0</td>\n",
              "      <td>2.0</td>\n",
              "    </tr>\n",
              "    <tr>\n",
              "      <th>3</th>\n",
              "      <td>south_EU</td>\n",
              "      <td>Italy</td>\n",
              "      <td>ITALY4</td>\n",
              "      <td>2</td>\n",
              "      <td>1.0</td>\n",
              "      <td>2.0</td>\n",
              "      <td>4.0</td>\n",
              "      <td>1.0</td>\n",
              "      <td>0.0</td>\n",
              "      <td>0.0</td>\n",
              "      <td>0.0</td>\n",
              "      <td>0.0</td>\n",
              "      <td>5.0</td>\n",
              "      <td>90.0</td>\n",
              "      <td>5.0</td>\n",
              "      <td>3.0</td>\n",
              "      <td>1.0</td>\n",
              "      <td>1.0</td>\n",
              "      <td>1</td>\n",
              "      <td>10</td>\n",
              "      <td>0.0</td>\n",
              "      <td>NaN</td>\n",
              "      <td>1</td>\n",
              "      <td>2</td>\n",
              "      <td>0.0</td>\n",
              "      <td>1.0</td>\n",
              "      <td>0.0</td>\n",
              "      <td>1.0</td>\n",
              "      <td>0.0</td>\n",
              "      <td>0.0</td>\n",
              "      <td>1.0</td>\n",
              "      <td>1.0</td>\n",
              "      <td>0.0</td>\n",
              "      <td>1.0</td>\n",
              "      <td>2.0</td>\n",
              "      <td>0.0</td>\n",
              "      <td>1.0</td>\n",
              "      <td>2.0</td>\n",
              "      <td>7.0</td>\n",
              "      <td>2.0</td>\n",
              "      <td>3.0</td>\n",
              "      <td>6.0</td>\n",
              "      <td>2.0</td>\n",
              "      <td>2.0</td>\n",
              "      <td>4.0</td>\n",
              "      <td>1.0</td>\n",
              "      <td>1.0</td>\n",
              "      <td>6.0</td>\n",
              "      <td>2.0</td>\n",
              "      <td>2.0</td>\n",
              "      <td>6.0</td>\n",
              "      <td>2.0</td>\n",
              "      <td>2.0</td>\n",
              "      <td>6.0</td>\n",
              "      <td>2.0</td>\n",
              "      <td>2.0</td>\n",
              "      <td>4.0</td>\n",
              "      <td>1.0</td>\n",
              "      <td>1.0</td>\n",
              "      <td>4.0</td>\n",
              "      <td>1.0</td>\n",
              "      <td>1.0</td>\n",
              "      <td>4.0</td>\n",
              "      <td>1.0</td>\n",
              "      <td>1.0</td>\n",
              "      <td>2.0</td>\n",
              "      <td>3.0</td>\n",
              "      <td>0.0</td>\n",
              "      <td>0.0</td>\n",
              "      <td>1.0</td>\n",
              "      <td>3.0</td>\n",
              "      <td>NaN</td>\n",
              "      <td>NaN</td>\n",
              "      <td>3.0</td>\n",
              "      <td>2.0</td>\n",
              "      <td>NaN</td>\n",
              "      <td>1.0</td>\n",
              "      <td>0.0</td>\n",
              "      <td>0.0</td>\n",
              "      <td>NaN</td>\n",
              "      <td>1.0</td>\n",
              "    </tr>\n",
              "    <tr>\n",
              "      <th>4</th>\n",
              "      <td>south_EU</td>\n",
              "      <td>Italy</td>\n",
              "      <td>ITALY5</td>\n",
              "      <td>2</td>\n",
              "      <td>1.0</td>\n",
              "      <td>2.0</td>\n",
              "      <td>5.0</td>\n",
              "      <td>1.0</td>\n",
              "      <td>0.0</td>\n",
              "      <td>1.0</td>\n",
              "      <td>0.0</td>\n",
              "      <td>0.0</td>\n",
              "      <td>5.0</td>\n",
              "      <td>0.0</td>\n",
              "      <td>4.0</td>\n",
              "      <td>2.0</td>\n",
              "      <td>2.0</td>\n",
              "      <td>1.0</td>\n",
              "      <td>1</td>\n",
              "      <td>10</td>\n",
              "      <td>1.0</td>\n",
              "      <td>3.0</td>\n",
              "      <td>1</td>\n",
              "      <td>2</td>\n",
              "      <td>1.0</td>\n",
              "      <td>3.0</td>\n",
              "      <td>1.0</td>\n",
              "      <td>1.0</td>\n",
              "      <td>0.0</td>\n",
              "      <td>0.0</td>\n",
              "      <td>1.0</td>\n",
              "      <td>1.0</td>\n",
              "      <td>1.0</td>\n",
              "      <td>0.0</td>\n",
              "      <td>1.0</td>\n",
              "      <td>1.0</td>\n",
              "      <td>0.0</td>\n",
              "      <td>1.0</td>\n",
              "      <td>7.0</td>\n",
              "      <td>2.0</td>\n",
              "      <td>3.0</td>\n",
              "      <td>7.0</td>\n",
              "      <td>2.0</td>\n",
              "      <td>3.0</td>\n",
              "      <td>4.0</td>\n",
              "      <td>1.0</td>\n",
              "      <td>1.0</td>\n",
              "      <td>6.0</td>\n",
              "      <td>2.0</td>\n",
              "      <td>2.0</td>\n",
              "      <td>5.0</td>\n",
              "      <td>1.0</td>\n",
              "      <td>2.0</td>\n",
              "      <td>4.0</td>\n",
              "      <td>1.0</td>\n",
              "      <td>1.0</td>\n",
              "      <td>4.0</td>\n",
              "      <td>1.0</td>\n",
              "      <td>1.0</td>\n",
              "      <td>4.0</td>\n",
              "      <td>1.0</td>\n",
              "      <td>1.0</td>\n",
              "      <td>4.0</td>\n",
              "      <td>1.0</td>\n",
              "      <td>1.0</td>\n",
              "      <td>2.0</td>\n",
              "      <td>3.0</td>\n",
              "      <td>0.0</td>\n",
              "      <td>0.0</td>\n",
              "      <td>1.0</td>\n",
              "      <td>3.0</td>\n",
              "      <td>3.0</td>\n",
              "      <td>1.0</td>\n",
              "      <td>3.0</td>\n",
              "      <td>2.0</td>\n",
              "      <td>2.0</td>\n",
              "      <td>1.0</td>\n",
              "      <td>0.0</td>\n",
              "      <td>0.0</td>\n",
              "      <td>2.0</td>\n",
              "      <td>2.0</td>\n",
              "    </tr>\n",
              "  </tbody>\n",
              "</table>\n",
              "</div>"
            ],
            "text/plain": [
              "     Region Country Subject  Age_Cat  Gender_1male  Degree_Cat  Farm_size_Cat  \\\n",
              "0  south_EU   Italy  ITALY1        4           1.0         1.0            5.0   \n",
              "1  south_EU   Italy  ITALY2        4           1.0         2.0            4.0   \n",
              "2  south_EU   Italy  ITALY3        2           1.0         2.0            5.0   \n",
              "3  south_EU   Italy  ITALY4        2           1.0         2.0            4.0   \n",
              "4  south_EU   Italy  ITALY5        2           1.0         2.0            5.0   \n",
              "\n",
              "   ProductionUse_selling  Farm_type_Conventional  Farm_type_Intergrated  \\\n",
              "0                    1.0                     1.0                    1.0   \n",
              "1                    1.0                     1.0                    0.0   \n",
              "2                    1.0                     1.0                    0.0   \n",
              "3                    1.0                     0.0                    0.0   \n",
              "4                    1.0                     0.0                    1.0   \n",
              "\n",
              "   Farm_type_Organic  Farm_type_Biodynamic  Income_Cat  Proportion_of_income  \\\n",
              "0                0.0                   0.0         NaN                   0.0   \n",
              "1                0.0                   0.0         2.0                   0.0   \n",
              "2                0.0                   0.0         2.0                 100.0   \n",
              "3                0.0                   0.0         5.0                  90.0   \n",
              "4                0.0                   0.0         5.0                   0.0   \n",
              "\n",
              "   Production_level_1to7  Production_level_1to3  Crop_Group_Cat  \\\n",
              "0                    7.0                    3.0             1.0   \n",
              "1                    4.0                    2.0             2.0   \n",
              "2                    5.0                    3.0             1.0   \n",
              "3                    5.0                    3.0             1.0   \n",
              "4                    4.0                    2.0             2.0   \n",
              "\n",
              "   Legislative_requirements  Own_phone  Years_own_phone  Use_DSS_App  \\\n",
              "0                       1.0          1                0          1.0   \n",
              "1                       NaN          1                0          NaN   \n",
              "2                       1.0          1               10          1.0   \n",
              "3                       1.0          1               10          0.0   \n",
              "4                       1.0          1               10          1.0   \n",
              "\n",
              "   Agricultural_app_use_Cat  Computer_at_home  Speed_internet_Cat  \\\n",
              "0                       2.0                 1                   3   \n",
              "1                       NaN                 1                   2   \n",
              "2                       2.0                 1                   2   \n",
              "3                       NaN                 1                   2   \n",
              "4                       3.0                 1                   2   \n",
              "\n",
              "   Already_used_DSS  How_do_you_access_DSS_Cat  Potencial_user_of_platform  \\\n",
              "0               0.0                        1.0                         0.0   \n",
              "1               NaN                        NaN                         NaN   \n",
              "2               0.0                        1.0                         0.0   \n",
              "3               0.0                        1.0                         0.0   \n",
              "4               1.0                        3.0                         1.0   \n",
              "\n",
              "   Prefered_access_Phone  Prefered_access_PC  Prefered_access_Advisor  \\\n",
              "0                    NaN                 NaN                      NaN   \n",
              "1                    NaN                 NaN                      NaN   \n",
              "2                    1.0                 1.0                      1.0   \n",
              "3                    1.0                 0.0                      0.0   \n",
              "4                    1.0                 0.0                      0.0   \n",
              "\n",
              "   Willing_to_try_new_products_Cat  Price_important_factor  \\\n",
              "0                              2.0                     0.0   \n",
              "1                              NaN                     NaN   \n",
              "2                              1.0                     1.0   \n",
              "3                              1.0                     1.0   \n",
              "4                              1.0                     1.0   \n",
              "\n",
              "   DSS_are_more_suited_for_ShortTermDecision_1  \\\n",
              "0                                          NaN   \n",
              "1                                          NaN   \n",
              "2                                          1.0   \n",
              "3                                          0.0   \n",
              "4                                          1.0   \n",
              "\n",
              "   DSS_are_more_suited_for_LongTermDecision_2  \\\n",
              "0                                         NaN   \n",
              "1                                         NaN   \n",
              "2                                         0.0   \n",
              "3                                         1.0   \n",
              "4                                         0.0   \n",
              "\n",
              "   DSS_for_ShortLongTermBothDecision_Cat_NO  Prefered_type_Web_1  \\\n",
              "0                                       NaN                  NaN   \n",
              "1                                       NaN                  NaN   \n",
              "2                                       1.0                  1.0   \n",
              "3                                       2.0                  0.0   \n",
              "4                                       1.0                  1.0   \n",
              "\n",
              "   Prefered_type_Software_2  Prefered_type_Web_Software_Both_Cat_NO  \\\n",
              "0                       NaN                                     NaN   \n",
              "1                       NaN                                     NaN   \n",
              "2                       0.0                                     1.0   \n",
              "3                       1.0                                     2.0   \n",
              "4                       0.0                                     1.0   \n",
              "\n",
              "   Importance_of_easy_to_use_1to7  Importance_of_easy_to_use_1to2  \\\n",
              "0                             NaN                             NaN   \n",
              "1                             NaN                             NaN   \n",
              "2                             7.0                             2.0   \n",
              "3                             7.0                             2.0   \n",
              "4                             7.0                             2.0   \n",
              "\n",
              "   Importance_of_easy_to_use_1to3  Importance_of_efficient_1to7  \\\n",
              "0                             NaN                           NaN   \n",
              "1                             NaN                           NaN   \n",
              "2                             3.0                           7.0   \n",
              "3                             3.0                           6.0   \n",
              "4                             3.0                           7.0   \n",
              "\n",
              "   Importance_of_efficient_1to2  Importance_of_efficient_1to3  \\\n",
              "0                           NaN                           NaN   \n",
              "1                           NaN                           NaN   \n",
              "2                           2.0                           3.0   \n",
              "3                           2.0                           2.0   \n",
              "4                           2.0                           3.0   \n",
              "\n",
              "   Importance_low_price_1to7  Importance_low_price_1to2  \\\n",
              "0                        NaN                        NaN   \n",
              "1                        NaN                        NaN   \n",
              "2                        5.0                        1.0   \n",
              "3                        4.0                        1.0   \n",
              "4                        4.0                        1.0   \n",
              "\n",
              "   Importance_low_price_1to3  Importance_polyvalence_1to7  \\\n",
              "0                        NaN                          NaN   \n",
              "1                        NaN                          NaN   \n",
              "2                        2.0                          7.0   \n",
              "3                        1.0                          6.0   \n",
              "4                        1.0                          6.0   \n",
              "\n",
              "   Importance_polyvalence_1to2  Importance_polyvalence_1to3  \\\n",
              "0                          NaN                          NaN   \n",
              "1                          NaN                          NaN   \n",
              "2                          2.0                          3.0   \n",
              "3                          2.0                          2.0   \n",
              "4                          2.0                          2.0   \n",
              "\n",
              "   Enjoy_using_new_techs_1to7  Enjoy_using_new_techs_1to2  \\\n",
              "0                         NaN                         NaN   \n",
              "1                         7.0                         2.0   \n",
              "2                         4.0                         1.0   \n",
              "3                         6.0                         2.0   \n",
              "4                         5.0                         1.0   \n",
              "\n",
              "   Enjoy_using_new_techs_1to3  Appreciate_change_1to7  Appreciate_change_1to2  \\\n",
              "0                         NaN                     7.0                     2.0   \n",
              "1                         3.0                     7.0                     2.0   \n",
              "2                         1.0                     4.0                     1.0   \n",
              "3                         2.0                     6.0                     2.0   \n",
              "4                         2.0                     4.0                     1.0   \n",
              "\n",
              "   Appreciate_change_1to3  Trust_in_DSS_1to7  Trust_in_DSS_1to2  \\\n",
              "0                     3.0                1.0                1.0   \n",
              "1                     3.0                6.0                2.0   \n",
              "2                     1.0                5.0                1.0   \n",
              "3                     2.0                4.0                1.0   \n",
              "4                     1.0                4.0                1.0   \n",
              "\n",
              "   Trust_in_DSS_1to3  Trust_in_colleague_advice_1to7  \\\n",
              "0                1.0                             2.0   \n",
              "1                2.0                             2.0   \n",
              "2                2.0                             5.0   \n",
              "3                1.0                             4.0   \n",
              "4                1.0                             4.0   \n",
              "\n",
              "   Trust_in_colleague_advice_1to2  Trust_in_colleague_advice_1to3  \\\n",
              "0                             1.0                             1.0   \n",
              "1                             1.0                             1.0   \n",
              "2                             1.0                             2.0   \n",
              "3                             1.0                             1.0   \n",
              "4                             1.0                             1.0   \n",
              "\n",
              "   Trust_advice_friend_1to7  Trust_advice_friend_1to2  \\\n",
              "0                       2.0                       1.0   \n",
              "1                       4.0                       1.0   \n",
              "2                       5.0                       1.0   \n",
              "3                       4.0                       1.0   \n",
              "4                       4.0                       1.0   \n",
              "\n",
              "   Trust_advice_friend_1to3  Need_IT_teaching_Cat  \\\n",
              "0                       1.0                   1.0   \n",
              "1                       1.0                   2.0   \n",
              "2                       2.0                   2.0   \n",
              "3                       1.0                   2.0   \n",
              "4                       1.0                   2.0   \n",
              "\n",
              "   DSS_can_improve_your_productivity_Cat  CL_Output_preference_Graphical_1  \\\n",
              "0                                    1.0                               NaN   \n",
              "1                                    3.0                               NaN   \n",
              "2                                    3.0                               0.0   \n",
              "3                                    3.0                               0.0   \n",
              "4                                    3.0                               0.0   \n",
              "\n",
              "   CL_Output_preference_Textual_2  CL_Output_preference_Both_3  \\\n",
              "0                             NaN                          NaN   \n",
              "1                             NaN                          NaN   \n",
              "2                             0.0                          1.0   \n",
              "3                             0.0                          1.0   \n",
              "4                             0.0                          1.0   \n",
              "\n",
              "   Output_preference_Cat_NO  Share_DSS_exp_with_colleague_Cat  \\\n",
              "0                       NaN                               2.0   \n",
              "1                       NaN                               2.0   \n",
              "2                       3.0                               1.0   \n",
              "3                       3.0                               NaN   \n",
              "4                       3.0                               3.0   \n",
              "\n",
              "   Use_DSS_from_trusted_sources_Always  WTP_for_DSS_Cat  \\\n",
              "0                                  NaN              1.0   \n",
              "1                                  NaN              1.0   \n",
              "2                                  NaN              2.0   \n",
              "3                                  NaN              3.0   \n",
              "4                                  1.0              3.0   \n",
              "\n",
              "   DSS_must_be_tailored_for_your_farm_Cat  Use_same_DSS_than_advisor_Cat  \\\n",
              "0                                     1.0                            NaN   \n",
              "1                                     2.0                            NaN   \n",
              "2                                     2.0                            1.0   \n",
              "3                                     2.0                            NaN   \n",
              "4                                     2.0                            2.0   \n",
              "\n",
              "   Age_of_DSS_user_at_the_farm_1  Age_of_DSS_user_at_the_farm_2  \\\n",
              "0                            NaN                            NaN   \n",
              "1                            0.0                            1.0   \n",
              "2                            NaN                            NaN   \n",
              "3                            1.0                            0.0   \n",
              "4                            1.0                            0.0   \n",
              "\n",
              "   Age_of_DSS_user_at_the_farm_3  Marketing_info_about_DSS_Cat  \\\n",
              "0                            NaN                           1.0   \n",
              "1                            0.0                           2.0   \n",
              "2                            NaN                           2.0   \n",
              "3                            0.0                           NaN   \n",
              "4                            0.0                           2.0   \n",
              "\n",
              "   Manufacturer_demo_of_DSS_Cat  \n",
              "0                           1.0  \n",
              "1                           2.0  \n",
              "2                           2.0  \n",
              "3                           1.0  \n",
              "4                           2.0  "
            ]
          },
          "metadata": {
            "tags": []
          },
          "execution_count": 129
        }
      ]
    },
    {
      "cell_type": "code",
      "metadata": {
        "id": "gqulN1Mel2Nq",
        "colab": {
          "base_uri": "https://localhost:8080/"
        },
        "outputId": "f3a224a7-41f3-4088-9fe0-5bbbfeda30f6"
      },
      "source": [
        "df.info()"
      ],
      "execution_count": 130,
      "outputs": [
        {
          "output_type": "stream",
          "text": [
            "<class 'pandas.core.frame.DataFrame'>\n",
            "RangeIndex: 149 entries, 0 to 148\n",
            "Data columns (total 81 columns):\n",
            " #   Column                                       Non-Null Count  Dtype  \n",
            "---  ------                                       --------------  -----  \n",
            " 0   Region                                       149 non-null    object \n",
            " 1   Country                                      149 non-null    object \n",
            " 2   Subject                                      149 non-null    object \n",
            " 3   Age_Cat                                      149 non-null    int64  \n",
            " 4   Gender_1male                                 148 non-null    float64\n",
            " 5   Degree_Cat                                   144 non-null    float64\n",
            " 6   Farm_size_Cat                                148 non-null    float64\n",
            " 7   ProductionUse_selling                        117 non-null    float64\n",
            " 8   Farm_type_Conventional                       116 non-null    float64\n",
            " 9   Farm_type_Intergrated                        116 non-null    float64\n",
            " 10  Farm_type_Organic                            116 non-null    float64\n",
            " 11  Farm_type_Biodynamic                         116 non-null    float64\n",
            " 12  Income_Cat                                   144 non-null    float64\n",
            " 13  Proportion_of_income                         145 non-null    float64\n",
            " 14  Production_level_1to7                        107 non-null    float64\n",
            " 15  Production_level_1to3                        107 non-null    float64\n",
            " 16  Crop_Group_Cat                               117 non-null    float64\n",
            " 17  Legislative_requirements                     138 non-null    float64\n",
            " 18  Own_phone                                    149 non-null    int64  \n",
            " 19  Years_own_phone                              149 non-null    int64  \n",
            " 20  Use_DSS_App                                  145 non-null    float64\n",
            " 21  Agricultural_app_use_Cat                     97 non-null     float64\n",
            " 22  Computer_at_home                             149 non-null    int64  \n",
            " 23  Speed_internet_Cat                           149 non-null    int64  \n",
            " 24  Already_used_DSS                             134 non-null    float64\n",
            " 25  How_do_you_access_DSS_Cat                    134 non-null    float64\n",
            " 26  Potencial_user_of_platform                   134 non-null    float64\n",
            " 27  Prefered_access_Phone                        134 non-null    float64\n",
            " 28  Prefered_access_PC                           134 non-null    float64\n",
            " 29  Prefered_access_Advisor                      134 non-null    float64\n",
            " 30  Willing_to_try_new_products_Cat              143 non-null    float64\n",
            " 31  Price_important_factor                       146 non-null    float64\n",
            " 32  DSS_are_more_suited_for_ShortTermDecision_1  142 non-null    float64\n",
            " 33  DSS_are_more_suited_for_LongTermDecision_2   142 non-null    float64\n",
            " 34  DSS_for_ShortLongTermBothDecision_Cat_NO     142 non-null    float64\n",
            " 35  Prefered_type_Web_1                          137 non-null    float64\n",
            " 36  Prefered_type_Software_2                     137 non-null    float64\n",
            " 37  Prefered_type_Web_Software_Both_Cat_NO       137 non-null    float64\n",
            " 38  Importance_of_easy_to_use_1to7               140 non-null    float64\n",
            " 39  Importance_of_easy_to_use_1to2               140 non-null    float64\n",
            " 40  Importance_of_easy_to_use_1to3               140 non-null    float64\n",
            " 41  Importance_of_efficient_1to7                 142 non-null    float64\n",
            " 42  Importance_of_efficient_1to2                 142 non-null    float64\n",
            " 43  Importance_of_efficient_1to3                 142 non-null    float64\n",
            " 44  Importance_low_price_1to7                    136 non-null    float64\n",
            " 45  Importance_low_price_1to2                    136 non-null    float64\n",
            " 46  Importance_low_price_1to3                    136 non-null    float64\n",
            " 47  Importance_polyvalence_1to7                  136 non-null    float64\n",
            " 48  Importance_polyvalence_1to2                  136 non-null    float64\n",
            " 49  Importance_polyvalence_1to3                  136 non-null    float64\n",
            " 50  Enjoy_using_new_techs_1to7                   147 non-null    float64\n",
            " 51  Enjoy_using_new_techs_1to2                   147 non-null    float64\n",
            " 52  Enjoy_using_new_techs_1to3                   147 non-null    float64\n",
            " 53  Appreciate_change_1to7                       148 non-null    float64\n",
            " 54  Appreciate_change_1to2                       148 non-null    float64\n",
            " 55  Appreciate_change_1to3                       148 non-null    float64\n",
            " 56  Trust_in_DSS_1to7                            148 non-null    float64\n",
            " 57  Trust_in_DSS_1to2                            148 non-null    float64\n",
            " 58  Trust_in_DSS_1to3                            148 non-null    float64\n",
            " 59  Trust_in_colleague_advice_1to7               148 non-null    float64\n",
            " 60  Trust_in_colleague_advice_1to2               148 non-null    float64\n",
            " 61  Trust_in_colleague_advice_1to3               148 non-null    float64\n",
            " 62  Trust_advice_friend_1to7                     147 non-null    float64\n",
            " 63  Trust_advice_friend_1to2                     147 non-null    float64\n",
            " 64  Trust_advice_friend_1to3                     147 non-null    float64\n",
            " 65  Need_IT_teaching_Cat                         147 non-null    float64\n",
            " 66  DSS_can_improve_your_productivity_Cat        147 non-null    float64\n",
            " 67  CL_Output_preference_Graphical_1             143 non-null    float64\n",
            " 68  CL_Output_preference_Textual_2               143 non-null    float64\n",
            " 69  CL_Output_preference_Both_3                  143 non-null    float64\n",
            " 70  Output_preference_Cat_NO                     143 non-null    float64\n",
            " 71  Share_DSS_exp_with_colleague_Cat             136 non-null    float64\n",
            " 72  Use_DSS_from_trusted_sources_Always          118 non-null    float64\n",
            " 73  WTP_for_DSS_Cat                              146 non-null    float64\n",
            " 74  DSS_must_be_tailored_for_your_farm_Cat       146 non-null    float64\n",
            " 75  Use_same_DSS_than_advisor_Cat                109 non-null    float64\n",
            " 76  Age_of_DSS_user_at_the_farm_1                118 non-null    float64\n",
            " 77  Age_of_DSS_user_at_the_farm_2                118 non-null    float64\n",
            " 78  Age_of_DSS_user_at_the_farm_3                118 non-null    float64\n",
            " 79  Marketing_info_about_DSS_Cat                 127 non-null    float64\n",
            " 80  Manufacturer_demo_of_DSS_Cat                 143 non-null    float64\n",
            "dtypes: float64(73), int64(5), object(3)\n",
            "memory usage: 94.4+ KB\n"
          ],
          "name": "stdout"
        }
      ]
    },
    {
      "cell_type": "code",
      "metadata": {
        "id": "rjv9dRC3Rq9N"
      },
      "source": [
        "# Remove Greek instances\n",
        "# Greek_index = df.loc[df.Country == \"Greece\"].index\n",
        "# df_noGreek = df.drop(Greek_index, axis=0)\n",
        "# df_noGreek"
      ],
      "execution_count": 131,
      "outputs": []
    },
    {
      "cell_type": "code",
      "metadata": {
        "id": "1BwwIb_nqyKm"
      },
      "source": [
        "# Remove duplicate features and \"Subject\" feature.\n",
        "dup_feat = [\"Subject\", \"Production_level_1to7\", \"DSS_for_ShortLongTermBothDecision_Cat_NO\", \"Prefered_type_Web_Software_Both_Cat_NO\", \n",
        "            \"Importance_of_easy_to_use_1to7\", \"Importance_of_easy_to_use_1to2\", \"Importance_of_efficient_1to7\", \"Importance_of_efficient_1to2\", \n",
        "            \"Importance_low_price_1to7\", \"Importance_low_price_1to2\", \"Importance_polyvalence_1to7\", \"Importance_polyvalence_1to2\", \n",
        "            \"Enjoy_using_new_techs_1to7\", \"Enjoy_using_new_techs_1to2\", \"Appreciate_change_1to7\", \"Appreciate_change_1to2\",\n",
        "            \"Trust_in_DSS_1to7\", \"Trust_in_DSS_1to2\", \"Trust_in_colleague_advice_1to7\", \"Trust_in_colleague_advice_1to2\",\n",
        "            \"Trust_advice_friend_1to7\", \"Trust_advice_friend_1to2\", \"Output_preference_Cat_NO\"] \n",
        "df_reduced = df.drop(dup_feat, axis=1)"
      ],
      "execution_count": 132,
      "outputs": []
    },
    {
      "cell_type": "code",
      "metadata": {
        "colab": {
          "base_uri": "https://localhost:8080/"
        },
        "id": "ocfM2RDzrfKE",
        "outputId": "d57d9fe6-45b2-42b1-cb3b-cdaac0aee2c5"
      },
      "source": [
        "df_reduced.shape"
      ],
      "execution_count": 133,
      "outputs": [
        {
          "output_type": "execute_result",
          "data": {
            "text/plain": [
              "(149, 58)"
            ]
          },
          "metadata": {
            "tags": []
          },
          "execution_count": 133
        }
      ]
    },
    {
      "cell_type": "code",
      "metadata": {
        "id": "i0MxT2vNnfrn"
      },
      "source": [
        "# Remove feature specific to Question #2 \"How_do_you_access_DSS_Cat\"\n",
        "removed_featuresQ2 = [\"Region\", \"Country\", \"ProductionUse_selling\", \"Farm_type_Conventional\", \"Farm_type_Intergrated\", \"Farm_type_Organic\",\n",
        "             \"Farm_type_Biodynamic\", \"Proportion_of_income\", \"Production_level_1to3\", \"Crop_Group_Cat\", \"Own_phone\", \"Years_own_phone\", \n",
        "             \"Use_DSS_App\", \"Agricultural_app_use_Cat\", \"Potencial_user_of_platform\", \"Prefered_access_Phone\", \"Prefered_access_PC\", \"Prefered_access_Advisor\",\n",
        "             \"Prefered_type_Web_1\", \"Prefered_type_Software_2\", \"Importance_of_efficient_1to3\", \"Trust_in_DSS_1to3\", \"Trust_in_colleague_advice_1to3\",\n",
        "             \"Trust_advice_friend_1to3\", \"DSS_can_improve_your_productivity_Cat\", \"CL_Output_preference_Graphical_1\", \"CL_Output_preference_Textual_2\",\n",
        "             \"CL_Output_preference_Both_3\", \"Use_DSS_from_trusted_sources_Always\", \"Use_same_DSS_than_advisor_Cat\", \"Age_of_DSS_user_at_the_farm_1\", \n",
        "             \"Age_of_DSS_user_at_the_farm_2\", \"Age_of_DSS_user_at_the_farm_3\", \"Marketing_info_about_DSS_Cat\", \"Already_used_DSS\", \n",
        "             \"DSS_are_more_suited_for_ShortTermDecision_1\", \"DSS_are_more_suited_for_LongTermDecision_2\"]\n",
        "df_reducedQ2 = df_reduced.copy().drop(removed_featuresQ2, axis=1)"
      ],
      "execution_count": 134,
      "outputs": []
    },
    {
      "cell_type": "code",
      "metadata": {
        "id": "OzqvgdFqkdJ-",
        "colab": {
          "base_uri": "https://localhost:8080/"
        },
        "outputId": "323711aa-123b-4131-c5b2-7b30c3b7c9c5"
      },
      "source": [
        "df_reducedQ2.shape"
      ],
      "execution_count": 135,
      "outputs": [
        {
          "output_type": "execute_result",
          "data": {
            "text/plain": [
              "(149, 21)"
            ]
          },
          "metadata": {
            "tags": []
          },
          "execution_count": 135
        }
      ]
    },
    {
      "cell_type": "code",
      "metadata": {
        "colab": {
          "base_uri": "https://localhost:8080/",
          "height": 224
        },
        "id": "sLbHySjan24b",
        "outputId": "68ded00a-b882-4fbc-df3f-7352273bf68a"
      },
      "source": [
        "df_reducedQ2.head()"
      ],
      "execution_count": 136,
      "outputs": [
        {
          "output_type": "execute_result",
          "data": {
            "text/html": [
              "<div>\n",
              "<style scoped>\n",
              "    .dataframe tbody tr th:only-of-type {\n",
              "        vertical-align: middle;\n",
              "    }\n",
              "\n",
              "    .dataframe tbody tr th {\n",
              "        vertical-align: top;\n",
              "    }\n",
              "\n",
              "    .dataframe thead th {\n",
              "        text-align: right;\n",
              "    }\n",
              "</style>\n",
              "<table border=\"1\" class=\"dataframe\">\n",
              "  <thead>\n",
              "    <tr style=\"text-align: right;\">\n",
              "      <th></th>\n",
              "      <th>Age_Cat</th>\n",
              "      <th>Gender_1male</th>\n",
              "      <th>Degree_Cat</th>\n",
              "      <th>Farm_size_Cat</th>\n",
              "      <th>Income_Cat</th>\n",
              "      <th>Legislative_requirements</th>\n",
              "      <th>Computer_at_home</th>\n",
              "      <th>Speed_internet_Cat</th>\n",
              "      <th>How_do_you_access_DSS_Cat</th>\n",
              "      <th>Willing_to_try_new_products_Cat</th>\n",
              "      <th>Price_important_factor</th>\n",
              "      <th>Importance_of_easy_to_use_1to3</th>\n",
              "      <th>Importance_low_price_1to3</th>\n",
              "      <th>Importance_polyvalence_1to3</th>\n",
              "      <th>Enjoy_using_new_techs_1to3</th>\n",
              "      <th>Appreciate_change_1to3</th>\n",
              "      <th>Need_IT_teaching_Cat</th>\n",
              "      <th>Share_DSS_exp_with_colleague_Cat</th>\n",
              "      <th>WTP_for_DSS_Cat</th>\n",
              "      <th>DSS_must_be_tailored_for_your_farm_Cat</th>\n",
              "      <th>Manufacturer_demo_of_DSS_Cat</th>\n",
              "    </tr>\n",
              "  </thead>\n",
              "  <tbody>\n",
              "    <tr>\n",
              "      <th>0</th>\n",
              "      <td>4</td>\n",
              "      <td>1.0</td>\n",
              "      <td>1.0</td>\n",
              "      <td>5.0</td>\n",
              "      <td>NaN</td>\n",
              "      <td>1.0</td>\n",
              "      <td>1</td>\n",
              "      <td>3</td>\n",
              "      <td>1.0</td>\n",
              "      <td>2.0</td>\n",
              "      <td>0.0</td>\n",
              "      <td>NaN</td>\n",
              "      <td>NaN</td>\n",
              "      <td>NaN</td>\n",
              "      <td>NaN</td>\n",
              "      <td>3.0</td>\n",
              "      <td>1.0</td>\n",
              "      <td>2.0</td>\n",
              "      <td>1.0</td>\n",
              "      <td>1.0</td>\n",
              "      <td>1.0</td>\n",
              "    </tr>\n",
              "    <tr>\n",
              "      <th>1</th>\n",
              "      <td>4</td>\n",
              "      <td>1.0</td>\n",
              "      <td>2.0</td>\n",
              "      <td>4.0</td>\n",
              "      <td>2.0</td>\n",
              "      <td>NaN</td>\n",
              "      <td>1</td>\n",
              "      <td>2</td>\n",
              "      <td>NaN</td>\n",
              "      <td>NaN</td>\n",
              "      <td>NaN</td>\n",
              "      <td>NaN</td>\n",
              "      <td>NaN</td>\n",
              "      <td>NaN</td>\n",
              "      <td>3.0</td>\n",
              "      <td>3.0</td>\n",
              "      <td>2.0</td>\n",
              "      <td>2.0</td>\n",
              "      <td>1.0</td>\n",
              "      <td>2.0</td>\n",
              "      <td>2.0</td>\n",
              "    </tr>\n",
              "    <tr>\n",
              "      <th>2</th>\n",
              "      <td>2</td>\n",
              "      <td>1.0</td>\n",
              "      <td>2.0</td>\n",
              "      <td>5.0</td>\n",
              "      <td>2.0</td>\n",
              "      <td>1.0</td>\n",
              "      <td>1</td>\n",
              "      <td>2</td>\n",
              "      <td>1.0</td>\n",
              "      <td>1.0</td>\n",
              "      <td>1.0</td>\n",
              "      <td>3.0</td>\n",
              "      <td>2.0</td>\n",
              "      <td>3.0</td>\n",
              "      <td>1.0</td>\n",
              "      <td>1.0</td>\n",
              "      <td>2.0</td>\n",
              "      <td>1.0</td>\n",
              "      <td>2.0</td>\n",
              "      <td>2.0</td>\n",
              "      <td>2.0</td>\n",
              "    </tr>\n",
              "    <tr>\n",
              "      <th>3</th>\n",
              "      <td>2</td>\n",
              "      <td>1.0</td>\n",
              "      <td>2.0</td>\n",
              "      <td>4.0</td>\n",
              "      <td>5.0</td>\n",
              "      <td>1.0</td>\n",
              "      <td>1</td>\n",
              "      <td>2</td>\n",
              "      <td>1.0</td>\n",
              "      <td>1.0</td>\n",
              "      <td>1.0</td>\n",
              "      <td>3.0</td>\n",
              "      <td>1.0</td>\n",
              "      <td>2.0</td>\n",
              "      <td>2.0</td>\n",
              "      <td>2.0</td>\n",
              "      <td>2.0</td>\n",
              "      <td>NaN</td>\n",
              "      <td>3.0</td>\n",
              "      <td>2.0</td>\n",
              "      <td>1.0</td>\n",
              "    </tr>\n",
              "    <tr>\n",
              "      <th>4</th>\n",
              "      <td>2</td>\n",
              "      <td>1.0</td>\n",
              "      <td>2.0</td>\n",
              "      <td>5.0</td>\n",
              "      <td>5.0</td>\n",
              "      <td>1.0</td>\n",
              "      <td>1</td>\n",
              "      <td>2</td>\n",
              "      <td>3.0</td>\n",
              "      <td>1.0</td>\n",
              "      <td>1.0</td>\n",
              "      <td>3.0</td>\n",
              "      <td>1.0</td>\n",
              "      <td>2.0</td>\n",
              "      <td>2.0</td>\n",
              "      <td>1.0</td>\n",
              "      <td>2.0</td>\n",
              "      <td>3.0</td>\n",
              "      <td>3.0</td>\n",
              "      <td>2.0</td>\n",
              "      <td>2.0</td>\n",
              "    </tr>\n",
              "  </tbody>\n",
              "</table>\n",
              "</div>"
            ],
            "text/plain": [
              "   Age_Cat  Gender_1male  Degree_Cat  Farm_size_Cat  Income_Cat  \\\n",
              "0        4           1.0         1.0            5.0         NaN   \n",
              "1        4           1.0         2.0            4.0         2.0   \n",
              "2        2           1.0         2.0            5.0         2.0   \n",
              "3        2           1.0         2.0            4.0         5.0   \n",
              "4        2           1.0         2.0            5.0         5.0   \n",
              "\n",
              "   Legislative_requirements  Computer_at_home  Speed_internet_Cat  \\\n",
              "0                       1.0                 1                   3   \n",
              "1                       NaN                 1                   2   \n",
              "2                       1.0                 1                   2   \n",
              "3                       1.0                 1                   2   \n",
              "4                       1.0                 1                   2   \n",
              "\n",
              "   How_do_you_access_DSS_Cat  Willing_to_try_new_products_Cat  \\\n",
              "0                        1.0                              2.0   \n",
              "1                        NaN                              NaN   \n",
              "2                        1.0                              1.0   \n",
              "3                        1.0                              1.0   \n",
              "4                        3.0                              1.0   \n",
              "\n",
              "   Price_important_factor  Importance_of_easy_to_use_1to3  \\\n",
              "0                     0.0                             NaN   \n",
              "1                     NaN                             NaN   \n",
              "2                     1.0                             3.0   \n",
              "3                     1.0                             3.0   \n",
              "4                     1.0                             3.0   \n",
              "\n",
              "   Importance_low_price_1to3  Importance_polyvalence_1to3  \\\n",
              "0                        NaN                          NaN   \n",
              "1                        NaN                          NaN   \n",
              "2                        2.0                          3.0   \n",
              "3                        1.0                          2.0   \n",
              "4                        1.0                          2.0   \n",
              "\n",
              "   Enjoy_using_new_techs_1to3  Appreciate_change_1to3  Need_IT_teaching_Cat  \\\n",
              "0                         NaN                     3.0                   1.0   \n",
              "1                         3.0                     3.0                   2.0   \n",
              "2                         1.0                     1.0                   2.0   \n",
              "3                         2.0                     2.0                   2.0   \n",
              "4                         2.0                     1.0                   2.0   \n",
              "\n",
              "   Share_DSS_exp_with_colleague_Cat  WTP_for_DSS_Cat  \\\n",
              "0                               2.0              1.0   \n",
              "1                               2.0              1.0   \n",
              "2                               1.0              2.0   \n",
              "3                               NaN              3.0   \n",
              "4                               3.0              3.0   \n",
              "\n",
              "   DSS_must_be_tailored_for_your_farm_Cat  Manufacturer_demo_of_DSS_Cat  \n",
              "0                                     1.0                           1.0  \n",
              "1                                     2.0                           2.0  \n",
              "2                                     2.0                           2.0  \n",
              "3                                     2.0                           1.0  \n",
              "4                                     2.0                           2.0  "
            ]
          },
          "metadata": {
            "tags": []
          },
          "execution_count": 136
        }
      ]
    },
    {
      "cell_type": "code",
      "metadata": {
        "id": "YnIWAHzVl2Ns",
        "outputId": "3884f2dc-3035-4567-ae3d-b91977f53edd",
        "colab": {
          "base_uri": "https://localhost:8080/",
          "height": 341
        }
      },
      "source": [
        "# One hot encode categorical data.\n",
        "#ohe_df = pd.get_dummies(df, columns=[\"Region\", \"Country\"])\n",
        "ohe_df = pd.get_dummies(df_reducedQ2, columns=[\"Region\"])"
      ],
      "execution_count": 119,
      "outputs": [
        {
          "output_type": "error",
          "ename": "KeyError",
          "evalue": "ignored",
          "traceback": [
            "\u001b[0;31m---------------------------------------------------------------------------\u001b[0m",
            "\u001b[0;31mKeyError\u001b[0m                                  Traceback (most recent call last)",
            "\u001b[0;32m<ipython-input-119-7b7007e3ca6a>\u001b[0m in \u001b[0;36m<module>\u001b[0;34m()\u001b[0m\n\u001b[1;32m      1\u001b[0m \u001b[0;31m# One hot encode categorical data.\u001b[0m\u001b[0;34m\u001b[0m\u001b[0;34m\u001b[0m\u001b[0;34m\u001b[0m\u001b[0m\n\u001b[1;32m      2\u001b[0m \u001b[0;31m#ohe_df = pd.get_dummies(df, columns=[\"Region\", \"Country\"])\u001b[0m\u001b[0;34m\u001b[0m\u001b[0;34m\u001b[0m\u001b[0;34m\u001b[0m\u001b[0m\n\u001b[0;32m----> 3\u001b[0;31m \u001b[0mohe_df\u001b[0m \u001b[0;34m=\u001b[0m \u001b[0mpd\u001b[0m\u001b[0;34m.\u001b[0m\u001b[0mget_dummies\u001b[0m\u001b[0;34m(\u001b[0m\u001b[0mdf_reducedQ2\u001b[0m\u001b[0;34m,\u001b[0m \u001b[0mcolumns\u001b[0m\u001b[0;34m=\u001b[0m\u001b[0;34m[\u001b[0m\u001b[0;34m\"Region\"\u001b[0m\u001b[0;34m]\u001b[0m\u001b[0;34m)\u001b[0m\u001b[0;34m\u001b[0m\u001b[0;34m\u001b[0m\u001b[0m\n\u001b[0m",
            "\u001b[0;32m/usr/local/lib/python3.7/dist-packages/pandas/core/reshape/reshape.py\u001b[0m in \u001b[0;36mget_dummies\u001b[0;34m(data, prefix, prefix_sep, dummy_na, columns, sparse, drop_first, dtype)\u001b[0m\n\u001b[1;32m    841\u001b[0m             \u001b[0;32mraise\u001b[0m \u001b[0mTypeError\u001b[0m\u001b[0;34m(\u001b[0m\u001b[0;34m\"Input must be a list-like for parameter `columns`\"\u001b[0m\u001b[0;34m)\u001b[0m\u001b[0;34m\u001b[0m\u001b[0;34m\u001b[0m\u001b[0m\n\u001b[1;32m    842\u001b[0m         \u001b[0;32melse\u001b[0m\u001b[0;34m:\u001b[0m\u001b[0;34m\u001b[0m\u001b[0;34m\u001b[0m\u001b[0m\n\u001b[0;32m--> 843\u001b[0;31m             \u001b[0mdata_to_encode\u001b[0m \u001b[0;34m=\u001b[0m \u001b[0mdata\u001b[0m\u001b[0;34m[\u001b[0m\u001b[0mcolumns\u001b[0m\u001b[0;34m]\u001b[0m\u001b[0;34m\u001b[0m\u001b[0;34m\u001b[0m\u001b[0m\n\u001b[0m\u001b[1;32m    844\u001b[0m \u001b[0;34m\u001b[0m\u001b[0m\n\u001b[1;32m    845\u001b[0m         \u001b[0;31m# validate prefixes and separator to avoid silently dropping cols\u001b[0m\u001b[0;34m\u001b[0m\u001b[0;34m\u001b[0m\u001b[0;34m\u001b[0m\u001b[0m\n",
            "\u001b[0;32m/usr/local/lib/python3.7/dist-packages/pandas/core/frame.py\u001b[0m in \u001b[0;36m__getitem__\u001b[0;34m(self, key)\u001b[0m\n\u001b[1;32m   2910\u001b[0m             \u001b[0;32mif\u001b[0m \u001b[0mis_iterator\u001b[0m\u001b[0;34m(\u001b[0m\u001b[0mkey\u001b[0m\u001b[0;34m)\u001b[0m\u001b[0;34m:\u001b[0m\u001b[0;34m\u001b[0m\u001b[0;34m\u001b[0m\u001b[0m\n\u001b[1;32m   2911\u001b[0m                 \u001b[0mkey\u001b[0m \u001b[0;34m=\u001b[0m \u001b[0mlist\u001b[0m\u001b[0;34m(\u001b[0m\u001b[0mkey\u001b[0m\u001b[0;34m)\u001b[0m\u001b[0;34m\u001b[0m\u001b[0;34m\u001b[0m\u001b[0m\n\u001b[0;32m-> 2912\u001b[0;31m             \u001b[0mindexer\u001b[0m \u001b[0;34m=\u001b[0m \u001b[0mself\u001b[0m\u001b[0;34m.\u001b[0m\u001b[0mloc\u001b[0m\u001b[0;34m.\u001b[0m\u001b[0m_get_listlike_indexer\u001b[0m\u001b[0;34m(\u001b[0m\u001b[0mkey\u001b[0m\u001b[0;34m,\u001b[0m \u001b[0maxis\u001b[0m\u001b[0;34m=\u001b[0m\u001b[0;36m1\u001b[0m\u001b[0;34m,\u001b[0m \u001b[0mraise_missing\u001b[0m\u001b[0;34m=\u001b[0m\u001b[0;32mTrue\u001b[0m\u001b[0;34m)\u001b[0m\u001b[0;34m[\u001b[0m\u001b[0;36m1\u001b[0m\u001b[0;34m]\u001b[0m\u001b[0;34m\u001b[0m\u001b[0;34m\u001b[0m\u001b[0m\n\u001b[0m\u001b[1;32m   2913\u001b[0m \u001b[0;34m\u001b[0m\u001b[0m\n\u001b[1;32m   2914\u001b[0m         \u001b[0;31m# take() does not accept boolean indexers\u001b[0m\u001b[0;34m\u001b[0m\u001b[0;34m\u001b[0m\u001b[0;34m\u001b[0m\u001b[0m\n",
            "\u001b[0;32m/usr/local/lib/python3.7/dist-packages/pandas/core/indexing.py\u001b[0m in \u001b[0;36m_get_listlike_indexer\u001b[0;34m(self, key, axis, raise_missing)\u001b[0m\n\u001b[1;32m   1252\u001b[0m             \u001b[0mkeyarr\u001b[0m\u001b[0;34m,\u001b[0m \u001b[0mindexer\u001b[0m\u001b[0;34m,\u001b[0m \u001b[0mnew_indexer\u001b[0m \u001b[0;34m=\u001b[0m \u001b[0max\u001b[0m\u001b[0;34m.\u001b[0m\u001b[0m_reindex_non_unique\u001b[0m\u001b[0;34m(\u001b[0m\u001b[0mkeyarr\u001b[0m\u001b[0;34m)\u001b[0m\u001b[0;34m\u001b[0m\u001b[0;34m\u001b[0m\u001b[0m\n\u001b[1;32m   1253\u001b[0m \u001b[0;34m\u001b[0m\u001b[0m\n\u001b[0;32m-> 1254\u001b[0;31m         \u001b[0mself\u001b[0m\u001b[0;34m.\u001b[0m\u001b[0m_validate_read_indexer\u001b[0m\u001b[0;34m(\u001b[0m\u001b[0mkeyarr\u001b[0m\u001b[0;34m,\u001b[0m \u001b[0mindexer\u001b[0m\u001b[0;34m,\u001b[0m \u001b[0maxis\u001b[0m\u001b[0;34m,\u001b[0m \u001b[0mraise_missing\u001b[0m\u001b[0;34m=\u001b[0m\u001b[0mraise_missing\u001b[0m\u001b[0;34m)\u001b[0m\u001b[0;34m\u001b[0m\u001b[0;34m\u001b[0m\u001b[0m\n\u001b[0m\u001b[1;32m   1255\u001b[0m         \u001b[0;32mreturn\u001b[0m \u001b[0mkeyarr\u001b[0m\u001b[0;34m,\u001b[0m \u001b[0mindexer\u001b[0m\u001b[0;34m\u001b[0m\u001b[0;34m\u001b[0m\u001b[0m\n\u001b[1;32m   1256\u001b[0m \u001b[0;34m\u001b[0m\u001b[0m\n",
            "\u001b[0;32m/usr/local/lib/python3.7/dist-packages/pandas/core/indexing.py\u001b[0m in \u001b[0;36m_validate_read_indexer\u001b[0;34m(self, key, indexer, axis, raise_missing)\u001b[0m\n\u001b[1;32m   1296\u001b[0m             \u001b[0;32mif\u001b[0m \u001b[0mmissing\u001b[0m \u001b[0;34m==\u001b[0m \u001b[0mlen\u001b[0m\u001b[0;34m(\u001b[0m\u001b[0mindexer\u001b[0m\u001b[0;34m)\u001b[0m\u001b[0;34m:\u001b[0m\u001b[0;34m\u001b[0m\u001b[0;34m\u001b[0m\u001b[0m\n\u001b[1;32m   1297\u001b[0m                 \u001b[0maxis_name\u001b[0m \u001b[0;34m=\u001b[0m \u001b[0mself\u001b[0m\u001b[0;34m.\u001b[0m\u001b[0mobj\u001b[0m\u001b[0;34m.\u001b[0m\u001b[0m_get_axis_name\u001b[0m\u001b[0;34m(\u001b[0m\u001b[0maxis\u001b[0m\u001b[0;34m)\u001b[0m\u001b[0;34m\u001b[0m\u001b[0;34m\u001b[0m\u001b[0m\n\u001b[0;32m-> 1298\u001b[0;31m                 \u001b[0;32mraise\u001b[0m \u001b[0mKeyError\u001b[0m\u001b[0;34m(\u001b[0m\u001b[0;34mf\"None of [{key}] are in the [{axis_name}]\"\u001b[0m\u001b[0;34m)\u001b[0m\u001b[0;34m\u001b[0m\u001b[0;34m\u001b[0m\u001b[0m\n\u001b[0m\u001b[1;32m   1299\u001b[0m \u001b[0;34m\u001b[0m\u001b[0m\n\u001b[1;32m   1300\u001b[0m             \u001b[0;31m# We (temporarily) allow for some missing keys with .loc, except in\u001b[0m\u001b[0;34m\u001b[0m\u001b[0;34m\u001b[0m\u001b[0;34m\u001b[0m\u001b[0m\n",
            "\u001b[0;31mKeyError\u001b[0m: \"None of [Index(['Region'], dtype='object')] are in the [columns]\""
          ]
        }
      ]
    },
    {
      "cell_type": "markdown",
      "metadata": {
        "id": "Q8zS_VOMl2Ns"
      },
      "source": [
        "### Missing values"
      ]
    },
    {
      "cell_type": "code",
      "metadata": {
        "id": "-lQe012UBGev",
        "colab": {
          "base_uri": "https://localhost:8080/"
        },
        "outputId": "dd8c73a5-b2b1-44cd-f133-02e44d620bb0"
      },
      "source": [
        "# Show Missing values\n",
        "ohe_df.isnull().sum()"
      ],
      "execution_count": 120,
      "outputs": [
        {
          "output_type": "execute_result",
          "data": {
            "text/plain": [
              "Age_Cat                                    0\n",
              "Gender_1male                               1\n",
              "Degree_Cat                                 5\n",
              "Farm_size_Cat                              1\n",
              "Income_Cat                                 5\n",
              "Legislative_requirements                  11\n",
              "Computer_at_home                           0\n",
              "Speed_internet_Cat                         0\n",
              "How_do_you_access_DSS_Cat                 15\n",
              "Willing_to_try_new_products_Cat            6\n",
              "Price_important_factor                     3\n",
              "Importance_of_easy_to_use_1to3             9\n",
              "Importance_low_price_1to3                 13\n",
              "Importance_polyvalence_1to3               13\n",
              "Enjoy_using_new_techs_1to3                 2\n",
              "Appreciate_change_1to3                     1\n",
              "Need_IT_teaching_Cat                       2\n",
              "Share_DSS_exp_with_colleague_Cat          13\n",
              "WTP_for_DSS_Cat                            3\n",
              "DSS_must_be_tailored_for_your_farm_Cat     3\n",
              "Manufacturer_demo_of_DSS_Cat               6\n",
              "Region_central_EU                          0\n",
              "Region_north_EU                            0\n",
              "Region_south_EU                            0\n",
              "dtype: int64"
            ]
          },
          "metadata": {
            "tags": []
          },
          "execution_count": 120
        }
      ]
    },
    {
      "cell_type": "code",
      "metadata": {
        "id": "xV8O9ayCl2Ns"
      },
      "source": [
        "#df_noNaN = ohe_df.dropna(how=\"any\").copy()\n",
        "#df_noNaN = ohe_df.copy().fillna(ohe_df.mean())\n",
        "#df_noNaN = ohe_df.copy().fillna(ohe_df.median())\n",
        "#df_noNaN = ohe_df.copy().fillna(ohe_df.mode())\n",
        "#df_noNaN = ohe_df.interpolate(method=\"linear\", axis=0).copy()\n",
        "df_noNaN = df_reducedQ2.dropna(how=\"any\").copy()\n",
        "\n",
        "# try scikit learn"
      ],
      "execution_count": 139,
      "outputs": []
    },
    {
      "cell_type": "code",
      "metadata": {
        "colab": {
          "base_uri": "https://localhost:8080/"
        },
        "id": "qWqOgRootFWS",
        "outputId": "23d238fc-ca81-4a34-ae81-89713032e20d"
      },
      "source": [
        "df_noNaN.isnull().sum()"
      ],
      "execution_count": 140,
      "outputs": [
        {
          "output_type": "execute_result",
          "data": {
            "text/plain": [
              "Age_Cat                                   0\n",
              "Gender_1male                              0\n",
              "Degree_Cat                                0\n",
              "Farm_size_Cat                             0\n",
              "Income_Cat                                0\n",
              "Legislative_requirements                  0\n",
              "Computer_at_home                          0\n",
              "Speed_internet_Cat                        0\n",
              "How_do_you_access_DSS_Cat                 0\n",
              "Willing_to_try_new_products_Cat           0\n",
              "Price_important_factor                    0\n",
              "Importance_of_easy_to_use_1to3            0\n",
              "Importance_low_price_1to3                 0\n",
              "Importance_polyvalence_1to3               0\n",
              "Enjoy_using_new_techs_1to3                0\n",
              "Appreciate_change_1to3                    0\n",
              "Need_IT_teaching_Cat                      0\n",
              "Share_DSS_exp_with_colleague_Cat          0\n",
              "WTP_for_DSS_Cat                           0\n",
              "DSS_must_be_tailored_for_your_farm_Cat    0\n",
              "Manufacturer_demo_of_DSS_Cat              0\n",
              "dtype: int64"
            ]
          },
          "metadata": {
            "tags": []
          },
          "execution_count": 140
        }
      ]
    },
    {
      "cell_type": "code",
      "metadata": {
        "colab": {
          "base_uri": "https://localhost:8080/"
        },
        "id": "UV9s6T-stOYC",
        "outputId": "dcd146f7-c69d-474a-fb38-6bb2c006027c"
      },
      "source": [
        "df_noNaN.shape"
      ],
      "execution_count": 141,
      "outputs": [
        {
          "output_type": "execute_result",
          "data": {
            "text/plain": [
              "(95, 21)"
            ]
          },
          "metadata": {
            "tags": []
          },
          "execution_count": 141
        }
      ]
    },
    {
      "cell_type": "code",
      "metadata": {
        "id": "o_Sl09elfyIU",
        "outputId": "c88a6dd8-1d68-4ceb-f797-b68cfa6e97a1",
        "colab": {
          "base_uri": "https://localhost:8080/"
        }
      },
      "source": [
        "df_noNaN.dtypes"
      ],
      "execution_count": 142,
      "outputs": [
        {
          "output_type": "execute_result",
          "data": {
            "text/plain": [
              "Age_Cat                                     int64\n",
              "Gender_1male                              float64\n",
              "Degree_Cat                                float64\n",
              "Farm_size_Cat                             float64\n",
              "Income_Cat                                float64\n",
              "Legislative_requirements                  float64\n",
              "Computer_at_home                            int64\n",
              "Speed_internet_Cat                          int64\n",
              "How_do_you_access_DSS_Cat                 float64\n",
              "Willing_to_try_new_products_Cat           float64\n",
              "Price_important_factor                    float64\n",
              "Importance_of_easy_to_use_1to3            float64\n",
              "Importance_low_price_1to3                 float64\n",
              "Importance_polyvalence_1to3               float64\n",
              "Enjoy_using_new_techs_1to3                float64\n",
              "Appreciate_change_1to3                    float64\n",
              "Need_IT_teaching_Cat                      float64\n",
              "Share_DSS_exp_with_colleague_Cat          float64\n",
              "WTP_for_DSS_Cat                           float64\n",
              "DSS_must_be_tailored_for_your_farm_Cat    float64\n",
              "Manufacturer_demo_of_DSS_Cat              float64\n",
              "dtype: object"
            ]
          },
          "metadata": {
            "tags": []
          },
          "execution_count": 142
        }
      ]
    },
    {
      "cell_type": "code",
      "metadata": {
        "id": "ibRDdThYfwgG",
        "outputId": "8d8b4c4f-5809-4e58-ee69-f79806dcd5c4",
        "colab": {
          "base_uri": "https://localhost:8080/",
          "height": 439
        }
      },
      "source": [
        "df_noNaN = df_noNaN.astype(\"int64\")\n",
        "df_noNaN"
      ],
      "execution_count": 143,
      "outputs": [
        {
          "output_type": "execute_result",
          "data": {
            "text/html": [
              "<div>\n",
              "<style scoped>\n",
              "    .dataframe tbody tr th:only-of-type {\n",
              "        vertical-align: middle;\n",
              "    }\n",
              "\n",
              "    .dataframe tbody tr th {\n",
              "        vertical-align: top;\n",
              "    }\n",
              "\n",
              "    .dataframe thead th {\n",
              "        text-align: right;\n",
              "    }\n",
              "</style>\n",
              "<table border=\"1\" class=\"dataframe\">\n",
              "  <thead>\n",
              "    <tr style=\"text-align: right;\">\n",
              "      <th></th>\n",
              "      <th>Age_Cat</th>\n",
              "      <th>Gender_1male</th>\n",
              "      <th>Degree_Cat</th>\n",
              "      <th>Farm_size_Cat</th>\n",
              "      <th>Income_Cat</th>\n",
              "      <th>Legislative_requirements</th>\n",
              "      <th>Computer_at_home</th>\n",
              "      <th>Speed_internet_Cat</th>\n",
              "      <th>How_do_you_access_DSS_Cat</th>\n",
              "      <th>Willing_to_try_new_products_Cat</th>\n",
              "      <th>Price_important_factor</th>\n",
              "      <th>Importance_of_easy_to_use_1to3</th>\n",
              "      <th>Importance_low_price_1to3</th>\n",
              "      <th>Importance_polyvalence_1to3</th>\n",
              "      <th>Enjoy_using_new_techs_1to3</th>\n",
              "      <th>Appreciate_change_1to3</th>\n",
              "      <th>Need_IT_teaching_Cat</th>\n",
              "      <th>Share_DSS_exp_with_colleague_Cat</th>\n",
              "      <th>WTP_for_DSS_Cat</th>\n",
              "      <th>DSS_must_be_tailored_for_your_farm_Cat</th>\n",
              "      <th>Manufacturer_demo_of_DSS_Cat</th>\n",
              "    </tr>\n",
              "  </thead>\n",
              "  <tbody>\n",
              "    <tr>\n",
              "      <th>2</th>\n",
              "      <td>2</td>\n",
              "      <td>1</td>\n",
              "      <td>2</td>\n",
              "      <td>5</td>\n",
              "      <td>2</td>\n",
              "      <td>1</td>\n",
              "      <td>1</td>\n",
              "      <td>2</td>\n",
              "      <td>1</td>\n",
              "      <td>1</td>\n",
              "      <td>1</td>\n",
              "      <td>3</td>\n",
              "      <td>2</td>\n",
              "      <td>3</td>\n",
              "      <td>1</td>\n",
              "      <td>1</td>\n",
              "      <td>2</td>\n",
              "      <td>1</td>\n",
              "      <td>2</td>\n",
              "      <td>2</td>\n",
              "      <td>2</td>\n",
              "    </tr>\n",
              "    <tr>\n",
              "      <th>4</th>\n",
              "      <td>2</td>\n",
              "      <td>1</td>\n",
              "      <td>2</td>\n",
              "      <td>5</td>\n",
              "      <td>5</td>\n",
              "      <td>1</td>\n",
              "      <td>1</td>\n",
              "      <td>2</td>\n",
              "      <td>3</td>\n",
              "      <td>1</td>\n",
              "      <td>1</td>\n",
              "      <td>3</td>\n",
              "      <td>1</td>\n",
              "      <td>2</td>\n",
              "      <td>2</td>\n",
              "      <td>1</td>\n",
              "      <td>2</td>\n",
              "      <td>3</td>\n",
              "      <td>3</td>\n",
              "      <td>2</td>\n",
              "      <td>2</td>\n",
              "    </tr>\n",
              "    <tr>\n",
              "      <th>5</th>\n",
              "      <td>1</td>\n",
              "      <td>1</td>\n",
              "      <td>2</td>\n",
              "      <td>2</td>\n",
              "      <td>1</td>\n",
              "      <td>0</td>\n",
              "      <td>1</td>\n",
              "      <td>3</td>\n",
              "      <td>2</td>\n",
              "      <td>2</td>\n",
              "      <td>1</td>\n",
              "      <td>3</td>\n",
              "      <td>3</td>\n",
              "      <td>3</td>\n",
              "      <td>2</td>\n",
              "      <td>2</td>\n",
              "      <td>1</td>\n",
              "      <td>2</td>\n",
              "      <td>2</td>\n",
              "      <td>3</td>\n",
              "      <td>2</td>\n",
              "    </tr>\n",
              "    <tr>\n",
              "      <th>6</th>\n",
              "      <td>1</td>\n",
              "      <td>1</td>\n",
              "      <td>2</td>\n",
              "      <td>3</td>\n",
              "      <td>1</td>\n",
              "      <td>0</td>\n",
              "      <td>1</td>\n",
              "      <td>2</td>\n",
              "      <td>2</td>\n",
              "      <td>2</td>\n",
              "      <td>1</td>\n",
              "      <td>2</td>\n",
              "      <td>2</td>\n",
              "      <td>2</td>\n",
              "      <td>3</td>\n",
              "      <td>2</td>\n",
              "      <td>2</td>\n",
              "      <td>2</td>\n",
              "      <td>2</td>\n",
              "      <td>1</td>\n",
              "      <td>1</td>\n",
              "    </tr>\n",
              "    <tr>\n",
              "      <th>7</th>\n",
              "      <td>2</td>\n",
              "      <td>1</td>\n",
              "      <td>4</td>\n",
              "      <td>5</td>\n",
              "      <td>2</td>\n",
              "      <td>0</td>\n",
              "      <td>1</td>\n",
              "      <td>3</td>\n",
              "      <td>3</td>\n",
              "      <td>2</td>\n",
              "      <td>1</td>\n",
              "      <td>3</td>\n",
              "      <td>2</td>\n",
              "      <td>1</td>\n",
              "      <td>3</td>\n",
              "      <td>2</td>\n",
              "      <td>2</td>\n",
              "      <td>1</td>\n",
              "      <td>2</td>\n",
              "      <td>2</td>\n",
              "      <td>2</td>\n",
              "    </tr>\n",
              "    <tr>\n",
              "      <th>...</th>\n",
              "      <td>...</td>\n",
              "      <td>...</td>\n",
              "      <td>...</td>\n",
              "      <td>...</td>\n",
              "      <td>...</td>\n",
              "      <td>...</td>\n",
              "      <td>...</td>\n",
              "      <td>...</td>\n",
              "      <td>...</td>\n",
              "      <td>...</td>\n",
              "      <td>...</td>\n",
              "      <td>...</td>\n",
              "      <td>...</td>\n",
              "      <td>...</td>\n",
              "      <td>...</td>\n",
              "      <td>...</td>\n",
              "      <td>...</td>\n",
              "      <td>...</td>\n",
              "      <td>...</td>\n",
              "      <td>...</td>\n",
              "      <td>...</td>\n",
              "    </tr>\n",
              "    <tr>\n",
              "      <th>126</th>\n",
              "      <td>4</td>\n",
              "      <td>1</td>\n",
              "      <td>2</td>\n",
              "      <td>5</td>\n",
              "      <td>2</td>\n",
              "      <td>1</td>\n",
              "      <td>1</td>\n",
              "      <td>1</td>\n",
              "      <td>3</td>\n",
              "      <td>2</td>\n",
              "      <td>1</td>\n",
              "      <td>3</td>\n",
              "      <td>1</td>\n",
              "      <td>2</td>\n",
              "      <td>2</td>\n",
              "      <td>2</td>\n",
              "      <td>2</td>\n",
              "      <td>2</td>\n",
              "      <td>3</td>\n",
              "      <td>3</td>\n",
              "      <td>2</td>\n",
              "    </tr>\n",
              "    <tr>\n",
              "      <th>128</th>\n",
              "      <td>1</td>\n",
              "      <td>1</td>\n",
              "      <td>2</td>\n",
              "      <td>1</td>\n",
              "      <td>1</td>\n",
              "      <td>0</td>\n",
              "      <td>1</td>\n",
              "      <td>2</td>\n",
              "      <td>2</td>\n",
              "      <td>1</td>\n",
              "      <td>1</td>\n",
              "      <td>2</td>\n",
              "      <td>2</td>\n",
              "      <td>2</td>\n",
              "      <td>2</td>\n",
              "      <td>2</td>\n",
              "      <td>2</td>\n",
              "      <td>1</td>\n",
              "      <td>2</td>\n",
              "      <td>2</td>\n",
              "      <td>2</td>\n",
              "    </tr>\n",
              "    <tr>\n",
              "      <th>135</th>\n",
              "      <td>3</td>\n",
              "      <td>1</td>\n",
              "      <td>2</td>\n",
              "      <td>3</td>\n",
              "      <td>3</td>\n",
              "      <td>0</td>\n",
              "      <td>1</td>\n",
              "      <td>2</td>\n",
              "      <td>3</td>\n",
              "      <td>1</td>\n",
              "      <td>1</td>\n",
              "      <td>2</td>\n",
              "      <td>1</td>\n",
              "      <td>2</td>\n",
              "      <td>1</td>\n",
              "      <td>1</td>\n",
              "      <td>2</td>\n",
              "      <td>2</td>\n",
              "      <td>2</td>\n",
              "      <td>1</td>\n",
              "      <td>1</td>\n",
              "    </tr>\n",
              "    <tr>\n",
              "      <th>137</th>\n",
              "      <td>1</td>\n",
              "      <td>1</td>\n",
              "      <td>1</td>\n",
              "      <td>5</td>\n",
              "      <td>4</td>\n",
              "      <td>0</td>\n",
              "      <td>1</td>\n",
              "      <td>3</td>\n",
              "      <td>2</td>\n",
              "      <td>1</td>\n",
              "      <td>0</td>\n",
              "      <td>1</td>\n",
              "      <td>1</td>\n",
              "      <td>2</td>\n",
              "      <td>2</td>\n",
              "      <td>1</td>\n",
              "      <td>2</td>\n",
              "      <td>1</td>\n",
              "      <td>3</td>\n",
              "      <td>2</td>\n",
              "      <td>2</td>\n",
              "    </tr>\n",
              "    <tr>\n",
              "      <th>148</th>\n",
              "      <td>2</td>\n",
              "      <td>1</td>\n",
              "      <td>3</td>\n",
              "      <td>5</td>\n",
              "      <td>2</td>\n",
              "      <td>1</td>\n",
              "      <td>1</td>\n",
              "      <td>2</td>\n",
              "      <td>3</td>\n",
              "      <td>1</td>\n",
              "      <td>1</td>\n",
              "      <td>1</td>\n",
              "      <td>2</td>\n",
              "      <td>3</td>\n",
              "      <td>2</td>\n",
              "      <td>2</td>\n",
              "      <td>2</td>\n",
              "      <td>3</td>\n",
              "      <td>2</td>\n",
              "      <td>2</td>\n",
              "      <td>1</td>\n",
              "    </tr>\n",
              "  </tbody>\n",
              "</table>\n",
              "<p>95 rows × 21 columns</p>\n",
              "</div>"
            ],
            "text/plain": [
              "     Age_Cat  Gender_1male  Degree_Cat  Farm_size_Cat  Income_Cat  \\\n",
              "2          2             1           2              5           2   \n",
              "4          2             1           2              5           5   \n",
              "5          1             1           2              2           1   \n",
              "6          1             1           2              3           1   \n",
              "7          2             1           4              5           2   \n",
              "..       ...           ...         ...            ...         ...   \n",
              "126        4             1           2              5           2   \n",
              "128        1             1           2              1           1   \n",
              "135        3             1           2              3           3   \n",
              "137        1             1           1              5           4   \n",
              "148        2             1           3              5           2   \n",
              "\n",
              "     Legislative_requirements  Computer_at_home  Speed_internet_Cat  \\\n",
              "2                           1                 1                   2   \n",
              "4                           1                 1                   2   \n",
              "5                           0                 1                   3   \n",
              "6                           0                 1                   2   \n",
              "7                           0                 1                   3   \n",
              "..                        ...               ...                 ...   \n",
              "126                         1                 1                   1   \n",
              "128                         0                 1                   2   \n",
              "135                         0                 1                   2   \n",
              "137                         0                 1                   3   \n",
              "148                         1                 1                   2   \n",
              "\n",
              "     How_do_you_access_DSS_Cat  Willing_to_try_new_products_Cat  \\\n",
              "2                            1                                1   \n",
              "4                            3                                1   \n",
              "5                            2                                2   \n",
              "6                            2                                2   \n",
              "7                            3                                2   \n",
              "..                         ...                              ...   \n",
              "126                          3                                2   \n",
              "128                          2                                1   \n",
              "135                          3                                1   \n",
              "137                          2                                1   \n",
              "148                          3                                1   \n",
              "\n",
              "     Price_important_factor  Importance_of_easy_to_use_1to3  \\\n",
              "2                         1                               3   \n",
              "4                         1                               3   \n",
              "5                         1                               3   \n",
              "6                         1                               2   \n",
              "7                         1                               3   \n",
              "..                      ...                             ...   \n",
              "126                       1                               3   \n",
              "128                       1                               2   \n",
              "135                       1                               2   \n",
              "137                       0                               1   \n",
              "148                       1                               1   \n",
              "\n",
              "     Importance_low_price_1to3  Importance_polyvalence_1to3  \\\n",
              "2                            2                            3   \n",
              "4                            1                            2   \n",
              "5                            3                            3   \n",
              "6                            2                            2   \n",
              "7                            2                            1   \n",
              "..                         ...                          ...   \n",
              "126                          1                            2   \n",
              "128                          2                            2   \n",
              "135                          1                            2   \n",
              "137                          1                            2   \n",
              "148                          2                            3   \n",
              "\n",
              "     Enjoy_using_new_techs_1to3  Appreciate_change_1to3  Need_IT_teaching_Cat  \\\n",
              "2                             1                       1                     2   \n",
              "4                             2                       1                     2   \n",
              "5                             2                       2                     1   \n",
              "6                             3                       2                     2   \n",
              "7                             3                       2                     2   \n",
              "..                          ...                     ...                   ...   \n",
              "126                           2                       2                     2   \n",
              "128                           2                       2                     2   \n",
              "135                           1                       1                     2   \n",
              "137                           2                       1                     2   \n",
              "148                           2                       2                     2   \n",
              "\n",
              "     Share_DSS_exp_with_colleague_Cat  WTP_for_DSS_Cat  \\\n",
              "2                                   1                2   \n",
              "4                                   3                3   \n",
              "5                                   2                2   \n",
              "6                                   2                2   \n",
              "7                                   1                2   \n",
              "..                                ...              ...   \n",
              "126                                 2                3   \n",
              "128                                 1                2   \n",
              "135                                 2                2   \n",
              "137                                 1                3   \n",
              "148                                 3                2   \n",
              "\n",
              "     DSS_must_be_tailored_for_your_farm_Cat  Manufacturer_demo_of_DSS_Cat  \n",
              "2                                         2                             2  \n",
              "4                                         2                             2  \n",
              "5                                         3                             2  \n",
              "6                                         1                             1  \n",
              "7                                         2                             2  \n",
              "..                                      ...                           ...  \n",
              "126                                       3                             2  \n",
              "128                                       2                             2  \n",
              "135                                       1                             1  \n",
              "137                                       2                             2  \n",
              "148                                       2                             1  \n",
              "\n",
              "[95 rows x 21 columns]"
            ]
          },
          "metadata": {
            "tags": []
          },
          "execution_count": 143
        }
      ]
    },
    {
      "cell_type": "code",
      "metadata": {
        "id": "Qf-F8Jbzf_ln",
        "outputId": "74221458-42bb-4eef-a87a-1bcc464cc4ca",
        "colab": {
          "base_uri": "https://localhost:8080/"
        }
      },
      "source": [
        "df_noNaN.dtypes"
      ],
      "execution_count": 144,
      "outputs": [
        {
          "output_type": "execute_result",
          "data": {
            "text/plain": [
              "Age_Cat                                   int64\n",
              "Gender_1male                              int64\n",
              "Degree_Cat                                int64\n",
              "Farm_size_Cat                             int64\n",
              "Income_Cat                                int64\n",
              "Legislative_requirements                  int64\n",
              "Computer_at_home                          int64\n",
              "Speed_internet_Cat                        int64\n",
              "How_do_you_access_DSS_Cat                 int64\n",
              "Willing_to_try_new_products_Cat           int64\n",
              "Price_important_factor                    int64\n",
              "Importance_of_easy_to_use_1to3            int64\n",
              "Importance_low_price_1to3                 int64\n",
              "Importance_polyvalence_1to3               int64\n",
              "Enjoy_using_new_techs_1to3                int64\n",
              "Appreciate_change_1to3                    int64\n",
              "Need_IT_teaching_Cat                      int64\n",
              "Share_DSS_exp_with_colleague_Cat          int64\n",
              "WTP_for_DSS_Cat                           int64\n",
              "DSS_must_be_tailored_for_your_farm_Cat    int64\n",
              "Manufacturer_demo_of_DSS_Cat              int64\n",
              "dtype: object"
            ]
          },
          "metadata": {
            "tags": []
          },
          "execution_count": 144
        }
      ]
    },
    {
      "cell_type": "markdown",
      "metadata": {
        "id": "PSEfCZT_l2Ns"
      },
      "source": [
        "### Changing data types to categorical (ordinal) and separating dataframes"
      ]
    },
    {
      "cell_type": "code",
      "metadata": {
        "id": "pQDtZ_EPl2Nt",
        "collapsed": true,
        "outputId": "5256d62e-3990-46a0-a6b2-b4d99bf1fc7f",
        "colab": {
          "base_uri": "https://localhost:8080/",
          "height": 154
        }
      },
      "source": [
        "\"\"\"\n",
        "# Make CategoricalDtype parameter for ordered features.\n",
        "oct = CategoricalDtype(ordered=True) \n",
        "\n",
        "# Make df with all unordered categorical data\n",
        "uo_cat_df = ohe_df.astype(\"category\")\n",
        "\n",
        "# Make final cat_df with unordered and ordered categorical features and two numeric features\n",
        "cat_df = uo_cat_df\n",
        "cat_df[num_feat] = cat_df[num_feat].astype(\"float64\")\n",
        "\n",
        "# {name: oct for name in ord_feat}\n",
        "cat_df = cat_df.astype({\"Age_Cat\":oct, \"Degree_Cat\":oct, \"Farm_size_Cat\":oct, \"Income_Cat\":oct, \"Production_level_1to3\":oct, \"Agricultural_app_use_Cat\":oct,\n",
        "                       \"Speed_internet_Cat\":oct, \"How_do_you_access_DSS_Cat\":oct, \"Importance_of_easy_to_use_1to3\":oct, \"Importance_of_efficient_1to3\":oct, \n",
        "                        \"Importance_low_price_1to3\":oct, \"Importance_polyvalence_1to3\":oct, \"Enjoy_using_new_techs_1to3\":oct, \"Appreciate_change_1to3\":oct, \n",
        "                        \"Trust_in_DSS_1to3\": oct, \"Trust_in_colleague_advice_1to3\":oct, \"Trust_advice_friend_1to3\":oct, \"Need_IT_teaching_Cat\":oct,\n",
        "                        \"DSS_must_be_tailored_for_your_farm_Cat\":oct, \"Marketing_info_about_DSS_Cat\":oct\n",
        "                       })\n",
        "\"\"\""
      ],
      "execution_count": 74,
      "outputs": [
        {
          "output_type": "execute_result",
          "data": {
            "application/vnd.google.colaboratory.intrinsic+json": {
              "type": "string"
            },
            "text/plain": [
              "'\\n# Make CategoricalDtype parameter for ordered features.\\noct = CategoricalDtype(ordered=True) \\n\\n# Make df with all unordered categorical data\\nuo_cat_df = ohe_df.astype(\"category\")\\n\\n# Make final cat_df with unordered and ordered categorical features and two numeric features\\ncat_df = uo_cat_df\\ncat_df[num_feat] = cat_df[num_feat].astype(\"float64\")\\n\\n# {name: oct for name in ord_feat}\\ncat_df = cat_df.astype({\"Age_Cat\":oct, \"Degree_Cat\":oct, \"Farm_size_Cat\":oct, \"Income_Cat\":oct, \"Production_level_1to3\":oct, \"Agricultural_app_use_Cat\":oct,\\n                       \"Speed_internet_Cat\":oct, \"How_do_you_access_DSS_Cat\":oct, \"Importance_of_easy_to_use_1to3\":oct, \"Importance_of_efficient_1to3\":oct, \\n                        \"Importance_low_price_1to3\":oct, \"Importance_polyvalence_1to3\":oct, \"Enjoy_using_new_techs_1to3\":oct, \"Appreciate_change_1to3\":oct, \\n                        \"Trust_in_DSS_1to3\": oct, \"Trust_in_colleague_advice_1to3\":oct, \"Trust_advice_friend_1to3\":oct, \"Need_IT_teaching_Cat\":oct,\\n                        \"DSS_must_be_tailored_for_your_farm_Cat\":oct, \"Marketing_info_about_DSS_Cat\":oct\\n                       })\\n'"
            ]
          },
          "metadata": {
            "tags": []
          },
          "execution_count": 74
        }
      ]
    },
    {
      "cell_type": "code",
      "metadata": {
        "id": "CR5uQ0DFl2Nt"
      },
      "source": [
        "# # List of ordinal features\n",
        "# ord_feat = [\"Age_Cat\", \"Degree_Cat\", \"Farm_size_Cat\", \"Income_Cat\", \"Production_level_1to3\", \"Agricultural_app_use_Cat\", \"Speed_internet_Cat\", \n",
        "#             \"How_do_you_access_DSS_Cat\", \"Importance_of_easy_to_use_1to3\", \"Importance_of_efficient_1to3\", \"Importance_low_price_1to3\", \n",
        "#             \"Importance_polyvalence_1to3\", \"Enjoy_using_new_techs_1to3\", \"Appreciate_change_1to3\", \"Trust_in_DSS_1to3\", \"Trust_in_colleague_advice_1to3\", \n",
        "#             \"Trust_advice_friend_1to3\", \"Need_IT_teaching_Cat\",\"DSS_can_improve_your_productivity_Cat\", \"Share_DSS_exp_with_colleague_Cat\", \n",
        "#             \"WTP_for_DSS_Cat\", \"DSS_must_be_tailored_for_your_farm_Cat\", \"Marketing_info_about_DSS_Cat\"]\n",
        "\n",
        "# # List of numeric features\n",
        "# num_feat = [\"Years_own_phone\", \"Proportion_of_income\"]\n",
        "\n",
        "# # nom_feat = []"
      ],
      "execution_count": 75,
      "outputs": []
    },
    {
      "cell_type": "code",
      "metadata": {
        "id": "OKOE6OA3uP5B"
      },
      "source": [
        "# Adapted for Question #2 \"How do you access DSS\"\n",
        "# List of ordinal features\n",
        "old_ord_feat = [\"Age_Cat\", \"Degree_Cat\", \"Farm_size_Cat\", \"Income_Cat\", \"Production_level_1to3\", \"Agricultural_app_use_Cat\", \"Speed_internet_Cat\", \n",
        "            \"How_do_you_access_DSS_Cat\", \"Importance_of_easy_to_use_1to3\", \"Importance_of_efficient_1to3\", \"Importance_low_price_1to3\", \n",
        "            \"Importance_polyvalence_1to3\", \"Enjoy_using_new_techs_1to3\", \"Appreciate_change_1to3\", \"Trust_in_DSS_1to3\", \"Trust_in_colleague_advice_1to3\", \n",
        "            \"Trust_advice_friend_1to3\", \"Need_IT_teaching_Cat\",\"DSS_can_improve_your_productivity_Cat\", \"Share_DSS_exp_with_colleague_Cat\", \n",
        "            \"WTP_for_DSS_Cat\", \"DSS_must_be_tailored_for_your_farm_Cat\", \"Marketing_info_about_DSS_Cat\", \"Manufacturer_demo_of_DSS_Cat\"]\n",
        "\n",
        "ord_feat = [_ for _ in old_ord_feat if _ not in removed_featuresQ2]\n",
        "ord_feat\n",
        "\n",
        "# No numeric features\n",
        "#num_feat = [\"Years_own_phone\", \"Proportion_of_income\"]\n",
        "\n",
        "nom_feat = []"
      ],
      "execution_count": 145,
      "outputs": []
    },
    {
      "cell_type": "code",
      "metadata": {
        "id": "_r0s5KtBl2Nu"
      },
      "source": [
        "# df with ordinal and numeric featureas only\n",
        "#ordnum_df = pd.concat([df_noNaN[ord_feat], df_noNaN[num_feat]], axis=1).copy()\n",
        "ordnum_df = df_noNaN[ord_feat]\n",
        "\n",
        "# Extract column names\n",
        "all_col_names = list(df_noNaN.columns)\n",
        "ordnum_col_names = list(ordnum_df.columns)\n",
        "nom_col_names = [_ for _ in all_col_names if _ not in ordnum_col_names]\n",
        "\n",
        "# List of nominal features\n",
        "nom_feat = nom_col_names.copy()\n",
        "\n",
        "# df with nominal features only (all but two (\"Crop_Group_Cat\" and \"Willing_to_try_new_products_Cat\") are binary)\n",
        "# binarizarja ta dva\n",
        "nom_df = df_noNaN[nom_col_names]"
      ],
      "execution_count": 146,
      "outputs": []
    },
    {
      "cell_type": "markdown",
      "metadata": {
        "id": "s0YJRtEPvdzU"
      },
      "source": [
        "# Dimensionality reduction"
      ]
    },
    {
      "cell_type": "markdown",
      "metadata": {
        "id": "ZqAja1cXl2Nv"
      },
      "source": [
        "### Ordinal and numeric features"
      ]
    },
    {
      "cell_type": "code",
      "metadata": {
        "id": "V1svODxIWrh3",
        "outputId": "9e2fe5de-3eb3-449b-963f-3f95d6b51dbb",
        "colab": {
          "base_uri": "https://localhost:8080/",
          "height": 464
        }
      },
      "source": [
        "# Standardisation\n",
        "scaled_array = StandardScaler().fit_transform(ordnum_df)\n",
        "scaled_df = pd.DataFrame(scaled_array, columns=ordnum_df.columns)\n",
        "\n",
        "# Mapping\n",
        "reducer = umap.UMAP(n_neighbors=4, min_dist=0.1, n_components=2, metric=\"chebyshev\", random_state=123)\n",
        "ord_embedding = reducer.fit_transform(scaled_df)\n",
        "\n",
        "sns.set(style='white', context='notebook', rc={'figure.figsize':(14,10)})\n",
        "fig, ax = plt.subplots(figsize=(7,7))\n",
        "xs = ord_embedding[:, 0]\n",
        "ys = ord_embedding[:, 1] \n",
        "\n",
        "ax.scatter(xs, ys, c=[sns.color_palette()[int(x)] for x in ordnum_df['How_do_you_access_DSS_Cat']])\n",
        "\n",
        "for i, val in enumerate(df_noNaN[\"Income_Cat\"].values.tolist()):\n",
        "    ax.annotate(str(int(val)), (xs[i], ys[i]), fontsize=9)\n",
        "plt.title('UMAP projection of ordinal IPM farmers data')"
      ],
      "execution_count": 147,
      "outputs": [
        {
          "output_type": "execute_result",
          "data": {
            "text/plain": [
              "Text(0.5, 1.0, 'UMAP projection of ordinal IPM farmers data')"
            ]
          },
          "metadata": {
            "tags": []
          },
          "execution_count": 147
        },
        {
          "output_type": "display_data",
          "data": {
            "image/png": "[encoded data removed]",
            "text/plain": [
              "<Figure size 504x504 with 1 Axes>"
            ]
          },
          "metadata": {
            "tags": []
          }
        }
      ]
    },
    {
      "cell_type": "markdown",
      "metadata": {
        "id": "ckHl71Acl2Nv"
      },
      "source": [
        "### Nominal features"
      ]
    },
    {
      "cell_type": "code",
      "metadata": {
        "id": "nzzM68bcl2Nv",
        "colab": {
          "base_uri": "https://localhost:8080/",
          "height": 532
        },
        "outputId": "d6e18fae-7f02-4c5c-f6df-bd8dc84f310d"
      },
      "source": [
        "# scaled_array = StandardScaler().fit_transform(nom_df)\n",
        "# scaled_df = pd.DataFrame(scaled_array, columns=nom_df.columns)\n",
        "\n",
        "reducer = umap.UMAP(n_neighbors=10, min_dist=0.1, n_components=2, metric=\"dice\", random_state=123)\n",
        "nom_embedding = reducer.fit_transform(nom_df)\n",
        "\n",
        "fig, ax = plt.subplots(figsize=(7,7))\n",
        "xs = nom_embedding[:, 0]\n",
        "ys = nom_embedding[:, 1] \n",
        "\n",
        "ax.scatter(xs, ys, c=[sns.color_palette()[int(x)] for x in nom_df['Willing_to_try_new_products_Cat']])\n",
        "\n",
        "for i, val in enumerate(df_noNaN['Income_Cat'].values.tolist()):\n",
        "    ax.annotate(str(int(val)), (xs[i], ys[i]), fontsize=9)\n",
        "plt.title('UMAP projection of nominal IPM farmers data')\n",
        "\n",
        "# naredi for loop da odstranjaš posamično atribute"
      ],
      "execution_count": 148,
      "outputs": [
        {
          "output_type": "stream",
          "text": [
            "/usr/local/lib/python3.7/dist-packages/umap/umap_.py:1762: UserWarning:\n",
            "\n",
            "gradient function is not yet implemented for dice distance metric; inverse_transform will be unavailable\n",
            "\n"
          ],
          "name": "stderr"
        },
        {
          "output_type": "execute_result",
          "data": {
            "text/plain": [
              "Text(0.5, 1.0, 'UMAP projection of nominal IPM farmers data')"
            ]
          },
          "metadata": {
            "tags": []
          },
          "execution_count": 148
        },
        {
          "output_type": "display_data",
          "data": {
            "image/png": "[encoded data removed]",
            "text/plain": [
              "<Figure size 504x504 with 1 Axes>"
            ]
          },
          "metadata": {
            "tags": []
          }
        }
      ]
    },
    {
      "cell_type": "markdown",
      "metadata": {
        "id": "5xE9G0XHl2Nw"
      },
      "source": [
        "### Combine nominal and ordinal/numeric feature maps"
      ]
    },
    {
      "cell_type": "code",
      "metadata": {
        "id": "NvMmOL7Sl2Nw"
      },
      "source": [
        "# combine mappings\n",
        "intersection_embedding = nom_embedding * ord_embedding\n",
        "union_embedding = nom_embedding + ord_embedding"
      ],
      "execution_count": 80,
      "outputs": []
    },
    {
      "cell_type": "code",
      "metadata": {
        "id": "cv-qnMwYl2Nx",
        "outputId": "c113cb1e-a257-4ca3-af6a-3aeb925f9ebb",
        "colab": {
          "base_uri": "https://localhost:8080/",
          "height": 464
        }
      },
      "source": [
        "# plot intersection 2D embedding\n",
        "fig, ax = plt.subplots(figsize=(7,7))\n",
        "xs = intersection_embedding[:, 0]\n",
        "ys = intersection_embedding[:, 1] \n",
        "\n",
        "ax.scatter(xs, ys, c=[sns.color_palette()[int(x)] for x in df_noNaN['How_do_you_access_DSS_Cat']])\n",
        "\n",
        "for i, val in enumerate(df_noNaN['Income_Cat'].values.tolist()):\n",
        "    ax.annotate(str(int(val)), (xs[i], ys[i]), fontsize=9)\n",
        "plt.title('UMAP projection of IPM farmers intersection data')"
      ],
      "execution_count": 81,
      "outputs": [
        {
          "output_type": "execute_result",
          "data": {
            "text/plain": [
              "Text(0.5, 1.0, 'UMAP projection of IPM farmers intersection data')"
            ]
          },
          "metadata": {
            "tags": []
          },
          "execution_count": 81
        },
        {
          "output_type": "display_data",
          "data": {
            "image/png": "[encoded data removed]",
            "text/plain": [
              "<Figure size 504x504 with 1 Axes>"
            ]
          },
          "metadata": {
            "tags": []
          }
        }
      ]
    },
    {
      "cell_type": "code",
      "metadata": {
        "id": "-5FJameXl2Nw",
        "outputId": "b8af80f1-e682-4824-9ff3-d88a07bcd1b3",
        "colab": {
          "base_uri": "https://localhost:8080/",
          "height": 464
        }
      },
      "source": [
        "# plot union 2D embedding\n",
        "fig, ax = plt.subplots(figsize=(7,7))\n",
        "xs = union_embedding[:, 0]\n",
        "ys = union_embedding[:, 1] \n",
        "\n",
        "ax.scatter(xs, ys, c=[sns.color_palette()[int(x)] for x in df_noNaN['How_do_you_access_DSS_Cat']])\n",
        "\n",
        "for i, val in enumerate(df_noNaN['Income_Cat'].values.tolist()):\n",
        "    ax.annotate(str(int(val)), (xs[i], ys[i]), fontsize=9)\n",
        "plt.title('UMAP projection of IPM farmers union data')"
      ],
      "execution_count": 82,
      "outputs": [
        {
          "output_type": "execute_result",
          "data": {
            "text/plain": [
              "Text(0.5, 1.0, 'UMAP projection of IPM farmers union data')"
            ]
          },
          "metadata": {
            "tags": []
          },
          "execution_count": 82
        },
        {
          "output_type": "display_data",
          "data": {
            "image/png": "[encoded data removed]",
            "text/plain": [
              "<Figure size 504x504 with 1 Axes>"
            ]
          },
          "metadata": {
            "tags": []
          }
        }
      ]
    },
    {
      "cell_type": "markdown",
      "metadata": {
        "id": "1coJnky8vgQC"
      },
      "source": [
        "# CLUSTERING"
      ]
    },
    {
      "cell_type": "markdown",
      "metadata": {
        "id": "1hDB6MaWSe8g"
      },
      "source": [
        "Probaj clustering brez dim reduction"
      ]
    },
    {
      "cell_type": "code",
      "metadata": {
        "id": "RhuVUl9Dl2Nx",
        "outputId": "bc020193-434e-4677-a248-64f5ec51752d",
        "colab": {
          "base_uri": "https://localhost:8080/",
          "height": 464
        }
      },
      "source": [
        "# k-means clustering 2D intersection emnbedding\n",
        "km_inters_clusters = cluster.KMeans(n_clusters=3).fit_predict(intersection_embedding)\n",
        "\n",
        "# plot\n",
        "fig, ax = plt.subplots(figsize=(7,7))\n",
        "ax.scatter(intersection_embedding[:, 0], intersection_embedding[:, 1], c=km_inters_clusters, s=30, cmap='cool')\n",
        "\n",
        "# Add cluster text\n",
        "for i, val in enumerate(km_inters_clusters.tolist()):\n",
        "    ax.annotate(str(int(val)), (intersection_embedding[:, 0][i], intersection_embedding[:, 1][i]), fontsize=10)\n",
        "plt.title('K-means clusters of UMAP projection of IPM farmers intersection data')"
      ],
      "execution_count": 83,
      "outputs": [
        {
          "output_type": "execute_result",
          "data": {
            "text/plain": [
              "Text(0.5, 1.0, 'K-means clusters of UMAP projection of IPM farmers intersection data')"
            ]
          },
          "metadata": {
            "tags": []
          },
          "execution_count": 83
        },
        {
          "output_type": "display_data",
          "data": {
            "image/png": "[encoded data removed]",
            "text/plain": [
              "<Figure size 504x504 with 1 Axes>"
            ]
          },
          "metadata": {
            "tags": []
          }
        }
      ]
    },
    {
      "cell_type": "code",
      "metadata": {
        "id": "JyUk7XEpl2Nx",
        "outputId": "679662b5-bbac-4f64-b71e-114340ebc350",
        "colab": {
          "base_uri": "https://localhost:8080/",
          "height": 501
        }
      },
      "source": [
        "# hdbscan clustering 2D intersection emnbedding\n",
        "clusterer = hdbscan.HDBSCAN(min_cluster_size=6, min_samples=2)\n",
        "hdbscan_inters_clusters = clusterer.fit_predict(intersection_embedding)\n",
        "\n",
        "fig, ax = plt.subplots(figsize=(7,7))\n",
        "\n",
        "clustered = (hdbscan_inters_clusters >= 0)\n",
        "ax.scatter(intersection_embedding[~clustered, 0],\n",
        "            intersection_embedding[~clustered, 1],\n",
        "            c=(0.5, 0.5, 0.5),\n",
        "            s=50,\n",
        "            alpha=0.3)\n",
        "\n",
        "ax.scatter(intersection_embedding[clustered, 0],\n",
        "            intersection_embedding[clustered, 1],\n",
        "            c=hdbscan_inters_clusters[clustered],\n",
        "            s=50,\n",
        "            cmap='cool')\n",
        "\n",
        "for i, val in enumerate(hdbscan_inters_clusters):\n",
        "    ax.annotate(str(int(val)), (intersection_embedding[:, 0][i], intersection_embedding[:, 1][i]), fontsize=13)\n",
        "\n",
        "plt.title('HDBscan clusters of UMAP projection of IPM farmers intersection data')"
      ],
      "execution_count": 84,
      "outputs": [
        {
          "output_type": "stream",
          "text": [
            "*c* argument looks like a single numeric RGB or RGBA sequence, which should be avoided as value-mapping will have precedence in case its length matches with *x* & *y*.  Please use the *color* keyword-argument or provide a 2-D array with a single row if you intend to specify the same RGB or RGBA value for all points.\n"
          ],
          "name": "stderr"
        },
        {
          "output_type": "execute_result",
          "data": {
            "text/plain": [
              "Text(0.5, 1.0, 'HDBscan clusters of UMAP projection of IPM farmers intersection data')"
            ]
          },
          "metadata": {
            "tags": []
          },
          "execution_count": 84
        },
        {
          "output_type": "display_data",
          "data": {
            "image/png": "[encoded data removed]",
            "text/plain": [
              "<Figure size 504x504 with 1 Axes>"
            ]
          },
          "metadata": {
            "tags": []
          }
        }
      ]
    },
    {
      "cell_type": "code",
      "metadata": {
        "id": "zGU60byuva5K",
        "outputId": "0db4c570-cfab-4294-b8d8-a39da4dace33",
        "colab": {
          "base_uri": "https://localhost:8080/",
          "height": 464
        }
      },
      "source": [
        "# kmeans clustering 2D union emnbedding\n",
        "km_union_clusters = cluster.KMeans(n_clusters=3).fit_predict(union_embedding)\n",
        "#kmeans_labels\n",
        "\n",
        "fig, ax = plt.subplots(figsize=(7,7))\n",
        "ax.scatter(union_embedding[:, 0], union_embedding[:, 1], c=km_union_clusters, s=30, cmap='cool')\n",
        "\n",
        "# daj clustre (številke) gor v umap\n",
        "for i, val in enumerate(km_union_clusters.tolist()):\n",
        "    ax.annotate(str(int(val)), (union_embedding[:, 0][i], union_embedding[:, 1][i]), fontsize=10)\n",
        "\n",
        "plt.title('K-means clusters of UMAP projection of IPM farmers union data')"
      ],
      "execution_count": 85,
      "outputs": [
        {
          "output_type": "execute_result",
          "data": {
            "text/plain": [
              "Text(0.5, 1.0, 'K-means clusters of UMAP projection of IPM farmers union data')"
            ]
          },
          "metadata": {
            "tags": []
          },
          "execution_count": 85
        },
        {
          "output_type": "display_data",
          "data": {
            "image/png": "[encoded data removed]",
            "text/plain": [
              "<Figure size 504x504 with 1 Axes>"
            ]
          },
          "metadata": {
            "tags": []
          }
        }
      ]
    },
    {
      "cell_type": "code",
      "metadata": {
        "id": "aESi6aQdxYRH",
        "outputId": "8782a0a5-9fd4-4d8f-9344-e46505cf3eba",
        "colab": {
          "base_uri": "https://localhost:8080/",
          "height": 501
        }
      },
      "source": [
        "# hdbscan clustering 2D union emnbedding\n",
        "clusterer = hdbscan.HDBSCAN(min_cluster_size=5, min_samples=4)\n",
        "hdbscan_union_clusters = clusterer.fit_predict(union_embedding)\n",
        "\n",
        "fig, ax = plt.subplots(figsize=(7,7))\n",
        "\n",
        "clustered = (hdbscan_union_clusters >= 0)\n",
        "ax.scatter(union_embedding[~clustered, 0],\n",
        "            union_embedding[~clustered, 1],\n",
        "            c=(0.5, 0.5, 0.5),\n",
        "            s=50,\n",
        "            alpha=0.3)\n",
        "\n",
        "ax.scatter(union_embedding[clustered, 0],\n",
        "            union_embedding[clustered, 1],\n",
        "            c=hdbscan_union_clusters[clustered],\n",
        "            s=50,\n",
        "            cmap='cool')\n",
        "\n",
        "for i, val in enumerate(hdbscan_union_clusters):\n",
        "    ax.annotate(str(int(val)), (union_embedding[:, 0][i], union_embedding[:, 1][i]), fontsize=13)\n",
        "\n",
        "plt.title('HDBscan clusters of UMAP projection of IPM farmers union data')"
      ],
      "execution_count": 86,
      "outputs": [
        {
          "output_type": "stream",
          "text": [
            "*c* argument looks like a single numeric RGB or RGBA sequence, which should be avoided as value-mapping will have precedence in case its length matches with *x* & *y*.  Please use the *color* keyword-argument or provide a 2-D array with a single row if you intend to specify the same RGB or RGBA value for all points.\n"
          ],
          "name": "stderr"
        },
        {
          "output_type": "execute_result",
          "data": {
            "text/plain": [
              "Text(0.5, 1.0, 'HDBscan clusters of UMAP projection of IPM farmers union data')"
            ]
          },
          "metadata": {
            "tags": []
          },
          "execution_count": 86
        },
        {
          "output_type": "display_data",
          "data": {
            "image/png": "[encoded data removed]",
            "text/plain": [
              "<Figure size 504x504 with 1 Axes>"
            ]
          },
          "metadata": {
            "tags": []
          }
        }
      ]
    },
    {
      "cell_type": "markdown",
      "metadata": {
        "id": "xkt-aK6cl2Ny"
      },
      "source": [
        "## Interactive 3D Visualisation"
      ]
    },
    {
      "cell_type": "code",
      "metadata": {
        "id": "v58bdpdel2Ny",
        "colab": {
          "base_uri": "https://localhost:8080/"
        },
        "outputId": "3e55e0a0-369c-40bf-c2a3-01b1459d8b53"
      },
      "source": [
        "# 3D embedding\n",
        "ord_reducer3d = umap.UMAP(n_neighbors=8, min_dist=0.1, n_components=3, metric=\"euclidean\", random_state=123)\n",
        "ord_embedding3d = ord_reducer3d.fit_transform(ordnum_df)\n",
        "\n",
        "nom_reducer3d = umap.UMAP(n_neighbors=8, min_dist=0.1, n_components=3, metric=\"dice\", random_state=123)\n",
        "nom_embedding3d = nom_reducer3d.fit_transform(nom_df)\n",
        "\n",
        "# combine mappings\n",
        "intersection_embedding3d = nom_embedding3d * ord_embedding3d\n",
        "union_embedding3d = nom_embedding3d + ord_embedding3d\n",
        "\n",
        "# hdbscan\n",
        "intersection_clusters = hdbscan.HDBSCAN(min_samples=15, min_cluster_size=10).fit_predict(intersection_embedding3d)\n",
        "union_clusters = hdbscan.HDBSCAN(min_samples=15, min_cluster_size=10).fit_predict(union_embedding3d)\n",
        "print(\"intersection_clusters :\", intersection_clusters)\n",
        "print(\"union_clusters :\", union_clusters)"
      ],
      "execution_count": 87,
      "outputs": [
        {
          "output_type": "stream",
          "text": [
            "/usr/local/lib/python3.7/dist-packages/umap/umap_.py:1762: UserWarning:\n",
            "\n",
            "gradient function is not yet implemented for dice distance metric; inverse_transform will be unavailable\n",
            "\n"
          ],
          "name": "stderr"
        },
        {
          "output_type": "stream",
          "text": [
            "intersection_clusters : [0 0 0 0 0 0 0 0 0 0 0 0 0 0 0 0 0 0 0 0 0 0 0 0 0 0 1 1 1 1 1 1 1 1 1 2 2\n",
            " 2 2 2 2 2 2 2 1 1 1 1 1 1 1 1 1 1 1 1 1 1 1 1 1 1 2 2 2 0 0 0 0 1 2 2 2 2\n",
            " 2 2 2 2 2 2 2 2 2 2 2 2 2 2 1 1 1 0 0 0 0]\n",
            "union_clusters : [0 0 0 0 0 0 0 0 0 0 0 0 0 0 0 0 0 0 0 0 0 0 0 0 0 0 1 1 1 1 1 1 1 1 1 2 2\n",
            " 2 2 2 2 2 2 2 1 1 1 1 1 1 1 1 1 1 1 1 1 1 1 1 1 1 2 2 2 0 0 0 0 1 2 2 2 2\n",
            " 2 2 2 2 2 2 2 2 2 2 2 2 2 2 1 1 1 0 0 0 0]\n"
          ],
          "name": "stdout"
        }
      ]
    },
    {
      "cell_type": "markdown",
      "metadata": {
        "id": "cAv_eErWl2Ny"
      },
      "source": [
        "### Plotly visualisation"
      ]
    },
    {
      "cell_type": "code",
      "metadata": {
        "id": "a-6DtV_zl2Nz"
      },
      "source": [
        "# 3D dataframes\n",
        "intersection3d_df = pd.DataFrame(data=intersection_embedding3d, columns=[\"x\", \"y\", \"z\"])\n",
        "intersection3d_df[\"clusters\"] = list(map(str, intersection_clusters))\n",
        "union3d_df = pd.DataFrame(data=union_embedding3d, columns=[\"x\", \"y\", \"z\"])\n",
        "union3d_df[\"clusters\"] = list(map(str, union_clusters))"
      ],
      "execution_count": 88,
      "outputs": []
    },
    {
      "cell_type": "code",
      "metadata": {
        "id": "45A5Qo3Ql2Nz",
        "colab": {
          "base_uri": "https://localhost:8080/",
          "height": 542
        },
        "outputId": "cf7985b8-78ea-48e4-c041-c389a3029511"
      },
      "source": [
        "# Intersection embedding cluster visualisation \n",
        "fig = px.scatter_3d(intersection3d_df, \"x\",\"y\",\"z\", color=\"clusters\", text=df_noNaN[\"How_do_you_access_DSS_Cat\"], opacity=0.8, \n",
        "                    title=\"Intersection 3D embedding of farmers IPM data\")\n",
        "fig.show()"
      ],
      "execution_count": 89,
      "outputs": [
        {
          "output_type": "display_data",
          "data": {
            "text/html": [
              "<html>\n",
              "<head><meta charset=\"utf-8\" /></head>\n",
              "<body>\n",
              "    <div>\n",
              "            <script src=\"https://cdnjs.cloudflare.com/ajax/libs/mathjax/2.7.5/MathJax.js?config=TeX-AMS-MML_SVG\"></script><script type=\"text/javascript\">if (window.MathJax) {MathJax.Hub.Config({SVG: {font: \"STIX-Web\"}});}</script>\n",
              "                <script type=\"text/javascript\">window.PlotlyConfig = {MathJaxConfig: 'local'};</script>\n",
              "        <script src=\"https://cdn.plot.ly/plotly-latest.min.js\"></script>    \n",
              "            <div id=\"3fc7648a-a505-4462-b78f-5c4c47d0de92\" class=\"plotly-graph-div\" style=\"height:525px; width:100%;\"></div>\n",
              "            <script type=\"text/javascript\">\n",
              "                \n",
              "                    window.PLOTLYENV=window.PLOTLYENV || {};\n",
              "                    \n",
              "                if (document.getElementById(\"3fc7648a-a505-4462-b78f-5c4c47d0de92\")) {\n",
              "                    Plotly.newPlot(\n",
              "                        '3fc7648a-a505-4462-b78f-5c4c47d0de92',\n",
              "                        [{\"hoverlabel\": {\"namelength\": 0}, \"hovertemplate\": \"clusters=0<br>x=%{x}<br>y=%{y}<br>z=%{z}<br>text=%{text}\", \"legendgroup\": \"clusters=0\", \"marker\": {\"color\": \"#636efa\", \"opacity\": 0.8, \"symbol\": \"circle\"}, \"mode\": \"markers+text\", \"name\": \"clusters=0\", \"scene\": \"scene\", \"showlegend\": true, \"text\": [1.0, 3.0, 2.0, 2.0, 3.0, 1.0, 1.0, 1.0, 1.0, 3.0, 3.0, 3.0, 1.0, 1.0, 3.0, 3.0, 1.0, 2.0, 3.0, 1.0, 2.0, 3.0, 1.0, 2.0, 3.0, 1.0, 3.0, 3.0, 3.0, 3.0, 2.0, 3.0, 2.0, 3.0], \"type\": \"scatter3d\", \"x\": [217.9109649658203, 227.90611267089844, 186.46775817871094, 191.66567993164062, 221.4249725341797, 220.37750244140625, 221.42698669433594, 255.8452911376953, 220.12945556640625, 196.97361755371094, 229.59193420410156, 229.70437622070312, 208.98504638671875, 203.53662109375, 205.23550415039062, 241.93177795410156, 220.63381958007812, 250.38308715820312, 193.1567840576172, 221.1326446533203, 224.25653076171875, 201.43392944335938, 217.12628173828125, 233.97726440429688, 235.3666534423828, 180.73593139648438, 212.77549743652344, 207.72499084472656, 201.21852111816406, 190.00546264648438, 186.04359436035156, 232.20355224609375, 220.29571533203125, 221.5789337158203], \"y\": [-51.11271667480469, -64.163330078125, -10.58199405670166, -9.86015796661377, -17.959693908691406, -50.06239700317383, -45.31415557861328, -64.5414047241211, -73.51986694335938, -14.808348655700684, -78.78570556640625, -79.3827133178711, -45.97580337524414, -44.24176788330078, -54.21360397338867, -58.90483474731445, -50.2911491394043, -67.38055419921875, -50.37892532348633, -46.918479919433594, -65.25794982910156, -12.592703819274902, -12.216524124145508, -54.16419219970703, -77.96350860595703, -16.705171585083008, -54.84522247314453, -54.23296356201172, -49.41637420654297, -52.21599578857422, -12.796114921569824, -14.84848403930664, -14.680646896362305, -77.74079132080078], \"z\": [14.54549503326416, 9.862289428710938, 39.83457565307617, 34.18757247924805, 46.33277130126953, 12.336307525634766, 10.499932289123535, 12.286490440368652, 16.329301834106445, 41.57387161254883, 11.409197807312012, 10.15015983581543, 12.94769287109375, 12.580755233764648, 11.391495704650879, 17.726152420043945, 10.876899719238281, 13.187116622924805, 15.592366218566895, 11.199355125427246, 9.644129753112793, 39.848106384277344, 32.224945068359375, 15.094802856445312, 12.631131172180176, 44.20400619506836, 18.84330177307129, 19.037792205810547, 22.541833877563477, 18.96371841430664, 37.95832061767578, 38.647247314453125, 27.72848892211914, 17.57052993774414]}, {\"hoverlabel\": {\"namelength\": 0}, \"hovertemplate\": \"clusters=1<br>x=%{x}<br>y=%{y}<br>z=%{z}<br>text=%{text}\", \"legendgroup\": \"clusters=1\", \"marker\": {\"color\": \"#EF553B\", \"opacity\": 0.8, \"symbol\": \"circle\"}, \"mode\": \"markers+text\", \"name\": \"clusters=1\", \"scene\": \"scene\", \"showlegend\": true, \"text\": [3.0, 3.0, 3.0, 2.0, 3.0, 3.0, 3.0, 3.0, 3.0, 3.0, 3.0, 3.0, 2.0, 3.0, 3.0, 1.0, 3.0, 1.0, 3.0, 3.0, 3.0, 3.0, 3.0, 1.0, 1.0, 1.0, 3.0, 2.0, 3.0, 3.0, 3.0], \"type\": \"scatter3d\", \"x\": [29.942903518676758, 35.691200256347656, 22.045862197875977, 26.437602996826172, 30.10597801208496, 23.099824905395508, 26.20369529724121, 26.25870132446289, 14.909069061279297, 27.876197814941406, 20.338890075683594, 12.574089050292969, 20.357786178588867, 19.90765953063965, 21.821216583251953, 14.907697677612305, 13.82311725616455, 19.062543869018555, 30.277742385864258, 26.056045532226562, 26.77335548400879, 28.454267501831055, 34.22083282470703, 30.864158630371094, 27.020557403564453, 27.602615356445312, 29.21061134338379, 23.241535186767578, 19.87445640563965, 31.985422134399414, 26.885028839111328], \"y\": [232.6810760498047, 222.60931396484375, 246.74734497070312, 207.90667724609375, 207.45204162597656, 188.64056396484375, 180.17640686035156, 185.3486785888672, 170.26617431640625, 246.6537322998047, 171.49624633789062, 166.0807647705078, 193.8512420654297, 164.5610809326172, 177.88665771484375, 173.96441650390625, 171.1121368408203, 173.03414916992188, 231.6119842529297, 249.62828063964844, 250.2980499267578, 204.3563690185547, 203.39584350585938, 236.0009002685547, 206.17129516601562, 187.4484100341797, 244.4638214111328, 161.28700256347656, 181.43368530273438, 202.35032653808594, 183.00901794433594], \"z\": [-19.01001739501953, -17.826921463012695, -22.55919647216797, -18.16246223449707, -22.288362503051758, -17.196918487548828, -26.81609535217285, -17.088611602783203, -24.97593879699707, -23.10750389099121, -24.492826461791992, -27.063404083251953, -16.059768676757812, -25.680227279663086, -26.211673736572266, -19.49358558654785, -24.655941009521484, -27.468534469604492, -18.47457504272461, -15.231986045837402, -13.764039039611816, -12.380512237548828, -21.868574142456055, -14.091440200805664, -15.538284301757812, -14.776968002319336, -13.062189102172852, -18.49863624572754, -22.574892044067383, -22.48033332824707, -20.680479049682617]}, {\"hoverlabel\": {\"namelength\": 0}, \"hovertemplate\": \"clusters=2<br>x=%{x}<br>y=%{y}<br>z=%{z}<br>text=%{text}\", \"legendgroup\": \"clusters=2\", \"marker\": {\"color\": \"#00cc96\", \"opacity\": 0.8, \"symbol\": \"circle\"}, \"mode\": \"markers+text\", \"name\": \"clusters=2\", \"scene\": \"scene\", \"showlegend\": true, \"text\": [3.0, 2.0, 3.0, 3.0, 1.0, 3.0, 2.0, 3.0, 3.0, 3.0, 2.0, 3.0, 2.0, 1.0, 3.0, 1.0, 1.0, 2.0, 1.0, 2.0, 3.0, 3.0, 1.0, 3.0, 2.0, 3.0, 3.0, 3.0, 2.0, 3.0], \"type\": \"scatter3d\", \"x\": [-168.56626892089844, -168.03619384765625, -177.29478454589844, -179.2161407470703, -183.8245391845703, -185.54196166992188, -154.67630004882812, -147.2754364013672, -174.82626342773438, -167.8438262939453, -165.47921752929688, -168.75767517089844, -135.64645385742188, -146.81198120117188, -172.7710723876953, -159.69935607910156, -149.407958984375, -135.13934326171875, -134.19921875, -126.83490753173828, -134.9027862548828, -162.59207153320312, -162.4468536376953, -159.72848510742188, -134.43008422851562, -155.12501525878906, -164.0347442626953, -138.3551025390625, -147.79722595214844, -159.7561492919922], \"y\": [50.71244430541992, 47.2222900390625, 44.00498962402344, 57.677677154541016, 48.20123291015625, 48.5749626159668, 44.616233825683594, 51.9476203918457, 43.91688537597656, 53.1738166809082, 46.67116928100586, 58.51711654663086, 31.304161071777344, 54.14958572387695, 47.67687225341797, 55.7119026184082, 56.111263275146484, 42.151206970214844, 37.7728271484375, 46.88090133666992, 47.75347900390625, 61.95655822753906, 55.14453125, 59.77495574951172, 51.957454681396484, 57.874855041503906, 62.753353118896484, 44.36106491088867, 51.2830810546875, 65.58258056640625], \"z\": [32.751258850097656, 30.95050811767578, 34.42350387573242, 29.384519577026367, 31.67068862915039, 33.28839874267578, 18.510351181030273, 33.47578048706055, 34.907108306884766, 22.684484481811523, 25.36996841430664, 25.78980255126953, 26.55800437927246, 22.936559677124023, 34.717464447021484, 23.732799530029297, 22.763782501220703, 25.414371490478516, 25.55976676940918, 38.05743408203125, 25.47587776184082, 28.709487915039062, 18.44062614440918, 28.116952896118164, 32.826236724853516, 29.58080291748047, 26.965381622314453, 39.26954650878906, 30.49658203125, 28.346216201782227]}],\n",
              "                        {\"legend\": {\"tracegroupgap\": 0}, \"scene\": {\"domain\": {\"x\": [0.0, 1.0], \"y\": [0.0, 1.0]}, \"xaxis\": {\"title\": {\"text\": \"x\"}}, \"yaxis\": {\"title\": {\"text\": \"y\"}}, \"zaxis\": {\"title\": {\"text\": \"z\"}}}, \"template\": {\"data\": {\"bar\": [{\"error_x\": {\"color\": \"#2a3f5f\"}, \"error_y\": {\"color\": \"#2a3f5f\"}, \"marker\": {\"line\": {\"color\": \"#E5ECF6\", \"width\": 0.5}}, \"type\": \"bar\"}], \"barpolar\": [{\"marker\": {\"line\": {\"color\": \"#E5ECF6\", \"width\": 0.5}}, \"type\": \"barpolar\"}], \"carpet\": [{\"aaxis\": {\"endlinecolor\": \"#2a3f5f\", \"gridcolor\": \"white\", \"linecolor\": \"white\", \"minorgridcolor\": \"white\", \"startlinecolor\": \"#2a3f5f\"}, \"baxis\": {\"endlinecolor\": \"#2a3f5f\", \"gridcolor\": \"white\", \"linecolor\": \"white\", \"minorgridcolor\": \"white\", \"startlinecolor\": \"#2a3f5f\"}, \"type\": \"carpet\"}], \"choropleth\": [{\"colorbar\": {\"outlinewidth\": 0, \"ticks\": \"\"}, \"type\": \"choropleth\"}], \"contour\": [{\"colorbar\": {\"outlinewidth\": 0, \"ticks\": \"\"}, \"colorscale\": [[0.0, \"#0d0887\"], [0.1111111111111111, \"#46039f\"], [0.2222222222222222, \"#7201a8\"], [0.3333333333333333, \"#9c179e\"], [0.4444444444444444, \"#bd3786\"], [0.5555555555555556, \"#d8576b\"], [0.6666666666666666, \"#ed7953\"], [0.7777777777777778, \"#fb9f3a\"], [0.8888888888888888, \"#fdca26\"], [1.0, \"#f0f921\"]], \"type\": \"contour\"}], \"contourcarpet\": [{\"colorbar\": {\"outlinewidth\": 0, \"ticks\": \"\"}, \"type\": \"contourcarpet\"}], \"heatmap\": [{\"colorbar\": {\"outlinewidth\": 0, \"ticks\": \"\"}, \"colorscale\": [[0.0, \"#0d0887\"], [0.1111111111111111, \"#46039f\"], [0.2222222222222222, \"#7201a8\"], [0.3333333333333333, \"#9c179e\"], [0.4444444444444444, \"#bd3786\"], [0.5555555555555556, \"#d8576b\"], [0.6666666666666666, \"#ed7953\"], [0.7777777777777778, \"#fb9f3a\"], [0.8888888888888888, \"#fdca26\"], [1.0, \"#f0f921\"]], \"type\": \"heatmap\"}], \"heatmapgl\": [{\"colorbar\": {\"outlinewidth\": 0, \"ticks\": \"\"}, \"colorscale\": [[0.0, \"#0d0887\"], [0.1111111111111111, \"#46039f\"], [0.2222222222222222, \"#7201a8\"], [0.3333333333333333, \"#9c179e\"], [0.4444444444444444, \"#bd3786\"], [0.5555555555555556, \"#d8576b\"], [0.6666666666666666, \"#ed7953\"], [0.7777777777777778, \"#fb9f3a\"], [0.8888888888888888, \"#fdca26\"], [1.0, \"#f0f921\"]], \"type\": \"heatmapgl\"}], \"histogram\": [{\"marker\": {\"colorbar\": {\"outlinewidth\": 0, \"ticks\": \"\"}}, \"type\": \"histogram\"}], \"histogram2d\": [{\"colorbar\": {\"outlinewidth\": 0, \"ticks\": \"\"}, \"colorscale\": [[0.0, \"#0d0887\"], [0.1111111111111111, \"#46039f\"], [0.2222222222222222, \"#7201a8\"], [0.3333333333333333, \"#9c179e\"], [0.4444444444444444, \"#bd3786\"], [0.5555555555555556, \"#d8576b\"], [0.6666666666666666, \"#ed7953\"], [0.7777777777777778, \"#fb9f3a\"], [0.8888888888888888, \"#fdca26\"], [1.0, \"#f0f921\"]], \"type\": \"histogram2d\"}], \"histogram2dcontour\": [{\"colorbar\": {\"outlinewidth\": 0, \"ticks\": \"\"}, \"colorscale\": [[0.0, \"#0d0887\"], [0.1111111111111111, \"#46039f\"], [0.2222222222222222, \"#7201a8\"], [0.3333333333333333, \"#9c179e\"], [0.4444444444444444, \"#bd3786\"], [0.5555555555555556, \"#d8576b\"], [0.6666666666666666, \"#ed7953\"], [0.7777777777777778, \"#fb9f3a\"], [0.8888888888888888, \"#fdca26\"], [1.0, \"#f0f921\"]], \"type\": \"histogram2dcontour\"}], \"mesh3d\": [{\"colorbar\": {\"outlinewidth\": 0, \"ticks\": \"\"}, \"type\": \"mesh3d\"}], \"parcoords\": [{\"line\": {\"colorbar\": {\"outlinewidth\": 0, \"ticks\": \"\"}}, \"type\": \"parcoords\"}], \"pie\": [{\"automargin\": true, \"type\": \"pie\"}], \"scatter\": [{\"marker\": {\"colorbar\": {\"outlinewidth\": 0, \"ticks\": \"\"}}, \"type\": \"scatter\"}], \"scatter3d\": [{\"line\": {\"colorbar\": {\"outlinewidth\": 0, \"ticks\": \"\"}}, \"marker\": {\"colorbar\": {\"outlinewidth\": 0, \"ticks\": \"\"}}, \"type\": \"scatter3d\"}], \"scattercarpet\": [{\"marker\": {\"colorbar\": {\"outlinewidth\": 0, \"ticks\": \"\"}}, \"type\": \"scattercarpet\"}], \"scattergeo\": [{\"marker\": {\"colorbar\": {\"outlinewidth\": 0, \"ticks\": \"\"}}, \"type\": \"scattergeo\"}], \"scattergl\": [{\"marker\": {\"colorbar\": {\"outlinewidth\": 0, \"ticks\": \"\"}}, \"type\": \"scattergl\"}], \"scattermapbox\": [{\"marker\": {\"colorbar\": {\"outlinewidth\": 0, \"ticks\": \"\"}}, \"type\": \"scattermapbox\"}], \"scatterpolar\": [{\"marker\": {\"colorbar\": {\"outlinewidth\": 0, \"ticks\": \"\"}}, \"type\": \"scatterpolar\"}], \"scatterpolargl\": [{\"marker\": {\"colorbar\": {\"outlinewidth\": 0, \"ticks\": \"\"}}, \"type\": \"scatterpolargl\"}], \"scatterternary\": [{\"marker\": {\"colorbar\": {\"outlinewidth\": 0, \"ticks\": \"\"}}, \"type\": \"scatterternary\"}], \"surface\": [{\"colorbar\": {\"outlinewidth\": 0, \"ticks\": \"\"}, \"colorscale\": [[0.0, \"#0d0887\"], [0.1111111111111111, \"#46039f\"], [0.2222222222222222, \"#7201a8\"], [0.3333333333333333, \"#9c179e\"], [0.4444444444444444, \"#bd3786\"], [0.5555555555555556, \"#d8576b\"], [0.6666666666666666, \"#ed7953\"], [0.7777777777777778, \"#fb9f3a\"], [0.8888888888888888, \"#fdca26\"], [1.0, \"#f0f921\"]], \"type\": \"surface\"}], \"table\": [{\"cells\": {\"fill\": {\"color\": \"#EBF0F8\"}, \"line\": {\"color\": \"white\"}}, \"header\": {\"fill\": {\"color\": \"#C8D4E3\"}, \"line\": {\"color\": \"white\"}}, \"type\": \"table\"}]}, \"layout\": {\"annotationdefaults\": {\"arrowcolor\": \"#2a3f5f\", \"arrowhead\": 0, \"arrowwidth\": 1}, \"coloraxis\": {\"colorbar\": {\"outlinewidth\": 0, \"ticks\": \"\"}}, \"colorscale\": {\"diverging\": [[0, \"#8e0152\"], [0.1, \"#c51b7d\"], [0.2, \"#de77ae\"], [0.3, \"#f1b6da\"], [0.4, \"#fde0ef\"], [0.5, \"#f7f7f7\"], [0.6, \"#e6f5d0\"], [0.7, \"#b8e186\"], [0.8, \"#7fbc41\"], [0.9, \"#4d9221\"], [1, \"#276419\"]], \"sequential\": [[0.0, \"#0d0887\"], [0.1111111111111111, \"#46039f\"], [0.2222222222222222, \"#7201a8\"], [0.3333333333333333, \"#9c179e\"], [0.4444444444444444, \"#bd3786\"], [0.5555555555555556, \"#d8576b\"], [0.6666666666666666, \"#ed7953\"], [0.7777777777777778, \"#fb9f3a\"], [0.8888888888888888, \"#fdca26\"], [1.0, \"#f0f921\"]], \"sequentialminus\": [[0.0, \"#0d0887\"], [0.1111111111111111, \"#46039f\"], [0.2222222222222222, \"#7201a8\"], [0.3333333333333333, \"#9c179e\"], [0.4444444444444444, \"#bd3786\"], [0.5555555555555556, \"#d8576b\"], [0.6666666666666666, \"#ed7953\"], [0.7777777777777778, \"#fb9f3a\"], [0.8888888888888888, \"#fdca26\"], [1.0, \"#f0f921\"]]}, \"colorway\": [\"#636efa\", \"#EF553B\", \"#00cc96\", \"#ab63fa\", \"#FFA15A\", \"#19d3f3\", \"#FF6692\", \"#B6E880\", \"#FF97FF\", \"#FECB52\"], \"font\": {\"color\": \"#2a3f5f\"}, \"geo\": {\"bgcolor\": \"white\", \"lakecolor\": \"white\", \"landcolor\": \"#E5ECF6\", \"showlakes\": true, \"showland\": true, \"subunitcolor\": \"white\"}, \"hoverlabel\": {\"align\": \"left\"}, \"hovermode\": \"closest\", \"mapbox\": {\"style\": \"light\"}, \"paper_bgcolor\": \"white\", \"plot_bgcolor\": \"#E5ECF6\", \"polar\": {\"angularaxis\": {\"gridcolor\": \"white\", \"linecolor\": \"white\", \"ticks\": \"\"}, \"bgcolor\": \"#E5ECF6\", \"radialaxis\": {\"gridcolor\": \"white\", \"linecolor\": \"white\", \"ticks\": \"\"}}, \"scene\": {\"xaxis\": {\"backgroundcolor\": \"#E5ECF6\", \"gridcolor\": \"white\", \"gridwidth\": 2, \"linecolor\": \"white\", \"showbackground\": true, \"ticks\": \"\", \"zerolinecolor\": \"white\"}, \"yaxis\": {\"backgroundcolor\": \"#E5ECF6\", \"gridcolor\": \"white\", \"gridwidth\": 2, \"linecolor\": \"white\", \"showbackground\": true, \"ticks\": \"\", \"zerolinecolor\": \"white\"}, \"zaxis\": {\"backgroundcolor\": \"#E5ECF6\", \"gridcolor\": \"white\", \"gridwidth\": 2, \"linecolor\": \"white\", \"showbackground\": true, \"ticks\": \"\", \"zerolinecolor\": \"white\"}}, \"shapedefaults\": {\"line\": {\"color\": \"#2a3f5f\"}}, \"ternary\": {\"aaxis\": {\"gridcolor\": \"white\", \"linecolor\": \"white\", \"ticks\": \"\"}, \"baxis\": {\"gridcolor\": \"white\", \"linecolor\": \"white\", \"ticks\": \"\"}, \"bgcolor\": \"#E5ECF6\", \"caxis\": {\"gridcolor\": \"white\", \"linecolor\": \"white\", \"ticks\": \"\"}}, \"title\": {\"x\": 0.05}, \"xaxis\": {\"automargin\": true, \"gridcolor\": \"white\", \"linecolor\": \"white\", \"ticks\": \"\", \"title\": {\"standoff\": 15}, \"zerolinecolor\": \"white\", \"zerolinewidth\": 2}, \"yaxis\": {\"automargin\": true, \"gridcolor\": \"white\", \"linecolor\": \"white\", \"ticks\": \"\", \"title\": {\"standoff\": 15}, \"zerolinecolor\": \"white\", \"zerolinewidth\": 2}}}, \"title\": {\"text\": \"Intersection 3D embedding of farmers IPM data\"}},\n",
              "                        {\"responsive\": true}\n",
              "                    ).then(function(){\n",
              "                            \n",
              "var gd = document.getElementById('3fc7648a-a505-4462-b78f-5c4c47d0de92');\n",
              "var x = new MutationObserver(function (mutations, observer) {{\n",
              "        var display = window.getComputedStyle(gd).display;\n",
              "        if (!display || display === 'none') {{\n",
              "            console.log([gd, 'removed!']);\n",
              "            Plotly.purge(gd);\n",
              "            observer.disconnect();\n",
              "        }}\n",
              "}});\n",
              "\n",
              "// Listen for the removal of the full notebook cells\n",
              "var notebookContainer = gd.closest('#notebook-container');\n",
              "if (notebookContainer) {{\n",
              "    x.observe(notebookContainer, {childList: true});\n",
              "}}\n",
              "\n",
              "// Listen for the clearing of the current output cell\n",
              "var outputEl = gd.closest('.output');\n",
              "if (outputEl) {{\n",
              "    x.observe(outputEl, {childList: true});\n",
              "}}\n",
              "\n",
              "                        })\n",
              "                };\n",
              "                \n",
              "            </script>\n",
              "        </div>\n",
              "</body>\n",
              "</html>"
            ]
          },
          "metadata": {
            "tags": []
          }
        }
      ]
    },
    {
      "cell_type": "code",
      "metadata": {
        "id": "MQ3UT6dB1Lp5"
      },
      "source": [
        "fig.write_html(\"IPM_DataEmbedding_q2.html\")"
      ],
      "execution_count": 90,
      "outputs": []
    },
    {
      "cell_type": "code",
      "metadata": {
        "id": "r6OTdtXFl2Nz",
        "colab": {
          "base_uri": "https://localhost:8080/",
          "height": 542
        },
        "outputId": "66703744-5d7d-461c-a88e-ad6164d4a373"
      },
      "source": [
        "# Union embedding cluster visualisation \n",
        "fig = px.scatter_3d(union3d_df, \"x\",\"y\",\"z\", color=\"clusters\", text=df_noNaN[\"How_do_you_access_DSS_Cat\"], opacity=0.5, \n",
        "                    title=\"Union 3D embedding of farmers IPM data\")\n",
        "fig.write_html(\"/content/plotly1.html\")\n",
        "fig.show()"
      ],
      "execution_count": 91,
      "outputs": [
        {
          "output_type": "display_data",
          "data": {
            "text/html": [
              "<html>\n",
              "<head><meta charset=\"utf-8\" /></head>\n",
              "<body>\n",
              "    <div>\n",
              "            <script src=\"https://cdnjs.cloudflare.com/ajax/libs/mathjax/2.7.5/MathJax.js?config=TeX-AMS-MML_SVG\"></script><script type=\"text/javascript\">if (window.MathJax) {MathJax.Hub.Config({SVG: {font: \"STIX-Web\"}});}</script>\n",
              "                <script type=\"text/javascript\">window.PlotlyConfig = {MathJaxConfig: 'local'};</script>\n",
              "        <script src=\"https://cdn.plot.ly/plotly-latest.min.js\"></script>    \n",
              "            <div id=\"31292282-b17d-4074-b94f-129a9191009c\" class=\"plotly-graph-div\" style=\"height:525px; width:100%;\"></div>\n",
              "            <script type=\"text/javascript\">\n",
              "                \n",
              "                    window.PLOTLYENV=window.PLOTLYENV || {};\n",
              "                    \n",
              "                if (document.getElementById(\"31292282-b17d-4074-b94f-129a9191009c\")) {\n",
              "                    Plotly.newPlot(\n",
              "                        '31292282-b17d-4074-b94f-129a9191009c',\n",
              "                        [{\"hoverlabel\": {\"namelength\": 0}, \"hovertemplate\": \"clusters=0<br>x=%{x}<br>y=%{y}<br>z=%{z}<br>text=%{text}\", \"legendgroup\": \"clusters=0\", \"marker\": {\"color\": \"#636efa\", \"opacity\": 0.5, \"symbol\": \"circle\"}, \"mode\": \"markers+text\", \"name\": \"clusters=0\", \"scene\": \"scene\", \"showlegend\": true, \"text\": [1.0, 3.0, 2.0, 2.0, 3.0, 1.0, 1.0, 1.0, 1.0, 3.0, 3.0, 3.0, 1.0, 1.0, 3.0, 3.0, 1.0, 2.0, 3.0, 1.0, 2.0, 3.0, 1.0, 2.0, 3.0, 1.0, 3.0, 3.0, 3.0, 3.0, 2.0, 3.0, 2.0, 3.0], \"type\": \"scatter3d\", \"x\": [31.03561782836914, 31.508941650390625, 29.354591369628906, 29.736730575561523, 31.249832153320312, 31.23677635192871, 31.12073516845703, 33.13525390625, 31.261091232299805, 29.893226623535156, 31.831809997558594, 31.714256286621094, 30.69039535522461, 30.296546936035156, 30.524696350097656, 32.13405990600586, 31.235774993896484, 32.48640441894531, 30.03575897216797, 31.32619857788086, 31.277164459228516, 30.158855438232422, 30.89599609375, 31.94542694091797, 31.97796630859375, 29.161609649658203, 30.68791389465332, 30.49232292175293, 30.151615142822266, 29.77733612060547, 29.340614318847656, 31.71063232421875, 30.995384216308594, 31.314937591552734], \"y\": [-0.1163034439086914, 1.0378479957580566, 4.695830345153809, 4.834004878997803, 7.3891072273254395, -0.3869481086730957, -0.985107421875, 0.8683075904846191, 1.3189668655395508, 4.625226974487305, 2.4499473571777344, 2.4933571815490723, -0.35782575607299805, -0.44965648651123047, -0.11079931259155273, -0.19119644165039062, -1.6270756721496582, 1.24332857131958, -1.002131462097168, -1.207812786102295, 0.8141756057739258, 4.804268836975098, 4.925788402557373, -0.004242897033691406, 2.495070457458496, 4.83604097366333, -0.31429529190063477, -0.2410264015197754, 0.2105412483215332, -0.20276355743408203, 4.289297103881836, 5.990732192993164, 6.35107421875, 2.2308173179626465], \"z\": [7.6281843185424805, 6.459447860717773, 14.004592895507812, 13.338562965393066, 14.431447982788086, 7.035158634185791, 6.48079252243042, 7.018758296966553, 8.129900932312012, 14.095539093017578, 6.755533695220947, 6.372207164764404, 7.242162704467773, 7.1087517738342285, 6.768328666687012, 8.516572952270508, 6.596046447753906, 7.262839317321777, 7.927069187164307, 6.693658828735352, 6.228055953979492, 13.94829273223877, 13.017011642456055, 7.770447731018066, 7.135589599609375, 14.180290222167969, 8.939607620239258, 8.916934967041016, 9.633931159973145, 8.909690856933594, 13.640156745910645, 13.75668716430664, 12.784954071044922, 8.440710067749023]}, {\"hoverlabel\": {\"namelength\": 0}, \"hovertemplate\": \"clusters=1<br>x=%{x}<br>y=%{y}<br>z=%{z}<br>text=%{text}\", \"legendgroup\": \"clusters=1\", \"marker\": {\"color\": \"#EF553B\", \"opacity\": 0.5, \"symbol\": \"circle\"}, \"mode\": \"markers+text\", \"name\": \"clusters=1\", \"scene\": \"scene\", \"showlegend\": true, \"text\": [3.0, 3.0, 3.0, 2.0, 3.0, 3.0, 3.0, 3.0, 3.0, 3.0, 3.0, 3.0, 2.0, 3.0, 3.0, 1.0, 3.0, 1.0, 3.0, 3.0, 3.0, 3.0, 3.0, 1.0, 1.0, 1.0, 3.0, 2.0, 3.0, 3.0, 3.0], \"type\": \"scatter3d\", \"x\": [14.980457305908203, 15.562515258789062, 12.984158515930176, 14.991092681884766, 15.165753364562988, 13.996007919311523, 12.388818740844727, 13.55888557434082, 9.837120056152344, 13.76449966430664, 10.810953140258789, 9.77439022064209, 13.282403945922852, 10.633489608764648, 10.77474594116211, 10.907918930053711, 9.84846019744873, 10.628458976745605, 14.949329376220703, 13.820505142211914, 13.960014343261719, 13.862176895141602, 15.310081481933594, 13.938355445861816, 14.347991943359375, 13.639959335327148, 13.812905311584473, 12.626058578491211, 12.04055404663086, 15.30656623840332, 14.226242065429688], \"y\": [33.705406188964844, 33.30175018310547, 34.44611358642578, 32.62968063354492, 32.64697265625, 32.07057571411133, 31.855262756347656, 32.20126724243164, 30.663488388061523, 34.22050476074219, 31.65620231628418, 30.698657989501953, 32.067909240722656, 30.463096618652344, 31.785972595214844, 31.17154312133789, 31.100406646728516, 31.629514694213867, 33.332542419433594, 34.857730865478516, 34.6129035949707, 32.70680236816406, 32.93312072753906, 33.89661407470703, 32.70490264892578, 31.504838943481445, 34.426910400390625, 30.40249252319336, 31.958141326904297, 32.55731964111328, 31.856748580932617], \"z\": [-1.494034767150879, 0.19479846954345703, -0.23401212692260742, 0.23488426208496094, 0.4658679962158203, -0.11259174346923828, 0.7529773712158203, 0.05303335189819336, 0.7819104194641113, -0.6039009094238281, 1.0705571174621582, 1.0410652160644531, -0.8390834331512451, 1.2949514389038086, 1.3590960502624512, -0.24433231353759766, 0.8412752151489258, 1.023542881011963, -0.5945148468017578, -0.3758580684661865, -0.5936386585235596, -1.3471004962921143, 0.6681046485900879, -1.2706446647644043, -2.0104963779449463, -2.0363988876342773, -0.8115005493164062, -0.39615678787231445, 0.6862554550170898, 0.28868627548217773, 0.17324113845825195]}, {\"hoverlabel\": {\"namelength\": 0}, \"hovertemplate\": \"clusters=2<br>x=%{x}<br>y=%{y}<br>z=%{z}<br>text=%{text}\", \"legendgroup\": \"clusters=2\", \"marker\": {\"color\": \"#00cc96\", \"opacity\": 0.5, \"symbol\": \"circle\"}, \"mode\": \"markers+text\", \"name\": \"clusters=2\", \"scene\": \"scene\", \"showlegend\": true, \"text\": [3.0, 2.0, 3.0, 3.0, 1.0, 3.0, 2.0, 3.0, 3.0, 3.0, 2.0, 3.0, 2.0, 1.0, 3.0, 1.0, 1.0, 2.0, 1.0, 2.0, 3.0, 3.0, 1.0, 3.0, 2.0, 3.0, 3.0, 3.0, 2.0, 3.0], \"type\": \"scatter3d\", \"x\": [-1.7621278762817383, -1.0769128799438477, -1.0466079711914062, -1.1660327911376953, -1.779740333557129, -1.3231878280639648, -3.0154123306274414, -2.7579002380371094, -1.5496997833251953, -2.031452178955078, -2.040729522705078, -1.6746301651000977, -3.991330146789551, -2.8377981185913086, -1.1369171142578125, -2.8416194915771484, -2.736414909362793, -4.063614845275879, -4.7667694091796875, -3.731273651123047, -3.373040199279785, -2.770437240600586, -2.319559097290039, -2.5880041122436523, -3.380767822265625, -2.888583183288574, -1.8858861923217773, -4.596351623535156, -3.4630279541015625, -2.862454414367676], \"y\": [14.277765274047852, 13.835871696472168, 13.809957504272461, 15.455066680908203, 13.985456466674805, 14.231691360473633, 13.778018951416016, 14.99488639831543, 13.487580299377441, 15.228059768676758, 14.26834487915039, 15.813201904296875, 11.267377853393555, 15.020662307739258, 14.344884872436523, 15.344539642333984, 15.390114784240723, 13.075545310974121, 12.309288024902344, 13.764345169067383, 13.871870040893555, 16.298656463623047, 15.014004707336426, 15.965165138244629, 14.52098560333252, 15.883774757385254, 16.346145629882812, 13.368517875671387, 14.415022850036621, 16.680234909057617], \"z\": [11.783100128173828, 11.31058406829834, 12.05459976196289, 11.045103073120117, 11.531286239624023, 11.750201225280762, 9.688520431518555, 11.851638793945312, 12.154097557067871, 10.137996673583984, 10.788139343261719, 10.97195816040039, 11.007652282714844, 10.345162391662598, 12.087217330932617, 10.443480491638184, 10.229843139648438, 10.510026931762695, 10.591487884521484, 12.507709503173828, 10.81962776184082, 10.973054885864258, 9.64293098449707, 11.165410041809082, 11.732403755187988, 11.090211868286133, 10.795511245727539, 12.655977249145508, 11.34379768371582, 11.233308792114258]}],\n",
              "                        {\"legend\": {\"tracegroupgap\": 0}, \"scene\": {\"domain\": {\"x\": [0.0, 1.0], \"y\": [0.0, 1.0]}, \"xaxis\": {\"title\": {\"text\": \"x\"}}, \"yaxis\": {\"title\": {\"text\": \"y\"}}, \"zaxis\": {\"title\": {\"text\": \"z\"}}}, \"template\": {\"data\": {\"bar\": [{\"error_x\": {\"color\": \"#2a3f5f\"}, \"error_y\": {\"color\": \"#2a3f5f\"}, \"marker\": {\"line\": {\"color\": \"#E5ECF6\", \"width\": 0.5}}, \"type\": \"bar\"}], \"barpolar\": [{\"marker\": {\"line\": {\"color\": \"#E5ECF6\", \"width\": 0.5}}, \"type\": \"barpolar\"}], \"carpet\": [{\"aaxis\": {\"endlinecolor\": \"#2a3f5f\", \"gridcolor\": \"white\", \"linecolor\": \"white\", \"minorgridcolor\": \"white\", \"startlinecolor\": \"#2a3f5f\"}, \"baxis\": {\"endlinecolor\": \"#2a3f5f\", \"gridcolor\": \"white\", \"linecolor\": \"white\", \"minorgridcolor\": \"white\", \"startlinecolor\": \"#2a3f5f\"}, \"type\": \"carpet\"}], \"choropleth\": [{\"colorbar\": {\"outlinewidth\": 0, \"ticks\": \"\"}, \"type\": \"choropleth\"}], \"contour\": [{\"colorbar\": {\"outlinewidth\": 0, \"ticks\": \"\"}, \"colorscale\": [[0.0, \"#0d0887\"], [0.1111111111111111, \"#46039f\"], [0.2222222222222222, \"#7201a8\"], [0.3333333333333333, \"#9c179e\"], [0.4444444444444444, \"#bd3786\"], [0.5555555555555556, \"#d8576b\"], [0.6666666666666666, \"#ed7953\"], [0.7777777777777778, \"#fb9f3a\"], [0.8888888888888888, \"#fdca26\"], [1.0, \"#f0f921\"]], \"type\": \"contour\"}], \"contourcarpet\": [{\"colorbar\": {\"outlinewidth\": 0, \"ticks\": \"\"}, \"type\": \"contourcarpet\"}], \"heatmap\": [{\"colorbar\": {\"outlinewidth\": 0, \"ticks\": \"\"}, \"colorscale\": [[0.0, \"#0d0887\"], [0.1111111111111111, \"#46039f\"], [0.2222222222222222, \"#7201a8\"], [0.3333333333333333, \"#9c179e\"], [0.4444444444444444, \"#bd3786\"], [0.5555555555555556, \"#d8576b\"], [0.6666666666666666, \"#ed7953\"], [0.7777777777777778, \"#fb9f3a\"], [0.8888888888888888, \"#fdca26\"], [1.0, \"#f0f921\"]], \"type\": \"heatmap\"}], \"heatmapgl\": [{\"colorbar\": {\"outlinewidth\": 0, \"ticks\": \"\"}, \"colorscale\": [[0.0, \"#0d0887\"], [0.1111111111111111, \"#46039f\"], [0.2222222222222222, \"#7201a8\"], [0.3333333333333333, \"#9c179e\"], [0.4444444444444444, \"#bd3786\"], [0.5555555555555556, \"#d8576b\"], [0.6666666666666666, \"#ed7953\"], [0.7777777777777778, \"#fb9f3a\"], [0.8888888888888888, \"#fdca26\"], [1.0, \"#f0f921\"]], \"type\": \"heatmapgl\"}], \"histogram\": [{\"marker\": {\"colorbar\": {\"outlinewidth\": 0, \"ticks\": \"\"}}, \"type\": \"histogram\"}], \"histogram2d\": [{\"colorbar\": {\"outlinewidth\": 0, \"ticks\": \"\"}, \"colorscale\": [[0.0, \"#0d0887\"], [0.1111111111111111, \"#46039f\"], [0.2222222222222222, \"#7201a8\"], [0.3333333333333333, \"#9c179e\"], [0.4444444444444444, \"#bd3786\"], [0.5555555555555556, \"#d8576b\"], [0.6666666666666666, \"#ed7953\"], [0.7777777777777778, \"#fb9f3a\"], [0.8888888888888888, \"#fdca26\"], [1.0, \"#f0f921\"]], \"type\": \"histogram2d\"}], \"histogram2dcontour\": [{\"colorbar\": {\"outlinewidth\": 0, \"ticks\": \"\"}, \"colorscale\": [[0.0, \"#0d0887\"], [0.1111111111111111, \"#46039f\"], [0.2222222222222222, \"#7201a8\"], [0.3333333333333333, \"#9c179e\"], [0.4444444444444444, \"#bd3786\"], [0.5555555555555556, \"#d8576b\"], [0.6666666666666666, \"#ed7953\"], [0.7777777777777778, \"#fb9f3a\"], [0.8888888888888888, \"#fdca26\"], [1.0, \"#f0f921\"]], \"type\": \"histogram2dcontour\"}], \"mesh3d\": [{\"colorbar\": {\"outlinewidth\": 0, \"ticks\": \"\"}, \"type\": \"mesh3d\"}], \"parcoords\": [{\"line\": {\"colorbar\": {\"outlinewidth\": 0, \"ticks\": \"\"}}, \"type\": \"parcoords\"}], \"pie\": [{\"automargin\": true, \"type\": \"pie\"}], \"scatter\": [{\"marker\": {\"colorbar\": {\"outlinewidth\": 0, \"ticks\": \"\"}}, \"type\": \"scatter\"}], \"scatter3d\": [{\"line\": {\"colorbar\": {\"outlinewidth\": 0, \"ticks\": \"\"}}, \"marker\": {\"colorbar\": {\"outlinewidth\": 0, \"ticks\": \"\"}}, \"type\": \"scatter3d\"}], \"scattercarpet\": [{\"marker\": {\"colorbar\": {\"outlinewidth\": 0, \"ticks\": \"\"}}, \"type\": \"scattercarpet\"}], \"scattergeo\": [{\"marker\": {\"colorbar\": {\"outlinewidth\": 0, \"ticks\": \"\"}}, \"type\": \"scattergeo\"}], \"scattergl\": [{\"marker\": {\"colorbar\": {\"outlinewidth\": 0, \"ticks\": \"\"}}, \"type\": \"scattergl\"}], \"scattermapbox\": [{\"marker\": {\"colorbar\": {\"outlinewidth\": 0, \"ticks\": \"\"}}, \"type\": \"scattermapbox\"}], \"scatterpolar\": [{\"marker\": {\"colorbar\": {\"outlinewidth\": 0, \"ticks\": \"\"}}, \"type\": \"scatterpolar\"}], \"scatterpolargl\": [{\"marker\": {\"colorbar\": {\"outlinewidth\": 0, \"ticks\": \"\"}}, \"type\": \"scatterpolargl\"}], \"scatterternary\": [{\"marker\": {\"colorbar\": {\"outlinewidth\": 0, \"ticks\": \"\"}}, \"type\": \"scatterternary\"}], \"surface\": [{\"colorbar\": {\"outlinewidth\": 0, \"ticks\": \"\"}, \"colorscale\": [[0.0, \"#0d0887\"], [0.1111111111111111, \"#46039f\"], [0.2222222222222222, \"#7201a8\"], [0.3333333333333333, \"#9c179e\"], [0.4444444444444444, \"#bd3786\"], [0.5555555555555556, \"#d8576b\"], [0.6666666666666666, \"#ed7953\"], [0.7777777777777778, \"#fb9f3a\"], [0.8888888888888888, \"#fdca26\"], [1.0, \"#f0f921\"]], \"type\": \"surface\"}], \"table\": [{\"cells\": {\"fill\": {\"color\": \"#EBF0F8\"}, \"line\": {\"color\": \"white\"}}, \"header\": {\"fill\": {\"color\": \"#C8D4E3\"}, \"line\": {\"color\": \"white\"}}, \"type\": \"table\"}]}, \"layout\": {\"annotationdefaults\": {\"arrowcolor\": \"#2a3f5f\", \"arrowhead\": 0, \"arrowwidth\": 1}, \"coloraxis\": {\"colorbar\": {\"outlinewidth\": 0, \"ticks\": \"\"}}, \"colorscale\": {\"diverging\": [[0, \"#8e0152\"], [0.1, \"#c51b7d\"], [0.2, \"#de77ae\"], [0.3, \"#f1b6da\"], [0.4, \"#fde0ef\"], [0.5, \"#f7f7f7\"], [0.6, \"#e6f5d0\"], [0.7, \"#b8e186\"], [0.8, \"#7fbc41\"], [0.9, \"#4d9221\"], [1, \"#276419\"]], \"sequential\": [[0.0, \"#0d0887\"], [0.1111111111111111, \"#46039f\"], [0.2222222222222222, \"#7201a8\"], [0.3333333333333333, \"#9c179e\"], [0.4444444444444444, \"#bd3786\"], [0.5555555555555556, \"#d8576b\"], [0.6666666666666666, \"#ed7953\"], [0.7777777777777778, \"#fb9f3a\"], [0.8888888888888888, \"#fdca26\"], [1.0, \"#f0f921\"]], \"sequentialminus\": [[0.0, \"#0d0887\"], [0.1111111111111111, \"#46039f\"], [0.2222222222222222, \"#7201a8\"], [0.3333333333333333, \"#9c179e\"], [0.4444444444444444, \"#bd3786\"], [0.5555555555555556, \"#d8576b\"], [0.6666666666666666, \"#ed7953\"], [0.7777777777777778, \"#fb9f3a\"], [0.8888888888888888, \"#fdca26\"], [1.0, \"#f0f921\"]]}, \"colorway\": [\"#636efa\", \"#EF553B\", \"#00cc96\", \"#ab63fa\", \"#FFA15A\", \"#19d3f3\", \"#FF6692\", \"#B6E880\", \"#FF97FF\", \"#FECB52\"], \"font\": {\"color\": \"#2a3f5f\"}, \"geo\": {\"bgcolor\": \"white\", \"lakecolor\": \"white\", \"landcolor\": \"#E5ECF6\", \"showlakes\": true, \"showland\": true, \"subunitcolor\": \"white\"}, \"hoverlabel\": {\"align\": \"left\"}, \"hovermode\": \"closest\", \"mapbox\": {\"style\": \"light\"}, \"paper_bgcolor\": \"white\", \"plot_bgcolor\": \"#E5ECF6\", \"polar\": {\"angularaxis\": {\"gridcolor\": \"white\", \"linecolor\": \"white\", \"ticks\": \"\"}, \"bgcolor\": \"#E5ECF6\", \"radialaxis\": {\"gridcolor\": \"white\", \"linecolor\": \"white\", \"ticks\": \"\"}}, \"scene\": {\"xaxis\": {\"backgroundcolor\": \"#E5ECF6\", \"gridcolor\": \"white\", \"gridwidth\": 2, \"linecolor\": \"white\", \"showbackground\": true, \"ticks\": \"\", \"zerolinecolor\": \"white\"}, \"yaxis\": {\"backgroundcolor\": \"#E5ECF6\", \"gridcolor\": \"white\", \"gridwidth\": 2, \"linecolor\": \"white\", \"showbackground\": true, \"ticks\": \"\", \"zerolinecolor\": \"white\"}, \"zaxis\": {\"backgroundcolor\": \"#E5ECF6\", \"gridcolor\": \"white\", \"gridwidth\": 2, \"linecolor\": \"white\", \"showbackground\": true, \"ticks\": \"\", \"zerolinecolor\": \"white\"}}, \"shapedefaults\": {\"line\": {\"color\": \"#2a3f5f\"}}, \"ternary\": {\"aaxis\": {\"gridcolor\": \"white\", \"linecolor\": \"white\", \"ticks\": \"\"}, \"baxis\": {\"gridcolor\": \"white\", \"linecolor\": \"white\", \"ticks\": \"\"}, \"bgcolor\": \"#E5ECF6\", \"caxis\": {\"gridcolor\": \"white\", \"linecolor\": \"white\", \"ticks\": \"\"}}, \"title\": {\"x\": 0.05}, \"xaxis\": {\"automargin\": true, \"gridcolor\": \"white\", \"linecolor\": \"white\", \"ticks\": \"\", \"title\": {\"standoff\": 15}, \"zerolinecolor\": \"white\", \"zerolinewidth\": 2}, \"yaxis\": {\"automargin\": true, \"gridcolor\": \"white\", \"linecolor\": \"white\", \"ticks\": \"\", \"title\": {\"standoff\": 15}, \"zerolinecolor\": \"white\", \"zerolinewidth\": 2}}}, \"title\": {\"text\": \"Union 3D embedding of farmers IPM data\"}},\n",
              "                        {\"responsive\": true}\n",
              "                    ).then(function(){\n",
              "                            \n",
              "var gd = document.getElementById('31292282-b17d-4074-b94f-129a9191009c');\n",
              "var x = new MutationObserver(function (mutations, observer) {{\n",
              "        var display = window.getComputedStyle(gd).display;\n",
              "        if (!display || display === 'none') {{\n",
              "            console.log([gd, 'removed!']);\n",
              "            Plotly.purge(gd);\n",
              "            observer.disconnect();\n",
              "        }}\n",
              "}});\n",
              "\n",
              "// Listen for the removal of the full notebook cells\n",
              "var notebookContainer = gd.closest('#notebook-container');\n",
              "if (notebookContainer) {{\n",
              "    x.observe(notebookContainer, {childList: true});\n",
              "}}\n",
              "\n",
              "// Listen for the clearing of the current output cell\n",
              "var outputEl = gd.closest('.output');\n",
              "if (outputEl) {{\n",
              "    x.observe(outputEl, {childList: true});\n",
              "}}\n",
              "\n",
              "                        })\n",
              "                };\n",
              "                \n",
              "            </script>\n",
              "        </div>\n",
              "</body>\n",
              "</html>"
            ]
          },
          "metadata": {
            "tags": []
          }
        }
      ]
    },
    {
      "cell_type": "markdown",
      "metadata": {
        "id": "bcdnOuG4u9vX"
      },
      "source": [
        "Validate clusters Which Metrics?"
      ]
    },
    {
      "cell_type": "markdown",
      "metadata": {
        "id": "Os2IRjA7l2Ny"
      },
      "source": [
        "# Cluster explanation "
      ]
    },
    {
      "cell_type": "code",
      "metadata": {
        "id": "bTxXmEg4l2Ny",
        "colab": {
          "base_uri": "https://localhost:8080/",
          "height": 439
        },
        "outputId": "103775c5-e7cc-4f3f-d936-0a504821be7f"
      },
      "source": [
        "# DataFrame for classification with clusters from embedding3d\n",
        "df_noNaN[\"clusters\"] = intersection_clusters\n",
        "df_clst = df_noNaN.copy()\n",
        "df_clst\n",
        "\n",
        "# use Weka and See5 (Quinlan) [moraš poklicat s !]\n",
        "# https://colab.research.google.com/drive/1A9bZkPvXPAViipan7u9siQfkakChyYFV?usp=sharing#scrollTo=CgxRusBSCxrn"
      ],
      "execution_count": 92,
      "outputs": [
        {
          "output_type": "execute_result",
          "data": {
            "text/html": [
              "<div>\n",
              "<style scoped>\n",
              "    .dataframe tbody tr th:only-of-type {\n",
              "        vertical-align: middle;\n",
              "    }\n",
              "\n",
              "    .dataframe tbody tr th {\n",
              "        vertical-align: top;\n",
              "    }\n",
              "\n",
              "    .dataframe thead th {\n",
              "        text-align: right;\n",
              "    }\n",
              "</style>\n",
              "<table border=\"1\" class=\"dataframe\">\n",
              "  <thead>\n",
              "    <tr style=\"text-align: right;\">\n",
              "      <th></th>\n",
              "      <th>Age_Cat</th>\n",
              "      <th>Gender_1male</th>\n",
              "      <th>Degree_Cat</th>\n",
              "      <th>Farm_size_Cat</th>\n",
              "      <th>Income_Cat</th>\n",
              "      <th>Legislative_requirements</th>\n",
              "      <th>Computer_at_home</th>\n",
              "      <th>Speed_internet_Cat</th>\n",
              "      <th>How_do_you_access_DSS_Cat</th>\n",
              "      <th>Willing_to_try_new_products_Cat</th>\n",
              "      <th>Price_important_factor</th>\n",
              "      <th>Importance_of_easy_to_use_1to3</th>\n",
              "      <th>Importance_low_price_1to3</th>\n",
              "      <th>Importance_polyvalence_1to3</th>\n",
              "      <th>Enjoy_using_new_techs_1to3</th>\n",
              "      <th>Appreciate_change_1to3</th>\n",
              "      <th>Need_IT_teaching_Cat</th>\n",
              "      <th>Share_DSS_exp_with_colleague_Cat</th>\n",
              "      <th>WTP_for_DSS_Cat</th>\n",
              "      <th>DSS_must_be_tailored_for_your_farm_Cat</th>\n",
              "      <th>Manufacturer_demo_of_DSS_Cat</th>\n",
              "      <th>Region_central_EU</th>\n",
              "      <th>Region_north_EU</th>\n",
              "      <th>Region_south_EU</th>\n",
              "      <th>clusters</th>\n",
              "    </tr>\n",
              "  </thead>\n",
              "  <tbody>\n",
              "    <tr>\n",
              "      <th>2</th>\n",
              "      <td>2</td>\n",
              "      <td>1</td>\n",
              "      <td>2</td>\n",
              "      <td>5</td>\n",
              "      <td>2</td>\n",
              "      <td>1</td>\n",
              "      <td>1</td>\n",
              "      <td>2</td>\n",
              "      <td>1</td>\n",
              "      <td>1</td>\n",
              "      <td>1</td>\n",
              "      <td>3</td>\n",
              "      <td>2</td>\n",
              "      <td>3</td>\n",
              "      <td>1</td>\n",
              "      <td>1</td>\n",
              "      <td>2</td>\n",
              "      <td>1</td>\n",
              "      <td>2</td>\n",
              "      <td>2</td>\n",
              "      <td>2</td>\n",
              "      <td>0</td>\n",
              "      <td>0</td>\n",
              "      <td>1</td>\n",
              "      <td>0</td>\n",
              "    </tr>\n",
              "    <tr>\n",
              "      <th>4</th>\n",
              "      <td>2</td>\n",
              "      <td>1</td>\n",
              "      <td>2</td>\n",
              "      <td>5</td>\n",
              "      <td>5</td>\n",
              "      <td>1</td>\n",
              "      <td>1</td>\n",
              "      <td>2</td>\n",
              "      <td>3</td>\n",
              "      <td>1</td>\n",
              "      <td>1</td>\n",
              "      <td>3</td>\n",
              "      <td>1</td>\n",
              "      <td>2</td>\n",
              "      <td>2</td>\n",
              "      <td>1</td>\n",
              "      <td>2</td>\n",
              "      <td>3</td>\n",
              "      <td>3</td>\n",
              "      <td>2</td>\n",
              "      <td>2</td>\n",
              "      <td>0</td>\n",
              "      <td>0</td>\n",
              "      <td>1</td>\n",
              "      <td>0</td>\n",
              "    </tr>\n",
              "    <tr>\n",
              "      <th>5</th>\n",
              "      <td>1</td>\n",
              "      <td>1</td>\n",
              "      <td>2</td>\n",
              "      <td>2</td>\n",
              "      <td>1</td>\n",
              "      <td>0</td>\n",
              "      <td>1</td>\n",
              "      <td>3</td>\n",
              "      <td>2</td>\n",
              "      <td>2</td>\n",
              "      <td>1</td>\n",
              "      <td>3</td>\n",
              "      <td>3</td>\n",
              "      <td>3</td>\n",
              "      <td>2</td>\n",
              "      <td>2</td>\n",
              "      <td>1</td>\n",
              "      <td>2</td>\n",
              "      <td>2</td>\n",
              "      <td>3</td>\n",
              "      <td>2</td>\n",
              "      <td>0</td>\n",
              "      <td>0</td>\n",
              "      <td>1</td>\n",
              "      <td>0</td>\n",
              "    </tr>\n",
              "    <tr>\n",
              "      <th>6</th>\n",
              "      <td>1</td>\n",
              "      <td>1</td>\n",
              "      <td>2</td>\n",
              "      <td>3</td>\n",
              "      <td>1</td>\n",
              "      <td>0</td>\n",
              "      <td>1</td>\n",
              "      <td>2</td>\n",
              "      <td>2</td>\n",
              "      <td>2</td>\n",
              "      <td>1</td>\n",
              "      <td>2</td>\n",
              "      <td>2</td>\n",
              "      <td>2</td>\n",
              "      <td>3</td>\n",
              "      <td>2</td>\n",
              "      <td>2</td>\n",
              "      <td>2</td>\n",
              "      <td>2</td>\n",
              "      <td>1</td>\n",
              "      <td>1</td>\n",
              "      <td>0</td>\n",
              "      <td>0</td>\n",
              "      <td>1</td>\n",
              "      <td>0</td>\n",
              "    </tr>\n",
              "    <tr>\n",
              "      <th>7</th>\n",
              "      <td>2</td>\n",
              "      <td>1</td>\n",
              "      <td>4</td>\n",
              "      <td>5</td>\n",
              "      <td>2</td>\n",
              "      <td>0</td>\n",
              "      <td>1</td>\n",
              "      <td>3</td>\n",
              "      <td>3</td>\n",
              "      <td>2</td>\n",
              "      <td>1</td>\n",
              "      <td>3</td>\n",
              "      <td>2</td>\n",
              "      <td>1</td>\n",
              "      <td>3</td>\n",
              "      <td>2</td>\n",
              "      <td>2</td>\n",
              "      <td>1</td>\n",
              "      <td>2</td>\n",
              "      <td>2</td>\n",
              "      <td>2</td>\n",
              "      <td>0</td>\n",
              "      <td>0</td>\n",
              "      <td>1</td>\n",
              "      <td>0</td>\n",
              "    </tr>\n",
              "    <tr>\n",
              "      <th>...</th>\n",
              "      <td>...</td>\n",
              "      <td>...</td>\n",
              "      <td>...</td>\n",
              "      <td>...</td>\n",
              "      <td>...</td>\n",
              "      <td>...</td>\n",
              "      <td>...</td>\n",
              "      <td>...</td>\n",
              "      <td>...</td>\n",
              "      <td>...</td>\n",
              "      <td>...</td>\n",
              "      <td>...</td>\n",
              "      <td>...</td>\n",
              "      <td>...</td>\n",
              "      <td>...</td>\n",
              "      <td>...</td>\n",
              "      <td>...</td>\n",
              "      <td>...</td>\n",
              "      <td>...</td>\n",
              "      <td>...</td>\n",
              "      <td>...</td>\n",
              "      <td>...</td>\n",
              "      <td>...</td>\n",
              "      <td>...</td>\n",
              "      <td>...</td>\n",
              "    </tr>\n",
              "    <tr>\n",
              "      <th>126</th>\n",
              "      <td>4</td>\n",
              "      <td>1</td>\n",
              "      <td>2</td>\n",
              "      <td>5</td>\n",
              "      <td>2</td>\n",
              "      <td>1</td>\n",
              "      <td>1</td>\n",
              "      <td>1</td>\n",
              "      <td>3</td>\n",
              "      <td>2</td>\n",
              "      <td>1</td>\n",
              "      <td>3</td>\n",
              "      <td>1</td>\n",
              "      <td>2</td>\n",
              "      <td>2</td>\n",
              "      <td>2</td>\n",
              "      <td>2</td>\n",
              "      <td>2</td>\n",
              "      <td>3</td>\n",
              "      <td>3</td>\n",
              "      <td>2</td>\n",
              "      <td>1</td>\n",
              "      <td>0</td>\n",
              "      <td>0</td>\n",
              "      <td>1</td>\n",
              "    </tr>\n",
              "    <tr>\n",
              "      <th>128</th>\n",
              "      <td>1</td>\n",
              "      <td>1</td>\n",
              "      <td>2</td>\n",
              "      <td>1</td>\n",
              "      <td>1</td>\n",
              "      <td>0</td>\n",
              "      <td>1</td>\n",
              "      <td>2</td>\n",
              "      <td>2</td>\n",
              "      <td>1</td>\n",
              "      <td>1</td>\n",
              "      <td>2</td>\n",
              "      <td>2</td>\n",
              "      <td>2</td>\n",
              "      <td>2</td>\n",
              "      <td>2</td>\n",
              "      <td>2</td>\n",
              "      <td>1</td>\n",
              "      <td>2</td>\n",
              "      <td>2</td>\n",
              "      <td>2</td>\n",
              "      <td>0</td>\n",
              "      <td>0</td>\n",
              "      <td>1</td>\n",
              "      <td>0</td>\n",
              "    </tr>\n",
              "    <tr>\n",
              "      <th>135</th>\n",
              "      <td>3</td>\n",
              "      <td>1</td>\n",
              "      <td>2</td>\n",
              "      <td>3</td>\n",
              "      <td>3</td>\n",
              "      <td>0</td>\n",
              "      <td>1</td>\n",
              "      <td>2</td>\n",
              "      <td>3</td>\n",
              "      <td>1</td>\n",
              "      <td>1</td>\n",
              "      <td>2</td>\n",
              "      <td>1</td>\n",
              "      <td>2</td>\n",
              "      <td>1</td>\n",
              "      <td>1</td>\n",
              "      <td>2</td>\n",
              "      <td>2</td>\n",
              "      <td>2</td>\n",
              "      <td>1</td>\n",
              "      <td>1</td>\n",
              "      <td>0</td>\n",
              "      <td>0</td>\n",
              "      <td>1</td>\n",
              "      <td>0</td>\n",
              "    </tr>\n",
              "    <tr>\n",
              "      <th>137</th>\n",
              "      <td>1</td>\n",
              "      <td>1</td>\n",
              "      <td>1</td>\n",
              "      <td>5</td>\n",
              "      <td>4</td>\n",
              "      <td>0</td>\n",
              "      <td>1</td>\n",
              "      <td>3</td>\n",
              "      <td>2</td>\n",
              "      <td>1</td>\n",
              "      <td>0</td>\n",
              "      <td>1</td>\n",
              "      <td>1</td>\n",
              "      <td>2</td>\n",
              "      <td>2</td>\n",
              "      <td>1</td>\n",
              "      <td>2</td>\n",
              "      <td>1</td>\n",
              "      <td>3</td>\n",
              "      <td>2</td>\n",
              "      <td>2</td>\n",
              "      <td>0</td>\n",
              "      <td>0</td>\n",
              "      <td>1</td>\n",
              "      <td>0</td>\n",
              "    </tr>\n",
              "    <tr>\n",
              "      <th>148</th>\n",
              "      <td>2</td>\n",
              "      <td>1</td>\n",
              "      <td>3</td>\n",
              "      <td>5</td>\n",
              "      <td>2</td>\n",
              "      <td>1</td>\n",
              "      <td>1</td>\n",
              "      <td>2</td>\n",
              "      <td>3</td>\n",
              "      <td>1</td>\n",
              "      <td>1</td>\n",
              "      <td>1</td>\n",
              "      <td>2</td>\n",
              "      <td>3</td>\n",
              "      <td>2</td>\n",
              "      <td>2</td>\n",
              "      <td>2</td>\n",
              "      <td>3</td>\n",
              "      <td>2</td>\n",
              "      <td>2</td>\n",
              "      <td>1</td>\n",
              "      <td>0</td>\n",
              "      <td>0</td>\n",
              "      <td>1</td>\n",
              "      <td>0</td>\n",
              "    </tr>\n",
              "  </tbody>\n",
              "</table>\n",
              "<p>95 rows × 25 columns</p>\n",
              "</div>"
            ],
            "text/plain": [
              "     Age_Cat  Gender_1male  Degree_Cat  Farm_size_Cat  Income_Cat  \\\n",
              "2          2             1           2              5           2   \n",
              "4          2             1           2              5           5   \n",
              "5          1             1           2              2           1   \n",
              "6          1             1           2              3           1   \n",
              "7          2             1           4              5           2   \n",
              "..       ...           ...         ...            ...         ...   \n",
              "126        4             1           2              5           2   \n",
              "128        1             1           2              1           1   \n",
              "135        3             1           2              3           3   \n",
              "137        1             1           1              5           4   \n",
              "148        2             1           3              5           2   \n",
              "\n",
              "     Legislative_requirements  Computer_at_home  Speed_internet_Cat  \\\n",
              "2                           1                 1                   2   \n",
              "4                           1                 1                   2   \n",
              "5                           0                 1                   3   \n",
              "6                           0                 1                   2   \n",
              "7                           0                 1                   3   \n",
              "..                        ...               ...                 ...   \n",
              "126                         1                 1                   1   \n",
              "128                         0                 1                   2   \n",
              "135                         0                 1                   2   \n",
              "137                         0                 1                   3   \n",
              "148                         1                 1                   2   \n",
              "\n",
              "     How_do_you_access_DSS_Cat  Willing_to_try_new_products_Cat  \\\n",
              "2                            1                                1   \n",
              "4                            3                                1   \n",
              "5                            2                                2   \n",
              "6                            2                                2   \n",
              "7                            3                                2   \n",
              "..                         ...                              ...   \n",
              "126                          3                                2   \n",
              "128                          2                                1   \n",
              "135                          3                                1   \n",
              "137                          2                                1   \n",
              "148                          3                                1   \n",
              "\n",
              "     Price_important_factor  Importance_of_easy_to_use_1to3  \\\n",
              "2                         1                               3   \n",
              "4                         1                               3   \n",
              "5                         1                               3   \n",
              "6                         1                               2   \n",
              "7                         1                               3   \n",
              "..                      ...                             ...   \n",
              "126                       1                               3   \n",
              "128                       1                               2   \n",
              "135                       1                               2   \n",
              "137                       0                               1   \n",
              "148                       1                               1   \n",
              "\n",
              "     Importance_low_price_1to3  Importance_polyvalence_1to3  \\\n",
              "2                            2                            3   \n",
              "4                            1                            2   \n",
              "5                            3                            3   \n",
              "6                            2                            2   \n",
              "7                            2                            1   \n",
              "..                         ...                          ...   \n",
              "126                          1                            2   \n",
              "128                          2                            2   \n",
              "135                          1                            2   \n",
              "137                          1                            2   \n",
              "148                          2                            3   \n",
              "\n",
              "     Enjoy_using_new_techs_1to3  Appreciate_change_1to3  Need_IT_teaching_Cat  \\\n",
              "2                             1                       1                     2   \n",
              "4                             2                       1                     2   \n",
              "5                             2                       2                     1   \n",
              "6                             3                       2                     2   \n",
              "7                             3                       2                     2   \n",
              "..                          ...                     ...                   ...   \n",
              "126                           2                       2                     2   \n",
              "128                           2                       2                     2   \n",
              "135                           1                       1                     2   \n",
              "137                           2                       1                     2   \n",
              "148                           2                       2                     2   \n",
              "\n",
              "     Share_DSS_exp_with_colleague_Cat  WTP_for_DSS_Cat  \\\n",
              "2                                   1                2   \n",
              "4                                   3                3   \n",
              "5                                   2                2   \n",
              "6                                   2                2   \n",
              "7                                   1                2   \n",
              "..                                ...              ...   \n",
              "126                                 2                3   \n",
              "128                                 1                2   \n",
              "135                                 2                2   \n",
              "137                                 1                3   \n",
              "148                                 3                2   \n",
              "\n",
              "     DSS_must_be_tailored_for_your_farm_Cat  Manufacturer_demo_of_DSS_Cat  \\\n",
              "2                                         2                             2   \n",
              "4                                         2                             2   \n",
              "5                                         3                             2   \n",
              "6                                         1                             1   \n",
              "7                                         2                             2   \n",
              "..                                      ...                           ...   \n",
              "126                                       3                             2   \n",
              "128                                       2                             2   \n",
              "135                                       1                             1   \n",
              "137                                       2                             2   \n",
              "148                                       2                             1   \n",
              "\n",
              "     Region_central_EU  Region_north_EU  Region_south_EU  clusters  \n",
              "2                    0                0                1         0  \n",
              "4                    0                0                1         0  \n",
              "5                    0                0                1         0  \n",
              "6                    0                0                1         0  \n",
              "7                    0                0                1         0  \n",
              "..                 ...              ...              ...       ...  \n",
              "126                  1                0                0         1  \n",
              "128                  0                0                1         0  \n",
              "135                  0                0                1         0  \n",
              "137                  0                0                1         0  \n",
              "148                  0                0                1         0  \n",
              "\n",
              "[95 rows x 25 columns]"
            ]
          },
          "metadata": {
            "tags": []
          },
          "execution_count": 92
        }
      ]
    },
    {
      "cell_type": "code",
      "metadata": {
        "id": "wKi2X2wu0qFV"
      },
      "source": [
        "df_clst.to_csv(\"IPM_data&clusters_question2.csv\")"
      ],
      "execution_count": 93,
      "outputs": []
    },
    {
      "cell_type": "markdown",
      "metadata": {
        "id": "kDIW1dSvl2N2"
      },
      "source": [
        "## Modelling"
      ]
    },
    {
      "cell_type": "code",
      "metadata": {
        "id": "KFFbUXk5lvgc",
        "outputId": "34b94990-c5b9-4ef8-f649-45161874a23d",
        "colab": {
          "base_uri": "https://localhost:8080/",
          "height": 673
        }
      },
      "source": [
        "from sklearn import tree\n",
        "\n",
        "target_class = \"clusters\"\n",
        "X, y = df_noNaN[[_ for _ in list(ohe_df.columns) if _ not in target_class]], df_noNaN[target_class]\n",
        "clf = tree.DecisionTreeClassifier()\n",
        "clf = clf.fit(X, y)\n",
        "tree.plot_tree(clf, feature_names=X.columns, class_names=[str(_) for _ in [0,1,2,3]], filled=True) "
      ],
      "execution_count": 50,
      "outputs": [
        {
          "output_type": "execute_result",
          "data": {
            "text/plain": [
              "[Text(468.72, 453.0, 'Region_south_EU <= 0.5\\ngini = 0.666\\nsamples = 95\\nvalue = [34, 31, 30]\\nclass = 0'),\n",
              " Text(312.48, 271.8, 'Region_north_EU <= 0.5\\ngini = 0.5\\nsamples = 61\\nvalue = [0, 31, 30]\\nclass = 1'),\n",
              " Text(156.24, 90.59999999999997, 'gini = 0.0\\nsamples = 31\\nvalue = [0, 31, 0]\\nclass = 1'),\n",
              " Text(468.72, 90.59999999999997, 'gini = 0.0\\nsamples = 30\\nvalue = [0, 0, 30]\\nclass = 2'),\n",
              " Text(624.96, 271.8, 'gini = 0.0\\nsamples = 34\\nvalue = [34, 0, 0]\\nclass = 0')]"
            ]
          },
          "metadata": {
            "tags": []
          },
          "execution_count": 50
        },
        {
          "output_type": "display_data",
          "data": {
            "image/png": "[encoded data removed]",
            "text/plain": [
              "<Figure size 1008x720 with 1 Axes>"
            ]
          },
          "metadata": {
            "tags": []
          }
        }
      ]
    },
    {
      "cell_type": "code",
      "metadata": {
        "id": "Jh4oJSCAFymj",
        "outputId": "64ed7d7e-d932-4461-c75c-baae51d1caaf",
        "colab": {
          "base_uri": "https://localhost:8080/"
        }
      },
      "source": [
        "# Train the model\n",
        "from sklearn.linear_model import LogisticRegression\n",
        "from sklearn.model_selection import train_test_split\n",
        "\n",
        "target_class = \"clusters\"\n",
        "X = df_noNaN[[_ for _ in list(ohe_df.columns) if _ not in target_class]]\n",
        "y = df_noNaN[target_class]\n",
        "X_train, X_test, y_train, y_test = train_test_split(X, y, test_size=0.33, random_state=42)\n",
        "\n",
        "model = LogisticRegression(max_iter=1000)\n",
        "model.fit(X_train, y_train)"
      ],
      "execution_count": 44,
      "outputs": [
        {
          "output_type": "execute_result",
          "data": {
            "text/plain": [
              "LogisticRegression(C=1.0, class_weight=None, dual=False, fit_intercept=True,\n",
              "                   intercept_scaling=1, l1_ratio=None, max_iter=1000,\n",
              "                   multi_class='auto', n_jobs=None, penalty='l2',\n",
              "                   random_state=None, solver='lbfgs', tol=0.0001, verbose=0,\n",
              "                   warm_start=False)"
            ]
          },
          "metadata": {
            "tags": []
          },
          "execution_count": 44
        }
      ]
    },
    {
      "cell_type": "code",
      "metadata": {
        "id": "deWt2UZDJB-7",
        "outputId": "bbacf2ee-a452-48fb-dc01-bf64cbc702fa",
        "colab": {
          "base_uri": "https://localhost:8080/"
        }
      },
      "source": [
        "# Predictions for test dataset\n",
        "y_predict = model.predict(X_test)\n",
        "y_predict"
      ],
      "execution_count": 45,
      "outputs": [
        {
          "output_type": "execute_result",
          "data": {
            "text/plain": [
              "array([2, 1, 0, 2, 1, 0, 2, 1, 1, 0, 2, 2, 1, 2, 1, 1, 1, 0, 0, 1, 1, 0,\n",
              "       2, 0, 0, 1, 1, 2, 0, 2, 1, 2])"
            ]
          },
          "metadata": {
            "tags": []
          },
          "execution_count": 45
        }
      ]
    },
    {
      "cell_type": "code",
      "metadata": {
        "id": "mg2J2A86l2N2"
      },
      "source": [
        "from sklearn.model_selection import cross_val_score\n",
        "from sklearn.tree import DecisionTreeClassifier\n",
        "clf = tree.DecisionTreeClassifier(random_state=0)\n",
        "\n",
        "target_class = \"Already_used_DSS\"\n",
        "X = df_noNaN[[_ for _ in list(ohe_df.columns) if _ not in target_class]]\n",
        "Y = df_noNaN[target_class]\n",
        "clf = clf.fit(X, Y)"
      ],
      "execution_count": 46,
      "outputs": []
    },
    {
      "cell_type": "code",
      "metadata": {
        "id": "CcBXCs85l2N3",
        "outputId": "5d2976ea-a108-484a-8be3-c5576b89ca1d",
        "colab": {
          "base_uri": "https://localhost:8080/"
        }
      },
      "source": [
        "from sklearn.tree import DecisionTreeClassifier\n",
        "from sklearn.tree import export_text\n",
        "decision_tree = DecisionTreeClassifier(random_state=0, max_depth=2)\n",
        "decision_tree = decision_tree.fit(X, Y)\n",
        "r = export_text(decision_tree, feature_names=list(X.columns))\n",
        "print(r)"
      ],
      "execution_count": 47,
      "outputs": [
        {
          "output_type": "stream",
          "text": [
            "|--- How_do_you_access_DSS_Cat <= 1.50\n",
            "|   |--- class: 0\n",
            "|--- How_do_you_access_DSS_Cat >  1.50\n",
            "|   |--- class: 1\n",
            "\n"
          ],
          "name": "stdout"
        }
      ]
    },
    {
      "cell_type": "code",
      "metadata": {
        "id": "Y2PZlTRLl2N3"
      },
      "source": [
        "# \"\"\"Ne morem importat, nek conflict\n",
        "# import graphviz \n",
        "# dot_data = tree.export_graphviz(clf, out_file=None) \n",
        "# graph = graphviz.Source(dot_data) \n",
        "# graph.render(\"IPM\") \n",
        "# \"\"\""
      ],
      "execution_count": 48,
      "outputs": []
    },
    {
      "cell_type": "markdown",
      "metadata": {
        "id": "oTKut8pCWRyH"
      },
      "source": [
        "# create dictionary with value mapping"
      ]
    },
    {
      "cell_type": "code",
      "metadata": {
        "id": "j0ai7zLivqOh"
      },
      "source": [
        "# df[\"test\"] = df[\"Age_Cat\"].replace({4:\"več kot 50\", 3: \"test\", 1 : \"sdfsdf\", 2 : \"wsf\"})\n",
        "# df[\"Age_Cat\"] = df[\"Age_Cat\"].replace({4:\"več kot 50\", 3: \"test\", 1 : \"sdfsdf\", 2 : \"wsf\"})"
      ],
      "execution_count": 49,
      "outputs": []
    }
  ]
}