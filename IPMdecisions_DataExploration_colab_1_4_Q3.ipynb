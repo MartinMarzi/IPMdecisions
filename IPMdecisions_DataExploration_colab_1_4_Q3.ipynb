{
  "nbformat": 4,
  "nbformat_minor": 0,
  "metadata": {
    "colab": {
      "name": "IPMdecisions-DataExploration_colab-1_4_Q3.ipynb",
      "provenance": [],
      "collapsed_sections": [],
      "include_colab_link": true
    },
    "kernelspec": {
      "display_name": "Python 3",
      "language": "python",
      "name": "python3"
    },
    "language_info": {
      "codemirror_mode": {
        "name": "ipython",
        "version": 3
      },
      "file_extension": ".py",
      "mimetype": "text/x-python",
      "name": "python",
      "nbconvert_exporter": "python",
      "pygments_lexer": "ipython3",
      "version": "3.9.1"
    }
  },
  "cells": [
    {
      "cell_type": "markdown",
      "metadata": {
        "id": "view-in-github",
        "colab_type": "text"
      },
      "source": [
        "<a href=\"https://colab.research.google.com/github/MartinMarzi/IPMdecisions/blob/main/IPMdecisions_DataExploration_colab_1_4_Q3.ipynb\" target=\"_parent\"><img src=\"https://colab.research.google.com/assets/colab-badge.svg\" alt=\"Open In Colab\"/></a>"
      ]
    },
    {
      "cell_type": "code",
      "metadata": {
        "id": "QIXLlgjHmZNz",
        "colab": {
          "base_uri": "https://localhost:8080/"
        },
        "outputId": "a33cf820-c014-4abf-c1ef-2324d191862f"
      },
      "source": [
        "# For colab\n",
        "%pip install umap-learn\n",
        "%pip install hdbscan"
      ],
      "execution_count": 1,
      "outputs": [
        {
          "output_type": "stream",
          "text": [
            "Collecting umap-learn\n",
            "\u001b[?25l  Downloading https://files.pythonhosted.org/packages/75/69/85e7f950bb75792ad5d666d86c5f3e62eedbb942848e7e3126513af9999c/umap-learn-0.5.1.tar.gz (80kB)\n",
            "\u001b[K     |████████████████████████████████| 81kB 2.2MB/s \n",
            "\u001b[?25hRequirement already satisfied: numpy>=1.17 in /usr/local/lib/python3.7/dist-packages (from umap-learn) (1.19.5)\n",
            "Requirement already satisfied: scikit-learn>=0.22 in /usr/local/lib/python3.7/dist-packages (from umap-learn) (0.22.2.post1)\n",
            "Requirement already satisfied: scipy>=1.0 in /usr/local/lib/python3.7/dist-packages (from umap-learn) (1.4.1)\n",
            "Requirement already satisfied: numba>=0.49 in /usr/local/lib/python3.7/dist-packages (from umap-learn) (0.51.2)\n",
            "Collecting pynndescent>=0.5\n",
            "\u001b[?25l  Downloading https://files.pythonhosted.org/packages/af/65/8189298dd3a05bbad716ee8e249764ff8800e365d8dc652ad2192ca01b4a/pynndescent-0.5.2.tar.gz (1.1MB)\n",
            "\u001b[K     |████████████████████████████████| 1.2MB 4.3MB/s \n",
            "\u001b[?25hRequirement already satisfied: joblib>=0.11 in /usr/local/lib/python3.7/dist-packages (from scikit-learn>=0.22->umap-learn) (1.0.1)\n",
            "Requirement already satisfied: setuptools in /usr/local/lib/python3.7/dist-packages (from numba>=0.49->umap-learn) (57.0.0)\n",
            "Requirement already satisfied: llvmlite<0.35,>=0.34.0.dev0 in /usr/local/lib/python3.7/dist-packages (from numba>=0.49->umap-learn) (0.34.0)\n",
            "Building wheels for collected packages: umap-learn, pynndescent\n",
            "  Building wheel for umap-learn (setup.py) ... \u001b[?25l\u001b[?25hdone\n",
            "  Created wheel for umap-learn: filename=umap_learn-0.5.1-cp37-none-any.whl size=76569 sha256=31328c146cd86f4e209b9ad641fa20fc4c55da05d80ce41f937c51e8ad72afc3\n",
            "  Stored in directory: /root/.cache/pip/wheels/ad/df/d5/a3691296ff779f25cd1cf415a3af954b987fb53111e3392cf4\n",
            "  Building wheel for pynndescent (setup.py) ... \u001b[?25l\u001b[?25hdone\n",
            "  Created wheel for pynndescent: filename=pynndescent-0.5.2-cp37-none-any.whl size=51362 sha256=d18f1921bc2a317d83410dcd6852b18ad1e81230e6d666f913be2d70b950baec\n",
            "  Stored in directory: /root/.cache/pip/wheels/ba/52/4e/4c28d04d144a28f89e2575fb63628df6e6d49b56c5ddd0c74e\n",
            "Successfully built umap-learn pynndescent\n",
            "Installing collected packages: pynndescent, umap-learn\n",
            "Successfully installed pynndescent-0.5.2 umap-learn-0.5.1\n",
            "Collecting hdbscan\n",
            "\u001b[?25l  Downloading https://files.pythonhosted.org/packages/32/bb/59a75bc5ac66a9b4f9b8f979e4545af0e98bb1ca4e6ae96b3b956b554223/hdbscan-0.8.27.tar.gz (6.4MB)\n",
            "\u001b[K     |████████████████████████████████| 6.4MB 2.8MB/s \n",
            "\u001b[?25h  Installing build dependencies ... \u001b[?25l\u001b[?25hdone\n",
            "  Getting requirements to build wheel ... \u001b[?25l\u001b[?25hdone\n",
            "    Preparing wheel metadata ... \u001b[?25l\u001b[?25hdone\n",
            "Requirement already satisfied: scipy>=1.0 in /usr/local/lib/python3.7/dist-packages (from hdbscan) (1.4.1)\n",
            "Requirement already satisfied: six in /usr/local/lib/python3.7/dist-packages (from hdbscan) (1.15.0)\n",
            "Requirement already satisfied: cython>=0.27 in /usr/local/lib/python3.7/dist-packages (from hdbscan) (0.29.23)\n",
            "Requirement already satisfied: numpy>=1.16 in /usr/local/lib/python3.7/dist-packages (from hdbscan) (1.19.5)\n",
            "Requirement already satisfied: joblib>=1.0 in /usr/local/lib/python3.7/dist-packages (from hdbscan) (1.0.1)\n",
            "Requirement already satisfied: scikit-learn>=0.20 in /usr/local/lib/python3.7/dist-packages (from hdbscan) (0.22.2.post1)\n",
            "Building wheels for collected packages: hdbscan\n",
            "  Building wheel for hdbscan (PEP 517) ... \u001b[?25l\u001b[?25hdone\n",
            "  Created wheel for hdbscan: filename=hdbscan-0.8.27-cp37-cp37m-linux_x86_64.whl size=2311743 sha256=80ca4d1c8a3c76815fccf313d8353f48e982152d6c46ecc793d61a44a95fc398\n",
            "  Stored in directory: /root/.cache/pip/wheels/42/63/fb/314ad6c3b270887a3ecb588b8e5aac50b0fad38ff89bb6dff2\n",
            "Successfully built hdbscan\n",
            "Installing collected packages: hdbscan\n",
            "Successfully installed hdbscan-0.8.27\n"
          ],
          "name": "stdout"
        }
      ]
    },
    {
      "cell_type": "code",
      "metadata": {
        "id": "l2iXxyyhkdJ0"
      },
      "source": [
        "import numpy as np\n",
        "import pandas as pd\n",
        "from sklearn.datasets import load_digits\n",
        "from sklearn.model_selection import train_test_split\n",
        "from sklearn.preprocessing import StandardScaler\n",
        "import pandas as pd\n",
        "from pandas.api.types import CategoricalDtype\n",
        "import umap\n",
        "import hdbscan\n",
        "import sklearn.cluster as cluster\n",
        "import matplotlib.pyplot as plt\n",
        "import seaborn as sns\n",
        "import plotly.express as px"
      ],
      "execution_count": 2,
      "outputs": []
    },
    {
      "cell_type": "code",
      "metadata": {
        "id": "WtiRqHhNng-Y"
      },
      "source": [
        "#DATA_FILE = \"data/Farmers_edited data 21.12.2020_IPS_FINAL- WEKA_JM.xlsx\"\n",
        "DATA_FILE = \"https://kt-cloud.ijs.si/index.php/s/zyLj9jkFQFqJfoQ/download\""
      ],
      "execution_count": 3,
      "outputs": []
    },
    {
      "cell_type": "code",
      "metadata": {
        "id": "27PBpsaZn6ek"
      },
      "source": [
        "# Create dataframe\n",
        "df = pd.read_excel(DATA_FILE, header=0, engine='openpyxl', na_values=['?'], usecols=range(81), \n",
        "                   skiprows= range(150,155))"
      ],
      "execution_count": 4,
      "outputs": []
    },
    {
      "cell_type": "code",
      "metadata": {
        "id": "LvxmcuQwr6Bn",
        "colab": {
          "base_uri": "https://localhost:8080/"
        },
        "outputId": "5c754580-ad17-4cb1-8df3-fb637839d5f6"
      },
      "source": [
        "# Show data size\n",
        "df.shape"
      ],
      "execution_count": 5,
      "outputs": [
        {
          "output_type": "execute_result",
          "data": {
            "text/plain": [
              "(149, 81)"
            ]
          },
          "metadata": {
            "tags": []
          },
          "execution_count": 5
        }
      ]
    },
    {
      "cell_type": "code",
      "metadata": {
        "id": "b0PgDIOel2Nq",
        "colab": {
          "base_uri": "https://localhost:8080/",
          "height": 439
        },
        "outputId": "5b2277af-7163-4129-c2fd-6945a1f104a2"
      },
      "source": [
        "df"
      ],
      "execution_count": 6,
      "outputs": [
        {
          "output_type": "execute_result",
          "data": {
            "text/html": [
              "<div>\n",
              "<style scoped>\n",
              "    .dataframe tbody tr th:only-of-type {\n",
              "        vertical-align: middle;\n",
              "    }\n",
              "\n",
              "    .dataframe tbody tr th {\n",
              "        vertical-align: top;\n",
              "    }\n",
              "\n",
              "    .dataframe thead th {\n",
              "        text-align: right;\n",
              "    }\n",
              "</style>\n",
              "<table border=\"1\" class=\"dataframe\">\n",
              "  <thead>\n",
              "    <tr style=\"text-align: right;\">\n",
              "      <th></th>\n",
              "      <th>Region</th>\n",
              "      <th>Country</th>\n",
              "      <th>Subject</th>\n",
              "      <th>Age_Cat</th>\n",
              "      <th>Gender_1male</th>\n",
              "      <th>Degree_Cat</th>\n",
              "      <th>Farm_size_Cat</th>\n",
              "      <th>ProductionUse_selling</th>\n",
              "      <th>Farm_type_Conventional</th>\n",
              "      <th>Farm_type_Intergrated</th>\n",
              "      <th>Farm_type_Organic</th>\n",
              "      <th>Farm_type_Biodynamic</th>\n",
              "      <th>Income_Cat</th>\n",
              "      <th>Proportion_of_income</th>\n",
              "      <th>Production_level_1to7</th>\n",
              "      <th>Production_level_1to3</th>\n",
              "      <th>Crop_Group_Cat</th>\n",
              "      <th>Legislative_requirements</th>\n",
              "      <th>Own_phone</th>\n",
              "      <th>Years_own_phone</th>\n",
              "      <th>Use_DSS_App</th>\n",
              "      <th>Agricultural_app_use_Cat</th>\n",
              "      <th>Computer_at_home</th>\n",
              "      <th>Speed_internet_Cat</th>\n",
              "      <th>Already_used_DSS</th>\n",
              "      <th>How_do_you_access_DSS_Cat</th>\n",
              "      <th>Potencial_user_of_platform</th>\n",
              "      <th>Prefered_access_Phone</th>\n",
              "      <th>Prefered_access_PC</th>\n",
              "      <th>Prefered_access_Advisor</th>\n",
              "      <th>Willing_to_try_new_products_Cat</th>\n",
              "      <th>Price_important_factor</th>\n",
              "      <th>DSS_are_more_suited_for_ShortTermDecision_1</th>\n",
              "      <th>DSS_are_more_suited_for_LongTermDecision_2</th>\n",
              "      <th>DSS_for_ShortLongTermBothDecision_Cat_NO</th>\n",
              "      <th>Prefered_type_Web_1</th>\n",
              "      <th>Prefered_type_Software_2</th>\n",
              "      <th>Prefered_type_Web_Software_Both_Cat_NO</th>\n",
              "      <th>Importance_of_easy_to_use_1to7</th>\n",
              "      <th>Importance_of_easy_to_use_1to2</th>\n",
              "      <th>...</th>\n",
              "      <th>Importance_of_efficient_1to7</th>\n",
              "      <th>Importance_of_efficient_1to2</th>\n",
              "      <th>Importance_of_efficient_1to3</th>\n",
              "      <th>Importance_low_price_1to7</th>\n",
              "      <th>Importance_low_price_1to2</th>\n",
              "      <th>Importance_low_price_1to3</th>\n",
              "      <th>Importance_polyvalence_1to7</th>\n",
              "      <th>Importance_polyvalence_1to2</th>\n",
              "      <th>Importance_polyvalence_1to3</th>\n",
              "      <th>Enjoy_using_new_techs_1to7</th>\n",
              "      <th>Enjoy_using_new_techs_1to2</th>\n",
              "      <th>Enjoy_using_new_techs_1to3</th>\n",
              "      <th>Appreciate_change_1to7</th>\n",
              "      <th>Appreciate_change_1to2</th>\n",
              "      <th>Appreciate_change_1to3</th>\n",
              "      <th>Trust_in_DSS_1to7</th>\n",
              "      <th>Trust_in_DSS_1to2</th>\n",
              "      <th>Trust_in_DSS_1to3</th>\n",
              "      <th>Trust_in_colleague_advice_1to7</th>\n",
              "      <th>Trust_in_colleague_advice_1to2</th>\n",
              "      <th>Trust_in_colleague_advice_1to3</th>\n",
              "      <th>Trust_advice_friend_1to7</th>\n",
              "      <th>Trust_advice_friend_1to2</th>\n",
              "      <th>Trust_advice_friend_1to3</th>\n",
              "      <th>Need_IT_teaching_Cat</th>\n",
              "      <th>DSS_can_improve_your_productivity_Cat</th>\n",
              "      <th>CL_Output_preference_Graphical_1</th>\n",
              "      <th>CL_Output_preference_Textual_2</th>\n",
              "      <th>CL_Output_preference_Both_3</th>\n",
              "      <th>Output_preference_Cat_NO</th>\n",
              "      <th>Share_DSS_exp_with_colleague_Cat</th>\n",
              "      <th>Use_DSS_from_trusted_sources_Always</th>\n",
              "      <th>WTP_for_DSS_Cat</th>\n",
              "      <th>DSS_must_be_tailored_for_your_farm_Cat</th>\n",
              "      <th>Use_same_DSS_than_advisor_Cat</th>\n",
              "      <th>Age_of_DSS_user_at_the_farm_1</th>\n",
              "      <th>Age_of_DSS_user_at_the_farm_2</th>\n",
              "      <th>Age_of_DSS_user_at_the_farm_3</th>\n",
              "      <th>Marketing_info_about_DSS_Cat</th>\n",
              "      <th>Manufacturer_demo_of_DSS_Cat</th>\n",
              "    </tr>\n",
              "  </thead>\n",
              "  <tbody>\n",
              "    <tr>\n",
              "      <th>0</th>\n",
              "      <td>south_EU</td>\n",
              "      <td>Italy</td>\n",
              "      <td>ITALY1</td>\n",
              "      <td>4</td>\n",
              "      <td>1.0</td>\n",
              "      <td>1.0</td>\n",
              "      <td>5.0</td>\n",
              "      <td>1.0</td>\n",
              "      <td>1.0</td>\n",
              "      <td>1.0</td>\n",
              "      <td>0.0</td>\n",
              "      <td>0.0</td>\n",
              "      <td>NaN</td>\n",
              "      <td>0.0</td>\n",
              "      <td>7.0</td>\n",
              "      <td>3.0</td>\n",
              "      <td>1.0</td>\n",
              "      <td>1.0</td>\n",
              "      <td>1</td>\n",
              "      <td>0</td>\n",
              "      <td>1.0</td>\n",
              "      <td>2.0</td>\n",
              "      <td>1</td>\n",
              "      <td>3</td>\n",
              "      <td>0.0</td>\n",
              "      <td>1.0</td>\n",
              "      <td>0.0</td>\n",
              "      <td>NaN</td>\n",
              "      <td>NaN</td>\n",
              "      <td>NaN</td>\n",
              "      <td>2.0</td>\n",
              "      <td>0.0</td>\n",
              "      <td>NaN</td>\n",
              "      <td>NaN</td>\n",
              "      <td>NaN</td>\n",
              "      <td>NaN</td>\n",
              "      <td>NaN</td>\n",
              "      <td>NaN</td>\n",
              "      <td>NaN</td>\n",
              "      <td>NaN</td>\n",
              "      <td>...</td>\n",
              "      <td>NaN</td>\n",
              "      <td>NaN</td>\n",
              "      <td>NaN</td>\n",
              "      <td>NaN</td>\n",
              "      <td>NaN</td>\n",
              "      <td>NaN</td>\n",
              "      <td>NaN</td>\n",
              "      <td>NaN</td>\n",
              "      <td>NaN</td>\n",
              "      <td>NaN</td>\n",
              "      <td>NaN</td>\n",
              "      <td>NaN</td>\n",
              "      <td>7.0</td>\n",
              "      <td>2.0</td>\n",
              "      <td>3.0</td>\n",
              "      <td>1.0</td>\n",
              "      <td>1.0</td>\n",
              "      <td>1.0</td>\n",
              "      <td>2.0</td>\n",
              "      <td>1.0</td>\n",
              "      <td>1.0</td>\n",
              "      <td>2.0</td>\n",
              "      <td>1.0</td>\n",
              "      <td>1.0</td>\n",
              "      <td>1.0</td>\n",
              "      <td>1.0</td>\n",
              "      <td>NaN</td>\n",
              "      <td>NaN</td>\n",
              "      <td>NaN</td>\n",
              "      <td>NaN</td>\n",
              "      <td>2.0</td>\n",
              "      <td>NaN</td>\n",
              "      <td>1.0</td>\n",
              "      <td>1.0</td>\n",
              "      <td>NaN</td>\n",
              "      <td>NaN</td>\n",
              "      <td>NaN</td>\n",
              "      <td>NaN</td>\n",
              "      <td>1.0</td>\n",
              "      <td>1.0</td>\n",
              "    </tr>\n",
              "    <tr>\n",
              "      <th>1</th>\n",
              "      <td>south_EU</td>\n",
              "      <td>Italy</td>\n",
              "      <td>ITALY2</td>\n",
              "      <td>4</td>\n",
              "      <td>1.0</td>\n",
              "      <td>2.0</td>\n",
              "      <td>4.0</td>\n",
              "      <td>1.0</td>\n",
              "      <td>1.0</td>\n",
              "      <td>0.0</td>\n",
              "      <td>0.0</td>\n",
              "      <td>0.0</td>\n",
              "      <td>2.0</td>\n",
              "      <td>0.0</td>\n",
              "      <td>4.0</td>\n",
              "      <td>2.0</td>\n",
              "      <td>2.0</td>\n",
              "      <td>NaN</td>\n",
              "      <td>1</td>\n",
              "      <td>0</td>\n",
              "      <td>NaN</td>\n",
              "      <td>NaN</td>\n",
              "      <td>1</td>\n",
              "      <td>2</td>\n",
              "      <td>NaN</td>\n",
              "      <td>NaN</td>\n",
              "      <td>NaN</td>\n",
              "      <td>NaN</td>\n",
              "      <td>NaN</td>\n",
              "      <td>NaN</td>\n",
              "      <td>NaN</td>\n",
              "      <td>NaN</td>\n",
              "      <td>NaN</td>\n",
              "      <td>NaN</td>\n",
              "      <td>NaN</td>\n",
              "      <td>NaN</td>\n",
              "      <td>NaN</td>\n",
              "      <td>NaN</td>\n",
              "      <td>NaN</td>\n",
              "      <td>NaN</td>\n",
              "      <td>...</td>\n",
              "      <td>NaN</td>\n",
              "      <td>NaN</td>\n",
              "      <td>NaN</td>\n",
              "      <td>NaN</td>\n",
              "      <td>NaN</td>\n",
              "      <td>NaN</td>\n",
              "      <td>NaN</td>\n",
              "      <td>NaN</td>\n",
              "      <td>NaN</td>\n",
              "      <td>7.0</td>\n",
              "      <td>2.0</td>\n",
              "      <td>3.0</td>\n",
              "      <td>7.0</td>\n",
              "      <td>2.0</td>\n",
              "      <td>3.0</td>\n",
              "      <td>6.0</td>\n",
              "      <td>2.0</td>\n",
              "      <td>2.0</td>\n",
              "      <td>2.0</td>\n",
              "      <td>1.0</td>\n",
              "      <td>1.0</td>\n",
              "      <td>4.0</td>\n",
              "      <td>1.0</td>\n",
              "      <td>1.0</td>\n",
              "      <td>2.0</td>\n",
              "      <td>3.0</td>\n",
              "      <td>NaN</td>\n",
              "      <td>NaN</td>\n",
              "      <td>NaN</td>\n",
              "      <td>NaN</td>\n",
              "      <td>2.0</td>\n",
              "      <td>NaN</td>\n",
              "      <td>1.0</td>\n",
              "      <td>2.0</td>\n",
              "      <td>NaN</td>\n",
              "      <td>0.0</td>\n",
              "      <td>1.0</td>\n",
              "      <td>0.0</td>\n",
              "      <td>2.0</td>\n",
              "      <td>2.0</td>\n",
              "    </tr>\n",
              "    <tr>\n",
              "      <th>2</th>\n",
              "      <td>south_EU</td>\n",
              "      <td>Italy</td>\n",
              "      <td>ITALY3</td>\n",
              "      <td>2</td>\n",
              "      <td>1.0</td>\n",
              "      <td>2.0</td>\n",
              "      <td>5.0</td>\n",
              "      <td>1.0</td>\n",
              "      <td>1.0</td>\n",
              "      <td>0.0</td>\n",
              "      <td>0.0</td>\n",
              "      <td>0.0</td>\n",
              "      <td>2.0</td>\n",
              "      <td>100.0</td>\n",
              "      <td>5.0</td>\n",
              "      <td>3.0</td>\n",
              "      <td>1.0</td>\n",
              "      <td>1.0</td>\n",
              "      <td>1</td>\n",
              "      <td>10</td>\n",
              "      <td>1.0</td>\n",
              "      <td>2.0</td>\n",
              "      <td>1</td>\n",
              "      <td>2</td>\n",
              "      <td>0.0</td>\n",
              "      <td>1.0</td>\n",
              "      <td>0.0</td>\n",
              "      <td>1.0</td>\n",
              "      <td>1.0</td>\n",
              "      <td>1.0</td>\n",
              "      <td>1.0</td>\n",
              "      <td>1.0</td>\n",
              "      <td>1.0</td>\n",
              "      <td>0.0</td>\n",
              "      <td>1.0</td>\n",
              "      <td>1.0</td>\n",
              "      <td>0.0</td>\n",
              "      <td>1.0</td>\n",
              "      <td>7.0</td>\n",
              "      <td>2.0</td>\n",
              "      <td>...</td>\n",
              "      <td>7.0</td>\n",
              "      <td>2.0</td>\n",
              "      <td>3.0</td>\n",
              "      <td>5.0</td>\n",
              "      <td>1.0</td>\n",
              "      <td>2.0</td>\n",
              "      <td>7.0</td>\n",
              "      <td>2.0</td>\n",
              "      <td>3.0</td>\n",
              "      <td>4.0</td>\n",
              "      <td>1.0</td>\n",
              "      <td>1.0</td>\n",
              "      <td>4.0</td>\n",
              "      <td>1.0</td>\n",
              "      <td>1.0</td>\n",
              "      <td>5.0</td>\n",
              "      <td>1.0</td>\n",
              "      <td>2.0</td>\n",
              "      <td>5.0</td>\n",
              "      <td>1.0</td>\n",
              "      <td>2.0</td>\n",
              "      <td>5.0</td>\n",
              "      <td>1.0</td>\n",
              "      <td>2.0</td>\n",
              "      <td>2.0</td>\n",
              "      <td>3.0</td>\n",
              "      <td>0.0</td>\n",
              "      <td>0.0</td>\n",
              "      <td>1.0</td>\n",
              "      <td>3.0</td>\n",
              "      <td>1.0</td>\n",
              "      <td>NaN</td>\n",
              "      <td>2.0</td>\n",
              "      <td>2.0</td>\n",
              "      <td>1.0</td>\n",
              "      <td>NaN</td>\n",
              "      <td>NaN</td>\n",
              "      <td>NaN</td>\n",
              "      <td>2.0</td>\n",
              "      <td>2.0</td>\n",
              "    </tr>\n",
              "    <tr>\n",
              "      <th>3</th>\n",
              "      <td>south_EU</td>\n",
              "      <td>Italy</td>\n",
              "      <td>ITALY4</td>\n",
              "      <td>2</td>\n",
              "      <td>1.0</td>\n",
              "      <td>2.0</td>\n",
              "      <td>4.0</td>\n",
              "      <td>1.0</td>\n",
              "      <td>0.0</td>\n",
              "      <td>0.0</td>\n",
              "      <td>0.0</td>\n",
              "      <td>0.0</td>\n",
              "      <td>5.0</td>\n",
              "      <td>90.0</td>\n",
              "      <td>5.0</td>\n",
              "      <td>3.0</td>\n",
              "      <td>1.0</td>\n",
              "      <td>1.0</td>\n",
              "      <td>1</td>\n",
              "      <td>10</td>\n",
              "      <td>0.0</td>\n",
              "      <td>NaN</td>\n",
              "      <td>1</td>\n",
              "      <td>2</td>\n",
              "      <td>0.0</td>\n",
              "      <td>1.0</td>\n",
              "      <td>0.0</td>\n",
              "      <td>1.0</td>\n",
              "      <td>0.0</td>\n",
              "      <td>0.0</td>\n",
              "      <td>1.0</td>\n",
              "      <td>1.0</td>\n",
              "      <td>0.0</td>\n",
              "      <td>1.0</td>\n",
              "      <td>2.0</td>\n",
              "      <td>0.0</td>\n",
              "      <td>1.0</td>\n",
              "      <td>2.0</td>\n",
              "      <td>7.0</td>\n",
              "      <td>2.0</td>\n",
              "      <td>...</td>\n",
              "      <td>6.0</td>\n",
              "      <td>2.0</td>\n",
              "      <td>2.0</td>\n",
              "      <td>4.0</td>\n",
              "      <td>1.0</td>\n",
              "      <td>1.0</td>\n",
              "      <td>6.0</td>\n",
              "      <td>2.0</td>\n",
              "      <td>2.0</td>\n",
              "      <td>6.0</td>\n",
              "      <td>2.0</td>\n",
              "      <td>2.0</td>\n",
              "      <td>6.0</td>\n",
              "      <td>2.0</td>\n",
              "      <td>2.0</td>\n",
              "      <td>4.0</td>\n",
              "      <td>1.0</td>\n",
              "      <td>1.0</td>\n",
              "      <td>4.0</td>\n",
              "      <td>1.0</td>\n",
              "      <td>1.0</td>\n",
              "      <td>4.0</td>\n",
              "      <td>1.0</td>\n",
              "      <td>1.0</td>\n",
              "      <td>2.0</td>\n",
              "      <td>3.0</td>\n",
              "      <td>0.0</td>\n",
              "      <td>0.0</td>\n",
              "      <td>1.0</td>\n",
              "      <td>3.0</td>\n",
              "      <td>NaN</td>\n",
              "      <td>NaN</td>\n",
              "      <td>3.0</td>\n",
              "      <td>2.0</td>\n",
              "      <td>NaN</td>\n",
              "      <td>1.0</td>\n",
              "      <td>0.0</td>\n",
              "      <td>0.0</td>\n",
              "      <td>NaN</td>\n",
              "      <td>1.0</td>\n",
              "    </tr>\n",
              "    <tr>\n",
              "      <th>4</th>\n",
              "      <td>south_EU</td>\n",
              "      <td>Italy</td>\n",
              "      <td>ITALY5</td>\n",
              "      <td>2</td>\n",
              "      <td>1.0</td>\n",
              "      <td>2.0</td>\n",
              "      <td>5.0</td>\n",
              "      <td>1.0</td>\n",
              "      <td>0.0</td>\n",
              "      <td>1.0</td>\n",
              "      <td>0.0</td>\n",
              "      <td>0.0</td>\n",
              "      <td>5.0</td>\n",
              "      <td>0.0</td>\n",
              "      <td>4.0</td>\n",
              "      <td>2.0</td>\n",
              "      <td>2.0</td>\n",
              "      <td>1.0</td>\n",
              "      <td>1</td>\n",
              "      <td>10</td>\n",
              "      <td>1.0</td>\n",
              "      <td>3.0</td>\n",
              "      <td>1</td>\n",
              "      <td>2</td>\n",
              "      <td>1.0</td>\n",
              "      <td>3.0</td>\n",
              "      <td>1.0</td>\n",
              "      <td>1.0</td>\n",
              "      <td>0.0</td>\n",
              "      <td>0.0</td>\n",
              "      <td>1.0</td>\n",
              "      <td>1.0</td>\n",
              "      <td>1.0</td>\n",
              "      <td>0.0</td>\n",
              "      <td>1.0</td>\n",
              "      <td>1.0</td>\n",
              "      <td>0.0</td>\n",
              "      <td>1.0</td>\n",
              "      <td>7.0</td>\n",
              "      <td>2.0</td>\n",
              "      <td>...</td>\n",
              "      <td>7.0</td>\n",
              "      <td>2.0</td>\n",
              "      <td>3.0</td>\n",
              "      <td>4.0</td>\n",
              "      <td>1.0</td>\n",
              "      <td>1.0</td>\n",
              "      <td>6.0</td>\n",
              "      <td>2.0</td>\n",
              "      <td>2.0</td>\n",
              "      <td>5.0</td>\n",
              "      <td>1.0</td>\n",
              "      <td>2.0</td>\n",
              "      <td>4.0</td>\n",
              "      <td>1.0</td>\n",
              "      <td>1.0</td>\n",
              "      <td>4.0</td>\n",
              "      <td>1.0</td>\n",
              "      <td>1.0</td>\n",
              "      <td>4.0</td>\n",
              "      <td>1.0</td>\n",
              "      <td>1.0</td>\n",
              "      <td>4.0</td>\n",
              "      <td>1.0</td>\n",
              "      <td>1.0</td>\n",
              "      <td>2.0</td>\n",
              "      <td>3.0</td>\n",
              "      <td>0.0</td>\n",
              "      <td>0.0</td>\n",
              "      <td>1.0</td>\n",
              "      <td>3.0</td>\n",
              "      <td>3.0</td>\n",
              "      <td>1.0</td>\n",
              "      <td>3.0</td>\n",
              "      <td>2.0</td>\n",
              "      <td>2.0</td>\n",
              "      <td>1.0</td>\n",
              "      <td>0.0</td>\n",
              "      <td>0.0</td>\n",
              "      <td>2.0</td>\n",
              "      <td>2.0</td>\n",
              "    </tr>\n",
              "    <tr>\n",
              "      <th>...</th>\n",
              "      <td>...</td>\n",
              "      <td>...</td>\n",
              "      <td>...</td>\n",
              "      <td>...</td>\n",
              "      <td>...</td>\n",
              "      <td>...</td>\n",
              "      <td>...</td>\n",
              "      <td>...</td>\n",
              "      <td>...</td>\n",
              "      <td>...</td>\n",
              "      <td>...</td>\n",
              "      <td>...</td>\n",
              "      <td>...</td>\n",
              "      <td>...</td>\n",
              "      <td>...</td>\n",
              "      <td>...</td>\n",
              "      <td>...</td>\n",
              "      <td>...</td>\n",
              "      <td>...</td>\n",
              "      <td>...</td>\n",
              "      <td>...</td>\n",
              "      <td>...</td>\n",
              "      <td>...</td>\n",
              "      <td>...</td>\n",
              "      <td>...</td>\n",
              "      <td>...</td>\n",
              "      <td>...</td>\n",
              "      <td>...</td>\n",
              "      <td>...</td>\n",
              "      <td>...</td>\n",
              "      <td>...</td>\n",
              "      <td>...</td>\n",
              "      <td>...</td>\n",
              "      <td>...</td>\n",
              "      <td>...</td>\n",
              "      <td>...</td>\n",
              "      <td>...</td>\n",
              "      <td>...</td>\n",
              "      <td>...</td>\n",
              "      <td>...</td>\n",
              "      <td>...</td>\n",
              "      <td>...</td>\n",
              "      <td>...</td>\n",
              "      <td>...</td>\n",
              "      <td>...</td>\n",
              "      <td>...</td>\n",
              "      <td>...</td>\n",
              "      <td>...</td>\n",
              "      <td>...</td>\n",
              "      <td>...</td>\n",
              "      <td>...</td>\n",
              "      <td>...</td>\n",
              "      <td>...</td>\n",
              "      <td>...</td>\n",
              "      <td>...</td>\n",
              "      <td>...</td>\n",
              "      <td>...</td>\n",
              "      <td>...</td>\n",
              "      <td>...</td>\n",
              "      <td>...</td>\n",
              "      <td>...</td>\n",
              "      <td>...</td>\n",
              "      <td>...</td>\n",
              "      <td>...</td>\n",
              "      <td>...</td>\n",
              "      <td>...</td>\n",
              "      <td>...</td>\n",
              "      <td>...</td>\n",
              "      <td>...</td>\n",
              "      <td>...</td>\n",
              "      <td>...</td>\n",
              "      <td>...</td>\n",
              "      <td>...</td>\n",
              "      <td>...</td>\n",
              "      <td>...</td>\n",
              "      <td>...</td>\n",
              "      <td>...</td>\n",
              "      <td>...</td>\n",
              "      <td>...</td>\n",
              "      <td>...</td>\n",
              "      <td>...</td>\n",
              "    </tr>\n",
              "    <tr>\n",
              "      <th>144</th>\n",
              "      <td>south_EU</td>\n",
              "      <td>Greece</td>\n",
              "      <td>GR12315</td>\n",
              "      <td>4</td>\n",
              "      <td>1.0</td>\n",
              "      <td>2.0</td>\n",
              "      <td>3.0</td>\n",
              "      <td>NaN</td>\n",
              "      <td>NaN</td>\n",
              "      <td>NaN</td>\n",
              "      <td>NaN</td>\n",
              "      <td>NaN</td>\n",
              "      <td>2.0</td>\n",
              "      <td>50.0</td>\n",
              "      <td>NaN</td>\n",
              "      <td>NaN</td>\n",
              "      <td>NaN</td>\n",
              "      <td>1.0</td>\n",
              "      <td>1</td>\n",
              "      <td>22</td>\n",
              "      <td>0.0</td>\n",
              "      <td>NaN</td>\n",
              "      <td>1</td>\n",
              "      <td>2</td>\n",
              "      <td>NaN</td>\n",
              "      <td>NaN</td>\n",
              "      <td>NaN</td>\n",
              "      <td>0.0</td>\n",
              "      <td>1.0</td>\n",
              "      <td>0.0</td>\n",
              "      <td>1.0</td>\n",
              "      <td>0.0</td>\n",
              "      <td>1.0</td>\n",
              "      <td>0.0</td>\n",
              "      <td>1.0</td>\n",
              "      <td>1.0</td>\n",
              "      <td>0.0</td>\n",
              "      <td>1.0</td>\n",
              "      <td>4.0</td>\n",
              "      <td>1.0</td>\n",
              "      <td>...</td>\n",
              "      <td>7.0</td>\n",
              "      <td>2.0</td>\n",
              "      <td>3.0</td>\n",
              "      <td>4.0</td>\n",
              "      <td>1.0</td>\n",
              "      <td>1.0</td>\n",
              "      <td>6.0</td>\n",
              "      <td>2.0</td>\n",
              "      <td>2.0</td>\n",
              "      <td>7.0</td>\n",
              "      <td>2.0</td>\n",
              "      <td>3.0</td>\n",
              "      <td>7.0</td>\n",
              "      <td>2.0</td>\n",
              "      <td>3.0</td>\n",
              "      <td>6.0</td>\n",
              "      <td>2.0</td>\n",
              "      <td>2.0</td>\n",
              "      <td>2.0</td>\n",
              "      <td>1.0</td>\n",
              "      <td>1.0</td>\n",
              "      <td>2.0</td>\n",
              "      <td>1.0</td>\n",
              "      <td>1.0</td>\n",
              "      <td>2.0</td>\n",
              "      <td>2.0</td>\n",
              "      <td>0.0</td>\n",
              "      <td>0.0</td>\n",
              "      <td>1.0</td>\n",
              "      <td>3.0</td>\n",
              "      <td>NaN</td>\n",
              "      <td>NaN</td>\n",
              "      <td>2.0</td>\n",
              "      <td>2.0</td>\n",
              "      <td>NaN</td>\n",
              "      <td>NaN</td>\n",
              "      <td>NaN</td>\n",
              "      <td>NaN</td>\n",
              "      <td>NaN</td>\n",
              "      <td>1.0</td>\n",
              "    </tr>\n",
              "    <tr>\n",
              "      <th>145</th>\n",
              "      <td>south_EU</td>\n",
              "      <td>Greece</td>\n",
              "      <td>GR12241</td>\n",
              "      <td>3</td>\n",
              "      <td>1.0</td>\n",
              "      <td>NaN</td>\n",
              "      <td>3.0</td>\n",
              "      <td>NaN</td>\n",
              "      <td>NaN</td>\n",
              "      <td>NaN</td>\n",
              "      <td>NaN</td>\n",
              "      <td>NaN</td>\n",
              "      <td>1.0</td>\n",
              "      <td>100.0</td>\n",
              "      <td>NaN</td>\n",
              "      <td>NaN</td>\n",
              "      <td>NaN</td>\n",
              "      <td>1.0</td>\n",
              "      <td>1</td>\n",
              "      <td>23</td>\n",
              "      <td>0.0</td>\n",
              "      <td>NaN</td>\n",
              "      <td>1</td>\n",
              "      <td>3</td>\n",
              "      <td>1.0</td>\n",
              "      <td>3.0</td>\n",
              "      <td>1.0</td>\n",
              "      <td>0.0</td>\n",
              "      <td>1.0</td>\n",
              "      <td>0.0</td>\n",
              "      <td>1.0</td>\n",
              "      <td>0.0</td>\n",
              "      <td>0.0</td>\n",
              "      <td>1.0</td>\n",
              "      <td>2.0</td>\n",
              "      <td>1.0</td>\n",
              "      <td>0.0</td>\n",
              "      <td>1.0</td>\n",
              "      <td>NaN</td>\n",
              "      <td>NaN</td>\n",
              "      <td>...</td>\n",
              "      <td>5.0</td>\n",
              "      <td>1.0</td>\n",
              "      <td>2.0</td>\n",
              "      <td>NaN</td>\n",
              "      <td>NaN</td>\n",
              "      <td>NaN</td>\n",
              "      <td>5.0</td>\n",
              "      <td>1.0</td>\n",
              "      <td>2.0</td>\n",
              "      <td>6.0</td>\n",
              "      <td>2.0</td>\n",
              "      <td>2.0</td>\n",
              "      <td>5.0</td>\n",
              "      <td>1.0</td>\n",
              "      <td>2.0</td>\n",
              "      <td>5.0</td>\n",
              "      <td>1.0</td>\n",
              "      <td>2.0</td>\n",
              "      <td>1.0</td>\n",
              "      <td>1.0</td>\n",
              "      <td>1.0</td>\n",
              "      <td>1.0</td>\n",
              "      <td>1.0</td>\n",
              "      <td>1.0</td>\n",
              "      <td>2.0</td>\n",
              "      <td>4.0</td>\n",
              "      <td>0.0</td>\n",
              "      <td>0.0</td>\n",
              "      <td>1.0</td>\n",
              "      <td>3.0</td>\n",
              "      <td>2.0</td>\n",
              "      <td>1.0</td>\n",
              "      <td>3.0</td>\n",
              "      <td>2.0</td>\n",
              "      <td>NaN</td>\n",
              "      <td>0.0</td>\n",
              "      <td>1.0</td>\n",
              "      <td>0.0</td>\n",
              "      <td>2.0</td>\n",
              "      <td>1.0</td>\n",
              "    </tr>\n",
              "    <tr>\n",
              "      <th>146</th>\n",
              "      <td>south_EU</td>\n",
              "      <td>Greece</td>\n",
              "      <td>GR12209</td>\n",
              "      <td>2</td>\n",
              "      <td>1.0</td>\n",
              "      <td>3.0</td>\n",
              "      <td>5.0</td>\n",
              "      <td>NaN</td>\n",
              "      <td>NaN</td>\n",
              "      <td>NaN</td>\n",
              "      <td>NaN</td>\n",
              "      <td>NaN</td>\n",
              "      <td>4.0</td>\n",
              "      <td>50.0</td>\n",
              "      <td>NaN</td>\n",
              "      <td>NaN</td>\n",
              "      <td>NaN</td>\n",
              "      <td>0.0</td>\n",
              "      <td>1</td>\n",
              "      <td>16</td>\n",
              "      <td>0.0</td>\n",
              "      <td>NaN</td>\n",
              "      <td>1</td>\n",
              "      <td>3</td>\n",
              "      <td>NaN</td>\n",
              "      <td>NaN</td>\n",
              "      <td>NaN</td>\n",
              "      <td>1.0</td>\n",
              "      <td>0.0</td>\n",
              "      <td>0.0</td>\n",
              "      <td>1.0</td>\n",
              "      <td>1.0</td>\n",
              "      <td>1.0</td>\n",
              "      <td>1.0</td>\n",
              "      <td>3.0</td>\n",
              "      <td>1.0</td>\n",
              "      <td>0.0</td>\n",
              "      <td>1.0</td>\n",
              "      <td>4.0</td>\n",
              "      <td>1.0</td>\n",
              "      <td>...</td>\n",
              "      <td>7.0</td>\n",
              "      <td>2.0</td>\n",
              "      <td>3.0</td>\n",
              "      <td>4.0</td>\n",
              "      <td>1.0</td>\n",
              "      <td>1.0</td>\n",
              "      <td>7.0</td>\n",
              "      <td>2.0</td>\n",
              "      <td>3.0</td>\n",
              "      <td>7.0</td>\n",
              "      <td>2.0</td>\n",
              "      <td>3.0</td>\n",
              "      <td>7.0</td>\n",
              "      <td>2.0</td>\n",
              "      <td>3.0</td>\n",
              "      <td>5.0</td>\n",
              "      <td>1.0</td>\n",
              "      <td>2.0</td>\n",
              "      <td>3.0</td>\n",
              "      <td>1.0</td>\n",
              "      <td>1.0</td>\n",
              "      <td>2.0</td>\n",
              "      <td>1.0</td>\n",
              "      <td>1.0</td>\n",
              "      <td>2.0</td>\n",
              "      <td>3.0</td>\n",
              "      <td>1.0</td>\n",
              "      <td>0.0</td>\n",
              "      <td>0.0</td>\n",
              "      <td>1.0</td>\n",
              "      <td>NaN</td>\n",
              "      <td>NaN</td>\n",
              "      <td>3.0</td>\n",
              "      <td>2.0</td>\n",
              "      <td>NaN</td>\n",
              "      <td>NaN</td>\n",
              "      <td>NaN</td>\n",
              "      <td>NaN</td>\n",
              "      <td>NaN</td>\n",
              "      <td>1.0</td>\n",
              "    </tr>\n",
              "    <tr>\n",
              "      <th>147</th>\n",
              "      <td>south_EU</td>\n",
              "      <td>Greece</td>\n",
              "      <td>GR12125</td>\n",
              "      <td>3</td>\n",
              "      <td>1.0</td>\n",
              "      <td>2.0</td>\n",
              "      <td>3.0</td>\n",
              "      <td>NaN</td>\n",
              "      <td>NaN</td>\n",
              "      <td>NaN</td>\n",
              "      <td>NaN</td>\n",
              "      <td>NaN</td>\n",
              "      <td>3.0</td>\n",
              "      <td>100.0</td>\n",
              "      <td>NaN</td>\n",
              "      <td>NaN</td>\n",
              "      <td>NaN</td>\n",
              "      <td>1.0</td>\n",
              "      <td>1</td>\n",
              "      <td>22</td>\n",
              "      <td>0.0</td>\n",
              "      <td>NaN</td>\n",
              "      <td>1</td>\n",
              "      <td>3</td>\n",
              "      <td>NaN</td>\n",
              "      <td>NaN</td>\n",
              "      <td>NaN</td>\n",
              "      <td>0.0</td>\n",
              "      <td>1.0</td>\n",
              "      <td>0.0</td>\n",
              "      <td>1.0</td>\n",
              "      <td>0.0</td>\n",
              "      <td>0.0</td>\n",
              "      <td>1.0</td>\n",
              "      <td>2.0</td>\n",
              "      <td>1.0</td>\n",
              "      <td>0.0</td>\n",
              "      <td>1.0</td>\n",
              "      <td>5.0</td>\n",
              "      <td>1.0</td>\n",
              "      <td>...</td>\n",
              "      <td>5.0</td>\n",
              "      <td>1.0</td>\n",
              "      <td>2.0</td>\n",
              "      <td>2.0</td>\n",
              "      <td>1.0</td>\n",
              "      <td>1.0</td>\n",
              "      <td>6.0</td>\n",
              "      <td>2.0</td>\n",
              "      <td>2.0</td>\n",
              "      <td>6.0</td>\n",
              "      <td>2.0</td>\n",
              "      <td>2.0</td>\n",
              "      <td>7.0</td>\n",
              "      <td>2.0</td>\n",
              "      <td>3.0</td>\n",
              "      <td>5.0</td>\n",
              "      <td>1.0</td>\n",
              "      <td>2.0</td>\n",
              "      <td>3.0</td>\n",
              "      <td>1.0</td>\n",
              "      <td>1.0</td>\n",
              "      <td>2.0</td>\n",
              "      <td>1.0</td>\n",
              "      <td>1.0</td>\n",
              "      <td>2.0</td>\n",
              "      <td>4.0</td>\n",
              "      <td>0.0</td>\n",
              "      <td>0.0</td>\n",
              "      <td>1.0</td>\n",
              "      <td>3.0</td>\n",
              "      <td>2.0</td>\n",
              "      <td>NaN</td>\n",
              "      <td>2.0</td>\n",
              "      <td>2.0</td>\n",
              "      <td>NaN</td>\n",
              "      <td>NaN</td>\n",
              "      <td>NaN</td>\n",
              "      <td>NaN</td>\n",
              "      <td>1.0</td>\n",
              "      <td>1.0</td>\n",
              "    </tr>\n",
              "    <tr>\n",
              "      <th>148</th>\n",
              "      <td>south_EU</td>\n",
              "      <td>Greece</td>\n",
              "      <td>GR11931</td>\n",
              "      <td>2</td>\n",
              "      <td>1.0</td>\n",
              "      <td>3.0</td>\n",
              "      <td>5.0</td>\n",
              "      <td>NaN</td>\n",
              "      <td>NaN</td>\n",
              "      <td>NaN</td>\n",
              "      <td>NaN</td>\n",
              "      <td>NaN</td>\n",
              "      <td>2.0</td>\n",
              "      <td>40.0</td>\n",
              "      <td>NaN</td>\n",
              "      <td>NaN</td>\n",
              "      <td>NaN</td>\n",
              "      <td>1.0</td>\n",
              "      <td>1</td>\n",
              "      <td>18</td>\n",
              "      <td>1.0</td>\n",
              "      <td>NaN</td>\n",
              "      <td>1</td>\n",
              "      <td>2</td>\n",
              "      <td>1.0</td>\n",
              "      <td>3.0</td>\n",
              "      <td>1.0</td>\n",
              "      <td>0.0</td>\n",
              "      <td>1.0</td>\n",
              "      <td>0.0</td>\n",
              "      <td>1.0</td>\n",
              "      <td>1.0</td>\n",
              "      <td>1.0</td>\n",
              "      <td>1.0</td>\n",
              "      <td>3.0</td>\n",
              "      <td>1.0</td>\n",
              "      <td>0.0</td>\n",
              "      <td>1.0</td>\n",
              "      <td>4.0</td>\n",
              "      <td>1.0</td>\n",
              "      <td>...</td>\n",
              "      <td>6.0</td>\n",
              "      <td>2.0</td>\n",
              "      <td>2.0</td>\n",
              "      <td>5.0</td>\n",
              "      <td>1.0</td>\n",
              "      <td>2.0</td>\n",
              "      <td>7.0</td>\n",
              "      <td>2.0</td>\n",
              "      <td>3.0</td>\n",
              "      <td>6.0</td>\n",
              "      <td>2.0</td>\n",
              "      <td>2.0</td>\n",
              "      <td>5.0</td>\n",
              "      <td>1.0</td>\n",
              "      <td>2.0</td>\n",
              "      <td>4.0</td>\n",
              "      <td>1.0</td>\n",
              "      <td>1.0</td>\n",
              "      <td>4.0</td>\n",
              "      <td>1.0</td>\n",
              "      <td>1.0</td>\n",
              "      <td>4.0</td>\n",
              "      <td>1.0</td>\n",
              "      <td>1.0</td>\n",
              "      <td>2.0</td>\n",
              "      <td>4.0</td>\n",
              "      <td>0.0</td>\n",
              "      <td>0.0</td>\n",
              "      <td>1.0</td>\n",
              "      <td>3.0</td>\n",
              "      <td>3.0</td>\n",
              "      <td>1.0</td>\n",
              "      <td>2.0</td>\n",
              "      <td>2.0</td>\n",
              "      <td>1.0</td>\n",
              "      <td>0.0</td>\n",
              "      <td>1.0</td>\n",
              "      <td>0.0</td>\n",
              "      <td>2.0</td>\n",
              "      <td>1.0</td>\n",
              "    </tr>\n",
              "  </tbody>\n",
              "</table>\n",
              "<p>149 rows × 81 columns</p>\n",
              "</div>"
            ],
            "text/plain": [
              "       Region  ... Manufacturer_demo_of_DSS_Cat\n",
              "0    south_EU  ...                          1.0\n",
              "1    south_EU  ...                          2.0\n",
              "2    south_EU  ...                          2.0\n",
              "3    south_EU  ...                          1.0\n",
              "4    south_EU  ...                          2.0\n",
              "..        ...  ...                          ...\n",
              "144  south_EU  ...                          1.0\n",
              "145  south_EU  ...                          1.0\n",
              "146  south_EU  ...                          1.0\n",
              "147  south_EU  ...                          1.0\n",
              "148  south_EU  ...                          1.0\n",
              "\n",
              "[149 rows x 81 columns]"
            ]
          },
          "metadata": {
            "tags": []
          },
          "execution_count": 6
        }
      ]
    },
    {
      "cell_type": "code",
      "metadata": {
        "id": "1BwwIb_nqyKm"
      },
      "source": [
        "# Remove duplicate features and \"Subject\" feature.\n",
        "dup_feat = [\"Subject\", \"Production_level_1to7\", \"DSS_for_ShortLongTermBothDecision_Cat_NO\", \"Prefered_type_Web_Software_Both_Cat_NO\", \n",
        "            \"Importance_of_easy_to_use_1to7\", \"Importance_of_easy_to_use_1to2\", \"Importance_of_efficient_1to7\", \"Importance_of_efficient_1to2\", \n",
        "            \"Importance_low_price_1to7\", \"Importance_low_price_1to2\", \"Importance_polyvalence_1to7\", \"Importance_polyvalence_1to2\", \n",
        "            \"Enjoy_using_new_techs_1to7\", \"Enjoy_using_new_techs_1to2\", \"Appreciate_change_1to7\", \"Appreciate_change_1to2\",\n",
        "            \"Trust_in_DSS_1to7\", \"Trust_in_DSS_1to2\", \"Trust_in_colleague_advice_1to7\", \"Trust_in_colleague_advice_1to2\",\n",
        "            \"Trust_advice_friend_1to7\", \"Trust_advice_friend_1to2\", \"Output_preference_Cat_NO\"] \n",
        "df_reduced = df.drop(dup_feat, axis=1)"
      ],
      "execution_count": 7,
      "outputs": []
    },
    {
      "cell_type": "code",
      "metadata": {
        "colab": {
          "base_uri": "https://localhost:8080/"
        },
        "id": "ocfM2RDzrfKE",
        "outputId": "e92fac6e-54fc-4b31-f2c1-12b0d8769a8d"
      },
      "source": [
        "df_reduced.shape"
      ],
      "execution_count": 8,
      "outputs": [
        {
          "output_type": "execute_result",
          "data": {
            "text/plain": [
              "(149, 58)"
            ]
          },
          "metadata": {
            "tags": []
          },
          "execution_count": 8
        }
      ]
    },
    {
      "cell_type": "code",
      "metadata": {
        "id": "i0MxT2vNnfrn"
      },
      "source": [
        "# Remove feature specific to Question #3 \"DSS_can_improve_your_productivity_Cat\"\n",
        "removed_featuresQ3 = [\"Country\", \"ProductionUse_selling\", \"Farm_type_Conventional\", \"Farm_type_Intergrated\", \"Farm_type_Organic\",\n",
        "             \"Farm_type_Biodynamic\", \"Proportion_of_income\", \"Production_level_1to3\", \"Crop_Group_Cat\", \"Own_phone\", \"Years_own_phone\", \n",
        "             \"Use_DSS_App\", \"Agricultural_app_use_Cat\", \"Computer_at_home\", \"Speed_internet_Cat\", \"How_do_you_access_DSS_Cat\", \"Potencial_user_of_platform\", \n",
        "             \"Prefered_access_Phone\", \"Prefered_access_PC\", \"Prefered_access_Advisor\", \"Willing_to_try_new_products_Cat\", \"Price_important_factor\", \n",
        "             \"Prefered_type_Web_1\", \"Prefered_type_Software_2\", \"Importance_of_easy_to_use_1to3\", \"Importance_of_efficient_1to3\", \"Importance_low_price_1to3\", \n",
        "             \"Importance_polyvalence_1to3\", \"Enjoy_using_new_techs_1to3\", \"Appreciate_change_1to3\", \n",
        "             \"Trust_in_colleague_advice_1to3\", \"Trust_advice_friend_1to3\", \"Need_IT_teaching_Cat\",\n",
        "              \"CL_Output_preference_Graphical_1\", \"CL_Output_preference_Textual_2\",\n",
        "             \"CL_Output_preference_Both_3\", \"Share_DSS_exp_with_colleague_Cat\", \"Use_DSS_from_trusted_sources_Always\", \"WTP_for_DSS_Cat\", \"DSS_must_be_tailored_for_your_farm_Cat\",\n",
        "             \"Use_same_DSS_than_advisor_Cat\", \"Age_of_DSS_user_at_the_farm_1\", \n",
        "             \"Age_of_DSS_user_at_the_farm_2\", \"Age_of_DSS_user_at_the_farm_3\", \"Marketing_info_about_DSS_Cat\"]\n",
        "df_reducedQ3 = df_reduced.copy().drop(removed_featuresQ2, axis=1)"
      ],
      "execution_count": 9,
      "outputs": []
    },
    {
      "cell_type": "code",
      "metadata": {
        "id": "OzqvgdFqkdJ-",
        "colab": {
          "base_uri": "https://localhost:8080/"
        },
        "outputId": "3632f63a-e039-49df-f87b-eb8bb7b6f7be"
      },
      "source": [
        "df_reducedQ3.shape"
      ],
      "execution_count": 10,
      "outputs": [
        {
          "output_type": "execute_result",
          "data": {
            "text/plain": [
              "(149, 13)"
            ]
          },
          "metadata": {
            "tags": []
          },
          "execution_count": 10
        }
      ]
    },
    {
      "cell_type": "code",
      "metadata": {
        "colab": {
          "base_uri": "https://localhost:8080/",
          "height": 439
        },
        "id": "sLbHySjan24b",
        "outputId": "5fc3c9d3-f929-46c5-896d-a92ac4f0929f"
      },
      "source": [
        "df_reducedQ3"
      ],
      "execution_count": 11,
      "outputs": [
        {
          "output_type": "execute_result",
          "data": {
            "text/html": [
              "<div>\n",
              "<style scoped>\n",
              "    .dataframe tbody tr th:only-of-type {\n",
              "        vertical-align: middle;\n",
              "    }\n",
              "\n",
              "    .dataframe tbody tr th {\n",
              "        vertical-align: top;\n",
              "    }\n",
              "\n",
              "    .dataframe thead th {\n",
              "        text-align: right;\n",
              "    }\n",
              "</style>\n",
              "<table border=\"1\" class=\"dataframe\">\n",
              "  <thead>\n",
              "    <tr style=\"text-align: right;\">\n",
              "      <th></th>\n",
              "      <th>Region</th>\n",
              "      <th>Age_Cat</th>\n",
              "      <th>Gender_1male</th>\n",
              "      <th>Degree_Cat</th>\n",
              "      <th>Farm_size_Cat</th>\n",
              "      <th>Income_Cat</th>\n",
              "      <th>Legislative_requirements</th>\n",
              "      <th>Already_used_DSS</th>\n",
              "      <th>DSS_are_more_suited_for_ShortTermDecision_1</th>\n",
              "      <th>DSS_are_more_suited_for_LongTermDecision_2</th>\n",
              "      <th>Trust_in_DSS_1to3</th>\n",
              "      <th>DSS_can_improve_your_productivity_Cat</th>\n",
              "      <th>Manufacturer_demo_of_DSS_Cat</th>\n",
              "    </tr>\n",
              "  </thead>\n",
              "  <tbody>\n",
              "    <tr>\n",
              "      <th>0</th>\n",
              "      <td>south_EU</td>\n",
              "      <td>4</td>\n",
              "      <td>1.0</td>\n",
              "      <td>1.0</td>\n",
              "      <td>5.0</td>\n",
              "      <td>NaN</td>\n",
              "      <td>1.0</td>\n",
              "      <td>0.0</td>\n",
              "      <td>NaN</td>\n",
              "      <td>NaN</td>\n",
              "      <td>1.0</td>\n",
              "      <td>1.0</td>\n",
              "      <td>1.0</td>\n",
              "    </tr>\n",
              "    <tr>\n",
              "      <th>1</th>\n",
              "      <td>south_EU</td>\n",
              "      <td>4</td>\n",
              "      <td>1.0</td>\n",
              "      <td>2.0</td>\n",
              "      <td>4.0</td>\n",
              "      <td>2.0</td>\n",
              "      <td>NaN</td>\n",
              "      <td>NaN</td>\n",
              "      <td>NaN</td>\n",
              "      <td>NaN</td>\n",
              "      <td>2.0</td>\n",
              "      <td>3.0</td>\n",
              "      <td>2.0</td>\n",
              "    </tr>\n",
              "    <tr>\n",
              "      <th>2</th>\n",
              "      <td>south_EU</td>\n",
              "      <td>2</td>\n",
              "      <td>1.0</td>\n",
              "      <td>2.0</td>\n",
              "      <td>5.0</td>\n",
              "      <td>2.0</td>\n",
              "      <td>1.0</td>\n",
              "      <td>0.0</td>\n",
              "      <td>1.0</td>\n",
              "      <td>0.0</td>\n",
              "      <td>2.0</td>\n",
              "      <td>3.0</td>\n",
              "      <td>2.0</td>\n",
              "    </tr>\n",
              "    <tr>\n",
              "      <th>3</th>\n",
              "      <td>south_EU</td>\n",
              "      <td>2</td>\n",
              "      <td>1.0</td>\n",
              "      <td>2.0</td>\n",
              "      <td>4.0</td>\n",
              "      <td>5.0</td>\n",
              "      <td>1.0</td>\n",
              "      <td>0.0</td>\n",
              "      <td>0.0</td>\n",
              "      <td>1.0</td>\n",
              "      <td>1.0</td>\n",
              "      <td>3.0</td>\n",
              "      <td>1.0</td>\n",
              "    </tr>\n",
              "    <tr>\n",
              "      <th>4</th>\n",
              "      <td>south_EU</td>\n",
              "      <td>2</td>\n",
              "      <td>1.0</td>\n",
              "      <td>2.0</td>\n",
              "      <td>5.0</td>\n",
              "      <td>5.0</td>\n",
              "      <td>1.0</td>\n",
              "      <td>1.0</td>\n",
              "      <td>1.0</td>\n",
              "      <td>0.0</td>\n",
              "      <td>1.0</td>\n",
              "      <td>3.0</td>\n",
              "      <td>2.0</td>\n",
              "    </tr>\n",
              "    <tr>\n",
              "      <th>...</th>\n",
              "      <td>...</td>\n",
              "      <td>...</td>\n",
              "      <td>...</td>\n",
              "      <td>...</td>\n",
              "      <td>...</td>\n",
              "      <td>...</td>\n",
              "      <td>...</td>\n",
              "      <td>...</td>\n",
              "      <td>...</td>\n",
              "      <td>...</td>\n",
              "      <td>...</td>\n",
              "      <td>...</td>\n",
              "      <td>...</td>\n",
              "    </tr>\n",
              "    <tr>\n",
              "      <th>144</th>\n",
              "      <td>south_EU</td>\n",
              "      <td>4</td>\n",
              "      <td>1.0</td>\n",
              "      <td>2.0</td>\n",
              "      <td>3.0</td>\n",
              "      <td>2.0</td>\n",
              "      <td>1.0</td>\n",
              "      <td>NaN</td>\n",
              "      <td>1.0</td>\n",
              "      <td>0.0</td>\n",
              "      <td>2.0</td>\n",
              "      <td>2.0</td>\n",
              "      <td>1.0</td>\n",
              "    </tr>\n",
              "    <tr>\n",
              "      <th>145</th>\n",
              "      <td>south_EU</td>\n",
              "      <td>3</td>\n",
              "      <td>1.0</td>\n",
              "      <td>NaN</td>\n",
              "      <td>3.0</td>\n",
              "      <td>1.0</td>\n",
              "      <td>1.0</td>\n",
              "      <td>1.0</td>\n",
              "      <td>0.0</td>\n",
              "      <td>1.0</td>\n",
              "      <td>2.0</td>\n",
              "      <td>4.0</td>\n",
              "      <td>1.0</td>\n",
              "    </tr>\n",
              "    <tr>\n",
              "      <th>146</th>\n",
              "      <td>south_EU</td>\n",
              "      <td>2</td>\n",
              "      <td>1.0</td>\n",
              "      <td>3.0</td>\n",
              "      <td>5.0</td>\n",
              "      <td>4.0</td>\n",
              "      <td>0.0</td>\n",
              "      <td>NaN</td>\n",
              "      <td>1.0</td>\n",
              "      <td>1.0</td>\n",
              "      <td>2.0</td>\n",
              "      <td>3.0</td>\n",
              "      <td>1.0</td>\n",
              "    </tr>\n",
              "    <tr>\n",
              "      <th>147</th>\n",
              "      <td>south_EU</td>\n",
              "      <td>3</td>\n",
              "      <td>1.0</td>\n",
              "      <td>2.0</td>\n",
              "      <td>3.0</td>\n",
              "      <td>3.0</td>\n",
              "      <td>1.0</td>\n",
              "      <td>NaN</td>\n",
              "      <td>0.0</td>\n",
              "      <td>1.0</td>\n",
              "      <td>2.0</td>\n",
              "      <td>4.0</td>\n",
              "      <td>1.0</td>\n",
              "    </tr>\n",
              "    <tr>\n",
              "      <th>148</th>\n",
              "      <td>south_EU</td>\n",
              "      <td>2</td>\n",
              "      <td>1.0</td>\n",
              "      <td>3.0</td>\n",
              "      <td>5.0</td>\n",
              "      <td>2.0</td>\n",
              "      <td>1.0</td>\n",
              "      <td>1.0</td>\n",
              "      <td>1.0</td>\n",
              "      <td>1.0</td>\n",
              "      <td>1.0</td>\n",
              "      <td>4.0</td>\n",
              "      <td>1.0</td>\n",
              "    </tr>\n",
              "  </tbody>\n",
              "</table>\n",
              "<p>149 rows × 13 columns</p>\n",
              "</div>"
            ],
            "text/plain": [
              "       Region  ...  Manufacturer_demo_of_DSS_Cat\n",
              "0    south_EU  ...                           1.0\n",
              "1    south_EU  ...                           2.0\n",
              "2    south_EU  ...                           2.0\n",
              "3    south_EU  ...                           1.0\n",
              "4    south_EU  ...                           2.0\n",
              "..        ...  ...                           ...\n",
              "144  south_EU  ...                           1.0\n",
              "145  south_EU  ...                           1.0\n",
              "146  south_EU  ...                           1.0\n",
              "147  south_EU  ...                           1.0\n",
              "148  south_EU  ...                           1.0\n",
              "\n",
              "[149 rows x 13 columns]"
            ]
          },
          "metadata": {
            "tags": []
          },
          "execution_count": 11
        }
      ]
    },
    {
      "cell_type": "code",
      "metadata": {
        "id": "YnIWAHzVl2Ns"
      },
      "source": [
        "# One hot encode categorical data.\n",
        "#ohe_df = pd.get_dummies(df, columns=[\"Region\", \"Country\"])\n",
        "ohe_df = pd.get_dummies(df_reducedQ3, columns=[\"Region\"])\n",
        "\n",
        "#ohe_df = df_reducedQ2.copy()"
      ],
      "execution_count": 12,
      "outputs": []
    },
    {
      "cell_type": "markdown",
      "metadata": {
        "id": "Q8zS_VOMl2Ns"
      },
      "source": [
        "### Missing values"
      ]
    },
    {
      "cell_type": "code",
      "metadata": {
        "id": "-lQe012UBGev",
        "colab": {
          "base_uri": "https://localhost:8080/"
        },
        "outputId": "f538ca25-0d36-4c81-db73-a11943590b9c"
      },
      "source": [
        "# Show Missing values\n",
        "ohe_df.isnull().sum()"
      ],
      "execution_count": 13,
      "outputs": [
        {
          "output_type": "execute_result",
          "data": {
            "text/plain": [
              "Age_Cat                                         0\n",
              "Gender_1male                                    1\n",
              "Degree_Cat                                      5\n",
              "Farm_size_Cat                                   1\n",
              "Income_Cat                                      5\n",
              "Legislative_requirements                       11\n",
              "Already_used_DSS                               15\n",
              "DSS_are_more_suited_for_ShortTermDecision_1     7\n",
              "DSS_are_more_suited_for_LongTermDecision_2      7\n",
              "Trust_in_DSS_1to3                               1\n",
              "DSS_can_improve_your_productivity_Cat           2\n",
              "Manufacturer_demo_of_DSS_Cat                    6\n",
              "Region_central_EU                               0\n",
              "Region_north_EU                                 0\n",
              "Region_south_EU                                 0\n",
              "dtype: int64"
            ]
          },
          "metadata": {
            "tags": []
          },
          "execution_count": 13
        }
      ]
    },
    {
      "cell_type": "code",
      "metadata": {
        "id": "xV8O9ayCl2Ns"
      },
      "source": [
        "df_noNaN = ohe_df.dropna(how=\"any\").copy()\n",
        "#df_noNaN = ohe_df.copy().fillna(ohe_df.mean())\n",
        "#df_noNaN = ohe_df.copy().fillna(ohe_df.median())\n",
        "#df_noNaN = ohe_df.copy().fillna(ohe_df.mode())\n",
        "#df_noNaN = ohe_df.interpolate(method=\"linear\", axis=0).copy()\n",
        "#df_noNaN = df.dropna(how=\"any\").copy()\n",
        "\n",
        "# try scikit learn"
      ],
      "execution_count": 14,
      "outputs": []
    },
    {
      "cell_type": "code",
      "metadata": {
        "colab": {
          "base_uri": "https://localhost:8080/"
        },
        "id": "qWqOgRootFWS",
        "outputId": "cedf7dd9-2364-4ba2-8252-f228165a04af"
      },
      "source": [
        "df_noNaN.isnull().sum()"
      ],
      "execution_count": 15,
      "outputs": [
        {
          "output_type": "execute_result",
          "data": {
            "text/plain": [
              "Age_Cat                                        0\n",
              "Gender_1male                                   0\n",
              "Degree_Cat                                     0\n",
              "Farm_size_Cat                                  0\n",
              "Income_Cat                                     0\n",
              "Legislative_requirements                       0\n",
              "Already_used_DSS                               0\n",
              "DSS_are_more_suited_for_ShortTermDecision_1    0\n",
              "DSS_are_more_suited_for_LongTermDecision_2     0\n",
              "Trust_in_DSS_1to3                              0\n",
              "DSS_can_improve_your_productivity_Cat          0\n",
              "Manufacturer_demo_of_DSS_Cat                   0\n",
              "Region_central_EU                              0\n",
              "Region_north_EU                                0\n",
              "Region_south_EU                                0\n",
              "dtype: int64"
            ]
          },
          "metadata": {
            "tags": []
          },
          "execution_count": 15
        }
      ]
    },
    {
      "cell_type": "code",
      "metadata": {
        "colab": {
          "base_uri": "https://localhost:8080/"
        },
        "id": "UV9s6T-stOYC",
        "outputId": "6b82520f-0f31-4d72-f80d-4d0d2ec093d0"
      },
      "source": [
        "df_noNaN.shape"
      ],
      "execution_count": 16,
      "outputs": [
        {
          "output_type": "execute_result",
          "data": {
            "text/plain": [
              "(114, 15)"
            ]
          },
          "metadata": {
            "tags": []
          },
          "execution_count": 16
        }
      ]
    },
    {
      "cell_type": "code",
      "metadata": {
        "colab": {
          "base_uri": "https://localhost:8080/",
          "height": 439
        },
        "id": "Mvr-4Iank4fq",
        "outputId": "df5677aa-b611-4a9b-f250-44a0b6a74227"
      },
      "source": [
        "df_noNaN = df_noNaN.astype(\"int64\")\n",
        "df_noNaN"
      ],
      "execution_count": 17,
      "outputs": [
        {
          "output_type": "execute_result",
          "data": {
            "text/html": [
              "<div>\n",
              "<style scoped>\n",
              "    .dataframe tbody tr th:only-of-type {\n",
              "        vertical-align: middle;\n",
              "    }\n",
              "\n",
              "    .dataframe tbody tr th {\n",
              "        vertical-align: top;\n",
              "    }\n",
              "\n",
              "    .dataframe thead th {\n",
              "        text-align: right;\n",
              "    }\n",
              "</style>\n",
              "<table border=\"1\" class=\"dataframe\">\n",
              "  <thead>\n",
              "    <tr style=\"text-align: right;\">\n",
              "      <th></th>\n",
              "      <th>Age_Cat</th>\n",
              "      <th>Gender_1male</th>\n",
              "      <th>Degree_Cat</th>\n",
              "      <th>Farm_size_Cat</th>\n",
              "      <th>Income_Cat</th>\n",
              "      <th>Legislative_requirements</th>\n",
              "      <th>Already_used_DSS</th>\n",
              "      <th>DSS_are_more_suited_for_ShortTermDecision_1</th>\n",
              "      <th>DSS_are_more_suited_for_LongTermDecision_2</th>\n",
              "      <th>Trust_in_DSS_1to3</th>\n",
              "      <th>DSS_can_improve_your_productivity_Cat</th>\n",
              "      <th>Manufacturer_demo_of_DSS_Cat</th>\n",
              "      <th>Region_central_EU</th>\n",
              "      <th>Region_north_EU</th>\n",
              "      <th>Region_south_EU</th>\n",
              "    </tr>\n",
              "  </thead>\n",
              "  <tbody>\n",
              "    <tr>\n",
              "      <th>2</th>\n",
              "      <td>2</td>\n",
              "      <td>1</td>\n",
              "      <td>2</td>\n",
              "      <td>5</td>\n",
              "      <td>2</td>\n",
              "      <td>1</td>\n",
              "      <td>0</td>\n",
              "      <td>1</td>\n",
              "      <td>0</td>\n",
              "      <td>2</td>\n",
              "      <td>3</td>\n",
              "      <td>2</td>\n",
              "      <td>0</td>\n",
              "      <td>0</td>\n",
              "      <td>1</td>\n",
              "    </tr>\n",
              "    <tr>\n",
              "      <th>3</th>\n",
              "      <td>2</td>\n",
              "      <td>1</td>\n",
              "      <td>2</td>\n",
              "      <td>4</td>\n",
              "      <td>5</td>\n",
              "      <td>1</td>\n",
              "      <td>0</td>\n",
              "      <td>0</td>\n",
              "      <td>1</td>\n",
              "      <td>1</td>\n",
              "      <td>3</td>\n",
              "      <td>1</td>\n",
              "      <td>0</td>\n",
              "      <td>0</td>\n",
              "      <td>1</td>\n",
              "    </tr>\n",
              "    <tr>\n",
              "      <th>4</th>\n",
              "      <td>2</td>\n",
              "      <td>1</td>\n",
              "      <td>2</td>\n",
              "      <td>5</td>\n",
              "      <td>5</td>\n",
              "      <td>1</td>\n",
              "      <td>1</td>\n",
              "      <td>1</td>\n",
              "      <td>0</td>\n",
              "      <td>1</td>\n",
              "      <td>3</td>\n",
              "      <td>2</td>\n",
              "      <td>0</td>\n",
              "      <td>0</td>\n",
              "      <td>1</td>\n",
              "    </tr>\n",
              "    <tr>\n",
              "      <th>5</th>\n",
              "      <td>1</td>\n",
              "      <td>1</td>\n",
              "      <td>2</td>\n",
              "      <td>2</td>\n",
              "      <td>1</td>\n",
              "      <td>0</td>\n",
              "      <td>1</td>\n",
              "      <td>1</td>\n",
              "      <td>0</td>\n",
              "      <td>1</td>\n",
              "      <td>2</td>\n",
              "      <td>2</td>\n",
              "      <td>0</td>\n",
              "      <td>0</td>\n",
              "      <td>1</td>\n",
              "    </tr>\n",
              "    <tr>\n",
              "      <th>6</th>\n",
              "      <td>1</td>\n",
              "      <td>1</td>\n",
              "      <td>2</td>\n",
              "      <td>3</td>\n",
              "      <td>1</td>\n",
              "      <td>0</td>\n",
              "      <td>1</td>\n",
              "      <td>1</td>\n",
              "      <td>0</td>\n",
              "      <td>2</td>\n",
              "      <td>3</td>\n",
              "      <td>1</td>\n",
              "      <td>0</td>\n",
              "      <td>0</td>\n",
              "      <td>1</td>\n",
              "    </tr>\n",
              "    <tr>\n",
              "      <th>...</th>\n",
              "      <td>...</td>\n",
              "      <td>...</td>\n",
              "      <td>...</td>\n",
              "      <td>...</td>\n",
              "      <td>...</td>\n",
              "      <td>...</td>\n",
              "      <td>...</td>\n",
              "      <td>...</td>\n",
              "      <td>...</td>\n",
              "      <td>...</td>\n",
              "      <td>...</td>\n",
              "      <td>...</td>\n",
              "      <td>...</td>\n",
              "      <td>...</td>\n",
              "      <td>...</td>\n",
              "    </tr>\n",
              "    <tr>\n",
              "      <th>128</th>\n",
              "      <td>1</td>\n",
              "      <td>1</td>\n",
              "      <td>2</td>\n",
              "      <td>1</td>\n",
              "      <td>1</td>\n",
              "      <td>0</td>\n",
              "      <td>1</td>\n",
              "      <td>0</td>\n",
              "      <td>1</td>\n",
              "      <td>2</td>\n",
              "      <td>3</td>\n",
              "      <td>2</td>\n",
              "      <td>0</td>\n",
              "      <td>0</td>\n",
              "      <td>1</td>\n",
              "    </tr>\n",
              "    <tr>\n",
              "      <th>131</th>\n",
              "      <td>2</td>\n",
              "      <td>1</td>\n",
              "      <td>2</td>\n",
              "      <td>3</td>\n",
              "      <td>2</td>\n",
              "      <td>0</td>\n",
              "      <td>1</td>\n",
              "      <td>0</td>\n",
              "      <td>1</td>\n",
              "      <td>3</td>\n",
              "      <td>4</td>\n",
              "      <td>2</td>\n",
              "      <td>0</td>\n",
              "      <td>0</td>\n",
              "      <td>1</td>\n",
              "    </tr>\n",
              "    <tr>\n",
              "      <th>135</th>\n",
              "      <td>3</td>\n",
              "      <td>1</td>\n",
              "      <td>2</td>\n",
              "      <td>3</td>\n",
              "      <td>3</td>\n",
              "      <td>0</td>\n",
              "      <td>1</td>\n",
              "      <td>1</td>\n",
              "      <td>0</td>\n",
              "      <td>1</td>\n",
              "      <td>2</td>\n",
              "      <td>1</td>\n",
              "      <td>0</td>\n",
              "      <td>0</td>\n",
              "      <td>1</td>\n",
              "    </tr>\n",
              "    <tr>\n",
              "      <th>137</th>\n",
              "      <td>1</td>\n",
              "      <td>1</td>\n",
              "      <td>1</td>\n",
              "      <td>5</td>\n",
              "      <td>4</td>\n",
              "      <td>0</td>\n",
              "      <td>1</td>\n",
              "      <td>0</td>\n",
              "      <td>1</td>\n",
              "      <td>2</td>\n",
              "      <td>4</td>\n",
              "      <td>2</td>\n",
              "      <td>0</td>\n",
              "      <td>0</td>\n",
              "      <td>1</td>\n",
              "    </tr>\n",
              "    <tr>\n",
              "      <th>148</th>\n",
              "      <td>2</td>\n",
              "      <td>1</td>\n",
              "      <td>3</td>\n",
              "      <td>5</td>\n",
              "      <td>2</td>\n",
              "      <td>1</td>\n",
              "      <td>1</td>\n",
              "      <td>1</td>\n",
              "      <td>1</td>\n",
              "      <td>1</td>\n",
              "      <td>4</td>\n",
              "      <td>1</td>\n",
              "      <td>0</td>\n",
              "      <td>0</td>\n",
              "      <td>1</td>\n",
              "    </tr>\n",
              "  </tbody>\n",
              "</table>\n",
              "<p>114 rows × 15 columns</p>\n",
              "</div>"
            ],
            "text/plain": [
              "     Age_Cat  Gender_1male  ...  Region_north_EU  Region_south_EU\n",
              "2          2             1  ...                0                1\n",
              "3          2             1  ...                0                1\n",
              "4          2             1  ...                0                1\n",
              "5          1             1  ...                0                1\n",
              "6          1             1  ...                0                1\n",
              "..       ...           ...  ...              ...              ...\n",
              "128        1             1  ...                0                1\n",
              "131        2             1  ...                0                1\n",
              "135        3             1  ...                0                1\n",
              "137        1             1  ...                0                1\n",
              "148        2             1  ...                0                1\n",
              "\n",
              "[114 rows x 15 columns]"
            ]
          },
          "metadata": {
            "tags": []
          },
          "execution_count": 17
        }
      ]
    },
    {
      "cell_type": "code",
      "metadata": {
        "colab": {
          "base_uri": "https://localhost:8080/"
        },
        "id": "Vuh8yFWKas0X",
        "outputId": "1cfbfb6b-687d-4d32-90e0-32063e42b07b"
      },
      "source": [
        "df_noNaN.info()"
      ],
      "execution_count": 18,
      "outputs": [
        {
          "output_type": "stream",
          "text": [
            "<class 'pandas.core.frame.DataFrame'>\n",
            "Int64Index: 114 entries, 2 to 148\n",
            "Data columns (total 15 columns):\n",
            " #   Column                                       Non-Null Count  Dtype\n",
            "---  ------                                       --------------  -----\n",
            " 0   Age_Cat                                      114 non-null    int64\n",
            " 1   Gender_1male                                 114 non-null    int64\n",
            " 2   Degree_Cat                                   114 non-null    int64\n",
            " 3   Farm_size_Cat                                114 non-null    int64\n",
            " 4   Income_Cat                                   114 non-null    int64\n",
            " 5   Legislative_requirements                     114 non-null    int64\n",
            " 6   Already_used_DSS                             114 non-null    int64\n",
            " 7   DSS_are_more_suited_for_ShortTermDecision_1  114 non-null    int64\n",
            " 8   DSS_are_more_suited_for_LongTermDecision_2   114 non-null    int64\n",
            " 9   Trust_in_DSS_1to3                            114 non-null    int64\n",
            " 10  DSS_can_improve_your_productivity_Cat        114 non-null    int64\n",
            " 11  Manufacturer_demo_of_DSS_Cat                 114 non-null    int64\n",
            " 12  Region_central_EU                            114 non-null    int64\n",
            " 13  Region_north_EU                              114 non-null    int64\n",
            " 14  Region_south_EU                              114 non-null    int64\n",
            "dtypes: int64(15)\n",
            "memory usage: 14.2 KB\n"
          ],
          "name": "stdout"
        }
      ]
    },
    {
      "cell_type": "markdown",
      "metadata": {
        "id": "PSEfCZT_l2Ns"
      },
      "source": [
        "### Changing data types to categorical (ordinal) and separating dataframes"
      ]
    },
    {
      "cell_type": "code",
      "metadata": {
        "id": "pQDtZ_EPl2Nt",
        "collapsed": true,
        "colab": {
          "base_uri": "https://localhost:8080/",
          "height": 171
        },
        "outputId": "316c51fc-6857-4854-ac8d-3e35af57e575"
      },
      "source": [
        "\"\"\"\n",
        "# Make CategoricalDtype parameter for ordered features.\n",
        "oct = CategoricalDtype(ordered=True) \n",
        "\n",
        "# Make df with all unordered categorical data\n",
        "uo_cat_df = ohe_df.astype(\"category\")\n",
        "\n",
        "# Make final cat_df with unordered and ordered categorical features and two numeric features\n",
        "cat_df = uo_cat_df\n",
        "cat_df[num_feat] = cat_df[num_feat].astype(\"float64\")\n",
        "\n",
        "# {name: oct for name in ord_feat}\n",
        "cat_df = cat_df.astype({\"Age_Cat\":oct, \"Degree_Cat\":oct, \"Farm_size_Cat\":oct, \"Income_Cat\":oct, \"Production_level_1to3\":oct, \"Agricultural_app_use_Cat\":oct,\n",
        "                       \"Speed_internet_Cat\":oct, \"How_do_you_access_DSS_Cat\":oct, \"Importance_of_easy_to_use_1to3\":oct, \"Importance_of_efficient_1to3\":oct, \n",
        "                        \"Importance_low_price_1to3\":oct, \"Importance_polyvalence_1to3\":oct, \"Enjoy_using_new_techs_1to3\":oct, \"Appreciate_change_1to3\":oct, \n",
        "                        \"Trust_in_DSS_1to3\": oct, \"Trust_in_colleague_advice_1to3\":oct, \"Trust_advice_friend_1to3\":oct, \"Need_IT_teaching_Cat\":oct,\n",
        "                        \"DSS_must_be_tailored_for_your_farm_Cat\":oct, \"Marketing_info_about_DSS_Cat\":oct\n",
        "                       })\n",
        "\"\"\""
      ],
      "execution_count": 19,
      "outputs": [
        {
          "output_type": "execute_result",
          "data": {
            "application/vnd.google.colaboratory.intrinsic+json": {
              "type": "string"
            },
            "text/plain": [
              "'\\n# Make CategoricalDtype parameter for ordered features.\\noct = CategoricalDtype(ordered=True) \\n\\n# Make df with all unordered categorical data\\nuo_cat_df = ohe_df.astype(\"category\")\\n\\n# Make final cat_df with unordered and ordered categorical features and two numeric features\\ncat_df = uo_cat_df\\ncat_df[num_feat] = cat_df[num_feat].astype(\"float64\")\\n\\n# {name: oct for name in ord_feat}\\ncat_df = cat_df.astype({\"Age_Cat\":oct, \"Degree_Cat\":oct, \"Farm_size_Cat\":oct, \"Income_Cat\":oct, \"Production_level_1to3\":oct, \"Agricultural_app_use_Cat\":oct,\\n                       \"Speed_internet_Cat\":oct, \"How_do_you_access_DSS_Cat\":oct, \"Importance_of_easy_to_use_1to3\":oct, \"Importance_of_efficient_1to3\":oct, \\n                        \"Importance_low_price_1to3\":oct, \"Importance_polyvalence_1to3\":oct, \"Enjoy_using_new_techs_1to3\":oct, \"Appreciate_change_1to3\":oct, \\n                        \"Trust_in_DSS_1to3\": oct, \"Trust_in_colleague_advice_1to3\":oct, \"Trust_advice_friend_1to3\":oct, \"Need_IT_teaching_Cat\":oct,\\n                        \"DSS_must_be_tailored_for_your_farm_Cat\":oct, \"Marketing_info_about_DSS_Cat\":oct\\n                       })\\n'"
            ]
          },
          "metadata": {
            "tags": []
          },
          "execution_count": 19
        }
      ]
    },
    {
      "cell_type": "code",
      "metadata": {
        "id": "CR5uQ0DFl2Nt"
      },
      "source": [
        "# # List of ordinal features\n",
        "# ord_feat = [\"Age_Cat\", \"Degree_Cat\", \"Farm_size_Cat\", \"Income_Cat\", \"Production_level_1to3\", \"Agricultural_app_use_Cat\", \"Speed_internet_Cat\", \n",
        "#             \"How_do_you_access_DSS_Cat\", \"Importance_of_easy_to_use_1to3\", \"Importance_of_efficient_1to3\", \"Importance_low_price_1to3\", \n",
        "#             \"Importance_polyvalence_1to3\", \"Enjoy_using_new_techs_1to3\", \"Appreciate_change_1to3\", \"Trust_in_DSS_1to3\", \"Trust_in_colleague_advice_1to3\", \n",
        "#             \"Trust_advice_friend_1to3\", \"Need_IT_teaching_Cat\",\"DSS_can_improve_your_productivity_Cat\", \"Share_DSS_exp_with_colleague_Cat\", \n",
        "#             \"WTP_for_DSS_Cat\", \"DSS_must_be_tailored_for_your_farm_Cat\", \"Marketing_info_about_DSS_Cat\"]\n",
        "\n",
        "# # List of numeric features\n",
        "# num_feat = [\"Years_own_phone\", \"Proportion_of_income\"]\n",
        "\n",
        "# # nom_feat = []"
      ],
      "execution_count": 20,
      "outputs": []
    },
    {
      "cell_type": "code",
      "metadata": {
        "id": "OKOE6OA3uP5B"
      },
      "source": [
        "# Adapted for Question #1 \"Already_used_DSS\"\n",
        "# List of ordinal features\n",
        "old_ord_feat = [\"Age_Cat\", \"Degree_Cat\", \"Farm_size_Cat\", \"Income_Cat\", \"Production_level_1to3\", \"Agricultural_app_use_Cat\", \"Speed_internet_Cat\", \n",
        "            \"How_do_you_access_DSS_Cat\", \"Importance_of_easy_to_use_1to3\", \"Importance_of_efficient_1to3\", \"Importance_low_price_1to3\", \n",
        "            \"Importance_polyvalence_1to3\", \"Enjoy_using_new_techs_1to3\", \"Appreciate_change_1to3\", \"Trust_in_DSS_1to3\", \"Trust_in_colleague_advice_1to3\", \n",
        "            \"Trust_advice_friend_1to3\", \"Need_IT_teaching_Cat\",\"DSS_can_improve_your_productivity_Cat\", \"Share_DSS_exp_with_colleague_Cat\", \n",
        "            \"WTP_for_DSS_Cat\", \"DSS_must_be_tailored_for_your_farm_Cat\", \"Marketing_info_about_DSS_Cat\", \"Manufacturer_demo_of_DSS_Cat\"]\n",
        "\n",
        "ord_feat = [_ for _ in old_ord_feat if _ not in removed_featuresQ2]\n",
        "ord_feat\n",
        "\n",
        "# No numeric features\n",
        "#num_feat = [\"Years_own_phone\", \"Proportion_of_income\"]\n",
        "\n",
        "nom_feat = []"
      ],
      "execution_count": 21,
      "outputs": []
    },
    {
      "cell_type": "code",
      "metadata": {
        "id": "_r0s5KtBl2Nu"
      },
      "source": [
        "# df with ordinal and numeric featureas only\n",
        "#ordnum_df = pd.concat([df_noNaN[ord_feat], df_noNaN[num_feat]], axis=1).copy()\n",
        "ordnum_df = df_noNaN[ord_feat]\n",
        "\n",
        "# Extract column names\n",
        "all_col_names = list(df_noNaN.columns)\n",
        "ordnum_col_names = list(ordnum_df.columns)\n",
        "nom_col_names = [_ for _ in all_col_names if _ not in ordnum_col_names]\n",
        "\n",
        "# List of nominal features\n",
        "nom_feat = nom_col_names.copy()\n",
        "\n",
        "# df with nominal features only (all but two (\"Crop_Group_Cat\" and \"Willing_to_try_new_products_Cat\") are binary)\n",
        "# binarizarja ta dva\n",
        "nom_df = df_noNaN[nom_col_names]"
      ],
      "execution_count": 22,
      "outputs": []
    },
    {
      "cell_type": "markdown",
      "metadata": {
        "id": "s0YJRtEPvdzU"
      },
      "source": [
        "# Dimensionality reduction"
      ]
    },
    {
      "cell_type": "markdown",
      "metadata": {
        "id": "ZqAja1cXl2Nv"
      },
      "source": [
        "### Ordinal and numeric features"
      ]
    },
    {
      "cell_type": "code",
      "metadata": {
        "id": "V1svODxIWrh3",
        "colab": {
          "base_uri": "https://localhost:8080/",
          "height": 403
        },
        "outputId": "b27dc03d-7824-470a-f28d-93afe3d6e931"
      },
      "source": [
        "# Standardisation\n",
        "scaled_array = StandardScaler().fit_transform(ordnum_df)\n",
        "scaled_df = pd.DataFrame(scaled_array, columns=ordnum_df.columns)\n",
        "\n",
        "# Mapping\n",
        "reducer = umap.UMAP(n_neighbors=4, min_dist=0.1, n_components=2, metric=\"chebyshev\", random_state=123)\n",
        "ord_embedding = reducer.fit_transform(scaled_df)\n",
        "\n",
        "sns.set(style='white', context='notebook', rc={'figure.figsize':(14,10)})\n",
        "fig, ax = plt.subplots(figsize=(7,7))\n",
        "xs = ord_embedding[:, 0]\n",
        "ys = ord_embedding[:, 1] \n",
        "\n",
        "#ax.scatter(xs, ys, c=[sns.color_palette()[int(x)] for x in ordnum_df['DSS_can_improve_your_productivity_Cat']])\n",
        "\n",
        "for i, val in enumerate(df_noNaN[\"Income_Cat\"].values.tolist()):\n",
        "    ax.annotate(str(int(val)), (xs[i], ys[i]), fontsize=9)\n",
        "plt.title('UMAP projection of ordinal IPM farmers data')"
      ],
      "execution_count": 23,
      "outputs": [
        {
          "output_type": "execute_result",
          "data": {
            "text/plain": [
              "Text(0.5, 1.0, 'UMAP projection of ordinal IPM farmers data')"
            ]
          },
          "metadata": {
            "tags": []
          },
          "execution_count": 23
        },
        {
          "output_type": "display_data",
          "data": {
            "image/png": "[encoded data removed]",
            "text/plain": [
              "<Figure size 504x504 with 1 Axes>"
            ]
          },
          "metadata": {
            "tags": []
          }
        }
      ]
    },
    {
      "cell_type": "markdown",
      "metadata": {
        "id": "ckHl71Acl2Nv"
      },
      "source": [
        "### Nominal features"
      ]
    },
    {
      "cell_type": "code",
      "metadata": {
        "id": "nzzM68bcl2Nv",
        "colab": {
          "base_uri": "https://localhost:8080/",
          "height": 532
        },
        "outputId": "fd872e41-a471-43ba-a6eb-0842973a59f9"
      },
      "source": [
        "# scaled_array = StandardScaler().fit_transform(nom_df)\n",
        "# scaled_df = pd.DataFrame(scaled_array, columns=nom_df.columns)\n",
        "\n",
        "reducer = umap.UMAP(n_neighbors=10, min_dist=0.1, n_components=2, metric=\"dice\", random_state=123)\n",
        "nom_embedding = reducer.fit_transform(nom_df)\n",
        "\n",
        "fig, ax = plt.subplots(figsize=(7,7))\n",
        "xs = nom_embedding[:, 0]\n",
        "ys = nom_embedding[:, 1] \n",
        "\n",
        "ax.scatter(xs, ys, c=[sns.color_palette()[int(x)] for x in nom_df['Already_used_DSS']])\n",
        "\n",
        "for i, val in enumerate(df_noNaN['Income_Cat'].values.tolist()):\n",
        "    ax.annotate(str(int(val)), (xs[i], ys[i]), fontsize=9)\n",
        "plt.title('UMAP projection of nominal IPM farmers data')\n",
        "\n",
        "# naredi for loop da odstranjaš posamično atribute"
      ],
      "execution_count": 24,
      "outputs": [
        {
          "output_type": "stream",
          "text": [
            "/usr/local/lib/python3.7/dist-packages/umap/umap_.py:1762: UserWarning:\n",
            "\n",
            "gradient function is not yet implemented for dice distance metric; inverse_transform will be unavailable\n",
            "\n"
          ],
          "name": "stderr"
        },
        {
          "output_type": "execute_result",
          "data": {
            "text/plain": [
              "Text(0.5, 1.0, 'UMAP projection of nominal IPM farmers data')"
            ]
          },
          "metadata": {
            "tags": []
          },
          "execution_count": 24
        },
        {
          "output_type": "display_data",
          "data": {
            "image/png": "[encoded data removed]",
            "text/plain": [
              "<Figure size 504x504 with 1 Axes>"
            ]
          },
          "metadata": {
            "tags": []
          }
        }
      ]
    },
    {
      "cell_type": "markdown",
      "metadata": {
        "id": "5xE9G0XHl2Nw"
      },
      "source": [
        "### Combine nominal and ordinal/numeric feature maps"
      ]
    },
    {
      "cell_type": "code",
      "metadata": {
        "id": "NvMmOL7Sl2Nw"
      },
      "source": [
        "# combine mappings\n",
        "intersection_embedding = nom_embedding * ord_embedding\n",
        "union_embedding = nom_embedding + ord_embedding"
      ],
      "execution_count": 25,
      "outputs": []
    },
    {
      "cell_type": "code",
      "metadata": {
        "id": "cv-qnMwYl2Nx",
        "colab": {
          "base_uri": "https://localhost:8080/",
          "height": 980
        },
        "outputId": "0a838b8c-b3ee-4326-dae0-7a66bc1c2176"
      },
      "source": [
        "# plot intersection 2D embedding\n",
        "fig, ax = plt.subplots(figsize=(7,7))\n",
        "xs = intersection_embedding[:, 0]\n",
        "ys = intersection_embedding[:, 1] \n",
        "\n",
        "ax.scatter(xs, ys, c=[sns.color_palette()[int(x)] for x in df_noNaN['How_do_you_access_DSS_Cat']])\n",
        "\n",
        "for i, val in enumerate(df_noNaN['Income_Cat'].values.tolist()):\n",
        "    ax.annotate(str(int(val)), (xs[i], ys[i]), fontsize=9)\n",
        "plt.title('UMAP projection of IPM farmers intersection data')"
      ],
      "execution_count": 26,
      "outputs": [
        {
          "output_type": "error",
          "ename": "KeyError",
          "evalue": "ignored",
          "traceback": [
            "\u001b[0;31m---------------------------------------------------------------------------\u001b[0m",
            "\u001b[0;31mKeyError\u001b[0m                                  Traceback (most recent call last)",
            "\u001b[0;32m/usr/local/lib/python3.7/dist-packages/pandas/core/indexes/base.py\u001b[0m in \u001b[0;36mget_loc\u001b[0;34m(self, key, method, tolerance)\u001b[0m\n\u001b[1;32m   2897\u001b[0m             \u001b[0;32mtry\u001b[0m\u001b[0;34m:\u001b[0m\u001b[0;34m\u001b[0m\u001b[0;34m\u001b[0m\u001b[0m\n\u001b[0;32m-> 2898\u001b[0;31m                 \u001b[0;32mreturn\u001b[0m \u001b[0mself\u001b[0m\u001b[0;34m.\u001b[0m\u001b[0m_engine\u001b[0m\u001b[0;34m.\u001b[0m\u001b[0mget_loc\u001b[0m\u001b[0;34m(\u001b[0m\u001b[0mcasted_key\u001b[0m\u001b[0;34m)\u001b[0m\u001b[0;34m\u001b[0m\u001b[0;34m\u001b[0m\u001b[0m\n\u001b[0m\u001b[1;32m   2899\u001b[0m             \u001b[0;32mexcept\u001b[0m \u001b[0mKeyError\u001b[0m \u001b[0;32mas\u001b[0m \u001b[0merr\u001b[0m\u001b[0;34m:\u001b[0m\u001b[0;34m\u001b[0m\u001b[0;34m\u001b[0m\u001b[0m\n",
            "\u001b[0;32mpandas/_libs/index.pyx\u001b[0m in \u001b[0;36mpandas._libs.index.IndexEngine.get_loc\u001b[0;34m()\u001b[0m\n",
            "\u001b[0;32mpandas/_libs/index.pyx\u001b[0m in \u001b[0;36mpandas._libs.index.IndexEngine.get_loc\u001b[0;34m()\u001b[0m\n",
            "\u001b[0;32mpandas/_libs/hashtable_class_helper.pxi\u001b[0m in \u001b[0;36mpandas._libs.hashtable.PyObjectHashTable.get_item\u001b[0;34m()\u001b[0m\n",
            "\u001b[0;32mpandas/_libs/hashtable_class_helper.pxi\u001b[0m in \u001b[0;36mpandas._libs.hashtable.PyObjectHashTable.get_item\u001b[0;34m()\u001b[0m\n",
            "\u001b[0;31mKeyError\u001b[0m: 'How_do_you_access_DSS_Cat'",
            "\nThe above exception was the direct cause of the following exception:\n",
            "\u001b[0;31mKeyError\u001b[0m                                  Traceback (most recent call last)",
            "\u001b[0;32m<ipython-input-26-da8987773668>\u001b[0m in \u001b[0;36m<module>\u001b[0;34m()\u001b[0m\n\u001b[1;32m      4\u001b[0m \u001b[0mys\u001b[0m \u001b[0;34m=\u001b[0m \u001b[0mintersection_embedding\u001b[0m\u001b[0;34m[\u001b[0m\u001b[0;34m:\u001b[0m\u001b[0;34m,\u001b[0m \u001b[0;36m1\u001b[0m\u001b[0;34m]\u001b[0m\u001b[0;34m\u001b[0m\u001b[0;34m\u001b[0m\u001b[0m\n\u001b[1;32m      5\u001b[0m \u001b[0;34m\u001b[0m\u001b[0m\n\u001b[0;32m----> 6\u001b[0;31m \u001b[0max\u001b[0m\u001b[0;34m.\u001b[0m\u001b[0mscatter\u001b[0m\u001b[0;34m(\u001b[0m\u001b[0mxs\u001b[0m\u001b[0;34m,\u001b[0m \u001b[0mys\u001b[0m\u001b[0;34m,\u001b[0m \u001b[0mc\u001b[0m\u001b[0;34m=\u001b[0m\u001b[0;34m[\u001b[0m\u001b[0msns\u001b[0m\u001b[0;34m.\u001b[0m\u001b[0mcolor_palette\u001b[0m\u001b[0;34m(\u001b[0m\u001b[0;34m)\u001b[0m\u001b[0;34m[\u001b[0m\u001b[0mint\u001b[0m\u001b[0;34m(\u001b[0m\u001b[0mx\u001b[0m\u001b[0;34m)\u001b[0m\u001b[0;34m]\u001b[0m \u001b[0;32mfor\u001b[0m \u001b[0mx\u001b[0m \u001b[0;32min\u001b[0m \u001b[0mdf_noNaN\u001b[0m\u001b[0;34m[\u001b[0m\u001b[0;34m'How_do_you_access_DSS_Cat'\u001b[0m\u001b[0;34m]\u001b[0m\u001b[0;34m]\u001b[0m\u001b[0;34m)\u001b[0m\u001b[0;34m\u001b[0m\u001b[0;34m\u001b[0m\u001b[0m\n\u001b[0m\u001b[1;32m      7\u001b[0m \u001b[0;34m\u001b[0m\u001b[0m\n\u001b[1;32m      8\u001b[0m \u001b[0;32mfor\u001b[0m \u001b[0mi\u001b[0m\u001b[0;34m,\u001b[0m \u001b[0mval\u001b[0m \u001b[0;32min\u001b[0m \u001b[0menumerate\u001b[0m\u001b[0;34m(\u001b[0m\u001b[0mdf_noNaN\u001b[0m\u001b[0;34m[\u001b[0m\u001b[0;34m'Income_Cat'\u001b[0m\u001b[0;34m]\u001b[0m\u001b[0;34m.\u001b[0m\u001b[0mvalues\u001b[0m\u001b[0;34m.\u001b[0m\u001b[0mtolist\u001b[0m\u001b[0;34m(\u001b[0m\u001b[0;34m)\u001b[0m\u001b[0;34m)\u001b[0m\u001b[0;34m:\u001b[0m\u001b[0;34m\u001b[0m\u001b[0;34m\u001b[0m\u001b[0m\n",
            "\u001b[0;32m/usr/local/lib/python3.7/dist-packages/pandas/core/frame.py\u001b[0m in \u001b[0;36m__getitem__\u001b[0;34m(self, key)\u001b[0m\n\u001b[1;32m   2904\u001b[0m             \u001b[0;32mif\u001b[0m \u001b[0mself\u001b[0m\u001b[0;34m.\u001b[0m\u001b[0mcolumns\u001b[0m\u001b[0;34m.\u001b[0m\u001b[0mnlevels\u001b[0m \u001b[0;34m>\u001b[0m \u001b[0;36m1\u001b[0m\u001b[0;34m:\u001b[0m\u001b[0;34m\u001b[0m\u001b[0;34m\u001b[0m\u001b[0m\n\u001b[1;32m   2905\u001b[0m                 \u001b[0;32mreturn\u001b[0m \u001b[0mself\u001b[0m\u001b[0;34m.\u001b[0m\u001b[0m_getitem_multilevel\u001b[0m\u001b[0;34m(\u001b[0m\u001b[0mkey\u001b[0m\u001b[0;34m)\u001b[0m\u001b[0;34m\u001b[0m\u001b[0;34m\u001b[0m\u001b[0m\n\u001b[0;32m-> 2906\u001b[0;31m             \u001b[0mindexer\u001b[0m \u001b[0;34m=\u001b[0m \u001b[0mself\u001b[0m\u001b[0;34m.\u001b[0m\u001b[0mcolumns\u001b[0m\u001b[0;34m.\u001b[0m\u001b[0mget_loc\u001b[0m\u001b[0;34m(\u001b[0m\u001b[0mkey\u001b[0m\u001b[0;34m)\u001b[0m\u001b[0;34m\u001b[0m\u001b[0;34m\u001b[0m\u001b[0m\n\u001b[0m\u001b[1;32m   2907\u001b[0m             \u001b[0;32mif\u001b[0m \u001b[0mis_integer\u001b[0m\u001b[0;34m(\u001b[0m\u001b[0mindexer\u001b[0m\u001b[0;34m)\u001b[0m\u001b[0;34m:\u001b[0m\u001b[0;34m\u001b[0m\u001b[0;34m\u001b[0m\u001b[0m\n\u001b[1;32m   2908\u001b[0m                 \u001b[0mindexer\u001b[0m \u001b[0;34m=\u001b[0m \u001b[0;34m[\u001b[0m\u001b[0mindexer\u001b[0m\u001b[0;34m]\u001b[0m\u001b[0;34m\u001b[0m\u001b[0;34m\u001b[0m\u001b[0m\n",
            "\u001b[0;32m/usr/local/lib/python3.7/dist-packages/pandas/core/indexes/base.py\u001b[0m in \u001b[0;36mget_loc\u001b[0;34m(self, key, method, tolerance)\u001b[0m\n\u001b[1;32m   2898\u001b[0m                 \u001b[0;32mreturn\u001b[0m \u001b[0mself\u001b[0m\u001b[0;34m.\u001b[0m\u001b[0m_engine\u001b[0m\u001b[0;34m.\u001b[0m\u001b[0mget_loc\u001b[0m\u001b[0;34m(\u001b[0m\u001b[0mcasted_key\u001b[0m\u001b[0;34m)\u001b[0m\u001b[0;34m\u001b[0m\u001b[0;34m\u001b[0m\u001b[0m\n\u001b[1;32m   2899\u001b[0m             \u001b[0;32mexcept\u001b[0m \u001b[0mKeyError\u001b[0m \u001b[0;32mas\u001b[0m \u001b[0merr\u001b[0m\u001b[0;34m:\u001b[0m\u001b[0;34m\u001b[0m\u001b[0;34m\u001b[0m\u001b[0m\n\u001b[0;32m-> 2900\u001b[0;31m                 \u001b[0;32mraise\u001b[0m \u001b[0mKeyError\u001b[0m\u001b[0;34m(\u001b[0m\u001b[0mkey\u001b[0m\u001b[0;34m)\u001b[0m \u001b[0;32mfrom\u001b[0m \u001b[0merr\u001b[0m\u001b[0;34m\u001b[0m\u001b[0;34m\u001b[0m\u001b[0m\n\u001b[0m\u001b[1;32m   2901\u001b[0m \u001b[0;34m\u001b[0m\u001b[0m\n\u001b[1;32m   2902\u001b[0m         \u001b[0;32mif\u001b[0m \u001b[0mtolerance\u001b[0m \u001b[0;32mis\u001b[0m \u001b[0;32mnot\u001b[0m \u001b[0;32mNone\u001b[0m\u001b[0;34m:\u001b[0m\u001b[0;34m\u001b[0m\u001b[0;34m\u001b[0m\u001b[0m\n",
            "\u001b[0;31mKeyError\u001b[0m: 'How_do_you_access_DSS_Cat'"
          ]
        },
        {
          "output_type": "display_data",
          "data": {
            "image/png": "[encoded data removed]",
            "text/plain": [
              "<Figure size 504x504 with 1 Axes>"
            ]
          },
          "metadata": {
            "tags": []
          }
        }
      ]
    },
    {
      "cell_type": "code",
      "metadata": {
        "id": "-5FJameXl2Nw"
      },
      "source": [
        "# plot union 2D embedding\n",
        "fig, ax = plt.subplots(figsize=(7,7))\n",
        "xs = union_embedding[:, 0]\n",
        "ys = union_embedding[:, 1] \n",
        "\n",
        "ax.scatter(xs, ys, c=[sns.color_palette()[int(x)] for x in df_noNaN['How_do_you_access_DSS_Cat']])\n",
        "\n",
        "for i, val in enumerate(df_noNaN['Income_Cat'].values.tolist()):\n",
        "    ax.annotate(str(int(val)), (xs[i], ys[i]), fontsize=9)\n",
        "plt.title('UMAP projection of IPM farmers union data')"
      ],
      "execution_count": null,
      "outputs": []
    },
    {
      "cell_type": "markdown",
      "metadata": {
        "id": "1coJnky8vgQC"
      },
      "source": [
        "# CLUSTERING"
      ]
    },
    {
      "cell_type": "markdown",
      "metadata": {
        "id": "1hDB6MaWSe8g"
      },
      "source": [
        "Probaj clustering brez dim reduction"
      ]
    },
    {
      "cell_type": "code",
      "metadata": {
        "id": "RhuVUl9Dl2Nx"
      },
      "source": [
        "# k-means clustering 2D intersection emnbedding\n",
        "km_inters_clusters = cluster.KMeans(n_clusters=3).fit_predict(intersection_embedding)\n",
        "\n",
        "# plot\n",
        "fig, ax = plt.subplots(figsize=(7,7))\n",
        "ax.scatter(intersection_embedding[:, 0], intersection_embedding[:, 1], c=km_inters_clusters, s=30, cmap='cool')\n",
        "\n",
        "# Add cluster text\n",
        "for i, val in enumerate(km_inters_clusters.tolist()):\n",
        "    ax.annotate(str(int(val)), (intersection_embedding[:, 0][i], intersection_embedding[:, 1][i]), fontsize=10)\n",
        "plt.title('K-means clusters of UMAP projection of IPM farmers intersection data')"
      ],
      "execution_count": null,
      "outputs": []
    },
    {
      "cell_type": "code",
      "metadata": {
        "id": "JyUk7XEpl2Nx"
      },
      "source": [
        "# hdbscan clustering 2D intersection emnbedding\n",
        "clusterer = hdbscan.HDBSCAN(min_cluster_size=6, min_samples=2)\n",
        "hdbscan_inters_clusters = clusterer.fit_predict(intersection_embedding)\n",
        "\n",
        "fig, ax = plt.subplots(figsize=(7,7))\n",
        "\n",
        "clustered = (hdbscan_inters_clusters >= 0)\n",
        "ax.scatter(intersection_embedding[~clustered, 0],\n",
        "            intersection_embedding[~clustered, 1],\n",
        "            c=(0.5, 0.5, 0.5),\n",
        "            s=50,\n",
        "            alpha=0.3)\n",
        "\n",
        "ax.scatter(intersection_embedding[clustered, 0],\n",
        "            intersection_embedding[clustered, 1],\n",
        "            c=hdbscan_inters_clusters[clustered],\n",
        "            s=50,\n",
        "            cmap='cool')\n",
        "\n",
        "for i, val in enumerate(hdbscan_inters_clusters):\n",
        "    ax.annotate(str(int(val)), (intersection_embedding[:, 0][i], intersection_embedding[:, 1][i]), fontsize=13)\n",
        "\n",
        "plt.title('HDBscan clusters of UMAP projection of IPM farmers intersection data')"
      ],
      "execution_count": null,
      "outputs": []
    },
    {
      "cell_type": "code",
      "metadata": {
        "id": "zGU60byuva5K"
      },
      "source": [
        "# kmeans clustering 2D union emnbedding\n",
        "km_union_clusters = cluster.KMeans(n_clusters=3).fit_predict(union_embedding)\n",
        "#kmeans_labels\n",
        "\n",
        "fig, ax = plt.subplots(figsize=(7,7))\n",
        "ax.scatter(union_embedding[:, 0], union_embedding[:, 1], c=km_union_clusters, s=30, cmap='cool')\n",
        "\n",
        "# daj clustre (številke) gor v umap\n",
        "for i, val in enumerate(km_union_clusters.tolist()):\n",
        "    ax.annotate(str(int(val)), (union_embedding[:, 0][i], union_embedding[:, 1][i]), fontsize=10)\n",
        "\n",
        "plt.title('K-means clusters of UMAP projection of IPM farmers union data')"
      ],
      "execution_count": null,
      "outputs": []
    },
    {
      "cell_type": "code",
      "metadata": {
        "id": "aESi6aQdxYRH"
      },
      "source": [
        "# hdbscan clustering 2D union emnbedding\n",
        "clusterer = hdbscan.HDBSCAN(min_cluster_size=5, min_samples=4)\n",
        "hdbscan_union_clusters = clusterer.fit_predict(union_embedding)\n",
        "\n",
        "fig, ax = plt.subplots(figsize=(7,7))\n",
        "\n",
        "clustered = (hdbscan_union_clusters >= 0)\n",
        "ax.scatter(union_embedding[~clustered, 0],\n",
        "            union_embedding[~clustered, 1],\n",
        "            c=(0.5, 0.5, 0.5),\n",
        "            s=50,\n",
        "            alpha=0.3)\n",
        "\n",
        "ax.scatter(union_embedding[clustered, 0],\n",
        "            union_embedding[clustered, 1],\n",
        "            c=hdbscan_union_clusters[clustered],\n",
        "            s=50,\n",
        "            cmap='cool')\n",
        "\n",
        "for i, val in enumerate(hdbscan_union_clusters):\n",
        "    ax.annotate(str(int(val)), (union_embedding[:, 0][i], union_embedding[:, 1][i]), fontsize=13)\n",
        "\n",
        "plt.title('HDBscan clusters of UMAP projection of IPM farmers union data')"
      ],
      "execution_count": null,
      "outputs": []
    },
    {
      "cell_type": "markdown",
      "metadata": {
        "id": "xkt-aK6cl2Ny"
      },
      "source": [
        "## Interactive 3D Visualisation"
      ]
    },
    {
      "cell_type": "code",
      "metadata": {
        "id": "v58bdpdel2Ny"
      },
      "source": [
        "# 3D embedding\n",
        "ord_reducer3d = umap.UMAP(n_neighbors=8, min_dist=0.1, n_components=3, metric=\"manhattan\", random_state=123)\n",
        "ord_embedding3d = ord_reducer3d.fit_transform(ordnum_df)\n",
        "\n",
        "nom_reducer3d = umap.UMAP(n_neighbors=8, min_dist=0.1, n_components=3, metric=\"jaccard\", random_state=123)\n",
        "nom_embedding3d = nom_reducer3d.fit_transform(nom_df)\n",
        "\n",
        "# combine mappings\n",
        "intersection_embedding3d = nom_embedding3d * ord_embedding3d\n",
        "union_embedding3d = nom_embedding3d + ord_embedding3d\n",
        "\n",
        "#hdbscan intersection and union\n",
        "intersection_clusters = hdbscan.HDBSCAN(min_samples=10, min_cluster_size=10).fit_predict(intersection_embedding3d)\n",
        "union_clusters = hdbscan.HDBSCAN(min_samples=10, min_cluster_size=10).fit_predict(union_embedding3d)\n",
        "print(\"intersection_clusters :\", intersection_clusters)\n",
        "print(\"union_clusters :\", union_clusters)\n",
        "\n",
        "# # hdbscan separate ordinal and nominal data\n",
        "# ord_clusters = hdbscan.HDBSCAN(min_samples=10, min_cluster_size=10).fit_predict(ord_embedding3d)\n",
        "# nom_clusters = hdbscan.HDBSCAN(min_samples=10, min_cluster_size=10).fit_predict(nom_embedding3d)\n",
        "# print(\"ord_clusters :\", ord_clusters)\n",
        "# print(\"nom_clusters :\", nom_clusters)"
      ],
      "execution_count": null,
      "outputs": []
    },
    {
      "cell_type": "markdown",
      "metadata": {
        "id": "cAv_eErWl2Ny"
      },
      "source": [
        "### Plotly visualisation"
      ]
    },
    {
      "cell_type": "code",
      "metadata": {
        "id": "a-6DtV_zl2Nz"
      },
      "source": [
        "# 3D dataframes for intersection and union\n",
        "intersection3d_df = pd.DataFrame(data=intersection_embedding3d, columns=[\"x\", \"y\", \"z\"])\n",
        "intersection3d_df[\"clusters\"] = list(map(str, intersection_clusters))\n",
        "union3d_df = pd.DataFrame(data=union_embedding3d, columns=[\"x\", \"y\", \"z\"])\n",
        "union3d_df[\"clusters\"] = list(map(str, union_clusters))"
      ],
      "execution_count": null,
      "outputs": []
    },
    {
      "cell_type": "code",
      "metadata": {
        "id": "cXLQXfHn2Vpr"
      },
      "source": [
        "### individual nom_embedding3d and ord_embedding3d projection###\n",
        "\n",
        "# # 3D dataframes\n",
        "# ord_embedding3d_df = pd.DataFrame(data=ord_embedding3d, columns=[\"x\", \"y\", \"z\"])\n",
        "# ord_embedding3d_df[\"clusters\"] = list(map(str, ord_clusters))\n",
        "# nom_embedding3d_df = pd.DataFrame(data=nom_embedding3d, columns=[\"x\", \"y\", \"z\"])\n",
        "# nom_embedding3d_df[\"clusters\"] = list(map(str, nom_clusters))\n"
      ],
      "execution_count": null,
      "outputs": []
    },
    {
      "cell_type": "code",
      "metadata": {
        "id": "ZEOm-U5I4Fdh"
      },
      "source": [
        "# # Ordinal data embedding cluster visualisation \n",
        "# fig = px.scatter_3d(ord_embedding3d_df, \"x\",\"y\",\"z\", color=\"clusters\", text=df_noNaN[\"DSS_can_improve_your_productivity_Cat\"], opacity=0.8, \n",
        "#                     title=\"Ordinal data 3D embedding of farmers IPM data\")\n",
        "# fig.show()"
      ],
      "execution_count": null,
      "outputs": []
    },
    {
      "cell_type": "code",
      "metadata": {
        "id": "snMMR3JE4VVz"
      },
      "source": [
        "# Nominal data embedding cluster visualisation \n",
        "# fig = px.scatter_3d(nom_embedding3d_df, \"x\",\"y\",\"z\", color=\"clusters\", text=df_noNaN[\"DSS_can_improve_your_productivity_Cat\"], opacity=0.8, \n",
        "#                     title=\"Nominal data 3D embedding of farmers IPM data\")\n",
        "# fig.show()"
      ],
      "execution_count": null,
      "outputs": []
    },
    {
      "cell_type": "code",
      "metadata": {
        "id": "45A5Qo3Ql2Nz"
      },
      "source": [
        "# Intersection embedding cluster visualisation \n",
        "fig = px.scatter_3d(intersection3d_df, \"x\",\"y\",\"z\", color=\"clusters\", text=df_noNaN[\"DSS_can_improve_your_productivity_Cat\"], opacity=0.8, \n",
        "                    title=\"Intersection 3D embedding of farmers IPM data\")\n",
        "fig.show()"
      ],
      "execution_count": null,
      "outputs": []
    },
    {
      "cell_type": "code",
      "metadata": {
        "id": "MQ3UT6dB1Lp5"
      },
      "source": [
        "fig.write_html(\"IPM_DataEmbedding_q3.html\")"
      ],
      "execution_count": null,
      "outputs": []
    },
    {
      "cell_type": "code",
      "metadata": {
        "id": "r6OTdtXFl2Nz"
      },
      "source": [
        "# Union embedding cluster visualisation \n",
        "fig = px.scatter_3d(union3d_df, \"x\",\"y\",\"z\", color=\"clusters\", text=df_noNaN[\"DSS_can_improve_your_productivity_Cat\"], opacity=0.5, \n",
        "                    title=\"Union 3D embedding of farmers IPM data\")\n",
        "fig.write_html(\"/content/plotly1.html\")\n",
        "fig.show()"
      ],
      "execution_count": null,
      "outputs": []
    },
    {
      "cell_type": "markdown",
      "metadata": {
        "id": "bcdnOuG4u9vX"
      },
      "source": [
        "Validate clusters Which Metrics?"
      ]
    },
    {
      "cell_type": "markdown",
      "metadata": {
        "id": "Os2IRjA7l2Ny"
      },
      "source": [
        "# Cluster explanation "
      ]
    },
    {
      "cell_type": "code",
      "metadata": {
        "id": "bTxXmEg4l2Ny"
      },
      "source": [
        "# DataFrame for classification with clusters from embedding3d\n",
        "df_noNaN[\"clusters\"] = intersection_clusters\n",
        "df_clst = df_noNaN.copy()\n",
        "df_clst\n",
        "\n",
        "# use Weka and See5 (Quinlan) [moraš poklicat s !]\n",
        "# https://colab.research.google.com/drive/1A9bZkPvXPAViipan7u9siQfkakChyYFV?usp=sharing#scrollTo=CgxRusBSCxrn"
      ],
      "execution_count": null,
      "outputs": []
    },
    {
      "cell_type": "code",
      "metadata": {
        "id": "wKi2X2wu0qFV"
      },
      "source": [
        "df_clst.to_csv(\"IPM_data&clusters_question3.csv\")"
      ],
      "execution_count": null,
      "outputs": []
    },
    {
      "cell_type": "markdown",
      "metadata": {
        "id": "kDIW1dSvl2N2"
      },
      "source": [
        "## Modelling"
      ]
    },
    {
      "cell_type": "code",
      "metadata": {
        "id": "KFFbUXk5lvgc"
      },
      "source": [
        "from sklearn import tree\n",
        "\n",
        "target_class = \"clusters\"\n",
        "X, y = df_noNaN[[_ for _ in list(ohe_df.columns) if _ not in target_class]], df_noNaN[target_class]\n",
        "clf = tree.DecisionTreeClassifier()\n",
        "clf = clf.fit(X, y)\n",
        "tree.plot_tree(clf, feature_names=X.columns, class_names=[str(_) for _ in [0,1,2,3]], filled=True) "
      ],
      "execution_count": null,
      "outputs": []
    },
    {
      "cell_type": "code",
      "metadata": {
        "id": "Jh4oJSCAFymj"
      },
      "source": [
        "# Train the model\n",
        "from sklearn.linear_model import LogisticRegression\n",
        "from sklearn.model_selection import train_test_split\n",
        "\n",
        "target_class = \"clusters\"\n",
        "X = df_noNaN[[_ for _ in list(ohe_df.columns) if _ not in target_class]]\n",
        "y = df_noNaN[target_class]\n",
        "X_train, X_test, y_train, y_test = train_test_split(X, y, test_size=0.33, random_state=42)\n",
        "\n",
        "model = LogisticRegression(max_iter=1000)\n",
        "model.fit(X_train, y_train)"
      ],
      "execution_count": null,
      "outputs": []
    },
    {
      "cell_type": "code",
      "metadata": {
        "id": "deWt2UZDJB-7"
      },
      "source": [
        "# Predictions for test dataset\n",
        "y_predict = model.predict(X_test)\n",
        "y_predict"
      ],
      "execution_count": null,
      "outputs": []
    },
    {
      "cell_type": "code",
      "metadata": {
        "id": "mg2J2A86l2N2"
      },
      "source": [
        "from sklearn.model_selection import cross_val_score\n",
        "from sklearn.tree import DecisionTreeClassifier\n",
        "clf = tree.DecisionTreeClassifier(random_state=0)\n",
        "\n",
        "target_class = \"Already_used_DSS\"\n",
        "X = df_noNaN[[_ for _ in list(ohe_df.columns) if _ not in target_class]]\n",
        "Y = df_noNaN[target_class]\n",
        "clf = clf.fit(X, Y)"
      ],
      "execution_count": null,
      "outputs": []
    },
    {
      "cell_type": "code",
      "metadata": {
        "id": "CcBXCs85l2N3"
      },
      "source": [
        "from sklearn.tree import DecisionTreeClassifier\n",
        "from sklearn.tree import export_text\n",
        "decision_tree = DecisionTreeClassifier(random_state=0, max_depth=2)\n",
        "decision_tree = decision_tree.fit(X, Y)\n",
        "r = export_text(decision_tree, feature_names=list(X.columns))\n",
        "print(r)"
      ],
      "execution_count": null,
      "outputs": []
    },
    {
      "cell_type": "code",
      "metadata": {
        "id": "Y2PZlTRLl2N3"
      },
      "source": [
        "# \"\"\"Ne morem importat, nek conflict\n",
        "# import graphviz \n",
        "# dot_data = tree.export_graphviz(clf, out_file=None) \n",
        "# graph = graphviz.Source(dot_data) \n",
        "# graph.render(\"IPM\") \n",
        "# \"\"\""
      ],
      "execution_count": null,
      "outputs": []
    },
    {
      "cell_type": "markdown",
      "metadata": {
        "id": "oTKut8pCWRyH"
      },
      "source": [
        "# create dictionary with value mapping"
      ]
    },
    {
      "cell_type": "code",
      "metadata": {
        "id": "j0ai7zLivqOh"
      },
      "source": [
        "# df[\"test\"] = df[\"Age_Cat\"].replace({4:\"več kot 50\", 3: \"test\", 1 : \"sdfsdf\", 2 : \"wsf\"})\n",
        "# df[\"Age_Cat\"] = df[\"Age_Cat\"].replace({4:\"več kot 50\", 3: \"test\", 1 : \"sdfsdf\", 2 : \"wsf\"})"
      ],
      "execution_count": null,
      "outputs": []
    }
  ]
}