{
 "cells": [
  {
   "cell_type": "markdown",
   "metadata": {
    "colab_type": "text",
    "id": "view-in-github"
   },
   "source": [
    "<a href=\"https://colab.research.google.com/github/MartinMarzi/IPMdecisions/blob/main/IPMdecisions_DataExploration_colab_1_4_Q1.ipynb\" target=\"_parent\"><img src=\"https://colab.research.google.com/assets/colab-badge.svg\" alt=\"Open In Colab\"/></a>"
   ]
  },
  {
   "cell_type": "code",
   "execution_count": 190,
   "metadata": {
    "id": "QIXLlgjHmZNz"
   },
   "outputs": [],
   "source": [
    "# # For colab\n",
    "# %pip install umap-learn\n",
    "# %pip install hdbscan"
   ]
  },
  {
   "cell_type": "code",
   "execution_count": 191,
   "metadata": {
    "id": "l2iXxyyhkdJ0"
   },
   "outputs": [],
   "source": [
    "import numpy as np\n",
    "import pandas as pd\n",
    "from sklearn.datasets import load_digits\n",
    "from sklearn.model_selection import train_test_split\n",
    "from sklearn.preprocessing import StandardScaler\n",
    "import pandas as pd\n",
    "from pandas.api.types import CategoricalDtype\n",
    "import umap\n",
    "import hdbscan\n",
    "import sklearn.cluster as cluster\n",
    "import matplotlib.pyplot as plt\n",
    "import seaborn as sns\n",
    "import plotly.express as px\n"
   ]
  },
  {
   "cell_type": "code",
   "execution_count": 192,
   "metadata": {},
   "outputs": [],
   "source": [
    "pd.set_option('max_columns', None)"
   ]
  },
  {
   "cell_type": "code",
   "execution_count": 193,
   "metadata": {
    "id": "WtiRqHhNng-Y"
   },
   "outputs": [],
   "source": [
    "#DATA_FILE = \"data/Farmers_edited data 21.12.2020_IPS_FINAL- WEKA_JM.xlsx\"\n",
    "DATA_FILE = \"/Users/mmarzi/MLprojects/IPMdecisions/data/Farmers_edited data 21.12.2020_IPS_FINAL- WEKA_JM.xlsx\""
   ]
  },
  {
   "cell_type": "code",
   "execution_count": 194,
   "metadata": {
    "id": "27PBpsaZn6ek"
   },
   "outputs": [],
   "source": [
    "# Create dataframe\n",
    "df = pd.read_excel(DATA_FILE, header=0, engine='openpyxl', na_values=['?'], usecols=range(81), \n",
    "                   skiprows= range(150,155))"
   ]
  },
  {
   "cell_type": "code",
   "execution_count": 195,
   "metadata": {
    "colab": {
     "base_uri": "https://localhost:8080/"
    },
    "id": "LvxmcuQwr6Bn",
    "outputId": "f4587893-c8ab-4ee2-8e05-0eefe7353384"
   },
   "outputs": [
    {
     "data": {
      "text/plain": [
       "(149, 81)"
      ]
     },
     "execution_count": 195,
     "metadata": {},
     "output_type": "execute_result"
    }
   ],
   "source": [
    "# Show data size\n",
    "df.shape"
   ]
  },
  {
   "cell_type": "code",
   "execution_count": 196,
   "metadata": {},
   "outputs": [
    {
     "data": {
      "text/html": [
       "<div>\n",
       "<style scoped>\n",
       "    .dataframe tbody tr th:only-of-type {\n",
       "        vertical-align: middle;\n",
       "    }\n",
       "\n",
       "    .dataframe tbody tr th {\n",
       "        vertical-align: top;\n",
       "    }\n",
       "\n",
       "    .dataframe thead th {\n",
       "        text-align: right;\n",
       "    }\n",
       "</style>\n",
       "<table border=\"1\" class=\"dataframe\">\n",
       "  <thead>\n",
       "    <tr style=\"text-align: right;\">\n",
       "      <th></th>\n",
       "      <th>Region</th>\n",
       "      <th>Country</th>\n",
       "      <th>Subject</th>\n",
       "      <th>Age_Cat</th>\n",
       "      <th>Gender_1male</th>\n",
       "      <th>Degree_Cat</th>\n",
       "      <th>Farm_size_Cat</th>\n",
       "      <th>ProductionUse_selling</th>\n",
       "      <th>Farm_type_Conventional</th>\n",
       "      <th>Farm_type_Intergrated</th>\n",
       "      <th>Farm_type_Organic</th>\n",
       "      <th>Farm_type_Biodynamic</th>\n",
       "      <th>Income_Cat</th>\n",
       "      <th>Proportion_of_income</th>\n",
       "      <th>Production_level_1to7</th>\n",
       "      <th>Production_level_1to3</th>\n",
       "      <th>Crop_Group_Cat</th>\n",
       "      <th>Legislative_requirements</th>\n",
       "      <th>Own_phone</th>\n",
       "      <th>Years_own_phone</th>\n",
       "      <th>Use_DSS_App</th>\n",
       "      <th>Agricultural_app_use_Cat</th>\n",
       "      <th>Computer_at_home</th>\n",
       "      <th>Speed_internet_Cat</th>\n",
       "      <th>Already_used_DSS</th>\n",
       "      <th>How_do_you_access_DSS_Cat</th>\n",
       "      <th>Potencial_user_of_platform</th>\n",
       "      <th>Prefered_access_Phone</th>\n",
       "      <th>Prefered_access_PC</th>\n",
       "      <th>Prefered_access_Advisor</th>\n",
       "      <th>Willing_to_try_new_products_Cat</th>\n",
       "      <th>Price_important_factor</th>\n",
       "      <th>DSS_are_more_suited_for_ShortTermDecision_1</th>\n",
       "      <th>DSS_are_more_suited_for_LongTermDecision_2</th>\n",
       "      <th>DSS_for_ShortLongTermBothDecision_Cat_NO</th>\n",
       "      <th>Prefered_type_Web_1</th>\n",
       "      <th>Prefered_type_Software_2</th>\n",
       "      <th>Prefered_type_Web_Software_Both_Cat_NO</th>\n",
       "      <th>Importance_of_easy_to_use_1to7</th>\n",
       "      <th>Importance_of_easy_to_use_1to2</th>\n",
       "      <th>Importance_of_easy_to_use_1to3</th>\n",
       "      <th>Importance_of_efficient_1to7</th>\n",
       "      <th>Importance_of_efficient_1to2</th>\n",
       "      <th>Importance_of_efficient_1to3</th>\n",
       "      <th>Importance_low_price_1to7</th>\n",
       "      <th>Importance_low_price_1to2</th>\n",
       "      <th>Importance_low_price_1to3</th>\n",
       "      <th>Importance_polyvalence_1to7</th>\n",
       "      <th>Importance_polyvalence_1to2</th>\n",
       "      <th>Importance_polyvalence_1to3</th>\n",
       "      <th>Enjoy_using_new_techs_1to7</th>\n",
       "      <th>Enjoy_using_new_techs_1to2</th>\n",
       "      <th>Enjoy_using_new_techs_1to3</th>\n",
       "      <th>Appreciate_change_1to7</th>\n",
       "      <th>Appreciate_change_1to2</th>\n",
       "      <th>Appreciate_change_1to3</th>\n",
       "      <th>Trust_in_DSS_1to7</th>\n",
       "      <th>Trust_in_DSS_1to2</th>\n",
       "      <th>Trust_in_DSS_1to3</th>\n",
       "      <th>Trust_in_colleague_advice_1to7</th>\n",
       "      <th>Trust_in_colleague_advice_1to2</th>\n",
       "      <th>Trust_in_colleague_advice_1to3</th>\n",
       "      <th>Trust_advice_friend_1to7</th>\n",
       "      <th>Trust_advice_friend_1to2</th>\n",
       "      <th>Trust_advice_friend_1to3</th>\n",
       "      <th>Need_IT_teaching_Cat</th>\n",
       "      <th>DSS_can_improve_your_productivity_Cat</th>\n",
       "      <th>CL_Output_preference_Graphical_1</th>\n",
       "      <th>CL_Output_preference_Textual_2</th>\n",
       "      <th>CL_Output_preference_Both_3</th>\n",
       "      <th>Output_preference_Cat_NO</th>\n",
       "      <th>Share_DSS_exp_with_colleague_Cat</th>\n",
       "      <th>Use_DSS_from_trusted_sources_Always</th>\n",
       "      <th>WTP_for_DSS_Cat</th>\n",
       "      <th>DSS_must_be_tailored_for_your_farm_Cat</th>\n",
       "      <th>Use_same_DSS_than_advisor_Cat</th>\n",
       "      <th>Age_of_DSS_user_at_the_farm_1</th>\n",
       "      <th>Age_of_DSS_user_at_the_farm_2</th>\n",
       "      <th>Age_of_DSS_user_at_the_farm_3</th>\n",
       "      <th>Marketing_info_about_DSS_Cat</th>\n",
       "      <th>Manufacturer_demo_of_DSS_Cat</th>\n",
       "    </tr>\n",
       "  </thead>\n",
       "  <tbody>\n",
       "    <tr>\n",
       "      <th>0</th>\n",
       "      <td>south_EU</td>\n",
       "      <td>Italy</td>\n",
       "      <td>ITALY1</td>\n",
       "      <td>4</td>\n",
       "      <td>1.0</td>\n",
       "      <td>1.0</td>\n",
       "      <td>5.0</td>\n",
       "      <td>1.0</td>\n",
       "      <td>1.0</td>\n",
       "      <td>1.0</td>\n",
       "      <td>0.0</td>\n",
       "      <td>0.0</td>\n",
       "      <td>NaN</td>\n",
       "      <td>0.0</td>\n",
       "      <td>7.0</td>\n",
       "      <td>3.0</td>\n",
       "      <td>1.0</td>\n",
       "      <td>1.0</td>\n",
       "      <td>1</td>\n",
       "      <td>0</td>\n",
       "      <td>1.0</td>\n",
       "      <td>2.0</td>\n",
       "      <td>1</td>\n",
       "      <td>3</td>\n",
       "      <td>0.0</td>\n",
       "      <td>1.0</td>\n",
       "      <td>0.0</td>\n",
       "      <td>NaN</td>\n",
       "      <td>NaN</td>\n",
       "      <td>NaN</td>\n",
       "      <td>2.0</td>\n",
       "      <td>0.0</td>\n",
       "      <td>NaN</td>\n",
       "      <td>NaN</td>\n",
       "      <td>NaN</td>\n",
       "      <td>NaN</td>\n",
       "      <td>NaN</td>\n",
       "      <td>NaN</td>\n",
       "      <td>NaN</td>\n",
       "      <td>NaN</td>\n",
       "      <td>NaN</td>\n",
       "      <td>NaN</td>\n",
       "      <td>NaN</td>\n",
       "      <td>NaN</td>\n",
       "      <td>NaN</td>\n",
       "      <td>NaN</td>\n",
       "      <td>NaN</td>\n",
       "      <td>NaN</td>\n",
       "      <td>NaN</td>\n",
       "      <td>NaN</td>\n",
       "      <td>NaN</td>\n",
       "      <td>NaN</td>\n",
       "      <td>NaN</td>\n",
       "      <td>7.0</td>\n",
       "      <td>2.0</td>\n",
       "      <td>3.0</td>\n",
       "      <td>1.0</td>\n",
       "      <td>1.0</td>\n",
       "      <td>1.0</td>\n",
       "      <td>2.0</td>\n",
       "      <td>1.0</td>\n",
       "      <td>1.0</td>\n",
       "      <td>2.0</td>\n",
       "      <td>1.0</td>\n",
       "      <td>1.0</td>\n",
       "      <td>1.0</td>\n",
       "      <td>1.0</td>\n",
       "      <td>NaN</td>\n",
       "      <td>NaN</td>\n",
       "      <td>NaN</td>\n",
       "      <td>NaN</td>\n",
       "      <td>2.0</td>\n",
       "      <td>NaN</td>\n",
       "      <td>1.0</td>\n",
       "      <td>1.0</td>\n",
       "      <td>NaN</td>\n",
       "      <td>NaN</td>\n",
       "      <td>NaN</td>\n",
       "      <td>NaN</td>\n",
       "      <td>1.0</td>\n",
       "      <td>1.0</td>\n",
       "    </tr>\n",
       "    <tr>\n",
       "      <th>1</th>\n",
       "      <td>south_EU</td>\n",
       "      <td>Italy</td>\n",
       "      <td>ITALY2</td>\n",
       "      <td>4</td>\n",
       "      <td>1.0</td>\n",
       "      <td>2.0</td>\n",
       "      <td>4.0</td>\n",
       "      <td>1.0</td>\n",
       "      <td>1.0</td>\n",
       "      <td>0.0</td>\n",
       "      <td>0.0</td>\n",
       "      <td>0.0</td>\n",
       "      <td>2.0</td>\n",
       "      <td>0.0</td>\n",
       "      <td>4.0</td>\n",
       "      <td>2.0</td>\n",
       "      <td>2.0</td>\n",
       "      <td>NaN</td>\n",
       "      <td>1</td>\n",
       "      <td>0</td>\n",
       "      <td>NaN</td>\n",
       "      <td>NaN</td>\n",
       "      <td>1</td>\n",
       "      <td>2</td>\n",
       "      <td>NaN</td>\n",
       "      <td>NaN</td>\n",
       "      <td>NaN</td>\n",
       "      <td>NaN</td>\n",
       "      <td>NaN</td>\n",
       "      <td>NaN</td>\n",
       "      <td>NaN</td>\n",
       "      <td>NaN</td>\n",
       "      <td>NaN</td>\n",
       "      <td>NaN</td>\n",
       "      <td>NaN</td>\n",
       "      <td>NaN</td>\n",
       "      <td>NaN</td>\n",
       "      <td>NaN</td>\n",
       "      <td>NaN</td>\n",
       "      <td>NaN</td>\n",
       "      <td>NaN</td>\n",
       "      <td>NaN</td>\n",
       "      <td>NaN</td>\n",
       "      <td>NaN</td>\n",
       "      <td>NaN</td>\n",
       "      <td>NaN</td>\n",
       "      <td>NaN</td>\n",
       "      <td>NaN</td>\n",
       "      <td>NaN</td>\n",
       "      <td>NaN</td>\n",
       "      <td>7.0</td>\n",
       "      <td>2.0</td>\n",
       "      <td>3.0</td>\n",
       "      <td>7.0</td>\n",
       "      <td>2.0</td>\n",
       "      <td>3.0</td>\n",
       "      <td>6.0</td>\n",
       "      <td>2.0</td>\n",
       "      <td>2.0</td>\n",
       "      <td>2.0</td>\n",
       "      <td>1.0</td>\n",
       "      <td>1.0</td>\n",
       "      <td>4.0</td>\n",
       "      <td>1.0</td>\n",
       "      <td>1.0</td>\n",
       "      <td>2.0</td>\n",
       "      <td>3.0</td>\n",
       "      <td>NaN</td>\n",
       "      <td>NaN</td>\n",
       "      <td>NaN</td>\n",
       "      <td>NaN</td>\n",
       "      <td>2.0</td>\n",
       "      <td>NaN</td>\n",
       "      <td>1.0</td>\n",
       "      <td>2.0</td>\n",
       "      <td>NaN</td>\n",
       "      <td>0.0</td>\n",
       "      <td>1.0</td>\n",
       "      <td>0.0</td>\n",
       "      <td>2.0</td>\n",
       "      <td>2.0</td>\n",
       "    </tr>\n",
       "    <tr>\n",
       "      <th>2</th>\n",
       "      <td>south_EU</td>\n",
       "      <td>Italy</td>\n",
       "      <td>ITALY3</td>\n",
       "      <td>2</td>\n",
       "      <td>1.0</td>\n",
       "      <td>2.0</td>\n",
       "      <td>5.0</td>\n",
       "      <td>1.0</td>\n",
       "      <td>1.0</td>\n",
       "      <td>0.0</td>\n",
       "      <td>0.0</td>\n",
       "      <td>0.0</td>\n",
       "      <td>2.0</td>\n",
       "      <td>100.0</td>\n",
       "      <td>5.0</td>\n",
       "      <td>3.0</td>\n",
       "      <td>1.0</td>\n",
       "      <td>1.0</td>\n",
       "      <td>1</td>\n",
       "      <td>10</td>\n",
       "      <td>1.0</td>\n",
       "      <td>2.0</td>\n",
       "      <td>1</td>\n",
       "      <td>2</td>\n",
       "      <td>0.0</td>\n",
       "      <td>1.0</td>\n",
       "      <td>0.0</td>\n",
       "      <td>1.0</td>\n",
       "      <td>1.0</td>\n",
       "      <td>1.0</td>\n",
       "      <td>1.0</td>\n",
       "      <td>1.0</td>\n",
       "      <td>1.0</td>\n",
       "      <td>0.0</td>\n",
       "      <td>1.0</td>\n",
       "      <td>1.0</td>\n",
       "      <td>0.0</td>\n",
       "      <td>1.0</td>\n",
       "      <td>7.0</td>\n",
       "      <td>2.0</td>\n",
       "      <td>3.0</td>\n",
       "      <td>7.0</td>\n",
       "      <td>2.0</td>\n",
       "      <td>3.0</td>\n",
       "      <td>5.0</td>\n",
       "      <td>1.0</td>\n",
       "      <td>2.0</td>\n",
       "      <td>7.0</td>\n",
       "      <td>2.0</td>\n",
       "      <td>3.0</td>\n",
       "      <td>4.0</td>\n",
       "      <td>1.0</td>\n",
       "      <td>1.0</td>\n",
       "      <td>4.0</td>\n",
       "      <td>1.0</td>\n",
       "      <td>1.0</td>\n",
       "      <td>5.0</td>\n",
       "      <td>1.0</td>\n",
       "      <td>2.0</td>\n",
       "      <td>5.0</td>\n",
       "      <td>1.0</td>\n",
       "      <td>2.0</td>\n",
       "      <td>5.0</td>\n",
       "      <td>1.0</td>\n",
       "      <td>2.0</td>\n",
       "      <td>2.0</td>\n",
       "      <td>3.0</td>\n",
       "      <td>0.0</td>\n",
       "      <td>0.0</td>\n",
       "      <td>1.0</td>\n",
       "      <td>3.0</td>\n",
       "      <td>1.0</td>\n",
       "      <td>NaN</td>\n",
       "      <td>2.0</td>\n",
       "      <td>2.0</td>\n",
       "      <td>1.0</td>\n",
       "      <td>NaN</td>\n",
       "      <td>NaN</td>\n",
       "      <td>NaN</td>\n",
       "      <td>2.0</td>\n",
       "      <td>2.0</td>\n",
       "    </tr>\n",
       "    <tr>\n",
       "      <th>3</th>\n",
       "      <td>south_EU</td>\n",
       "      <td>Italy</td>\n",
       "      <td>ITALY4</td>\n",
       "      <td>2</td>\n",
       "      <td>1.0</td>\n",
       "      <td>2.0</td>\n",
       "      <td>4.0</td>\n",
       "      <td>1.0</td>\n",
       "      <td>0.0</td>\n",
       "      <td>0.0</td>\n",
       "      <td>0.0</td>\n",
       "      <td>0.0</td>\n",
       "      <td>5.0</td>\n",
       "      <td>90.0</td>\n",
       "      <td>5.0</td>\n",
       "      <td>3.0</td>\n",
       "      <td>1.0</td>\n",
       "      <td>1.0</td>\n",
       "      <td>1</td>\n",
       "      <td>10</td>\n",
       "      <td>0.0</td>\n",
       "      <td>NaN</td>\n",
       "      <td>1</td>\n",
       "      <td>2</td>\n",
       "      <td>0.0</td>\n",
       "      <td>1.0</td>\n",
       "      <td>0.0</td>\n",
       "      <td>1.0</td>\n",
       "      <td>0.0</td>\n",
       "      <td>0.0</td>\n",
       "      <td>1.0</td>\n",
       "      <td>1.0</td>\n",
       "      <td>0.0</td>\n",
       "      <td>1.0</td>\n",
       "      <td>2.0</td>\n",
       "      <td>0.0</td>\n",
       "      <td>1.0</td>\n",
       "      <td>2.0</td>\n",
       "      <td>7.0</td>\n",
       "      <td>2.0</td>\n",
       "      <td>3.0</td>\n",
       "      <td>6.0</td>\n",
       "      <td>2.0</td>\n",
       "      <td>2.0</td>\n",
       "      <td>4.0</td>\n",
       "      <td>1.0</td>\n",
       "      <td>1.0</td>\n",
       "      <td>6.0</td>\n",
       "      <td>2.0</td>\n",
       "      <td>2.0</td>\n",
       "      <td>6.0</td>\n",
       "      <td>2.0</td>\n",
       "      <td>2.0</td>\n",
       "      <td>6.0</td>\n",
       "      <td>2.0</td>\n",
       "      <td>2.0</td>\n",
       "      <td>4.0</td>\n",
       "      <td>1.0</td>\n",
       "      <td>1.0</td>\n",
       "      <td>4.0</td>\n",
       "      <td>1.0</td>\n",
       "      <td>1.0</td>\n",
       "      <td>4.0</td>\n",
       "      <td>1.0</td>\n",
       "      <td>1.0</td>\n",
       "      <td>2.0</td>\n",
       "      <td>3.0</td>\n",
       "      <td>0.0</td>\n",
       "      <td>0.0</td>\n",
       "      <td>1.0</td>\n",
       "      <td>3.0</td>\n",
       "      <td>NaN</td>\n",
       "      <td>NaN</td>\n",
       "      <td>3.0</td>\n",
       "      <td>2.0</td>\n",
       "      <td>NaN</td>\n",
       "      <td>1.0</td>\n",
       "      <td>0.0</td>\n",
       "      <td>0.0</td>\n",
       "      <td>NaN</td>\n",
       "      <td>1.0</td>\n",
       "    </tr>\n",
       "    <tr>\n",
       "      <th>4</th>\n",
       "      <td>south_EU</td>\n",
       "      <td>Italy</td>\n",
       "      <td>ITALY5</td>\n",
       "      <td>2</td>\n",
       "      <td>1.0</td>\n",
       "      <td>2.0</td>\n",
       "      <td>5.0</td>\n",
       "      <td>1.0</td>\n",
       "      <td>0.0</td>\n",
       "      <td>1.0</td>\n",
       "      <td>0.0</td>\n",
       "      <td>0.0</td>\n",
       "      <td>5.0</td>\n",
       "      <td>0.0</td>\n",
       "      <td>4.0</td>\n",
       "      <td>2.0</td>\n",
       "      <td>2.0</td>\n",
       "      <td>1.0</td>\n",
       "      <td>1</td>\n",
       "      <td>10</td>\n",
       "      <td>1.0</td>\n",
       "      <td>3.0</td>\n",
       "      <td>1</td>\n",
       "      <td>2</td>\n",
       "      <td>1.0</td>\n",
       "      <td>3.0</td>\n",
       "      <td>1.0</td>\n",
       "      <td>1.0</td>\n",
       "      <td>0.0</td>\n",
       "      <td>0.0</td>\n",
       "      <td>1.0</td>\n",
       "      <td>1.0</td>\n",
       "      <td>1.0</td>\n",
       "      <td>0.0</td>\n",
       "      <td>1.0</td>\n",
       "      <td>1.0</td>\n",
       "      <td>0.0</td>\n",
       "      <td>1.0</td>\n",
       "      <td>7.0</td>\n",
       "      <td>2.0</td>\n",
       "      <td>3.0</td>\n",
       "      <td>7.0</td>\n",
       "      <td>2.0</td>\n",
       "      <td>3.0</td>\n",
       "      <td>4.0</td>\n",
       "      <td>1.0</td>\n",
       "      <td>1.0</td>\n",
       "      <td>6.0</td>\n",
       "      <td>2.0</td>\n",
       "      <td>2.0</td>\n",
       "      <td>5.0</td>\n",
       "      <td>1.0</td>\n",
       "      <td>2.0</td>\n",
       "      <td>4.0</td>\n",
       "      <td>1.0</td>\n",
       "      <td>1.0</td>\n",
       "      <td>4.0</td>\n",
       "      <td>1.0</td>\n",
       "      <td>1.0</td>\n",
       "      <td>4.0</td>\n",
       "      <td>1.0</td>\n",
       "      <td>1.0</td>\n",
       "      <td>4.0</td>\n",
       "      <td>1.0</td>\n",
       "      <td>1.0</td>\n",
       "      <td>2.0</td>\n",
       "      <td>3.0</td>\n",
       "      <td>0.0</td>\n",
       "      <td>0.0</td>\n",
       "      <td>1.0</td>\n",
       "      <td>3.0</td>\n",
       "      <td>3.0</td>\n",
       "      <td>1.0</td>\n",
       "      <td>3.0</td>\n",
       "      <td>2.0</td>\n",
       "      <td>2.0</td>\n",
       "      <td>1.0</td>\n",
       "      <td>0.0</td>\n",
       "      <td>0.0</td>\n",
       "      <td>2.0</td>\n",
       "      <td>2.0</td>\n",
       "    </tr>\n",
       "    <tr>\n",
       "      <th>...</th>\n",
       "      <td>...</td>\n",
       "      <td>...</td>\n",
       "      <td>...</td>\n",
       "      <td>...</td>\n",
       "      <td>...</td>\n",
       "      <td>...</td>\n",
       "      <td>...</td>\n",
       "      <td>...</td>\n",
       "      <td>...</td>\n",
       "      <td>...</td>\n",
       "      <td>...</td>\n",
       "      <td>...</td>\n",
       "      <td>...</td>\n",
       "      <td>...</td>\n",
       "      <td>...</td>\n",
       "      <td>...</td>\n",
       "      <td>...</td>\n",
       "      <td>...</td>\n",
       "      <td>...</td>\n",
       "      <td>...</td>\n",
       "      <td>...</td>\n",
       "      <td>...</td>\n",
       "      <td>...</td>\n",
       "      <td>...</td>\n",
       "      <td>...</td>\n",
       "      <td>...</td>\n",
       "      <td>...</td>\n",
       "      <td>...</td>\n",
       "      <td>...</td>\n",
       "      <td>...</td>\n",
       "      <td>...</td>\n",
       "      <td>...</td>\n",
       "      <td>...</td>\n",
       "      <td>...</td>\n",
       "      <td>...</td>\n",
       "      <td>...</td>\n",
       "      <td>...</td>\n",
       "      <td>...</td>\n",
       "      <td>...</td>\n",
       "      <td>...</td>\n",
       "      <td>...</td>\n",
       "      <td>...</td>\n",
       "      <td>...</td>\n",
       "      <td>...</td>\n",
       "      <td>...</td>\n",
       "      <td>...</td>\n",
       "      <td>...</td>\n",
       "      <td>...</td>\n",
       "      <td>...</td>\n",
       "      <td>...</td>\n",
       "      <td>...</td>\n",
       "      <td>...</td>\n",
       "      <td>...</td>\n",
       "      <td>...</td>\n",
       "      <td>...</td>\n",
       "      <td>...</td>\n",
       "      <td>...</td>\n",
       "      <td>...</td>\n",
       "      <td>...</td>\n",
       "      <td>...</td>\n",
       "      <td>...</td>\n",
       "      <td>...</td>\n",
       "      <td>...</td>\n",
       "      <td>...</td>\n",
       "      <td>...</td>\n",
       "      <td>...</td>\n",
       "      <td>...</td>\n",
       "      <td>...</td>\n",
       "      <td>...</td>\n",
       "      <td>...</td>\n",
       "      <td>...</td>\n",
       "      <td>...</td>\n",
       "      <td>...</td>\n",
       "      <td>...</td>\n",
       "      <td>...</td>\n",
       "      <td>...</td>\n",
       "      <td>...</td>\n",
       "      <td>...</td>\n",
       "      <td>...</td>\n",
       "      <td>...</td>\n",
       "      <td>...</td>\n",
       "    </tr>\n",
       "    <tr>\n",
       "      <th>144</th>\n",
       "      <td>south_EU</td>\n",
       "      <td>Greece</td>\n",
       "      <td>GR12315</td>\n",
       "      <td>4</td>\n",
       "      <td>1.0</td>\n",
       "      <td>2.0</td>\n",
       "      <td>3.0</td>\n",
       "      <td>NaN</td>\n",
       "      <td>NaN</td>\n",
       "      <td>NaN</td>\n",
       "      <td>NaN</td>\n",
       "      <td>NaN</td>\n",
       "      <td>2.0</td>\n",
       "      <td>50.0</td>\n",
       "      <td>NaN</td>\n",
       "      <td>NaN</td>\n",
       "      <td>NaN</td>\n",
       "      <td>1.0</td>\n",
       "      <td>1</td>\n",
       "      <td>22</td>\n",
       "      <td>0.0</td>\n",
       "      <td>NaN</td>\n",
       "      <td>1</td>\n",
       "      <td>2</td>\n",
       "      <td>NaN</td>\n",
       "      <td>NaN</td>\n",
       "      <td>NaN</td>\n",
       "      <td>0.0</td>\n",
       "      <td>1.0</td>\n",
       "      <td>0.0</td>\n",
       "      <td>1.0</td>\n",
       "      <td>0.0</td>\n",
       "      <td>1.0</td>\n",
       "      <td>0.0</td>\n",
       "      <td>1.0</td>\n",
       "      <td>1.0</td>\n",
       "      <td>0.0</td>\n",
       "      <td>1.0</td>\n",
       "      <td>4.0</td>\n",
       "      <td>1.0</td>\n",
       "      <td>1.0</td>\n",
       "      <td>7.0</td>\n",
       "      <td>2.0</td>\n",
       "      <td>3.0</td>\n",
       "      <td>4.0</td>\n",
       "      <td>1.0</td>\n",
       "      <td>1.0</td>\n",
       "      <td>6.0</td>\n",
       "      <td>2.0</td>\n",
       "      <td>2.0</td>\n",
       "      <td>7.0</td>\n",
       "      <td>2.0</td>\n",
       "      <td>3.0</td>\n",
       "      <td>7.0</td>\n",
       "      <td>2.0</td>\n",
       "      <td>3.0</td>\n",
       "      <td>6.0</td>\n",
       "      <td>2.0</td>\n",
       "      <td>2.0</td>\n",
       "      <td>2.0</td>\n",
       "      <td>1.0</td>\n",
       "      <td>1.0</td>\n",
       "      <td>2.0</td>\n",
       "      <td>1.0</td>\n",
       "      <td>1.0</td>\n",
       "      <td>2.0</td>\n",
       "      <td>2.0</td>\n",
       "      <td>0.0</td>\n",
       "      <td>0.0</td>\n",
       "      <td>1.0</td>\n",
       "      <td>3.0</td>\n",
       "      <td>NaN</td>\n",
       "      <td>NaN</td>\n",
       "      <td>2.0</td>\n",
       "      <td>2.0</td>\n",
       "      <td>NaN</td>\n",
       "      <td>NaN</td>\n",
       "      <td>NaN</td>\n",
       "      <td>NaN</td>\n",
       "      <td>NaN</td>\n",
       "      <td>1.0</td>\n",
       "    </tr>\n",
       "    <tr>\n",
       "      <th>145</th>\n",
       "      <td>south_EU</td>\n",
       "      <td>Greece</td>\n",
       "      <td>GR12241</td>\n",
       "      <td>3</td>\n",
       "      <td>1.0</td>\n",
       "      <td>NaN</td>\n",
       "      <td>3.0</td>\n",
       "      <td>NaN</td>\n",
       "      <td>NaN</td>\n",
       "      <td>NaN</td>\n",
       "      <td>NaN</td>\n",
       "      <td>NaN</td>\n",
       "      <td>1.0</td>\n",
       "      <td>100.0</td>\n",
       "      <td>NaN</td>\n",
       "      <td>NaN</td>\n",
       "      <td>NaN</td>\n",
       "      <td>1.0</td>\n",
       "      <td>1</td>\n",
       "      <td>23</td>\n",
       "      <td>0.0</td>\n",
       "      <td>NaN</td>\n",
       "      <td>1</td>\n",
       "      <td>3</td>\n",
       "      <td>1.0</td>\n",
       "      <td>3.0</td>\n",
       "      <td>1.0</td>\n",
       "      <td>0.0</td>\n",
       "      <td>1.0</td>\n",
       "      <td>0.0</td>\n",
       "      <td>1.0</td>\n",
       "      <td>0.0</td>\n",
       "      <td>0.0</td>\n",
       "      <td>1.0</td>\n",
       "      <td>2.0</td>\n",
       "      <td>1.0</td>\n",
       "      <td>0.0</td>\n",
       "      <td>1.0</td>\n",
       "      <td>NaN</td>\n",
       "      <td>NaN</td>\n",
       "      <td>NaN</td>\n",
       "      <td>5.0</td>\n",
       "      <td>1.0</td>\n",
       "      <td>2.0</td>\n",
       "      <td>NaN</td>\n",
       "      <td>NaN</td>\n",
       "      <td>NaN</td>\n",
       "      <td>5.0</td>\n",
       "      <td>1.0</td>\n",
       "      <td>2.0</td>\n",
       "      <td>6.0</td>\n",
       "      <td>2.0</td>\n",
       "      <td>2.0</td>\n",
       "      <td>5.0</td>\n",
       "      <td>1.0</td>\n",
       "      <td>2.0</td>\n",
       "      <td>5.0</td>\n",
       "      <td>1.0</td>\n",
       "      <td>2.0</td>\n",
       "      <td>1.0</td>\n",
       "      <td>1.0</td>\n",
       "      <td>1.0</td>\n",
       "      <td>1.0</td>\n",
       "      <td>1.0</td>\n",
       "      <td>1.0</td>\n",
       "      <td>2.0</td>\n",
       "      <td>4.0</td>\n",
       "      <td>0.0</td>\n",
       "      <td>0.0</td>\n",
       "      <td>1.0</td>\n",
       "      <td>3.0</td>\n",
       "      <td>2.0</td>\n",
       "      <td>1.0</td>\n",
       "      <td>3.0</td>\n",
       "      <td>2.0</td>\n",
       "      <td>NaN</td>\n",
       "      <td>0.0</td>\n",
       "      <td>1.0</td>\n",
       "      <td>0.0</td>\n",
       "      <td>2.0</td>\n",
       "      <td>1.0</td>\n",
       "    </tr>\n",
       "    <tr>\n",
       "      <th>146</th>\n",
       "      <td>south_EU</td>\n",
       "      <td>Greece</td>\n",
       "      <td>GR12209</td>\n",
       "      <td>2</td>\n",
       "      <td>1.0</td>\n",
       "      <td>3.0</td>\n",
       "      <td>5.0</td>\n",
       "      <td>NaN</td>\n",
       "      <td>NaN</td>\n",
       "      <td>NaN</td>\n",
       "      <td>NaN</td>\n",
       "      <td>NaN</td>\n",
       "      <td>4.0</td>\n",
       "      <td>50.0</td>\n",
       "      <td>NaN</td>\n",
       "      <td>NaN</td>\n",
       "      <td>NaN</td>\n",
       "      <td>0.0</td>\n",
       "      <td>1</td>\n",
       "      <td>16</td>\n",
       "      <td>0.0</td>\n",
       "      <td>NaN</td>\n",
       "      <td>1</td>\n",
       "      <td>3</td>\n",
       "      <td>NaN</td>\n",
       "      <td>NaN</td>\n",
       "      <td>NaN</td>\n",
       "      <td>1.0</td>\n",
       "      <td>0.0</td>\n",
       "      <td>0.0</td>\n",
       "      <td>1.0</td>\n",
       "      <td>1.0</td>\n",
       "      <td>1.0</td>\n",
       "      <td>1.0</td>\n",
       "      <td>3.0</td>\n",
       "      <td>1.0</td>\n",
       "      <td>0.0</td>\n",
       "      <td>1.0</td>\n",
       "      <td>4.0</td>\n",
       "      <td>1.0</td>\n",
       "      <td>1.0</td>\n",
       "      <td>7.0</td>\n",
       "      <td>2.0</td>\n",
       "      <td>3.0</td>\n",
       "      <td>4.0</td>\n",
       "      <td>1.0</td>\n",
       "      <td>1.0</td>\n",
       "      <td>7.0</td>\n",
       "      <td>2.0</td>\n",
       "      <td>3.0</td>\n",
       "      <td>7.0</td>\n",
       "      <td>2.0</td>\n",
       "      <td>3.0</td>\n",
       "      <td>7.0</td>\n",
       "      <td>2.0</td>\n",
       "      <td>3.0</td>\n",
       "      <td>5.0</td>\n",
       "      <td>1.0</td>\n",
       "      <td>2.0</td>\n",
       "      <td>3.0</td>\n",
       "      <td>1.0</td>\n",
       "      <td>1.0</td>\n",
       "      <td>2.0</td>\n",
       "      <td>1.0</td>\n",
       "      <td>1.0</td>\n",
       "      <td>2.0</td>\n",
       "      <td>3.0</td>\n",
       "      <td>1.0</td>\n",
       "      <td>0.0</td>\n",
       "      <td>0.0</td>\n",
       "      <td>1.0</td>\n",
       "      <td>NaN</td>\n",
       "      <td>NaN</td>\n",
       "      <td>3.0</td>\n",
       "      <td>2.0</td>\n",
       "      <td>NaN</td>\n",
       "      <td>NaN</td>\n",
       "      <td>NaN</td>\n",
       "      <td>NaN</td>\n",
       "      <td>NaN</td>\n",
       "      <td>1.0</td>\n",
       "    </tr>\n",
       "    <tr>\n",
       "      <th>147</th>\n",
       "      <td>south_EU</td>\n",
       "      <td>Greece</td>\n",
       "      <td>GR12125</td>\n",
       "      <td>3</td>\n",
       "      <td>1.0</td>\n",
       "      <td>2.0</td>\n",
       "      <td>3.0</td>\n",
       "      <td>NaN</td>\n",
       "      <td>NaN</td>\n",
       "      <td>NaN</td>\n",
       "      <td>NaN</td>\n",
       "      <td>NaN</td>\n",
       "      <td>3.0</td>\n",
       "      <td>100.0</td>\n",
       "      <td>NaN</td>\n",
       "      <td>NaN</td>\n",
       "      <td>NaN</td>\n",
       "      <td>1.0</td>\n",
       "      <td>1</td>\n",
       "      <td>22</td>\n",
       "      <td>0.0</td>\n",
       "      <td>NaN</td>\n",
       "      <td>1</td>\n",
       "      <td>3</td>\n",
       "      <td>NaN</td>\n",
       "      <td>NaN</td>\n",
       "      <td>NaN</td>\n",
       "      <td>0.0</td>\n",
       "      <td>1.0</td>\n",
       "      <td>0.0</td>\n",
       "      <td>1.0</td>\n",
       "      <td>0.0</td>\n",
       "      <td>0.0</td>\n",
       "      <td>1.0</td>\n",
       "      <td>2.0</td>\n",
       "      <td>1.0</td>\n",
       "      <td>0.0</td>\n",
       "      <td>1.0</td>\n",
       "      <td>5.0</td>\n",
       "      <td>1.0</td>\n",
       "      <td>2.0</td>\n",
       "      <td>5.0</td>\n",
       "      <td>1.0</td>\n",
       "      <td>2.0</td>\n",
       "      <td>2.0</td>\n",
       "      <td>1.0</td>\n",
       "      <td>1.0</td>\n",
       "      <td>6.0</td>\n",
       "      <td>2.0</td>\n",
       "      <td>2.0</td>\n",
       "      <td>6.0</td>\n",
       "      <td>2.0</td>\n",
       "      <td>2.0</td>\n",
       "      <td>7.0</td>\n",
       "      <td>2.0</td>\n",
       "      <td>3.0</td>\n",
       "      <td>5.0</td>\n",
       "      <td>1.0</td>\n",
       "      <td>2.0</td>\n",
       "      <td>3.0</td>\n",
       "      <td>1.0</td>\n",
       "      <td>1.0</td>\n",
       "      <td>2.0</td>\n",
       "      <td>1.0</td>\n",
       "      <td>1.0</td>\n",
       "      <td>2.0</td>\n",
       "      <td>4.0</td>\n",
       "      <td>0.0</td>\n",
       "      <td>0.0</td>\n",
       "      <td>1.0</td>\n",
       "      <td>3.0</td>\n",
       "      <td>2.0</td>\n",
       "      <td>NaN</td>\n",
       "      <td>2.0</td>\n",
       "      <td>2.0</td>\n",
       "      <td>NaN</td>\n",
       "      <td>NaN</td>\n",
       "      <td>NaN</td>\n",
       "      <td>NaN</td>\n",
       "      <td>1.0</td>\n",
       "      <td>1.0</td>\n",
       "    </tr>\n",
       "    <tr>\n",
       "      <th>148</th>\n",
       "      <td>south_EU</td>\n",
       "      <td>Greece</td>\n",
       "      <td>GR11931</td>\n",
       "      <td>2</td>\n",
       "      <td>1.0</td>\n",
       "      <td>3.0</td>\n",
       "      <td>5.0</td>\n",
       "      <td>NaN</td>\n",
       "      <td>NaN</td>\n",
       "      <td>NaN</td>\n",
       "      <td>NaN</td>\n",
       "      <td>NaN</td>\n",
       "      <td>2.0</td>\n",
       "      <td>40.0</td>\n",
       "      <td>NaN</td>\n",
       "      <td>NaN</td>\n",
       "      <td>NaN</td>\n",
       "      <td>1.0</td>\n",
       "      <td>1</td>\n",
       "      <td>18</td>\n",
       "      <td>1.0</td>\n",
       "      <td>NaN</td>\n",
       "      <td>1</td>\n",
       "      <td>2</td>\n",
       "      <td>1.0</td>\n",
       "      <td>3.0</td>\n",
       "      <td>1.0</td>\n",
       "      <td>0.0</td>\n",
       "      <td>1.0</td>\n",
       "      <td>0.0</td>\n",
       "      <td>1.0</td>\n",
       "      <td>1.0</td>\n",
       "      <td>1.0</td>\n",
       "      <td>1.0</td>\n",
       "      <td>3.0</td>\n",
       "      <td>1.0</td>\n",
       "      <td>0.0</td>\n",
       "      <td>1.0</td>\n",
       "      <td>4.0</td>\n",
       "      <td>1.0</td>\n",
       "      <td>1.0</td>\n",
       "      <td>6.0</td>\n",
       "      <td>2.0</td>\n",
       "      <td>2.0</td>\n",
       "      <td>5.0</td>\n",
       "      <td>1.0</td>\n",
       "      <td>2.0</td>\n",
       "      <td>7.0</td>\n",
       "      <td>2.0</td>\n",
       "      <td>3.0</td>\n",
       "      <td>6.0</td>\n",
       "      <td>2.0</td>\n",
       "      <td>2.0</td>\n",
       "      <td>5.0</td>\n",
       "      <td>1.0</td>\n",
       "      <td>2.0</td>\n",
       "      <td>4.0</td>\n",
       "      <td>1.0</td>\n",
       "      <td>1.0</td>\n",
       "      <td>4.0</td>\n",
       "      <td>1.0</td>\n",
       "      <td>1.0</td>\n",
       "      <td>4.0</td>\n",
       "      <td>1.0</td>\n",
       "      <td>1.0</td>\n",
       "      <td>2.0</td>\n",
       "      <td>4.0</td>\n",
       "      <td>0.0</td>\n",
       "      <td>0.0</td>\n",
       "      <td>1.0</td>\n",
       "      <td>3.0</td>\n",
       "      <td>3.0</td>\n",
       "      <td>1.0</td>\n",
       "      <td>2.0</td>\n",
       "      <td>2.0</td>\n",
       "      <td>1.0</td>\n",
       "      <td>0.0</td>\n",
       "      <td>1.0</td>\n",
       "      <td>0.0</td>\n",
       "      <td>2.0</td>\n",
       "      <td>1.0</td>\n",
       "    </tr>\n",
       "  </tbody>\n",
       "</table>\n",
       "<p>65 rows × 81 columns</p>\n",
       "</div>"
      ],
      "text/plain": [
       "       Region Country  Subject  Age_Cat  Gender_1male  Degree_Cat  \\\n",
       "0    south_EU   Italy   ITALY1        4           1.0         1.0   \n",
       "1    south_EU   Italy   ITALY2        4           1.0         2.0   \n",
       "2    south_EU   Italy   ITALY3        2           1.0         2.0   \n",
       "3    south_EU   Italy   ITALY4        2           1.0         2.0   \n",
       "4    south_EU   Italy   ITALY5        2           1.0         2.0   \n",
       "..        ...     ...      ...      ...           ...         ...   \n",
       "144  south_EU  Greece  GR12315        4           1.0         2.0   \n",
       "145  south_EU  Greece  GR12241        3           1.0         NaN   \n",
       "146  south_EU  Greece  GR12209        2           1.0         3.0   \n",
       "147  south_EU  Greece  GR12125        3           1.0         2.0   \n",
       "148  south_EU  Greece  GR11931        2           1.0         3.0   \n",
       "\n",
       "     Farm_size_Cat  ProductionUse_selling  Farm_type_Conventional  \\\n",
       "0              5.0                    1.0                     1.0   \n",
       "1              4.0                    1.0                     1.0   \n",
       "2              5.0                    1.0                     1.0   \n",
       "3              4.0                    1.0                     0.0   \n",
       "4              5.0                    1.0                     0.0   \n",
       "..             ...                    ...                     ...   \n",
       "144            3.0                    NaN                     NaN   \n",
       "145            3.0                    NaN                     NaN   \n",
       "146            5.0                    NaN                     NaN   \n",
       "147            3.0                    NaN                     NaN   \n",
       "148            5.0                    NaN                     NaN   \n",
       "\n",
       "     Farm_type_Intergrated  Farm_type_Organic  Farm_type_Biodynamic  \\\n",
       "0                      1.0                0.0                   0.0   \n",
       "1                      0.0                0.0                   0.0   \n",
       "2                      0.0                0.0                   0.0   \n",
       "3                      0.0                0.0                   0.0   \n",
       "4                      1.0                0.0                   0.0   \n",
       "..                     ...                ...                   ...   \n",
       "144                    NaN                NaN                   NaN   \n",
       "145                    NaN                NaN                   NaN   \n",
       "146                    NaN                NaN                   NaN   \n",
       "147                    NaN                NaN                   NaN   \n",
       "148                    NaN                NaN                   NaN   \n",
       "\n",
       "     Income_Cat  Proportion_of_income  Production_level_1to7  \\\n",
       "0           NaN                   0.0                    7.0   \n",
       "1           2.0                   0.0                    4.0   \n",
       "2           2.0                 100.0                    5.0   \n",
       "3           5.0                  90.0                    5.0   \n",
       "4           5.0                   0.0                    4.0   \n",
       "..          ...                   ...                    ...   \n",
       "144         2.0                  50.0                    NaN   \n",
       "145         1.0                 100.0                    NaN   \n",
       "146         4.0                  50.0                    NaN   \n",
       "147         3.0                 100.0                    NaN   \n",
       "148         2.0                  40.0                    NaN   \n",
       "\n",
       "     Production_level_1to3  Crop_Group_Cat  Legislative_requirements  \\\n",
       "0                      3.0             1.0                       1.0   \n",
       "1                      2.0             2.0                       NaN   \n",
       "2                      3.0             1.0                       1.0   \n",
       "3                      3.0             1.0                       1.0   \n",
       "4                      2.0             2.0                       1.0   \n",
       "..                     ...             ...                       ...   \n",
       "144                    NaN             NaN                       1.0   \n",
       "145                    NaN             NaN                       1.0   \n",
       "146                    NaN             NaN                       0.0   \n",
       "147                    NaN             NaN                       1.0   \n",
       "148                    NaN             NaN                       1.0   \n",
       "\n",
       "     Own_phone  Years_own_phone  Use_DSS_App  Agricultural_app_use_Cat  \\\n",
       "0            1                0          1.0                       2.0   \n",
       "1            1                0          NaN                       NaN   \n",
       "2            1               10          1.0                       2.0   \n",
       "3            1               10          0.0                       NaN   \n",
       "4            1               10          1.0                       3.0   \n",
       "..         ...              ...          ...                       ...   \n",
       "144          1               22          0.0                       NaN   \n",
       "145          1               23          0.0                       NaN   \n",
       "146          1               16          0.0                       NaN   \n",
       "147          1               22          0.0                       NaN   \n",
       "148          1               18          1.0                       NaN   \n",
       "\n",
       "     Computer_at_home  Speed_internet_Cat  Already_used_DSS  \\\n",
       "0                   1                   3               0.0   \n",
       "1                   1                   2               NaN   \n",
       "2                   1                   2               0.0   \n",
       "3                   1                   2               0.0   \n",
       "4                   1                   2               1.0   \n",
       "..                ...                 ...               ...   \n",
       "144                 1                   2               NaN   \n",
       "145                 1                   3               1.0   \n",
       "146                 1                   3               NaN   \n",
       "147                 1                   3               NaN   \n",
       "148                 1                   2               1.0   \n",
       "\n",
       "     How_do_you_access_DSS_Cat  Potencial_user_of_platform  \\\n",
       "0                          1.0                         0.0   \n",
       "1                          NaN                         NaN   \n",
       "2                          1.0                         0.0   \n",
       "3                          1.0                         0.0   \n",
       "4                          3.0                         1.0   \n",
       "..                         ...                         ...   \n",
       "144                        NaN                         NaN   \n",
       "145                        3.0                         1.0   \n",
       "146                        NaN                         NaN   \n",
       "147                        NaN                         NaN   \n",
       "148                        3.0                         1.0   \n",
       "\n",
       "     Prefered_access_Phone  Prefered_access_PC  Prefered_access_Advisor  \\\n",
       "0                      NaN                 NaN                      NaN   \n",
       "1                      NaN                 NaN                      NaN   \n",
       "2                      1.0                 1.0                      1.0   \n",
       "3                      1.0                 0.0                      0.0   \n",
       "4                      1.0                 0.0                      0.0   \n",
       "..                     ...                 ...                      ...   \n",
       "144                    0.0                 1.0                      0.0   \n",
       "145                    0.0                 1.0                      0.0   \n",
       "146                    1.0                 0.0                      0.0   \n",
       "147                    0.0                 1.0                      0.0   \n",
       "148                    0.0                 1.0                      0.0   \n",
       "\n",
       "     Willing_to_try_new_products_Cat  Price_important_factor  \\\n",
       "0                                2.0                     0.0   \n",
       "1                                NaN                     NaN   \n",
       "2                                1.0                     1.0   \n",
       "3                                1.0                     1.0   \n",
       "4                                1.0                     1.0   \n",
       "..                               ...                     ...   \n",
       "144                              1.0                     0.0   \n",
       "145                              1.0                     0.0   \n",
       "146                              1.0                     1.0   \n",
       "147                              1.0                     0.0   \n",
       "148                              1.0                     1.0   \n",
       "\n",
       "     DSS_are_more_suited_for_ShortTermDecision_1  \\\n",
       "0                                            NaN   \n",
       "1                                            NaN   \n",
       "2                                            1.0   \n",
       "3                                            0.0   \n",
       "4                                            1.0   \n",
       "..                                           ...   \n",
       "144                                          1.0   \n",
       "145                                          0.0   \n",
       "146                                          1.0   \n",
       "147                                          0.0   \n",
       "148                                          1.0   \n",
       "\n",
       "     DSS_are_more_suited_for_LongTermDecision_2  \\\n",
       "0                                           NaN   \n",
       "1                                           NaN   \n",
       "2                                           0.0   \n",
       "3                                           1.0   \n",
       "4                                           0.0   \n",
       "..                                          ...   \n",
       "144                                         0.0   \n",
       "145                                         1.0   \n",
       "146                                         1.0   \n",
       "147                                         1.0   \n",
       "148                                         1.0   \n",
       "\n",
       "     DSS_for_ShortLongTermBothDecision_Cat_NO  Prefered_type_Web_1  \\\n",
       "0                                         NaN                  NaN   \n",
       "1                                         NaN                  NaN   \n",
       "2                                         1.0                  1.0   \n",
       "3                                         2.0                  0.0   \n",
       "4                                         1.0                  1.0   \n",
       "..                                        ...                  ...   \n",
       "144                                       1.0                  1.0   \n",
       "145                                       2.0                  1.0   \n",
       "146                                       3.0                  1.0   \n",
       "147                                       2.0                  1.0   \n",
       "148                                       3.0                  1.0   \n",
       "\n",
       "     Prefered_type_Software_2  Prefered_type_Web_Software_Both_Cat_NO  \\\n",
       "0                         NaN                                     NaN   \n",
       "1                         NaN                                     NaN   \n",
       "2                         0.0                                     1.0   \n",
       "3                         1.0                                     2.0   \n",
       "4                         0.0                                     1.0   \n",
       "..                        ...                                     ...   \n",
       "144                       0.0                                     1.0   \n",
       "145                       0.0                                     1.0   \n",
       "146                       0.0                                     1.0   \n",
       "147                       0.0                                     1.0   \n",
       "148                       0.0                                     1.0   \n",
       "\n",
       "     Importance_of_easy_to_use_1to7  Importance_of_easy_to_use_1to2  \\\n",
       "0                               NaN                             NaN   \n",
       "1                               NaN                             NaN   \n",
       "2                               7.0                             2.0   \n",
       "3                               7.0                             2.0   \n",
       "4                               7.0                             2.0   \n",
       "..                              ...                             ...   \n",
       "144                             4.0                             1.0   \n",
       "145                             NaN                             NaN   \n",
       "146                             4.0                             1.0   \n",
       "147                             5.0                             1.0   \n",
       "148                             4.0                             1.0   \n",
       "\n",
       "     Importance_of_easy_to_use_1to3  Importance_of_efficient_1to7  \\\n",
       "0                               NaN                           NaN   \n",
       "1                               NaN                           NaN   \n",
       "2                               3.0                           7.0   \n",
       "3                               3.0                           6.0   \n",
       "4                               3.0                           7.0   \n",
       "..                              ...                           ...   \n",
       "144                             1.0                           7.0   \n",
       "145                             NaN                           5.0   \n",
       "146                             1.0                           7.0   \n",
       "147                             2.0                           5.0   \n",
       "148                             1.0                           6.0   \n",
       "\n",
       "     Importance_of_efficient_1to2  Importance_of_efficient_1to3  \\\n",
       "0                             NaN                           NaN   \n",
       "1                             NaN                           NaN   \n",
       "2                             2.0                           3.0   \n",
       "3                             2.0                           2.0   \n",
       "4                             2.0                           3.0   \n",
       "..                            ...                           ...   \n",
       "144                           2.0                           3.0   \n",
       "145                           1.0                           2.0   \n",
       "146                           2.0                           3.0   \n",
       "147                           1.0                           2.0   \n",
       "148                           2.0                           2.0   \n",
       "\n",
       "     Importance_low_price_1to7  Importance_low_price_1to2  \\\n",
       "0                          NaN                        NaN   \n",
       "1                          NaN                        NaN   \n",
       "2                          5.0                        1.0   \n",
       "3                          4.0                        1.0   \n",
       "4                          4.0                        1.0   \n",
       "..                         ...                        ...   \n",
       "144                        4.0                        1.0   \n",
       "145                        NaN                        NaN   \n",
       "146                        4.0                        1.0   \n",
       "147                        2.0                        1.0   \n",
       "148                        5.0                        1.0   \n",
       "\n",
       "     Importance_low_price_1to3  Importance_polyvalence_1to7  \\\n",
       "0                          NaN                          NaN   \n",
       "1                          NaN                          NaN   \n",
       "2                          2.0                          7.0   \n",
       "3                          1.0                          6.0   \n",
       "4                          1.0                          6.0   \n",
       "..                         ...                          ...   \n",
       "144                        1.0                          6.0   \n",
       "145                        NaN                          5.0   \n",
       "146                        1.0                          7.0   \n",
       "147                        1.0                          6.0   \n",
       "148                        2.0                          7.0   \n",
       "\n",
       "     Importance_polyvalence_1to2  Importance_polyvalence_1to3  \\\n",
       "0                            NaN                          NaN   \n",
       "1                            NaN                          NaN   \n",
       "2                            2.0                          3.0   \n",
       "3                            2.0                          2.0   \n",
       "4                            2.0                          2.0   \n",
       "..                           ...                          ...   \n",
       "144                          2.0                          2.0   \n",
       "145                          1.0                          2.0   \n",
       "146                          2.0                          3.0   \n",
       "147                          2.0                          2.0   \n",
       "148                          2.0                          3.0   \n",
       "\n",
       "     Enjoy_using_new_techs_1to7  Enjoy_using_new_techs_1to2  \\\n",
       "0                           NaN                         NaN   \n",
       "1                           7.0                         2.0   \n",
       "2                           4.0                         1.0   \n",
       "3                           6.0                         2.0   \n",
       "4                           5.0                         1.0   \n",
       "..                          ...                         ...   \n",
       "144                         7.0                         2.0   \n",
       "145                         6.0                         2.0   \n",
       "146                         7.0                         2.0   \n",
       "147                         6.0                         2.0   \n",
       "148                         6.0                         2.0   \n",
       "\n",
       "     Enjoy_using_new_techs_1to3  Appreciate_change_1to7  \\\n",
       "0                           NaN                     7.0   \n",
       "1                           3.0                     7.0   \n",
       "2                           1.0                     4.0   \n",
       "3                           2.0                     6.0   \n",
       "4                           2.0                     4.0   \n",
       "..                          ...                     ...   \n",
       "144                         3.0                     7.0   \n",
       "145                         2.0                     5.0   \n",
       "146                         3.0                     7.0   \n",
       "147                         2.0                     7.0   \n",
       "148                         2.0                     5.0   \n",
       "\n",
       "     Appreciate_change_1to2  Appreciate_change_1to3  Trust_in_DSS_1to7  \\\n",
       "0                       2.0                     3.0                1.0   \n",
       "1                       2.0                     3.0                6.0   \n",
       "2                       1.0                     1.0                5.0   \n",
       "3                       2.0                     2.0                4.0   \n",
       "4                       1.0                     1.0                4.0   \n",
       "..                      ...                     ...                ...   \n",
       "144                     2.0                     3.0                6.0   \n",
       "145                     1.0                     2.0                5.0   \n",
       "146                     2.0                     3.0                5.0   \n",
       "147                     2.0                     3.0                5.0   \n",
       "148                     1.0                     2.0                4.0   \n",
       "\n",
       "     Trust_in_DSS_1to2  Trust_in_DSS_1to3  Trust_in_colleague_advice_1to7  \\\n",
       "0                  1.0                1.0                             2.0   \n",
       "1                  2.0                2.0                             2.0   \n",
       "2                  1.0                2.0                             5.0   \n",
       "3                  1.0                1.0                             4.0   \n",
       "4                  1.0                1.0                             4.0   \n",
       "..                 ...                ...                             ...   \n",
       "144                2.0                2.0                             2.0   \n",
       "145                1.0                2.0                             1.0   \n",
       "146                1.0                2.0                             3.0   \n",
       "147                1.0                2.0                             3.0   \n",
       "148                1.0                1.0                             4.0   \n",
       "\n",
       "     Trust_in_colleague_advice_1to2  Trust_in_colleague_advice_1to3  \\\n",
       "0                               1.0                             1.0   \n",
       "1                               1.0                             1.0   \n",
       "2                               1.0                             2.0   \n",
       "3                               1.0                             1.0   \n",
       "4                               1.0                             1.0   \n",
       "..                              ...                             ...   \n",
       "144                             1.0                             1.0   \n",
       "145                             1.0                             1.0   \n",
       "146                             1.0                             1.0   \n",
       "147                             1.0                             1.0   \n",
       "148                             1.0                             1.0   \n",
       "\n",
       "     Trust_advice_friend_1to7  Trust_advice_friend_1to2  \\\n",
       "0                         2.0                       1.0   \n",
       "1                         4.0                       1.0   \n",
       "2                         5.0                       1.0   \n",
       "3                         4.0                       1.0   \n",
       "4                         4.0                       1.0   \n",
       "..                        ...                       ...   \n",
       "144                       2.0                       1.0   \n",
       "145                       1.0                       1.0   \n",
       "146                       2.0                       1.0   \n",
       "147                       2.0                       1.0   \n",
       "148                       4.0                       1.0   \n",
       "\n",
       "     Trust_advice_friend_1to3  Need_IT_teaching_Cat  \\\n",
       "0                         1.0                   1.0   \n",
       "1                         1.0                   2.0   \n",
       "2                         2.0                   2.0   \n",
       "3                         1.0                   2.0   \n",
       "4                         1.0                   2.0   \n",
       "..                        ...                   ...   \n",
       "144                       1.0                   2.0   \n",
       "145                       1.0                   2.0   \n",
       "146                       1.0                   2.0   \n",
       "147                       1.0                   2.0   \n",
       "148                       1.0                   2.0   \n",
       "\n",
       "     DSS_can_improve_your_productivity_Cat  CL_Output_preference_Graphical_1  \\\n",
       "0                                      1.0                               NaN   \n",
       "1                                      3.0                               NaN   \n",
       "2                                      3.0                               0.0   \n",
       "3                                      3.0                               0.0   \n",
       "4                                      3.0                               0.0   \n",
       "..                                     ...                               ...   \n",
       "144                                    2.0                               0.0   \n",
       "145                                    4.0                               0.0   \n",
       "146                                    3.0                               1.0   \n",
       "147                                    4.0                               0.0   \n",
       "148                                    4.0                               0.0   \n",
       "\n",
       "     CL_Output_preference_Textual_2  CL_Output_preference_Both_3  \\\n",
       "0                               NaN                          NaN   \n",
       "1                               NaN                          NaN   \n",
       "2                               0.0                          1.0   \n",
       "3                               0.0                          1.0   \n",
       "4                               0.0                          1.0   \n",
       "..                              ...                          ...   \n",
       "144                             0.0                          1.0   \n",
       "145                             0.0                          1.0   \n",
       "146                             0.0                          0.0   \n",
       "147                             0.0                          1.0   \n",
       "148                             0.0                          1.0   \n",
       "\n",
       "     Output_preference_Cat_NO  Share_DSS_exp_with_colleague_Cat  \\\n",
       "0                         NaN                               2.0   \n",
       "1                         NaN                               2.0   \n",
       "2                         3.0                               1.0   \n",
       "3                         3.0                               NaN   \n",
       "4                         3.0                               3.0   \n",
       "..                        ...                               ...   \n",
       "144                       3.0                               NaN   \n",
       "145                       3.0                               2.0   \n",
       "146                       1.0                               NaN   \n",
       "147                       3.0                               2.0   \n",
       "148                       3.0                               3.0   \n",
       "\n",
       "     Use_DSS_from_trusted_sources_Always  WTP_for_DSS_Cat  \\\n",
       "0                                    NaN              1.0   \n",
       "1                                    NaN              1.0   \n",
       "2                                    NaN              2.0   \n",
       "3                                    NaN              3.0   \n",
       "4                                    1.0              3.0   \n",
       "..                                   ...              ...   \n",
       "144                                  NaN              2.0   \n",
       "145                                  1.0              3.0   \n",
       "146                                  NaN              3.0   \n",
       "147                                  NaN              2.0   \n",
       "148                                  1.0              2.0   \n",
       "\n",
       "     DSS_must_be_tailored_for_your_farm_Cat  Use_same_DSS_than_advisor_Cat  \\\n",
       "0                                       1.0                            NaN   \n",
       "1                                       2.0                            NaN   \n",
       "2                                       2.0                            1.0   \n",
       "3                                       2.0                            NaN   \n",
       "4                                       2.0                            2.0   \n",
       "..                                      ...                            ...   \n",
       "144                                     2.0                            NaN   \n",
       "145                                     2.0                            NaN   \n",
       "146                                     2.0                            NaN   \n",
       "147                                     2.0                            NaN   \n",
       "148                                     2.0                            1.0   \n",
       "\n",
       "     Age_of_DSS_user_at_the_farm_1  Age_of_DSS_user_at_the_farm_2  \\\n",
       "0                              NaN                            NaN   \n",
       "1                              0.0                            1.0   \n",
       "2                              NaN                            NaN   \n",
       "3                              1.0                            0.0   \n",
       "4                              1.0                            0.0   \n",
       "..                             ...                            ...   \n",
       "144                            NaN                            NaN   \n",
       "145                            0.0                            1.0   \n",
       "146                            NaN                            NaN   \n",
       "147                            NaN                            NaN   \n",
       "148                            0.0                            1.0   \n",
       "\n",
       "     Age_of_DSS_user_at_the_farm_3  Marketing_info_about_DSS_Cat  \\\n",
       "0                              NaN                           1.0   \n",
       "1                              0.0                           2.0   \n",
       "2                              NaN                           2.0   \n",
       "3                              0.0                           NaN   \n",
       "4                              0.0                           2.0   \n",
       "..                             ...                           ...   \n",
       "144                            NaN                           NaN   \n",
       "145                            0.0                           2.0   \n",
       "146                            NaN                           NaN   \n",
       "147                            NaN                           1.0   \n",
       "148                            0.0                           2.0   \n",
       "\n",
       "     Manufacturer_demo_of_DSS_Cat  \n",
       "0                             1.0  \n",
       "1                             2.0  \n",
       "2                             2.0  \n",
       "3                             1.0  \n",
       "4                             2.0  \n",
       "..                            ...  \n",
       "144                           1.0  \n",
       "145                           1.0  \n",
       "146                           1.0  \n",
       "147                           1.0  \n",
       "148                           1.0  \n",
       "\n",
       "[65 rows x 81 columns]"
      ]
     },
     "execution_count": 196,
     "metadata": {},
     "output_type": "execute_result"
    }
   ],
   "source": [
    "# Slice by \"Region\" = north_EU\n",
    "# df = df[df.Region==\"north_EU\"]\n",
    "# Slice by \"Region\" = central_EU\n",
    "# df = df[df.Region==\"central_EU\"]\n",
    "# Slice by \"Region\" = south_EU\n",
    "df = df[df.Region==\"south_EU\"]\n",
    "df"
   ]
  },
  {
   "cell_type": "code",
   "execution_count": 197,
   "metadata": {
    "id": "1BwwIb_nqyKm"
   },
   "outputs": [],
   "source": [
    "# Remove duplicate features and \"Subject\" feature.\n",
    "dup_feat = [\"Subject\", \"Production_level_1to7\", \"DSS_for_ShortLongTermBothDecision_Cat_NO\", \"Prefered_type_Web_Software_Both_Cat_NO\", \n",
    "            \"Importance_of_easy_to_use_1to7\", \"Importance_of_easy_to_use_1to2\", \"Importance_of_efficient_1to7\", \"Importance_of_efficient_1to2\", \n",
    "            \"Importance_low_price_1to7\", \"Importance_low_price_1to2\", \"Importance_polyvalence_1to7\", \"Importance_polyvalence_1to2\", \n",
    "            \"Enjoy_using_new_techs_1to7\", \"Enjoy_using_new_techs_1to2\", \"Appreciate_change_1to7\", \"Appreciate_change_1to2\",\n",
    "            \"Trust_in_DSS_1to7\", \"Trust_in_DSS_1to2\", \"Trust_in_colleague_advice_1to7\", \"Trust_in_colleague_advice_1to2\",\n",
    "            \"Trust_advice_friend_1to7\", \"Trust_advice_friend_1to2\", \"Output_preference_Cat_NO\"] \n",
    "df_reduced = df.drop(dup_feat, axis=1)"
   ]
  },
  {
   "cell_type": "code",
   "execution_count": 198,
   "metadata": {
    "colab": {
     "base_uri": "https://localhost:8080/"
    },
    "id": "ocfM2RDzrfKE",
    "outputId": "5fd2abfa-7a26-48ce-c959-d7221232004c"
   },
   "outputs": [
    {
     "data": {
      "text/plain": [
       "(65, 58)"
      ]
     },
     "execution_count": 198,
     "metadata": {},
     "output_type": "execute_result"
    }
   ],
   "source": [
    "df_reduced.shape"
   ]
  },
  {
   "cell_type": "code",
   "execution_count": 199,
   "metadata": {
    "id": "i0MxT2vNnfrn"
   },
   "outputs": [],
   "source": [
    "# Remove feature specific to Question #1 \"Already_used_DSS\"\n",
    "removed_featuresQ1 = [\"Region\", \"Country\", \"ProductionUse_selling\", \"Farm_type_Conventional\", \"Farm_type_Intergrated\", \"Farm_type_Organic\",\n",
    "             \"Farm_type_Biodynamic\", \"Proportion_of_income\", \"Production_level_1to3\", \"Crop_Group_Cat\", \"Own_phone\", \"Years_own_phone\", \n",
    "             \"Use_DSS_App\", \"Agricultural_app_use_Cat\", \"How_do_you_access_DSS_Cat\", \"Potencial_user_of_platform\", \"Prefered_access_Phone\", \"Prefered_access_PC\", \"Prefered_access_Advisor\", \n",
    "             \"DSS_are_more_suited_for_ShortTermDecision_1\", \"DSS_are_more_suited_for_LongTermDecision_2\", \n",
    "             \"Prefered_type_Web_1\", \"Prefered_type_Software_2\", \"Trust_in_colleague_advice_1to3\",\n",
    "             \"Trust_advice_friend_1to3\", \"CL_Output_preference_Graphical_1\", \"CL_Output_preference_Textual_2\",\n",
    "             \"CL_Output_preference_Both_3\", \"Share_DSS_exp_with_colleague_Cat\", \"Use_DSS_from_trusted_sources_Always\", \"Use_same_DSS_than_advisor_Cat\", \"Age_of_DSS_user_at_the_farm_1\", \n",
    "             \"Age_of_DSS_user_at_the_farm_2\", \"Age_of_DSS_user_at_the_farm_3\", \"Marketing_info_about_DSS_Cat\"]\n",
    "df_reducedQ1 = df_reduced.copy().drop(removed_featuresQ1, axis=1)"
   ]
  },
  {
   "cell_type": "code",
   "execution_count": 200,
   "metadata": {
    "colab": {
     "base_uri": "https://localhost:8080/"
    },
    "id": "OzqvgdFqkdJ-",
    "outputId": "2b5c2026-dd8f-44d6-ee0c-388831dcefa9"
   },
   "outputs": [
    {
     "data": {
      "text/plain": [
       "(65, 23)"
      ]
     },
     "execution_count": 200,
     "metadata": {},
     "output_type": "execute_result"
    }
   ],
   "source": [
    "df_reducedQ1.shape"
   ]
  },
  {
   "cell_type": "code",
   "execution_count": 201,
   "metadata": {
    "id": "YnIWAHzVl2Ns"
   },
   "outputs": [],
   "source": [
    "# One hot encode categorical data.\n",
    "#ohe_df = pd.get_dummies(df, columns=[\"Region\", \"Country\"])\n",
    "\n",
    "#ohe_df = pd.get_dummies(df_reducedQ1, columns=[\"Region\"])\n",
    "ohe_df = df_reducedQ1.copy()"
   ]
  },
  {
   "cell_type": "markdown",
   "metadata": {
    "id": "Q8zS_VOMl2Ns"
   },
   "source": [
    "### Missing values"
   ]
  },
  {
   "cell_type": "code",
   "execution_count": 202,
   "metadata": {
    "colab": {
     "base_uri": "https://localhost:8080/"
    },
    "id": "-lQe012UBGev",
    "outputId": "111877ef-19c1-424d-85c0-db314faede7b"
   },
   "outputs": [
    {
     "data": {
      "text/plain": [
       "Age_Cat                                   0\n",
       "Gender_1male                              1\n",
       "Degree_Cat                                4\n",
       "Farm_size_Cat                             0\n",
       "Income_Cat                                3\n",
       "                                         ..\n",
       "Need_IT_teaching_Cat                      2\n",
       "DSS_can_improve_your_productivity_Cat     2\n",
       "WTP_for_DSS_Cat                           1\n",
       "DSS_must_be_tailored_for_your_farm_Cat    3\n",
       "Manufacturer_demo_of_DSS_Cat              3\n",
       "Length: 23, dtype: int64"
      ]
     },
     "execution_count": 202,
     "metadata": {},
     "output_type": "execute_result"
    }
   ],
   "source": [
    "# Show Missing values\n",
    "ohe_df.isnull().sum()"
   ]
  },
  {
   "cell_type": "code",
   "execution_count": 203,
   "metadata": {
    "id": "xV8O9ayCl2Ns"
   },
   "outputs": [],
   "source": [
    "df_noNaN = ohe_df.dropna(how=\"any\").copy()\n",
    "#df_noNaN = ohe_df.copy().fillna(ohe_df.mean())\n",
    "#df_noNaN = ohe_df.copy().fillna(ohe_df.median())\n",
    "#df_noNaN = ohe_df.copy().fillna(ohe_df.mode())\n",
    "#df_noNaN = ohe_df.interpolate(method=\"linear\", axis=0).copy()\n",
    "#df_noNaN = df.dropna(how=\"any\").copy()\n",
    "\n",
    "# try scikit learn"
   ]
  },
  {
   "cell_type": "code",
   "execution_count": 204,
   "metadata": {
    "colab": {
     "base_uri": "https://localhost:8080/",
     "height": 439
    },
    "id": "Mvr-4Iank4fq",
    "outputId": "ee4f8bb4-9730-4aef-faae-1a2aa1f0bfe8"
   },
   "outputs": [
    {
     "data": {
      "text/plain": [
       "(36, 23)"
      ]
     },
     "execution_count": 204,
     "metadata": {},
     "output_type": "execute_result"
    }
   ],
   "source": [
    "df_noNaN = df_noNaN.astype(\"int64\")\n",
    "df_noNaN.shape"
   ]
  },
  {
   "cell_type": "code",
   "execution_count": 205,
   "metadata": {},
   "outputs": [
    {
     "data": {
      "text/html": [
       "<div>\n",
       "<style scoped>\n",
       "    .dataframe tbody tr th:only-of-type {\n",
       "        vertical-align: middle;\n",
       "    }\n",
       "\n",
       "    .dataframe tbody tr th {\n",
       "        vertical-align: top;\n",
       "    }\n",
       "\n",
       "    .dataframe thead th {\n",
       "        text-align: right;\n",
       "    }\n",
       "</style>\n",
       "<table border=\"1\" class=\"dataframe\">\n",
       "  <thead>\n",
       "    <tr style=\"text-align: right;\">\n",
       "      <th></th>\n",
       "      <th>Age_Cat</th>\n",
       "      <th>Gender_1male</th>\n",
       "      <th>Degree_Cat</th>\n",
       "      <th>Farm_size_Cat</th>\n",
       "      <th>Income_Cat</th>\n",
       "      <th>Legislative_requirements</th>\n",
       "      <th>Computer_at_home</th>\n",
       "      <th>Speed_internet_Cat</th>\n",
       "      <th>Already_used_DSS</th>\n",
       "      <th>Willing_to_try_new_products_Cat</th>\n",
       "      <th>Price_important_factor</th>\n",
       "      <th>Importance_of_easy_to_use_1to3</th>\n",
       "      <th>Importance_of_efficient_1to3</th>\n",
       "      <th>Importance_low_price_1to3</th>\n",
       "      <th>Importance_polyvalence_1to3</th>\n",
       "      <th>Enjoy_using_new_techs_1to3</th>\n",
       "      <th>Appreciate_change_1to3</th>\n",
       "      <th>Trust_in_DSS_1to3</th>\n",
       "      <th>Need_IT_teaching_Cat</th>\n",
       "      <th>DSS_can_improve_your_productivity_Cat</th>\n",
       "      <th>WTP_for_DSS_Cat</th>\n",
       "      <th>DSS_must_be_tailored_for_your_farm_Cat</th>\n",
       "      <th>Manufacturer_demo_of_DSS_Cat</th>\n",
       "    </tr>\n",
       "  </thead>\n",
       "  <tbody>\n",
       "    <tr>\n",
       "      <th>2</th>\n",
       "      <td>2</td>\n",
       "      <td>1</td>\n",
       "      <td>2</td>\n",
       "      <td>5</td>\n",
       "      <td>2</td>\n",
       "      <td>1</td>\n",
       "      <td>1</td>\n",
       "      <td>2</td>\n",
       "      <td>0</td>\n",
       "      <td>1</td>\n",
       "      <td>1</td>\n",
       "      <td>3</td>\n",
       "      <td>3</td>\n",
       "      <td>2</td>\n",
       "      <td>3</td>\n",
       "      <td>1</td>\n",
       "      <td>1</td>\n",
       "      <td>2</td>\n",
       "      <td>2</td>\n",
       "      <td>3</td>\n",
       "      <td>2</td>\n",
       "      <td>2</td>\n",
       "      <td>2</td>\n",
       "    </tr>\n",
       "    <tr>\n",
       "      <th>3</th>\n",
       "      <td>2</td>\n",
       "      <td>1</td>\n",
       "      <td>2</td>\n",
       "      <td>4</td>\n",
       "      <td>5</td>\n",
       "      <td>1</td>\n",
       "      <td>1</td>\n",
       "      <td>2</td>\n",
       "      <td>0</td>\n",
       "      <td>1</td>\n",
       "      <td>1</td>\n",
       "      <td>3</td>\n",
       "      <td>2</td>\n",
       "      <td>1</td>\n",
       "      <td>2</td>\n",
       "      <td>2</td>\n",
       "      <td>2</td>\n",
       "      <td>1</td>\n",
       "      <td>2</td>\n",
       "      <td>3</td>\n",
       "      <td>3</td>\n",
       "      <td>2</td>\n",
       "      <td>1</td>\n",
       "    </tr>\n",
       "    <tr>\n",
       "      <th>4</th>\n",
       "      <td>2</td>\n",
       "      <td>1</td>\n",
       "      <td>2</td>\n",
       "      <td>5</td>\n",
       "      <td>5</td>\n",
       "      <td>1</td>\n",
       "      <td>1</td>\n",
       "      <td>2</td>\n",
       "      <td>1</td>\n",
       "      <td>1</td>\n",
       "      <td>1</td>\n",
       "      <td>3</td>\n",
       "      <td>3</td>\n",
       "      <td>1</td>\n",
       "      <td>2</td>\n",
       "      <td>2</td>\n",
       "      <td>1</td>\n",
       "      <td>1</td>\n",
       "      <td>2</td>\n",
       "      <td>3</td>\n",
       "      <td>3</td>\n",
       "      <td>2</td>\n",
       "      <td>2</td>\n",
       "    </tr>\n",
       "    <tr>\n",
       "      <th>5</th>\n",
       "      <td>1</td>\n",
       "      <td>1</td>\n",
       "      <td>2</td>\n",
       "      <td>2</td>\n",
       "      <td>1</td>\n",
       "      <td>0</td>\n",
       "      <td>1</td>\n",
       "      <td>3</td>\n",
       "      <td>1</td>\n",
       "      <td>2</td>\n",
       "      <td>1</td>\n",
       "      <td>3</td>\n",
       "      <td>3</td>\n",
       "      <td>3</td>\n",
       "      <td>3</td>\n",
       "      <td>2</td>\n",
       "      <td>2</td>\n",
       "      <td>1</td>\n",
       "      <td>1</td>\n",
       "      <td>2</td>\n",
       "      <td>2</td>\n",
       "      <td>3</td>\n",
       "      <td>2</td>\n",
       "    </tr>\n",
       "    <tr>\n",
       "      <th>6</th>\n",
       "      <td>1</td>\n",
       "      <td>1</td>\n",
       "      <td>2</td>\n",
       "      <td>3</td>\n",
       "      <td>1</td>\n",
       "      <td>0</td>\n",
       "      <td>1</td>\n",
       "      <td>2</td>\n",
       "      <td>1</td>\n",
       "      <td>2</td>\n",
       "      <td>1</td>\n",
       "      <td>2</td>\n",
       "      <td>2</td>\n",
       "      <td>2</td>\n",
       "      <td>2</td>\n",
       "      <td>3</td>\n",
       "      <td>2</td>\n",
       "      <td>2</td>\n",
       "      <td>2</td>\n",
       "      <td>3</td>\n",
       "      <td>2</td>\n",
       "      <td>1</td>\n",
       "      <td>1</td>\n",
       "    </tr>\n",
       "    <tr>\n",
       "      <th>...</th>\n",
       "      <td>...</td>\n",
       "      <td>...</td>\n",
       "      <td>...</td>\n",
       "      <td>...</td>\n",
       "      <td>...</td>\n",
       "      <td>...</td>\n",
       "      <td>...</td>\n",
       "      <td>...</td>\n",
       "      <td>...</td>\n",
       "      <td>...</td>\n",
       "      <td>...</td>\n",
       "      <td>...</td>\n",
       "      <td>...</td>\n",
       "      <td>...</td>\n",
       "      <td>...</td>\n",
       "      <td>...</td>\n",
       "      <td>...</td>\n",
       "      <td>...</td>\n",
       "      <td>...</td>\n",
       "      <td>...</td>\n",
       "      <td>...</td>\n",
       "      <td>...</td>\n",
       "      <td>...</td>\n",
       "    </tr>\n",
       "    <tr>\n",
       "      <th>90</th>\n",
       "      <td>3</td>\n",
       "      <td>1</td>\n",
       "      <td>4</td>\n",
       "      <td>3</td>\n",
       "      <td>1</td>\n",
       "      <td>1</td>\n",
       "      <td>1</td>\n",
       "      <td>3</td>\n",
       "      <td>1</td>\n",
       "      <td>1</td>\n",
       "      <td>1</td>\n",
       "      <td>3</td>\n",
       "      <td>3</td>\n",
       "      <td>3</td>\n",
       "      <td>2</td>\n",
       "      <td>2</td>\n",
       "      <td>1</td>\n",
       "      <td>2</td>\n",
       "      <td>1</td>\n",
       "      <td>3</td>\n",
       "      <td>2</td>\n",
       "      <td>2</td>\n",
       "      <td>2</td>\n",
       "    </tr>\n",
       "    <tr>\n",
       "      <th>128</th>\n",
       "      <td>1</td>\n",
       "      <td>1</td>\n",
       "      <td>2</td>\n",
       "      <td>1</td>\n",
       "      <td>1</td>\n",
       "      <td>0</td>\n",
       "      <td>1</td>\n",
       "      <td>2</td>\n",
       "      <td>1</td>\n",
       "      <td>1</td>\n",
       "      <td>1</td>\n",
       "      <td>2</td>\n",
       "      <td>3</td>\n",
       "      <td>2</td>\n",
       "      <td>2</td>\n",
       "      <td>2</td>\n",
       "      <td>2</td>\n",
       "      <td>2</td>\n",
       "      <td>2</td>\n",
       "      <td>3</td>\n",
       "      <td>2</td>\n",
       "      <td>2</td>\n",
       "      <td>2</td>\n",
       "    </tr>\n",
       "    <tr>\n",
       "      <th>135</th>\n",
       "      <td>3</td>\n",
       "      <td>1</td>\n",
       "      <td>2</td>\n",
       "      <td>3</td>\n",
       "      <td>3</td>\n",
       "      <td>0</td>\n",
       "      <td>1</td>\n",
       "      <td>2</td>\n",
       "      <td>1</td>\n",
       "      <td>1</td>\n",
       "      <td>1</td>\n",
       "      <td>2</td>\n",
       "      <td>2</td>\n",
       "      <td>1</td>\n",
       "      <td>2</td>\n",
       "      <td>1</td>\n",
       "      <td>1</td>\n",
       "      <td>1</td>\n",
       "      <td>2</td>\n",
       "      <td>2</td>\n",
       "      <td>2</td>\n",
       "      <td>1</td>\n",
       "      <td>1</td>\n",
       "    </tr>\n",
       "    <tr>\n",
       "      <th>137</th>\n",
       "      <td>1</td>\n",
       "      <td>1</td>\n",
       "      <td>1</td>\n",
       "      <td>5</td>\n",
       "      <td>4</td>\n",
       "      <td>0</td>\n",
       "      <td>1</td>\n",
       "      <td>3</td>\n",
       "      <td>1</td>\n",
       "      <td>1</td>\n",
       "      <td>0</td>\n",
       "      <td>1</td>\n",
       "      <td>2</td>\n",
       "      <td>1</td>\n",
       "      <td>2</td>\n",
       "      <td>2</td>\n",
       "      <td>1</td>\n",
       "      <td>2</td>\n",
       "      <td>2</td>\n",
       "      <td>4</td>\n",
       "      <td>3</td>\n",
       "      <td>2</td>\n",
       "      <td>2</td>\n",
       "    </tr>\n",
       "    <tr>\n",
       "      <th>148</th>\n",
       "      <td>2</td>\n",
       "      <td>1</td>\n",
       "      <td>3</td>\n",
       "      <td>5</td>\n",
       "      <td>2</td>\n",
       "      <td>1</td>\n",
       "      <td>1</td>\n",
       "      <td>2</td>\n",
       "      <td>1</td>\n",
       "      <td>1</td>\n",
       "      <td>1</td>\n",
       "      <td>1</td>\n",
       "      <td>2</td>\n",
       "      <td>2</td>\n",
       "      <td>3</td>\n",
       "      <td>2</td>\n",
       "      <td>2</td>\n",
       "      <td>1</td>\n",
       "      <td>2</td>\n",
       "      <td>4</td>\n",
       "      <td>2</td>\n",
       "      <td>2</td>\n",
       "      <td>1</td>\n",
       "    </tr>\n",
       "  </tbody>\n",
       "</table>\n",
       "<p>36 rows × 23 columns</p>\n",
       "</div>"
      ],
      "text/plain": [
       "     Age_Cat  Gender_1male  Degree_Cat  Farm_size_Cat  Income_Cat  \\\n",
       "2          2             1           2              5           2   \n",
       "3          2             1           2              4           5   \n",
       "4          2             1           2              5           5   \n",
       "5          1             1           2              2           1   \n",
       "6          1             1           2              3           1   \n",
       "..       ...           ...         ...            ...         ...   \n",
       "90         3             1           4              3           1   \n",
       "128        1             1           2              1           1   \n",
       "135        3             1           2              3           3   \n",
       "137        1             1           1              5           4   \n",
       "148        2             1           3              5           2   \n",
       "\n",
       "     Legislative_requirements  Computer_at_home  Speed_internet_Cat  \\\n",
       "2                           1                 1                   2   \n",
       "3                           1                 1                   2   \n",
       "4                           1                 1                   2   \n",
       "5                           0                 1                   3   \n",
       "6                           0                 1                   2   \n",
       "..                        ...               ...                 ...   \n",
       "90                          1                 1                   3   \n",
       "128                         0                 1                   2   \n",
       "135                         0                 1                   2   \n",
       "137                         0                 1                   3   \n",
       "148                         1                 1                   2   \n",
       "\n",
       "     Already_used_DSS  Willing_to_try_new_products_Cat  \\\n",
       "2                   0                                1   \n",
       "3                   0                                1   \n",
       "4                   1                                1   \n",
       "5                   1                                2   \n",
       "6                   1                                2   \n",
       "..                ...                              ...   \n",
       "90                  1                                1   \n",
       "128                 1                                1   \n",
       "135                 1                                1   \n",
       "137                 1                                1   \n",
       "148                 1                                1   \n",
       "\n",
       "     Price_important_factor  Importance_of_easy_to_use_1to3  \\\n",
       "2                         1                               3   \n",
       "3                         1                               3   \n",
       "4                         1                               3   \n",
       "5                         1                               3   \n",
       "6                         1                               2   \n",
       "..                      ...                             ...   \n",
       "90                        1                               3   \n",
       "128                       1                               2   \n",
       "135                       1                               2   \n",
       "137                       0                               1   \n",
       "148                       1                               1   \n",
       "\n",
       "     Importance_of_efficient_1to3  Importance_low_price_1to3  \\\n",
       "2                               3                          2   \n",
       "3                               2                          1   \n",
       "4                               3                          1   \n",
       "5                               3                          3   \n",
       "6                               2                          2   \n",
       "..                            ...                        ...   \n",
       "90                              3                          3   \n",
       "128                             3                          2   \n",
       "135                             2                          1   \n",
       "137                             2                          1   \n",
       "148                             2                          2   \n",
       "\n",
       "     Importance_polyvalence_1to3  Enjoy_using_new_techs_1to3  \\\n",
       "2                              3                           1   \n",
       "3                              2                           2   \n",
       "4                              2                           2   \n",
       "5                              3                           2   \n",
       "6                              2                           3   \n",
       "..                           ...                         ...   \n",
       "90                             2                           2   \n",
       "128                            2                           2   \n",
       "135                            2                           1   \n",
       "137                            2                           2   \n",
       "148                            3                           2   \n",
       "\n",
       "     Appreciate_change_1to3  Trust_in_DSS_1to3  Need_IT_teaching_Cat  \\\n",
       "2                         1                  2                     2   \n",
       "3                         2                  1                     2   \n",
       "4                         1                  1                     2   \n",
       "5                         2                  1                     1   \n",
       "6                         2                  2                     2   \n",
       "..                      ...                ...                   ...   \n",
       "90                        1                  2                     1   \n",
       "128                       2                  2                     2   \n",
       "135                       1                  1                     2   \n",
       "137                       1                  2                     2   \n",
       "148                       2                  1                     2   \n",
       "\n",
       "     DSS_can_improve_your_productivity_Cat  WTP_for_DSS_Cat  \\\n",
       "2                                        3                2   \n",
       "3                                        3                3   \n",
       "4                                        3                3   \n",
       "5                                        2                2   \n",
       "6                                        3                2   \n",
       "..                                     ...              ...   \n",
       "90                                       3                2   \n",
       "128                                      3                2   \n",
       "135                                      2                2   \n",
       "137                                      4                3   \n",
       "148                                      4                2   \n",
       "\n",
       "     DSS_must_be_tailored_for_your_farm_Cat  Manufacturer_demo_of_DSS_Cat  \n",
       "2                                         2                             2  \n",
       "3                                         2                             1  \n",
       "4                                         2                             2  \n",
       "5                                         3                             2  \n",
       "6                                         1                             1  \n",
       "..                                      ...                           ...  \n",
       "90                                        2                             2  \n",
       "128                                       2                             2  \n",
       "135                                       1                             1  \n",
       "137                                       2                             2  \n",
       "148                                       2                             1  \n",
       "\n",
       "[36 rows x 23 columns]"
      ]
     },
     "execution_count": 205,
     "metadata": {},
     "output_type": "execute_result"
    }
   ],
   "source": [
    "df_noNaN"
   ]
  },
  {
   "cell_type": "markdown",
   "metadata": {
    "id": "PSEfCZT_l2Ns"
   },
   "source": [
    "### Changing data types to categorical (ordinal) and separating dataframes"
   ]
  },
  {
   "cell_type": "code",
   "execution_count": 206,
   "metadata": {
    "id": "OKOE6OA3uP5B"
   },
   "outputs": [],
   "source": [
    "# Adapted for Question #1 \"Already_used_DSS\"\n",
    "# List of ordinal features\n",
    "ord_feat = [\"Age_Cat\", \"Degree_Cat\", \"Farm_size_Cat\", \"Income_Cat\", \"Production_level_1to3\", \"Agricultural_app_use_Cat\", \"Speed_internet_Cat\", \n",
    "            \"How_do_you_access_DSS_Cat\", \"Importance_of_easy_to_use_1to3\", \"Importance_of_efficient_1to3\", \"Importance_low_price_1to3\", \n",
    "            \"Importance_polyvalence_1to3\", \"Enjoy_using_new_techs_1to3\", \"Appreciate_change_1to3\", \"Trust_in_DSS_1to3\", \"Trust_in_colleague_advice_1to3\", \n",
    "            \"Trust_advice_friend_1to3\", \"Need_IT_teaching_Cat\",\"DSS_can_improve_your_productivity_Cat\", \"Share_DSS_exp_with_colleague_Cat\", \n",
    "            \"WTP_for_DSS_Cat\", \"DSS_must_be_tailored_for_your_farm_Cat\", \"Marketing_info_about_DSS_Cat\", \"Manufacturer_demo_of_DSS_Cat\", \n",
    "            \"Willing_to_try_new_products_Cat\"]\n",
    "\n",
    "ord_feat = [_ for _ in ord_feat if _ not in removed_featuresQ1]\n",
    "ord_feat\n",
    "\n",
    "# No numeric features\n",
    "#num_feat = [\"Years_own_phone\", \"Proportion_of_income\"]\n",
    "\n",
    "nom_feat = []"
   ]
  },
  {
   "cell_type": "code",
   "execution_count": 207,
   "metadata": {
    "id": "_r0s5KtBl2Nu"
   },
   "outputs": [],
   "source": [
    "# df with ordinal and numeric featureas only\n",
    "#ordnum_df = pd.concat([df_noNaN[ord_feat], df_noNaN[num_feat]], axis=1).copy()\n",
    "ordnum_df = df_noNaN[ord_feat]\n",
    "\n",
    "# Extract column names\n",
    "all_col_names = list(df_noNaN.columns)\n",
    "ordnum_col_names = list(ordnum_df.columns)\n",
    "nom_col_names = [_ for _ in all_col_names if _ not in ordnum_col_names]\n",
    "\n",
    "# List of nominal features\n",
    "nom_feat = nom_col_names.copy()\n",
    "\n",
    "# df with nominal features only (all but two (\"Crop_Group_Cat\" and \"Willing_to_try_new_products_Cat\") are binary)\n",
    "# binarizarja ta dva\n",
    "nom_df = df_noNaN[nom_col_names]"
   ]
  },
  {
   "cell_type": "markdown",
   "metadata": {
    "id": "s0YJRtEPvdzU"
   },
   "source": [
    "# Dimensionality reduction"
   ]
  },
  {
   "cell_type": "markdown",
   "metadata": {
    "id": "ZqAja1cXl2Nv"
   },
   "source": [
    "### Ordinal and numeric features"
   ]
  },
  {
   "cell_type": "code",
   "execution_count": 208,
   "metadata": {
    "colab": {
     "base_uri": "https://localhost:8080/",
     "height": 905
    },
    "id": "V1svODxIWrh3",
    "outputId": "bdd9ec65-fdb7-4831-99f2-b19fce4d4229"
   },
   "outputs": [
    {
     "data": {
      "text/plain": [
       "Text(0.5, 1.0, 'UMAP projection of ordinal IPM farmers data')"
      ]
     },
     "execution_count": 208,
     "metadata": {},
     "output_type": "execute_result"
    },
    {
     "data": {
      "image/png": "[encoded data removed]",
      "text/plain": [
       "<Figure size 504x504 with 1 Axes>"
      ]
     },
     "metadata": {},
     "output_type": "display_data"
    }
   ],
   "source": [
    "# Standardisation\n",
    "scaled_array = StandardScaler().fit_transform(ordnum_df)\n",
    "scaled_df = pd.DataFrame(scaled_array, columns=ordnum_df.columns)\n",
    "\n",
    "# Mapping\n",
    "reducer = umap.UMAP(n_neighbors=10, min_dist=0.1, n_components=2, metric=\"euclidean\", random_state=123)\n",
    "ord_embedding = reducer.fit_transform(scaled_df)\n",
    "\n",
    "sns.set(style='white', context='notebook', rc={'figure.figsize':(14,10)})\n",
    "fig, ax = plt.subplots(figsize=(7,7))\n",
    "xs = ord_embedding[:, 0]\n",
    "ys = ord_embedding[:, 1] \n",
    "\n",
    "ax.scatter(xs, ys, c=[sns.color_palette()[int(x)] for x in ordnum_df['DSS_can_improve_your_productivity_Cat']])\n",
    "\n",
    "for i, val in enumerate(df_noNaN.index):\n",
    "#for i, val in enumerate(df_noNaN[\"Income_Cat\"].values.tolist()):\n",
    "    ax.annotate(str(int(val)), (xs[i], ys[i]), fontsize=9)\n",
    "plt.title('UMAP projection of ordinal IPM farmers data')"
   ]
  },
  {
   "cell_type": "markdown",
   "metadata": {
    "id": "ckHl71Acl2Nv"
   },
   "source": [
    "### Nominal features"
   ]
  },
  {
   "cell_type": "code",
   "execution_count": 209,
   "metadata": {
    "colab": {
     "base_uri": "https://localhost:8080/",
     "height": 532
    },
    "id": "nzzM68bcl2Nv",
    "outputId": "456118fc-2ea8-4dff-9896-a3749652903b"
   },
   "outputs": [
    {
     "name": "stderr",
     "output_type": "stream",
     "text": [
      "/Users/mmarzi/.pyenv/versions/3.8.0/envs/graphs/lib/python3.8/site-packages/umap/umap_.py:1760: UserWarning:\n",
      "\n",
      "gradient function is not yet implemented for hamming distance metric; inverse_transform will be unavailable\n",
      "\n"
     ]
    },
    {
     "data": {
      "text/plain": [
       "Text(0.5, 1.0, 'UMAP projection of nominal IPM farmers data')"
      ]
     },
     "execution_count": 209,
     "metadata": {},
     "output_type": "execute_result"
    },
    {
     "data": {
      "image/png": "[encoded data removed]",
      "text/plain": [
       "<Figure size 504x504 with 1 Axes>"
      ]
     },
     "metadata": {},
     "output_type": "display_data"
    }
   ],
   "source": [
    "# scaled_array = StandardScaler().fit_transform(nom_df)\n",
    "# scaled_df = pd.DataFrame(scaled_array, columns=nom_df.columns)\n",
    "\n",
    "reducer = umap.UMAP(n_neighbors=10, min_dist=0.1, n_components=2, metric=\"hamming\", random_state=123)\n",
    "nom_embedding = reducer.fit_transform(nom_df)\n",
    "\n",
    "fig, ax = plt.subplots(figsize=(7,7))\n",
    "xs = nom_embedding[:, 0]\n",
    "ys = nom_embedding[:, 1] \n",
    "\n",
    "ax.scatter(xs, ys, c=[sns.color_palette()[int(x)] for x in df_noNaN[\"Already_used_DSS\"]])\n",
    "\n",
    "for i, val in enumerate(df_noNaN.index):\n",
    "#for i, val in enumerate(df_noNaN['Income_Cat'].values.tolist()):\n",
    "    ax.annotate(str(int(val)), (xs[i], ys[i]), fontsize=9)\n",
    "plt.title('UMAP projection of nominal IPM farmers data')\n",
    "\n",
    "# naredi for loop da odstranjaš posamično atribute"
   ]
  },
  {
   "cell_type": "markdown",
   "metadata": {
    "id": "5xE9G0XHl2Nw"
   },
   "source": [
    "### Combine nominal and ordinal/numeric feature maps"
   ]
  },
  {
   "cell_type": "code",
   "execution_count": 210,
   "metadata": {
    "id": "NvMmOL7Sl2Nw"
   },
   "outputs": [],
   "source": [
    "# combine mappings\n",
    "intersection_embedding = nom_embedding * ord_embedding\n",
    "union_embedding = nom_embedding + ord_embedding"
   ]
  },
  {
   "cell_type": "code",
   "execution_count": 211,
   "metadata": {
    "colab": {
     "base_uri": "https://localhost:8080/",
     "height": 464
    },
    "id": "cv-qnMwYl2Nx",
    "outputId": "37d1eab3-ebaf-4179-ebc4-064154ed181f"
   },
   "outputs": [
    {
     "data": {
      "text/plain": [
       "Text(0.5, 1.0, 'UMAP projection of IPM farmers intersection data')"
      ]
     },
     "execution_count": 211,
     "metadata": {},
     "output_type": "execute_result"
    },
    {
     "data": {
      "image/png": "[encoded data removed]",
      "text/plain": [
       "<Figure size 504x504 with 1 Axes>"
      ]
     },
     "metadata": {},
     "output_type": "display_data"
    }
   ],
   "source": [
    "# plot intersection 2D embedding\n",
    "fig, ax = plt.subplots(figsize=(7,7))\n",
    "xs = intersection_embedding[:, 0]\n",
    "ys = intersection_embedding[:, 1] \n",
    "\n",
    "ax.scatter(xs, ys, c=[sns.color_palette()[int(x)] for x in df_noNaN['Already_used_DSS']])\n",
    "\n",
    "for i, val in enumerate(df_noNaN.index):\n",
    "#for i, val in enumerate(df_noNaN['Income_Cat'].values.tolist()):\n",
    "    ax.annotate(str(int(val)), (xs[i], ys[i]), fontsize=9)\n",
    "plt.title('UMAP projection of IPM farmers intersection data')"
   ]
  },
  {
   "cell_type": "code",
   "execution_count": 212,
   "metadata": {
    "colab": {
     "base_uri": "https://localhost:8080/",
     "height": 980
    },
    "id": "-5FJameXl2Nw",
    "outputId": "9c842f9d-132f-4656-9db3-d7fe263170f0"
   },
   "outputs": [
    {
     "data": {
      "text/plain": [
       "Text(0.5, 1.0, 'UMAP projection of IPM farmers union data')"
      ]
     },
     "execution_count": 212,
     "metadata": {},
     "output_type": "execute_result"
    },
    {
     "data": {
      "image/png": "[encoded data removed]",
      "text/plain": [
       "<Figure size 504x504 with 1 Axes>"
      ]
     },
     "metadata": {},
     "output_type": "display_data"
    }
   ],
   "source": [
    "# plot union 2D embedding\n",
    "fig, ax = plt.subplots(figsize=(7,7))\n",
    "xs = union_embedding[:, 0]\n",
    "ys = union_embedding[:, 1] \n",
    "\n",
    "ax.scatter(xs, ys, c=[sns.color_palette()[int(x)] for x in df_noNaN['Already_used_DSS']])\n",
    "\n",
    "for i, val in enumerate(df_noNaN.index):\n",
    "#for i, val in enumerate(df_noNaN['Income_Cat'].values.tolist()):\n",
    "    ax.annotate(str(int(val)), (xs[i], ys[i]), fontsize=9)\n",
    "plt.title('UMAP projection of IPM farmers union data')"
   ]
  },
  {
   "cell_type": "markdown",
   "metadata": {
    "id": "1coJnky8vgQC"
   },
   "source": [
    "# CLUSTERING"
   ]
  },
  {
   "cell_type": "markdown",
   "metadata": {
    "id": "1hDB6MaWSe8g"
   },
   "source": [
    "Probaj clustering brez dim reduction"
   ]
  },
  {
   "cell_type": "code",
   "execution_count": 213,
   "metadata": {
    "id": "RhuVUl9Dl2Nx"
   },
   "outputs": [
    {
     "data": {
      "text/plain": [
       "Text(0.5, 1.0, 'K-means clusters of UMAP projection of IPM farmers intersection data')"
      ]
     },
     "execution_count": 213,
     "metadata": {},
     "output_type": "execute_result"
    },
    {
     "data": {
      "image/png": "[encoded data removed]",
      "text/plain": [
       "<Figure size 504x504 with 1 Axes>"
      ]
     },
     "metadata": {},
     "output_type": "display_data"
    }
   ],
   "source": [
    "# k-means clustering 2D intersection emnbedding\n",
    "km_2D_inters_clusters = cluster.KMeans(n_clusters=2).fit_predict(intersection_embedding)\n",
    "\n",
    "# plot\n",
    "fig, ax = plt.subplots(figsize=(7,7))\n",
    "ax.scatter(intersection_embedding[:, 0], intersection_embedding[:, 1], c=km_2D_inters_clusters, s=30, cmap='cool')\n",
    "\n",
    "# Add cluster text\n",
    "for i, val in enumerate(km_2D_inters_clusters.tolist()):\n",
    "    ax.annotate(str(int(val)), (intersection_embedding[:, 0][i], intersection_embedding[:, 1][i]), fontsize=10)\n",
    "plt.title('K-means clusters of UMAP projection of IPM farmers intersection data')"
   ]
  },
  {
   "cell_type": "code",
   "execution_count": 214,
   "metadata": {
    "id": "JyUk7XEpl2Nx"
   },
   "outputs": [
    {
     "name": "stderr",
     "output_type": "stream",
     "text": [
      "*c* argument looks like a single numeric RGB or RGBA sequence, which should be avoided as value-mapping will have precedence in case its length matches with *x* & *y*.  Please use the *color* keyword-argument or provide a 2D array with a single row if you intend to specify the same RGB or RGBA value for all points.\n"
     ]
    },
    {
     "data": {
      "text/plain": [
       "Text(0.5, 1.0, 'HDBscan clusters of UMAP projection of IPM farmers intersection data')"
      ]
     },
     "execution_count": 214,
     "metadata": {},
     "output_type": "execute_result"
    },
    {
     "data": {
      "image/png": "[encoded data removed]",
      "text/plain": [
       "<Figure size 504x504 with 1 Axes>"
      ]
     },
     "metadata": {},
     "output_type": "display_data"
    }
   ],
   "source": [
    "# hdbscan clustering 2D intersection emnbedding\n",
    "clusterer = hdbscan.HDBSCAN(min_cluster_size=6, min_samples=2)\n",
    "hdbscan_2D_inters_clusters = clusterer.fit_predict(intersection_embedding)\n",
    "\n",
    "fig, ax = plt.subplots(figsize=(7,7))\n",
    "\n",
    "clustered = (hdbscan_2D_inters_clusters >= 0)\n",
    "ax.scatter(intersection_embedding[~clustered, 0],\n",
    "            intersection_embedding[~clustered, 1],\n",
    "            c=(0.5, 0.5, 0.5),\n",
    "            s=50,\n",
    "            alpha=0.3)\n",
    "\n",
    "ax.scatter(intersection_embedding[clustered, 0],\n",
    "            intersection_embedding[clustered, 1],\n",
    "            c=hdbscan_2D_inters_clusters[clustered],\n",
    "            s=50,\n",
    "            cmap='cool')\n",
    "\n",
    "for i, val in enumerate(hdbscan_2D_inters_clusters):\n",
    "    ax.annotate(str(int(val)), (intersection_embedding[:, 0][i], intersection_embedding[:, 1][i]), fontsize=13)\n",
    "\n",
    "plt.title('HDBscan clusters of UMAP projection of IPM farmers intersection data')"
   ]
  },
  {
   "cell_type": "code",
   "execution_count": 215,
   "metadata": {
    "id": "zGU60byuva5K"
   },
   "outputs": [
    {
     "data": {
      "text/plain": [
       "Text(0.5, 1.0, 'K-means clusters of UMAP projection of IPM farmers union data')"
      ]
     },
     "execution_count": 215,
     "metadata": {},
     "output_type": "execute_result"
    },
    {
     "data": {
      "image/png": "[encoded data removed]",
      "text/plain": [
       "<Figure size 504x504 with 1 Axes>"
      ]
     },
     "metadata": {},
     "output_type": "display_data"
    }
   ],
   "source": [
    "# kmeans clustering 2D union emnbedding\n",
    "km_2D_union_clusters = cluster.KMeans(n_clusters=2).fit_predict(union_embedding)\n",
    "#kmeans_labels\n",
    "\n",
    "fig, ax = plt.subplots(figsize=(7,7))\n",
    "ax.scatter(union_embedding[:, 0], union_embedding[:, 1], c=km_2D_union_clusters, s=30, cmap='cool')\n",
    "\n",
    "# daj clustre (številke) gor v umap\n",
    "for i, val in enumerate(km_2D_union_clusters.tolist()):\n",
    "    ax.annotate(str(int(val)), (union_embedding[:, 0][i], union_embedding[:, 1][i]), fontsize=10)\n",
    "\n",
    "plt.title('K-means clusters of UMAP projection of IPM farmers union data')"
   ]
  },
  {
   "cell_type": "code",
   "execution_count": 216,
   "metadata": {
    "id": "aESi6aQdxYRH"
   },
   "outputs": [
    {
     "name": "stderr",
     "output_type": "stream",
     "text": [
      "*c* argument looks like a single numeric RGB or RGBA sequence, which should be avoided as value-mapping will have precedence in case its length matches with *x* & *y*.  Please use the *color* keyword-argument or provide a 2D array with a single row if you intend to specify the same RGB or RGBA value for all points.\n"
     ]
    },
    {
     "data": {
      "text/plain": [
       "Text(0.5, 1.0, 'HDBscan clusters of UMAP projection of IPM farmers union data')"
      ]
     },
     "execution_count": 216,
     "metadata": {},
     "output_type": "execute_result"
    },
    {
     "data": {
      "image/png": "[encoded data removed]",
      "text/plain": [
       "<Figure size 504x504 with 1 Axes>"
      ]
     },
     "metadata": {},
     "output_type": "display_data"
    }
   ],
   "source": [
    "# hdbscan clustering 2D union emnbedding\n",
    "clusterer = hdbscan.HDBSCAN(min_cluster_size=5, min_samples=4)\n",
    "hdbscan_2D_union_clusters = clusterer.fit_predict(union_embedding)\n",
    "\n",
    "fig, ax = plt.subplots(figsize=(7,7))\n",
    "\n",
    "clustered = (hdbscan_2D_union_clusters >= 0)\n",
    "ax.scatter(union_embedding[~clustered, 0],\n",
    "            union_embedding[~clustered, 1],\n",
    "            c=(0.5, 0.5, 0.5),\n",
    "            s=50,\n",
    "            alpha=0.3)\n",
    "\n",
    "ax.scatter(union_embedding[clustered, 0],\n",
    "            union_embedding[clustered, 1],\n",
    "            c=hdbscan_2D_union_clusters[clustered],\n",
    "            s=50,\n",
    "            cmap='cool')\n",
    "\n",
    "for i, val in enumerate(hdbscan_2D_union_clusters):\n",
    "    ax.annotate(str(int(val)), (union_embedding[:, 0][i], union_embedding[:, 1][i]), fontsize=13)\n",
    "\n",
    "plt.title('HDBscan clusters of UMAP projection of IPM farmers union data')"
   ]
  },
  {
   "cell_type": "code",
   "execution_count": 217,
   "metadata": {},
   "outputs": [
    {
     "data": {
      "text/plain": [
       "array([0, 0, 1, 0, 0, 1, 0, 0, 0, 0, 0, 0, 1, 0, 0, 0, 1, 1, 1, 1, 1, 1,\n",
       "       1, 1, 1, 1, 1, 0, 1, 1, 1, 1, 0, 0, 1, 1], dtype=int32)"
      ]
     },
     "execution_count": 217,
     "metadata": {},
     "output_type": "execute_result"
    }
   ],
   "source": [
    "km_2D_union_clusters"
   ]
  },
  {
   "cell_type": "code",
   "execution_count": null,
   "metadata": {},
   "outputs": [],
   "source": []
  },
  {
   "cell_type": "code",
   "execution_count": null,
   "metadata": {},
   "outputs": [],
   "source": []
  },
  {
   "cell_type": "markdown",
   "metadata": {
    "id": "xkt-aK6cl2Ny"
   },
   "source": [
    "## Interactive 3D Visualisation"
   ]
  },
  {
   "cell_type": "code",
   "execution_count": 218,
   "metadata": {
    "id": "v58bdpdel2Ny"
   },
   "outputs": [
    {
     "name": "stderr",
     "output_type": "stream",
     "text": [
      "/Users/mmarzi/.pyenv/versions/3.8.0/envs/graphs/lib/python3.8/site-packages/umap/umap_.py:1760: UserWarning:\n",
      "\n",
      "gradient function is not yet implemented for dice distance metric; inverse_transform will be unavailable\n",
      "\n"
     ]
    },
    {
     "name": "stdout",
     "output_type": "stream",
     "text": [
      "intersection_clusters : [0 0 1 0 0 0 0 0 0 0 0 0 1 1 0 0 1 1 0 1 1 0 1 0 0 1 1 0 1 1 1 1 0 0 0 1]\n",
      "union_clusters : [1 1 0 1 1 1 1 1 1 1 1 1 0 0 1 1 0 0 1 0 0 1 0 1 1 0 0 1 0 0 0 0 1 1 1 0]\n"
     ]
    }
   ],
   "source": [
    "# 3D embedding\n",
    "ord_reducer3d = umap.UMAP(n_neighbors=5, min_dist=0.1, n_components=3, metric=\"manhattan\", random_state=123)\n",
    "ord_embedding3d = ord_reducer3d.fit_transform(ordnum_df)\n",
    "\n",
    "nom_reducer3d = umap.UMAP(n_neighbors=5, min_dist=0.1, n_components=3, metric=\"dice\", random_state=123)\n",
    "nom_embedding3d = nom_reducer3d.fit_transform(nom_df)\n",
    "\n",
    "# combine mappings\n",
    "intersection_embedding3d = nom_embedding3d * ord_embedding3d\n",
    "union_embedding3d = nom_embedding3d + ord_embedding3d\n",
    "\n",
    "# hdbscan\n",
    "intersection_clusters = hdbscan.HDBSCAN(min_samples=10, min_cluster_size=10).fit_predict(intersection_embedding3d)\n",
    "union_clusters = hdbscan.HDBSCAN(min_samples=10, min_cluster_size=10).fit_predict(union_embedding3d)\n",
    "print(\"intersection_clusters :\", intersection_clusters)\n",
    "print(\"union_clusters :\", union_clusters)"
   ]
  },
  {
   "cell_type": "markdown",
   "metadata": {
    "id": "cAv_eErWl2Ny"
   },
   "source": [
    "### Plotly visualisation"
   ]
  },
  {
   "cell_type": "code",
   "execution_count": 219,
   "metadata": {
    "id": "a-6DtV_zl2Nz"
   },
   "outputs": [],
   "source": [
    "# 3D dataframes\n",
    "intersection3d_df = pd.DataFrame(data=intersection_embedding3d, columns=[\"x\", \"y\", \"z\"])\n",
    "intersection3d_df[\"clusters\"] = list(map(str, intersection_clusters))\n",
    "union3d_df = pd.DataFrame(data=union_embedding3d, columns=[\"x\", \"y\", \"z\"])\n",
    "union3d_df[\"clusters\"] = list(map(str, union_clusters))"
   ]
  },
  {
   "cell_type": "code",
   "execution_count": 220,
   "metadata": {
    "id": "45A5Qo3Ql2Nz"
   },
   "outputs": [
    {
     "data": {
      "application/vnd.plotly.v1+json": {
       "config": {
        "plotlyServerURL": "https://plot.ly"
       },
       "data": [
        {
         "hovertemplate": "clusters=0<br>x=%{x}<br>y=%{y}<br>z=%{z}<br>text=%{text}<extra></extra>",
         "legendgroup": "0",
         "marker": {
          "color": "#636efa",
          "opacity": 0.8,
          "symbol": "circle"
         },
         "mode": "markers+text",
         "name": "0",
         "scene": "scene",
         "showlegend": true,
         "text": [
          0,
          0,
          1,
          1,
          1,
          0,
          0,
          0,
          0,
          1,
          0,
          0,
          0,
          0,
          0,
          1,
          0,
          0,
          1,
          1,
          1
         ],
         "type": "scatter3d",
         "x": [
          23.233795166015625,
          24.615489959716797,
          126.9609146118164,
          102.6607894897461,
          124.89772033691406,
          30.20874786376953,
          27.37302589416504,
          31.1038761138916,
          23.21477699279785,
          126.66149139404297,
          34.61781692504883,
          26.94111442565918,
          27.354249954223633,
          35.68585205078125,
          31.938352584838867,
          123.1119613647461,
          42.298213958740234,
          36.15384292602539,
          100.92536163330078,
          104.50662231445312,
          105.60420227050781
         ],
         "y": [
          -16.807819366455078,
          -14.66161060333252,
          -38.28572463989258,
          -43.0152587890625,
          -40.07663345336914,
          -20.303028106689453,
          -19.779565811157227,
          -14.780234336853027,
          -16.869190216064453,
          -41.57862091064453,
          -18.91084861755371,
          -17.791820526123047,
          -19.66222381591797,
          -17.315027236938477,
          -14.998412132263184,
          -35.86082077026367,
          -14.324896812438965,
          -18.887210845947266,
          -41.73472213745117,
          -30.62680435180664,
          -22.340492248535156
         ],
         "z": [
          -3.355445146560669,
          -1.787438988685608,
          -2.758380889892578,
          -6.919126510620117,
          -11.098613739013672,
          -0.5402007102966309,
          -4.347928047180176,
          -1.1101315021514893,
          -1.3853362798690796,
          -6.652129173278809,
          -3.7196574211120605,
          -2.1222376823425293,
          -2.2509524822235107,
          -3.0981762409210205,
          -4.086854457855225,
          -6.674272537231445,
          -5.330040454864502,
          -4.471461772918701,
          -6.986688137054443,
          -4.329160690307617,
          -6.745808124542236
         ]
        },
        {
         "hovertemplate": "clusters=1<br>x=%{x}<br>y=%{y}<br>z=%{z}<br>text=%{text}<extra></extra>",
         "legendgroup": "1",
         "marker": {
          "color": "#EF553B",
          "opacity": 0.8,
          "symbol": "circle"
         },
         "mode": "markers+text",
         "name": "1",
         "scene": "scene",
         "showlegend": true,
         "text": [
          1,
          1,
          1,
          1,
          1,
          1,
          1,
          1,
          1,
          1,
          1,
          1,
          1,
          1,
          1
         ],
         "type": "scatter3d",
         "x": [
          154.02822875976562,
          163.49542236328125,
          171.67471313476562,
          189.34117126464844,
          184.17807006835938,
          156.0126495361328,
          168.78807067871094,
          141.49880981445312,
          179.60716247558594,
          182.32765197753906,
          177.50013732910156,
          175.35548400878906,
          174.6084747314453,
          167.4654541015625,
          166.1182403564453
         ],
         "y": [
          61.5948600769043,
          88.4603500366211,
          95.85991668701172,
          79.6326675415039,
          67.61974334716797,
          61.344478607177734,
          116.47081756591797,
          74.89923858642578,
          70.93677520751953,
          78.09140014648438,
          64.21533966064453,
          64.76132202148438,
          68.01554107666016,
          103.39824676513672,
          105.44999694824219
         ],
         "z": [
          -3.8847365379333496,
          -2.3069114685058594,
          -0.8522429466247559,
          -5.557238578796387,
          -5.698497295379639,
          -2.83042573928833,
          -5.20939826965332,
          -4.0194525718688965,
          -5.478157997131348,
          -2.9525680541992188,
          -9.94996452331543,
          -7.941380023956299,
          -9.388900756835938,
          -5.303265571594238,
          -8.382901191711426
         ]
        }
       ],
       "layout": {
        "autosize": true,
        "legend": {
         "title": {
          "text": "clusters"
         },
         "tracegroupgap": 0
        },
        "scene": {
         "aspectmode": "auto",
         "aspectratio": {
          "x": 1,
          "y": 1,
          "z": 1
         },
         "domain": {
          "x": [
           0,
           1
          ],
          "y": [
           0,
           1
          ]
         },
         "xaxis": {
          "title": {
           "text": "x"
          },
          "type": "linear"
         },
         "yaxis": {
          "title": {
           "text": "y"
          },
          "type": "linear"
         },
         "zaxis": {
          "title": {
           "text": "z"
          },
          "type": "linear"
         }
        },
        "template": {
         "data": {
          "bar": [
           {
            "error_x": {
             "color": "#2a3f5f"
            },
            "error_y": {
             "color": "#2a3f5f"
            },
            "marker": {
             "line": {
              "color": "#E5ECF6",
              "width": 0.5
             },
             "pattern": {
              "fillmode": "overlay",
              "size": 10,
              "solidity": 0.2
             }
            },
            "type": "bar"
           }
          ],
          "barpolar": [
           {
            "marker": {
             "line": {
              "color": "#E5ECF6",
              "width": 0.5
             },
             "pattern": {
              "fillmode": "overlay",
              "size": 10,
              "solidity": 0.2
             }
            },
            "type": "barpolar"
           }
          ],
          "carpet": [
           {
            "aaxis": {
             "endlinecolor": "#2a3f5f",
             "gridcolor": "white",
             "linecolor": "white",
             "minorgridcolor": "white",
             "startlinecolor": "#2a3f5f"
            },
            "baxis": {
             "endlinecolor": "#2a3f5f",
             "gridcolor": "white",
             "linecolor": "white",
             "minorgridcolor": "white",
             "startlinecolor": "#2a3f5f"
            },
            "type": "carpet"
           }
          ],
          "choropleth": [
           {
            "colorbar": {
             "outlinewidth": 0,
             "ticks": ""
            },
            "type": "choropleth"
           }
          ],
          "contour": [
           {
            "colorbar": {
             "outlinewidth": 0,
             "ticks": ""
            },
            "colorscale": [
             [
              0,
              "#0d0887"
             ],
             [
              0.1111111111111111,
              "#46039f"
             ],
             [
              0.2222222222222222,
              "#7201a8"
             ],
             [
              0.3333333333333333,
              "#9c179e"
             ],
             [
              0.4444444444444444,
              "#bd3786"
             ],
             [
              0.5555555555555556,
              "#d8576b"
             ],
             [
              0.6666666666666666,
              "#ed7953"
             ],
             [
              0.7777777777777778,
              "#fb9f3a"
             ],
             [
              0.8888888888888888,
              "#fdca26"
             ],
             [
              1,
              "#f0f921"
             ]
            ],
            "type": "contour"
           }
          ],
          "contourcarpet": [
           {
            "colorbar": {
             "outlinewidth": 0,
             "ticks": ""
            },
            "type": "contourcarpet"
           }
          ],
          "heatmap": [
           {
            "colorbar": {
             "outlinewidth": 0,
             "ticks": ""
            },
            "colorscale": [
             [
              0,
              "#0d0887"
             ],
             [
              0.1111111111111111,
              "#46039f"
             ],
             [
              0.2222222222222222,
              "#7201a8"
             ],
             [
              0.3333333333333333,
              "#9c179e"
             ],
             [
              0.4444444444444444,
              "#bd3786"
             ],
             [
              0.5555555555555556,
              "#d8576b"
             ],
             [
              0.6666666666666666,
              "#ed7953"
             ],
             [
              0.7777777777777778,
              "#fb9f3a"
             ],
             [
              0.8888888888888888,
              "#fdca26"
             ],
             [
              1,
              "#f0f921"
             ]
            ],
            "type": "heatmap"
           }
          ],
          "heatmapgl": [
           {
            "colorbar": {
             "outlinewidth": 0,
             "ticks": ""
            },
            "colorscale": [
             [
              0,
              "#0d0887"
             ],
             [
              0.1111111111111111,
              "#46039f"
             ],
             [
              0.2222222222222222,
              "#7201a8"
             ],
             [
              0.3333333333333333,
              "#9c179e"
             ],
             [
              0.4444444444444444,
              "#bd3786"
             ],
             [
              0.5555555555555556,
              "#d8576b"
             ],
             [
              0.6666666666666666,
              "#ed7953"
             ],
             [
              0.7777777777777778,
              "#fb9f3a"
             ],
             [
              0.8888888888888888,
              "#fdca26"
             ],
             [
              1,
              "#f0f921"
             ]
            ],
            "type": "heatmapgl"
           }
          ],
          "histogram": [
           {
            "marker": {
             "pattern": {
              "fillmode": "overlay",
              "size": 10,
              "solidity": 0.2
             }
            },
            "type": "histogram"
           }
          ],
          "histogram2d": [
           {
            "colorbar": {
             "outlinewidth": 0,
             "ticks": ""
            },
            "colorscale": [
             [
              0,
              "#0d0887"
             ],
             [
              0.1111111111111111,
              "#46039f"
             ],
             [
              0.2222222222222222,
              "#7201a8"
             ],
             [
              0.3333333333333333,
              "#9c179e"
             ],
             [
              0.4444444444444444,
              "#bd3786"
             ],
             [
              0.5555555555555556,
              "#d8576b"
             ],
             [
              0.6666666666666666,
              "#ed7953"
             ],
             [
              0.7777777777777778,
              "#fb9f3a"
             ],
             [
              0.8888888888888888,
              "#fdca26"
             ],
             [
              1,
              "#f0f921"
             ]
            ],
            "type": "histogram2d"
           }
          ],
          "histogram2dcontour": [
           {
            "colorbar": {
             "outlinewidth": 0,
             "ticks": ""
            },
            "colorscale": [
             [
              0,
              "#0d0887"
             ],
             [
              0.1111111111111111,
              "#46039f"
             ],
             [
              0.2222222222222222,
              "#7201a8"
             ],
             [
              0.3333333333333333,
              "#9c179e"
             ],
             [
              0.4444444444444444,
              "#bd3786"
             ],
             [
              0.5555555555555556,
              "#d8576b"
             ],
             [
              0.6666666666666666,
              "#ed7953"
             ],
             [
              0.7777777777777778,
              "#fb9f3a"
             ],
             [
              0.8888888888888888,
              "#fdca26"
             ],
             [
              1,
              "#f0f921"
             ]
            ],
            "type": "histogram2dcontour"
           }
          ],
          "mesh3d": [
           {
            "colorbar": {
             "outlinewidth": 0,
             "ticks": ""
            },
            "type": "mesh3d"
           }
          ],
          "parcoords": [
           {
            "line": {
             "colorbar": {
              "outlinewidth": 0,
              "ticks": ""
             }
            },
            "type": "parcoords"
           }
          ],
          "pie": [
           {
            "automargin": true,
            "type": "pie"
           }
          ],
          "scatter": [
           {
            "marker": {
             "colorbar": {
              "outlinewidth": 0,
              "ticks": ""
             }
            },
            "type": "scatter"
           }
          ],
          "scatter3d": [
           {
            "line": {
             "colorbar": {
              "outlinewidth": 0,
              "ticks": ""
             }
            },
            "marker": {
             "colorbar": {
              "outlinewidth": 0,
              "ticks": ""
             }
            },
            "type": "scatter3d"
           }
          ],
          "scattercarpet": [
           {
            "marker": {
             "colorbar": {
              "outlinewidth": 0,
              "ticks": ""
             }
            },
            "type": "scattercarpet"
           }
          ],
          "scattergeo": [
           {
            "marker": {
             "colorbar": {
              "outlinewidth": 0,
              "ticks": ""
             }
            },
            "type": "scattergeo"
           }
          ],
          "scattergl": [
           {
            "marker": {
             "colorbar": {
              "outlinewidth": 0,
              "ticks": ""
             }
            },
            "type": "scattergl"
           }
          ],
          "scattermapbox": [
           {
            "marker": {
             "colorbar": {
              "outlinewidth": 0,
              "ticks": ""
             }
            },
            "type": "scattermapbox"
           }
          ],
          "scatterpolar": [
           {
            "marker": {
             "colorbar": {
              "outlinewidth": 0,
              "ticks": ""
             }
            },
            "type": "scatterpolar"
           }
          ],
          "scatterpolargl": [
           {
            "marker": {
             "colorbar": {
              "outlinewidth": 0,
              "ticks": ""
             }
            },
            "type": "scatterpolargl"
           }
          ],
          "scatterternary": [
           {
            "marker": {
             "colorbar": {
              "outlinewidth": 0,
              "ticks": ""
             }
            },
            "type": "scatterternary"
           }
          ],
          "surface": [
           {
            "colorbar": {
             "outlinewidth": 0,
             "ticks": ""
            },
            "colorscale": [
             [
              0,
              "#0d0887"
             ],
             [
              0.1111111111111111,
              "#46039f"
             ],
             [
              0.2222222222222222,
              "#7201a8"
             ],
             [
              0.3333333333333333,
              "#9c179e"
             ],
             [
              0.4444444444444444,
              "#bd3786"
             ],
             [
              0.5555555555555556,
              "#d8576b"
             ],
             [
              0.6666666666666666,
              "#ed7953"
             ],
             [
              0.7777777777777778,
              "#fb9f3a"
             ],
             [
              0.8888888888888888,
              "#fdca26"
             ],
             [
              1,
              "#f0f921"
             ]
            ],
            "type": "surface"
           }
          ],
          "table": [
           {
            "cells": {
             "fill": {
              "color": "#EBF0F8"
             },
             "line": {
              "color": "white"
             }
            },
            "header": {
             "fill": {
              "color": "#C8D4E3"
             },
             "line": {
              "color": "white"
             }
            },
            "type": "table"
           }
          ]
         },
         "layout": {
          "annotationdefaults": {
           "arrowcolor": "#2a3f5f",
           "arrowhead": 0,
           "arrowwidth": 1
          },
          "autotypenumbers": "strict",
          "coloraxis": {
           "colorbar": {
            "outlinewidth": 0,
            "ticks": ""
           }
          },
          "colorscale": {
           "diverging": [
            [
             0,
             "#8e0152"
            ],
            [
             0.1,
             "#c51b7d"
            ],
            [
             0.2,
             "#de77ae"
            ],
            [
             0.3,
             "#f1b6da"
            ],
            [
             0.4,
             "#fde0ef"
            ],
            [
             0.5,
             "#f7f7f7"
            ],
            [
             0.6,
             "#e6f5d0"
            ],
            [
             0.7,
             "#b8e186"
            ],
            [
             0.8,
             "#7fbc41"
            ],
            [
             0.9,
             "#4d9221"
            ],
            [
             1,
             "#276419"
            ]
           ],
           "sequential": [
            [
             0,
             "#0d0887"
            ],
            [
             0.1111111111111111,
             "#46039f"
            ],
            [
             0.2222222222222222,
             "#7201a8"
            ],
            [
             0.3333333333333333,
             "#9c179e"
            ],
            [
             0.4444444444444444,
             "#bd3786"
            ],
            [
             0.5555555555555556,
             "#d8576b"
            ],
            [
             0.6666666666666666,
             "#ed7953"
            ],
            [
             0.7777777777777778,
             "#fb9f3a"
            ],
            [
             0.8888888888888888,
             "#fdca26"
            ],
            [
             1,
             "#f0f921"
            ]
           ],
           "sequentialminus": [
            [
             0,
             "#0d0887"
            ],
            [
             0.1111111111111111,
             "#46039f"
            ],
            [
             0.2222222222222222,
             "#7201a8"
            ],
            [
             0.3333333333333333,
             "#9c179e"
            ],
            [
             0.4444444444444444,
             "#bd3786"
            ],
            [
             0.5555555555555556,
             "#d8576b"
            ],
            [
             0.6666666666666666,
             "#ed7953"
            ],
            [
             0.7777777777777778,
             "#fb9f3a"
            ],
            [
             0.8888888888888888,
             "#fdca26"
            ],
            [
             1,
             "#f0f921"
            ]
           ]
          },
          "colorway": [
           "#636efa",
           "#EF553B",
           "#00cc96",
           "#ab63fa",
           "#FFA15A",
           "#19d3f3",
           "#FF6692",
           "#B6E880",
           "#FF97FF",
           "#FECB52"
          ],
          "font": {
           "color": "#2a3f5f"
          },
          "geo": {
           "bgcolor": "white",
           "lakecolor": "white",
           "landcolor": "#E5ECF6",
           "showlakes": true,
           "showland": true,
           "subunitcolor": "white"
          },
          "hoverlabel": {
           "align": "left"
          },
          "hovermode": "closest",
          "mapbox": {
           "style": "light"
          },
          "paper_bgcolor": "white",
          "plot_bgcolor": "#E5ECF6",
          "polar": {
           "angularaxis": {
            "gridcolor": "white",
            "linecolor": "white",
            "ticks": ""
           },
           "bgcolor": "#E5ECF6",
           "radialaxis": {
            "gridcolor": "white",
            "linecolor": "white",
            "ticks": ""
           }
          },
          "scene": {
           "xaxis": {
            "backgroundcolor": "#E5ECF6",
            "gridcolor": "white",
            "gridwidth": 2,
            "linecolor": "white",
            "showbackground": true,
            "ticks": "",
            "zerolinecolor": "white"
           },
           "yaxis": {
            "backgroundcolor": "#E5ECF6",
            "gridcolor": "white",
            "gridwidth": 2,
            "linecolor": "white",
            "showbackground": true,
            "ticks": "",
            "zerolinecolor": "white"
           },
           "zaxis": {
            "backgroundcolor": "#E5ECF6",
            "gridcolor": "white",
            "gridwidth": 2,
            "linecolor": "white",
            "showbackground": true,
            "ticks": "",
            "zerolinecolor": "white"
           }
          },
          "shapedefaults": {
           "line": {
            "color": "#2a3f5f"
           }
          },
          "ternary": {
           "aaxis": {
            "gridcolor": "white",
            "linecolor": "white",
            "ticks": ""
           },
           "baxis": {
            "gridcolor": "white",
            "linecolor": "white",
            "ticks": ""
           },
           "bgcolor": "#E5ECF6",
           "caxis": {
            "gridcolor": "white",
            "linecolor": "white",
            "ticks": ""
           }
          },
          "title": {
           "x": 0.05
          },
          "xaxis": {
           "automargin": true,
           "gridcolor": "white",
           "linecolor": "white",
           "ticks": "",
           "title": {
            "standoff": 15
           },
           "zerolinecolor": "white",
           "zerolinewidth": 2
          },
          "yaxis": {
           "automargin": true,
           "gridcolor": "white",
           "linecolor": "white",
           "ticks": "",
           "title": {
            "standoff": 15
           },
           "zerolinecolor": "white",
           "zerolinewidth": 2
          }
         }
        },
        "title": {
         "text": "Intersection 3D embedding of farmers IPM data"
        }
       }
      },
      "image/png": "[encoded data removed]",
      "text/html": [
       "<div>                            <div id=\"16470d8a-f20a-45ea-b51f-63d20611a1d4\" class=\"plotly-graph-div\" style=\"height:525px; width:100%;\"></div>            <script type=\"text/javascript\">                require([\"plotly\"], function(Plotly) {                    window.PLOTLYENV=window.PLOTLYENV || {};                                    if (document.getElementById(\"16470d8a-f20a-45ea-b51f-63d20611a1d4\")) {                    Plotly.newPlot(                        \"16470d8a-f20a-45ea-b51f-63d20611a1d4\",                        [{\"hovertemplate\":\"clusters=0<br>x=%{x}<br>y=%{y}<br>z=%{z}<br>text=%{text}<extra></extra>\",\"legendgroup\":\"0\",\"marker\":{\"color\":\"#636efa\",\"opacity\":0.8,\"symbol\":\"circle\"},\"mode\":\"markers+text\",\"name\":\"0\",\"scene\":\"scene\",\"showlegend\":true,\"text\":[0.0,0.0,1.0,1.0,1.0,0.0,0.0,0.0,0.0,1.0,0.0,0.0,0.0,0.0,0.0,1.0,0.0,0.0,1.0,1.0,1.0],\"type\":\"scatter3d\",\"x\":[23.233795166015625,24.615489959716797,126.9609146118164,102.6607894897461,124.89772033691406,30.20874786376953,27.37302589416504,31.1038761138916,23.21477699279785,126.66149139404297,34.61781692504883,26.94111442565918,27.354249954223633,35.68585205078125,31.938352584838867,123.1119613647461,42.298213958740234,36.15384292602539,100.92536163330078,104.50662231445312,105.60420227050781],\"y\":[-16.807819366455078,-14.66161060333252,-38.28572463989258,-43.0152587890625,-40.07663345336914,-20.303028106689453,-19.779565811157227,-14.780234336853027,-16.869190216064453,-41.57862091064453,-18.91084861755371,-17.791820526123047,-19.66222381591797,-17.315027236938477,-14.998412132263184,-35.86082077026367,-14.324896812438965,-18.887210845947266,-41.73472213745117,-30.62680435180664,-22.340492248535156],\"z\":[-3.355445146560669,-1.787438988685608,-2.758380889892578,-6.919126510620117,-11.098613739013672,-0.5402007102966309,-4.347928047180176,-1.1101315021514893,-1.3853362798690796,-6.652129173278809,-3.7196574211120605,-2.1222376823425293,-2.2509524822235107,-3.0981762409210205,-4.086854457855225,-6.674272537231445,-5.330040454864502,-4.471461772918701,-6.986688137054443,-4.329160690307617,-6.745808124542236]},{\"hovertemplate\":\"clusters=1<br>x=%{x}<br>y=%{y}<br>z=%{z}<br>text=%{text}<extra></extra>\",\"legendgroup\":\"1\",\"marker\":{\"color\":\"#EF553B\",\"opacity\":0.8,\"symbol\":\"circle\"},\"mode\":\"markers+text\",\"name\":\"1\",\"scene\":\"scene\",\"showlegend\":true,\"text\":[1.0,1.0,1.0,1.0,1.0,1.0,1.0,1.0,1.0,1.0,1.0,1.0,1.0,1.0,1.0],\"type\":\"scatter3d\",\"x\":[154.02822875976562,163.49542236328125,171.67471313476562,189.34117126464844,184.17807006835938,156.0126495361328,168.78807067871094,141.49880981445312,179.60716247558594,182.32765197753906,177.50013732910156,175.35548400878906,174.6084747314453,167.4654541015625,166.1182403564453],\"y\":[61.5948600769043,88.4603500366211,95.85991668701172,79.6326675415039,67.61974334716797,61.344478607177734,116.47081756591797,74.89923858642578,70.93677520751953,78.09140014648438,64.21533966064453,64.76132202148438,68.01554107666016,103.39824676513672,105.44999694824219],\"z\":[-3.8847365379333496,-2.3069114685058594,-0.8522429466247559,-5.557238578796387,-5.698497295379639,-2.83042573928833,-5.20939826965332,-4.0194525718688965,-5.478157997131348,-2.9525680541992188,-9.94996452331543,-7.941380023956299,-9.388900756835938,-5.303265571594238,-8.382901191711426]}],                        {\"legend\":{\"title\":{\"text\":\"clusters\"},\"tracegroupgap\":0},\"scene\":{\"domain\":{\"x\":[0.0,1.0],\"y\":[0.0,1.0]},\"xaxis\":{\"title\":{\"text\":\"x\"}},\"yaxis\":{\"title\":{\"text\":\"y\"}},\"zaxis\":{\"title\":{\"text\":\"z\"}}},\"template\":{\"data\":{\"bar\":[{\"error_x\":{\"color\":\"#2a3f5f\"},\"error_y\":{\"color\":\"#2a3f5f\"},\"marker\":{\"line\":{\"color\":\"#E5ECF6\",\"width\":0.5},\"pattern\":{\"fillmode\":\"overlay\",\"size\":10,\"solidity\":0.2}},\"type\":\"bar\"}],\"barpolar\":[{\"marker\":{\"line\":{\"color\":\"#E5ECF6\",\"width\":0.5},\"pattern\":{\"fillmode\":\"overlay\",\"size\":10,\"solidity\":0.2}},\"type\":\"barpolar\"}],\"carpet\":[{\"aaxis\":{\"endlinecolor\":\"#2a3f5f\",\"gridcolor\":\"white\",\"linecolor\":\"white\",\"minorgridcolor\":\"white\",\"startlinecolor\":\"#2a3f5f\"},\"baxis\":{\"endlinecolor\":\"#2a3f5f\",\"gridcolor\":\"white\",\"linecolor\":\"white\",\"minorgridcolor\":\"white\",\"startlinecolor\":\"#2a3f5f\"},\"type\":\"carpet\"}],\"choropleth\":[{\"colorbar\":{\"outlinewidth\":0,\"ticks\":\"\"},\"type\":\"choropleth\"}],\"contour\":[{\"colorbar\":{\"outlinewidth\":0,\"ticks\":\"\"},\"colorscale\":[[0.0,\"#0d0887\"],[0.1111111111111111,\"#46039f\"],[0.2222222222222222,\"#7201a8\"],[0.3333333333333333,\"#9c179e\"],[0.4444444444444444,\"#bd3786\"],[0.5555555555555556,\"#d8576b\"],[0.6666666666666666,\"#ed7953\"],[0.7777777777777778,\"#fb9f3a\"],[0.8888888888888888,\"#fdca26\"],[1.0,\"#f0f921\"]],\"type\":\"contour\"}],\"contourcarpet\":[{\"colorbar\":{\"outlinewidth\":0,\"ticks\":\"\"},\"type\":\"contourcarpet\"}],\"heatmap\":[{\"colorbar\":{\"outlinewidth\":0,\"ticks\":\"\"},\"colorscale\":[[0.0,\"#0d0887\"],[0.1111111111111111,\"#46039f\"],[0.2222222222222222,\"#7201a8\"],[0.3333333333333333,\"#9c179e\"],[0.4444444444444444,\"#bd3786\"],[0.5555555555555556,\"#d8576b\"],[0.6666666666666666,\"#ed7953\"],[0.7777777777777778,\"#fb9f3a\"],[0.8888888888888888,\"#fdca26\"],[1.0,\"#f0f921\"]],\"type\":\"heatmap\"}],\"heatmapgl\":[{\"colorbar\":{\"outlinewidth\":0,\"ticks\":\"\"},\"colorscale\":[[0.0,\"#0d0887\"],[0.1111111111111111,\"#46039f\"],[0.2222222222222222,\"#7201a8\"],[0.3333333333333333,\"#9c179e\"],[0.4444444444444444,\"#bd3786\"],[0.5555555555555556,\"#d8576b\"],[0.6666666666666666,\"#ed7953\"],[0.7777777777777778,\"#fb9f3a\"],[0.8888888888888888,\"#fdca26\"],[1.0,\"#f0f921\"]],\"type\":\"heatmapgl\"}],\"histogram\":[{\"marker\":{\"pattern\":{\"fillmode\":\"overlay\",\"size\":10,\"solidity\":0.2}},\"type\":\"histogram\"}],\"histogram2d\":[{\"colorbar\":{\"outlinewidth\":0,\"ticks\":\"\"},\"colorscale\":[[0.0,\"#0d0887\"],[0.1111111111111111,\"#46039f\"],[0.2222222222222222,\"#7201a8\"],[0.3333333333333333,\"#9c179e\"],[0.4444444444444444,\"#bd3786\"],[0.5555555555555556,\"#d8576b\"],[0.6666666666666666,\"#ed7953\"],[0.7777777777777778,\"#fb9f3a\"],[0.8888888888888888,\"#fdca26\"],[1.0,\"#f0f921\"]],\"type\":\"histogram2d\"}],\"histogram2dcontour\":[{\"colorbar\":{\"outlinewidth\":0,\"ticks\":\"\"},\"colorscale\":[[0.0,\"#0d0887\"],[0.1111111111111111,\"#46039f\"],[0.2222222222222222,\"#7201a8\"],[0.3333333333333333,\"#9c179e\"],[0.4444444444444444,\"#bd3786\"],[0.5555555555555556,\"#d8576b\"],[0.6666666666666666,\"#ed7953\"],[0.7777777777777778,\"#fb9f3a\"],[0.8888888888888888,\"#fdca26\"],[1.0,\"#f0f921\"]],\"type\":\"histogram2dcontour\"}],\"mesh3d\":[{\"colorbar\":{\"outlinewidth\":0,\"ticks\":\"\"},\"type\":\"mesh3d\"}],\"parcoords\":[{\"line\":{\"colorbar\":{\"outlinewidth\":0,\"ticks\":\"\"}},\"type\":\"parcoords\"}],\"pie\":[{\"automargin\":true,\"type\":\"pie\"}],\"scatter\":[{\"marker\":{\"colorbar\":{\"outlinewidth\":0,\"ticks\":\"\"}},\"type\":\"scatter\"}],\"scatter3d\":[{\"line\":{\"colorbar\":{\"outlinewidth\":0,\"ticks\":\"\"}},\"marker\":{\"colorbar\":{\"outlinewidth\":0,\"ticks\":\"\"}},\"type\":\"scatter3d\"}],\"scattercarpet\":[{\"marker\":{\"colorbar\":{\"outlinewidth\":0,\"ticks\":\"\"}},\"type\":\"scattercarpet\"}],\"scattergeo\":[{\"marker\":{\"colorbar\":{\"outlinewidth\":0,\"ticks\":\"\"}},\"type\":\"scattergeo\"}],\"scattergl\":[{\"marker\":{\"colorbar\":{\"outlinewidth\":0,\"ticks\":\"\"}},\"type\":\"scattergl\"}],\"scattermapbox\":[{\"marker\":{\"colorbar\":{\"outlinewidth\":0,\"ticks\":\"\"}},\"type\":\"scattermapbox\"}],\"scatterpolar\":[{\"marker\":{\"colorbar\":{\"outlinewidth\":0,\"ticks\":\"\"}},\"type\":\"scatterpolar\"}],\"scatterpolargl\":[{\"marker\":{\"colorbar\":{\"outlinewidth\":0,\"ticks\":\"\"}},\"type\":\"scatterpolargl\"}],\"scatterternary\":[{\"marker\":{\"colorbar\":{\"outlinewidth\":0,\"ticks\":\"\"}},\"type\":\"scatterternary\"}],\"surface\":[{\"colorbar\":{\"outlinewidth\":0,\"ticks\":\"\"},\"colorscale\":[[0.0,\"#0d0887\"],[0.1111111111111111,\"#46039f\"],[0.2222222222222222,\"#7201a8\"],[0.3333333333333333,\"#9c179e\"],[0.4444444444444444,\"#bd3786\"],[0.5555555555555556,\"#d8576b\"],[0.6666666666666666,\"#ed7953\"],[0.7777777777777778,\"#fb9f3a\"],[0.8888888888888888,\"#fdca26\"],[1.0,\"#f0f921\"]],\"type\":\"surface\"}],\"table\":[{\"cells\":{\"fill\":{\"color\":\"#EBF0F8\"},\"line\":{\"color\":\"white\"}},\"header\":{\"fill\":{\"color\":\"#C8D4E3\"},\"line\":{\"color\":\"white\"}},\"type\":\"table\"}]},\"layout\":{\"annotationdefaults\":{\"arrowcolor\":\"#2a3f5f\",\"arrowhead\":0,\"arrowwidth\":1},\"autotypenumbers\":\"strict\",\"coloraxis\":{\"colorbar\":{\"outlinewidth\":0,\"ticks\":\"\"}},\"colorscale\":{\"diverging\":[[0,\"#8e0152\"],[0.1,\"#c51b7d\"],[0.2,\"#de77ae\"],[0.3,\"#f1b6da\"],[0.4,\"#fde0ef\"],[0.5,\"#f7f7f7\"],[0.6,\"#e6f5d0\"],[0.7,\"#b8e186\"],[0.8,\"#7fbc41\"],[0.9,\"#4d9221\"],[1,\"#276419\"]],\"sequential\":[[0.0,\"#0d0887\"],[0.1111111111111111,\"#46039f\"],[0.2222222222222222,\"#7201a8\"],[0.3333333333333333,\"#9c179e\"],[0.4444444444444444,\"#bd3786\"],[0.5555555555555556,\"#d8576b\"],[0.6666666666666666,\"#ed7953\"],[0.7777777777777778,\"#fb9f3a\"],[0.8888888888888888,\"#fdca26\"],[1.0,\"#f0f921\"]],\"sequentialminus\":[[0.0,\"#0d0887\"],[0.1111111111111111,\"#46039f\"],[0.2222222222222222,\"#7201a8\"],[0.3333333333333333,\"#9c179e\"],[0.4444444444444444,\"#bd3786\"],[0.5555555555555556,\"#d8576b\"],[0.6666666666666666,\"#ed7953\"],[0.7777777777777778,\"#fb9f3a\"],[0.8888888888888888,\"#fdca26\"],[1.0,\"#f0f921\"]]},\"colorway\":[\"#636efa\",\"#EF553B\",\"#00cc96\",\"#ab63fa\",\"#FFA15A\",\"#19d3f3\",\"#FF6692\",\"#B6E880\",\"#FF97FF\",\"#FECB52\"],\"font\":{\"color\":\"#2a3f5f\"},\"geo\":{\"bgcolor\":\"white\",\"lakecolor\":\"white\",\"landcolor\":\"#E5ECF6\",\"showlakes\":true,\"showland\":true,\"subunitcolor\":\"white\"},\"hoverlabel\":{\"align\":\"left\"},\"hovermode\":\"closest\",\"mapbox\":{\"style\":\"light\"},\"paper_bgcolor\":\"white\",\"plot_bgcolor\":\"#E5ECF6\",\"polar\":{\"angularaxis\":{\"gridcolor\":\"white\",\"linecolor\":\"white\",\"ticks\":\"\"},\"bgcolor\":\"#E5ECF6\",\"radialaxis\":{\"gridcolor\":\"white\",\"linecolor\":\"white\",\"ticks\":\"\"}},\"scene\":{\"xaxis\":{\"backgroundcolor\":\"#E5ECF6\",\"gridcolor\":\"white\",\"gridwidth\":2,\"linecolor\":\"white\",\"showbackground\":true,\"ticks\":\"\",\"zerolinecolor\":\"white\"},\"yaxis\":{\"backgroundcolor\":\"#E5ECF6\",\"gridcolor\":\"white\",\"gridwidth\":2,\"linecolor\":\"white\",\"showbackground\":true,\"ticks\":\"\",\"zerolinecolor\":\"white\"},\"zaxis\":{\"backgroundcolor\":\"#E5ECF6\",\"gridcolor\":\"white\",\"gridwidth\":2,\"linecolor\":\"white\",\"showbackground\":true,\"ticks\":\"\",\"zerolinecolor\":\"white\"}},\"shapedefaults\":{\"line\":{\"color\":\"#2a3f5f\"}},\"ternary\":{\"aaxis\":{\"gridcolor\":\"white\",\"linecolor\":\"white\",\"ticks\":\"\"},\"baxis\":{\"gridcolor\":\"white\",\"linecolor\":\"white\",\"ticks\":\"\"},\"bgcolor\":\"#E5ECF6\",\"caxis\":{\"gridcolor\":\"white\",\"linecolor\":\"white\",\"ticks\":\"\"}},\"title\":{\"x\":0.05},\"xaxis\":{\"automargin\":true,\"gridcolor\":\"white\",\"linecolor\":\"white\",\"ticks\":\"\",\"title\":{\"standoff\":15},\"zerolinecolor\":\"white\",\"zerolinewidth\":2},\"yaxis\":{\"automargin\":true,\"gridcolor\":\"white\",\"linecolor\":\"white\",\"ticks\":\"\",\"title\":{\"standoff\":15},\"zerolinecolor\":\"white\",\"zerolinewidth\":2}}},\"title\":{\"text\":\"Intersection 3D embedding of farmers IPM data\"}},                        {\"responsive\": true}                    ).then(function(){\n",
       "                            \n",
       "var gd = document.getElementById('16470d8a-f20a-45ea-b51f-63d20611a1d4');\n",
       "var x = new MutationObserver(function (mutations, observer) {{\n",
       "        var display = window.getComputedStyle(gd).display;\n",
       "        if (!display || display === 'none') {{\n",
       "            console.log([gd, 'removed!']);\n",
       "            Plotly.purge(gd);\n",
       "            observer.disconnect();\n",
       "        }}\n",
       "}});\n",
       "\n",
       "// Listen for the removal of the full notebook cells\n",
       "var notebookContainer = gd.closest('#notebook-container');\n",
       "if (notebookContainer) {{\n",
       "    x.observe(notebookContainer, {childList: true});\n",
       "}}\n",
       "\n",
       "// Listen for the clearing of the current output cell\n",
       "var outputEl = gd.closest('.output');\n",
       "if (outputEl) {{\n",
       "    x.observe(outputEl, {childList: true});\n",
       "}}\n",
       "\n",
       "                        })                };                });            </script>        </div>"
      ]
     },
     "metadata": {},
     "output_type": "display_data"
    }
   ],
   "source": [
    "# Intersection embedding cluster visualisation \n",
    "fig = px.scatter_3d(intersection3d_df, \"x\",\"y\",\"z\", color=\"clusters\", text=df_noNaN[\"Already_used_DSS\"], opacity=0.8, \n",
    "                    title=\"Intersection 3D embedding of farmers IPM data\")\n",
    "fig.show()"
   ]
  },
  {
   "cell_type": "code",
   "execution_count": 221,
   "metadata": {
    "id": "MQ3UT6dB1Lp5"
   },
   "outputs": [],
   "source": [
    "fig.write_html(\"IPM_DataEmbedding_q1.html\")"
   ]
  },
  {
   "cell_type": "code",
   "execution_count": 222,
   "metadata": {
    "id": "r6OTdtXFl2Nz"
   },
   "outputs": [
    {
     "data": {
      "application/vnd.plotly.v1+json": {
       "config": {
        "plotlyServerURL": "https://plot.ly"
       },
       "data": [
        {
         "hovertemplate": "clusters=1<br>x=%{x}<br>y=%{y}<br>z=%{z}<br>text=%{text}<extra></extra>",
         "legendgroup": "1",
         "marker": {
          "color": "#636efa",
          "opacity": 0.5,
          "symbol": "circle"
         },
         "mode": "markers+text",
         "name": "1",
         "scene": "scene",
         "showlegend": true,
         "text": [
          0,
          0,
          1,
          1,
          1,
          0,
          0,
          0,
          0,
          1,
          0,
          0,
          0,
          0,
          0,
          1,
          0,
          0,
          1,
          1,
          1
         ],
         "type": "scatter3d",
         "x": [
          13.476128578186035,
          12.573824882507324,
          22.590518951416016,
          20.278564453125,
          22.382131576538086,
          14.677103042602539,
          15.212157249450684,
          13.690633773803711,
          12.101076126098633,
          22.522743225097656,
          15.330480575561523,
          12.121042251586914,
          12.314714431762695,
          15.768302917480469,
          15.683433532714844,
          22.2851505279541,
          16.049610137939453,
          14.460817337036133,
          20.092369079589844,
          20.44934844970703,
          20.573001861572266
         ],
         "y": [
          0.20528912544250488,
          -1.0537431240081787,
          -2.8906068801879883,
          -2.839780330657959,
          -1.987318992614746,
          0.22356891632080078,
          0.2303142547607422,
          -1.302666187286377,
          -0.9716353416442871,
          -2.6767191886901855,
          0.5877718925476074,
          1.2364418506622314,
          1.2806179523468018,
          0.1238560676574707,
          0.08539056777954102,
          -2.888309955596924,
          0.2744295597076416,
          1.8960545063018799,
          -2.363802909851074,
          -3.835266351699829,
          -4.612320423126221
         ],
         "z": [
          -0.06108558177947998,
          -1.652345061302185,
          -5.006683349609375,
          -4.576202869415283,
          -4.134711265563965,
          -1.2333080768585205,
          0.08656787872314453,
          -1.4626941680908203,
          -1.4349381923675537,
          -4.853853225708008,
          0.38531506061553955,
          -0.9660971164703369,
          -1.3557109832763672,
          -0.7710435390472412,
          -0.40983545780181885,
          -5.241927623748779,
          -1.0438138246536255,
          -0.5584028959274292,
          -4.482274055480957,
          -5.248194217681885,
          -5.416915416717529
         ]
        },
        {
         "hovertemplate": "clusters=0<br>x=%{x}<br>y=%{y}<br>z=%{z}<br>text=%{text}<extra></extra>",
         "legendgroup": "0",
         "marker": {
          "color": "#EF553B",
          "opacity": 0.5,
          "symbol": "circle"
         },
         "mode": "markers+text",
         "name": "0",
         "scene": "scene",
         "showlegend": true,
         "text": [
          1,
          1,
          1,
          1,
          1,
          1,
          1,
          1,
          1,
          1,
          1,
          1,
          1,
          1,
          1
         ],
         "type": "scatter3d",
         "x": [
          25.31065559387207,
          25.662172317504883,
          26.290512084960938,
          27.601947784423828,
          27.18897247314453,
          25.186779022216797,
          26.193248748779297,
          24.3049259185791,
          26.89482307434082,
          27.131736755371094,
          26.72191619873047,
          26.592098236083984,
          26.548782348632812,
          25.9979248046875,
          25.915504455566406
         ],
         "y": [
          24.32369041442871,
          25.83339500427246,
          26.434894561767578,
          25.131935119628906,
          24.59710121154785,
          23.703718185424805,
          27.183300018310547,
          25.53335189819336,
          25.316925048828125,
          24.99030303955078,
          24.470993041992188,
          24.75281524658203,
          24.28360939025879,
          26.237077713012695,
          26.341012954711914
         ],
         "z": [
          -2.7616682052612305,
          -3.5705597400665283,
          -3.378358840942383,
          -2.862887144088745,
          -1.5040897130966187,
          -2.8558719158172607,
          -1.678286075592041,
          -3.2637367248535156,
          -2.2122979164123535,
          -2.5446419715881348,
          -2.3142335414886475,
          -2.0418202877044678,
          -1.5163695812225342,
          -2.3244667053222656,
          -2.004946708679199
         ]
        }
       ],
       "layout": {
        "autosize": true,
        "legend": {
         "title": {
          "text": "clusters"
         },
         "tracegroupgap": 0
        },
        "scene": {
         "aspectmode": "auto",
         "aspectratio": {
          "x": 1,
          "y": 1,
          "z": 1
         },
         "domain": {
          "x": [
           0,
           1
          ],
          "y": [
           0,
           1
          ]
         },
         "xaxis": {
          "title": {
           "text": "x"
          },
          "type": "linear"
         },
         "yaxis": {
          "title": {
           "text": "y"
          },
          "type": "linear"
         },
         "zaxis": {
          "title": {
           "text": "z"
          },
          "type": "linear"
         }
        },
        "template": {
         "data": {
          "bar": [
           {
            "error_x": {
             "color": "#2a3f5f"
            },
            "error_y": {
             "color": "#2a3f5f"
            },
            "marker": {
             "line": {
              "color": "#E5ECF6",
              "width": 0.5
             },
             "pattern": {
              "fillmode": "overlay",
              "size": 10,
              "solidity": 0.2
             }
            },
            "type": "bar"
           }
          ],
          "barpolar": [
           {
            "marker": {
             "line": {
              "color": "#E5ECF6",
              "width": 0.5
             },
             "pattern": {
              "fillmode": "overlay",
              "size": 10,
              "solidity": 0.2
             }
            },
            "type": "barpolar"
           }
          ],
          "carpet": [
           {
            "aaxis": {
             "endlinecolor": "#2a3f5f",
             "gridcolor": "white",
             "linecolor": "white",
             "minorgridcolor": "white",
             "startlinecolor": "#2a3f5f"
            },
            "baxis": {
             "endlinecolor": "#2a3f5f",
             "gridcolor": "white",
             "linecolor": "white",
             "minorgridcolor": "white",
             "startlinecolor": "#2a3f5f"
            },
            "type": "carpet"
           }
          ],
          "choropleth": [
           {
            "colorbar": {
             "outlinewidth": 0,
             "ticks": ""
            },
            "type": "choropleth"
           }
          ],
          "contour": [
           {
            "colorbar": {
             "outlinewidth": 0,
             "ticks": ""
            },
            "colorscale": [
             [
              0,
              "#0d0887"
             ],
             [
              0.1111111111111111,
              "#46039f"
             ],
             [
              0.2222222222222222,
              "#7201a8"
             ],
             [
              0.3333333333333333,
              "#9c179e"
             ],
             [
              0.4444444444444444,
              "#bd3786"
             ],
             [
              0.5555555555555556,
              "#d8576b"
             ],
             [
              0.6666666666666666,
              "#ed7953"
             ],
             [
              0.7777777777777778,
              "#fb9f3a"
             ],
             [
              0.8888888888888888,
              "#fdca26"
             ],
             [
              1,
              "#f0f921"
             ]
            ],
            "type": "contour"
           }
          ],
          "contourcarpet": [
           {
            "colorbar": {
             "outlinewidth": 0,
             "ticks": ""
            },
            "type": "contourcarpet"
           }
          ],
          "heatmap": [
           {
            "colorbar": {
             "outlinewidth": 0,
             "ticks": ""
            },
            "colorscale": [
             [
              0,
              "#0d0887"
             ],
             [
              0.1111111111111111,
              "#46039f"
             ],
             [
              0.2222222222222222,
              "#7201a8"
             ],
             [
              0.3333333333333333,
              "#9c179e"
             ],
             [
              0.4444444444444444,
              "#bd3786"
             ],
             [
              0.5555555555555556,
              "#d8576b"
             ],
             [
              0.6666666666666666,
              "#ed7953"
             ],
             [
              0.7777777777777778,
              "#fb9f3a"
             ],
             [
              0.8888888888888888,
              "#fdca26"
             ],
             [
              1,
              "#f0f921"
             ]
            ],
            "type": "heatmap"
           }
          ],
          "heatmapgl": [
           {
            "colorbar": {
             "outlinewidth": 0,
             "ticks": ""
            },
            "colorscale": [
             [
              0,
              "#0d0887"
             ],
             [
              0.1111111111111111,
              "#46039f"
             ],
             [
              0.2222222222222222,
              "#7201a8"
             ],
             [
              0.3333333333333333,
              "#9c179e"
             ],
             [
              0.4444444444444444,
              "#bd3786"
             ],
             [
              0.5555555555555556,
              "#d8576b"
             ],
             [
              0.6666666666666666,
              "#ed7953"
             ],
             [
              0.7777777777777778,
              "#fb9f3a"
             ],
             [
              0.8888888888888888,
              "#fdca26"
             ],
             [
              1,
              "#f0f921"
             ]
            ],
            "type": "heatmapgl"
           }
          ],
          "histogram": [
           {
            "marker": {
             "pattern": {
              "fillmode": "overlay",
              "size": 10,
              "solidity": 0.2
             }
            },
            "type": "histogram"
           }
          ],
          "histogram2d": [
           {
            "colorbar": {
             "outlinewidth": 0,
             "ticks": ""
            },
            "colorscale": [
             [
              0,
              "#0d0887"
             ],
             [
              0.1111111111111111,
              "#46039f"
             ],
             [
              0.2222222222222222,
              "#7201a8"
             ],
             [
              0.3333333333333333,
              "#9c179e"
             ],
             [
              0.4444444444444444,
              "#bd3786"
             ],
             [
              0.5555555555555556,
              "#d8576b"
             ],
             [
              0.6666666666666666,
              "#ed7953"
             ],
             [
              0.7777777777777778,
              "#fb9f3a"
             ],
             [
              0.8888888888888888,
              "#fdca26"
             ],
             [
              1,
              "#f0f921"
             ]
            ],
            "type": "histogram2d"
           }
          ],
          "histogram2dcontour": [
           {
            "colorbar": {
             "outlinewidth": 0,
             "ticks": ""
            },
            "colorscale": [
             [
              0,
              "#0d0887"
             ],
             [
              0.1111111111111111,
              "#46039f"
             ],
             [
              0.2222222222222222,
              "#7201a8"
             ],
             [
              0.3333333333333333,
              "#9c179e"
             ],
             [
              0.4444444444444444,
              "#bd3786"
             ],
             [
              0.5555555555555556,
              "#d8576b"
             ],
             [
              0.6666666666666666,
              "#ed7953"
             ],
             [
              0.7777777777777778,
              "#fb9f3a"
             ],
             [
              0.8888888888888888,
              "#fdca26"
             ],
             [
              1,
              "#f0f921"
             ]
            ],
            "type": "histogram2dcontour"
           }
          ],
          "mesh3d": [
           {
            "colorbar": {
             "outlinewidth": 0,
             "ticks": ""
            },
            "type": "mesh3d"
           }
          ],
          "parcoords": [
           {
            "line": {
             "colorbar": {
              "outlinewidth": 0,
              "ticks": ""
             }
            },
            "type": "parcoords"
           }
          ],
          "pie": [
           {
            "automargin": true,
            "type": "pie"
           }
          ],
          "scatter": [
           {
            "marker": {
             "colorbar": {
              "outlinewidth": 0,
              "ticks": ""
             }
            },
            "type": "scatter"
           }
          ],
          "scatter3d": [
           {
            "line": {
             "colorbar": {
              "outlinewidth": 0,
              "ticks": ""
             }
            },
            "marker": {
             "colorbar": {
              "outlinewidth": 0,
              "ticks": ""
             }
            },
            "type": "scatter3d"
           }
          ],
          "scattercarpet": [
           {
            "marker": {
             "colorbar": {
              "outlinewidth": 0,
              "ticks": ""
             }
            },
            "type": "scattercarpet"
           }
          ],
          "scattergeo": [
           {
            "marker": {
             "colorbar": {
              "outlinewidth": 0,
              "ticks": ""
             }
            },
            "type": "scattergeo"
           }
          ],
          "scattergl": [
           {
            "marker": {
             "colorbar": {
              "outlinewidth": 0,
              "ticks": ""
             }
            },
            "type": "scattergl"
           }
          ],
          "scattermapbox": [
           {
            "marker": {
             "colorbar": {
              "outlinewidth": 0,
              "ticks": ""
             }
            },
            "type": "scattermapbox"
           }
          ],
          "scatterpolar": [
           {
            "marker": {
             "colorbar": {
              "outlinewidth": 0,
              "ticks": ""
             }
            },
            "type": "scatterpolar"
           }
          ],
          "scatterpolargl": [
           {
            "marker": {
             "colorbar": {
              "outlinewidth": 0,
              "ticks": ""
             }
            },
            "type": "scatterpolargl"
           }
          ],
          "scatterternary": [
           {
            "marker": {
             "colorbar": {
              "outlinewidth": 0,
              "ticks": ""
             }
            },
            "type": "scatterternary"
           }
          ],
          "surface": [
           {
            "colorbar": {
             "outlinewidth": 0,
             "ticks": ""
            },
            "colorscale": [
             [
              0,
              "#0d0887"
             ],
             [
              0.1111111111111111,
              "#46039f"
             ],
             [
              0.2222222222222222,
              "#7201a8"
             ],
             [
              0.3333333333333333,
              "#9c179e"
             ],
             [
              0.4444444444444444,
              "#bd3786"
             ],
             [
              0.5555555555555556,
              "#d8576b"
             ],
             [
              0.6666666666666666,
              "#ed7953"
             ],
             [
              0.7777777777777778,
              "#fb9f3a"
             ],
             [
              0.8888888888888888,
              "#fdca26"
             ],
             [
              1,
              "#f0f921"
             ]
            ],
            "type": "surface"
           }
          ],
          "table": [
           {
            "cells": {
             "fill": {
              "color": "#EBF0F8"
             },
             "line": {
              "color": "white"
             }
            },
            "header": {
             "fill": {
              "color": "#C8D4E3"
             },
             "line": {
              "color": "white"
             }
            },
            "type": "table"
           }
          ]
         },
         "layout": {
          "annotationdefaults": {
           "arrowcolor": "#2a3f5f",
           "arrowhead": 0,
           "arrowwidth": 1
          },
          "autotypenumbers": "strict",
          "coloraxis": {
           "colorbar": {
            "outlinewidth": 0,
            "ticks": ""
           }
          },
          "colorscale": {
           "diverging": [
            [
             0,
             "#8e0152"
            ],
            [
             0.1,
             "#c51b7d"
            ],
            [
             0.2,
             "#de77ae"
            ],
            [
             0.3,
             "#f1b6da"
            ],
            [
             0.4,
             "#fde0ef"
            ],
            [
             0.5,
             "#f7f7f7"
            ],
            [
             0.6,
             "#e6f5d0"
            ],
            [
             0.7,
             "#b8e186"
            ],
            [
             0.8,
             "#7fbc41"
            ],
            [
             0.9,
             "#4d9221"
            ],
            [
             1,
             "#276419"
            ]
           ],
           "sequential": [
            [
             0,
             "#0d0887"
            ],
            [
             0.1111111111111111,
             "#46039f"
            ],
            [
             0.2222222222222222,
             "#7201a8"
            ],
            [
             0.3333333333333333,
             "#9c179e"
            ],
            [
             0.4444444444444444,
             "#bd3786"
            ],
            [
             0.5555555555555556,
             "#d8576b"
            ],
            [
             0.6666666666666666,
             "#ed7953"
            ],
            [
             0.7777777777777778,
             "#fb9f3a"
            ],
            [
             0.8888888888888888,
             "#fdca26"
            ],
            [
             1,
             "#f0f921"
            ]
           ],
           "sequentialminus": [
            [
             0,
             "#0d0887"
            ],
            [
             0.1111111111111111,
             "#46039f"
            ],
            [
             0.2222222222222222,
             "#7201a8"
            ],
            [
             0.3333333333333333,
             "#9c179e"
            ],
            [
             0.4444444444444444,
             "#bd3786"
            ],
            [
             0.5555555555555556,
             "#d8576b"
            ],
            [
             0.6666666666666666,
             "#ed7953"
            ],
            [
             0.7777777777777778,
             "#fb9f3a"
            ],
            [
             0.8888888888888888,
             "#fdca26"
            ],
            [
             1,
             "#f0f921"
            ]
           ]
          },
          "colorway": [
           "#636efa",
           "#EF553B",
           "#00cc96",
           "#ab63fa",
           "#FFA15A",
           "#19d3f3",
           "#FF6692",
           "#B6E880",
           "#FF97FF",
           "#FECB52"
          ],
          "font": {
           "color": "#2a3f5f"
          },
          "geo": {
           "bgcolor": "white",
           "lakecolor": "white",
           "landcolor": "#E5ECF6",
           "showlakes": true,
           "showland": true,
           "subunitcolor": "white"
          },
          "hoverlabel": {
           "align": "left"
          },
          "hovermode": "closest",
          "mapbox": {
           "style": "light"
          },
          "paper_bgcolor": "white",
          "plot_bgcolor": "#E5ECF6",
          "polar": {
           "angularaxis": {
            "gridcolor": "white",
            "linecolor": "white",
            "ticks": ""
           },
           "bgcolor": "#E5ECF6",
           "radialaxis": {
            "gridcolor": "white",
            "linecolor": "white",
            "ticks": ""
           }
          },
          "scene": {
           "xaxis": {
            "backgroundcolor": "#E5ECF6",
            "gridcolor": "white",
            "gridwidth": 2,
            "linecolor": "white",
            "showbackground": true,
            "ticks": "",
            "zerolinecolor": "white"
           },
           "yaxis": {
            "backgroundcolor": "#E5ECF6",
            "gridcolor": "white",
            "gridwidth": 2,
            "linecolor": "white",
            "showbackground": true,
            "ticks": "",
            "zerolinecolor": "white"
           },
           "zaxis": {
            "backgroundcolor": "#E5ECF6",
            "gridcolor": "white",
            "gridwidth": 2,
            "linecolor": "white",
            "showbackground": true,
            "ticks": "",
            "zerolinecolor": "white"
           }
          },
          "shapedefaults": {
           "line": {
            "color": "#2a3f5f"
           }
          },
          "ternary": {
           "aaxis": {
            "gridcolor": "white",
            "linecolor": "white",
            "ticks": ""
           },
           "baxis": {
            "gridcolor": "white",
            "linecolor": "white",
            "ticks": ""
           },
           "bgcolor": "#E5ECF6",
           "caxis": {
            "gridcolor": "white",
            "linecolor": "white",
            "ticks": ""
           }
          },
          "title": {
           "x": 0.05
          },
          "xaxis": {
           "automargin": true,
           "gridcolor": "white",
           "linecolor": "white",
           "ticks": "",
           "title": {
            "standoff": 15
           },
           "zerolinecolor": "white",
           "zerolinewidth": 2
          },
          "yaxis": {
           "automargin": true,
           "gridcolor": "white",
           "linecolor": "white",
           "ticks": "",
           "title": {
            "standoff": 15
           },
           "zerolinecolor": "white",
           "zerolinewidth": 2
          }
         }
        },
        "title": {
         "text": "Union 3D embedding of farmers IPM data"
        }
       }
      },
      "image/png": "[encoded data removed]",
      "text/html": [
       "<div>                            <div id=\"aa5f16f8-776c-46e1-82e4-86dcef2afc0b\" class=\"plotly-graph-div\" style=\"height:525px; width:100%;\"></div>            <script type=\"text/javascript\">                require([\"plotly\"], function(Plotly) {                    window.PLOTLYENV=window.PLOTLYENV || {};                                    if (document.getElementById(\"aa5f16f8-776c-46e1-82e4-86dcef2afc0b\")) {                    Plotly.newPlot(                        \"aa5f16f8-776c-46e1-82e4-86dcef2afc0b\",                        [{\"hovertemplate\":\"clusters=1<br>x=%{x}<br>y=%{y}<br>z=%{z}<br>text=%{text}<extra></extra>\",\"legendgroup\":\"1\",\"marker\":{\"color\":\"#636efa\",\"opacity\":0.5,\"symbol\":\"circle\"},\"mode\":\"markers+text\",\"name\":\"1\",\"scene\":\"scene\",\"showlegend\":true,\"text\":[0.0,0.0,1.0,1.0,1.0,0.0,0.0,0.0,0.0,1.0,0.0,0.0,0.0,0.0,0.0,1.0,0.0,0.0,1.0,1.0,1.0],\"type\":\"scatter3d\",\"x\":[13.476128578186035,12.573824882507324,22.590518951416016,20.278564453125,22.382131576538086,14.677103042602539,15.212157249450684,13.690633773803711,12.101076126098633,22.522743225097656,15.330480575561523,12.121042251586914,12.314714431762695,15.768302917480469,15.683433532714844,22.2851505279541,16.049610137939453,14.460817337036133,20.092369079589844,20.44934844970703,20.573001861572266],\"y\":[0.20528912544250488,-1.0537431240081787,-2.8906068801879883,-2.839780330657959,-1.987318992614746,0.22356891632080078,0.2303142547607422,-1.302666187286377,-0.9716353416442871,-2.6767191886901855,0.5877718925476074,1.2364418506622314,1.2806179523468018,0.1238560676574707,0.08539056777954102,-2.888309955596924,0.2744295597076416,1.8960545063018799,-2.363802909851074,-3.835266351699829,-4.612320423126221],\"z\":[-0.06108558177947998,-1.652345061302185,-5.006683349609375,-4.576202869415283,-4.134711265563965,-1.2333080768585205,0.08656787872314453,-1.4626941680908203,-1.4349381923675537,-4.853853225708008,0.38531506061553955,-0.9660971164703369,-1.3557109832763672,-0.7710435390472412,-0.40983545780181885,-5.241927623748779,-1.0438138246536255,-0.5584028959274292,-4.482274055480957,-5.248194217681885,-5.416915416717529]},{\"hovertemplate\":\"clusters=0<br>x=%{x}<br>y=%{y}<br>z=%{z}<br>text=%{text}<extra></extra>\",\"legendgroup\":\"0\",\"marker\":{\"color\":\"#EF553B\",\"opacity\":0.5,\"symbol\":\"circle\"},\"mode\":\"markers+text\",\"name\":\"0\",\"scene\":\"scene\",\"showlegend\":true,\"text\":[1.0,1.0,1.0,1.0,1.0,1.0,1.0,1.0,1.0,1.0,1.0,1.0,1.0,1.0,1.0],\"type\":\"scatter3d\",\"x\":[25.31065559387207,25.662172317504883,26.290512084960938,27.601947784423828,27.18897247314453,25.186779022216797,26.193248748779297,24.3049259185791,26.89482307434082,27.131736755371094,26.72191619873047,26.592098236083984,26.548782348632812,25.9979248046875,25.915504455566406],\"y\":[24.32369041442871,25.83339500427246,26.434894561767578,25.131935119628906,24.59710121154785,23.703718185424805,27.183300018310547,25.53335189819336,25.316925048828125,24.99030303955078,24.470993041992188,24.75281524658203,24.28360939025879,26.237077713012695,26.341012954711914],\"z\":[-2.7616682052612305,-3.5705597400665283,-3.378358840942383,-2.862887144088745,-1.5040897130966187,-2.8558719158172607,-1.678286075592041,-3.2637367248535156,-2.2122979164123535,-2.5446419715881348,-2.3142335414886475,-2.0418202877044678,-1.5163695812225342,-2.3244667053222656,-2.004946708679199]}],                        {\"legend\":{\"title\":{\"text\":\"clusters\"},\"tracegroupgap\":0},\"scene\":{\"domain\":{\"x\":[0.0,1.0],\"y\":[0.0,1.0]},\"xaxis\":{\"title\":{\"text\":\"x\"}},\"yaxis\":{\"title\":{\"text\":\"y\"}},\"zaxis\":{\"title\":{\"text\":\"z\"}}},\"template\":{\"data\":{\"bar\":[{\"error_x\":{\"color\":\"#2a3f5f\"},\"error_y\":{\"color\":\"#2a3f5f\"},\"marker\":{\"line\":{\"color\":\"#E5ECF6\",\"width\":0.5},\"pattern\":{\"fillmode\":\"overlay\",\"size\":10,\"solidity\":0.2}},\"type\":\"bar\"}],\"barpolar\":[{\"marker\":{\"line\":{\"color\":\"#E5ECF6\",\"width\":0.5},\"pattern\":{\"fillmode\":\"overlay\",\"size\":10,\"solidity\":0.2}},\"type\":\"barpolar\"}],\"carpet\":[{\"aaxis\":{\"endlinecolor\":\"#2a3f5f\",\"gridcolor\":\"white\",\"linecolor\":\"white\",\"minorgridcolor\":\"white\",\"startlinecolor\":\"#2a3f5f\"},\"baxis\":{\"endlinecolor\":\"#2a3f5f\",\"gridcolor\":\"white\",\"linecolor\":\"white\",\"minorgridcolor\":\"white\",\"startlinecolor\":\"#2a3f5f\"},\"type\":\"carpet\"}],\"choropleth\":[{\"colorbar\":{\"outlinewidth\":0,\"ticks\":\"\"},\"type\":\"choropleth\"}],\"contour\":[{\"colorbar\":{\"outlinewidth\":0,\"ticks\":\"\"},\"colorscale\":[[0.0,\"#0d0887\"],[0.1111111111111111,\"#46039f\"],[0.2222222222222222,\"#7201a8\"],[0.3333333333333333,\"#9c179e\"],[0.4444444444444444,\"#bd3786\"],[0.5555555555555556,\"#d8576b\"],[0.6666666666666666,\"#ed7953\"],[0.7777777777777778,\"#fb9f3a\"],[0.8888888888888888,\"#fdca26\"],[1.0,\"#f0f921\"]],\"type\":\"contour\"}],\"contourcarpet\":[{\"colorbar\":{\"outlinewidth\":0,\"ticks\":\"\"},\"type\":\"contourcarpet\"}],\"heatmap\":[{\"colorbar\":{\"outlinewidth\":0,\"ticks\":\"\"},\"colorscale\":[[0.0,\"#0d0887\"],[0.1111111111111111,\"#46039f\"],[0.2222222222222222,\"#7201a8\"],[0.3333333333333333,\"#9c179e\"],[0.4444444444444444,\"#bd3786\"],[0.5555555555555556,\"#d8576b\"],[0.6666666666666666,\"#ed7953\"],[0.7777777777777778,\"#fb9f3a\"],[0.8888888888888888,\"#fdca26\"],[1.0,\"#f0f921\"]],\"type\":\"heatmap\"}],\"heatmapgl\":[{\"colorbar\":{\"outlinewidth\":0,\"ticks\":\"\"},\"colorscale\":[[0.0,\"#0d0887\"],[0.1111111111111111,\"#46039f\"],[0.2222222222222222,\"#7201a8\"],[0.3333333333333333,\"#9c179e\"],[0.4444444444444444,\"#bd3786\"],[0.5555555555555556,\"#d8576b\"],[0.6666666666666666,\"#ed7953\"],[0.7777777777777778,\"#fb9f3a\"],[0.8888888888888888,\"#fdca26\"],[1.0,\"#f0f921\"]],\"type\":\"heatmapgl\"}],\"histogram\":[{\"marker\":{\"pattern\":{\"fillmode\":\"overlay\",\"size\":10,\"solidity\":0.2}},\"type\":\"histogram\"}],\"histogram2d\":[{\"colorbar\":{\"outlinewidth\":0,\"ticks\":\"\"},\"colorscale\":[[0.0,\"#0d0887\"],[0.1111111111111111,\"#46039f\"],[0.2222222222222222,\"#7201a8\"],[0.3333333333333333,\"#9c179e\"],[0.4444444444444444,\"#bd3786\"],[0.5555555555555556,\"#d8576b\"],[0.6666666666666666,\"#ed7953\"],[0.7777777777777778,\"#fb9f3a\"],[0.8888888888888888,\"#fdca26\"],[1.0,\"#f0f921\"]],\"type\":\"histogram2d\"}],\"histogram2dcontour\":[{\"colorbar\":{\"outlinewidth\":0,\"ticks\":\"\"},\"colorscale\":[[0.0,\"#0d0887\"],[0.1111111111111111,\"#46039f\"],[0.2222222222222222,\"#7201a8\"],[0.3333333333333333,\"#9c179e\"],[0.4444444444444444,\"#bd3786\"],[0.5555555555555556,\"#d8576b\"],[0.6666666666666666,\"#ed7953\"],[0.7777777777777778,\"#fb9f3a\"],[0.8888888888888888,\"#fdca26\"],[1.0,\"#f0f921\"]],\"type\":\"histogram2dcontour\"}],\"mesh3d\":[{\"colorbar\":{\"outlinewidth\":0,\"ticks\":\"\"},\"type\":\"mesh3d\"}],\"parcoords\":[{\"line\":{\"colorbar\":{\"outlinewidth\":0,\"ticks\":\"\"}},\"type\":\"parcoords\"}],\"pie\":[{\"automargin\":true,\"type\":\"pie\"}],\"scatter\":[{\"marker\":{\"colorbar\":{\"outlinewidth\":0,\"ticks\":\"\"}},\"type\":\"scatter\"}],\"scatter3d\":[{\"line\":{\"colorbar\":{\"outlinewidth\":0,\"ticks\":\"\"}},\"marker\":{\"colorbar\":{\"outlinewidth\":0,\"ticks\":\"\"}},\"type\":\"scatter3d\"}],\"scattercarpet\":[{\"marker\":{\"colorbar\":{\"outlinewidth\":0,\"ticks\":\"\"}},\"type\":\"scattercarpet\"}],\"scattergeo\":[{\"marker\":{\"colorbar\":{\"outlinewidth\":0,\"ticks\":\"\"}},\"type\":\"scattergeo\"}],\"scattergl\":[{\"marker\":{\"colorbar\":{\"outlinewidth\":0,\"ticks\":\"\"}},\"type\":\"scattergl\"}],\"scattermapbox\":[{\"marker\":{\"colorbar\":{\"outlinewidth\":0,\"ticks\":\"\"}},\"type\":\"scattermapbox\"}],\"scatterpolar\":[{\"marker\":{\"colorbar\":{\"outlinewidth\":0,\"ticks\":\"\"}},\"type\":\"scatterpolar\"}],\"scatterpolargl\":[{\"marker\":{\"colorbar\":{\"outlinewidth\":0,\"ticks\":\"\"}},\"type\":\"scatterpolargl\"}],\"scatterternary\":[{\"marker\":{\"colorbar\":{\"outlinewidth\":0,\"ticks\":\"\"}},\"type\":\"scatterternary\"}],\"surface\":[{\"colorbar\":{\"outlinewidth\":0,\"ticks\":\"\"},\"colorscale\":[[0.0,\"#0d0887\"],[0.1111111111111111,\"#46039f\"],[0.2222222222222222,\"#7201a8\"],[0.3333333333333333,\"#9c179e\"],[0.4444444444444444,\"#bd3786\"],[0.5555555555555556,\"#d8576b\"],[0.6666666666666666,\"#ed7953\"],[0.7777777777777778,\"#fb9f3a\"],[0.8888888888888888,\"#fdca26\"],[1.0,\"#f0f921\"]],\"type\":\"surface\"}],\"table\":[{\"cells\":{\"fill\":{\"color\":\"#EBF0F8\"},\"line\":{\"color\":\"white\"}},\"header\":{\"fill\":{\"color\":\"#C8D4E3\"},\"line\":{\"color\":\"white\"}},\"type\":\"table\"}]},\"layout\":{\"annotationdefaults\":{\"arrowcolor\":\"#2a3f5f\",\"arrowhead\":0,\"arrowwidth\":1},\"autotypenumbers\":\"strict\",\"coloraxis\":{\"colorbar\":{\"outlinewidth\":0,\"ticks\":\"\"}},\"colorscale\":{\"diverging\":[[0,\"#8e0152\"],[0.1,\"#c51b7d\"],[0.2,\"#de77ae\"],[0.3,\"#f1b6da\"],[0.4,\"#fde0ef\"],[0.5,\"#f7f7f7\"],[0.6,\"#e6f5d0\"],[0.7,\"#b8e186\"],[0.8,\"#7fbc41\"],[0.9,\"#4d9221\"],[1,\"#276419\"]],\"sequential\":[[0.0,\"#0d0887\"],[0.1111111111111111,\"#46039f\"],[0.2222222222222222,\"#7201a8\"],[0.3333333333333333,\"#9c179e\"],[0.4444444444444444,\"#bd3786\"],[0.5555555555555556,\"#d8576b\"],[0.6666666666666666,\"#ed7953\"],[0.7777777777777778,\"#fb9f3a\"],[0.8888888888888888,\"#fdca26\"],[1.0,\"#f0f921\"]],\"sequentialminus\":[[0.0,\"#0d0887\"],[0.1111111111111111,\"#46039f\"],[0.2222222222222222,\"#7201a8\"],[0.3333333333333333,\"#9c179e\"],[0.4444444444444444,\"#bd3786\"],[0.5555555555555556,\"#d8576b\"],[0.6666666666666666,\"#ed7953\"],[0.7777777777777778,\"#fb9f3a\"],[0.8888888888888888,\"#fdca26\"],[1.0,\"#f0f921\"]]},\"colorway\":[\"#636efa\",\"#EF553B\",\"#00cc96\",\"#ab63fa\",\"#FFA15A\",\"#19d3f3\",\"#FF6692\",\"#B6E880\",\"#FF97FF\",\"#FECB52\"],\"font\":{\"color\":\"#2a3f5f\"},\"geo\":{\"bgcolor\":\"white\",\"lakecolor\":\"white\",\"landcolor\":\"#E5ECF6\",\"showlakes\":true,\"showland\":true,\"subunitcolor\":\"white\"},\"hoverlabel\":{\"align\":\"left\"},\"hovermode\":\"closest\",\"mapbox\":{\"style\":\"light\"},\"paper_bgcolor\":\"white\",\"plot_bgcolor\":\"#E5ECF6\",\"polar\":{\"angularaxis\":{\"gridcolor\":\"white\",\"linecolor\":\"white\",\"ticks\":\"\"},\"bgcolor\":\"#E5ECF6\",\"radialaxis\":{\"gridcolor\":\"white\",\"linecolor\":\"white\",\"ticks\":\"\"}},\"scene\":{\"xaxis\":{\"backgroundcolor\":\"#E5ECF6\",\"gridcolor\":\"white\",\"gridwidth\":2,\"linecolor\":\"white\",\"showbackground\":true,\"ticks\":\"\",\"zerolinecolor\":\"white\"},\"yaxis\":{\"backgroundcolor\":\"#E5ECF6\",\"gridcolor\":\"white\",\"gridwidth\":2,\"linecolor\":\"white\",\"showbackground\":true,\"ticks\":\"\",\"zerolinecolor\":\"white\"},\"zaxis\":{\"backgroundcolor\":\"#E5ECF6\",\"gridcolor\":\"white\",\"gridwidth\":2,\"linecolor\":\"white\",\"showbackground\":true,\"ticks\":\"\",\"zerolinecolor\":\"white\"}},\"shapedefaults\":{\"line\":{\"color\":\"#2a3f5f\"}},\"ternary\":{\"aaxis\":{\"gridcolor\":\"white\",\"linecolor\":\"white\",\"ticks\":\"\"},\"baxis\":{\"gridcolor\":\"white\",\"linecolor\":\"white\",\"ticks\":\"\"},\"bgcolor\":\"#E5ECF6\",\"caxis\":{\"gridcolor\":\"white\",\"linecolor\":\"white\",\"ticks\":\"\"}},\"title\":{\"x\":0.05},\"xaxis\":{\"automargin\":true,\"gridcolor\":\"white\",\"linecolor\":\"white\",\"ticks\":\"\",\"title\":{\"standoff\":15},\"zerolinecolor\":\"white\",\"zerolinewidth\":2},\"yaxis\":{\"automargin\":true,\"gridcolor\":\"white\",\"linecolor\":\"white\",\"ticks\":\"\",\"title\":{\"standoff\":15},\"zerolinecolor\":\"white\",\"zerolinewidth\":2}}},\"title\":{\"text\":\"Union 3D embedding of farmers IPM data\"}},                        {\"responsive\": true}                    ).then(function(){\n",
       "                            \n",
       "var gd = document.getElementById('aa5f16f8-776c-46e1-82e4-86dcef2afc0b');\n",
       "var x = new MutationObserver(function (mutations, observer) {{\n",
       "        var display = window.getComputedStyle(gd).display;\n",
       "        if (!display || display === 'none') {{\n",
       "            console.log([gd, 'removed!']);\n",
       "            Plotly.purge(gd);\n",
       "            observer.disconnect();\n",
       "        }}\n",
       "}});\n",
       "\n",
       "// Listen for the removal of the full notebook cells\n",
       "var notebookContainer = gd.closest('#notebook-container');\n",
       "if (notebookContainer) {{\n",
       "    x.observe(notebookContainer, {childList: true});\n",
       "}}\n",
       "\n",
       "// Listen for the clearing of the current output cell\n",
       "var outputEl = gd.closest('.output');\n",
       "if (outputEl) {{\n",
       "    x.observe(outputEl, {childList: true});\n",
       "}}\n",
       "\n",
       "                        })                };                });            </script>        </div>"
      ]
     },
     "metadata": {},
     "output_type": "display_data"
    }
   ],
   "source": [
    "# Union embedding cluster visualisation \n",
    "fig = px.scatter_3d(union3d_df, \"x\",\"y\",\"z\", color=\"clusters\", text=df_noNaN[\"Already_used_DSS\"], opacity=0.5, \n",
    "                    title=\"Union 3D embedding of farmers IPM data\")\n",
    "fig.write_html(\"output/IPM_Q1.html\")\n",
    "fig.show()"
   ]
  },
  {
   "cell_type": "code",
   "execution_count": null,
   "metadata": {},
   "outputs": [],
   "source": []
  },
  {
   "cell_type": "markdown",
   "metadata": {
    "id": "Os2IRjA7l2Ny"
   },
   "source": [
    "# Cluster explanation "
   ]
  },
  {
   "cell_type": "code",
   "execution_count": 223,
   "metadata": {},
   "outputs": [
    {
     "data": {
      "text/html": [
       "<div>\n",
       "<style scoped>\n",
       "    .dataframe tbody tr th:only-of-type {\n",
       "        vertical-align: middle;\n",
       "    }\n",
       "\n",
       "    .dataframe tbody tr th {\n",
       "        vertical-align: top;\n",
       "    }\n",
       "\n",
       "    .dataframe thead th {\n",
       "        text-align: right;\n",
       "    }\n",
       "</style>\n",
       "<table border=\"1\" class=\"dataframe\">\n",
       "  <thead>\n",
       "    <tr style=\"text-align: right;\">\n",
       "      <th></th>\n",
       "      <th>Age_Cat</th>\n",
       "      <th>Gender_1male</th>\n",
       "      <th>Degree_Cat</th>\n",
       "      <th>Farm_size_Cat</th>\n",
       "      <th>Income_Cat</th>\n",
       "      <th>Legislative_requirements</th>\n",
       "      <th>Computer_at_home</th>\n",
       "      <th>Speed_internet_Cat</th>\n",
       "      <th>Already_used_DSS</th>\n",
       "      <th>Willing_to_try_new_products_Cat</th>\n",
       "      <th>Price_important_factor</th>\n",
       "      <th>Importance_of_easy_to_use_1to3</th>\n",
       "      <th>Importance_of_efficient_1to3</th>\n",
       "      <th>Importance_low_price_1to3</th>\n",
       "      <th>Importance_polyvalence_1to3</th>\n",
       "      <th>Enjoy_using_new_techs_1to3</th>\n",
       "      <th>Appreciate_change_1to3</th>\n",
       "      <th>Trust_in_DSS_1to3</th>\n",
       "      <th>Need_IT_teaching_Cat</th>\n",
       "      <th>DSS_can_improve_your_productivity_Cat</th>\n",
       "      <th>WTP_for_DSS_Cat</th>\n",
       "      <th>DSS_must_be_tailored_for_your_farm_Cat</th>\n",
       "      <th>Manufacturer_demo_of_DSS_Cat</th>\n",
       "    </tr>\n",
       "  </thead>\n",
       "  <tbody>\n",
       "    <tr>\n",
       "      <th>2</th>\n",
       "      <td>2</td>\n",
       "      <td>1</td>\n",
       "      <td>2</td>\n",
       "      <td>5</td>\n",
       "      <td>2</td>\n",
       "      <td>1</td>\n",
       "      <td>1</td>\n",
       "      <td>2</td>\n",
       "      <td>0</td>\n",
       "      <td>1</td>\n",
       "      <td>1</td>\n",
       "      <td>3</td>\n",
       "      <td>3</td>\n",
       "      <td>2</td>\n",
       "      <td>3</td>\n",
       "      <td>1</td>\n",
       "      <td>1</td>\n",
       "      <td>2</td>\n",
       "      <td>2</td>\n",
       "      <td>3</td>\n",
       "      <td>2</td>\n",
       "      <td>2</td>\n",
       "      <td>2</td>\n",
       "    </tr>\n",
       "    <tr>\n",
       "      <th>3</th>\n",
       "      <td>2</td>\n",
       "      <td>1</td>\n",
       "      <td>2</td>\n",
       "      <td>4</td>\n",
       "      <td>5</td>\n",
       "      <td>1</td>\n",
       "      <td>1</td>\n",
       "      <td>2</td>\n",
       "      <td>0</td>\n",
       "      <td>1</td>\n",
       "      <td>1</td>\n",
       "      <td>3</td>\n",
       "      <td>2</td>\n",
       "      <td>1</td>\n",
       "      <td>2</td>\n",
       "      <td>2</td>\n",
       "      <td>2</td>\n",
       "      <td>1</td>\n",
       "      <td>2</td>\n",
       "      <td>3</td>\n",
       "      <td>3</td>\n",
       "      <td>2</td>\n",
       "      <td>1</td>\n",
       "    </tr>\n",
       "    <tr>\n",
       "      <th>4</th>\n",
       "      <td>2</td>\n",
       "      <td>1</td>\n",
       "      <td>2</td>\n",
       "      <td>5</td>\n",
       "      <td>5</td>\n",
       "      <td>1</td>\n",
       "      <td>1</td>\n",
       "      <td>2</td>\n",
       "      <td>1</td>\n",
       "      <td>1</td>\n",
       "      <td>1</td>\n",
       "      <td>3</td>\n",
       "      <td>3</td>\n",
       "      <td>1</td>\n",
       "      <td>2</td>\n",
       "      <td>2</td>\n",
       "      <td>1</td>\n",
       "      <td>1</td>\n",
       "      <td>2</td>\n",
       "      <td>3</td>\n",
       "      <td>3</td>\n",
       "      <td>2</td>\n",
       "      <td>2</td>\n",
       "    </tr>\n",
       "    <tr>\n",
       "      <th>5</th>\n",
       "      <td>1</td>\n",
       "      <td>1</td>\n",
       "      <td>2</td>\n",
       "      <td>2</td>\n",
       "      <td>1</td>\n",
       "      <td>0</td>\n",
       "      <td>1</td>\n",
       "      <td>3</td>\n",
       "      <td>1</td>\n",
       "      <td>2</td>\n",
       "      <td>1</td>\n",
       "      <td>3</td>\n",
       "      <td>3</td>\n",
       "      <td>3</td>\n",
       "      <td>3</td>\n",
       "      <td>2</td>\n",
       "      <td>2</td>\n",
       "      <td>1</td>\n",
       "      <td>1</td>\n",
       "      <td>2</td>\n",
       "      <td>2</td>\n",
       "      <td>3</td>\n",
       "      <td>2</td>\n",
       "    </tr>\n",
       "    <tr>\n",
       "      <th>6</th>\n",
       "      <td>1</td>\n",
       "      <td>1</td>\n",
       "      <td>2</td>\n",
       "      <td>3</td>\n",
       "      <td>1</td>\n",
       "      <td>0</td>\n",
       "      <td>1</td>\n",
       "      <td>2</td>\n",
       "      <td>1</td>\n",
       "      <td>2</td>\n",
       "      <td>1</td>\n",
       "      <td>2</td>\n",
       "      <td>2</td>\n",
       "      <td>2</td>\n",
       "      <td>2</td>\n",
       "      <td>3</td>\n",
       "      <td>2</td>\n",
       "      <td>2</td>\n",
       "      <td>2</td>\n",
       "      <td>3</td>\n",
       "      <td>2</td>\n",
       "      <td>1</td>\n",
       "      <td>1</td>\n",
       "    </tr>\n",
       "    <tr>\n",
       "      <th>...</th>\n",
       "      <td>...</td>\n",
       "      <td>...</td>\n",
       "      <td>...</td>\n",
       "      <td>...</td>\n",
       "      <td>...</td>\n",
       "      <td>...</td>\n",
       "      <td>...</td>\n",
       "      <td>...</td>\n",
       "      <td>...</td>\n",
       "      <td>...</td>\n",
       "      <td>...</td>\n",
       "      <td>...</td>\n",
       "      <td>...</td>\n",
       "      <td>...</td>\n",
       "      <td>...</td>\n",
       "      <td>...</td>\n",
       "      <td>...</td>\n",
       "      <td>...</td>\n",
       "      <td>...</td>\n",
       "      <td>...</td>\n",
       "      <td>...</td>\n",
       "      <td>...</td>\n",
       "      <td>...</td>\n",
       "    </tr>\n",
       "    <tr>\n",
       "      <th>90</th>\n",
       "      <td>3</td>\n",
       "      <td>1</td>\n",
       "      <td>4</td>\n",
       "      <td>3</td>\n",
       "      <td>1</td>\n",
       "      <td>1</td>\n",
       "      <td>1</td>\n",
       "      <td>3</td>\n",
       "      <td>1</td>\n",
       "      <td>1</td>\n",
       "      <td>1</td>\n",
       "      <td>3</td>\n",
       "      <td>3</td>\n",
       "      <td>3</td>\n",
       "      <td>2</td>\n",
       "      <td>2</td>\n",
       "      <td>1</td>\n",
       "      <td>2</td>\n",
       "      <td>1</td>\n",
       "      <td>3</td>\n",
       "      <td>2</td>\n",
       "      <td>2</td>\n",
       "      <td>2</td>\n",
       "    </tr>\n",
       "    <tr>\n",
       "      <th>128</th>\n",
       "      <td>1</td>\n",
       "      <td>1</td>\n",
       "      <td>2</td>\n",
       "      <td>1</td>\n",
       "      <td>1</td>\n",
       "      <td>0</td>\n",
       "      <td>1</td>\n",
       "      <td>2</td>\n",
       "      <td>1</td>\n",
       "      <td>1</td>\n",
       "      <td>1</td>\n",
       "      <td>2</td>\n",
       "      <td>3</td>\n",
       "      <td>2</td>\n",
       "      <td>2</td>\n",
       "      <td>2</td>\n",
       "      <td>2</td>\n",
       "      <td>2</td>\n",
       "      <td>2</td>\n",
       "      <td>3</td>\n",
       "      <td>2</td>\n",
       "      <td>2</td>\n",
       "      <td>2</td>\n",
       "    </tr>\n",
       "    <tr>\n",
       "      <th>135</th>\n",
       "      <td>3</td>\n",
       "      <td>1</td>\n",
       "      <td>2</td>\n",
       "      <td>3</td>\n",
       "      <td>3</td>\n",
       "      <td>0</td>\n",
       "      <td>1</td>\n",
       "      <td>2</td>\n",
       "      <td>1</td>\n",
       "      <td>1</td>\n",
       "      <td>1</td>\n",
       "      <td>2</td>\n",
       "      <td>2</td>\n",
       "      <td>1</td>\n",
       "      <td>2</td>\n",
       "      <td>1</td>\n",
       "      <td>1</td>\n",
       "      <td>1</td>\n",
       "      <td>2</td>\n",
       "      <td>2</td>\n",
       "      <td>2</td>\n",
       "      <td>1</td>\n",
       "      <td>1</td>\n",
       "    </tr>\n",
       "    <tr>\n",
       "      <th>137</th>\n",
       "      <td>1</td>\n",
       "      <td>1</td>\n",
       "      <td>1</td>\n",
       "      <td>5</td>\n",
       "      <td>4</td>\n",
       "      <td>0</td>\n",
       "      <td>1</td>\n",
       "      <td>3</td>\n",
       "      <td>1</td>\n",
       "      <td>1</td>\n",
       "      <td>0</td>\n",
       "      <td>1</td>\n",
       "      <td>2</td>\n",
       "      <td>1</td>\n",
       "      <td>2</td>\n",
       "      <td>2</td>\n",
       "      <td>1</td>\n",
       "      <td>2</td>\n",
       "      <td>2</td>\n",
       "      <td>4</td>\n",
       "      <td>3</td>\n",
       "      <td>2</td>\n",
       "      <td>2</td>\n",
       "    </tr>\n",
       "    <tr>\n",
       "      <th>148</th>\n",
       "      <td>2</td>\n",
       "      <td>1</td>\n",
       "      <td>3</td>\n",
       "      <td>5</td>\n",
       "      <td>2</td>\n",
       "      <td>1</td>\n",
       "      <td>1</td>\n",
       "      <td>2</td>\n",
       "      <td>1</td>\n",
       "      <td>1</td>\n",
       "      <td>1</td>\n",
       "      <td>1</td>\n",
       "      <td>2</td>\n",
       "      <td>2</td>\n",
       "      <td>3</td>\n",
       "      <td>2</td>\n",
       "      <td>2</td>\n",
       "      <td>1</td>\n",
       "      <td>2</td>\n",
       "      <td>4</td>\n",
       "      <td>2</td>\n",
       "      <td>2</td>\n",
       "      <td>1</td>\n",
       "    </tr>\n",
       "  </tbody>\n",
       "</table>\n",
       "<p>36 rows × 23 columns</p>\n",
       "</div>"
      ],
      "text/plain": [
       "     Age_Cat  Gender_1male  Degree_Cat  Farm_size_Cat  Income_Cat  \\\n",
       "2          2             1           2              5           2   \n",
       "3          2             1           2              4           5   \n",
       "4          2             1           2              5           5   \n",
       "5          1             1           2              2           1   \n",
       "6          1             1           2              3           1   \n",
       "..       ...           ...         ...            ...         ...   \n",
       "90         3             1           4              3           1   \n",
       "128        1             1           2              1           1   \n",
       "135        3             1           2              3           3   \n",
       "137        1             1           1              5           4   \n",
       "148        2             1           3              5           2   \n",
       "\n",
       "     Legislative_requirements  Computer_at_home  Speed_internet_Cat  \\\n",
       "2                           1                 1                   2   \n",
       "3                           1                 1                   2   \n",
       "4                           1                 1                   2   \n",
       "5                           0                 1                   3   \n",
       "6                           0                 1                   2   \n",
       "..                        ...               ...                 ...   \n",
       "90                          1                 1                   3   \n",
       "128                         0                 1                   2   \n",
       "135                         0                 1                   2   \n",
       "137                         0                 1                   3   \n",
       "148                         1                 1                   2   \n",
       "\n",
       "     Already_used_DSS  Willing_to_try_new_products_Cat  \\\n",
       "2                   0                                1   \n",
       "3                   0                                1   \n",
       "4                   1                                1   \n",
       "5                   1                                2   \n",
       "6                   1                                2   \n",
       "..                ...                              ...   \n",
       "90                  1                                1   \n",
       "128                 1                                1   \n",
       "135                 1                                1   \n",
       "137                 1                                1   \n",
       "148                 1                                1   \n",
       "\n",
       "     Price_important_factor  Importance_of_easy_to_use_1to3  \\\n",
       "2                         1                               3   \n",
       "3                         1                               3   \n",
       "4                         1                               3   \n",
       "5                         1                               3   \n",
       "6                         1                               2   \n",
       "..                      ...                             ...   \n",
       "90                        1                               3   \n",
       "128                       1                               2   \n",
       "135                       1                               2   \n",
       "137                       0                               1   \n",
       "148                       1                               1   \n",
       "\n",
       "     Importance_of_efficient_1to3  Importance_low_price_1to3  \\\n",
       "2                               3                          2   \n",
       "3                               2                          1   \n",
       "4                               3                          1   \n",
       "5                               3                          3   \n",
       "6                               2                          2   \n",
       "..                            ...                        ...   \n",
       "90                              3                          3   \n",
       "128                             3                          2   \n",
       "135                             2                          1   \n",
       "137                             2                          1   \n",
       "148                             2                          2   \n",
       "\n",
       "     Importance_polyvalence_1to3  Enjoy_using_new_techs_1to3  \\\n",
       "2                              3                           1   \n",
       "3                              2                           2   \n",
       "4                              2                           2   \n",
       "5                              3                           2   \n",
       "6                              2                           3   \n",
       "..                           ...                         ...   \n",
       "90                             2                           2   \n",
       "128                            2                           2   \n",
       "135                            2                           1   \n",
       "137                            2                           2   \n",
       "148                            3                           2   \n",
       "\n",
       "     Appreciate_change_1to3  Trust_in_DSS_1to3  Need_IT_teaching_Cat  \\\n",
       "2                         1                  2                     2   \n",
       "3                         2                  1                     2   \n",
       "4                         1                  1                     2   \n",
       "5                         2                  1                     1   \n",
       "6                         2                  2                     2   \n",
       "..                      ...                ...                   ...   \n",
       "90                        1                  2                     1   \n",
       "128                       2                  2                     2   \n",
       "135                       1                  1                     2   \n",
       "137                       1                  2                     2   \n",
       "148                       2                  1                     2   \n",
       "\n",
       "     DSS_can_improve_your_productivity_Cat  WTP_for_DSS_Cat  \\\n",
       "2                                        3                2   \n",
       "3                                        3                3   \n",
       "4                                        3                3   \n",
       "5                                        2                2   \n",
       "6                                        3                2   \n",
       "..                                     ...              ...   \n",
       "90                                       3                2   \n",
       "128                                      3                2   \n",
       "135                                      2                2   \n",
       "137                                      4                3   \n",
       "148                                      4                2   \n",
       "\n",
       "     DSS_must_be_tailored_for_your_farm_Cat  Manufacturer_demo_of_DSS_Cat  \n",
       "2                                         2                             2  \n",
       "3                                         2                             1  \n",
       "4                                         2                             2  \n",
       "5                                         3                             2  \n",
       "6                                         1                             1  \n",
       "..                                      ...                           ...  \n",
       "90                                        2                             2  \n",
       "128                                       2                             2  \n",
       "135                                       1                             1  \n",
       "137                                       2                             2  \n",
       "148                                       2                             1  \n",
       "\n",
       "[36 rows x 23 columns]"
      ]
     },
     "execution_count": 223,
     "metadata": {},
     "output_type": "execute_result"
    }
   ],
   "source": [
    "df_noNaN"
   ]
  },
  {
   "cell_type": "code",
   "execution_count": null,
   "metadata": {},
   "outputs": [],
   "source": []
  },
  {
   "cell_type": "code",
   "execution_count": 224,
   "metadata": {
    "id": "bTxXmEg4l2Ny"
   },
   "outputs": [],
   "source": [
    "# DataFrame for classification with clusters from embedding3d\n",
    "df_noNaN[\"clusters\"] = km_2D_union_clusters\n",
    "df_clst = df_noNaN.copy()"
   ]
  },
  {
   "cell_type": "code",
   "execution_count": 225,
   "metadata": {
    "id": "wKi2X2wu0qFV"
   },
   "outputs": [],
   "source": [
    "df_clst.to_csv(\"IPM_SouthEU-data&clusters_question1.csv\", sep=\",\", na_rep=\"?\", index=False)"
   ]
  },
  {
   "cell_type": "code",
   "execution_count": null,
   "metadata": {},
   "outputs": [],
   "source": []
  },
  {
   "cell_type": "code",
   "execution_count": null,
   "metadata": {},
   "outputs": [],
   "source": []
  },
  {
   "cell_type": "code",
   "execution_count": null,
   "metadata": {},
   "outputs": [],
   "source": []
  },
  {
   "cell_type": "markdown",
   "metadata": {
    "id": "kDIW1dSvl2N2"
   },
   "source": [
    "## Modelling"
   ]
  },
  {
   "cell_type": "code",
   "execution_count": 226,
   "metadata": {
    "id": "KFFbUXk5lvgc"
   },
   "outputs": [
    {
     "data": {
      "text/plain": [
       "[Text(450.69230769230774, 498.3, 'Willing_to_try_new_products_Cat <= 1.5\\ngini = 0.494\\nsamples = 36\\nvalue = [16, 20]\\nclass = 1'),\n",
       " Text(240.3692307692308, 407.70000000000005, 'Enjoy_using_new_techs_1to3 <= 1.5\\ngini = 0.34\\nsamples = 23\\nvalue = [5, 18]\\nclass = 1'),\n",
       " Text(120.1846153846154, 317.1, 'Age_Cat <= 4.0\\ngini = 0.375\\nsamples = 4\\nvalue = [3, 1]\\nclass = 0'),\n",
       " Text(60.0923076923077, 226.5, 'gini = 0.0\\nsamples = 3\\nvalue = [3, 0]\\nclass = 0'),\n",
       " Text(180.27692307692308, 226.5, 'gini = 0.0\\nsamples = 1\\nvalue = [0, 1]\\nclass = 1'),\n",
       " Text(360.55384615384617, 317.1, 'Farm_size_Cat <= 2.0\\ngini = 0.188\\nsamples = 19\\nvalue = [2, 17]\\nclass = 1'),\n",
       " Text(300.4615384615385, 226.5, 'gini = 0.0\\nsamples = 1\\nvalue = [1, 0]\\nclass = 0'),\n",
       " Text(420.6461538461539, 226.5, 'Income_Cat <= 4.5\\ngini = 0.105\\nsamples = 18\\nvalue = [1, 17]\\nclass = 1'),\n",
       " Text(360.55384615384617, 135.89999999999998, 'gini = 0.0\\nsamples = 14\\nvalue = [0, 14]\\nclass = 1'),\n",
       " Text(480.7384615384616, 135.89999999999998, 'Already_used_DSS <= 0.5\\ngini = 0.375\\nsamples = 4\\nvalue = [1, 3]\\nclass = 1'),\n",
       " Text(420.6461538461539, 45.299999999999955, 'gini = 0.0\\nsamples = 1\\nvalue = [1, 0]\\nclass = 0'),\n",
       " Text(540.8307692307693, 45.299999999999955, 'gini = 0.0\\nsamples = 3\\nvalue = [0, 3]\\nclass = 1'),\n",
       " Text(661.0153846153847, 407.70000000000005, 'WTP_for_DSS_Cat <= 2.5\\ngini = 0.26\\nsamples = 13\\nvalue = [11, 2]\\nclass = 0'),\n",
       " Text(600.923076923077, 317.1, 'DSS_can_improve_your_productivity_Cat <= 3.5\\ngini = 0.153\\nsamples = 12\\nvalue = [11, 1]\\nclass = 0'),\n",
       " Text(540.8307692307693, 226.5, 'gini = 0.0\\nsamples = 11\\nvalue = [11, 0]\\nclass = 0'),\n",
       " Text(661.0153846153847, 226.5, 'gini = 0.0\\nsamples = 1\\nvalue = [0, 1]\\nclass = 1'),\n",
       " Text(721.1076923076923, 317.1, 'gini = 0.0\\nsamples = 1\\nvalue = [0, 1]\\nclass = 1')]"
      ]
     },
     "execution_count": 226,
     "metadata": {},
     "output_type": "execute_result"
    },
    {
     "data": {
      "image/png": "[encoded data removed]",
      "text/plain": [
       "<Figure size 1008x720 with 1 Axes>"
      ]
     },
     "metadata": {},
     "output_type": "display_data"
    }
   ],
   "source": [
    "from sklearn import tree\n",
    "\n",
    "target_class = \"clusters\"\n",
    "X, y = df_noNaN[[_ for _ in list(ohe_df.columns) if _ not in target_class]], df_noNaN[target_class]\n",
    "clf = tree.DecisionTreeClassifier()\n",
    "clf = clf.fit(X, y)\n",
    "tree.plot_tree(clf, feature_names=X.columns, class_names=[str(_) for _ in [0,1,2,3]], filled=True) "
   ]
  },
  {
   "cell_type": "code",
   "execution_count": 227,
   "metadata": {
    "id": "Jh4oJSCAFymj"
   },
   "outputs": [
    {
     "data": {
      "text/plain": [
       "LogisticRegression(max_iter=1000)"
      ]
     },
     "execution_count": 227,
     "metadata": {},
     "output_type": "execute_result"
    }
   ],
   "source": [
    "# Train the model\n",
    "from sklearn.linear_model import LogisticRegression\n",
    "from sklearn.model_selection import train_test_split\n",
    "\n",
    "target_class = \"clusters\"\n",
    "X = df_noNaN[[_ for _ in list(ohe_df.columns) if _ not in target_class]]\n",
    "y = df_noNaN[target_class]\n",
    "X_train, X_test, y_train, y_test = train_test_split(X, y, test_size=0.33, random_state=42)\n",
    "\n",
    "model = LogisticRegression(max_iter=1000)\n",
    "model.fit(X_train, y_train)"
   ]
  },
  {
   "cell_type": "code",
   "execution_count": 228,
   "metadata": {
    "id": "deWt2UZDJB-7"
   },
   "outputs": [
    {
     "data": {
      "text/plain": [
       "array([0, 0, 1, 1, 1, 1, 1, 1, 0, 1, 0, 1], dtype=int32)"
      ]
     },
     "execution_count": 228,
     "metadata": {},
     "output_type": "execute_result"
    }
   ],
   "source": [
    "# Predictions for test dataset\n",
    "y_predict = model.predict(X_test)\n",
    "y_predict"
   ]
  },
  {
   "cell_type": "code",
   "execution_count": 229,
   "metadata": {
    "id": "mg2J2A86l2N2"
   },
   "outputs": [],
   "source": [
    "from sklearn.model_selection import cross_val_score\n",
    "from sklearn.tree import DecisionTreeClassifier\n",
    "clf = tree.DecisionTreeClassifier(random_state=0)\n",
    "\n",
    "target_class = \"Already_used_DSS\"\n",
    "X = df_noNaN[[_ for _ in list(ohe_df.columns) if _ not in target_class]]\n",
    "Y = df_noNaN[target_class]\n",
    "clf = clf.fit(X, Y)"
   ]
  },
  {
   "cell_type": "code",
   "execution_count": 230,
   "metadata": {
    "id": "CcBXCs85l2N3"
   },
   "outputs": [
    {
     "name": "stdout",
     "output_type": "stream",
     "text": [
      "|--- Manufacturer_demo_of_DSS_Cat <= 1.50\n",
      "|   |--- Appreciate_change_1to3 <= 1.50\n",
      "|   |   |--- class: 1\n",
      "|   |--- Appreciate_change_1to3 >  1.50\n",
      "|   |   |--- class: 0\n",
      "|--- Manufacturer_demo_of_DSS_Cat >  1.50\n",
      "|   |--- Trust_in_DSS_1to3 <= 2.50\n",
      "|   |   |--- class: 1\n",
      "|   |--- Trust_in_DSS_1to3 >  2.50\n",
      "|   |   |--- class: 0\n",
      "\n"
     ]
    }
   ],
   "source": [
    "from sklearn.tree import DecisionTreeClassifier\n",
    "from sklearn.tree import export_text\n",
    "decision_tree = DecisionTreeClassifier(random_state=0, max_depth=2)\n",
    "decision_tree = decision_tree.fit(X, Y)\n",
    "r = export_text(decision_tree, feature_names=list(X.columns))\n",
    "print(r)"
   ]
  },
  {
   "cell_type": "code",
   "execution_count": 231,
   "metadata": {
    "id": "Y2PZlTRLl2N3"
   },
   "outputs": [],
   "source": [
    "# \"\"\"Ne morem importat, nek conflict\n",
    "# import graphviz \n",
    "# dot_data = tree.export_graphviz(clf, out_file=None) \n",
    "# graph = graphviz.Source(dot_data) \n",
    "# graph.render(\"IPM\") \n",
    "# \"\"\""
   ]
  },
  {
   "cell_type": "markdown",
   "metadata": {
    "id": "oTKut8pCWRyH"
   },
   "source": [
    "# create dictionary with value mapping"
   ]
  },
  {
   "cell_type": "code",
   "execution_count": 232,
   "metadata": {
    "id": "j0ai7zLivqOh"
   },
   "outputs": [],
   "source": [
    "# df[\"test\"] = df[\"Age_Cat\"].replace({4:\"več kot 50\", 3: \"test\", 1 : \"sdfsdf\", 2 : \"wsf\"})\n",
    "# df[\"Age_Cat\"] = df[\"Age_Cat\"].replace({4:\"več kot 50\", 3: \"test\", 1 : \"sdfsdf\", 2 : \"wsf\"})"
   ]
  }
 ],
 "metadata": {
  "colab": {
   "collapsed_sections": [],
   "include_colab_link": true,
   "name": "IPMdecisions-DataExploration_colab-1_4_Q1.ipynb",
   "provenance": []
  },
  "kernelspec": {
   "display_name": "Python 3 (ipykernel)",
   "language": "python",
   "name": "python3"
  },
  "language_info": {
   "codemirror_mode": {
    "name": "ipython",
    "version": 3
   },
   "file_extension": ".py",
   "mimetype": "text/x-python",
   "name": "python",
   "nbconvert_exporter": "python",
   "pygments_lexer": "ipython3",
   "version": "3.8.0"
  }
 },
 "nbformat": 4,
 "nbformat_minor": 4
}
