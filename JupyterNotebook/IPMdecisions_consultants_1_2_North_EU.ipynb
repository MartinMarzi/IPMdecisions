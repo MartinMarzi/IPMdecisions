{
 "cells": [
  {
   "cell_type": "markdown",
   "metadata": {
    "colab_type": "text",
    "id": "view-in-github"
   },
   "source": [
    "<a href=\"https://colab.research.google.com/github/MartinMarzi/IPMdecisions/blob/main/IPMdecisions_DataExploration_colab_1_4_Q1.ipynb\" target=\"_parent\"><img src=\"https://colab.research.google.com/assets/colab-badge.svg\" alt=\"Open In Colab\"/></a>"
   ]
  },
  {
   "cell_type": "code",
   "execution_count": 40,
   "metadata": {
    "id": "QIXLlgjHmZNz"
   },
   "outputs": [],
   "source": [
    "# # For colab\n",
    "# %pip install umap-learn\n",
    "# %pip install hdbscan"
   ]
  },
  {
   "cell_type": "code",
   "execution_count": 41,
   "metadata": {
    "id": "l2iXxyyhkdJ0"
   },
   "outputs": [],
   "source": [
    "import numpy as np\n",
    "import pandas as pd\n",
    "from sklearn.datasets import load_digits\n",
    "from sklearn.model_selection import train_test_split\n",
    "from sklearn.preprocessing import StandardScaler\n",
    "import pandas as pd\n",
    "\n",
    "from pandas.api.types import CategoricalDtype\n",
    "import umap\n",
    "import hdbscan\n",
    "import sklearn.cluster as cluster\n",
    "import matplotlib.pyplot as plt\n",
    "import seaborn as sns\n",
    "import plotly.express as px\n",
    "pd.set_option('max_columns', None)"
   ]
  },
  {
   "cell_type": "code",
   "execution_count": 42,
   "metadata": {
    "id": "WtiRqHhNng-Y"
   },
   "outputs": [],
   "source": [
    "#DATA_FILE = \"data/Farmers_edited data 21.12.2020_IPS_FINAL- WEKA_JM.xlsx\"\n",
    "DATA_FILE = \"/Users/mmarzi/MLprojects/IPMdecisions/data/Consultants_edited-data_21_12_2020_IPS_FINAL-WEKA_JM-izbrani-atributi.xlsx\""
   ]
  },
  {
   "cell_type": "code",
   "execution_count": 43,
   "metadata": {
    "id": "27PBpsaZn6ek"
   },
   "outputs": [
    {
     "data": {
      "text/plain": [
       "(151, 18)"
      ]
     },
     "execution_count": 43,
     "metadata": {},
     "output_type": "execute_result"
    }
   ],
   "source": [
    "# Create dataframe\n",
    "df = pd.read_excel(DATA_FILE, header=2, engine='openpyxl', na_values=['?'], usecols=range(18), skiprows=range(154,158))\n",
    "# Show data size\n",
    "df.shape"
   ]
  },
  {
   "cell_type": "code",
   "execution_count": 44,
   "metadata": {},
   "outputs": [
    {
     "data": {
      "text/html": [
       "<div>\n",
       "<style scoped>\n",
       "    .dataframe tbody tr th:only-of-type {\n",
       "        vertical-align: middle;\n",
       "    }\n",
       "\n",
       "    .dataframe tbody tr th {\n",
       "        vertical-align: top;\n",
       "    }\n",
       "\n",
       "    .dataframe thead th {\n",
       "        text-align: right;\n",
       "    }\n",
       "</style>\n",
       "<table border=\"1\" class=\"dataframe\">\n",
       "  <thead>\n",
       "    <tr style=\"text-align: right;\">\n",
       "      <th></th>\n",
       "      <th>Region_Cat_NO</th>\n",
       "      <th>Country_Cat_NO</th>\n",
       "      <th>Age_Cat_1to3</th>\n",
       "      <th>Gender_1male</th>\n",
       "      <th>Degree_Cat_1to2</th>\n",
       "      <th>Experience_Cat_1to2</th>\n",
       "      <th>Crop_group_Cat_NO</th>\n",
       "      <th>How_often_do_you_use_Cat_1to3</th>\n",
       "      <th>Substitute_or_complement_1Complement</th>\n",
       "      <th>Productivity_improvment_Cat_1to3</th>\n",
       "      <th>Graphics_only</th>\n",
       "      <th>Evidence_required_Cat</th>\n",
       "      <th>Use_same_DSS_than_farmer_Merged1_Cat</th>\n",
       "      <th>Farm_scale_Cat</th>\n",
       "      <th>Speed_internet_Cat</th>\n",
       "      <th>Legislative_requirements_clients</th>\n",
       "      <th>Access_to_marketing_info_about_DSS_Cat</th>\n",
       "      <th>Followed_manufacturers_demo_Cat</th>\n",
       "    </tr>\n",
       "  </thead>\n",
       "  <tbody>\n",
       "    <tr>\n",
       "      <th>0</th>\n",
       "      <td>North_EU</td>\n",
       "      <td>Denmark</td>\n",
       "      <td>2</td>\n",
       "      <td>0</td>\n",
       "      <td>2.0</td>\n",
       "      <td>2.0</td>\n",
       "      <td>1.0</td>\n",
       "      <td>2.0</td>\n",
       "      <td>1.0</td>\n",
       "      <td>3.0</td>\n",
       "      <td>0.0</td>\n",
       "      <td>2.0</td>\n",
       "      <td>1.0</td>\n",
       "      <td>4.0</td>\n",
       "      <td>3.0</td>\n",
       "      <td>1.0</td>\n",
       "      <td>3.0</td>\n",
       "      <td>2.0</td>\n",
       "    </tr>\n",
       "    <tr>\n",
       "      <th>1</th>\n",
       "      <td>North_EU</td>\n",
       "      <td>Denmark</td>\n",
       "      <td>2</td>\n",
       "      <td>0</td>\n",
       "      <td>2.0</td>\n",
       "      <td>2.0</td>\n",
       "      <td>1.0</td>\n",
       "      <td>2.0</td>\n",
       "      <td>1.0</td>\n",
       "      <td>3.0</td>\n",
       "      <td>0.0</td>\n",
       "      <td>3.0</td>\n",
       "      <td>1.0</td>\n",
       "      <td>4.0</td>\n",
       "      <td>2.0</td>\n",
       "      <td>1.0</td>\n",
       "      <td>2.0</td>\n",
       "      <td>2.0</td>\n",
       "    </tr>\n",
       "    <tr>\n",
       "      <th>2</th>\n",
       "      <td>North_EU</td>\n",
       "      <td>Denmark</td>\n",
       "      <td>1</td>\n",
       "      <td>1</td>\n",
       "      <td>2.0</td>\n",
       "      <td>1.0</td>\n",
       "      <td>1.0</td>\n",
       "      <td>2.0</td>\n",
       "      <td>1.0</td>\n",
       "      <td>2.0</td>\n",
       "      <td>0.0</td>\n",
       "      <td>3.0</td>\n",
       "      <td>1.0</td>\n",
       "      <td>3.0</td>\n",
       "      <td>3.0</td>\n",
       "      <td>1.0</td>\n",
       "      <td>3.0</td>\n",
       "      <td>3.0</td>\n",
       "    </tr>\n",
       "    <tr>\n",
       "      <th>3</th>\n",
       "      <td>North_EU</td>\n",
       "      <td>Denmark</td>\n",
       "      <td>2</td>\n",
       "      <td>0</td>\n",
       "      <td>2.0</td>\n",
       "      <td>2.0</td>\n",
       "      <td>1.0</td>\n",
       "      <td>1.0</td>\n",
       "      <td>1.0</td>\n",
       "      <td>3.0</td>\n",
       "      <td>0.0</td>\n",
       "      <td>3.0</td>\n",
       "      <td>1.0</td>\n",
       "      <td>2.0</td>\n",
       "      <td>3.0</td>\n",
       "      <td>1.0</td>\n",
       "      <td>3.0</td>\n",
       "      <td>3.0</td>\n",
       "    </tr>\n",
       "    <tr>\n",
       "      <th>4</th>\n",
       "      <td>North_EU</td>\n",
       "      <td>Denmark</td>\n",
       "      <td>3</td>\n",
       "      <td>1</td>\n",
       "      <td>1.0</td>\n",
       "      <td>2.0</td>\n",
       "      <td>1.0</td>\n",
       "      <td>1.0</td>\n",
       "      <td>1.0</td>\n",
       "      <td>3.0</td>\n",
       "      <td>0.0</td>\n",
       "      <td>3.0</td>\n",
       "      <td>1.0</td>\n",
       "      <td>4.0</td>\n",
       "      <td>2.0</td>\n",
       "      <td>1.0</td>\n",
       "      <td>2.0</td>\n",
       "      <td>1.0</td>\n",
       "    </tr>\n",
       "    <tr>\n",
       "      <th>...</th>\n",
       "      <td>...</td>\n",
       "      <td>...</td>\n",
       "      <td>...</td>\n",
       "      <td>...</td>\n",
       "      <td>...</td>\n",
       "      <td>...</td>\n",
       "      <td>...</td>\n",
       "      <td>...</td>\n",
       "      <td>...</td>\n",
       "      <td>...</td>\n",
       "      <td>...</td>\n",
       "      <td>...</td>\n",
       "      <td>...</td>\n",
       "      <td>...</td>\n",
       "      <td>...</td>\n",
       "      <td>...</td>\n",
       "      <td>...</td>\n",
       "      <td>...</td>\n",
       "    </tr>\n",
       "    <tr>\n",
       "      <th>146</th>\n",
       "      <td>South_EU</td>\n",
       "      <td>Greece</td>\n",
       "      <td>1</td>\n",
       "      <td>1</td>\n",
       "      <td>2.0</td>\n",
       "      <td>1.0</td>\n",
       "      <td>NaN</td>\n",
       "      <td>NaN</td>\n",
       "      <td>1.0</td>\n",
       "      <td>2.0</td>\n",
       "      <td>0.0</td>\n",
       "      <td>1.0</td>\n",
       "      <td>2.0</td>\n",
       "      <td>4.0</td>\n",
       "      <td>3.0</td>\n",
       "      <td>NaN</td>\n",
       "      <td>1.0</td>\n",
       "      <td>1.0</td>\n",
       "    </tr>\n",
       "    <tr>\n",
       "      <th>147</th>\n",
       "      <td>South_EU</td>\n",
       "      <td>Greece</td>\n",
       "      <td>2</td>\n",
       "      <td>0</td>\n",
       "      <td>2.0</td>\n",
       "      <td>2.0</td>\n",
       "      <td>2.0</td>\n",
       "      <td>2.0</td>\n",
       "      <td>1.0</td>\n",
       "      <td>3.0</td>\n",
       "      <td>0.0</td>\n",
       "      <td>3.0</td>\n",
       "      <td>1.0</td>\n",
       "      <td>1.0</td>\n",
       "      <td>2.0</td>\n",
       "      <td>1.0</td>\n",
       "      <td>2.0</td>\n",
       "      <td>2.0</td>\n",
       "    </tr>\n",
       "    <tr>\n",
       "      <th>148</th>\n",
       "      <td>South_EU</td>\n",
       "      <td>Greece</td>\n",
       "      <td>1</td>\n",
       "      <td>1</td>\n",
       "      <td>2.0</td>\n",
       "      <td>1.0</td>\n",
       "      <td>2.0</td>\n",
       "      <td>2.0</td>\n",
       "      <td>1.0</td>\n",
       "      <td>3.0</td>\n",
       "      <td>0.0</td>\n",
       "      <td>3.0</td>\n",
       "      <td>1.0</td>\n",
       "      <td>1.0</td>\n",
       "      <td>2.0</td>\n",
       "      <td>1.0</td>\n",
       "      <td>2.0</td>\n",
       "      <td>1.0</td>\n",
       "    </tr>\n",
       "    <tr>\n",
       "      <th>149</th>\n",
       "      <td>South_EU</td>\n",
       "      <td>Greece</td>\n",
       "      <td>1</td>\n",
       "      <td>0</td>\n",
       "      <td>2.0</td>\n",
       "      <td>1.0</td>\n",
       "      <td>1.0</td>\n",
       "      <td>2.0</td>\n",
       "      <td>1.0</td>\n",
       "      <td>3.0</td>\n",
       "      <td>0.0</td>\n",
       "      <td>3.0</td>\n",
       "      <td>1.0</td>\n",
       "      <td>1.0</td>\n",
       "      <td>2.0</td>\n",
       "      <td>1.0</td>\n",
       "      <td>1.0</td>\n",
       "      <td>2.0</td>\n",
       "    </tr>\n",
       "    <tr>\n",
       "      <th>150</th>\n",
       "      <td>South_EU</td>\n",
       "      <td>Greece</td>\n",
       "      <td>2</td>\n",
       "      <td>1</td>\n",
       "      <td>2.0</td>\n",
       "      <td>2.0</td>\n",
       "      <td>2.0</td>\n",
       "      <td>2.0</td>\n",
       "      <td>1.0</td>\n",
       "      <td>2.0</td>\n",
       "      <td>0.0</td>\n",
       "      <td>1.0</td>\n",
       "      <td>2.0</td>\n",
       "      <td>2.0</td>\n",
       "      <td>3.0</td>\n",
       "      <td>1.0</td>\n",
       "      <td>1.0</td>\n",
       "      <td>1.0</td>\n",
       "    </tr>\n",
       "  </tbody>\n",
       "</table>\n",
       "<p>151 rows × 18 columns</p>\n",
       "</div>"
      ],
      "text/plain": [
       "    Region_Cat_NO Country_Cat_NO  Age_Cat_1to3  Gender_1male  Degree_Cat_1to2  \\\n",
       "0        North_EU        Denmark             2             0              2.0   \n",
       "1        North_EU        Denmark             2             0              2.0   \n",
       "2        North_EU        Denmark             1             1              2.0   \n",
       "3        North_EU        Denmark             2             0              2.0   \n",
       "4        North_EU        Denmark             3             1              1.0   \n",
       "..            ...            ...           ...           ...              ...   \n",
       "146      South_EU         Greece             1             1              2.0   \n",
       "147      South_EU         Greece             2             0              2.0   \n",
       "148      South_EU         Greece             1             1              2.0   \n",
       "149      South_EU         Greece             1             0              2.0   \n",
       "150      South_EU         Greece             2             1              2.0   \n",
       "\n",
       "     Experience_Cat_1to2  Crop_group_Cat_NO  How_often_do_you_use_Cat_1to3  \\\n",
       "0                    2.0                1.0                            2.0   \n",
       "1                    2.0                1.0                            2.0   \n",
       "2                    1.0                1.0                            2.0   \n",
       "3                    2.0                1.0                            1.0   \n",
       "4                    2.0                1.0                            1.0   \n",
       "..                   ...                ...                            ...   \n",
       "146                  1.0                NaN                            NaN   \n",
       "147                  2.0                2.0                            2.0   \n",
       "148                  1.0                2.0                            2.0   \n",
       "149                  1.0                1.0                            2.0   \n",
       "150                  2.0                2.0                            2.0   \n",
       "\n",
       "     Substitute_or_complement_1Complement  Productivity_improvment_Cat_1to3  \\\n",
       "0                                     1.0                               3.0   \n",
       "1                                     1.0                               3.0   \n",
       "2                                     1.0                               2.0   \n",
       "3                                     1.0                               3.0   \n",
       "4                                     1.0                               3.0   \n",
       "..                                    ...                               ...   \n",
       "146                                   1.0                               2.0   \n",
       "147                                   1.0                               3.0   \n",
       "148                                   1.0                               3.0   \n",
       "149                                   1.0                               3.0   \n",
       "150                                   1.0                               2.0   \n",
       "\n",
       "     Graphics_only  Evidence_required_Cat  \\\n",
       "0              0.0                    2.0   \n",
       "1              0.0                    3.0   \n",
       "2              0.0                    3.0   \n",
       "3              0.0                    3.0   \n",
       "4              0.0                    3.0   \n",
       "..             ...                    ...   \n",
       "146            0.0                    1.0   \n",
       "147            0.0                    3.0   \n",
       "148            0.0                    3.0   \n",
       "149            0.0                    3.0   \n",
       "150            0.0                    1.0   \n",
       "\n",
       "     Use_same_DSS_than_farmer_Merged1_Cat  Farm_scale_Cat  Speed_internet_Cat  \\\n",
       "0                                     1.0             4.0                 3.0   \n",
       "1                                     1.0             4.0                 2.0   \n",
       "2                                     1.0             3.0                 3.0   \n",
       "3                                     1.0             2.0                 3.0   \n",
       "4                                     1.0             4.0                 2.0   \n",
       "..                                    ...             ...                 ...   \n",
       "146                                   2.0             4.0                 3.0   \n",
       "147                                   1.0             1.0                 2.0   \n",
       "148                                   1.0             1.0                 2.0   \n",
       "149                                   1.0             1.0                 2.0   \n",
       "150                                   2.0             2.0                 3.0   \n",
       "\n",
       "     Legislative_requirements_clients  Access_to_marketing_info_about_DSS_Cat  \\\n",
       "0                                 1.0                                     3.0   \n",
       "1                                 1.0                                     2.0   \n",
       "2                                 1.0                                     3.0   \n",
       "3                                 1.0                                     3.0   \n",
       "4                                 1.0                                     2.0   \n",
       "..                                ...                                     ...   \n",
       "146                               NaN                                     1.0   \n",
       "147                               1.0                                     2.0   \n",
       "148                               1.0                                     2.0   \n",
       "149                               1.0                                     1.0   \n",
       "150                               1.0                                     1.0   \n",
       "\n",
       "     Followed_manufacturers_demo_Cat  \n",
       "0                                2.0  \n",
       "1                                2.0  \n",
       "2                                3.0  \n",
       "3                                3.0  \n",
       "4                                1.0  \n",
       "..                               ...  \n",
       "146                              1.0  \n",
       "147                              2.0  \n",
       "148                              1.0  \n",
       "149                              2.0  \n",
       "150                              1.0  \n",
       "\n",
       "[151 rows x 18 columns]"
      ]
     },
     "execution_count": 44,
     "metadata": {},
     "output_type": "execute_result"
    }
   ],
   "source": [
    "df"
   ]
  },
  {
   "cell_type": "code",
   "execution_count": 45,
   "metadata": {},
   "outputs": [],
   "source": [
    "# Slice by \"Region\" = north_EU\n",
    "df = df[df.Region_Cat_NO==\"North_EU\"]\n",
    "# Slice by \"Region_Cat_NO\" = Central_EU\n",
    "# df = df[df.Region_Cat_NO==\"Central_EU\"]\n",
    "# Slice by \"Region\" = South_EU\n",
    "# df = df[df.Region_Cat_NO==\"South_EU\"]"
   ]
  },
  {
   "cell_type": "code",
   "execution_count": 46,
   "metadata": {
    "id": "1BwwIb_nqyKm"
   },
   "outputs": [],
   "source": [
    "# # Remove duplicate features and \"Subject\" feature.\n",
    "# dup_feat = [\"Subject\", \"Production_level_1to7\", \"DSS_for_ShortLongTermBothDecision_Cat_NO\", \"Prefered_type_Web_Software_Both_Cat_NO\", \n",
    "#             \"Importance_of_easy_to_use_1to7\", \"Importance_of_easy_to_use_1to2\", \"Importance_of_efficient_1to7\", \"Importance_of_efficient_1to2\", \n",
    "#             \"Importance_low_price_1to7\", \"Importance_low_price_1to2\", \"Importance_polyvalence_1to7\", \"Importance_polyvalence_1to2\", \n",
    "#             \"Enjoy_using_new_techs_1to7\", \"Enjoy_using_new_techs_1to2\", \"Appreciate_change_1to7\", \"Appreciate_change_1to2\",\n",
    "#             \"Trust_in_DSS_1to7\", \"Trust_in_DSS_1to2\", \"Trust_in_colleague_advice_1to7\", \"Trust_in_colleague_advice_1to2\",\n",
    "#             \"Trust_advice_friend_1to7\", \"Trust_advice_friend_1to2\", \"Output_preference_Cat_NO\"] \n",
    "# df_reduced = df.drop(dup_feat, axis=1)"
   ]
  },
  {
   "cell_type": "code",
   "execution_count": 47,
   "metadata": {
    "id": "i0MxT2vNnfrn"
   },
   "outputs": [],
   "source": [
    "# Remove features\n",
    "removed_features = [\"Country_Cat_NO\"]\n",
    "df_reduced = df.copy().drop(removed_features, axis=1)"
   ]
  },
  {
   "cell_type": "code",
   "execution_count": 48,
   "metadata": {},
   "outputs": [],
   "source": [
    "pd.options.display.max_rows = 15"
   ]
  },
  {
   "cell_type": "code",
   "execution_count": 49,
   "metadata": {},
   "outputs": [
    {
     "data": {
      "text/html": [
       "<div>\n",
       "<style scoped>\n",
       "    .dataframe tbody tr th:only-of-type {\n",
       "        vertical-align: middle;\n",
       "    }\n",
       "\n",
       "    .dataframe tbody tr th {\n",
       "        vertical-align: top;\n",
       "    }\n",
       "\n",
       "    .dataframe thead th {\n",
       "        text-align: right;\n",
       "    }\n",
       "</style>\n",
       "<table border=\"1\" class=\"dataframe\">\n",
       "  <thead>\n",
       "    <tr style=\"text-align: right;\">\n",
       "      <th></th>\n",
       "      <th>Region_Cat_NO</th>\n",
       "      <th>Age_Cat_1to3</th>\n",
       "      <th>Gender_1male</th>\n",
       "      <th>Degree_Cat_1to2</th>\n",
       "      <th>Experience_Cat_1to2</th>\n",
       "      <th>Crop_group_Cat_NO</th>\n",
       "      <th>How_often_do_you_use_Cat_1to3</th>\n",
       "      <th>Substitute_or_complement_1Complement</th>\n",
       "      <th>Productivity_improvment_Cat_1to3</th>\n",
       "      <th>Graphics_only</th>\n",
       "      <th>Evidence_required_Cat</th>\n",
       "      <th>Use_same_DSS_than_farmer_Merged1_Cat</th>\n",
       "      <th>Farm_scale_Cat</th>\n",
       "      <th>Speed_internet_Cat</th>\n",
       "      <th>Legislative_requirements_clients</th>\n",
       "      <th>Access_to_marketing_info_about_DSS_Cat</th>\n",
       "      <th>Followed_manufacturers_demo_Cat</th>\n",
       "    </tr>\n",
       "  </thead>\n",
       "  <tbody>\n",
       "    <tr>\n",
       "      <th>0</th>\n",
       "      <td>North_EU</td>\n",
       "      <td>2</td>\n",
       "      <td>0</td>\n",
       "      <td>2.0</td>\n",
       "      <td>2.0</td>\n",
       "      <td>1.0</td>\n",
       "      <td>2.0</td>\n",
       "      <td>1.0</td>\n",
       "      <td>3.0</td>\n",
       "      <td>0.0</td>\n",
       "      <td>2.0</td>\n",
       "      <td>1.0</td>\n",
       "      <td>4.0</td>\n",
       "      <td>3.0</td>\n",
       "      <td>1.0</td>\n",
       "      <td>3.0</td>\n",
       "      <td>2.0</td>\n",
       "    </tr>\n",
       "    <tr>\n",
       "      <th>1</th>\n",
       "      <td>North_EU</td>\n",
       "      <td>2</td>\n",
       "      <td>0</td>\n",
       "      <td>2.0</td>\n",
       "      <td>2.0</td>\n",
       "      <td>1.0</td>\n",
       "      <td>2.0</td>\n",
       "      <td>1.0</td>\n",
       "      <td>3.0</td>\n",
       "      <td>0.0</td>\n",
       "      <td>3.0</td>\n",
       "      <td>1.0</td>\n",
       "      <td>4.0</td>\n",
       "      <td>2.0</td>\n",
       "      <td>1.0</td>\n",
       "      <td>2.0</td>\n",
       "      <td>2.0</td>\n",
       "    </tr>\n",
       "    <tr>\n",
       "      <th>2</th>\n",
       "      <td>North_EU</td>\n",
       "      <td>1</td>\n",
       "      <td>1</td>\n",
       "      <td>2.0</td>\n",
       "      <td>1.0</td>\n",
       "      <td>1.0</td>\n",
       "      <td>2.0</td>\n",
       "      <td>1.0</td>\n",
       "      <td>2.0</td>\n",
       "      <td>0.0</td>\n",
       "      <td>3.0</td>\n",
       "      <td>1.0</td>\n",
       "      <td>3.0</td>\n",
       "      <td>3.0</td>\n",
       "      <td>1.0</td>\n",
       "      <td>3.0</td>\n",
       "      <td>3.0</td>\n",
       "    </tr>\n",
       "    <tr>\n",
       "      <th>3</th>\n",
       "      <td>North_EU</td>\n",
       "      <td>2</td>\n",
       "      <td>0</td>\n",
       "      <td>2.0</td>\n",
       "      <td>2.0</td>\n",
       "      <td>1.0</td>\n",
       "      <td>1.0</td>\n",
       "      <td>1.0</td>\n",
       "      <td>3.0</td>\n",
       "      <td>0.0</td>\n",
       "      <td>3.0</td>\n",
       "      <td>1.0</td>\n",
       "      <td>2.0</td>\n",
       "      <td>3.0</td>\n",
       "      <td>1.0</td>\n",
       "      <td>3.0</td>\n",
       "      <td>3.0</td>\n",
       "    </tr>\n",
       "    <tr>\n",
       "      <th>4</th>\n",
       "      <td>North_EU</td>\n",
       "      <td>3</td>\n",
       "      <td>1</td>\n",
       "      <td>1.0</td>\n",
       "      <td>2.0</td>\n",
       "      <td>1.0</td>\n",
       "      <td>1.0</td>\n",
       "      <td>1.0</td>\n",
       "      <td>3.0</td>\n",
       "      <td>0.0</td>\n",
       "      <td>3.0</td>\n",
       "      <td>1.0</td>\n",
       "      <td>4.0</td>\n",
       "      <td>2.0</td>\n",
       "      <td>1.0</td>\n",
       "      <td>2.0</td>\n",
       "      <td>1.0</td>\n",
       "    </tr>\n",
       "    <tr>\n",
       "      <th>...</th>\n",
       "      <td>...</td>\n",
       "      <td>...</td>\n",
       "      <td>...</td>\n",
       "      <td>...</td>\n",
       "      <td>...</td>\n",
       "      <td>...</td>\n",
       "      <td>...</td>\n",
       "      <td>...</td>\n",
       "      <td>...</td>\n",
       "      <td>...</td>\n",
       "      <td>...</td>\n",
       "      <td>...</td>\n",
       "      <td>...</td>\n",
       "      <td>...</td>\n",
       "      <td>...</td>\n",
       "      <td>...</td>\n",
       "      <td>...</td>\n",
       "    </tr>\n",
       "    <tr>\n",
       "      <th>117</th>\n",
       "      <td>North_EU</td>\n",
       "      <td>1</td>\n",
       "      <td>0</td>\n",
       "      <td>2.0</td>\n",
       "      <td>1.0</td>\n",
       "      <td>1.0</td>\n",
       "      <td>2.0</td>\n",
       "      <td>1.0</td>\n",
       "      <td>3.0</td>\n",
       "      <td>0.0</td>\n",
       "      <td>2.0</td>\n",
       "      <td>1.0</td>\n",
       "      <td>2.0</td>\n",
       "      <td>3.0</td>\n",
       "      <td>1.0</td>\n",
       "      <td>3.0</td>\n",
       "      <td>2.0</td>\n",
       "    </tr>\n",
       "    <tr>\n",
       "      <th>118</th>\n",
       "      <td>North_EU</td>\n",
       "      <td>2</td>\n",
       "      <td>0</td>\n",
       "      <td>2.0</td>\n",
       "      <td>2.0</td>\n",
       "      <td>1.0</td>\n",
       "      <td>2.0</td>\n",
       "      <td>1.0</td>\n",
       "      <td>2.0</td>\n",
       "      <td>1.0</td>\n",
       "      <td>3.0</td>\n",
       "      <td>1.0</td>\n",
       "      <td>2.0</td>\n",
       "      <td>3.0</td>\n",
       "      <td>1.0</td>\n",
       "      <td>2.0</td>\n",
       "      <td>1.0</td>\n",
       "    </tr>\n",
       "    <tr>\n",
       "      <th>119</th>\n",
       "      <td>North_EU</td>\n",
       "      <td>2</td>\n",
       "      <td>0</td>\n",
       "      <td>2.0</td>\n",
       "      <td>2.0</td>\n",
       "      <td>1.0</td>\n",
       "      <td>2.0</td>\n",
       "      <td>1.0</td>\n",
       "      <td>2.0</td>\n",
       "      <td>0.0</td>\n",
       "      <td>3.0</td>\n",
       "      <td>1.0</td>\n",
       "      <td>4.0</td>\n",
       "      <td>3.0</td>\n",
       "      <td>1.0</td>\n",
       "      <td>3.0</td>\n",
       "      <td>2.0</td>\n",
       "    </tr>\n",
       "    <tr>\n",
       "      <th>120</th>\n",
       "      <td>North_EU</td>\n",
       "      <td>3</td>\n",
       "      <td>0</td>\n",
       "      <td>2.0</td>\n",
       "      <td>2.0</td>\n",
       "      <td>1.0</td>\n",
       "      <td>2.0</td>\n",
       "      <td>1.0</td>\n",
       "      <td>2.0</td>\n",
       "      <td>0.0</td>\n",
       "      <td>3.0</td>\n",
       "      <td>1.0</td>\n",
       "      <td>4.0</td>\n",
       "      <td>3.0</td>\n",
       "      <td>1.0</td>\n",
       "      <td>1.0</td>\n",
       "      <td>1.0</td>\n",
       "    </tr>\n",
       "    <tr>\n",
       "      <th>121</th>\n",
       "      <td>North_EU</td>\n",
       "      <td>1</td>\n",
       "      <td>0</td>\n",
       "      <td>2.0</td>\n",
       "      <td>1.0</td>\n",
       "      <td>1.0</td>\n",
       "      <td>2.0</td>\n",
       "      <td>1.0</td>\n",
       "      <td>2.0</td>\n",
       "      <td>0.0</td>\n",
       "      <td>3.0</td>\n",
       "      <td>1.0</td>\n",
       "      <td>4.0</td>\n",
       "      <td>3.0</td>\n",
       "      <td>1.0</td>\n",
       "      <td>1.0</td>\n",
       "      <td>1.0</td>\n",
       "    </tr>\n",
       "  </tbody>\n",
       "</table>\n",
       "<p>40 rows × 17 columns</p>\n",
       "</div>"
      ],
      "text/plain": [
       "    Region_Cat_NO  Age_Cat_1to3  Gender_1male  Degree_Cat_1to2  \\\n",
       "0        North_EU             2             0              2.0   \n",
       "1        North_EU             2             0              2.0   \n",
       "2        North_EU             1             1              2.0   \n",
       "3        North_EU             2             0              2.0   \n",
       "4        North_EU             3             1              1.0   \n",
       "..            ...           ...           ...              ...   \n",
       "117      North_EU             1             0              2.0   \n",
       "118      North_EU             2             0              2.0   \n",
       "119      North_EU             2             0              2.0   \n",
       "120      North_EU             3             0              2.0   \n",
       "121      North_EU             1             0              2.0   \n",
       "\n",
       "     Experience_Cat_1to2  Crop_group_Cat_NO  How_often_do_you_use_Cat_1to3  \\\n",
       "0                    2.0                1.0                            2.0   \n",
       "1                    2.0                1.0                            2.0   \n",
       "2                    1.0                1.0                            2.0   \n",
       "3                    2.0                1.0                            1.0   \n",
       "4                    2.0                1.0                            1.0   \n",
       "..                   ...                ...                            ...   \n",
       "117                  1.0                1.0                            2.0   \n",
       "118                  2.0                1.0                            2.0   \n",
       "119                  2.0                1.0                            2.0   \n",
       "120                  2.0                1.0                            2.0   \n",
       "121                  1.0                1.0                            2.0   \n",
       "\n",
       "     Substitute_or_complement_1Complement  Productivity_improvment_Cat_1to3  \\\n",
       "0                                     1.0                               3.0   \n",
       "1                                     1.0                               3.0   \n",
       "2                                     1.0                               2.0   \n",
       "3                                     1.0                               3.0   \n",
       "4                                     1.0                               3.0   \n",
       "..                                    ...                               ...   \n",
       "117                                   1.0                               3.0   \n",
       "118                                   1.0                               2.0   \n",
       "119                                   1.0                               2.0   \n",
       "120                                   1.0                               2.0   \n",
       "121                                   1.0                               2.0   \n",
       "\n",
       "     Graphics_only  Evidence_required_Cat  \\\n",
       "0              0.0                    2.0   \n",
       "1              0.0                    3.0   \n",
       "2              0.0                    3.0   \n",
       "3              0.0                    3.0   \n",
       "4              0.0                    3.0   \n",
       "..             ...                    ...   \n",
       "117            0.0                    2.0   \n",
       "118            1.0                    3.0   \n",
       "119            0.0                    3.0   \n",
       "120            0.0                    3.0   \n",
       "121            0.0                    3.0   \n",
       "\n",
       "     Use_same_DSS_than_farmer_Merged1_Cat  Farm_scale_Cat  Speed_internet_Cat  \\\n",
       "0                                     1.0             4.0                 3.0   \n",
       "1                                     1.0             4.0                 2.0   \n",
       "2                                     1.0             3.0                 3.0   \n",
       "3                                     1.0             2.0                 3.0   \n",
       "4                                     1.0             4.0                 2.0   \n",
       "..                                    ...             ...                 ...   \n",
       "117                                   1.0             2.0                 3.0   \n",
       "118                                   1.0             2.0                 3.0   \n",
       "119                                   1.0             4.0                 3.0   \n",
       "120                                   1.0             4.0                 3.0   \n",
       "121                                   1.0             4.0                 3.0   \n",
       "\n",
       "     Legislative_requirements_clients  Access_to_marketing_info_about_DSS_Cat  \\\n",
       "0                                 1.0                                     3.0   \n",
       "1                                 1.0                                     2.0   \n",
       "2                                 1.0                                     3.0   \n",
       "3                                 1.0                                     3.0   \n",
       "4                                 1.0                                     2.0   \n",
       "..                                ...                                     ...   \n",
       "117                               1.0                                     3.0   \n",
       "118                               1.0                                     2.0   \n",
       "119                               1.0                                     3.0   \n",
       "120                               1.0                                     1.0   \n",
       "121                               1.0                                     1.0   \n",
       "\n",
       "     Followed_manufacturers_demo_Cat  \n",
       "0                                2.0  \n",
       "1                                2.0  \n",
       "2                                3.0  \n",
       "3                                3.0  \n",
       "4                                1.0  \n",
       "..                               ...  \n",
       "117                              2.0  \n",
       "118                              1.0  \n",
       "119                              2.0  \n",
       "120                              1.0  \n",
       "121                              1.0  \n",
       "\n",
       "[40 rows x 17 columns]"
      ]
     },
     "execution_count": 49,
     "metadata": {},
     "output_type": "execute_result"
    }
   ],
   "source": [
    "df_reduced"
   ]
  },
  {
   "cell_type": "code",
   "execution_count": 50,
   "metadata": {
    "id": "YnIWAHzVl2Ns"
   },
   "outputs": [],
   "source": [
    "# If no ohe\n",
    "ohe_df = df_reduced.copy()\n",
    "\n",
    "# One hot encode categorical data.\n",
    "# ohe_df = pd.get_dummies(df_reduced, columns=[\"Region_Cat_NO\", \"Crop_group_Cat_NO\"])\n",
    "\n",
    "# One hot encode categorical data by region.\n",
    "# ohe_df = pd.get_dummies(df_reduced, columns=[\"Crop_group_Cat_NO\"])"
   ]
  },
  {
   "cell_type": "code",
   "execution_count": 51,
   "metadata": {},
   "outputs": [
    {
     "data": {
      "text/html": [
       "<div>\n",
       "<style scoped>\n",
       "    .dataframe tbody tr th:only-of-type {\n",
       "        vertical-align: middle;\n",
       "    }\n",
       "\n",
       "    .dataframe tbody tr th {\n",
       "        vertical-align: top;\n",
       "    }\n",
       "\n",
       "    .dataframe thead th {\n",
       "        text-align: right;\n",
       "    }\n",
       "</style>\n",
       "<table border=\"1\" class=\"dataframe\">\n",
       "  <thead>\n",
       "    <tr style=\"text-align: right;\">\n",
       "      <th></th>\n",
       "      <th>Region_Cat_NO</th>\n",
       "      <th>Age_Cat_1to3</th>\n",
       "      <th>Gender_1male</th>\n",
       "      <th>Degree_Cat_1to2</th>\n",
       "      <th>Experience_Cat_1to2</th>\n",
       "      <th>Crop_group_Cat_NO</th>\n",
       "      <th>How_often_do_you_use_Cat_1to3</th>\n",
       "      <th>Substitute_or_complement_1Complement</th>\n",
       "      <th>Productivity_improvment_Cat_1to3</th>\n",
       "      <th>Graphics_only</th>\n",
       "      <th>Evidence_required_Cat</th>\n",
       "      <th>Use_same_DSS_than_farmer_Merged1_Cat</th>\n",
       "      <th>Farm_scale_Cat</th>\n",
       "      <th>Speed_internet_Cat</th>\n",
       "      <th>Legislative_requirements_clients</th>\n",
       "      <th>Access_to_marketing_info_about_DSS_Cat</th>\n",
       "      <th>Followed_manufacturers_demo_Cat</th>\n",
       "    </tr>\n",
       "  </thead>\n",
       "  <tbody>\n",
       "    <tr>\n",
       "      <th>0</th>\n",
       "      <td>North_EU</td>\n",
       "      <td>2</td>\n",
       "      <td>0</td>\n",
       "      <td>2.0</td>\n",
       "      <td>2.0</td>\n",
       "      <td>1.0</td>\n",
       "      <td>2.0</td>\n",
       "      <td>1.0</td>\n",
       "      <td>3.0</td>\n",
       "      <td>0.0</td>\n",
       "      <td>2.0</td>\n",
       "      <td>1.0</td>\n",
       "      <td>4.0</td>\n",
       "      <td>3.0</td>\n",
       "      <td>1.0</td>\n",
       "      <td>3.0</td>\n",
       "      <td>2.0</td>\n",
       "    </tr>\n",
       "    <tr>\n",
       "      <th>1</th>\n",
       "      <td>North_EU</td>\n",
       "      <td>2</td>\n",
       "      <td>0</td>\n",
       "      <td>2.0</td>\n",
       "      <td>2.0</td>\n",
       "      <td>1.0</td>\n",
       "      <td>2.0</td>\n",
       "      <td>1.0</td>\n",
       "      <td>3.0</td>\n",
       "      <td>0.0</td>\n",
       "      <td>3.0</td>\n",
       "      <td>1.0</td>\n",
       "      <td>4.0</td>\n",
       "      <td>2.0</td>\n",
       "      <td>1.0</td>\n",
       "      <td>2.0</td>\n",
       "      <td>2.0</td>\n",
       "    </tr>\n",
       "    <tr>\n",
       "      <th>2</th>\n",
       "      <td>North_EU</td>\n",
       "      <td>1</td>\n",
       "      <td>1</td>\n",
       "      <td>2.0</td>\n",
       "      <td>1.0</td>\n",
       "      <td>1.0</td>\n",
       "      <td>2.0</td>\n",
       "      <td>1.0</td>\n",
       "      <td>2.0</td>\n",
       "      <td>0.0</td>\n",
       "      <td>3.0</td>\n",
       "      <td>1.0</td>\n",
       "      <td>3.0</td>\n",
       "      <td>3.0</td>\n",
       "      <td>1.0</td>\n",
       "      <td>3.0</td>\n",
       "      <td>3.0</td>\n",
       "    </tr>\n",
       "    <tr>\n",
       "      <th>3</th>\n",
       "      <td>North_EU</td>\n",
       "      <td>2</td>\n",
       "      <td>0</td>\n",
       "      <td>2.0</td>\n",
       "      <td>2.0</td>\n",
       "      <td>1.0</td>\n",
       "      <td>1.0</td>\n",
       "      <td>1.0</td>\n",
       "      <td>3.0</td>\n",
       "      <td>0.0</td>\n",
       "      <td>3.0</td>\n",
       "      <td>1.0</td>\n",
       "      <td>2.0</td>\n",
       "      <td>3.0</td>\n",
       "      <td>1.0</td>\n",
       "      <td>3.0</td>\n",
       "      <td>3.0</td>\n",
       "    </tr>\n",
       "    <tr>\n",
       "      <th>4</th>\n",
       "      <td>North_EU</td>\n",
       "      <td>3</td>\n",
       "      <td>1</td>\n",
       "      <td>1.0</td>\n",
       "      <td>2.0</td>\n",
       "      <td>1.0</td>\n",
       "      <td>1.0</td>\n",
       "      <td>1.0</td>\n",
       "      <td>3.0</td>\n",
       "      <td>0.0</td>\n",
       "      <td>3.0</td>\n",
       "      <td>1.0</td>\n",
       "      <td>4.0</td>\n",
       "      <td>2.0</td>\n",
       "      <td>1.0</td>\n",
       "      <td>2.0</td>\n",
       "      <td>1.0</td>\n",
       "    </tr>\n",
       "    <tr>\n",
       "      <th>...</th>\n",
       "      <td>...</td>\n",
       "      <td>...</td>\n",
       "      <td>...</td>\n",
       "      <td>...</td>\n",
       "      <td>...</td>\n",
       "      <td>...</td>\n",
       "      <td>...</td>\n",
       "      <td>...</td>\n",
       "      <td>...</td>\n",
       "      <td>...</td>\n",
       "      <td>...</td>\n",
       "      <td>...</td>\n",
       "      <td>...</td>\n",
       "      <td>...</td>\n",
       "      <td>...</td>\n",
       "      <td>...</td>\n",
       "      <td>...</td>\n",
       "    </tr>\n",
       "    <tr>\n",
       "      <th>117</th>\n",
       "      <td>North_EU</td>\n",
       "      <td>1</td>\n",
       "      <td>0</td>\n",
       "      <td>2.0</td>\n",
       "      <td>1.0</td>\n",
       "      <td>1.0</td>\n",
       "      <td>2.0</td>\n",
       "      <td>1.0</td>\n",
       "      <td>3.0</td>\n",
       "      <td>0.0</td>\n",
       "      <td>2.0</td>\n",
       "      <td>1.0</td>\n",
       "      <td>2.0</td>\n",
       "      <td>3.0</td>\n",
       "      <td>1.0</td>\n",
       "      <td>3.0</td>\n",
       "      <td>2.0</td>\n",
       "    </tr>\n",
       "    <tr>\n",
       "      <th>118</th>\n",
       "      <td>North_EU</td>\n",
       "      <td>2</td>\n",
       "      <td>0</td>\n",
       "      <td>2.0</td>\n",
       "      <td>2.0</td>\n",
       "      <td>1.0</td>\n",
       "      <td>2.0</td>\n",
       "      <td>1.0</td>\n",
       "      <td>2.0</td>\n",
       "      <td>1.0</td>\n",
       "      <td>3.0</td>\n",
       "      <td>1.0</td>\n",
       "      <td>2.0</td>\n",
       "      <td>3.0</td>\n",
       "      <td>1.0</td>\n",
       "      <td>2.0</td>\n",
       "      <td>1.0</td>\n",
       "    </tr>\n",
       "    <tr>\n",
       "      <th>119</th>\n",
       "      <td>North_EU</td>\n",
       "      <td>2</td>\n",
       "      <td>0</td>\n",
       "      <td>2.0</td>\n",
       "      <td>2.0</td>\n",
       "      <td>1.0</td>\n",
       "      <td>2.0</td>\n",
       "      <td>1.0</td>\n",
       "      <td>2.0</td>\n",
       "      <td>0.0</td>\n",
       "      <td>3.0</td>\n",
       "      <td>1.0</td>\n",
       "      <td>4.0</td>\n",
       "      <td>3.0</td>\n",
       "      <td>1.0</td>\n",
       "      <td>3.0</td>\n",
       "      <td>2.0</td>\n",
       "    </tr>\n",
       "    <tr>\n",
       "      <th>120</th>\n",
       "      <td>North_EU</td>\n",
       "      <td>3</td>\n",
       "      <td>0</td>\n",
       "      <td>2.0</td>\n",
       "      <td>2.0</td>\n",
       "      <td>1.0</td>\n",
       "      <td>2.0</td>\n",
       "      <td>1.0</td>\n",
       "      <td>2.0</td>\n",
       "      <td>0.0</td>\n",
       "      <td>3.0</td>\n",
       "      <td>1.0</td>\n",
       "      <td>4.0</td>\n",
       "      <td>3.0</td>\n",
       "      <td>1.0</td>\n",
       "      <td>1.0</td>\n",
       "      <td>1.0</td>\n",
       "    </tr>\n",
       "    <tr>\n",
       "      <th>121</th>\n",
       "      <td>North_EU</td>\n",
       "      <td>1</td>\n",
       "      <td>0</td>\n",
       "      <td>2.0</td>\n",
       "      <td>1.0</td>\n",
       "      <td>1.0</td>\n",
       "      <td>2.0</td>\n",
       "      <td>1.0</td>\n",
       "      <td>2.0</td>\n",
       "      <td>0.0</td>\n",
       "      <td>3.0</td>\n",
       "      <td>1.0</td>\n",
       "      <td>4.0</td>\n",
       "      <td>3.0</td>\n",
       "      <td>1.0</td>\n",
       "      <td>1.0</td>\n",
       "      <td>1.0</td>\n",
       "    </tr>\n",
       "  </tbody>\n",
       "</table>\n",
       "<p>40 rows × 17 columns</p>\n",
       "</div>"
      ],
      "text/plain": [
       "    Region_Cat_NO  Age_Cat_1to3  Gender_1male  Degree_Cat_1to2  \\\n",
       "0        North_EU             2             0              2.0   \n",
       "1        North_EU             2             0              2.0   \n",
       "2        North_EU             1             1              2.0   \n",
       "3        North_EU             2             0              2.0   \n",
       "4        North_EU             3             1              1.0   \n",
       "..            ...           ...           ...              ...   \n",
       "117      North_EU             1             0              2.0   \n",
       "118      North_EU             2             0              2.0   \n",
       "119      North_EU             2             0              2.0   \n",
       "120      North_EU             3             0              2.0   \n",
       "121      North_EU             1             0              2.0   \n",
       "\n",
       "     Experience_Cat_1to2  Crop_group_Cat_NO  How_often_do_you_use_Cat_1to3  \\\n",
       "0                    2.0                1.0                            2.0   \n",
       "1                    2.0                1.0                            2.0   \n",
       "2                    1.0                1.0                            2.0   \n",
       "3                    2.0                1.0                            1.0   \n",
       "4                    2.0                1.0                            1.0   \n",
       "..                   ...                ...                            ...   \n",
       "117                  1.0                1.0                            2.0   \n",
       "118                  2.0                1.0                            2.0   \n",
       "119                  2.0                1.0                            2.0   \n",
       "120                  2.0                1.0                            2.0   \n",
       "121                  1.0                1.0                            2.0   \n",
       "\n",
       "     Substitute_or_complement_1Complement  Productivity_improvment_Cat_1to3  \\\n",
       "0                                     1.0                               3.0   \n",
       "1                                     1.0                               3.0   \n",
       "2                                     1.0                               2.0   \n",
       "3                                     1.0                               3.0   \n",
       "4                                     1.0                               3.0   \n",
       "..                                    ...                               ...   \n",
       "117                                   1.0                               3.0   \n",
       "118                                   1.0                               2.0   \n",
       "119                                   1.0                               2.0   \n",
       "120                                   1.0                               2.0   \n",
       "121                                   1.0                               2.0   \n",
       "\n",
       "     Graphics_only  Evidence_required_Cat  \\\n",
       "0              0.0                    2.0   \n",
       "1              0.0                    3.0   \n",
       "2              0.0                    3.0   \n",
       "3              0.0                    3.0   \n",
       "4              0.0                    3.0   \n",
       "..             ...                    ...   \n",
       "117            0.0                    2.0   \n",
       "118            1.0                    3.0   \n",
       "119            0.0                    3.0   \n",
       "120            0.0                    3.0   \n",
       "121            0.0                    3.0   \n",
       "\n",
       "     Use_same_DSS_than_farmer_Merged1_Cat  Farm_scale_Cat  Speed_internet_Cat  \\\n",
       "0                                     1.0             4.0                 3.0   \n",
       "1                                     1.0             4.0                 2.0   \n",
       "2                                     1.0             3.0                 3.0   \n",
       "3                                     1.0             2.0                 3.0   \n",
       "4                                     1.0             4.0                 2.0   \n",
       "..                                    ...             ...                 ...   \n",
       "117                                   1.0             2.0                 3.0   \n",
       "118                                   1.0             2.0                 3.0   \n",
       "119                                   1.0             4.0                 3.0   \n",
       "120                                   1.0             4.0                 3.0   \n",
       "121                                   1.0             4.0                 3.0   \n",
       "\n",
       "     Legislative_requirements_clients  Access_to_marketing_info_about_DSS_Cat  \\\n",
       "0                                 1.0                                     3.0   \n",
       "1                                 1.0                                     2.0   \n",
       "2                                 1.0                                     3.0   \n",
       "3                                 1.0                                     3.0   \n",
       "4                                 1.0                                     2.0   \n",
       "..                                ...                                     ...   \n",
       "117                               1.0                                     3.0   \n",
       "118                               1.0                                     2.0   \n",
       "119                               1.0                                     3.0   \n",
       "120                               1.0                                     1.0   \n",
       "121                               1.0                                     1.0   \n",
       "\n",
       "     Followed_manufacturers_demo_Cat  \n",
       "0                                2.0  \n",
       "1                                2.0  \n",
       "2                                3.0  \n",
       "3                                3.0  \n",
       "4                                1.0  \n",
       "..                               ...  \n",
       "117                              2.0  \n",
       "118                              1.0  \n",
       "119                              2.0  \n",
       "120                              1.0  \n",
       "121                              1.0  \n",
       "\n",
       "[40 rows x 17 columns]"
      ]
     },
     "execution_count": 51,
     "metadata": {},
     "output_type": "execute_result"
    }
   ],
   "source": [
    "ohe_df"
   ]
  },
  {
   "cell_type": "markdown",
   "metadata": {
    "id": "Q8zS_VOMl2Ns"
   },
   "source": [
    "### Missing values"
   ]
  },
  {
   "cell_type": "code",
   "execution_count": 52,
   "metadata": {
    "colab": {
     "base_uri": "https://localhost:8080/"
    },
    "id": "-lQe012UBGev",
    "outputId": "111877ef-19c1-424d-85c0-db314faede7b"
   },
   "outputs": [
    {
     "data": {
      "text/plain": [
       "Region_Cat_NO                             0\n",
       "Age_Cat_1to3                              0\n",
       "Gender_1male                              0\n",
       "Degree_Cat_1to2                           0\n",
       "Experience_Cat_1to2                       1\n",
       "                                         ..\n",
       "Farm_scale_Cat                            1\n",
       "Speed_internet_Cat                        2\n",
       "Legislative_requirements_clients          1\n",
       "Access_to_marketing_info_about_DSS_Cat    1\n",
       "Followed_manufacturers_demo_Cat           1\n",
       "Length: 17, dtype: int64"
      ]
     },
     "execution_count": 52,
     "metadata": {},
     "output_type": "execute_result"
    }
   ],
   "source": [
    "# Show Missing values\n",
    "ohe_df.isnull().sum()"
   ]
  },
  {
   "cell_type": "code",
   "execution_count": 53,
   "metadata": {},
   "outputs": [],
   "source": [
    "ohe_df_reduced = ohe_df.copy().drop([\"Region_Cat_NO\", \"Use_same_DSS_than_farmer_Merged1_Cat\"], axis=1)"
   ]
  },
  {
   "cell_type": "code",
   "execution_count": 54,
   "metadata": {
    "id": "xV8O9ayCl2Ns"
   },
   "outputs": [],
   "source": [
    "df_noNaN = ohe_df_reduced.dropna(how=\"any\").copy()\n",
    "#df_noNaN = ohe_df.copy().fillna(ohe_df.mean())\n",
    "#df_noNaN = ohe_df.copy().fillna(ohe_df.median())\n",
    "#df_noNaN = ohe_df.copy().fillna(ohe_df.mode())\n",
    "#df_noNaN = ohe_df.interpolate(method=\"linear\", axis=0).copy()\n",
    "#df_noNaN = df.dropna(how=\"any\").copy()"
   ]
  },
  {
   "cell_type": "code",
   "execution_count": 55,
   "metadata": {
    "colab": {
     "base_uri": "https://localhost:8080/",
     "height": 439
    },
    "id": "Mvr-4Iank4fq",
    "outputId": "ee4f8bb4-9730-4aef-faae-1a2aa1f0bfe8"
   },
   "outputs": [
    {
     "data": {
      "text/plain": [
       "(36, 15)"
      ]
     },
     "execution_count": 55,
     "metadata": {},
     "output_type": "execute_result"
    }
   ],
   "source": [
    "df_noNaN = df_noNaN.astype(\"int64\")\n",
    "df_noNaN.shape"
   ]
  },
  {
   "cell_type": "code",
   "execution_count": 56,
   "metadata": {},
   "outputs": [
    {
     "data": {
      "text/html": [
       "<div>\n",
       "<style scoped>\n",
       "    .dataframe tbody tr th:only-of-type {\n",
       "        vertical-align: middle;\n",
       "    }\n",
       "\n",
       "    .dataframe tbody tr th {\n",
       "        vertical-align: top;\n",
       "    }\n",
       "\n",
       "    .dataframe thead th {\n",
       "        text-align: right;\n",
       "    }\n",
       "</style>\n",
       "<table border=\"1\" class=\"dataframe\">\n",
       "  <thead>\n",
       "    <tr style=\"text-align: right;\">\n",
       "      <th></th>\n",
       "      <th>Age_Cat_1to3</th>\n",
       "      <th>Gender_1male</th>\n",
       "      <th>Degree_Cat_1to2</th>\n",
       "      <th>Experience_Cat_1to2</th>\n",
       "      <th>Crop_group_Cat_NO</th>\n",
       "      <th>How_often_do_you_use_Cat_1to3</th>\n",
       "      <th>Substitute_or_complement_1Complement</th>\n",
       "      <th>Productivity_improvment_Cat_1to3</th>\n",
       "      <th>Graphics_only</th>\n",
       "      <th>Evidence_required_Cat</th>\n",
       "      <th>Farm_scale_Cat</th>\n",
       "      <th>Speed_internet_Cat</th>\n",
       "      <th>Legislative_requirements_clients</th>\n",
       "      <th>Access_to_marketing_info_about_DSS_Cat</th>\n",
       "      <th>Followed_manufacturers_demo_Cat</th>\n",
       "    </tr>\n",
       "  </thead>\n",
       "  <tbody>\n",
       "    <tr>\n",
       "      <th>0</th>\n",
       "      <td>2</td>\n",
       "      <td>0</td>\n",
       "      <td>2</td>\n",
       "      <td>2</td>\n",
       "      <td>1</td>\n",
       "      <td>2</td>\n",
       "      <td>1</td>\n",
       "      <td>3</td>\n",
       "      <td>0</td>\n",
       "      <td>2</td>\n",
       "      <td>4</td>\n",
       "      <td>3</td>\n",
       "      <td>1</td>\n",
       "      <td>3</td>\n",
       "      <td>2</td>\n",
       "    </tr>\n",
       "    <tr>\n",
       "      <th>1</th>\n",
       "      <td>2</td>\n",
       "      <td>0</td>\n",
       "      <td>2</td>\n",
       "      <td>2</td>\n",
       "      <td>1</td>\n",
       "      <td>2</td>\n",
       "      <td>1</td>\n",
       "      <td>3</td>\n",
       "      <td>0</td>\n",
       "      <td>3</td>\n",
       "      <td>4</td>\n",
       "      <td>2</td>\n",
       "      <td>1</td>\n",
       "      <td>2</td>\n",
       "      <td>2</td>\n",
       "    </tr>\n",
       "    <tr>\n",
       "      <th>2</th>\n",
       "      <td>1</td>\n",
       "      <td>1</td>\n",
       "      <td>2</td>\n",
       "      <td>1</td>\n",
       "      <td>1</td>\n",
       "      <td>2</td>\n",
       "      <td>1</td>\n",
       "      <td>2</td>\n",
       "      <td>0</td>\n",
       "      <td>3</td>\n",
       "      <td>3</td>\n",
       "      <td>3</td>\n",
       "      <td>1</td>\n",
       "      <td>3</td>\n",
       "      <td>3</td>\n",
       "    </tr>\n",
       "    <tr>\n",
       "      <th>3</th>\n",
       "      <td>2</td>\n",
       "      <td>0</td>\n",
       "      <td>2</td>\n",
       "      <td>2</td>\n",
       "      <td>1</td>\n",
       "      <td>1</td>\n",
       "      <td>1</td>\n",
       "      <td>3</td>\n",
       "      <td>0</td>\n",
       "      <td>3</td>\n",
       "      <td>2</td>\n",
       "      <td>3</td>\n",
       "      <td>1</td>\n",
       "      <td>3</td>\n",
       "      <td>3</td>\n",
       "    </tr>\n",
       "    <tr>\n",
       "      <th>4</th>\n",
       "      <td>3</td>\n",
       "      <td>1</td>\n",
       "      <td>1</td>\n",
       "      <td>2</td>\n",
       "      <td>1</td>\n",
       "      <td>1</td>\n",
       "      <td>1</td>\n",
       "      <td>3</td>\n",
       "      <td>0</td>\n",
       "      <td>3</td>\n",
       "      <td>4</td>\n",
       "      <td>2</td>\n",
       "      <td>1</td>\n",
       "      <td>2</td>\n",
       "      <td>1</td>\n",
       "    </tr>\n",
       "    <tr>\n",
       "      <th>...</th>\n",
       "      <td>...</td>\n",
       "      <td>...</td>\n",
       "      <td>...</td>\n",
       "      <td>...</td>\n",
       "      <td>...</td>\n",
       "      <td>...</td>\n",
       "      <td>...</td>\n",
       "      <td>...</td>\n",
       "      <td>...</td>\n",
       "      <td>...</td>\n",
       "      <td>...</td>\n",
       "      <td>...</td>\n",
       "      <td>...</td>\n",
       "      <td>...</td>\n",
       "      <td>...</td>\n",
       "    </tr>\n",
       "    <tr>\n",
       "      <th>117</th>\n",
       "      <td>1</td>\n",
       "      <td>0</td>\n",
       "      <td>2</td>\n",
       "      <td>1</td>\n",
       "      <td>1</td>\n",
       "      <td>2</td>\n",
       "      <td>1</td>\n",
       "      <td>3</td>\n",
       "      <td>0</td>\n",
       "      <td>2</td>\n",
       "      <td>2</td>\n",
       "      <td>3</td>\n",
       "      <td>1</td>\n",
       "      <td>3</td>\n",
       "      <td>2</td>\n",
       "    </tr>\n",
       "    <tr>\n",
       "      <th>118</th>\n",
       "      <td>2</td>\n",
       "      <td>0</td>\n",
       "      <td>2</td>\n",
       "      <td>2</td>\n",
       "      <td>1</td>\n",
       "      <td>2</td>\n",
       "      <td>1</td>\n",
       "      <td>2</td>\n",
       "      <td>1</td>\n",
       "      <td>3</td>\n",
       "      <td>2</td>\n",
       "      <td>3</td>\n",
       "      <td>1</td>\n",
       "      <td>2</td>\n",
       "      <td>1</td>\n",
       "    </tr>\n",
       "    <tr>\n",
       "      <th>119</th>\n",
       "      <td>2</td>\n",
       "      <td>0</td>\n",
       "      <td>2</td>\n",
       "      <td>2</td>\n",
       "      <td>1</td>\n",
       "      <td>2</td>\n",
       "      <td>1</td>\n",
       "      <td>2</td>\n",
       "      <td>0</td>\n",
       "      <td>3</td>\n",
       "      <td>4</td>\n",
       "      <td>3</td>\n",
       "      <td>1</td>\n",
       "      <td>3</td>\n",
       "      <td>2</td>\n",
       "    </tr>\n",
       "    <tr>\n",
       "      <th>120</th>\n",
       "      <td>3</td>\n",
       "      <td>0</td>\n",
       "      <td>2</td>\n",
       "      <td>2</td>\n",
       "      <td>1</td>\n",
       "      <td>2</td>\n",
       "      <td>1</td>\n",
       "      <td>2</td>\n",
       "      <td>0</td>\n",
       "      <td>3</td>\n",
       "      <td>4</td>\n",
       "      <td>3</td>\n",
       "      <td>1</td>\n",
       "      <td>1</td>\n",
       "      <td>1</td>\n",
       "    </tr>\n",
       "    <tr>\n",
       "      <th>121</th>\n",
       "      <td>1</td>\n",
       "      <td>0</td>\n",
       "      <td>2</td>\n",
       "      <td>1</td>\n",
       "      <td>1</td>\n",
       "      <td>2</td>\n",
       "      <td>1</td>\n",
       "      <td>2</td>\n",
       "      <td>0</td>\n",
       "      <td>3</td>\n",
       "      <td>4</td>\n",
       "      <td>3</td>\n",
       "      <td>1</td>\n",
       "      <td>1</td>\n",
       "      <td>1</td>\n",
       "    </tr>\n",
       "  </tbody>\n",
       "</table>\n",
       "<p>36 rows × 15 columns</p>\n",
       "</div>"
      ],
      "text/plain": [
       "     Age_Cat_1to3  Gender_1male  Degree_Cat_1to2  Experience_Cat_1to2  \\\n",
       "0               2             0                2                    2   \n",
       "1               2             0                2                    2   \n",
       "2               1             1                2                    1   \n",
       "3               2             0                2                    2   \n",
       "4               3             1                1                    2   \n",
       "..            ...           ...              ...                  ...   \n",
       "117             1             0                2                    1   \n",
       "118             2             0                2                    2   \n",
       "119             2             0                2                    2   \n",
       "120             3             0                2                    2   \n",
       "121             1             0                2                    1   \n",
       "\n",
       "     Crop_group_Cat_NO  How_often_do_you_use_Cat_1to3  \\\n",
       "0                    1                              2   \n",
       "1                    1                              2   \n",
       "2                    1                              2   \n",
       "3                    1                              1   \n",
       "4                    1                              1   \n",
       "..                 ...                            ...   \n",
       "117                  1                              2   \n",
       "118                  1                              2   \n",
       "119                  1                              2   \n",
       "120                  1                              2   \n",
       "121                  1                              2   \n",
       "\n",
       "     Substitute_or_complement_1Complement  Productivity_improvment_Cat_1to3  \\\n",
       "0                                       1                                 3   \n",
       "1                                       1                                 3   \n",
       "2                                       1                                 2   \n",
       "3                                       1                                 3   \n",
       "4                                       1                                 3   \n",
       "..                                    ...                               ...   \n",
       "117                                     1                                 3   \n",
       "118                                     1                                 2   \n",
       "119                                     1                                 2   \n",
       "120                                     1                                 2   \n",
       "121                                     1                                 2   \n",
       "\n",
       "     Graphics_only  Evidence_required_Cat  Farm_scale_Cat  Speed_internet_Cat  \\\n",
       "0                0                      2               4                   3   \n",
       "1                0                      3               4                   2   \n",
       "2                0                      3               3                   3   \n",
       "3                0                      3               2                   3   \n",
       "4                0                      3               4                   2   \n",
       "..             ...                    ...             ...                 ...   \n",
       "117              0                      2               2                   3   \n",
       "118              1                      3               2                   3   \n",
       "119              0                      3               4                   3   \n",
       "120              0                      3               4                   3   \n",
       "121              0                      3               4                   3   \n",
       "\n",
       "     Legislative_requirements_clients  Access_to_marketing_info_about_DSS_Cat  \\\n",
       "0                                   1                                       3   \n",
       "1                                   1                                       2   \n",
       "2                                   1                                       3   \n",
       "3                                   1                                       3   \n",
       "4                                   1                                       2   \n",
       "..                                ...                                     ...   \n",
       "117                                 1                                       3   \n",
       "118                                 1                                       2   \n",
       "119                                 1                                       3   \n",
       "120                                 1                                       1   \n",
       "121                                 1                                       1   \n",
       "\n",
       "     Followed_manufacturers_demo_Cat  \n",
       "0                                  2  \n",
       "1                                  2  \n",
       "2                                  3  \n",
       "3                                  3  \n",
       "4                                  1  \n",
       "..                               ...  \n",
       "117                                2  \n",
       "118                                1  \n",
       "119                                2  \n",
       "120                                1  \n",
       "121                                1  \n",
       "\n",
       "[36 rows x 15 columns]"
      ]
     },
     "execution_count": 56,
     "metadata": {},
     "output_type": "execute_result"
    }
   ],
   "source": [
    "df_noNaN"
   ]
  },
  {
   "cell_type": "markdown",
   "metadata": {
    "id": "PSEfCZT_l2Ns"
   },
   "source": [
    "### Separating dataframes with ordinal and non-ordinal categorical data"
   ]
  },
  {
   "cell_type": "code",
   "execution_count": 57,
   "metadata": {
    "id": "OKOE6OA3uP5B"
   },
   "outputs": [],
   "source": [
    "# Adapted for Question #1 \"Already_used_DSS\"\n",
    "# List of ordinal features\n",
    "ord_feat = [\"Age_Cat_1to3\", \"Degree_Cat_1to2\", \"Experience_Cat_1to2\", \"How_often_do_you_use_Cat_1to3\", \"Productivity_improvment_Cat_1to3\", \n",
    "           \"Evidence_required_Cat\", \"Farm_scale_Cat\", \"Speed_internet_Cat\", \"Access_to_marketing_info_about_DSS_Cat\", \"Followed_manufacturers_demo_Cat\"]\n",
    "\n",
    "# No numeric features\n",
    "\n",
    "# df with ordinal features only\n",
    "ord_df = df_noNaN[ord_feat]\n",
    "\n",
    "# Extract column names\n",
    "all_col_names = list(df_noNaN.columns)\n",
    "ord_col_names = list(ord_df.columns)\n",
    "nom_col_names = [_ for _ in all_col_names if _ not in ord_col_names]\n",
    "\n",
    "# List of nominal features\n",
    "nom_feat = nom_col_names.copy()\n",
    "\n",
    "# df with nominal features only \n",
    "nom_df = df_noNaN[nom_col_names]"
   ]
  },
  {
   "cell_type": "code",
   "execution_count": 58,
   "metadata": {},
   "outputs": [
    {
     "data": {
      "text/html": [
       "<div>\n",
       "<style scoped>\n",
       "    .dataframe tbody tr th:only-of-type {\n",
       "        vertical-align: middle;\n",
       "    }\n",
       "\n",
       "    .dataframe tbody tr th {\n",
       "        vertical-align: top;\n",
       "    }\n",
       "\n",
       "    .dataframe thead th {\n",
       "        text-align: right;\n",
       "    }\n",
       "</style>\n",
       "<table border=\"1\" class=\"dataframe\">\n",
       "  <thead>\n",
       "    <tr style=\"text-align: right;\">\n",
       "      <th></th>\n",
       "      <th>Gender_1male</th>\n",
       "      <th>Crop_group_Cat_NO</th>\n",
       "      <th>Substitute_or_complement_1Complement</th>\n",
       "      <th>Graphics_only</th>\n",
       "      <th>Legislative_requirements_clients</th>\n",
       "    </tr>\n",
       "  </thead>\n",
       "  <tbody>\n",
       "    <tr>\n",
       "      <th>0</th>\n",
       "      <td>0</td>\n",
       "      <td>1</td>\n",
       "      <td>1</td>\n",
       "      <td>0</td>\n",
       "      <td>1</td>\n",
       "    </tr>\n",
       "    <tr>\n",
       "      <th>1</th>\n",
       "      <td>0</td>\n",
       "      <td>1</td>\n",
       "      <td>1</td>\n",
       "      <td>0</td>\n",
       "      <td>1</td>\n",
       "    </tr>\n",
       "    <tr>\n",
       "      <th>2</th>\n",
       "      <td>1</td>\n",
       "      <td>1</td>\n",
       "      <td>1</td>\n",
       "      <td>0</td>\n",
       "      <td>1</td>\n",
       "    </tr>\n",
       "    <tr>\n",
       "      <th>3</th>\n",
       "      <td>0</td>\n",
       "      <td>1</td>\n",
       "      <td>1</td>\n",
       "      <td>0</td>\n",
       "      <td>1</td>\n",
       "    </tr>\n",
       "    <tr>\n",
       "      <th>4</th>\n",
       "      <td>1</td>\n",
       "      <td>1</td>\n",
       "      <td>1</td>\n",
       "      <td>0</td>\n",
       "      <td>1</td>\n",
       "    </tr>\n",
       "    <tr>\n",
       "      <th>...</th>\n",
       "      <td>...</td>\n",
       "      <td>...</td>\n",
       "      <td>...</td>\n",
       "      <td>...</td>\n",
       "      <td>...</td>\n",
       "    </tr>\n",
       "    <tr>\n",
       "      <th>117</th>\n",
       "      <td>0</td>\n",
       "      <td>1</td>\n",
       "      <td>1</td>\n",
       "      <td>0</td>\n",
       "      <td>1</td>\n",
       "    </tr>\n",
       "    <tr>\n",
       "      <th>118</th>\n",
       "      <td>0</td>\n",
       "      <td>1</td>\n",
       "      <td>1</td>\n",
       "      <td>1</td>\n",
       "      <td>1</td>\n",
       "    </tr>\n",
       "    <tr>\n",
       "      <th>119</th>\n",
       "      <td>0</td>\n",
       "      <td>1</td>\n",
       "      <td>1</td>\n",
       "      <td>0</td>\n",
       "      <td>1</td>\n",
       "    </tr>\n",
       "    <tr>\n",
       "      <th>120</th>\n",
       "      <td>0</td>\n",
       "      <td>1</td>\n",
       "      <td>1</td>\n",
       "      <td>0</td>\n",
       "      <td>1</td>\n",
       "    </tr>\n",
       "    <tr>\n",
       "      <th>121</th>\n",
       "      <td>0</td>\n",
       "      <td>1</td>\n",
       "      <td>1</td>\n",
       "      <td>0</td>\n",
       "      <td>1</td>\n",
       "    </tr>\n",
       "  </tbody>\n",
       "</table>\n",
       "<p>36 rows × 5 columns</p>\n",
       "</div>"
      ],
      "text/plain": [
       "     Gender_1male  Crop_group_Cat_NO  Substitute_or_complement_1Complement  \\\n",
       "0               0                  1                                     1   \n",
       "1               0                  1                                     1   \n",
       "2               1                  1                                     1   \n",
       "3               0                  1                                     1   \n",
       "4               1                  1                                     1   \n",
       "..            ...                ...                                   ...   \n",
       "117             0                  1                                     1   \n",
       "118             0                  1                                     1   \n",
       "119             0                  1                                     1   \n",
       "120             0                  1                                     1   \n",
       "121             0                  1                                     1   \n",
       "\n",
       "     Graphics_only  Legislative_requirements_clients  \n",
       "0                0                                 1  \n",
       "1                0                                 1  \n",
       "2                0                                 1  \n",
       "3                0                                 1  \n",
       "4                0                                 1  \n",
       "..             ...                               ...  \n",
       "117              0                                 1  \n",
       "118              1                                 1  \n",
       "119              0                                 1  \n",
       "120              0                                 1  \n",
       "121              0                                 1  \n",
       "\n",
       "[36 rows x 5 columns]"
      ]
     },
     "execution_count": 58,
     "metadata": {},
     "output_type": "execute_result"
    }
   ],
   "source": [
    "# ord_df\n",
    "nom_df"
   ]
  },
  {
   "cell_type": "markdown",
   "metadata": {
    "id": "s0YJRtEPvdzU"
   },
   "source": [
    "# Dimensionality reduction"
   ]
  },
  {
   "cell_type": "markdown",
   "metadata": {
    "id": "ZqAja1cXl2Nv"
   },
   "source": [
    "### Ordinal features"
   ]
  },
  {
   "cell_type": "code",
   "execution_count": 59,
   "metadata": {
    "colab": {
     "base_uri": "https://localhost:8080/",
     "height": 905
    },
    "id": "V1svODxIWrh3",
    "outputId": "bdd9ec65-fdb7-4831-99f2-b19fce4d4229"
   },
   "outputs": [
    {
     "data": {
      "text/plain": [
       "Text(0.5, 1.0, 'UMAP projection of ordinal IPM consultant data')"
      ]
     },
     "execution_count": 59,
     "metadata": {},
     "output_type": "execute_result"
    },
    {
     "data": {
      "image/png": "[encoded data removed]",
      "text/plain": [
       "<Figure size 504x504 with 1 Axes>"
      ]
     },
     "metadata": {},
     "output_type": "display_data"
    }
   ],
   "source": [
    "# Standardisation\n",
    "scaled_array = StandardScaler().fit_transform(ord_df)\n",
    "scaled_df = pd.DataFrame(scaled_array, columns=ord_df.columns)\n",
    "\n",
    "# Mapping\n",
    "reducer = umap.UMAP(n_neighbors=5, min_dist=0.5, n_components=2, metric=\"euclidean\", random_state=123)\n",
    "ord_embedding = reducer.fit_transform(scaled_df)\n",
    "\n",
    "sns.set(style='white', context='notebook', rc={'figure.figsize':(14,10)})\n",
    "fig, ax = plt.subplots(figsize=(7,7))\n",
    "xs = ord_embedding[:, 0]\n",
    "ys = ord_embedding[:, 1] \n",
    "\n",
    "ax.scatter(xs, ys, c=[sns.color_palette()[int(x)] for x in ord_df['How_often_do_you_use_Cat_1to3']])\n",
    "for i, val in enumerate(df_noNaN.index):\n",
    "#for i, val in enumerate(df_noNaN[\"Income_Cat\"].values.tolist()):\n",
    "    ax.annotate(str(int(val)), (xs[i], ys[i]), fontsize=9)\n",
    "plt.title('UMAP projection of ordinal IPM consultant data')"
   ]
  },
  {
   "cell_type": "markdown",
   "metadata": {
    "id": "ckHl71Acl2Nv"
   },
   "source": [
    "### Nominal features"
   ]
  },
  {
   "cell_type": "code",
   "execution_count": 60,
   "metadata": {
    "colab": {
     "base_uri": "https://localhost:8080/",
     "height": 532
    },
    "id": "nzzM68bcl2Nv",
    "outputId": "456118fc-2ea8-4dff-9896-a3749652903b"
   },
   "outputs": [
    {
     "name": "stderr",
     "output_type": "stream",
     "text": [
      "/Users/mmarzi/.pyenv/versions/3.8.0/envs/graphs/lib/python3.8/site-packages/umap/umap_.py:1760: UserWarning: gradient function is not yet implemented for hamming distance metric; inverse_transform will be unavailable\n",
      "  warn(\n"
     ]
    },
    {
     "data": {
      "text/plain": [
       "Text(0.5, 1.0, 'UMAP projection of nominal IPM consultant data')"
      ]
     },
     "execution_count": 60,
     "metadata": {},
     "output_type": "execute_result"
    },
    {
     "data": {
      "image/png": "[encoded data removed]",
      "text/plain": [
       "<Figure size 504x504 with 1 Axes>"
      ]
     },
     "metadata": {},
     "output_type": "display_data"
    }
   ],
   "source": [
    "# scaled_array = StandardScaler().fit_transform(nom_df)\n",
    "# scaled_df = pd.DataFrame(scaled_array, columns=nom_df.columns)\n",
    "\n",
    "reducer = umap.UMAP(n_neighbors=10, min_dist=0.9, n_components=2, metric=\"hamming\", random_state=123)\n",
    "nom_embedding = reducer.fit_transform(nom_df)\n",
    "\n",
    "fig, ax = plt.subplots(figsize=(7,7))\n",
    "xs = nom_embedding[:, 0]\n",
    "ys = nom_embedding[:, 1] \n",
    "\n",
    "ax.scatter(xs, ys, c=[sns.color_palette()[int(x)] for x in df_noNaN[\"Gender_1male\"]])\n",
    "\n",
    "for i, val in enumerate(df_noNaN.index):\n",
    "#for i, val in enumerate(df_noNaN['Income_Cat'].values.tolist()):\n",
    "    ax.annotate(str(int(val)), (xs[i], ys[i]), fontsize=9)\n",
    "plt.title('UMAP projection of nominal IPM consultant data')\n",
    "\n",
    "# naredi for loop da odstranjaš posamično atribute"
   ]
  },
  {
   "cell_type": "markdown",
   "metadata": {
    "id": "5xE9G0XHl2Nw"
   },
   "source": [
    "### Combine nominal and ordinal/numeric feature maps"
   ]
  },
  {
   "cell_type": "code",
   "execution_count": 61,
   "metadata": {
    "id": "NvMmOL7Sl2Nw"
   },
   "outputs": [],
   "source": [
    "# combine mappings\n",
    "intersection_embedding = nom_embedding * ord_embedding\n",
    "union_embedding = nom_embedding + ord_embedding"
   ]
  },
  {
   "cell_type": "code",
   "execution_count": 62,
   "metadata": {},
   "outputs": [],
   "source": [
    "# # coloring according to region\n",
    "# colors = []\n",
    "# for index, data in df_noNaN.iterrows():\n",
    "#     if data[\"Region_Cat_NO_North_EU\"]  == 1:\n",
    "#         colors.append(\"red\")\n",
    "#     elif data [\"Region_Cat_NO_Central_EU\"] == 1:\n",
    "#         colors.append(\"green\")\n",
    "#     elif data [\"Region_Cat_NO_South_EU\"] == 1:\n",
    "#         colors.append(\"blue\")\n",
    "#     else:\n",
    "#         raise ValueError(\"invalid ohe\")"
   ]
  },
  {
   "cell_type": "code",
   "execution_count": 63,
   "metadata": {
    "colab": {
     "base_uri": "https://localhost:8080/",
     "height": 464
    },
    "id": "cv-qnMwYl2Nx",
    "outputId": "37d1eab3-ebaf-4179-ebc4-064154ed181f"
   },
   "outputs": [
    {
     "data": {
      "text/plain": [
       "Text(0.5, 1.0, 'UMAP projection of IPM consultant intersection data')"
      ]
     },
     "execution_count": 63,
     "metadata": {},
     "output_type": "execute_result"
    },
    {
     "data": {
      "image/png": "[encoded data removed]",
      "text/plain": [
       "<Figure size 504x504 with 1 Axes>"
      ]
     },
     "metadata": {},
     "output_type": "display_data"
    }
   ],
   "source": [
    "# plot intersection 2D embedding\n",
    "fig, ax = plt.subplots(figsize=(7,7))\n",
    "xs = intersection_embedding[:, 0]\n",
    "ys = intersection_embedding[:, 1] \n",
    "\n",
    "ax.scatter(xs, ys, c=[sns.color_palette()[int(x)] for x in ord_df['How_often_do_you_use_Cat_1to3']])\n",
    "\n",
    "for i, val in enumerate(df_noNaN.index):\n",
    "#for i, val in enumerate(df_noNaN['Income_Cat'].values.tolist()):\n",
    "    ax.annotate(str(int(val)), (xs[i], ys[i]), fontsize=9)\n",
    "plt.title('UMAP projection of IPM consultant intersection data')"
   ]
  },
  {
   "cell_type": "code",
   "execution_count": 64,
   "metadata": {
    "colab": {
     "base_uri": "https://localhost:8080/",
     "height": 980
    },
    "id": "-5FJameXl2Nw",
    "outputId": "9c842f9d-132f-4656-9db3-d7fe263170f0"
   },
   "outputs": [
    {
     "data": {
      "text/plain": [
       "Text(0.5, 1.0, 'UMAP projection of IPM consultant union data')"
      ]
     },
     "execution_count": 64,
     "metadata": {},
     "output_type": "execute_result"
    },
    {
     "data": {
      "image/png": "[encoded data removed]",
      "text/plain": [
       "<Figure size 504x504 with 1 Axes>"
      ]
     },
     "metadata": {},
     "output_type": "display_data"
    }
   ],
   "source": [
    "# plot union 2D embedding\n",
    "fig, ax = plt.subplots(figsize=(7,7))\n",
    "xs = union_embedding[:, 0]\n",
    "ys = union_embedding[:, 1] \n",
    "\n",
    "ax.scatter(xs, ys, c=[sns.color_palette()[int(x)] for x in df_noNaN['How_often_do_you_use_Cat_1to3']])\n",
    "# ax.scatter(xs, ys, c=colors) \n",
    "\n",
    "\n",
    "for i, val in enumerate(df_noNaN.index):\n",
    "#for i, val in enumerate(df_noNaN['Income_Cat'].values.tolist()):\n",
    "    ax.annotate(str(int(val)), (xs[i], ys[i]), fontsize=9)\n",
    "plt.title('UMAP projection of IPM consultant union data')"
   ]
  },
  {
   "cell_type": "markdown",
   "metadata": {
    "id": "1coJnky8vgQC"
   },
   "source": [
    "# CLUSTERING"
   ]
  },
  {
   "cell_type": "code",
   "execution_count": 65,
   "metadata": {
    "id": "RhuVUl9Dl2Nx"
   },
   "outputs": [
    {
     "data": {
      "text/plain": [
       "Text(0.5, 1.0, 'K-means clusters of UMAP projection of IPM consultant intersection data')"
      ]
     },
     "execution_count": 65,
     "metadata": {},
     "output_type": "execute_result"
    },
    {
     "data": {
      "image/png": "[encoded data removed]",
      "text/plain": [
       "<Figure size 504x504 with 1 Axes>"
      ]
     },
     "metadata": {},
     "output_type": "display_data"
    }
   ],
   "source": [
    "# k-means clustering 2D intersection emnbedding\n",
    "km_2D_inters_clusters = cluster.KMeans(n_clusters=2).fit_predict(intersection_embedding)\n",
    "\n",
    "# plot\n",
    "fig, ax = plt.subplots(figsize=(7,7))\n",
    "ax.scatter(intersection_embedding[:, 0], intersection_embedding[:, 1], c=[sns.color_palette()[int(x)] for x in df_noNaN['How_often_do_you_use_Cat_1to3']], s=30, cmap='cool')\n",
    "# ax.scatter(intersection_embedding[:, 0], intersection_embedding[:, 1], c=colors, s=30, cmap='cool')\n",
    "\n",
    "# Add cluster text\n",
    "for i, val in enumerate(km_2D_inters_clusters.tolist()):\n",
    "    ax.annotate(str(int(val)), (intersection_embedding[:, 0][i], intersection_embedding[:, 1][i]), fontsize=10)\n",
    "plt.title('K-means clusters of UMAP projection of IPM consultant intersection data')"
   ]
  },
  {
   "cell_type": "code",
   "execution_count": 66,
   "metadata": {
    "id": "JyUk7XEpl2Nx"
   },
   "outputs": [
    {
     "name": "stderr",
     "output_type": "stream",
     "text": [
      "*c* argument looks like a single numeric RGB or RGBA sequence, which should be avoided as value-mapping will have precedence in case its length matches with *x* & *y*.  Please use the *color* keyword-argument or provide a 2D array with a single row if you intend to specify the same RGB or RGBA value for all points.\n"
     ]
    },
    {
     "data": {
      "text/plain": [
       "Text(0.5, 1.0, 'HDBscan clusters of UMAP projection of IPM consultant intersection data')"
      ]
     },
     "execution_count": 66,
     "metadata": {},
     "output_type": "execute_result"
    },
    {
     "data": {
      "image/png": "[encoded data removed]",
      "text/plain": [
       "<Figure size 504x504 with 1 Axes>"
      ]
     },
     "metadata": {},
     "output_type": "display_data"
    }
   ],
   "source": [
    "# hdbscan clustering 2D intersection emnbedding\n",
    "clusterer = hdbscan.HDBSCAN(min_cluster_size=5, min_samples=4)\n",
    "hdbscan_2D_inters_clusters = clusterer.fit_predict(intersection_embedding)\n",
    "\n",
    "fig, ax = plt.subplots(figsize=(7,7))\n",
    "\n",
    "clustered = (hdbscan_2D_inters_clusters >= 0)\n",
    "ax.scatter(intersection_embedding[~clustered, 0],\n",
    "            intersection_embedding[~clustered, 1],\n",
    "            c=(0.5, 0.5, 0.5),\n",
    "            s=50,\n",
    "            alpha=0.3)\n",
    "\n",
    "ax.scatter(intersection_embedding[clustered, 0],\n",
    "            intersection_embedding[clustered, 1],\n",
    "            c=hdbscan_2D_inters_clusters[clustered],\n",
    "            s=50,\n",
    "            cmap='cool')\n",
    "\n",
    "# ax.scatter(intersection_embedding[clustered, 0],\n",
    "#             intersection_embedding[clustered, 1],\n",
    "#             c=colors,\n",
    "#             s=50,\n",
    "#             cmap='cool')\n",
    "\n",
    "for i, val in enumerate(hdbscan_2D_inters_clusters):\n",
    "    ax.annotate(str(int(val)), (intersection_embedding[:, 0][i], intersection_embedding[:, 1][i]), fontsize=13)\n",
    "\n",
    "plt.title('HDBscan clusters of UMAP projection of IPM consultant intersection data')"
   ]
  },
  {
   "cell_type": "code",
   "execution_count": 67,
   "metadata": {
    "id": "zGU60byuva5K"
   },
   "outputs": [
    {
     "data": {
      "text/plain": [
       "Text(0.5, 1.0, 'K-means clusters of UMAP projection of IPM consultant union data')"
      ]
     },
     "execution_count": 67,
     "metadata": {},
     "output_type": "execute_result"
    },
    {
     "data": {
      "image/png": "[encoded data removed]",
      "text/plain": [
       "<Figure size 504x504 with 1 Axes>"
      ]
     },
     "metadata": {},
     "output_type": "display_data"
    }
   ],
   "source": [
    "# kmeans clustering 2D union emnbedding\n",
    "km_2D_union_clusters = cluster.KMeans(n_clusters=2).fit_predict(union_embedding)\n",
    "#kmeans_labels\n",
    "\n",
    "fig, ax = plt.subplots(figsize=(7,7))\n",
    "ax.scatter(union_embedding[:, 0], union_embedding[:, 1], c=km_2D_union_clusters, s=30, cmap='cool')\n",
    "\n",
    "# daj clustre (številke) gor v umap\n",
    "for i, val in enumerate(km_2D_union_clusters.tolist()):\n",
    "    ax.annotate(str(int(val)), (union_embedding[:, 0][i], union_embedding[:, 1][i]), fontsize=10)\n",
    "\n",
    "plt.title('K-means clusters of UMAP projection of IPM consultant union data')"
   ]
  },
  {
   "cell_type": "code",
   "execution_count": 71,
   "metadata": {
    "id": "aESi6aQdxYRH"
   },
   "outputs": [
    {
     "name": "stderr",
     "output_type": "stream",
     "text": [
      "*c* argument looks like a single numeric RGB or RGBA sequence, which should be avoided as value-mapping will have precedence in case its length matches with *x* & *y*.  Please use the *color* keyword-argument or provide a 2D array with a single row if you intend to specify the same RGB or RGBA value for all points.\n"
     ]
    },
    {
     "data": {
      "text/plain": [
       "Text(0.5, 1.0, 'HDBscan clusters of UMAP projection of IPM consultant union data')"
      ]
     },
     "execution_count": 71,
     "metadata": {},
     "output_type": "execute_result"
    },
    {
     "data": {
      "image/png": "[encoded data removed]",
      "text/plain": [
       "<Figure size 504x504 with 1 Axes>"
      ]
     },
     "metadata": {},
     "output_type": "display_data"
    }
   ],
   "source": [
    "# hdbscan clustering 2D union emnbedding\n",
    "clusterer = hdbscan.HDBSCAN(min_cluster_size=5, min_samples=4)\n",
    "hdbscan_2D_union_clusters = clusterer.fit_predict(union_embedding)\n",
    "\n",
    "fig, ax = plt.subplots(figsize=(7,7))\n",
    "\n",
    "clustered = (hdbscan_2D_union_clusters >= 0)\n",
    "ax.scatter(union_embedding[~clustered, 0],\n",
    "            union_embedding[~clustered, 1],\n",
    "            c=(0.5, 0.5, 0.5),\n",
    "            s=50,\n",
    "            alpha=0.3)\n",
    "\n",
    "ax.scatter(union_embedding[clustered, 0],\n",
    "            union_embedding[clustered, 1],\n",
    "            c=hdbscan_2D_union_clusters[clustered],\n",
    "            s=50,\n",
    "            cmap='cool')\n",
    "\n",
    "for i, val in enumerate(hdbscan_2D_union_clusters):\n",
    "    ax.annotate(str(int(val)), (union_embedding[:, 0][i], union_embedding[:, 1][i]), fontsize=13)\n",
    "\n",
    "plt.title('HDBscan clusters of UMAP projection of IPM consultant union data')"
   ]
  },
  {
   "cell_type": "markdown",
   "metadata": {
    "id": "xkt-aK6cl2Ny"
   },
   "source": [
    "## Interactive 3D Visualisation"
   ]
  },
  {
   "cell_type": "code",
   "execution_count": 69,
   "metadata": {
    "id": "v58bdpdel2Ny"
   },
   "outputs": [],
   "source": [
    "# # 3D embedding\n",
    "# ord_reducer3d = umap.UMAP(n_neighbors=5, min_dist=0.1, n_components=3, metric=\"manhattan\", random_state=123)\n",
    "# ord_embedding3d = ord_reducer3d.fit_transform(ordnum_df)\n",
    "\n",
    "# nom_reducer3d = umap.UMAP(n_neighbors=5, min_dist=0.1, n_components=3, metric=\"dice\", random_state=123)\n",
    "# nom_embedding3d = nom_reducer3d.fit_transform(nom_df)\n",
    "\n",
    "# # combine mappings\n",
    "# intersection_embedding3d = nom_embedding3d * ord_embedding3d\n",
    "# union_embedding3d = nom_embedding3d + ord_embedding3d\n",
    "\n",
    "# # hdbscan\n",
    "# intersection_clusters = hdbscan.HDBSCAN(min_samples=10, min_cluster_size=10).fit_predict(intersection_embedding3d)\n",
    "# union_clusters = hdbscan.HDBSCAN(min_samples=10, min_cluster_size=10).fit_predict(union_embedding3d)\n",
    "# print(\"intersection_clusters :\", intersection_clusters)\n",
    "# print(\"union_clusters :\", union_clusters)"
   ]
  },
  {
   "cell_type": "markdown",
   "metadata": {
    "id": "cAv_eErWl2Ny"
   },
   "source": [
    "### Plotly visualisation"
   ]
  },
  {
   "cell_type": "code",
   "execution_count": 70,
   "metadata": {
    "id": "a-6DtV_zl2Nz"
   },
   "outputs": [
    {
     "ename": "NameError",
     "evalue": "name 'intersection_embedding3d' is not defined",
     "output_type": "error",
     "traceback": [
      "\u001b[0;31m---------------------------------------------------------------------------\u001b[0m",
      "\u001b[0;31mNameError\u001b[0m                                 Traceback (most recent call last)",
      "\u001b[0;32m/var/folders/4p/mr19cxrs6_z3dsfws0cjcwfw0000gn/T/ipykernel_70219/3330093117.py\u001b[0m in \u001b[0;36m<module>\u001b[0;34m\u001b[0m\n\u001b[1;32m      1\u001b[0m \u001b[0;31m# 3D dataframes\u001b[0m\u001b[0;34m\u001b[0m\u001b[0;34m\u001b[0m\u001b[0;34m\u001b[0m\u001b[0m\n\u001b[0;32m----> 2\u001b[0;31m \u001b[0mintersection3d_df\u001b[0m \u001b[0;34m=\u001b[0m \u001b[0mpd\u001b[0m\u001b[0;34m.\u001b[0m\u001b[0mDataFrame\u001b[0m\u001b[0;34m(\u001b[0m\u001b[0mdata\u001b[0m\u001b[0;34m=\u001b[0m\u001b[0mintersection_embedding3d\u001b[0m\u001b[0;34m,\u001b[0m \u001b[0mcolumns\u001b[0m\u001b[0;34m=\u001b[0m\u001b[0;34m[\u001b[0m\u001b[0;34m\"x\"\u001b[0m\u001b[0;34m,\u001b[0m \u001b[0;34m\"y\"\u001b[0m\u001b[0;34m,\u001b[0m \u001b[0;34m\"z\"\u001b[0m\u001b[0;34m]\u001b[0m\u001b[0;34m)\u001b[0m\u001b[0;34m\u001b[0m\u001b[0;34m\u001b[0m\u001b[0m\n\u001b[0m\u001b[1;32m      3\u001b[0m \u001b[0mintersection3d_df\u001b[0m\u001b[0;34m[\u001b[0m\u001b[0;34m\"clusters\"\u001b[0m\u001b[0;34m]\u001b[0m \u001b[0;34m=\u001b[0m \u001b[0mlist\u001b[0m\u001b[0;34m(\u001b[0m\u001b[0mmap\u001b[0m\u001b[0;34m(\u001b[0m\u001b[0mstr\u001b[0m\u001b[0;34m,\u001b[0m \u001b[0mintersection_clusters\u001b[0m\u001b[0;34m)\u001b[0m\u001b[0;34m)\u001b[0m\u001b[0;34m\u001b[0m\u001b[0;34m\u001b[0m\u001b[0m\n\u001b[1;32m      4\u001b[0m \u001b[0munion3d_df\u001b[0m \u001b[0;34m=\u001b[0m \u001b[0mpd\u001b[0m\u001b[0;34m.\u001b[0m\u001b[0mDataFrame\u001b[0m\u001b[0;34m(\u001b[0m\u001b[0mdata\u001b[0m\u001b[0;34m=\u001b[0m\u001b[0munion_embedding3d\u001b[0m\u001b[0;34m,\u001b[0m \u001b[0mcolumns\u001b[0m\u001b[0;34m=\u001b[0m\u001b[0;34m[\u001b[0m\u001b[0;34m\"x\"\u001b[0m\u001b[0;34m,\u001b[0m \u001b[0;34m\"y\"\u001b[0m\u001b[0;34m,\u001b[0m \u001b[0;34m\"z\"\u001b[0m\u001b[0;34m]\u001b[0m\u001b[0;34m)\u001b[0m\u001b[0;34m\u001b[0m\u001b[0;34m\u001b[0m\u001b[0m\n\u001b[1;32m      5\u001b[0m \u001b[0munion3d_df\u001b[0m\u001b[0;34m[\u001b[0m\u001b[0;34m\"clusters\"\u001b[0m\u001b[0;34m]\u001b[0m \u001b[0;34m=\u001b[0m \u001b[0mlist\u001b[0m\u001b[0;34m(\u001b[0m\u001b[0mmap\u001b[0m\u001b[0;34m(\u001b[0m\u001b[0mstr\u001b[0m\u001b[0;34m,\u001b[0m \u001b[0munion_clusters\u001b[0m\u001b[0;34m)\u001b[0m\u001b[0;34m)\u001b[0m\u001b[0;34m\u001b[0m\u001b[0;34m\u001b[0m\u001b[0m\n",
      "\u001b[0;31mNameError\u001b[0m: name 'intersection_embedding3d' is not defined"
     ]
    }
   ],
   "source": [
    "# 3D dataframes\n",
    "intersection3d_df = pd.DataFrame(data=intersection_embedding3d, columns=[\"x\", \"y\", \"z\"])\n",
    "intersection3d_df[\"clusters\"] = list(map(str, intersection_clusters))\n",
    "union3d_df = pd.DataFrame(data=union_embedding3d, columns=[\"x\", \"y\", \"z\"])\n",
    "union3d_df[\"clusters\"] = list(map(str, union_clusters))"
   ]
  },
  {
   "cell_type": "code",
   "execution_count": null,
   "metadata": {
    "id": "45A5Qo3Ql2Nz"
   },
   "outputs": [],
   "source": [
    "# Intersection embedding cluster visualisation \n",
    "fig = px.scatter_3d(intersection3d_df, \"x\",\"y\",\"z\", color=\"clusters\", text=df_noNaN[\"Already_used_DSS\"], opacity=0.8, \n",
    "                    title=\"Intersection 3D embedding of farmers IPM data\")\n",
    "fig.show()"
   ]
  },
  {
   "cell_type": "code",
   "execution_count": null,
   "metadata": {
    "id": "MQ3UT6dB1Lp5"
   },
   "outputs": [],
   "source": [
    "fig.write_html(\"IPM_DataEmbedding_q1.html\")"
   ]
  },
  {
   "cell_type": "code",
   "execution_count": null,
   "metadata": {
    "id": "r6OTdtXFl2Nz"
   },
   "outputs": [],
   "source": [
    "# Union embedding cluster visualisation \n",
    "fig = px.scatter_3d(union3d_df, \"x\",\"y\",\"z\", color=\"clusters\", text=df_noNaN[\"Already_used_DSS\"], opacity=0.5, \n",
    "                    title=\"Union 3D embedding of farmers IPM data\")\n",
    "fig.write_html(\"output/IPM_Q1.html\")\n",
    "fig.show()"
   ]
  },
  {
   "cell_type": "code",
   "execution_count": null,
   "metadata": {},
   "outputs": [],
   "source": []
  },
  {
   "cell_type": "markdown",
   "metadata": {
    "id": "Os2IRjA7l2Ny"
   },
   "source": [
    "# Cluster explanation "
   ]
  },
  {
   "cell_type": "code",
   "execution_count": null,
   "metadata": {},
   "outputs": [],
   "source": [
    "# df without ohe, redone form start!\n",
    "df_noNaN"
   ]
  },
  {
   "cell_type": "code",
   "execution_count": null,
   "metadata": {
    "id": "bTxXmEg4l2Ny"
   },
   "outputs": [],
   "source": [
    "# DataFrame for classification with clusters from embedding3d\n",
    "df_noNaN[\"clusters\"] = hdbscan_2D_inters_clusters\n",
    "df_clst = df_noNaN.copy()"
   ]
  },
  {
   "cell_type": "code",
   "execution_count": null,
   "metadata": {},
   "outputs": [],
   "source": [
    "df_clst"
   ]
  },
  {
   "cell_type": "code",
   "execution_count": null,
   "metadata": {
    "id": "wKi2X2wu0qFV"
   },
   "outputs": [],
   "source": [
    "# # Export csv with clusters\n",
    "# df_clst.to_csv(\"IPM_consultants-data&clusters.csv\", sep=\",\", na_rep=\"?\", index=False)\n",
    "\n",
    "# Export csv with clusters \"Region\" = north_EU\n",
    "df_clst.to_csv(\"IPM_consultants-data&clusters_north_EU.csv\", sep=\",\", na_rep=\"?\", index=False)\n",
    "\n",
    "# # Export csv with clusters \"Region\" = central_EU\n",
    "# df_clst.to_csv(\"IPM_consultants-data&clusters_central_EU.csv\", sep=\",\", na_rep=\"?\", index=False)\n",
    "\n",
    "# Export csv with clusters \"Region\" = south_EU\n",
    "# df_clst.to_csv(\"IPM_consultants-data&clusters_south_EU.csv\", sep=\",\", na_rep=\"?\", index=False)"
   ]
  },
  {
   "cell_type": "markdown",
   "metadata": {
    "id": "kDIW1dSvl2N2"
   },
   "source": [
    "## Modelling"
   ]
  },
  {
   "cell_type": "code",
   "execution_count": null,
   "metadata": {
    "id": "KFFbUXk5lvgc"
   },
   "outputs": [],
   "source": [
    "from sklearn import tree\n",
    "\n",
    "target_class = \"clusters\"\n",
    "X, y = df_noNaN[[_ for _ in list(ohe_df.columns) if _ not in target_class]], df_noNaN[target_class]\n",
    "clf = tree.DecisionTreeClassifier()\n",
    "clf = clf.fit(X, y)\n",
    "tree.plot_tree(clf, feature_names=X.columns, class_names=[str(_) for _ in [0,1,2,3]], filled=True) "
   ]
  },
  {
   "cell_type": "code",
   "execution_count": null,
   "metadata": {
    "id": "Jh4oJSCAFymj"
   },
   "outputs": [],
   "source": [
    "# Train the model\n",
    "from sklearn.linear_model import LogisticRegression\n",
    "from sklearn.model_selection import train_test_split\n",
    "\n",
    "target_class = \"clusters\"\n",
    "X = df_noNaN[[_ for _ in list(ohe_df.columns) if _ not in target_class]]\n",
    "y = df_noNaN[target_class]\n",
    "X_train, X_test, y_train, y_test = train_test_split(X, y, test_size=0.33, random_state=42)\n",
    "\n",
    "model = LogisticRegression(max_iter=1000)\n",
    "model.fit(X_train, y_train)"
   ]
  },
  {
   "cell_type": "code",
   "execution_count": null,
   "metadata": {
    "id": "deWt2UZDJB-7"
   },
   "outputs": [],
   "source": [
    "# Predictions for test dataset\n",
    "y_predict = model.predict(X_test)\n",
    "y_predict"
   ]
  },
  {
   "cell_type": "code",
   "execution_count": null,
   "metadata": {
    "id": "mg2J2A86l2N2"
   },
   "outputs": [],
   "source": [
    "from sklearn.model_selection import cross_val_score\n",
    "from sklearn.tree import DecisionTreeClassifier\n",
    "clf = tree.DecisionTreeClassifier(random_state=0)\n",
    "\n",
    "target_class = \"Already_used_DSS\"\n",
    "X = df_noNaN[[_ for _ in list(ohe_df.columns) if _ not in target_class]]\n",
    "Y = df_noNaN[target_class]\n",
    "clf = clf.fit(X, Y)"
   ]
  },
  {
   "cell_type": "code",
   "execution_count": null,
   "metadata": {
    "id": "CcBXCs85l2N3"
   },
   "outputs": [],
   "source": [
    "from sklearn.tree import DecisionTreeClassifier\n",
    "from sklearn.tree import export_text\n",
    "decision_tree = DecisionTreeClassifier(random_state=0, max_depth=2)\n",
    "decision_tree = decision_tree.fit(X, Y)\n",
    "r = export_text(decision_tree, feature_names=list(X.columns))\n",
    "print(r)"
   ]
  },
  {
   "cell_type": "code",
   "execution_count": null,
   "metadata": {
    "id": "Y2PZlTRLl2N3"
   },
   "outputs": [],
   "source": [
    "# \"\"\"Ne morem importat, nek conflict\n",
    "# import graphviz \n",
    "# dot_data = tree.export_graphviz(clf, out_file=None) \n",
    "# graph = graphviz.Source(dot_data) \n",
    "# graph.render(\"IPM\") \n",
    "# \"\"\""
   ]
  },
  {
   "cell_type": "markdown",
   "metadata": {
    "id": "oTKut8pCWRyH"
   },
   "source": [
    "# create dictionary with value mapping"
   ]
  },
  {
   "cell_type": "code",
   "execution_count": null,
   "metadata": {
    "id": "j0ai7zLivqOh"
   },
   "outputs": [],
   "source": [
    "# df[\"test\"] = df[\"Age_Cat\"].replace({4:\"več kot 50\", 3: \"test\", 1 : \"sdfsdf\", 2 : \"wsf\"})\n",
    "# df[\"Age_Cat\"] = df[\"Age_Cat\"].replace({4:\"več kot 50\", 3: \"test\", 1 : \"sdfsdf\", 2 : \"wsf\"})"
   ]
  }
 ],
 "metadata": {
  "colab": {
   "collapsed_sections": [],
   "include_colab_link": true,
   "name": "IPMdecisions-DataExploration_colab-1_4_Q1.ipynb",
   "provenance": []
  },
  "kernelspec": {
   "display_name": "Python 3 (ipykernel)",
   "language": "python",
   "name": "python3"
  },
  "language_info": {
   "codemirror_mode": {
    "name": "ipython",
    "version": 3
   },
   "file_extension": ".py",
   "mimetype": "text/x-python",
   "name": "python",
   "nbconvert_exporter": "python",
   "pygments_lexer": "ipython3",
   "version": "3.8.0"
  }
 },
 "nbformat": 4,
 "nbformat_minor": 4
}
