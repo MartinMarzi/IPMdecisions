{
 "cells": [
  {
   "cell_type": "markdown",
   "metadata": {
    "colab_type": "text",
    "id": "view-in-github"
   },
   "source": [
    "<a href=\"https://colab.research.google.com/github/MartinMarzi/IPMdecisions/blob/main/IPMdecisions_DataExploration_colab_1_4_Q1.ipynb\" target=\"_parent\"><img src=\"https://colab.research.google.com/assets/colab-badge.svg\" alt=\"Open In Colab\"/></a>"
   ]
  },
  {
   "cell_type": "code",
   "execution_count": 52,
   "metadata": {
    "id": "QIXLlgjHmZNz"
   },
   "outputs": [],
   "source": [
    "# # For colab\n",
    "# %pip install umap-learn\n",
    "# %pip install hdbscan\n",
    "pd.set_option('max_columns', None)"
   ]
  },
  {
   "cell_type": "code",
   "execution_count": 2,
   "metadata": {
    "id": "l2iXxyyhkdJ0"
   },
   "outputs": [],
   "source": [
    "import numpy as np\n",
    "import pandas as pd\n",
    "from sklearn.datasets import load_digits\n",
    "from sklearn.model_selection import train_test_split\n",
    "from sklearn.preprocessing import StandardScaler\n",
    "import pandas as pd\n",
    "from pandas.api.types import CategoricalDtype\n",
    "import umap\n",
    "import hdbscan\n",
    "import sklearn.cluster as cluster\n",
    "import matplotlib.pyplot as plt\n",
    "import seaborn as sns\n",
    "import plotly.express as px"
   ]
  },
  {
   "cell_type": "code",
   "execution_count": 3,
   "metadata": {
    "id": "WtiRqHhNng-Y"
   },
   "outputs": [],
   "source": [
    "#DATA_FILE = \"data/Farmers_edited data 21.12.2020_IPS_FINAL- WEKA_JM.xlsx\"\n",
    "DATA_FILE = \"/Users/mmarzi/MLprojects/IPMdecisions/data/Farmers_edited data 21.12.2020_IPS_FINAL- WEKA_JM.xlsx\""
   ]
  },
  {
   "cell_type": "code",
   "execution_count": 4,
   "metadata": {
    "id": "27PBpsaZn6ek"
   },
   "outputs": [],
   "source": [
    "# Create dataframe\n",
    "df = pd.read_excel(DATA_FILE, header=0, engine='openpyxl', na_values=['?'], usecols=range(81), \n",
    "                   skiprows= range(150,155))"
   ]
  },
  {
   "cell_type": "code",
   "execution_count": 5,
   "metadata": {
    "colab": {
     "base_uri": "https://localhost:8080/"
    },
    "id": "LvxmcuQwr6Bn",
    "outputId": "f4587893-c8ab-4ee2-8e05-0eefe7353384"
   },
   "outputs": [
    {
     "data": {
      "text/plain": [
       "(149, 81)"
      ]
     },
     "execution_count": 5,
     "metadata": {},
     "output_type": "execute_result"
    }
   ],
   "source": [
    "# Show data size\n",
    "df.shape"
   ]
  },
  {
   "cell_type": "code",
   "execution_count": 6,
   "metadata": {
    "colab": {
     "base_uri": "https://localhost:8080/",
     "height": 439
    },
    "id": "b0PgDIOel2Nq",
    "outputId": "0566e661-2f9e-446f-bcaa-8b2fd5b8d13a"
   },
   "outputs": [
    {
     "data": {
      "text/html": [
       "<div>\n",
       "<style scoped>\n",
       "    .dataframe tbody tr th:only-of-type {\n",
       "        vertical-align: middle;\n",
       "    }\n",
       "\n",
       "    .dataframe tbody tr th {\n",
       "        vertical-align: top;\n",
       "    }\n",
       "\n",
       "    .dataframe thead th {\n",
       "        text-align: right;\n",
       "    }\n",
       "</style>\n",
       "<table border=\"1\" class=\"dataframe\">\n",
       "  <thead>\n",
       "    <tr style=\"text-align: right;\">\n",
       "      <th></th>\n",
       "      <th>Region</th>\n",
       "      <th>Country</th>\n",
       "      <th>Subject</th>\n",
       "      <th>Age_Cat</th>\n",
       "      <th>Gender_1male</th>\n",
       "      <th>Degree_Cat</th>\n",
       "      <th>Farm_size_Cat</th>\n",
       "      <th>ProductionUse_selling</th>\n",
       "      <th>Farm_type_Conventional</th>\n",
       "      <th>Farm_type_Intergrated</th>\n",
       "      <th>Farm_type_Organic</th>\n",
       "      <th>Farm_type_Biodynamic</th>\n",
       "      <th>Income_Cat</th>\n",
       "      <th>Proportion_of_income</th>\n",
       "      <th>Production_level_1to7</th>\n",
       "      <th>Production_level_1to3</th>\n",
       "      <th>Crop_Group_Cat</th>\n",
       "      <th>Legislative_requirements</th>\n",
       "      <th>Own_phone</th>\n",
       "      <th>Years_own_phone</th>\n",
       "      <th>Use_DSS_App</th>\n",
       "      <th>Agricultural_app_use_Cat</th>\n",
       "      <th>Computer_at_home</th>\n",
       "      <th>Speed_internet_Cat</th>\n",
       "      <th>Already_used_DSS</th>\n",
       "      <th>How_do_you_access_DSS_Cat</th>\n",
       "      <th>Potencial_user_of_platform</th>\n",
       "      <th>Prefered_access_Phone</th>\n",
       "      <th>Prefered_access_PC</th>\n",
       "      <th>Prefered_access_Advisor</th>\n",
       "      <th>Willing_to_try_new_products_Cat</th>\n",
       "      <th>Price_important_factor</th>\n",
       "      <th>DSS_are_more_suited_for_ShortTermDecision_1</th>\n",
       "      <th>DSS_are_more_suited_for_LongTermDecision_2</th>\n",
       "      <th>DSS_for_ShortLongTermBothDecision_Cat_NO</th>\n",
       "      <th>Prefered_type_Web_1</th>\n",
       "      <th>Prefered_type_Software_2</th>\n",
       "      <th>Prefered_type_Web_Software_Both_Cat_NO</th>\n",
       "      <th>Importance_of_easy_to_use_1to7</th>\n",
       "      <th>Importance_of_easy_to_use_1to2</th>\n",
       "      <th>Importance_of_easy_to_use_1to3</th>\n",
       "      <th>Importance_of_efficient_1to7</th>\n",
       "      <th>Importance_of_efficient_1to2</th>\n",
       "      <th>Importance_of_efficient_1to3</th>\n",
       "      <th>Importance_low_price_1to7</th>\n",
       "      <th>Importance_low_price_1to2</th>\n",
       "      <th>Importance_low_price_1to3</th>\n",
       "      <th>Importance_polyvalence_1to7</th>\n",
       "      <th>Importance_polyvalence_1to2</th>\n",
       "      <th>Importance_polyvalence_1to3</th>\n",
       "      <th>Enjoy_using_new_techs_1to7</th>\n",
       "      <th>Enjoy_using_new_techs_1to2</th>\n",
       "      <th>Enjoy_using_new_techs_1to3</th>\n",
       "      <th>Appreciate_change_1to7</th>\n",
       "      <th>Appreciate_change_1to2</th>\n",
       "      <th>Appreciate_change_1to3</th>\n",
       "      <th>Trust_in_DSS_1to7</th>\n",
       "      <th>Trust_in_DSS_1to2</th>\n",
       "      <th>Trust_in_DSS_1to3</th>\n",
       "      <th>Trust_in_colleague_advice_1to7</th>\n",
       "      <th>Trust_in_colleague_advice_1to2</th>\n",
       "      <th>Trust_in_colleague_advice_1to3</th>\n",
       "      <th>Trust_advice_friend_1to7</th>\n",
       "      <th>Trust_advice_friend_1to2</th>\n",
       "      <th>Trust_advice_friend_1to3</th>\n",
       "      <th>Need_IT_teaching_Cat</th>\n",
       "      <th>DSS_can_improve_your_productivity_Cat</th>\n",
       "      <th>CL_Output_preference_Graphical_1</th>\n",
       "      <th>CL_Output_preference_Textual_2</th>\n",
       "      <th>CL_Output_preference_Both_3</th>\n",
       "      <th>Output_preference_Cat_NO</th>\n",
       "      <th>Share_DSS_exp_with_colleague_Cat</th>\n",
       "      <th>Use_DSS_from_trusted_sources_Always</th>\n",
       "      <th>WTP_for_DSS_Cat</th>\n",
       "      <th>DSS_must_be_tailored_for_your_farm_Cat</th>\n",
       "      <th>Use_same_DSS_than_advisor_Cat</th>\n",
       "      <th>Age_of_DSS_user_at_the_farm_1</th>\n",
       "      <th>Age_of_DSS_user_at_the_farm_2</th>\n",
       "      <th>Age_of_DSS_user_at_the_farm_3</th>\n",
       "      <th>Marketing_info_about_DSS_Cat</th>\n",
       "      <th>Manufacturer_demo_of_DSS_Cat</th>\n",
       "    </tr>\n",
       "  </thead>\n",
       "  <tbody>\n",
       "    <tr>\n",
       "      <th>0</th>\n",
       "      <td>south_EU</td>\n",
       "      <td>Italy</td>\n",
       "      <td>ITALY1</td>\n",
       "      <td>4</td>\n",
       "      <td>1.0</td>\n",
       "      <td>1.0</td>\n",
       "      <td>5.0</td>\n",
       "      <td>1.0</td>\n",
       "      <td>1.0</td>\n",
       "      <td>1.0</td>\n",
       "      <td>0.0</td>\n",
       "      <td>0.0</td>\n",
       "      <td>NaN</td>\n",
       "      <td>0.0</td>\n",
       "      <td>7.0</td>\n",
       "      <td>3.0</td>\n",
       "      <td>1.0</td>\n",
       "      <td>1.0</td>\n",
       "      <td>1</td>\n",
       "      <td>0</td>\n",
       "      <td>1.0</td>\n",
       "      <td>2.0</td>\n",
       "      <td>1</td>\n",
       "      <td>3</td>\n",
       "      <td>0.0</td>\n",
       "      <td>1.0</td>\n",
       "      <td>0.0</td>\n",
       "      <td>NaN</td>\n",
       "      <td>NaN</td>\n",
       "      <td>NaN</td>\n",
       "      <td>2.0</td>\n",
       "      <td>0.0</td>\n",
       "      <td>NaN</td>\n",
       "      <td>NaN</td>\n",
       "      <td>NaN</td>\n",
       "      <td>NaN</td>\n",
       "      <td>NaN</td>\n",
       "      <td>NaN</td>\n",
       "      <td>NaN</td>\n",
       "      <td>NaN</td>\n",
       "      <td>NaN</td>\n",
       "      <td>NaN</td>\n",
       "      <td>NaN</td>\n",
       "      <td>NaN</td>\n",
       "      <td>NaN</td>\n",
       "      <td>NaN</td>\n",
       "      <td>NaN</td>\n",
       "      <td>NaN</td>\n",
       "      <td>NaN</td>\n",
       "      <td>NaN</td>\n",
       "      <td>NaN</td>\n",
       "      <td>NaN</td>\n",
       "      <td>NaN</td>\n",
       "      <td>7.0</td>\n",
       "      <td>2.0</td>\n",
       "      <td>3.0</td>\n",
       "      <td>1.0</td>\n",
       "      <td>1.0</td>\n",
       "      <td>1.0</td>\n",
       "      <td>2.0</td>\n",
       "      <td>1.0</td>\n",
       "      <td>1.0</td>\n",
       "      <td>2.0</td>\n",
       "      <td>1.0</td>\n",
       "      <td>1.0</td>\n",
       "      <td>1.0</td>\n",
       "      <td>1.0</td>\n",
       "      <td>NaN</td>\n",
       "      <td>NaN</td>\n",
       "      <td>NaN</td>\n",
       "      <td>NaN</td>\n",
       "      <td>2.0</td>\n",
       "      <td>NaN</td>\n",
       "      <td>1.0</td>\n",
       "      <td>1.0</td>\n",
       "      <td>NaN</td>\n",
       "      <td>NaN</td>\n",
       "      <td>NaN</td>\n",
       "      <td>NaN</td>\n",
       "      <td>1.0</td>\n",
       "      <td>1.0</td>\n",
       "    </tr>\n",
       "    <tr>\n",
       "      <th>1</th>\n",
       "      <td>south_EU</td>\n",
       "      <td>Italy</td>\n",
       "      <td>ITALY2</td>\n",
       "      <td>4</td>\n",
       "      <td>1.0</td>\n",
       "      <td>2.0</td>\n",
       "      <td>4.0</td>\n",
       "      <td>1.0</td>\n",
       "      <td>1.0</td>\n",
       "      <td>0.0</td>\n",
       "      <td>0.0</td>\n",
       "      <td>0.0</td>\n",
       "      <td>2.0</td>\n",
       "      <td>0.0</td>\n",
       "      <td>4.0</td>\n",
       "      <td>2.0</td>\n",
       "      <td>2.0</td>\n",
       "      <td>NaN</td>\n",
       "      <td>1</td>\n",
       "      <td>0</td>\n",
       "      <td>NaN</td>\n",
       "      <td>NaN</td>\n",
       "      <td>1</td>\n",
       "      <td>2</td>\n",
       "      <td>NaN</td>\n",
       "      <td>NaN</td>\n",
       "      <td>NaN</td>\n",
       "      <td>NaN</td>\n",
       "      <td>NaN</td>\n",
       "      <td>NaN</td>\n",
       "      <td>NaN</td>\n",
       "      <td>NaN</td>\n",
       "      <td>NaN</td>\n",
       "      <td>NaN</td>\n",
       "      <td>NaN</td>\n",
       "      <td>NaN</td>\n",
       "      <td>NaN</td>\n",
       "      <td>NaN</td>\n",
       "      <td>NaN</td>\n",
       "      <td>NaN</td>\n",
       "      <td>NaN</td>\n",
       "      <td>NaN</td>\n",
       "      <td>NaN</td>\n",
       "      <td>NaN</td>\n",
       "      <td>NaN</td>\n",
       "      <td>NaN</td>\n",
       "      <td>NaN</td>\n",
       "      <td>NaN</td>\n",
       "      <td>NaN</td>\n",
       "      <td>NaN</td>\n",
       "      <td>7.0</td>\n",
       "      <td>2.0</td>\n",
       "      <td>3.0</td>\n",
       "      <td>7.0</td>\n",
       "      <td>2.0</td>\n",
       "      <td>3.0</td>\n",
       "      <td>6.0</td>\n",
       "      <td>2.0</td>\n",
       "      <td>2.0</td>\n",
       "      <td>2.0</td>\n",
       "      <td>1.0</td>\n",
       "      <td>1.0</td>\n",
       "      <td>4.0</td>\n",
       "      <td>1.0</td>\n",
       "      <td>1.0</td>\n",
       "      <td>2.0</td>\n",
       "      <td>3.0</td>\n",
       "      <td>NaN</td>\n",
       "      <td>NaN</td>\n",
       "      <td>NaN</td>\n",
       "      <td>NaN</td>\n",
       "      <td>2.0</td>\n",
       "      <td>NaN</td>\n",
       "      <td>1.0</td>\n",
       "      <td>2.0</td>\n",
       "      <td>NaN</td>\n",
       "      <td>0.0</td>\n",
       "      <td>1.0</td>\n",
       "      <td>0.0</td>\n",
       "      <td>2.0</td>\n",
       "      <td>2.0</td>\n",
       "    </tr>\n",
       "    <tr>\n",
       "      <th>2</th>\n",
       "      <td>south_EU</td>\n",
       "      <td>Italy</td>\n",
       "      <td>ITALY3</td>\n",
       "      <td>2</td>\n",
       "      <td>1.0</td>\n",
       "      <td>2.0</td>\n",
       "      <td>5.0</td>\n",
       "      <td>1.0</td>\n",
       "      <td>1.0</td>\n",
       "      <td>0.0</td>\n",
       "      <td>0.0</td>\n",
       "      <td>0.0</td>\n",
       "      <td>2.0</td>\n",
       "      <td>100.0</td>\n",
       "      <td>5.0</td>\n",
       "      <td>3.0</td>\n",
       "      <td>1.0</td>\n",
       "      <td>1.0</td>\n",
       "      <td>1</td>\n",
       "      <td>10</td>\n",
       "      <td>1.0</td>\n",
       "      <td>2.0</td>\n",
       "      <td>1</td>\n",
       "      <td>2</td>\n",
       "      <td>0.0</td>\n",
       "      <td>1.0</td>\n",
       "      <td>0.0</td>\n",
       "      <td>1.0</td>\n",
       "      <td>1.0</td>\n",
       "      <td>1.0</td>\n",
       "      <td>1.0</td>\n",
       "      <td>1.0</td>\n",
       "      <td>1.0</td>\n",
       "      <td>0.0</td>\n",
       "      <td>1.0</td>\n",
       "      <td>1.0</td>\n",
       "      <td>0.0</td>\n",
       "      <td>1.0</td>\n",
       "      <td>7.0</td>\n",
       "      <td>2.0</td>\n",
       "      <td>3.0</td>\n",
       "      <td>7.0</td>\n",
       "      <td>2.0</td>\n",
       "      <td>3.0</td>\n",
       "      <td>5.0</td>\n",
       "      <td>1.0</td>\n",
       "      <td>2.0</td>\n",
       "      <td>7.0</td>\n",
       "      <td>2.0</td>\n",
       "      <td>3.0</td>\n",
       "      <td>4.0</td>\n",
       "      <td>1.0</td>\n",
       "      <td>1.0</td>\n",
       "      <td>4.0</td>\n",
       "      <td>1.0</td>\n",
       "      <td>1.0</td>\n",
       "      <td>5.0</td>\n",
       "      <td>1.0</td>\n",
       "      <td>2.0</td>\n",
       "      <td>5.0</td>\n",
       "      <td>1.0</td>\n",
       "      <td>2.0</td>\n",
       "      <td>5.0</td>\n",
       "      <td>1.0</td>\n",
       "      <td>2.0</td>\n",
       "      <td>2.0</td>\n",
       "      <td>3.0</td>\n",
       "      <td>0.0</td>\n",
       "      <td>0.0</td>\n",
       "      <td>1.0</td>\n",
       "      <td>3.0</td>\n",
       "      <td>1.0</td>\n",
       "      <td>NaN</td>\n",
       "      <td>2.0</td>\n",
       "      <td>2.0</td>\n",
       "      <td>1.0</td>\n",
       "      <td>NaN</td>\n",
       "      <td>NaN</td>\n",
       "      <td>NaN</td>\n",
       "      <td>2.0</td>\n",
       "      <td>2.0</td>\n",
       "    </tr>\n",
       "    <tr>\n",
       "      <th>3</th>\n",
       "      <td>south_EU</td>\n",
       "      <td>Italy</td>\n",
       "      <td>ITALY4</td>\n",
       "      <td>2</td>\n",
       "      <td>1.0</td>\n",
       "      <td>2.0</td>\n",
       "      <td>4.0</td>\n",
       "      <td>1.0</td>\n",
       "      <td>0.0</td>\n",
       "      <td>0.0</td>\n",
       "      <td>0.0</td>\n",
       "      <td>0.0</td>\n",
       "      <td>5.0</td>\n",
       "      <td>90.0</td>\n",
       "      <td>5.0</td>\n",
       "      <td>3.0</td>\n",
       "      <td>1.0</td>\n",
       "      <td>1.0</td>\n",
       "      <td>1</td>\n",
       "      <td>10</td>\n",
       "      <td>0.0</td>\n",
       "      <td>NaN</td>\n",
       "      <td>1</td>\n",
       "      <td>2</td>\n",
       "      <td>0.0</td>\n",
       "      <td>1.0</td>\n",
       "      <td>0.0</td>\n",
       "      <td>1.0</td>\n",
       "      <td>0.0</td>\n",
       "      <td>0.0</td>\n",
       "      <td>1.0</td>\n",
       "      <td>1.0</td>\n",
       "      <td>0.0</td>\n",
       "      <td>1.0</td>\n",
       "      <td>2.0</td>\n",
       "      <td>0.0</td>\n",
       "      <td>1.0</td>\n",
       "      <td>2.0</td>\n",
       "      <td>7.0</td>\n",
       "      <td>2.0</td>\n",
       "      <td>3.0</td>\n",
       "      <td>6.0</td>\n",
       "      <td>2.0</td>\n",
       "      <td>2.0</td>\n",
       "      <td>4.0</td>\n",
       "      <td>1.0</td>\n",
       "      <td>1.0</td>\n",
       "      <td>6.0</td>\n",
       "      <td>2.0</td>\n",
       "      <td>2.0</td>\n",
       "      <td>6.0</td>\n",
       "      <td>2.0</td>\n",
       "      <td>2.0</td>\n",
       "      <td>6.0</td>\n",
       "      <td>2.0</td>\n",
       "      <td>2.0</td>\n",
       "      <td>4.0</td>\n",
       "      <td>1.0</td>\n",
       "      <td>1.0</td>\n",
       "      <td>4.0</td>\n",
       "      <td>1.0</td>\n",
       "      <td>1.0</td>\n",
       "      <td>4.0</td>\n",
       "      <td>1.0</td>\n",
       "      <td>1.0</td>\n",
       "      <td>2.0</td>\n",
       "      <td>3.0</td>\n",
       "      <td>0.0</td>\n",
       "      <td>0.0</td>\n",
       "      <td>1.0</td>\n",
       "      <td>3.0</td>\n",
       "      <td>NaN</td>\n",
       "      <td>NaN</td>\n",
       "      <td>3.0</td>\n",
       "      <td>2.0</td>\n",
       "      <td>NaN</td>\n",
       "      <td>1.0</td>\n",
       "      <td>0.0</td>\n",
       "      <td>0.0</td>\n",
       "      <td>NaN</td>\n",
       "      <td>1.0</td>\n",
       "    </tr>\n",
       "    <tr>\n",
       "      <th>4</th>\n",
       "      <td>south_EU</td>\n",
       "      <td>Italy</td>\n",
       "      <td>ITALY5</td>\n",
       "      <td>2</td>\n",
       "      <td>1.0</td>\n",
       "      <td>2.0</td>\n",
       "      <td>5.0</td>\n",
       "      <td>1.0</td>\n",
       "      <td>0.0</td>\n",
       "      <td>1.0</td>\n",
       "      <td>0.0</td>\n",
       "      <td>0.0</td>\n",
       "      <td>5.0</td>\n",
       "      <td>0.0</td>\n",
       "      <td>4.0</td>\n",
       "      <td>2.0</td>\n",
       "      <td>2.0</td>\n",
       "      <td>1.0</td>\n",
       "      <td>1</td>\n",
       "      <td>10</td>\n",
       "      <td>1.0</td>\n",
       "      <td>3.0</td>\n",
       "      <td>1</td>\n",
       "      <td>2</td>\n",
       "      <td>1.0</td>\n",
       "      <td>3.0</td>\n",
       "      <td>1.0</td>\n",
       "      <td>1.0</td>\n",
       "      <td>0.0</td>\n",
       "      <td>0.0</td>\n",
       "      <td>1.0</td>\n",
       "      <td>1.0</td>\n",
       "      <td>1.0</td>\n",
       "      <td>0.0</td>\n",
       "      <td>1.0</td>\n",
       "      <td>1.0</td>\n",
       "      <td>0.0</td>\n",
       "      <td>1.0</td>\n",
       "      <td>7.0</td>\n",
       "      <td>2.0</td>\n",
       "      <td>3.0</td>\n",
       "      <td>7.0</td>\n",
       "      <td>2.0</td>\n",
       "      <td>3.0</td>\n",
       "      <td>4.0</td>\n",
       "      <td>1.0</td>\n",
       "      <td>1.0</td>\n",
       "      <td>6.0</td>\n",
       "      <td>2.0</td>\n",
       "      <td>2.0</td>\n",
       "      <td>5.0</td>\n",
       "      <td>1.0</td>\n",
       "      <td>2.0</td>\n",
       "      <td>4.0</td>\n",
       "      <td>1.0</td>\n",
       "      <td>1.0</td>\n",
       "      <td>4.0</td>\n",
       "      <td>1.0</td>\n",
       "      <td>1.0</td>\n",
       "      <td>4.0</td>\n",
       "      <td>1.0</td>\n",
       "      <td>1.0</td>\n",
       "      <td>4.0</td>\n",
       "      <td>1.0</td>\n",
       "      <td>1.0</td>\n",
       "      <td>2.0</td>\n",
       "      <td>3.0</td>\n",
       "      <td>0.0</td>\n",
       "      <td>0.0</td>\n",
       "      <td>1.0</td>\n",
       "      <td>3.0</td>\n",
       "      <td>3.0</td>\n",
       "      <td>1.0</td>\n",
       "      <td>3.0</td>\n",
       "      <td>2.0</td>\n",
       "      <td>2.0</td>\n",
       "      <td>1.0</td>\n",
       "      <td>0.0</td>\n",
       "      <td>0.0</td>\n",
       "      <td>2.0</td>\n",
       "      <td>2.0</td>\n",
       "    </tr>\n",
       "    <tr>\n",
       "      <th>...</th>\n",
       "      <td>...</td>\n",
       "      <td>...</td>\n",
       "      <td>...</td>\n",
       "      <td>...</td>\n",
       "      <td>...</td>\n",
       "      <td>...</td>\n",
       "      <td>...</td>\n",
       "      <td>...</td>\n",
       "      <td>...</td>\n",
       "      <td>...</td>\n",
       "      <td>...</td>\n",
       "      <td>...</td>\n",
       "      <td>...</td>\n",
       "      <td>...</td>\n",
       "      <td>...</td>\n",
       "      <td>...</td>\n",
       "      <td>...</td>\n",
       "      <td>...</td>\n",
       "      <td>...</td>\n",
       "      <td>...</td>\n",
       "      <td>...</td>\n",
       "      <td>...</td>\n",
       "      <td>...</td>\n",
       "      <td>...</td>\n",
       "      <td>...</td>\n",
       "      <td>...</td>\n",
       "      <td>...</td>\n",
       "      <td>...</td>\n",
       "      <td>...</td>\n",
       "      <td>...</td>\n",
       "      <td>...</td>\n",
       "      <td>...</td>\n",
       "      <td>...</td>\n",
       "      <td>...</td>\n",
       "      <td>...</td>\n",
       "      <td>...</td>\n",
       "      <td>...</td>\n",
       "      <td>...</td>\n",
       "      <td>...</td>\n",
       "      <td>...</td>\n",
       "      <td>...</td>\n",
       "      <td>...</td>\n",
       "      <td>...</td>\n",
       "      <td>...</td>\n",
       "      <td>...</td>\n",
       "      <td>...</td>\n",
       "      <td>...</td>\n",
       "      <td>...</td>\n",
       "      <td>...</td>\n",
       "      <td>...</td>\n",
       "      <td>...</td>\n",
       "      <td>...</td>\n",
       "      <td>...</td>\n",
       "      <td>...</td>\n",
       "      <td>...</td>\n",
       "      <td>...</td>\n",
       "      <td>...</td>\n",
       "      <td>...</td>\n",
       "      <td>...</td>\n",
       "      <td>...</td>\n",
       "      <td>...</td>\n",
       "      <td>...</td>\n",
       "      <td>...</td>\n",
       "      <td>...</td>\n",
       "      <td>...</td>\n",
       "      <td>...</td>\n",
       "      <td>...</td>\n",
       "      <td>...</td>\n",
       "      <td>...</td>\n",
       "      <td>...</td>\n",
       "      <td>...</td>\n",
       "      <td>...</td>\n",
       "      <td>...</td>\n",
       "      <td>...</td>\n",
       "      <td>...</td>\n",
       "      <td>...</td>\n",
       "      <td>...</td>\n",
       "      <td>...</td>\n",
       "      <td>...</td>\n",
       "      <td>...</td>\n",
       "      <td>...</td>\n",
       "    </tr>\n",
       "    <tr>\n",
       "      <th>144</th>\n",
       "      <td>south_EU</td>\n",
       "      <td>Greece</td>\n",
       "      <td>GR12315</td>\n",
       "      <td>4</td>\n",
       "      <td>1.0</td>\n",
       "      <td>2.0</td>\n",
       "      <td>3.0</td>\n",
       "      <td>NaN</td>\n",
       "      <td>NaN</td>\n",
       "      <td>NaN</td>\n",
       "      <td>NaN</td>\n",
       "      <td>NaN</td>\n",
       "      <td>2.0</td>\n",
       "      <td>50.0</td>\n",
       "      <td>NaN</td>\n",
       "      <td>NaN</td>\n",
       "      <td>NaN</td>\n",
       "      <td>1.0</td>\n",
       "      <td>1</td>\n",
       "      <td>22</td>\n",
       "      <td>0.0</td>\n",
       "      <td>NaN</td>\n",
       "      <td>1</td>\n",
       "      <td>2</td>\n",
       "      <td>NaN</td>\n",
       "      <td>NaN</td>\n",
       "      <td>NaN</td>\n",
       "      <td>0.0</td>\n",
       "      <td>1.0</td>\n",
       "      <td>0.0</td>\n",
       "      <td>1.0</td>\n",
       "      <td>0.0</td>\n",
       "      <td>1.0</td>\n",
       "      <td>0.0</td>\n",
       "      <td>1.0</td>\n",
       "      <td>1.0</td>\n",
       "      <td>0.0</td>\n",
       "      <td>1.0</td>\n",
       "      <td>4.0</td>\n",
       "      <td>1.0</td>\n",
       "      <td>1.0</td>\n",
       "      <td>7.0</td>\n",
       "      <td>2.0</td>\n",
       "      <td>3.0</td>\n",
       "      <td>4.0</td>\n",
       "      <td>1.0</td>\n",
       "      <td>1.0</td>\n",
       "      <td>6.0</td>\n",
       "      <td>2.0</td>\n",
       "      <td>2.0</td>\n",
       "      <td>7.0</td>\n",
       "      <td>2.0</td>\n",
       "      <td>3.0</td>\n",
       "      <td>7.0</td>\n",
       "      <td>2.0</td>\n",
       "      <td>3.0</td>\n",
       "      <td>6.0</td>\n",
       "      <td>2.0</td>\n",
       "      <td>2.0</td>\n",
       "      <td>2.0</td>\n",
       "      <td>1.0</td>\n",
       "      <td>1.0</td>\n",
       "      <td>2.0</td>\n",
       "      <td>1.0</td>\n",
       "      <td>1.0</td>\n",
       "      <td>2.0</td>\n",
       "      <td>2.0</td>\n",
       "      <td>0.0</td>\n",
       "      <td>0.0</td>\n",
       "      <td>1.0</td>\n",
       "      <td>3.0</td>\n",
       "      <td>NaN</td>\n",
       "      <td>NaN</td>\n",
       "      <td>2.0</td>\n",
       "      <td>2.0</td>\n",
       "      <td>NaN</td>\n",
       "      <td>NaN</td>\n",
       "      <td>NaN</td>\n",
       "      <td>NaN</td>\n",
       "      <td>NaN</td>\n",
       "      <td>1.0</td>\n",
       "    </tr>\n",
       "    <tr>\n",
       "      <th>145</th>\n",
       "      <td>south_EU</td>\n",
       "      <td>Greece</td>\n",
       "      <td>GR12241</td>\n",
       "      <td>3</td>\n",
       "      <td>1.0</td>\n",
       "      <td>NaN</td>\n",
       "      <td>3.0</td>\n",
       "      <td>NaN</td>\n",
       "      <td>NaN</td>\n",
       "      <td>NaN</td>\n",
       "      <td>NaN</td>\n",
       "      <td>NaN</td>\n",
       "      <td>1.0</td>\n",
       "      <td>100.0</td>\n",
       "      <td>NaN</td>\n",
       "      <td>NaN</td>\n",
       "      <td>NaN</td>\n",
       "      <td>1.0</td>\n",
       "      <td>1</td>\n",
       "      <td>23</td>\n",
       "      <td>0.0</td>\n",
       "      <td>NaN</td>\n",
       "      <td>1</td>\n",
       "      <td>3</td>\n",
       "      <td>1.0</td>\n",
       "      <td>3.0</td>\n",
       "      <td>1.0</td>\n",
       "      <td>0.0</td>\n",
       "      <td>1.0</td>\n",
       "      <td>0.0</td>\n",
       "      <td>1.0</td>\n",
       "      <td>0.0</td>\n",
       "      <td>0.0</td>\n",
       "      <td>1.0</td>\n",
       "      <td>2.0</td>\n",
       "      <td>1.0</td>\n",
       "      <td>0.0</td>\n",
       "      <td>1.0</td>\n",
       "      <td>NaN</td>\n",
       "      <td>NaN</td>\n",
       "      <td>NaN</td>\n",
       "      <td>5.0</td>\n",
       "      <td>1.0</td>\n",
       "      <td>2.0</td>\n",
       "      <td>NaN</td>\n",
       "      <td>NaN</td>\n",
       "      <td>NaN</td>\n",
       "      <td>5.0</td>\n",
       "      <td>1.0</td>\n",
       "      <td>2.0</td>\n",
       "      <td>6.0</td>\n",
       "      <td>2.0</td>\n",
       "      <td>2.0</td>\n",
       "      <td>5.0</td>\n",
       "      <td>1.0</td>\n",
       "      <td>2.0</td>\n",
       "      <td>5.0</td>\n",
       "      <td>1.0</td>\n",
       "      <td>2.0</td>\n",
       "      <td>1.0</td>\n",
       "      <td>1.0</td>\n",
       "      <td>1.0</td>\n",
       "      <td>1.0</td>\n",
       "      <td>1.0</td>\n",
       "      <td>1.0</td>\n",
       "      <td>2.0</td>\n",
       "      <td>4.0</td>\n",
       "      <td>0.0</td>\n",
       "      <td>0.0</td>\n",
       "      <td>1.0</td>\n",
       "      <td>3.0</td>\n",
       "      <td>2.0</td>\n",
       "      <td>1.0</td>\n",
       "      <td>3.0</td>\n",
       "      <td>2.0</td>\n",
       "      <td>NaN</td>\n",
       "      <td>0.0</td>\n",
       "      <td>1.0</td>\n",
       "      <td>0.0</td>\n",
       "      <td>2.0</td>\n",
       "      <td>1.0</td>\n",
       "    </tr>\n",
       "    <tr>\n",
       "      <th>146</th>\n",
       "      <td>south_EU</td>\n",
       "      <td>Greece</td>\n",
       "      <td>GR12209</td>\n",
       "      <td>2</td>\n",
       "      <td>1.0</td>\n",
       "      <td>3.0</td>\n",
       "      <td>5.0</td>\n",
       "      <td>NaN</td>\n",
       "      <td>NaN</td>\n",
       "      <td>NaN</td>\n",
       "      <td>NaN</td>\n",
       "      <td>NaN</td>\n",
       "      <td>4.0</td>\n",
       "      <td>50.0</td>\n",
       "      <td>NaN</td>\n",
       "      <td>NaN</td>\n",
       "      <td>NaN</td>\n",
       "      <td>0.0</td>\n",
       "      <td>1</td>\n",
       "      <td>16</td>\n",
       "      <td>0.0</td>\n",
       "      <td>NaN</td>\n",
       "      <td>1</td>\n",
       "      <td>3</td>\n",
       "      <td>NaN</td>\n",
       "      <td>NaN</td>\n",
       "      <td>NaN</td>\n",
       "      <td>1.0</td>\n",
       "      <td>0.0</td>\n",
       "      <td>0.0</td>\n",
       "      <td>1.0</td>\n",
       "      <td>1.0</td>\n",
       "      <td>1.0</td>\n",
       "      <td>1.0</td>\n",
       "      <td>3.0</td>\n",
       "      <td>1.0</td>\n",
       "      <td>0.0</td>\n",
       "      <td>1.0</td>\n",
       "      <td>4.0</td>\n",
       "      <td>1.0</td>\n",
       "      <td>1.0</td>\n",
       "      <td>7.0</td>\n",
       "      <td>2.0</td>\n",
       "      <td>3.0</td>\n",
       "      <td>4.0</td>\n",
       "      <td>1.0</td>\n",
       "      <td>1.0</td>\n",
       "      <td>7.0</td>\n",
       "      <td>2.0</td>\n",
       "      <td>3.0</td>\n",
       "      <td>7.0</td>\n",
       "      <td>2.0</td>\n",
       "      <td>3.0</td>\n",
       "      <td>7.0</td>\n",
       "      <td>2.0</td>\n",
       "      <td>3.0</td>\n",
       "      <td>5.0</td>\n",
       "      <td>1.0</td>\n",
       "      <td>2.0</td>\n",
       "      <td>3.0</td>\n",
       "      <td>1.0</td>\n",
       "      <td>1.0</td>\n",
       "      <td>2.0</td>\n",
       "      <td>1.0</td>\n",
       "      <td>1.0</td>\n",
       "      <td>2.0</td>\n",
       "      <td>3.0</td>\n",
       "      <td>1.0</td>\n",
       "      <td>0.0</td>\n",
       "      <td>0.0</td>\n",
       "      <td>1.0</td>\n",
       "      <td>NaN</td>\n",
       "      <td>NaN</td>\n",
       "      <td>3.0</td>\n",
       "      <td>2.0</td>\n",
       "      <td>NaN</td>\n",
       "      <td>NaN</td>\n",
       "      <td>NaN</td>\n",
       "      <td>NaN</td>\n",
       "      <td>NaN</td>\n",
       "      <td>1.0</td>\n",
       "    </tr>\n",
       "    <tr>\n",
       "      <th>147</th>\n",
       "      <td>south_EU</td>\n",
       "      <td>Greece</td>\n",
       "      <td>GR12125</td>\n",
       "      <td>3</td>\n",
       "      <td>1.0</td>\n",
       "      <td>2.0</td>\n",
       "      <td>3.0</td>\n",
       "      <td>NaN</td>\n",
       "      <td>NaN</td>\n",
       "      <td>NaN</td>\n",
       "      <td>NaN</td>\n",
       "      <td>NaN</td>\n",
       "      <td>3.0</td>\n",
       "      <td>100.0</td>\n",
       "      <td>NaN</td>\n",
       "      <td>NaN</td>\n",
       "      <td>NaN</td>\n",
       "      <td>1.0</td>\n",
       "      <td>1</td>\n",
       "      <td>22</td>\n",
       "      <td>0.0</td>\n",
       "      <td>NaN</td>\n",
       "      <td>1</td>\n",
       "      <td>3</td>\n",
       "      <td>NaN</td>\n",
       "      <td>NaN</td>\n",
       "      <td>NaN</td>\n",
       "      <td>0.0</td>\n",
       "      <td>1.0</td>\n",
       "      <td>0.0</td>\n",
       "      <td>1.0</td>\n",
       "      <td>0.0</td>\n",
       "      <td>0.0</td>\n",
       "      <td>1.0</td>\n",
       "      <td>2.0</td>\n",
       "      <td>1.0</td>\n",
       "      <td>0.0</td>\n",
       "      <td>1.0</td>\n",
       "      <td>5.0</td>\n",
       "      <td>1.0</td>\n",
       "      <td>2.0</td>\n",
       "      <td>5.0</td>\n",
       "      <td>1.0</td>\n",
       "      <td>2.0</td>\n",
       "      <td>2.0</td>\n",
       "      <td>1.0</td>\n",
       "      <td>1.0</td>\n",
       "      <td>6.0</td>\n",
       "      <td>2.0</td>\n",
       "      <td>2.0</td>\n",
       "      <td>6.0</td>\n",
       "      <td>2.0</td>\n",
       "      <td>2.0</td>\n",
       "      <td>7.0</td>\n",
       "      <td>2.0</td>\n",
       "      <td>3.0</td>\n",
       "      <td>5.0</td>\n",
       "      <td>1.0</td>\n",
       "      <td>2.0</td>\n",
       "      <td>3.0</td>\n",
       "      <td>1.0</td>\n",
       "      <td>1.0</td>\n",
       "      <td>2.0</td>\n",
       "      <td>1.0</td>\n",
       "      <td>1.0</td>\n",
       "      <td>2.0</td>\n",
       "      <td>4.0</td>\n",
       "      <td>0.0</td>\n",
       "      <td>0.0</td>\n",
       "      <td>1.0</td>\n",
       "      <td>3.0</td>\n",
       "      <td>2.0</td>\n",
       "      <td>NaN</td>\n",
       "      <td>2.0</td>\n",
       "      <td>2.0</td>\n",
       "      <td>NaN</td>\n",
       "      <td>NaN</td>\n",
       "      <td>NaN</td>\n",
       "      <td>NaN</td>\n",
       "      <td>1.0</td>\n",
       "      <td>1.0</td>\n",
       "    </tr>\n",
       "    <tr>\n",
       "      <th>148</th>\n",
       "      <td>south_EU</td>\n",
       "      <td>Greece</td>\n",
       "      <td>GR11931</td>\n",
       "      <td>2</td>\n",
       "      <td>1.0</td>\n",
       "      <td>3.0</td>\n",
       "      <td>5.0</td>\n",
       "      <td>NaN</td>\n",
       "      <td>NaN</td>\n",
       "      <td>NaN</td>\n",
       "      <td>NaN</td>\n",
       "      <td>NaN</td>\n",
       "      <td>2.0</td>\n",
       "      <td>40.0</td>\n",
       "      <td>NaN</td>\n",
       "      <td>NaN</td>\n",
       "      <td>NaN</td>\n",
       "      <td>1.0</td>\n",
       "      <td>1</td>\n",
       "      <td>18</td>\n",
       "      <td>1.0</td>\n",
       "      <td>NaN</td>\n",
       "      <td>1</td>\n",
       "      <td>2</td>\n",
       "      <td>1.0</td>\n",
       "      <td>3.0</td>\n",
       "      <td>1.0</td>\n",
       "      <td>0.0</td>\n",
       "      <td>1.0</td>\n",
       "      <td>0.0</td>\n",
       "      <td>1.0</td>\n",
       "      <td>1.0</td>\n",
       "      <td>1.0</td>\n",
       "      <td>1.0</td>\n",
       "      <td>3.0</td>\n",
       "      <td>1.0</td>\n",
       "      <td>0.0</td>\n",
       "      <td>1.0</td>\n",
       "      <td>4.0</td>\n",
       "      <td>1.0</td>\n",
       "      <td>1.0</td>\n",
       "      <td>6.0</td>\n",
       "      <td>2.0</td>\n",
       "      <td>2.0</td>\n",
       "      <td>5.0</td>\n",
       "      <td>1.0</td>\n",
       "      <td>2.0</td>\n",
       "      <td>7.0</td>\n",
       "      <td>2.0</td>\n",
       "      <td>3.0</td>\n",
       "      <td>6.0</td>\n",
       "      <td>2.0</td>\n",
       "      <td>2.0</td>\n",
       "      <td>5.0</td>\n",
       "      <td>1.0</td>\n",
       "      <td>2.0</td>\n",
       "      <td>4.0</td>\n",
       "      <td>1.0</td>\n",
       "      <td>1.0</td>\n",
       "      <td>4.0</td>\n",
       "      <td>1.0</td>\n",
       "      <td>1.0</td>\n",
       "      <td>4.0</td>\n",
       "      <td>1.0</td>\n",
       "      <td>1.0</td>\n",
       "      <td>2.0</td>\n",
       "      <td>4.0</td>\n",
       "      <td>0.0</td>\n",
       "      <td>0.0</td>\n",
       "      <td>1.0</td>\n",
       "      <td>3.0</td>\n",
       "      <td>3.0</td>\n",
       "      <td>1.0</td>\n",
       "      <td>2.0</td>\n",
       "      <td>2.0</td>\n",
       "      <td>1.0</td>\n",
       "      <td>0.0</td>\n",
       "      <td>1.0</td>\n",
       "      <td>0.0</td>\n",
       "      <td>2.0</td>\n",
       "      <td>1.0</td>\n",
       "    </tr>\n",
       "  </tbody>\n",
       "</table>\n",
       "<p>149 rows × 81 columns</p>\n",
       "</div>"
      ],
      "text/plain": [
       "       Region Country  Subject  Age_Cat  Gender_1male  Degree_Cat  \\\n",
       "0    south_EU   Italy   ITALY1        4           1.0         1.0   \n",
       "1    south_EU   Italy   ITALY2        4           1.0         2.0   \n",
       "2    south_EU   Italy   ITALY3        2           1.0         2.0   \n",
       "3    south_EU   Italy   ITALY4        2           1.0         2.0   \n",
       "4    south_EU   Italy   ITALY5        2           1.0         2.0   \n",
       "..        ...     ...      ...      ...           ...         ...   \n",
       "144  south_EU  Greece  GR12315        4           1.0         2.0   \n",
       "145  south_EU  Greece  GR12241        3           1.0         NaN   \n",
       "146  south_EU  Greece  GR12209        2           1.0         3.0   \n",
       "147  south_EU  Greece  GR12125        3           1.0         2.0   \n",
       "148  south_EU  Greece  GR11931        2           1.0         3.0   \n",
       "\n",
       "     Farm_size_Cat  ProductionUse_selling  Farm_type_Conventional  \\\n",
       "0              5.0                    1.0                     1.0   \n",
       "1              4.0                    1.0                     1.0   \n",
       "2              5.0                    1.0                     1.0   \n",
       "3              4.0                    1.0                     0.0   \n",
       "4              5.0                    1.0                     0.0   \n",
       "..             ...                    ...                     ...   \n",
       "144            3.0                    NaN                     NaN   \n",
       "145            3.0                    NaN                     NaN   \n",
       "146            5.0                    NaN                     NaN   \n",
       "147            3.0                    NaN                     NaN   \n",
       "148            5.0                    NaN                     NaN   \n",
       "\n",
       "     Farm_type_Intergrated  Farm_type_Organic  Farm_type_Biodynamic  \\\n",
       "0                      1.0                0.0                   0.0   \n",
       "1                      0.0                0.0                   0.0   \n",
       "2                      0.0                0.0                   0.0   \n",
       "3                      0.0                0.0                   0.0   \n",
       "4                      1.0                0.0                   0.0   \n",
       "..                     ...                ...                   ...   \n",
       "144                    NaN                NaN                   NaN   \n",
       "145                    NaN                NaN                   NaN   \n",
       "146                    NaN                NaN                   NaN   \n",
       "147                    NaN                NaN                   NaN   \n",
       "148                    NaN                NaN                   NaN   \n",
       "\n",
       "     Income_Cat  Proportion_of_income  Production_level_1to7  \\\n",
       "0           NaN                   0.0                    7.0   \n",
       "1           2.0                   0.0                    4.0   \n",
       "2           2.0                 100.0                    5.0   \n",
       "3           5.0                  90.0                    5.0   \n",
       "4           5.0                   0.0                    4.0   \n",
       "..          ...                   ...                    ...   \n",
       "144         2.0                  50.0                    NaN   \n",
       "145         1.0                 100.0                    NaN   \n",
       "146         4.0                  50.0                    NaN   \n",
       "147         3.0                 100.0                    NaN   \n",
       "148         2.0                  40.0                    NaN   \n",
       "\n",
       "     Production_level_1to3  Crop_Group_Cat  Legislative_requirements  \\\n",
       "0                      3.0             1.0                       1.0   \n",
       "1                      2.0             2.0                       NaN   \n",
       "2                      3.0             1.0                       1.0   \n",
       "3                      3.0             1.0                       1.0   \n",
       "4                      2.0             2.0                       1.0   \n",
       "..                     ...             ...                       ...   \n",
       "144                    NaN             NaN                       1.0   \n",
       "145                    NaN             NaN                       1.0   \n",
       "146                    NaN             NaN                       0.0   \n",
       "147                    NaN             NaN                       1.0   \n",
       "148                    NaN             NaN                       1.0   \n",
       "\n",
       "     Own_phone  Years_own_phone  Use_DSS_App  Agricultural_app_use_Cat  \\\n",
       "0            1                0          1.0                       2.0   \n",
       "1            1                0          NaN                       NaN   \n",
       "2            1               10          1.0                       2.0   \n",
       "3            1               10          0.0                       NaN   \n",
       "4            1               10          1.0                       3.0   \n",
       "..         ...              ...          ...                       ...   \n",
       "144          1               22          0.0                       NaN   \n",
       "145          1               23          0.0                       NaN   \n",
       "146          1               16          0.0                       NaN   \n",
       "147          1               22          0.0                       NaN   \n",
       "148          1               18          1.0                       NaN   \n",
       "\n",
       "     Computer_at_home  Speed_internet_Cat  Already_used_DSS  \\\n",
       "0                   1                   3               0.0   \n",
       "1                   1                   2               NaN   \n",
       "2                   1                   2               0.0   \n",
       "3                   1                   2               0.0   \n",
       "4                   1                   2               1.0   \n",
       "..                ...                 ...               ...   \n",
       "144                 1                   2               NaN   \n",
       "145                 1                   3               1.0   \n",
       "146                 1                   3               NaN   \n",
       "147                 1                   3               NaN   \n",
       "148                 1                   2               1.0   \n",
       "\n",
       "     How_do_you_access_DSS_Cat  Potencial_user_of_platform  \\\n",
       "0                          1.0                         0.0   \n",
       "1                          NaN                         NaN   \n",
       "2                          1.0                         0.0   \n",
       "3                          1.0                         0.0   \n",
       "4                          3.0                         1.0   \n",
       "..                         ...                         ...   \n",
       "144                        NaN                         NaN   \n",
       "145                        3.0                         1.0   \n",
       "146                        NaN                         NaN   \n",
       "147                        NaN                         NaN   \n",
       "148                        3.0                         1.0   \n",
       "\n",
       "     Prefered_access_Phone  Prefered_access_PC  Prefered_access_Advisor  \\\n",
       "0                      NaN                 NaN                      NaN   \n",
       "1                      NaN                 NaN                      NaN   \n",
       "2                      1.0                 1.0                      1.0   \n",
       "3                      1.0                 0.0                      0.0   \n",
       "4                      1.0                 0.0                      0.0   \n",
       "..                     ...                 ...                      ...   \n",
       "144                    0.0                 1.0                      0.0   \n",
       "145                    0.0                 1.0                      0.0   \n",
       "146                    1.0                 0.0                      0.0   \n",
       "147                    0.0                 1.0                      0.0   \n",
       "148                    0.0                 1.0                      0.0   \n",
       "\n",
       "     Willing_to_try_new_products_Cat  Price_important_factor  \\\n",
       "0                                2.0                     0.0   \n",
       "1                                NaN                     NaN   \n",
       "2                                1.0                     1.0   \n",
       "3                                1.0                     1.0   \n",
       "4                                1.0                     1.0   \n",
       "..                               ...                     ...   \n",
       "144                              1.0                     0.0   \n",
       "145                              1.0                     0.0   \n",
       "146                              1.0                     1.0   \n",
       "147                              1.0                     0.0   \n",
       "148                              1.0                     1.0   \n",
       "\n",
       "     DSS_are_more_suited_for_ShortTermDecision_1  \\\n",
       "0                                            NaN   \n",
       "1                                            NaN   \n",
       "2                                            1.0   \n",
       "3                                            0.0   \n",
       "4                                            1.0   \n",
       "..                                           ...   \n",
       "144                                          1.0   \n",
       "145                                          0.0   \n",
       "146                                          1.0   \n",
       "147                                          0.0   \n",
       "148                                          1.0   \n",
       "\n",
       "     DSS_are_more_suited_for_LongTermDecision_2  \\\n",
       "0                                           NaN   \n",
       "1                                           NaN   \n",
       "2                                           0.0   \n",
       "3                                           1.0   \n",
       "4                                           0.0   \n",
       "..                                          ...   \n",
       "144                                         0.0   \n",
       "145                                         1.0   \n",
       "146                                         1.0   \n",
       "147                                         1.0   \n",
       "148                                         1.0   \n",
       "\n",
       "     DSS_for_ShortLongTermBothDecision_Cat_NO  Prefered_type_Web_1  \\\n",
       "0                                         NaN                  NaN   \n",
       "1                                         NaN                  NaN   \n",
       "2                                         1.0                  1.0   \n",
       "3                                         2.0                  0.0   \n",
       "4                                         1.0                  1.0   \n",
       "..                                        ...                  ...   \n",
       "144                                       1.0                  1.0   \n",
       "145                                       2.0                  1.0   \n",
       "146                                       3.0                  1.0   \n",
       "147                                       2.0                  1.0   \n",
       "148                                       3.0                  1.0   \n",
       "\n",
       "     Prefered_type_Software_2  Prefered_type_Web_Software_Both_Cat_NO  \\\n",
       "0                         NaN                                     NaN   \n",
       "1                         NaN                                     NaN   \n",
       "2                         0.0                                     1.0   \n",
       "3                         1.0                                     2.0   \n",
       "4                         0.0                                     1.0   \n",
       "..                        ...                                     ...   \n",
       "144                       0.0                                     1.0   \n",
       "145                       0.0                                     1.0   \n",
       "146                       0.0                                     1.0   \n",
       "147                       0.0                                     1.0   \n",
       "148                       0.0                                     1.0   \n",
       "\n",
       "     Importance_of_easy_to_use_1to7  Importance_of_easy_to_use_1to2  \\\n",
       "0                               NaN                             NaN   \n",
       "1                               NaN                             NaN   \n",
       "2                               7.0                             2.0   \n",
       "3                               7.0                             2.0   \n",
       "4                               7.0                             2.0   \n",
       "..                              ...                             ...   \n",
       "144                             4.0                             1.0   \n",
       "145                             NaN                             NaN   \n",
       "146                             4.0                             1.0   \n",
       "147                             5.0                             1.0   \n",
       "148                             4.0                             1.0   \n",
       "\n",
       "     Importance_of_easy_to_use_1to3  Importance_of_efficient_1to7  \\\n",
       "0                               NaN                           NaN   \n",
       "1                               NaN                           NaN   \n",
       "2                               3.0                           7.0   \n",
       "3                               3.0                           6.0   \n",
       "4                               3.0                           7.0   \n",
       "..                              ...                           ...   \n",
       "144                             1.0                           7.0   \n",
       "145                             NaN                           5.0   \n",
       "146                             1.0                           7.0   \n",
       "147                             2.0                           5.0   \n",
       "148                             1.0                           6.0   \n",
       "\n",
       "     Importance_of_efficient_1to2  Importance_of_efficient_1to3  \\\n",
       "0                             NaN                           NaN   \n",
       "1                             NaN                           NaN   \n",
       "2                             2.0                           3.0   \n",
       "3                             2.0                           2.0   \n",
       "4                             2.0                           3.0   \n",
       "..                            ...                           ...   \n",
       "144                           2.0                           3.0   \n",
       "145                           1.0                           2.0   \n",
       "146                           2.0                           3.0   \n",
       "147                           1.0                           2.0   \n",
       "148                           2.0                           2.0   \n",
       "\n",
       "     Importance_low_price_1to7  Importance_low_price_1to2  \\\n",
       "0                          NaN                        NaN   \n",
       "1                          NaN                        NaN   \n",
       "2                          5.0                        1.0   \n",
       "3                          4.0                        1.0   \n",
       "4                          4.0                        1.0   \n",
       "..                         ...                        ...   \n",
       "144                        4.0                        1.0   \n",
       "145                        NaN                        NaN   \n",
       "146                        4.0                        1.0   \n",
       "147                        2.0                        1.0   \n",
       "148                        5.0                        1.0   \n",
       "\n",
       "     Importance_low_price_1to3  Importance_polyvalence_1to7  \\\n",
       "0                          NaN                          NaN   \n",
       "1                          NaN                          NaN   \n",
       "2                          2.0                          7.0   \n",
       "3                          1.0                          6.0   \n",
       "4                          1.0                          6.0   \n",
       "..                         ...                          ...   \n",
       "144                        1.0                          6.0   \n",
       "145                        NaN                          5.0   \n",
       "146                        1.0                          7.0   \n",
       "147                        1.0                          6.0   \n",
       "148                        2.0                          7.0   \n",
       "\n",
       "     Importance_polyvalence_1to2  Importance_polyvalence_1to3  \\\n",
       "0                            NaN                          NaN   \n",
       "1                            NaN                          NaN   \n",
       "2                            2.0                          3.0   \n",
       "3                            2.0                          2.0   \n",
       "4                            2.0                          2.0   \n",
       "..                           ...                          ...   \n",
       "144                          2.0                          2.0   \n",
       "145                          1.0                          2.0   \n",
       "146                          2.0                          3.0   \n",
       "147                          2.0                          2.0   \n",
       "148                          2.0                          3.0   \n",
       "\n",
       "     Enjoy_using_new_techs_1to7  Enjoy_using_new_techs_1to2  \\\n",
       "0                           NaN                         NaN   \n",
       "1                           7.0                         2.0   \n",
       "2                           4.0                         1.0   \n",
       "3                           6.0                         2.0   \n",
       "4                           5.0                         1.0   \n",
       "..                          ...                         ...   \n",
       "144                         7.0                         2.0   \n",
       "145                         6.0                         2.0   \n",
       "146                         7.0                         2.0   \n",
       "147                         6.0                         2.0   \n",
       "148                         6.0                         2.0   \n",
       "\n",
       "     Enjoy_using_new_techs_1to3  Appreciate_change_1to7  \\\n",
       "0                           NaN                     7.0   \n",
       "1                           3.0                     7.0   \n",
       "2                           1.0                     4.0   \n",
       "3                           2.0                     6.0   \n",
       "4                           2.0                     4.0   \n",
       "..                          ...                     ...   \n",
       "144                         3.0                     7.0   \n",
       "145                         2.0                     5.0   \n",
       "146                         3.0                     7.0   \n",
       "147                         2.0                     7.0   \n",
       "148                         2.0                     5.0   \n",
       "\n",
       "     Appreciate_change_1to2  Appreciate_change_1to3  Trust_in_DSS_1to7  \\\n",
       "0                       2.0                     3.0                1.0   \n",
       "1                       2.0                     3.0                6.0   \n",
       "2                       1.0                     1.0                5.0   \n",
       "3                       2.0                     2.0                4.0   \n",
       "4                       1.0                     1.0                4.0   \n",
       "..                      ...                     ...                ...   \n",
       "144                     2.0                     3.0                6.0   \n",
       "145                     1.0                     2.0                5.0   \n",
       "146                     2.0                     3.0                5.0   \n",
       "147                     2.0                     3.0                5.0   \n",
       "148                     1.0                     2.0                4.0   \n",
       "\n",
       "     Trust_in_DSS_1to2  Trust_in_DSS_1to3  Trust_in_colleague_advice_1to7  \\\n",
       "0                  1.0                1.0                             2.0   \n",
       "1                  2.0                2.0                             2.0   \n",
       "2                  1.0                2.0                             5.0   \n",
       "3                  1.0                1.0                             4.0   \n",
       "4                  1.0                1.0                             4.0   \n",
       "..                 ...                ...                             ...   \n",
       "144                2.0                2.0                             2.0   \n",
       "145                1.0                2.0                             1.0   \n",
       "146                1.0                2.0                             3.0   \n",
       "147                1.0                2.0                             3.0   \n",
       "148                1.0                1.0                             4.0   \n",
       "\n",
       "     Trust_in_colleague_advice_1to2  Trust_in_colleague_advice_1to3  \\\n",
       "0                               1.0                             1.0   \n",
       "1                               1.0                             1.0   \n",
       "2                               1.0                             2.0   \n",
       "3                               1.0                             1.0   \n",
       "4                               1.0                             1.0   \n",
       "..                              ...                             ...   \n",
       "144                             1.0                             1.0   \n",
       "145                             1.0                             1.0   \n",
       "146                             1.0                             1.0   \n",
       "147                             1.0                             1.0   \n",
       "148                             1.0                             1.0   \n",
       "\n",
       "     Trust_advice_friend_1to7  Trust_advice_friend_1to2  \\\n",
       "0                         2.0                       1.0   \n",
       "1                         4.0                       1.0   \n",
       "2                         5.0                       1.0   \n",
       "3                         4.0                       1.0   \n",
       "4                         4.0                       1.0   \n",
       "..                        ...                       ...   \n",
       "144                       2.0                       1.0   \n",
       "145                       1.0                       1.0   \n",
       "146                       2.0                       1.0   \n",
       "147                       2.0                       1.0   \n",
       "148                       4.0                       1.0   \n",
       "\n",
       "     Trust_advice_friend_1to3  Need_IT_teaching_Cat  \\\n",
       "0                         1.0                   1.0   \n",
       "1                         1.0                   2.0   \n",
       "2                         2.0                   2.0   \n",
       "3                         1.0                   2.0   \n",
       "4                         1.0                   2.0   \n",
       "..                        ...                   ...   \n",
       "144                       1.0                   2.0   \n",
       "145                       1.0                   2.0   \n",
       "146                       1.0                   2.0   \n",
       "147                       1.0                   2.0   \n",
       "148                       1.0                   2.0   \n",
       "\n",
       "     DSS_can_improve_your_productivity_Cat  CL_Output_preference_Graphical_1  \\\n",
       "0                                      1.0                               NaN   \n",
       "1                                      3.0                               NaN   \n",
       "2                                      3.0                               0.0   \n",
       "3                                      3.0                               0.0   \n",
       "4                                      3.0                               0.0   \n",
       "..                                     ...                               ...   \n",
       "144                                    2.0                               0.0   \n",
       "145                                    4.0                               0.0   \n",
       "146                                    3.0                               1.0   \n",
       "147                                    4.0                               0.0   \n",
       "148                                    4.0                               0.0   \n",
       "\n",
       "     CL_Output_preference_Textual_2  CL_Output_preference_Both_3  \\\n",
       "0                               NaN                          NaN   \n",
       "1                               NaN                          NaN   \n",
       "2                               0.0                          1.0   \n",
       "3                               0.0                          1.0   \n",
       "4                               0.0                          1.0   \n",
       "..                              ...                          ...   \n",
       "144                             0.0                          1.0   \n",
       "145                             0.0                          1.0   \n",
       "146                             0.0                          0.0   \n",
       "147                             0.0                          1.0   \n",
       "148                             0.0                          1.0   \n",
       "\n",
       "     Output_preference_Cat_NO  Share_DSS_exp_with_colleague_Cat  \\\n",
       "0                         NaN                               2.0   \n",
       "1                         NaN                               2.0   \n",
       "2                         3.0                               1.0   \n",
       "3                         3.0                               NaN   \n",
       "4                         3.0                               3.0   \n",
       "..                        ...                               ...   \n",
       "144                       3.0                               NaN   \n",
       "145                       3.0                               2.0   \n",
       "146                       1.0                               NaN   \n",
       "147                       3.0                               2.0   \n",
       "148                       3.0                               3.0   \n",
       "\n",
       "     Use_DSS_from_trusted_sources_Always  WTP_for_DSS_Cat  \\\n",
       "0                                    NaN              1.0   \n",
       "1                                    NaN              1.0   \n",
       "2                                    NaN              2.0   \n",
       "3                                    NaN              3.0   \n",
       "4                                    1.0              3.0   \n",
       "..                                   ...              ...   \n",
       "144                                  NaN              2.0   \n",
       "145                                  1.0              3.0   \n",
       "146                                  NaN              3.0   \n",
       "147                                  NaN              2.0   \n",
       "148                                  1.0              2.0   \n",
       "\n",
       "     DSS_must_be_tailored_for_your_farm_Cat  Use_same_DSS_than_advisor_Cat  \\\n",
       "0                                       1.0                            NaN   \n",
       "1                                       2.0                            NaN   \n",
       "2                                       2.0                            1.0   \n",
       "3                                       2.0                            NaN   \n",
       "4                                       2.0                            2.0   \n",
       "..                                      ...                            ...   \n",
       "144                                     2.0                            NaN   \n",
       "145                                     2.0                            NaN   \n",
       "146                                     2.0                            NaN   \n",
       "147                                     2.0                            NaN   \n",
       "148                                     2.0                            1.0   \n",
       "\n",
       "     Age_of_DSS_user_at_the_farm_1  Age_of_DSS_user_at_the_farm_2  \\\n",
       "0                              NaN                            NaN   \n",
       "1                              0.0                            1.0   \n",
       "2                              NaN                            NaN   \n",
       "3                              1.0                            0.0   \n",
       "4                              1.0                            0.0   \n",
       "..                             ...                            ...   \n",
       "144                            NaN                            NaN   \n",
       "145                            0.0                            1.0   \n",
       "146                            NaN                            NaN   \n",
       "147                            NaN                            NaN   \n",
       "148                            0.0                            1.0   \n",
       "\n",
       "     Age_of_DSS_user_at_the_farm_3  Marketing_info_about_DSS_Cat  \\\n",
       "0                              NaN                           1.0   \n",
       "1                              0.0                           2.0   \n",
       "2                              NaN                           2.0   \n",
       "3                              0.0                           NaN   \n",
       "4                              0.0                           2.0   \n",
       "..                             ...                           ...   \n",
       "144                            NaN                           NaN   \n",
       "145                            0.0                           2.0   \n",
       "146                            NaN                           NaN   \n",
       "147                            NaN                           1.0   \n",
       "148                            0.0                           2.0   \n",
       "\n",
       "     Manufacturer_demo_of_DSS_Cat  \n",
       "0                             1.0  \n",
       "1                             2.0  \n",
       "2                             2.0  \n",
       "3                             1.0  \n",
       "4                             2.0  \n",
       "..                            ...  \n",
       "144                           1.0  \n",
       "145                           1.0  \n",
       "146                           1.0  \n",
       "147                           1.0  \n",
       "148                           1.0  \n",
       "\n",
       "[149 rows x 81 columns]"
      ]
     },
     "execution_count": 6,
     "metadata": {},
     "output_type": "execute_result"
    }
   ],
   "source": [
    "pd.set_option(\"max_columns\", None)\n",
    "df"
   ]
  },
  {
   "cell_type": "code",
   "execution_count": 7,
   "metadata": {
    "id": "1BwwIb_nqyKm"
   },
   "outputs": [],
   "source": [
    "# Remove duplicate features and \"Subject\" feature.\n",
    "dup_feat = [\"Subject\", \"Production_level_1to7\", \"DSS_for_ShortLongTermBothDecision_Cat_NO\", \"Prefered_type_Web_Software_Both_Cat_NO\", \n",
    "            \"Importance_of_easy_to_use_1to7\", \"Importance_of_easy_to_use_1to2\", \"Importance_of_efficient_1to7\", \"Importance_of_efficient_1to2\", \n",
    "            \"Importance_low_price_1to7\", \"Importance_low_price_1to2\", \"Importance_polyvalence_1to7\", \"Importance_polyvalence_1to2\", \n",
    "            \"Enjoy_using_new_techs_1to7\", \"Enjoy_using_new_techs_1to2\", \"Appreciate_change_1to7\", \"Appreciate_change_1to2\",\n",
    "            \"Trust_in_DSS_1to7\", \"Trust_in_DSS_1to2\", \"Trust_in_colleague_advice_1to7\", \"Trust_in_colleague_advice_1to2\",\n",
    "            \"Trust_advice_friend_1to7\", \"Trust_advice_friend_1to2\", \"Output_preference_Cat_NO\"] \n",
    "df_reduced = df.drop(dup_feat, axis=1)"
   ]
  },
  {
   "cell_type": "code",
   "execution_count": 8,
   "metadata": {
    "colab": {
     "base_uri": "https://localhost:8080/"
    },
    "id": "ocfM2RDzrfKE",
    "outputId": "5fd2abfa-7a26-48ce-c959-d7221232004c"
   },
   "outputs": [
    {
     "data": {
      "text/plain": [
       "(149, 58)"
      ]
     },
     "execution_count": 8,
     "metadata": {},
     "output_type": "execute_result"
    }
   ],
   "source": [
    "df_reduced.shape"
   ]
  },
  {
   "cell_type": "code",
   "execution_count": 9,
   "metadata": {
    "id": "i0MxT2vNnfrn"
   },
   "outputs": [],
   "source": [
    "# Remove feature specific to Question #1 \"Already_used_DSS\"\n",
    "removed_featuresQ1 = [\"Region\", \"Country\", \"ProductionUse_selling\", \"Farm_type_Conventional\", \"Farm_type_Intergrated\", \"Farm_type_Organic\",\n",
    "             \"Farm_type_Biodynamic\", \"Proportion_of_income\", \"Production_level_1to3\", \"Crop_Group_Cat\", \"Own_phone\", \"Years_own_phone\", \n",
    "             \"Use_DSS_App\", \"Agricultural_app_use_Cat\", \"How_do_you_access_DSS_Cat\", \"Potencial_user_of_platform\", \"Prefered_access_Phone\", \"Prefered_access_PC\", \"Prefered_access_Advisor\", \n",
    "             \"DSS_are_more_suited_for_ShortTermDecision_1\", \"DSS_are_more_suited_for_LongTermDecision_2\", \n",
    "             \"Prefered_type_Web_1\", \"Prefered_type_Software_2\", \"Trust_in_colleague_advice_1to3\",\n",
    "             \"Trust_advice_friend_1to3\", \"CL_Output_preference_Graphical_1\", \"CL_Output_preference_Textual_2\",\n",
    "             \"CL_Output_preference_Both_3\", \"Share_DSS_exp_with_colleague_Cat\", \"Use_DSS_from_trusted_sources_Always\", \"Use_same_DSS_than_advisor_Cat\", \"Age_of_DSS_user_at_the_farm_1\", \n",
    "             \"Age_of_DSS_user_at_the_farm_2\", \"Age_of_DSS_user_at_the_farm_3\", \"Marketing_info_about_DSS_Cat\"]\n",
    "df_reducedQ1 = df_reduced.copy().drop(removed_featuresQ1, axis=1)"
   ]
  },
  {
   "cell_type": "code",
   "execution_count": 10,
   "metadata": {
    "colab": {
     "base_uri": "https://localhost:8080/"
    },
    "id": "OzqvgdFqkdJ-",
    "outputId": "2b5c2026-dd8f-44d6-ee0c-388831dcefa9"
   },
   "outputs": [
    {
     "data": {
      "text/plain": [
       "(149, 23)"
      ]
     },
     "execution_count": 10,
     "metadata": {},
     "output_type": "execute_result"
    }
   ],
   "source": [
    "df_reducedQ1.shape"
   ]
  },
  {
   "cell_type": "code",
   "execution_count": 13,
   "metadata": {
    "id": "YnIWAHzVl2Ns"
   },
   "outputs": [],
   "source": [
    "# One hot encode categorical data.\n",
    "#ohe_df = pd.get_dummies(df, columns=[\"Region\", \"Country\"])\n",
    "\n",
    "#ohe_df = pd.get_dummies(df_reducedQ1, columns=[\"Region\"])\n",
    "ohe_df = df_reducedQ1.copy()"
   ]
  },
  {
   "cell_type": "markdown",
   "metadata": {
    "id": "Q8zS_VOMl2Ns"
   },
   "source": [
    "### Missing values"
   ]
  },
  {
   "cell_type": "code",
   "execution_count": 14,
   "metadata": {
    "colab": {
     "base_uri": "https://localhost:8080/"
    },
    "id": "-lQe012UBGev",
    "outputId": "111877ef-19c1-424d-85c0-db314faede7b"
   },
   "outputs": [
    {
     "data": {
      "text/plain": [
       "Age_Cat                                    0\n",
       "Gender_1male                               1\n",
       "Degree_Cat                                 5\n",
       "Farm_size_Cat                              1\n",
       "Income_Cat                                 5\n",
       "Legislative_requirements                  11\n",
       "Computer_at_home                           0\n",
       "Speed_internet_Cat                         0\n",
       "Already_used_DSS                          15\n",
       "Willing_to_try_new_products_Cat            6\n",
       "Price_important_factor                     3\n",
       "Importance_of_easy_to_use_1to3             9\n",
       "Importance_of_efficient_1to3               7\n",
       "Importance_low_price_1to3                 13\n",
       "Importance_polyvalence_1to3               13\n",
       "Enjoy_using_new_techs_1to3                 2\n",
       "Appreciate_change_1to3                     1\n",
       "Trust_in_DSS_1to3                          1\n",
       "Need_IT_teaching_Cat                       2\n",
       "DSS_can_improve_your_productivity_Cat      2\n",
       "WTP_for_DSS_Cat                            3\n",
       "DSS_must_be_tailored_for_your_farm_Cat     3\n",
       "Manufacturer_demo_of_DSS_Cat               6\n",
       "dtype: int64"
      ]
     },
     "execution_count": 14,
     "metadata": {},
     "output_type": "execute_result"
    }
   ],
   "source": [
    "# Show Missing values\n",
    "ohe_df.isnull().sum()"
   ]
  },
  {
   "cell_type": "code",
   "execution_count": 15,
   "metadata": {
    "id": "xV8O9ayCl2Ns"
   },
   "outputs": [],
   "source": [
    "df_noNaN = ohe_df.dropna(how=\"any\").copy()\n",
    "#df_noNaN = ohe_df.copy().fillna(ohe_df.mean())\n",
    "#df_noNaN = ohe_df.copy().fillna(ohe_df.median())\n",
    "#df_noNaN = ohe_df.copy().fillna(ohe_df.mode())\n",
    "#df_noNaN = ohe_df.interpolate(method=\"linear\", axis=0).copy()\n",
    "#df_noNaN = df.dropna(how=\"any\").copy()\n",
    "\n",
    "# try scikit learn"
   ]
  },
  {
   "cell_type": "code",
   "execution_count": 16,
   "metadata": {
    "colab": {
     "base_uri": "https://localhost:8080/",
     "height": 439
    },
    "id": "Mvr-4Iank4fq",
    "outputId": "ee4f8bb4-9730-4aef-faae-1a2aa1f0bfe8"
   },
   "outputs": [],
   "source": [
    "df_noNaN = df_noNaN.astype(\"int64\")"
   ]
  },
  {
   "cell_type": "markdown",
   "metadata": {
    "id": "PSEfCZT_l2Ns"
   },
   "source": [
    "### Changing data types to categorical (ordinal) and separating dataframes"
   ]
  },
  {
   "cell_type": "code",
   "execution_count": 17,
   "metadata": {
    "id": "OKOE6OA3uP5B"
   },
   "outputs": [],
   "source": [
    "# Adapted for Question #1 \"Already_used_DSS\"\n",
    "# List of ordinal features\n",
    "ord_feat = [\"Age_Cat\", \"Degree_Cat\", \"Farm_size_Cat\", \"Income_Cat\", \"Production_level_1to3\", \"Agricultural_app_use_Cat\", \"Speed_internet_Cat\", \n",
    "            \"How_do_you_access_DSS_Cat\", \"Importance_of_easy_to_use_1to3\", \"Importance_of_efficient_1to3\", \"Importance_low_price_1to3\", \n",
    "            \"Importance_polyvalence_1to3\", \"Enjoy_using_new_techs_1to3\", \"Appreciate_change_1to3\", \"Trust_in_DSS_1to3\", \"Trust_in_colleague_advice_1to3\", \n",
    "            \"Trust_advice_friend_1to3\", \"Need_IT_teaching_Cat\",\"DSS_can_improve_your_productivity_Cat\", \"Share_DSS_exp_with_colleague_Cat\", \n",
    "            \"WTP_for_DSS_Cat\", \"DSS_must_be_tailored_for_your_farm_Cat\", \"Marketing_info_about_DSS_Cat\", \"Manufacturer_demo_of_DSS_Cat\", \n",
    "            \"Willing_to_try_new_products_Cat\"]\n",
    "\n",
    "ord_feat = [_ for _ in ord_feat if _ not in removed_featuresQ1]\n",
    "ord_feat\n",
    "\n",
    "# No numeric features\n",
    "#num_feat = [\"Years_own_phone\", \"Proportion_of_income\"]\n",
    "\n",
    "nom_feat = []"
   ]
  },
  {
   "cell_type": "code",
   "execution_count": 18,
   "metadata": {
    "id": "_r0s5KtBl2Nu"
   },
   "outputs": [],
   "source": [
    "# df with ordinal and numeric featureas only\n",
    "#ordnum_df = pd.concat([df_noNaN[ord_feat], df_noNaN[num_feat]], axis=1).copy()\n",
    "ordnum_df = df_noNaN[ord_feat]\n",
    "\n",
    "# Extract column names\n",
    "all_col_names = list(df_noNaN.columns)\n",
    "ordnum_col_names = list(ordnum_df.columns)\n",
    "nom_col_names = [_ for _ in all_col_names if _ not in ordnum_col_names]\n",
    "\n",
    "# List of nominal features\n",
    "nom_feat = nom_col_names.copy()\n",
    "\n",
    "# df with nominal features only (all but two (\"Crop_Group_Cat\" and \"Willing_to_try_new_products_Cat\") are binary)\n",
    "# binarizarja ta dva\n",
    "nom_df = df_noNaN[nom_col_names]"
   ]
  },
  {
   "cell_type": "markdown",
   "metadata": {
    "id": "s0YJRtEPvdzU"
   },
   "source": [
    "# Dimensionality reduction"
   ]
  },
  {
   "cell_type": "markdown",
   "metadata": {
    "id": "ZqAja1cXl2Nv"
   },
   "source": [
    "### Ordinal and numeric features"
   ]
  },
  {
   "cell_type": "code",
   "execution_count": 19,
   "metadata": {
    "colab": {
     "base_uri": "https://localhost:8080/",
     "height": 905
    },
    "id": "V1svODxIWrh3",
    "outputId": "bdd9ec65-fdb7-4831-99f2-b19fce4d4229"
   },
   "outputs": [
    {
     "data": {
      "text/plain": [
       "Text(0.5, 1.0, 'UMAP projection of ordinal IPM farmers data')"
      ]
     },
     "execution_count": 19,
     "metadata": {},
     "output_type": "execute_result"
    },
    {
     "data": {
      "image/png": "[encoded data removed]",
      "text/plain": [
       "<Figure size 504x504 with 1 Axes>"
      ]
     },
     "metadata": {},
     "output_type": "display_data"
    }
   ],
   "source": [
    "# Standardisation\n",
    "scaled_array = StandardScaler().fit_transform(ordnum_df)\n",
    "scaled_df = pd.DataFrame(scaled_array, columns=ordnum_df.columns)\n",
    "\n",
    "# Mapping\n",
    "reducer = umap.UMAP(n_neighbors=10, min_dist=0.1, n_components=2, metric=\"euclidean\", random_state=123)\n",
    "ord_embedding = reducer.fit_transform(scaled_df)\n",
    "\n",
    "sns.set(style='white', context='notebook', rc={'figure.figsize':(14,10)})\n",
    "fig, ax = plt.subplots(figsize=(7,7))\n",
    "xs = ord_embedding[:, 0]\n",
    "ys = ord_embedding[:, 1] \n",
    "\n",
    "ax.scatter(xs, ys, c=[sns.color_palette()[int(x)] for x in ordnum_df['DSS_can_improve_your_productivity_Cat']])\n",
    "\n",
    "for i, val in enumerate(df_noNaN.index):\n",
    "#for i, val in enumerate(df_noNaN[\"Income_Cat\"].values.tolist()):\n",
    "    ax.annotate(str(int(val)), (xs[i], ys[i]), fontsize=9)\n",
    "plt.title('UMAP projection of ordinal IPM farmers data')"
   ]
  },
  {
   "cell_type": "markdown",
   "metadata": {
    "id": "ckHl71Acl2Nv"
   },
   "source": [
    "### Nominal features"
   ]
  },
  {
   "cell_type": "code",
   "execution_count": 20,
   "metadata": {
    "colab": {
     "base_uri": "https://localhost:8080/",
     "height": 532
    },
    "id": "nzzM68bcl2Nv",
    "outputId": "456118fc-2ea8-4dff-9896-a3749652903b"
   },
   "outputs": [
    {
     "name": "stderr",
     "output_type": "stream",
     "text": [
      "/Users/mmarzi/opt/anaconda3/envs/ipm/lib/python3.9/site-packages/umap/umap_.py:1760: UserWarning: gradient function is not yet implemented for hamming distance metric; inverse_transform will be unavailable\n",
      "  warn(\n"
     ]
    },
    {
     "data": {
      "text/plain": [
       "Text(0.5, 1.0, 'UMAP projection of nominal IPM farmers data')"
      ]
     },
     "execution_count": 20,
     "metadata": {},
     "output_type": "execute_result"
    },
    {
     "data": {
      "image/png": "[encoded data removed]",
      "text/plain": [
       "<Figure size 504x504 with 1 Axes>"
      ]
     },
     "metadata": {},
     "output_type": "display_data"
    }
   ],
   "source": [
    "# scaled_array = StandardScaler().fit_transform(nom_df)\n",
    "# scaled_df = pd.DataFrame(scaled_array, columns=nom_df.columns)\n",
    "\n",
    "reducer = umap.UMAP(n_neighbors=10, min_dist=0.1, n_components=2, metric=\"hamming\", random_state=123)\n",
    "nom_embedding = reducer.fit_transform(nom_df)\n",
    "\n",
    "fig, ax = plt.subplots(figsize=(7,7))\n",
    "xs = nom_embedding[:, 0]\n",
    "ys = nom_embedding[:, 1] \n",
    "\n",
    "ax.scatter(xs, ys, c=[sns.color_palette()[int(x)] for x in df_noNaN[\"Already_used_DSS\"]])\n",
    "\n",
    "for i, val in enumerate(df_noNaN.index):\n",
    "#for i, val in enumerate(df_noNaN['Income_Cat'].values.tolist()):\n",
    "    ax.annotate(str(int(val)), (xs[i], ys[i]), fontsize=9)\n",
    "plt.title('UMAP projection of nominal IPM farmers data')\n",
    "\n",
    "# naredi for loop da odstranjaš posamično atribute"
   ]
  },
  {
   "cell_type": "markdown",
   "metadata": {
    "id": "5xE9G0XHl2Nw"
   },
   "source": [
    "### Combine nominal and ordinal/numeric feature maps"
   ]
  },
  {
   "cell_type": "code",
   "execution_count": 22,
   "metadata": {
    "id": "NvMmOL7Sl2Nw"
   },
   "outputs": [],
   "source": [
    "# combine mappings\n",
    "intersection_embedding = nom_embedding * ord_embedding\n",
    "union_embedding = nom_embedding + ord_embedding"
   ]
  },
  {
   "cell_type": "code",
   "execution_count": 23,
   "metadata": {
    "colab": {
     "base_uri": "https://localhost:8080/",
     "height": 464
    },
    "id": "cv-qnMwYl2Nx",
    "outputId": "37d1eab3-ebaf-4179-ebc4-064154ed181f"
   },
   "outputs": [
    {
     "data": {
      "text/plain": [
       "Text(0.5, 1.0, 'UMAP projection of IPM farmers intersection data')"
      ]
     },
     "execution_count": 23,
     "metadata": {},
     "output_type": "execute_result"
    },
    {
     "data": {
      "image/png": "[encoded data removed]",
      "text/plain": [
       "<Figure size 504x504 with 1 Axes>"
      ]
     },
     "metadata": {},
     "output_type": "display_data"
    }
   ],
   "source": [
    "# plot intersection 2D embedding\n",
    "fig, ax = plt.subplots(figsize=(7,7))\n",
    "xs = intersection_embedding[:, 0]\n",
    "ys = intersection_embedding[:, 1] \n",
    "\n",
    "ax.scatter(xs, ys, c=[sns.color_palette()[int(x)] for x in df_noNaN['Already_used_DSS']])\n",
    "\n",
    "for i, val in enumerate(df_noNaN.index):\n",
    "#for i, val in enumerate(df_noNaN['Income_Cat'].values.tolist()):\n",
    "    ax.annotate(str(int(val)), (xs[i], ys[i]), fontsize=9)\n",
    "plt.title('UMAP projection of IPM farmers intersection data')"
   ]
  },
  {
   "cell_type": "code",
   "execution_count": 24,
   "metadata": {
    "colab": {
     "base_uri": "https://localhost:8080/",
     "height": 980
    },
    "id": "-5FJameXl2Nw",
    "outputId": "9c842f9d-132f-4656-9db3-d7fe263170f0"
   },
   "outputs": [
    {
     "data": {
      "text/plain": [
       "Text(0.5, 1.0, 'UMAP projection of IPM farmers union data')"
      ]
     },
     "execution_count": 24,
     "metadata": {},
     "output_type": "execute_result"
    },
    {
     "data": {
      "image/png": "[encoded data removed]",
      "text/plain": [
       "<Figure size 504x504 with 1 Axes>"
      ]
     },
     "metadata": {},
     "output_type": "display_data"
    }
   ],
   "source": [
    "# plot union 2D embedding\n",
    "fig, ax = plt.subplots(figsize=(7,7))\n",
    "xs = union_embedding[:, 0]\n",
    "ys = union_embedding[:, 1] \n",
    "\n",
    "ax.scatter(xs, ys, c=[sns.color_palette()[int(x)] for x in df_noNaN['Already_used_DSS']])\n",
    "\n",
    "for i, val in enumerate(df_noNaN.index):\n",
    "#for i, val in enumerate(df_noNaN['Income_Cat'].values.tolist()):\n",
    "    ax.annotate(str(int(val)), (xs[i], ys[i]), fontsize=9)\n",
    "plt.title('UMAP projection of IPM farmers union data')"
   ]
  },
  {
   "cell_type": "markdown",
   "metadata": {
    "id": "1coJnky8vgQC"
   },
   "source": [
    "# CLUSTERING"
   ]
  },
  {
   "cell_type": "markdown",
   "metadata": {
    "id": "1hDB6MaWSe8g"
   },
   "source": [
    "Probaj clustering brez dim reduction"
   ]
  },
  {
   "cell_type": "code",
   "execution_count": 25,
   "metadata": {
    "id": "RhuVUl9Dl2Nx"
   },
   "outputs": [
    {
     "data": {
      "text/plain": [
       "Text(0.5, 1.0, 'K-means clusters of UMAP projection of IPM farmers intersection data')"
      ]
     },
     "execution_count": 25,
     "metadata": {},
     "output_type": "execute_result"
    },
    {
     "data": {
      "image/png": "[encoded data removed]",
      "text/plain": [
       "<Figure size 504x504 with 1 Axes>"
      ]
     },
     "metadata": {},
     "output_type": "display_data"
    }
   ],
   "source": [
    "# k-means clustering 2D intersection emnbedding\n",
    "km_inters_clusters = cluster.KMeans(n_clusters=2).fit_predict(intersection_embedding)\n",
    "\n",
    "# plot\n",
    "fig, ax = plt.subplots(figsize=(7,7))\n",
    "ax.scatter(intersection_embedding[:, 0], intersection_embedding[:, 1], c=km_inters_clusters, s=30, cmap='cool')\n",
    "\n",
    "# Add cluster text\n",
    "for i, val in enumerate(km_inters_clusters.tolist()):\n",
    "    ax.annotate(str(int(val)), (intersection_embedding[:, 0][i], intersection_embedding[:, 1][i]), fontsize=10)\n",
    "plt.title('K-means clusters of UMAP projection of IPM farmers intersection data')"
   ]
  },
  {
   "cell_type": "code",
   "execution_count": 28,
   "metadata": {
    "id": "JyUk7XEpl2Nx"
   },
   "outputs": [
    {
     "name": "stderr",
     "output_type": "stream",
     "text": [
      "*c* argument looks like a single numeric RGB or RGBA sequence, which should be avoided as value-mapping will have precedence in case its length matches with *x* & *y*.  Please use the *color* keyword-argument or provide a 2-D array with a single row if you intend to specify the same RGB or RGBA value for all points.\n"
     ]
    },
    {
     "data": {
      "text/plain": [
       "Text(0.5, 1.0, 'HDBscan clusters of UMAP projection of IPM farmers intersection data')"
      ]
     },
     "execution_count": 28,
     "metadata": {},
     "output_type": "execute_result"
    },
    {
     "data": {
      "image/png": "[encoded data removed]",
      "text/plain": [
       "<Figure size 504x504 with 1 Axes>"
      ]
     },
     "metadata": {},
     "output_type": "display_data"
    }
   ],
   "source": [
    "# hdbscan clustering 2D intersection emnbedding\n",
    "clusterer = hdbscan.HDBSCAN(min_cluster_size=6, min_samples=2)\n",
    "hdbscan_inters_clusters = clusterer.fit_predict(intersection_embedding)\n",
    "\n",
    "fig, ax = plt.subplots(figsize=(7,7))\n",
    "\n",
    "clustered = (hdbscan_inters_clusters >= 0)\n",
    "ax.scatter(intersection_embedding[~clustered, 0],\n",
    "            intersection_embedding[~clustered, 1],\n",
    "            c=(0.5, 0.5, 0.5),\n",
    "            s=50,\n",
    "            alpha=0.3)\n",
    "\n",
    "ax.scatter(intersection_embedding[clustered, 0],\n",
    "            intersection_embedding[clustered, 1],\n",
    "            c=hdbscan_inters_clusters[clustered],\n",
    "            s=50,\n",
    "            cmap='cool')\n",
    "\n",
    "for i, val in enumerate(hdbscan_inters_clusters):\n",
    "    ax.annotate(str(int(val)), (intersection_embedding[:, 0][i], intersection_embedding[:, 1][i]), fontsize=13)\n",
    "\n",
    "plt.title('HDBscan clusters of UMAP projection of IPM farmers intersection data')"
   ]
  },
  {
   "cell_type": "code",
   "execution_count": 48,
   "metadata": {
    "id": "zGU60byuva5K"
   },
   "outputs": [
    {
     "data": {
      "text/plain": [
       "Text(0.5, 1.0, 'K-means clusters of UMAP projection of IPM farmers union data')"
      ]
     },
     "execution_count": 48,
     "metadata": {},
     "output_type": "execute_result"
    },
    {
     "data": {
      "image/png": "[encoded data removed]",
      "text/plain": [
       "<Figure size 504x504 with 1 Axes>"
      ]
     },
     "metadata": {},
     "output_type": "display_data"
    }
   ],
   "source": [
    "# kmeans clustering 2D union emnbedding\n",
    "km_2D_union_clusters = cluster.KMeans(n_clusters=2).fit_predict(union_embedding)\n",
    "#kmeans_labels\n",
    "\n",
    "fig, ax = plt.subplots(figsize=(7,7))\n",
    "ax.scatter(union_embedding[:, 0], union_embedding[:, 1], c=km_union_clusters, s=30, cmap='cool')\n",
    "\n",
    "# daj clustre (številke) gor v umap\n",
    "for i, val in enumerate(km_2D_union_clusters.tolist()):\n",
    "    ax.annotate(str(int(val)), (union_embedding[:, 0][i], union_embedding[:, 1][i]), fontsize=10)\n",
    "\n",
    "plt.title('K-means clusters of UMAP projection of IPM farmers union data')"
   ]
  },
  {
   "cell_type": "code",
   "execution_count": 49,
   "metadata": {
    "id": "aESi6aQdxYRH"
   },
   "outputs": [
    {
     "name": "stderr",
     "output_type": "stream",
     "text": [
      "*c* argument looks like a single numeric RGB or RGBA sequence, which should be avoided as value-mapping will have precedence in case its length matches with *x* & *y*.  Please use the *color* keyword-argument or provide a 2-D array with a single row if you intend to specify the same RGB or RGBA value for all points.\n"
     ]
    },
    {
     "data": {
      "text/plain": [
       "Text(0.5, 1.0, 'HDBscan clusters of UMAP projection of IPM farmers union data')"
      ]
     },
     "execution_count": 49,
     "metadata": {},
     "output_type": "execute_result"
    },
    {
     "data": {
      "image/png": "[encoded data removed]",
      "text/plain": [
       "<Figure size 504x504 with 1 Axes>"
      ]
     },
     "metadata": {},
     "output_type": "display_data"
    }
   ],
   "source": [
    "# hdbscan clustering 2D union emnbedding\n",
    "clusterer = hdbscan.HDBSCAN(min_cluster_size=5, min_samples=4)\n",
    "hdbscan_2D_union_clusters = clusterer.fit_predict(union_embedding)\n",
    "\n",
    "fig, ax = plt.subplots(figsize=(7,7))\n",
    "\n",
    "clustered = (hdbscan_union_clusters >= 0)\n",
    "ax.scatter(union_embedding[~clustered, 0],\n",
    "            union_embedding[~clustered, 1],\n",
    "            c=(0.5, 0.5, 0.5),\n",
    "            s=50,\n",
    "            alpha=0.3)\n",
    "\n",
    "ax.scatter(union_embedding[clustered, 0],\n",
    "            union_embedding[clustered, 1],\n",
    "            c=hdbscan_union_clusters[clustered],\n",
    "            s=50,\n",
    "            cmap='cool')\n",
    "\n",
    "for i, val in enumerate(hdbscan_2D_union_clusters):\n",
    "    ax.annotate(str(int(val)), (union_embedding[:, 0][i], union_embedding[:, 1][i]), fontsize=13)\n",
    "\n",
    "plt.title('HDBscan clusters of UMAP projection of IPM farmers union data')"
   ]
  },
  {
   "cell_type": "code",
   "execution_count": 50,
   "metadata": {},
   "outputs": [
    {
     "data": {
      "text/plain": [
       "array([0, 0, 1, 1, 1, 1, 0, 0, 0, 0, 1, 0, 1, 1, 0, 0, 1, 1, 0, 1, 1, 0,\n",
       "       1, 1, 0, 1, 1, 0, 1, 1, 1, 1, 1, 1, 1, 1, 1, 1, 1, 1, 1, 1, 0, 1,\n",
       "       1, 1, 1, 1, 1, 1, 1, 0, 1, 1, 1, 0, 1, 0, 1, 1, 1, 1, 1, 0, 1, 1,\n",
       "       1, 1, 1, 1, 1, 1, 1, 1, 1, 1, 0, 1, 0, 0, 1, 0, 1, 1, 1, 0, 1, 1,\n",
       "       1, 1, 1, 1, 1, 1, 1, 1, 1, 1, 1, 1])"
      ]
     },
     "execution_count": 50,
     "metadata": {},
     "output_type": "execute_result"
    }
   ],
   "source": [
    "hdbscan_2D_union_clusters"
   ]
  },
  {
   "cell_type": "markdown",
   "metadata": {
    "id": "xkt-aK6cl2Ny"
   },
   "source": [
    "## Interactive 3D Visualisation"
   ]
  },
  {
   "cell_type": "code",
   "execution_count": 43,
   "metadata": {
    "id": "v58bdpdel2Ny"
   },
   "outputs": [
    {
     "name": "stderr",
     "output_type": "stream",
     "text": [
      "/Users/mmarzi/opt/anaconda3/envs/ipm/lib/python3.9/site-packages/umap/umap_.py:1760: UserWarning:\n",
      "\n",
      "gradient function is not yet implemented for dice distance metric; inverse_transform will be unavailable\n",
      "\n"
     ]
    },
    {
     "name": "stdout",
     "output_type": "stream",
     "text": [
      "intersection_clusters : [1 1 0 1 1 1 1 1 1 1 1 1 0 0 1 1 0 0 1 1 0 1 0 1 1 0 0 1 1 0 0 0 0 0 0 0 1\n",
      " 0 1 0 1 0 1 0 0 0 0 0 1 0 1 1 1 1 0 1 1 1 1 0 0 0 0 1 1 1 0 0 1 0 0 0 1 0\n",
      " 1 1 1 1 1 1 0 1 1 1 0 1 0 1 0 0 0 0 0 0 0 0 1 1 1 0]\n",
      "union_clusters : [0 0 1 0 0 0 0 0 0 0 0 0 1 1 0 0 1 1 0 0 1 0 1 0 0 1 1 0 0 1 1 1 1 1 1 1 0\n",
      " 1 0 1 0 1 0 1 1 1 1 1 0 1 0 0 0 0 1 0 0 0 0 1 1 1 1 0 0 0 1 1 0 1 1 1 0 1\n",
      " 0 0 0 0 0 0 1 0 0 0 1 0 1 0 1 1 1 1 1 1 1 1 0 0 0 1]\n"
     ]
    }
   ],
   "source": [
    "# 3D embedding\n",
    "ord_reducer3d = umap.UMAP(n_neighbors=5, min_dist=0.1, n_components=3, metric=\"manhattan\", random_state=123)\n",
    "ord_embedding3d = ord_reducer3d.fit_transform(ordnum_df)\n",
    "\n",
    "nom_reducer3d = umap.UMAP(n_neighbors=5, min_dist=0.1, n_components=3, metric=\"dice\", random_state=123)\n",
    "nom_embedding3d = nom_reducer3d.fit_transform(nom_df)\n",
    "\n",
    "# combine mappings\n",
    "intersection_embedding3d = nom_embedding3d * ord_embedding3d\n",
    "union_embedding3d = nom_embedding3d + ord_embedding3d\n",
    "\n",
    "# hdbscan\n",
    "intersection_clusters = hdbscan.HDBSCAN(min_samples=10, min_cluster_size=10).fit_predict(intersection_embedding3d)\n",
    "union_clusters = hdbscan.HDBSCAN(min_samples=10, min_cluster_size=10).fit_predict(union_embedding3d)\n",
    "print(\"intersection_clusters :\", intersection_clusters)\n",
    "print(\"union_clusters :\", union_clusters)"
   ]
  },
  {
   "cell_type": "markdown",
   "metadata": {
    "id": "cAv_eErWl2Ny"
   },
   "source": [
    "### Plotly visualisation"
   ]
  },
  {
   "cell_type": "code",
   "execution_count": 44,
   "metadata": {
    "id": "a-6DtV_zl2Nz"
   },
   "outputs": [],
   "source": [
    "# 3D dataframes\n",
    "intersection3d_df = pd.DataFrame(data=intersection_embedding3d, columns=[\"x\", \"y\", \"z\"])\n",
    "intersection3d_df[\"clusters\"] = list(map(str, intersection_clusters))\n",
    "union3d_df = pd.DataFrame(data=union_embedding3d, columns=[\"x\", \"y\", \"z\"])\n",
    "union3d_df[\"clusters\"] = list(map(str, union_clusters))"
   ]
  },
  {
   "cell_type": "code",
   "execution_count": 45,
   "metadata": {
    "id": "45A5Qo3Ql2Nz"
   },
   "outputs": [
    {
     "data": {
      "application/vnd.plotly.v1+json": {
       "config": {
        "plotlyServerURL": "https://plot.ly"
       },
       "data": [
        {
         "hovertemplate": "clusters=1<br>x=%{x}<br>y=%{y}<br>z=%{z}<br>text=%{text}<extra></extra>",
         "legendgroup": "1",
         "marker": {
          "color": "#636efa",
          "opacity": 0.8,
          "symbol": "circle"
         },
         "mode": "markers+text",
         "name": "1",
         "scene": "scene",
         "showlegend": true,
         "text": [
          0,
          0,
          1,
          1,
          1,
          0,
          0,
          0,
          0,
          1,
          0,
          0,
          0,
          0,
          1,
          0,
          1,
          0,
          0,
          1,
          1,
          0,
          1,
          0,
          1,
          1,
          0,
          1,
          1,
          0,
          1,
          0,
          1,
          0,
          0,
          0,
          1,
          1,
          1,
          1,
          0,
          1,
          0,
          0,
          0,
          1,
          1,
          0,
          1,
          1,
          1,
          1
         ],
         "type": "scatter3d",
         "x": [
          142.3041534423828,
          159.59205627441406,
          117.51058959960938,
          113.8774185180664,
          128.73733520507812,
          133.19235229492188,
          128.7500457763672,
          146.16143798828125,
          161.01712036132812,
          127.19026947021484,
          128.14398193359375,
          124.8864974975586,
          125.6407241821289,
          116.96862030029297,
          128.12351989746094,
          121.77552032470703,
          115.88723754882812,
          118.86422729492188,
          151.87603759765625,
          118.28108215332031,
          136.05490112304688,
          162.45875549316406,
          123.57667541503906,
          166.28163146972656,
          128.23411560058594,
          141.94277954101562,
          137.21298217773438,
          130.99476623535156,
          145.54815673828125,
          144.5614776611328,
          133.42262268066406,
          161.3834686279297,
          114.12872314453125,
          120.13983917236328,
          152.1186065673828,
          162.8971405029297,
          133.06015014648438,
          150.15811157226562,
          126.01815795898438,
          114.53240966796875,
          133.81011962890625,
          113.18891143798828,
          122.38719940185547,
          121.44248962402344,
          131.90255737304688,
          137.28382873535156,
          96.48004150390625,
          146.7687225341797,
          127.91261291503906,
          117.10889434814453,
          140.20960998535156,
          139.88397216796875
         ],
         "y": [
          28.59900665283203,
          70.24594116210938,
          10.11137580871582,
          18.02734375,
          21.303104400634766,
          20.937881469726562,
          41.22014236450195,
          62.32941436767578,
          56.983985900878906,
          12.322495460510254,
          42.7517204284668,
          39.93695068359375,
          38.21443557739258,
          34.392112731933594,
          49.19867706298828,
          36.6958122253418,
          14.143647193908691,
          36.82836151123047,
          27.72449493408203,
          52.28291702270508,
          20.504003524780273,
          59.58352279663086,
          42.797142028808594,
          71.09513854980469,
          62.751731872558594,
          24.28839111328125,
          24.021482467651367,
          50.43917465209961,
          21.1505126953125,
          22.19444465637207,
          18.180328369140625,
          35.701805114746094,
          33.5799674987793,
          47.807559967041016,
          59.41691589355469,
          70.79359436035156,
          59.854637145996094,
          17.97539520263672,
          10.931730270385742,
          32.262664794921875,
          71.64717864990234,
          41.965030670166016,
          53.83898162841797,
          52.49903869628906,
          24.9356746673584,
          18.46880531311035,
          14.835044860839844,
          75.60902404785156,
          23.216995239257812,
          15.140230178833008,
          43.87813949584961,
          59.6579475402832
         ],
         "z": [
          51.214900970458984,
          28.887697219848633,
          90.26661682128906,
          97.91706085205078,
          87.32185363769531,
          51.93653106689453,
          52.43829345703125,
          22.22422981262207,
          32.46634292602539,
          95.42062377929688,
          47.883262634277344,
          48.967594146728516,
          47.43488693237305,
          40.369258880615234,
          15.606005668640137,
          31.257226943969727,
          87.48426055908203,
          34.6389274597168,
          57.05586242675781,
          17.221332550048828,
          104.02522277832031,
          21.480268478393555,
          16.952857971191406,
          28.9969539642334,
          31.184192657470703,
          104.83631896972656,
          45.96800231933594,
          40.48210906982422,
          111.56835174560547,
          48.15065002441406,
          109.2376708984375,
          64.01716613769531,
          42.64783477783203,
          37.57042694091797,
          21.07090950012207,
          25.44442367553711,
          17.078968048095703,
          80.681884765625,
          83.97392272949219,
          41.62125778198242,
          42.95564270019531,
          21.07916831970215,
          40.56880569458008,
          43.71725845336914,
          53.86922836303711,
          82.60222625732422,
          63.27501678466797,
          33.861854553222656,
          78.74638366699219,
          100.00149536132812,
          47.59400939941406,
          28.827112197875977
         ]
        },
        {
         "hovertemplate": "clusters=0<br>x=%{x}<br>y=%{y}<br>z=%{z}<br>text=%{text}<extra></extra>",
         "legendgroup": "0",
         "marker": {
          "color": "#EF553B",
          "opacity": 0.8,
          "symbol": "circle"
         },
         "mode": "markers+text",
         "name": "0",
         "scene": "scene",
         "showlegend": true,
         "text": [
          1,
          1,
          1,
          1,
          1,
          1,
          1,
          1,
          1,
          1,
          1,
          1,
          1,
          1,
          1,
          1,
          1,
          1,
          1,
          1,
          1,
          1,
          1,
          1,
          1,
          1,
          1,
          1,
          1,
          1,
          1,
          1,
          1,
          1,
          1,
          1,
          1,
          1,
          1,
          1,
          1,
          1,
          1,
          1,
          1,
          1,
          1,
          1
         ],
         "type": "scatter3d",
         "x": [
          -31.445110321044922,
          -29.871156692504883,
          -36.314910888671875,
          -23.13100242614746,
          -28.429203033447266,
          -27.134584426879883,
          -40.630958557128906,
          -33.2027702331543,
          -28.939056396484375,
          -31.252126693725586,
          -31.084463119506836,
          -24.669328689575195,
          -32.73670196533203,
          -31.353647232055664,
          -40.72530746459961,
          -42.34309005737305,
          -32.23103332519531,
          -47.95432662963867,
          -28.960180282592773,
          -34.809200286865234,
          -42.99118423461914,
          -33.89054870605469,
          -33.73689270019531,
          -28.864343643188477,
          -31.833236694335938,
          -35.311668395996094,
          -27.34734344482422,
          -31.828325271606445,
          -38.47549819946289,
          -31.9508056640625,
          -29.102018356323242,
          -31.558115005493164,
          -36.734066009521484,
          -41.9506950378418,
          -40.470115661621094,
          -38.52302932739258,
          -25.227458953857422,
          -35.774559020996094,
          -29.217605590820312,
          -35.965476989746094,
          -37.019718170166016,
          -40.317928314208984,
          -36.13964080810547,
          -29.262083053588867,
          -34.33619689941406,
          -33.23999786376953,
          -34.299652099609375,
          -33.015724182128906
         ],
         "y": [
          32.33313751220703,
          14.999402046203613,
          9.510798454284668,
          11.350008964538574,
          20.63707733154297,
          12.848703384399414,
          28.821943283081055,
          18.651546478271484,
          23.607051849365234,
          22.371540069580078,
          35.47855758666992,
          24.150432586669922,
          24.22518539428711,
          24.539575576782227,
          14.495268821716309,
          29.4360294342041,
          24.6517276763916,
          31.539873123168945,
          23.640512466430664,
          22.65007972717285,
          27.271163940429688,
          27.301130294799805,
          24.734725952148438,
          35.596923828125,
          15.409090995788574,
          17.137380599975586,
          27.105791091918945,
          24.599227905273438,
          24.500545501708984,
          23.349456787109375,
          19.404939651489258,
          25.68499183654785,
          33.72755432128906,
          11.883756637573242,
          12.53044319152832,
          14.110210418701172,
          10.238415718078613,
          35.709938049316406,
          26.36781120300293,
          26.837648391723633,
          34.95639419555664,
          13.006366729736328,
          22.42231559753418,
          25.324682235717773,
          23.843002319335938,
          29.335866928100586,
          21.00885772705078,
          20.505273818969727
         ],
         "z": [
          31.620967864990234,
          44.6109619140625,
          43.98636245727539,
          41.78445816040039,
          31.265195846557617,
          54.152618408203125,
          33.870880126953125,
          32.6806640625,
          41.202850341796875,
          24.229074478149414,
          37.33047866821289,
          24.2635555267334,
          29.305456161499023,
          33.96527099609375,
          43.54458999633789,
          34.42582702636719,
          28.21807861328125,
          26.626245498657227,
          20.729394912719727,
          29.28900909423828,
          28.86664581298828,
          43.90665817260742,
          28.692893981933594,
          37.28785705566406,
          69.10989379882812,
          62.2040901184082,
          40.71006393432617,
          36.26573944091797,
          30.056365966796875,
          28.428348541259766,
          46.28611755371094,
          36.66969299316406,
          24.028718948364258,
          46.605899810791016,
          49.78569412231445,
          48.785789489746094,
          39.025753021240234,
          41.14350891113281,
          39.09672927856445,
          43.09507751464844,
          31.978029251098633,
          48.81537628173828,
          40.78496170043945,
          39.40485382080078,
          41.658050537109375,
          38.13960266113281,
          32.681678771972656,
          48.608795166015625
         ]
        }
       ],
       "layout": {
        "autosize": true,
        "legend": {
         "title": {
          "text": "clusters"
         },
         "tracegroupgap": 0
        },
        "scene": {
         "aspectmode": "auto",
         "aspectratio": {
          "x": 1.9341850614486118,
          "y": 0.5967541661332164,
          "z": 0.8663762044910336
         },
         "camera": {
          "center": {
           "x": 0,
           "y": 0,
           "z": 0
          },
          "eye": {
           "x": 1.049419669059699,
           "y": 1.793148310129981,
           "z": 1.487370122037653
          },
          "projection": {
           "type": "perspective"
          },
          "up": {
           "x": 0,
           "y": 0,
           "z": 1
          }
         },
         "domain": {
          "x": [
           0,
           1
          ],
          "y": [
           0,
           1
          ]
         },
         "xaxis": {
          "title": {
           "text": "x"
          },
          "type": "linear"
         },
         "yaxis": {
          "title": {
           "text": "y"
          },
          "type": "linear"
         },
         "zaxis": {
          "title": {
           "text": "z"
          },
          "type": "linear"
         }
        },
        "template": {
         "data": {
          "bar": [
           {
            "error_x": {
             "color": "#2a3f5f"
            },
            "error_y": {
             "color": "#2a3f5f"
            },
            "marker": {
             "line": {
              "color": "#E5ECF6",
              "width": 0.5
             }
            },
            "type": "bar"
           }
          ],
          "barpolar": [
           {
            "marker": {
             "line": {
              "color": "#E5ECF6",
              "width": 0.5
             }
            },
            "type": "barpolar"
           }
          ],
          "carpet": [
           {
            "aaxis": {
             "endlinecolor": "#2a3f5f",
             "gridcolor": "white",
             "linecolor": "white",
             "minorgridcolor": "white",
             "startlinecolor": "#2a3f5f"
            },
            "baxis": {
             "endlinecolor": "#2a3f5f",
             "gridcolor": "white",
             "linecolor": "white",
             "minorgridcolor": "white",
             "startlinecolor": "#2a3f5f"
            },
            "type": "carpet"
           }
          ],
          "choropleth": [
           {
            "colorbar": {
             "outlinewidth": 0,
             "ticks": ""
            },
            "type": "choropleth"
           }
          ],
          "contour": [
           {
            "colorbar": {
             "outlinewidth": 0,
             "ticks": ""
            },
            "colorscale": [
             [
              0,
              "#0d0887"
             ],
             [
              0.1111111111111111,
              "#46039f"
             ],
             [
              0.2222222222222222,
              "#7201a8"
             ],
             [
              0.3333333333333333,
              "#9c179e"
             ],
             [
              0.4444444444444444,
              "#bd3786"
             ],
             [
              0.5555555555555556,
              "#d8576b"
             ],
             [
              0.6666666666666666,
              "#ed7953"
             ],
             [
              0.7777777777777778,
              "#fb9f3a"
             ],
             [
              0.8888888888888888,
              "#fdca26"
             ],
             [
              1,
              "#f0f921"
             ]
            ],
            "type": "contour"
           }
          ],
          "contourcarpet": [
           {
            "colorbar": {
             "outlinewidth": 0,
             "ticks": ""
            },
            "type": "contourcarpet"
           }
          ],
          "heatmap": [
           {
            "colorbar": {
             "outlinewidth": 0,
             "ticks": ""
            },
            "colorscale": [
             [
              0,
              "#0d0887"
             ],
             [
              0.1111111111111111,
              "#46039f"
             ],
             [
              0.2222222222222222,
              "#7201a8"
             ],
             [
              0.3333333333333333,
              "#9c179e"
             ],
             [
              0.4444444444444444,
              "#bd3786"
             ],
             [
              0.5555555555555556,
              "#d8576b"
             ],
             [
              0.6666666666666666,
              "#ed7953"
             ],
             [
              0.7777777777777778,
              "#fb9f3a"
             ],
             [
              0.8888888888888888,
              "#fdca26"
             ],
             [
              1,
              "#f0f921"
             ]
            ],
            "type": "heatmap"
           }
          ],
          "heatmapgl": [
           {
            "colorbar": {
             "outlinewidth": 0,
             "ticks": ""
            },
            "colorscale": [
             [
              0,
              "#0d0887"
             ],
             [
              0.1111111111111111,
              "#46039f"
             ],
             [
              0.2222222222222222,
              "#7201a8"
             ],
             [
              0.3333333333333333,
              "#9c179e"
             ],
             [
              0.4444444444444444,
              "#bd3786"
             ],
             [
              0.5555555555555556,
              "#d8576b"
             ],
             [
              0.6666666666666666,
              "#ed7953"
             ],
             [
              0.7777777777777778,
              "#fb9f3a"
             ],
             [
              0.8888888888888888,
              "#fdca26"
             ],
             [
              1,
              "#f0f921"
             ]
            ],
            "type": "heatmapgl"
           }
          ],
          "histogram": [
           {
            "marker": {
             "colorbar": {
              "outlinewidth": 0,
              "ticks": ""
             }
            },
            "type": "histogram"
           }
          ],
          "histogram2d": [
           {
            "colorbar": {
             "outlinewidth": 0,
             "ticks": ""
            },
            "colorscale": [
             [
              0,
              "#0d0887"
             ],
             [
              0.1111111111111111,
              "#46039f"
             ],
             [
              0.2222222222222222,
              "#7201a8"
             ],
             [
              0.3333333333333333,
              "#9c179e"
             ],
             [
              0.4444444444444444,
              "#bd3786"
             ],
             [
              0.5555555555555556,
              "#d8576b"
             ],
             [
              0.6666666666666666,
              "#ed7953"
             ],
             [
              0.7777777777777778,
              "#fb9f3a"
             ],
             [
              0.8888888888888888,
              "#fdca26"
             ],
             [
              1,
              "#f0f921"
             ]
            ],
            "type": "histogram2d"
           }
          ],
          "histogram2dcontour": [
           {
            "colorbar": {
             "outlinewidth": 0,
             "ticks": ""
            },
            "colorscale": [
             [
              0,
              "#0d0887"
             ],
             [
              0.1111111111111111,
              "#46039f"
             ],
             [
              0.2222222222222222,
              "#7201a8"
             ],
             [
              0.3333333333333333,
              "#9c179e"
             ],
             [
              0.4444444444444444,
              "#bd3786"
             ],
             [
              0.5555555555555556,
              "#d8576b"
             ],
             [
              0.6666666666666666,
              "#ed7953"
             ],
             [
              0.7777777777777778,
              "#fb9f3a"
             ],
             [
              0.8888888888888888,
              "#fdca26"
             ],
             [
              1,
              "#f0f921"
             ]
            ],
            "type": "histogram2dcontour"
           }
          ],
          "mesh3d": [
           {
            "colorbar": {
             "outlinewidth": 0,
             "ticks": ""
            },
            "type": "mesh3d"
           }
          ],
          "parcoords": [
           {
            "line": {
             "colorbar": {
              "outlinewidth": 0,
              "ticks": ""
             }
            },
            "type": "parcoords"
           }
          ],
          "pie": [
           {
            "automargin": true,
            "type": "pie"
           }
          ],
          "scatter": [
           {
            "marker": {
             "colorbar": {
              "outlinewidth": 0,
              "ticks": ""
             }
            },
            "type": "scatter"
           }
          ],
          "scatter3d": [
           {
            "line": {
             "colorbar": {
              "outlinewidth": 0,
              "ticks": ""
             }
            },
            "marker": {
             "colorbar": {
              "outlinewidth": 0,
              "ticks": ""
             }
            },
            "type": "scatter3d"
           }
          ],
          "scattercarpet": [
           {
            "marker": {
             "colorbar": {
              "outlinewidth": 0,
              "ticks": ""
             }
            },
            "type": "scattercarpet"
           }
          ],
          "scattergeo": [
           {
            "marker": {
             "colorbar": {
              "outlinewidth": 0,
              "ticks": ""
             }
            },
            "type": "scattergeo"
           }
          ],
          "scattergl": [
           {
            "marker": {
             "colorbar": {
              "outlinewidth": 0,
              "ticks": ""
             }
            },
            "type": "scattergl"
           }
          ],
          "scattermapbox": [
           {
            "marker": {
             "colorbar": {
              "outlinewidth": 0,
              "ticks": ""
             }
            },
            "type": "scattermapbox"
           }
          ],
          "scatterpolar": [
           {
            "marker": {
             "colorbar": {
              "outlinewidth": 0,
              "ticks": ""
             }
            },
            "type": "scatterpolar"
           }
          ],
          "scatterpolargl": [
           {
            "marker": {
             "colorbar": {
              "outlinewidth": 0,
              "ticks": ""
             }
            },
            "type": "scatterpolargl"
           }
          ],
          "scatterternary": [
           {
            "marker": {
             "colorbar": {
              "outlinewidth": 0,
              "ticks": ""
             }
            },
            "type": "scatterternary"
           }
          ],
          "surface": [
           {
            "colorbar": {
             "outlinewidth": 0,
             "ticks": ""
            },
            "colorscale": [
             [
              0,
              "#0d0887"
             ],
             [
              0.1111111111111111,
              "#46039f"
             ],
             [
              0.2222222222222222,
              "#7201a8"
             ],
             [
              0.3333333333333333,
              "#9c179e"
             ],
             [
              0.4444444444444444,
              "#bd3786"
             ],
             [
              0.5555555555555556,
              "#d8576b"
             ],
             [
              0.6666666666666666,
              "#ed7953"
             ],
             [
              0.7777777777777778,
              "#fb9f3a"
             ],
             [
              0.8888888888888888,
              "#fdca26"
             ],
             [
              1,
              "#f0f921"
             ]
            ],
            "type": "surface"
           }
          ],
          "table": [
           {
            "cells": {
             "fill": {
              "color": "#EBF0F8"
             },
             "line": {
              "color": "white"
             }
            },
            "header": {
             "fill": {
              "color": "#C8D4E3"
             },
             "line": {
              "color": "white"
             }
            },
            "type": "table"
           }
          ]
         },
         "layout": {
          "annotationdefaults": {
           "arrowcolor": "#2a3f5f",
           "arrowhead": 0,
           "arrowwidth": 1
          },
          "autotypenumbers": "strict",
          "coloraxis": {
           "colorbar": {
            "outlinewidth": 0,
            "ticks": ""
           }
          },
          "colorscale": {
           "diverging": [
            [
             0,
             "#8e0152"
            ],
            [
             0.1,
             "#c51b7d"
            ],
            [
             0.2,
             "#de77ae"
            ],
            [
             0.3,
             "#f1b6da"
            ],
            [
             0.4,
             "#fde0ef"
            ],
            [
             0.5,
             "#f7f7f7"
            ],
            [
             0.6,
             "#e6f5d0"
            ],
            [
             0.7,
             "#b8e186"
            ],
            [
             0.8,
             "#7fbc41"
            ],
            [
             0.9,
             "#4d9221"
            ],
            [
             1,
             "#276419"
            ]
           ],
           "sequential": [
            [
             0,
             "#0d0887"
            ],
            [
             0.1111111111111111,
             "#46039f"
            ],
            [
             0.2222222222222222,
             "#7201a8"
            ],
            [
             0.3333333333333333,
             "#9c179e"
            ],
            [
             0.4444444444444444,
             "#bd3786"
            ],
            [
             0.5555555555555556,
             "#d8576b"
            ],
            [
             0.6666666666666666,
             "#ed7953"
            ],
            [
             0.7777777777777778,
             "#fb9f3a"
            ],
            [
             0.8888888888888888,
             "#fdca26"
            ],
            [
             1,
             "#f0f921"
            ]
           ],
           "sequentialminus": [
            [
             0,
             "#0d0887"
            ],
            [
             0.1111111111111111,
             "#46039f"
            ],
            [
             0.2222222222222222,
             "#7201a8"
            ],
            [
             0.3333333333333333,
             "#9c179e"
            ],
            [
             0.4444444444444444,
             "#bd3786"
            ],
            [
             0.5555555555555556,
             "#d8576b"
            ],
            [
             0.6666666666666666,
             "#ed7953"
            ],
            [
             0.7777777777777778,
             "#fb9f3a"
            ],
            [
             0.8888888888888888,
             "#fdca26"
            ],
            [
             1,
             "#f0f921"
            ]
           ]
          },
          "colorway": [
           "#636efa",
           "#EF553B",
           "#00cc96",
           "#ab63fa",
           "#FFA15A",
           "#19d3f3",
           "#FF6692",
           "#B6E880",
           "#FF97FF",
           "#FECB52"
          ],
          "font": {
           "color": "#2a3f5f"
          },
          "geo": {
           "bgcolor": "white",
           "lakecolor": "white",
           "landcolor": "#E5ECF6",
           "showlakes": true,
           "showland": true,
           "subunitcolor": "white"
          },
          "hoverlabel": {
           "align": "left"
          },
          "hovermode": "closest",
          "mapbox": {
           "style": "light"
          },
          "paper_bgcolor": "white",
          "plot_bgcolor": "#E5ECF6",
          "polar": {
           "angularaxis": {
            "gridcolor": "white",
            "linecolor": "white",
            "ticks": ""
           },
           "bgcolor": "#E5ECF6",
           "radialaxis": {
            "gridcolor": "white",
            "linecolor": "white",
            "ticks": ""
           }
          },
          "scene": {
           "xaxis": {
            "backgroundcolor": "#E5ECF6",
            "gridcolor": "white",
            "gridwidth": 2,
            "linecolor": "white",
            "showbackground": true,
            "ticks": "",
            "zerolinecolor": "white"
           },
           "yaxis": {
            "backgroundcolor": "#E5ECF6",
            "gridcolor": "white",
            "gridwidth": 2,
            "linecolor": "white",
            "showbackground": true,
            "ticks": "",
            "zerolinecolor": "white"
           },
           "zaxis": {
            "backgroundcolor": "#E5ECF6",
            "gridcolor": "white",
            "gridwidth": 2,
            "linecolor": "white",
            "showbackground": true,
            "ticks": "",
            "zerolinecolor": "white"
           }
          },
          "shapedefaults": {
           "line": {
            "color": "#2a3f5f"
           }
          },
          "ternary": {
           "aaxis": {
            "gridcolor": "white",
            "linecolor": "white",
            "ticks": ""
           },
           "baxis": {
            "gridcolor": "white",
            "linecolor": "white",
            "ticks": ""
           },
           "bgcolor": "#E5ECF6",
           "caxis": {
            "gridcolor": "white",
            "linecolor": "white",
            "ticks": ""
           }
          },
          "title": {
           "x": 0.05
          },
          "xaxis": {
           "automargin": true,
           "gridcolor": "white",
           "linecolor": "white",
           "ticks": "",
           "title": {
            "standoff": 15
           },
           "zerolinecolor": "white",
           "zerolinewidth": 2
          },
          "yaxis": {
           "automargin": true,
           "gridcolor": "white",
           "linecolor": "white",
           "ticks": "",
           "title": {
            "standoff": 15
           },
           "zerolinecolor": "white",
           "zerolinewidth": 2
          }
         }
        },
        "title": {
         "text": "Intersection 3D embedding of farmers IPM data"
        }
       }
      },
      "image/png": "[encoded data removed]",
      "text/html": [
       "<div>                            <div id=\"5f1765c4-ad4a-4075-9001-93d46b52f0d0\" class=\"plotly-graph-div\" style=\"height:525px; width:100%;\"></div>            <script type=\"text/javascript\">                require([\"plotly\"], function(Plotly) {                    window.PLOTLYENV=window.PLOTLYENV || {};                                    if (document.getElementById(\"5f1765c4-ad4a-4075-9001-93d46b52f0d0\")) {                    Plotly.newPlot(                        \"5f1765c4-ad4a-4075-9001-93d46b52f0d0\",                        [{\"hovertemplate\": \"clusters=1<br>x=%{x}<br>y=%{y}<br>z=%{z}<br>text=%{text}<extra></extra>\", \"legendgroup\": \"1\", \"marker\": {\"color\": \"#636efa\", \"opacity\": 0.8, \"symbol\": \"circle\"}, \"mode\": \"markers+text\", \"name\": \"1\", \"scene\": \"scene\", \"showlegend\": true, \"text\": [0.0, 0.0, 1.0, 1.0, 1.0, 0.0, 0.0, 0.0, 0.0, 1.0, 0.0, 0.0, 0.0, 0.0, 1.0, 0.0, 1.0, 0.0, 0.0, 1.0, 1.0, 0.0, 1.0, 0.0, 1.0, 1.0, 0.0, 1.0, 1.0, 0.0, 1.0, 0.0, 1.0, 0.0, 0.0, 0.0, 1.0, 1.0, 1.0, 1.0, 0.0, 1.0, 0.0, 0.0, 0.0, 1.0, 1.0, 0.0, 1.0, 1.0, 1.0, 1.0], \"type\": \"scatter3d\", \"x\": [142.3041534423828, 159.59205627441406, 117.51058959960938, 113.8774185180664, 128.73733520507812, 133.19235229492188, 128.7500457763672, 146.16143798828125, 161.01712036132812, 127.19026947021484, 128.14398193359375, 124.8864974975586, 125.6407241821289, 116.96862030029297, 128.12351989746094, 121.77552032470703, 115.88723754882812, 118.86422729492188, 151.87603759765625, 118.28108215332031, 136.05490112304688, 162.45875549316406, 123.57667541503906, 166.28163146972656, 128.23411560058594, 141.94277954101562, 137.21298217773438, 130.99476623535156, 145.54815673828125, 144.5614776611328, 133.42262268066406, 161.3834686279297, 114.12872314453125, 120.13983917236328, 152.1186065673828, 162.8971405029297, 133.06015014648438, 150.15811157226562, 126.01815795898438, 114.53240966796875, 133.81011962890625, 113.18891143798828, 122.38719940185547, 121.44248962402344, 131.90255737304688, 137.28382873535156, 96.48004150390625, 146.7687225341797, 127.91261291503906, 117.10889434814453, 140.20960998535156, 139.88397216796875], \"y\": [28.59900665283203, 70.24594116210938, 10.11137580871582, 18.02734375, 21.303104400634766, 20.937881469726562, 41.22014236450195, 62.32941436767578, 56.983985900878906, 12.322495460510254, 42.7517204284668, 39.93695068359375, 38.21443557739258, 34.392112731933594, 49.19867706298828, 36.6958122253418, 14.143647193908691, 36.82836151123047, 27.72449493408203, 52.28291702270508, 20.504003524780273, 59.58352279663086, 42.797142028808594, 71.09513854980469, 62.751731872558594, 24.28839111328125, 24.021482467651367, 50.43917465209961, 21.1505126953125, 22.19444465637207, 18.180328369140625, 35.701805114746094, 33.5799674987793, 47.807559967041016, 59.41691589355469, 70.79359436035156, 59.854637145996094, 17.97539520263672, 10.931730270385742, 32.262664794921875, 71.64717864990234, 41.965030670166016, 53.83898162841797, 52.49903869628906, 24.9356746673584, 18.46880531311035, 14.835044860839844, 75.60902404785156, 23.216995239257812, 15.140230178833008, 43.87813949584961, 59.6579475402832], \"z\": [51.214900970458984, 28.887697219848633, 90.26661682128906, 97.91706085205078, 87.32185363769531, 51.93653106689453, 52.43829345703125, 22.22422981262207, 32.46634292602539, 95.42062377929688, 47.883262634277344, 48.967594146728516, 47.43488693237305, 40.369258880615234, 15.606005668640137, 31.257226943969727, 87.48426055908203, 34.6389274597168, 57.05586242675781, 17.221332550048828, 104.02522277832031, 21.480268478393555, 16.952857971191406, 28.9969539642334, 31.184192657470703, 104.83631896972656, 45.96800231933594, 40.48210906982422, 111.56835174560547, 48.15065002441406, 109.2376708984375, 64.01716613769531, 42.64783477783203, 37.57042694091797, 21.07090950012207, 25.44442367553711, 17.078968048095703, 80.681884765625, 83.97392272949219, 41.62125778198242, 42.95564270019531, 21.07916831970215, 40.56880569458008, 43.71725845336914, 53.86922836303711, 82.60222625732422, 63.27501678466797, 33.861854553222656, 78.74638366699219, 100.00149536132812, 47.59400939941406, 28.827112197875977]}, {\"hovertemplate\": \"clusters=0<br>x=%{x}<br>y=%{y}<br>z=%{z}<br>text=%{text}<extra></extra>\", \"legendgroup\": \"0\", \"marker\": {\"color\": \"#EF553B\", \"opacity\": 0.8, \"symbol\": \"circle\"}, \"mode\": \"markers+text\", \"name\": \"0\", \"scene\": \"scene\", \"showlegend\": true, \"text\": [1.0, 1.0, 1.0, 1.0, 1.0, 1.0, 1.0, 1.0, 1.0, 1.0, 1.0, 1.0, 1.0, 1.0, 1.0, 1.0, 1.0, 1.0, 1.0, 1.0, 1.0, 1.0, 1.0, 1.0, 1.0, 1.0, 1.0, 1.0, 1.0, 1.0, 1.0, 1.0, 1.0, 1.0, 1.0, 1.0, 1.0, 1.0, 1.0, 1.0, 1.0, 1.0, 1.0, 1.0, 1.0, 1.0, 1.0, 1.0], \"type\": \"scatter3d\", \"x\": [-31.445110321044922, -29.871156692504883, -36.314910888671875, -23.13100242614746, -28.429203033447266, -27.134584426879883, -40.630958557128906, -33.2027702331543, -28.939056396484375, -31.252126693725586, -31.084463119506836, -24.669328689575195, -32.73670196533203, -31.353647232055664, -40.72530746459961, -42.34309005737305, -32.23103332519531, -47.95432662963867, -28.960180282592773, -34.809200286865234, -42.99118423461914, -33.89054870605469, -33.73689270019531, -28.864343643188477, -31.833236694335938, -35.311668395996094, -27.34734344482422, -31.828325271606445, -38.47549819946289, -31.9508056640625, -29.102018356323242, -31.558115005493164, -36.734066009521484, -41.9506950378418, -40.470115661621094, -38.52302932739258, -25.227458953857422, -35.774559020996094, -29.217605590820312, -35.965476989746094, -37.019718170166016, -40.317928314208984, -36.13964080810547, -29.262083053588867, -34.33619689941406, -33.23999786376953, -34.299652099609375, -33.015724182128906], \"y\": [32.33313751220703, 14.999402046203613, 9.510798454284668, 11.350008964538574, 20.63707733154297, 12.848703384399414, 28.821943283081055, 18.651546478271484, 23.607051849365234, 22.371540069580078, 35.47855758666992, 24.150432586669922, 24.22518539428711, 24.539575576782227, 14.495268821716309, 29.4360294342041, 24.6517276763916, 31.539873123168945, 23.640512466430664, 22.65007972717285, 27.271163940429688, 27.301130294799805, 24.734725952148438, 35.596923828125, 15.409090995788574, 17.137380599975586, 27.105791091918945, 24.599227905273438, 24.500545501708984, 23.349456787109375, 19.404939651489258, 25.68499183654785, 33.72755432128906, 11.883756637573242, 12.53044319152832, 14.110210418701172, 10.238415718078613, 35.709938049316406, 26.36781120300293, 26.837648391723633, 34.95639419555664, 13.006366729736328, 22.42231559753418, 25.324682235717773, 23.843002319335938, 29.335866928100586, 21.00885772705078, 20.505273818969727], \"z\": [31.620967864990234, 44.6109619140625, 43.98636245727539, 41.78445816040039, 31.265195846557617, 54.152618408203125, 33.870880126953125, 32.6806640625, 41.202850341796875, 24.229074478149414, 37.33047866821289, 24.2635555267334, 29.305456161499023, 33.96527099609375, 43.54458999633789, 34.42582702636719, 28.21807861328125, 26.626245498657227, 20.729394912719727, 29.28900909423828, 28.86664581298828, 43.90665817260742, 28.692893981933594, 37.28785705566406, 69.10989379882812, 62.2040901184082, 40.71006393432617, 36.26573944091797, 30.056365966796875, 28.428348541259766, 46.28611755371094, 36.66969299316406, 24.028718948364258, 46.605899810791016, 49.78569412231445, 48.785789489746094, 39.025753021240234, 41.14350891113281, 39.09672927856445, 43.09507751464844, 31.978029251098633, 48.81537628173828, 40.78496170043945, 39.40485382080078, 41.658050537109375, 38.13960266113281, 32.681678771972656, 48.608795166015625]}],                        {\"legend\": {\"title\": {\"text\": \"clusters\"}, \"tracegroupgap\": 0}, \"scene\": {\"domain\": {\"x\": [0.0, 1.0], \"y\": [0.0, 1.0]}, \"xaxis\": {\"title\": {\"text\": \"x\"}}, \"yaxis\": {\"title\": {\"text\": \"y\"}}, \"zaxis\": {\"title\": {\"text\": \"z\"}}}, \"template\": {\"data\": {\"bar\": [{\"error_x\": {\"color\": \"#2a3f5f\"}, \"error_y\": {\"color\": \"#2a3f5f\"}, \"marker\": {\"line\": {\"color\": \"#E5ECF6\", \"width\": 0.5}}, \"type\": \"bar\"}], \"barpolar\": [{\"marker\": {\"line\": {\"color\": \"#E5ECF6\", \"width\": 0.5}}, \"type\": \"barpolar\"}], \"carpet\": [{\"aaxis\": {\"endlinecolor\": \"#2a3f5f\", \"gridcolor\": \"white\", \"linecolor\": \"white\", \"minorgridcolor\": \"white\", \"startlinecolor\": \"#2a3f5f\"}, \"baxis\": {\"endlinecolor\": \"#2a3f5f\", \"gridcolor\": \"white\", \"linecolor\": \"white\", \"minorgridcolor\": \"white\", \"startlinecolor\": \"#2a3f5f\"}, \"type\": \"carpet\"}], \"choropleth\": [{\"colorbar\": {\"outlinewidth\": 0, \"ticks\": \"\"}, \"type\": \"choropleth\"}], \"contour\": [{\"colorbar\": {\"outlinewidth\": 0, \"ticks\": \"\"}, \"colorscale\": [[0.0, \"#0d0887\"], [0.1111111111111111, \"#46039f\"], [0.2222222222222222, \"#7201a8\"], [0.3333333333333333, \"#9c179e\"], [0.4444444444444444, \"#bd3786\"], [0.5555555555555556, \"#d8576b\"], [0.6666666666666666, \"#ed7953\"], [0.7777777777777778, \"#fb9f3a\"], [0.8888888888888888, \"#fdca26\"], [1.0, \"#f0f921\"]], \"type\": \"contour\"}], \"contourcarpet\": [{\"colorbar\": {\"outlinewidth\": 0, \"ticks\": \"\"}, \"type\": \"contourcarpet\"}], \"heatmap\": [{\"colorbar\": {\"outlinewidth\": 0, \"ticks\": \"\"}, \"colorscale\": [[0.0, \"#0d0887\"], [0.1111111111111111, \"#46039f\"], [0.2222222222222222, \"#7201a8\"], [0.3333333333333333, \"#9c179e\"], [0.4444444444444444, \"#bd3786\"], [0.5555555555555556, \"#d8576b\"], [0.6666666666666666, \"#ed7953\"], [0.7777777777777778, \"#fb9f3a\"], [0.8888888888888888, \"#fdca26\"], [1.0, \"#f0f921\"]], \"type\": \"heatmap\"}], \"heatmapgl\": [{\"colorbar\": {\"outlinewidth\": 0, \"ticks\": \"\"}, \"colorscale\": [[0.0, \"#0d0887\"], [0.1111111111111111, \"#46039f\"], [0.2222222222222222, \"#7201a8\"], [0.3333333333333333, \"#9c179e\"], [0.4444444444444444, \"#bd3786\"], [0.5555555555555556, \"#d8576b\"], [0.6666666666666666, \"#ed7953\"], [0.7777777777777778, \"#fb9f3a\"], [0.8888888888888888, \"#fdca26\"], [1.0, \"#f0f921\"]], \"type\": \"heatmapgl\"}], \"histogram\": [{\"marker\": {\"colorbar\": {\"outlinewidth\": 0, \"ticks\": \"\"}}, \"type\": \"histogram\"}], \"histogram2d\": [{\"colorbar\": {\"outlinewidth\": 0, \"ticks\": \"\"}, \"colorscale\": [[0.0, \"#0d0887\"], [0.1111111111111111, \"#46039f\"], [0.2222222222222222, \"#7201a8\"], [0.3333333333333333, \"#9c179e\"], [0.4444444444444444, \"#bd3786\"], [0.5555555555555556, \"#d8576b\"], [0.6666666666666666, \"#ed7953\"], [0.7777777777777778, \"#fb9f3a\"], [0.8888888888888888, \"#fdca26\"], [1.0, \"#f0f921\"]], \"type\": \"histogram2d\"}], \"histogram2dcontour\": [{\"colorbar\": {\"outlinewidth\": 0, \"ticks\": \"\"}, \"colorscale\": [[0.0, \"#0d0887\"], [0.1111111111111111, \"#46039f\"], [0.2222222222222222, \"#7201a8\"], [0.3333333333333333, \"#9c179e\"], [0.4444444444444444, \"#bd3786\"], [0.5555555555555556, \"#d8576b\"], [0.6666666666666666, \"#ed7953\"], [0.7777777777777778, \"#fb9f3a\"], [0.8888888888888888, \"#fdca26\"], [1.0, \"#f0f921\"]], \"type\": \"histogram2dcontour\"}], \"mesh3d\": [{\"colorbar\": {\"outlinewidth\": 0, \"ticks\": \"\"}, \"type\": \"mesh3d\"}], \"parcoords\": [{\"line\": {\"colorbar\": {\"outlinewidth\": 0, \"ticks\": \"\"}}, \"type\": \"parcoords\"}], \"pie\": [{\"automargin\": true, \"type\": \"pie\"}], \"scatter\": [{\"marker\": {\"colorbar\": {\"outlinewidth\": 0, \"ticks\": \"\"}}, \"type\": \"scatter\"}], \"scatter3d\": [{\"line\": {\"colorbar\": {\"outlinewidth\": 0, \"ticks\": \"\"}}, \"marker\": {\"colorbar\": {\"outlinewidth\": 0, \"ticks\": \"\"}}, \"type\": \"scatter3d\"}], \"scattercarpet\": [{\"marker\": {\"colorbar\": {\"outlinewidth\": 0, \"ticks\": \"\"}}, \"type\": \"scattercarpet\"}], \"scattergeo\": [{\"marker\": {\"colorbar\": {\"outlinewidth\": 0, \"ticks\": \"\"}}, \"type\": \"scattergeo\"}], \"scattergl\": [{\"marker\": {\"colorbar\": {\"outlinewidth\": 0, \"ticks\": \"\"}}, \"type\": \"scattergl\"}], \"scattermapbox\": [{\"marker\": {\"colorbar\": {\"outlinewidth\": 0, \"ticks\": \"\"}}, \"type\": \"scattermapbox\"}], \"scatterpolar\": [{\"marker\": {\"colorbar\": {\"outlinewidth\": 0, \"ticks\": \"\"}}, \"type\": \"scatterpolar\"}], \"scatterpolargl\": [{\"marker\": {\"colorbar\": {\"outlinewidth\": 0, \"ticks\": \"\"}}, \"type\": \"scatterpolargl\"}], \"scatterternary\": [{\"marker\": {\"colorbar\": {\"outlinewidth\": 0, \"ticks\": \"\"}}, \"type\": \"scatterternary\"}], \"surface\": [{\"colorbar\": {\"outlinewidth\": 0, \"ticks\": \"\"}, \"colorscale\": [[0.0, \"#0d0887\"], [0.1111111111111111, \"#46039f\"], [0.2222222222222222, \"#7201a8\"], [0.3333333333333333, \"#9c179e\"], [0.4444444444444444, \"#bd3786\"], [0.5555555555555556, \"#d8576b\"], [0.6666666666666666, \"#ed7953\"], [0.7777777777777778, \"#fb9f3a\"], [0.8888888888888888, \"#fdca26\"], [1.0, \"#f0f921\"]], \"type\": \"surface\"}], \"table\": [{\"cells\": {\"fill\": {\"color\": \"#EBF0F8\"}, \"line\": {\"color\": \"white\"}}, \"header\": {\"fill\": {\"color\": \"#C8D4E3\"}, \"line\": {\"color\": \"white\"}}, \"type\": \"table\"}]}, \"layout\": {\"annotationdefaults\": {\"arrowcolor\": \"#2a3f5f\", \"arrowhead\": 0, \"arrowwidth\": 1}, \"autotypenumbers\": \"strict\", \"coloraxis\": {\"colorbar\": {\"outlinewidth\": 0, \"ticks\": \"\"}}, \"colorscale\": {\"diverging\": [[0, \"#8e0152\"], [0.1, \"#c51b7d\"], [0.2, \"#de77ae\"], [0.3, \"#f1b6da\"], [0.4, \"#fde0ef\"], [0.5, \"#f7f7f7\"], [0.6, \"#e6f5d0\"], [0.7, \"#b8e186\"], [0.8, \"#7fbc41\"], [0.9, \"#4d9221\"], [1, \"#276419\"]], \"sequential\": [[0.0, \"#0d0887\"], [0.1111111111111111, \"#46039f\"], [0.2222222222222222, \"#7201a8\"], [0.3333333333333333, \"#9c179e\"], [0.4444444444444444, \"#bd3786\"], [0.5555555555555556, \"#d8576b\"], [0.6666666666666666, \"#ed7953\"], [0.7777777777777778, \"#fb9f3a\"], [0.8888888888888888, \"#fdca26\"], [1.0, \"#f0f921\"]], \"sequentialminus\": [[0.0, \"#0d0887\"], [0.1111111111111111, \"#46039f\"], [0.2222222222222222, \"#7201a8\"], [0.3333333333333333, \"#9c179e\"], [0.4444444444444444, \"#bd3786\"], [0.5555555555555556, \"#d8576b\"], [0.6666666666666666, \"#ed7953\"], [0.7777777777777778, \"#fb9f3a\"], [0.8888888888888888, \"#fdca26\"], [1.0, \"#f0f921\"]]}, \"colorway\": [\"#636efa\", \"#EF553B\", \"#00cc96\", \"#ab63fa\", \"#FFA15A\", \"#19d3f3\", \"#FF6692\", \"#B6E880\", \"#FF97FF\", \"#FECB52\"], \"font\": {\"color\": \"#2a3f5f\"}, \"geo\": {\"bgcolor\": \"white\", \"lakecolor\": \"white\", \"landcolor\": \"#E5ECF6\", \"showlakes\": true, \"showland\": true, \"subunitcolor\": \"white\"}, \"hoverlabel\": {\"align\": \"left\"}, \"hovermode\": \"closest\", \"mapbox\": {\"style\": \"light\"}, \"paper_bgcolor\": \"white\", \"plot_bgcolor\": \"#E5ECF6\", \"polar\": {\"angularaxis\": {\"gridcolor\": \"white\", \"linecolor\": \"white\", \"ticks\": \"\"}, \"bgcolor\": \"#E5ECF6\", \"radialaxis\": {\"gridcolor\": \"white\", \"linecolor\": \"white\", \"ticks\": \"\"}}, \"scene\": {\"xaxis\": {\"backgroundcolor\": \"#E5ECF6\", \"gridcolor\": \"white\", \"gridwidth\": 2, \"linecolor\": \"white\", \"showbackground\": true, \"ticks\": \"\", \"zerolinecolor\": \"white\"}, \"yaxis\": {\"backgroundcolor\": \"#E5ECF6\", \"gridcolor\": \"white\", \"gridwidth\": 2, \"linecolor\": \"white\", \"showbackground\": true, \"ticks\": \"\", \"zerolinecolor\": \"white\"}, \"zaxis\": {\"backgroundcolor\": \"#E5ECF6\", \"gridcolor\": \"white\", \"gridwidth\": 2, \"linecolor\": \"white\", \"showbackground\": true, \"ticks\": \"\", \"zerolinecolor\": \"white\"}}, \"shapedefaults\": {\"line\": {\"color\": \"#2a3f5f\"}}, \"ternary\": {\"aaxis\": {\"gridcolor\": \"white\", \"linecolor\": \"white\", \"ticks\": \"\"}, \"baxis\": {\"gridcolor\": \"white\", \"linecolor\": \"white\", \"ticks\": \"\"}, \"bgcolor\": \"#E5ECF6\", \"caxis\": {\"gridcolor\": \"white\", \"linecolor\": \"white\", \"ticks\": \"\"}}, \"title\": {\"x\": 0.05}, \"xaxis\": {\"automargin\": true, \"gridcolor\": \"white\", \"linecolor\": \"white\", \"ticks\": \"\", \"title\": {\"standoff\": 15}, \"zerolinecolor\": \"white\", \"zerolinewidth\": 2}, \"yaxis\": {\"automargin\": true, \"gridcolor\": \"white\", \"linecolor\": \"white\", \"ticks\": \"\", \"title\": {\"standoff\": 15}, \"zerolinecolor\": \"white\", \"zerolinewidth\": 2}}}, \"title\": {\"text\": \"Intersection 3D embedding of farmers IPM data\"}},                        {\"responsive\": true}                    ).then(function(){\n",
       "                            \n",
       "var gd = document.getElementById('5f1765c4-ad4a-4075-9001-93d46b52f0d0');\n",
       "var x = new MutationObserver(function (mutations, observer) {{\n",
       "        var display = window.getComputedStyle(gd).display;\n",
       "        if (!display || display === 'none') {{\n",
       "            console.log([gd, 'removed!']);\n",
       "            Plotly.purge(gd);\n",
       "            observer.disconnect();\n",
       "        }}\n",
       "}});\n",
       "\n",
       "// Listen for the removal of the full notebook cells\n",
       "var notebookContainer = gd.closest('#notebook-container');\n",
       "if (notebookContainer) {{\n",
       "    x.observe(notebookContainer, {childList: true});\n",
       "}}\n",
       "\n",
       "// Listen for the clearing of the current output cell\n",
       "var outputEl = gd.closest('.output');\n",
       "if (outputEl) {{\n",
       "    x.observe(outputEl, {childList: true});\n",
       "}}\n",
       "\n",
       "                        })                };                });            </script>        </div>"
      ]
     },
     "metadata": {},
     "output_type": "display_data"
    }
   ],
   "source": [
    "# Intersection embedding cluster visualisation \n",
    "fig = px.scatter_3d(intersection3d_df, \"x\",\"y\",\"z\", color=\"clusters\", text=df_noNaN[\"Already_used_DSS\"], opacity=0.8, \n",
    "                    title=\"Intersection 3D embedding of farmers IPM data\")\n",
    "fig.show()"
   ]
  },
  {
   "cell_type": "code",
   "execution_count": 46,
   "metadata": {
    "id": "MQ3UT6dB1Lp5"
   },
   "outputs": [],
   "source": [
    "fig.write_html(\"IPM_DataEmbedding_q1.html\")"
   ]
  },
  {
   "cell_type": "code",
   "execution_count": 47,
   "metadata": {
    "id": "r6OTdtXFl2Nz"
   },
   "outputs": [
    {
     "data": {
      "application/vnd.plotly.v1+json": {
       "config": {
        "plotlyServerURL": "https://plot.ly"
       },
       "data": [
        {
         "hovertemplate": "clusters=0<br>x=%{x}<br>y=%{y}<br>z=%{z}<br>text=%{text}<extra></extra>",
         "legendgroup": "0",
         "marker": {
          "color": "#636efa",
          "opacity": 0.5,
          "symbol": "circle"
         },
         "mode": "markers+text",
         "name": "0",
         "scene": "scene",
         "showlegend": true,
         "text": [
          0,
          0,
          1,
          1,
          1,
          0,
          0,
          0,
          0,
          1,
          0,
          0,
          0,
          0,
          1,
          0,
          1,
          0,
          0,
          1,
          1,
          0,
          1,
          0,
          1,
          1,
          0,
          1,
          1,
          0,
          1,
          0,
          1,
          0,
          0,
          0,
          1,
          1,
          1,
          1,
          0,
          1,
          0,
          0,
          0,
          1,
          1,
          0,
          1,
          1,
          1,
          1
         ],
         "type": "scatter3d",
         "x": [
          26.163402557373047,
          27.08210563659668,
          23.528736114501953,
          23.379337310791016,
          24.128093719482422,
          25.574420928955078,
          25.526290893554688,
          26.17416763305664,
          27.406538009643555,
          24.16459846496582,
          25.249942779541016,
          25.482694625854492,
          25.451770782470703,
          24.852113723754883,
          24.493030548095703,
          25.215280532836914,
          23.301733016967773,
          24.678245544433594,
          26.716779708862305,
          23.846939086914062,
          24.59949493408203,
          27.25513458251953,
          24.18981170654297,
          27.313953399658203,
          24.361080169677734,
          24.86371421813965,
          26.057764053344727,
          24.245479583740234,
          25.357254028320312,
          26.479822158813477,
          24.356155395507812,
          27.212732315063477,
          23.43710708618164,
          24.941946029663086,
          26.632232666015625,
          27.179229736328125,
          24.644372940063477,
          25.396669387817383,
          24.200986862182617,
          23.555055618286133,
          25.777101516723633,
          23.524757385253906,
          25.288986206054688,
          25.00198745727539,
          25.53434181213379,
          24.68173599243164,
          21.95621109008789,
          26.524948120117188,
          23.979721069335938,
          23.560354232788086,
          24.883930206298828,
          25.076847076416016
         ],
         "y": [
          20.333271026611328,
          22.259883880615234,
          11.109304428100586,
          11.895418167114258,
          12.081628799438477,
          19.625253677368164,
          20.586380004882812,
          22.02596092224121,
          21.770069122314453,
          11.684576988220215,
          21.15619468688965,
          20.964448928833008,
          20.933670043945312,
          20.722383499145508,
          18.848203659057617,
          20.540637969970703,
          11.829233169555664,
          20.650096893310547,
          20.470060348510742,
          18.894514083862305,
          12.972200393676758,
          21.142154693603516,
          18.21982192993164,
          22.41233253479004,
          19.431072235107422,
          13.800886154174805,
          20.346288681030273,
          16.142131805419922,
          12.44232177734375,
          20.11467742919922,
          13.307077407836914,
          20.46857452392578,
          13.614546775817871,
          21.226102828979492,
          21.256656646728516,
          21.86626434326172,
          19.297515869140625,
          13.328709602355957,
          11.521093368530273,
          17.436460494995117,
          22.463525772094727,
          18.298561096191406,
          21.408676147460938,
          21.626907348632812,
          19.59225082397461,
          13.176955223083496,
          13.217565536499023,
          22.802898406982422,
          13.743276596069336,
          11.709554672241211,
          14.596872329711914,
          19.245044708251953
         ],
         "z": [
          14.313321113586426,
          11.12493896484375,
          19.555574417114258,
          20.13223648071289,
          19.244876861572266,
          14.41708755493164,
          14.485645294189453,
          10.067300796508789,
          11.713812828063965,
          19.976877212524414,
          13.839807510375977,
          14.204507827758789,
          13.99304485321045,
          12.812509536743164,
          8.108564376831055,
          11.245767593383789,
          19.312522888183594,
          11.795801162719727,
          15.629547119140625,
          8.464226722717285,
          20.53668975830078,
          9.6256685256958,
          8.441791534423828,
          11.166702270507812,
          11.197587013244629,
          20.534236907958984,
          13.78364372253418,
          14.586505889892578,
          21.27291488647461,
          14.075078964233398,
          20.930644989013672,
          16.257293701171875,
          15.677462577819824,
          12.326478958129883,
          9.554332733154297,
          10.254718780517578,
          8.386847496032715,
          18.31563949584961,
          18.977373123168945,
          13.112173080444336,
          13.163802146911621,
          9.209878921508789,
          12.798129081726074,
          13.256861686706543,
          14.746379852294922,
          18.562416076660156,
          16.646163940429688,
          11.807498931884766,
          18.15420913696289,
          20.343006134033203,
          16.0303955078125,
          10.74158763885498
         ]
        },
        {
         "hovertemplate": "clusters=1<br>x=%{x}<br>y=%{y}<br>z=%{z}<br>text=%{text}<extra></extra>",
         "legendgroup": "1",
         "marker": {
          "color": "#EF553B",
          "opacity": 0.5,
          "symbol": "circle"
         },
         "mode": "markers+text",
         "name": "1",
         "scene": "scene",
         "showlegend": true,
         "text": [
          1,
          1,
          1,
          1,
          1,
          1,
          1,
          1,
          1,
          1,
          1,
          1,
          1,
          1,
          1,
          1,
          1,
          1,
          1,
          1,
          1,
          1,
          1,
          1,
          1,
          1,
          1,
          1,
          1,
          1,
          1,
          1,
          1,
          1,
          1,
          1,
          1,
          1,
          1,
          1,
          1,
          1,
          1,
          1,
          1,
          1,
          1,
          1
         ],
         "type": "scatter3d",
         "x": [
          4.886120796203613,
          2.667965888977051,
          2.4660744667053223,
          2.588815689086914,
          3.6380534172058105,
          4.0983123779296875,
          3.535975456237793,
          2.8346571922302246,
          2.307623863220215,
          2.996504306793213,
          3.512722969055176,
          3.4247336387634277,
          1.8996829986572266,
          3.10443115234375,
          4.548074245452881,
          4.082361221313477,
          4.2231035232543945,
          3.9167075157165527,
          3.0984554290771484,
          1.682539939880371,
          3.468019962310791,
          3.8883628845214844,
          3.5164566040039062,
          4.4652180671691895,
          4.750277519226074,
          4.794234275817871,
          3.0077409744262695,
          2.2969160079956055,
          3.436389923095703,
          2.380833148956299,
          2.3856420516967773,
          2.104231834411621,
          3.191422462463379,
          5.1759233474731445,
          5.288273334503174,
          4.419431209564209,
          1.8648128509521484,
          3.1414952278137207,
          2.2725162506103516,
          3.1103615760803223,
          2.9189696311950684,
          4.976150035858154,
          2.658895969390869,
          3.8146355152130127,
          4.495911121368408,
          2.417069911956787,
          3.4188990592956543,
          3.236049175262451
         ],
         "y": [
          12.183975219726562,
          10.836029052734375,
          10.165688514709473,
          9.479866981506348,
          11.20175838470459,
          9.767362594604492,
          12.222160339355469,
          10.383474349975586,
          11.263809204101562,
          10.852027893066406,
          12.799325942993164,
          11.619818687438965,
          11.254202842712402,
          12.021141052246094,
          10.326266288757324,
          11.635570526123047,
          11.909687995910645,
          12.299531936645508,
          10.991293907165527,
          11.432254791259766,
          11.438568115234375,
          11.325765609741211,
          11.782443046569824,
          12.916887283325195,
          10.756247520446777,
          10.556451797485352,
          11.75130558013916,
          11.48312759399414,
          11.396931648254395,
          10.911150932312012,
          10.6715669631958,
          11.694318771362305,
          12.462579727172852,
          9.78155517578125,
          10.087640762329102,
          10.434046745300293,
          9.772215843200684,
          12.984769821166992,
          11.90400218963623,
          11.657994270324707,
          12.689516067504883,
          9.82313346862793,
          10.972026824951172,
          11.51358699798584,
          11.23598575592041,
          11.847591400146484,
          11.036795616149902,
          10.662642478942871
         ],
         "z": [
          11.623666763305664,
          13.367546081542969,
          13.273786544799805,
          12.992671966552734,
          11.63698959350586,
          14.803876876831055,
          11.996472358703613,
          11.47301197052002,
          13.078885078430176,
          10.832561492919922,
          12.219926834106445,
          10.498847961425781,
          11.46566390991211,
          11.816356658935547,
          13.272090911865234,
          12.021240234375,
          10.86509895324707,
          10.783490180969238,
          9.622345924377441,
          11.31815242767334,
          11.082281112670898,
          13.27285385131836,
          11.390345573425293,
          12.23273754119873,
          16.86736488342285,
          16.087032318115234,
          12.870054244995117,
          12.337946891784668,
          11.07705307006836,
          11.022726058959961,
          13.630566596984863,
          12.25461196899414,
          10.427276611328125,
          13.670330047607422,
          14.112350463867188,
          14.003755569458008,
          12.512031555175781,
          12.89088249206543,
          12.568048477172852,
          13.14474105834961,
          11.438417434692383,
          13.990211486816406,
          12.858109474182129,
          12.589689254760742,
          12.96527099609375,
          12.383068084716797,
          11.79035758972168,
          13.948720932006836
         ]
        }
       ],
       "layout": {
        "autosize": true,
        "legend": {
         "title": {
          "text": "clusters"
         },
         "tracegroupgap": 0
        },
        "scene": {
         "aspectmode": "auto",
         "aspectratio": {
          "x": 1.556771297182172,
          "y": 0.8062865211849308,
          "z": 0.7966834301526309
         },
         "camera": {
          "center": {
           "x": 0,
           "y": 0,
           "z": 0
          },
          "eye": {
           "x": 0.7208686501651481,
           "y": 1.4603437749066361,
           "z": 1.4266199382808704
          },
          "projection": {
           "type": "perspective"
          },
          "up": {
           "x": 0,
           "y": 0,
           "z": 1
          }
         },
         "domain": {
          "x": [
           0,
           1
          ],
          "y": [
           0,
           1
          ]
         },
         "xaxis": {
          "title": {
           "text": "x"
          },
          "type": "linear"
         },
         "yaxis": {
          "title": {
           "text": "y"
          },
          "type": "linear"
         },
         "zaxis": {
          "title": {
           "text": "z"
          },
          "type": "linear"
         }
        },
        "template": {
         "data": {
          "bar": [
           {
            "error_x": {
             "color": "#2a3f5f"
            },
            "error_y": {
             "color": "#2a3f5f"
            },
            "marker": {
             "line": {
              "color": "#E5ECF6",
              "width": 0.5
             }
            },
            "type": "bar"
           }
          ],
          "barpolar": [
           {
            "marker": {
             "line": {
              "color": "#E5ECF6",
              "width": 0.5
             }
            },
            "type": "barpolar"
           }
          ],
          "carpet": [
           {
            "aaxis": {
             "endlinecolor": "#2a3f5f",
             "gridcolor": "white",
             "linecolor": "white",
             "minorgridcolor": "white",
             "startlinecolor": "#2a3f5f"
            },
            "baxis": {
             "endlinecolor": "#2a3f5f",
             "gridcolor": "white",
             "linecolor": "white",
             "minorgridcolor": "white",
             "startlinecolor": "#2a3f5f"
            },
            "type": "carpet"
           }
          ],
          "choropleth": [
           {
            "colorbar": {
             "outlinewidth": 0,
             "ticks": ""
            },
            "type": "choropleth"
           }
          ],
          "contour": [
           {
            "colorbar": {
             "outlinewidth": 0,
             "ticks": ""
            },
            "colorscale": [
             [
              0,
              "#0d0887"
             ],
             [
              0.1111111111111111,
              "#46039f"
             ],
             [
              0.2222222222222222,
              "#7201a8"
             ],
             [
              0.3333333333333333,
              "#9c179e"
             ],
             [
              0.4444444444444444,
              "#bd3786"
             ],
             [
              0.5555555555555556,
              "#d8576b"
             ],
             [
              0.6666666666666666,
              "#ed7953"
             ],
             [
              0.7777777777777778,
              "#fb9f3a"
             ],
             [
              0.8888888888888888,
              "#fdca26"
             ],
             [
              1,
              "#f0f921"
             ]
            ],
            "type": "contour"
           }
          ],
          "contourcarpet": [
           {
            "colorbar": {
             "outlinewidth": 0,
             "ticks": ""
            },
            "type": "contourcarpet"
           }
          ],
          "heatmap": [
           {
            "colorbar": {
             "outlinewidth": 0,
             "ticks": ""
            },
            "colorscale": [
             [
              0,
              "#0d0887"
             ],
             [
              0.1111111111111111,
              "#46039f"
             ],
             [
              0.2222222222222222,
              "#7201a8"
             ],
             [
              0.3333333333333333,
              "#9c179e"
             ],
             [
              0.4444444444444444,
              "#bd3786"
             ],
             [
              0.5555555555555556,
              "#d8576b"
             ],
             [
              0.6666666666666666,
              "#ed7953"
             ],
             [
              0.7777777777777778,
              "#fb9f3a"
             ],
             [
              0.8888888888888888,
              "#fdca26"
             ],
             [
              1,
              "#f0f921"
             ]
            ],
            "type": "heatmap"
           }
          ],
          "heatmapgl": [
           {
            "colorbar": {
             "outlinewidth": 0,
             "ticks": ""
            },
            "colorscale": [
             [
              0,
              "#0d0887"
             ],
             [
              0.1111111111111111,
              "#46039f"
             ],
             [
              0.2222222222222222,
              "#7201a8"
             ],
             [
              0.3333333333333333,
              "#9c179e"
             ],
             [
              0.4444444444444444,
              "#bd3786"
             ],
             [
              0.5555555555555556,
              "#d8576b"
             ],
             [
              0.6666666666666666,
              "#ed7953"
             ],
             [
              0.7777777777777778,
              "#fb9f3a"
             ],
             [
              0.8888888888888888,
              "#fdca26"
             ],
             [
              1,
              "#f0f921"
             ]
            ],
            "type": "heatmapgl"
           }
          ],
          "histogram": [
           {
            "marker": {
             "colorbar": {
              "outlinewidth": 0,
              "ticks": ""
             }
            },
            "type": "histogram"
           }
          ],
          "histogram2d": [
           {
            "colorbar": {
             "outlinewidth": 0,
             "ticks": ""
            },
            "colorscale": [
             [
              0,
              "#0d0887"
             ],
             [
              0.1111111111111111,
              "#46039f"
             ],
             [
              0.2222222222222222,
              "#7201a8"
             ],
             [
              0.3333333333333333,
              "#9c179e"
             ],
             [
              0.4444444444444444,
              "#bd3786"
             ],
             [
              0.5555555555555556,
              "#d8576b"
             ],
             [
              0.6666666666666666,
              "#ed7953"
             ],
             [
              0.7777777777777778,
              "#fb9f3a"
             ],
             [
              0.8888888888888888,
              "#fdca26"
             ],
             [
              1,
              "#f0f921"
             ]
            ],
            "type": "histogram2d"
           }
          ],
          "histogram2dcontour": [
           {
            "colorbar": {
             "outlinewidth": 0,
             "ticks": ""
            },
            "colorscale": [
             [
              0,
              "#0d0887"
             ],
             [
              0.1111111111111111,
              "#46039f"
             ],
             [
              0.2222222222222222,
              "#7201a8"
             ],
             [
              0.3333333333333333,
              "#9c179e"
             ],
             [
              0.4444444444444444,
              "#bd3786"
             ],
             [
              0.5555555555555556,
              "#d8576b"
             ],
             [
              0.6666666666666666,
              "#ed7953"
             ],
             [
              0.7777777777777778,
              "#fb9f3a"
             ],
             [
              0.8888888888888888,
              "#fdca26"
             ],
             [
              1,
              "#f0f921"
             ]
            ],
            "type": "histogram2dcontour"
           }
          ],
          "mesh3d": [
           {
            "colorbar": {
             "outlinewidth": 0,
             "ticks": ""
            },
            "type": "mesh3d"
           }
          ],
          "parcoords": [
           {
            "line": {
             "colorbar": {
              "outlinewidth": 0,
              "ticks": ""
             }
            },
            "type": "parcoords"
           }
          ],
          "pie": [
           {
            "automargin": true,
            "type": "pie"
           }
          ],
          "scatter": [
           {
            "marker": {
             "colorbar": {
              "outlinewidth": 0,
              "ticks": ""
             }
            },
            "type": "scatter"
           }
          ],
          "scatter3d": [
           {
            "line": {
             "colorbar": {
              "outlinewidth": 0,
              "ticks": ""
             }
            },
            "marker": {
             "colorbar": {
              "outlinewidth": 0,
              "ticks": ""
             }
            },
            "type": "scatter3d"
           }
          ],
          "scattercarpet": [
           {
            "marker": {
             "colorbar": {
              "outlinewidth": 0,
              "ticks": ""
             }
            },
            "type": "scattercarpet"
           }
          ],
          "scattergeo": [
           {
            "marker": {
             "colorbar": {
              "outlinewidth": 0,
              "ticks": ""
             }
            },
            "type": "scattergeo"
           }
          ],
          "scattergl": [
           {
            "marker": {
             "colorbar": {
              "outlinewidth": 0,
              "ticks": ""
             }
            },
            "type": "scattergl"
           }
          ],
          "scattermapbox": [
           {
            "marker": {
             "colorbar": {
              "outlinewidth": 0,
              "ticks": ""
             }
            },
            "type": "scattermapbox"
           }
          ],
          "scatterpolar": [
           {
            "marker": {
             "colorbar": {
              "outlinewidth": 0,
              "ticks": ""
             }
            },
            "type": "scatterpolar"
           }
          ],
          "scatterpolargl": [
           {
            "marker": {
             "colorbar": {
              "outlinewidth": 0,
              "ticks": ""
             }
            },
            "type": "scatterpolargl"
           }
          ],
          "scatterternary": [
           {
            "marker": {
             "colorbar": {
              "outlinewidth": 0,
              "ticks": ""
             }
            },
            "type": "scatterternary"
           }
          ],
          "surface": [
           {
            "colorbar": {
             "outlinewidth": 0,
             "ticks": ""
            },
            "colorscale": [
             [
              0,
              "#0d0887"
             ],
             [
              0.1111111111111111,
              "#46039f"
             ],
             [
              0.2222222222222222,
              "#7201a8"
             ],
             [
              0.3333333333333333,
              "#9c179e"
             ],
             [
              0.4444444444444444,
              "#bd3786"
             ],
             [
              0.5555555555555556,
              "#d8576b"
             ],
             [
              0.6666666666666666,
              "#ed7953"
             ],
             [
              0.7777777777777778,
              "#fb9f3a"
             ],
             [
              0.8888888888888888,
              "#fdca26"
             ],
             [
              1,
              "#f0f921"
             ]
            ],
            "type": "surface"
           }
          ],
          "table": [
           {
            "cells": {
             "fill": {
              "color": "#EBF0F8"
             },
             "line": {
              "color": "white"
             }
            },
            "header": {
             "fill": {
              "color": "#C8D4E3"
             },
             "line": {
              "color": "white"
             }
            },
            "type": "table"
           }
          ]
         },
         "layout": {
          "annotationdefaults": {
           "arrowcolor": "#2a3f5f",
           "arrowhead": 0,
           "arrowwidth": 1
          },
          "autotypenumbers": "strict",
          "coloraxis": {
           "colorbar": {
            "outlinewidth": 0,
            "ticks": ""
           }
          },
          "colorscale": {
           "diverging": [
            [
             0,
             "#8e0152"
            ],
            [
             0.1,
             "#c51b7d"
            ],
            [
             0.2,
             "#de77ae"
            ],
            [
             0.3,
             "#f1b6da"
            ],
            [
             0.4,
             "#fde0ef"
            ],
            [
             0.5,
             "#f7f7f7"
            ],
            [
             0.6,
             "#e6f5d0"
            ],
            [
             0.7,
             "#b8e186"
            ],
            [
             0.8,
             "#7fbc41"
            ],
            [
             0.9,
             "#4d9221"
            ],
            [
             1,
             "#276419"
            ]
           ],
           "sequential": [
            [
             0,
             "#0d0887"
            ],
            [
             0.1111111111111111,
             "#46039f"
            ],
            [
             0.2222222222222222,
             "#7201a8"
            ],
            [
             0.3333333333333333,
             "#9c179e"
            ],
            [
             0.4444444444444444,
             "#bd3786"
            ],
            [
             0.5555555555555556,
             "#d8576b"
            ],
            [
             0.6666666666666666,
             "#ed7953"
            ],
            [
             0.7777777777777778,
             "#fb9f3a"
            ],
            [
             0.8888888888888888,
             "#fdca26"
            ],
            [
             1,
             "#f0f921"
            ]
           ],
           "sequentialminus": [
            [
             0,
             "#0d0887"
            ],
            [
             0.1111111111111111,
             "#46039f"
            ],
            [
             0.2222222222222222,
             "#7201a8"
            ],
            [
             0.3333333333333333,
             "#9c179e"
            ],
            [
             0.4444444444444444,
             "#bd3786"
            ],
            [
             0.5555555555555556,
             "#d8576b"
            ],
            [
             0.6666666666666666,
             "#ed7953"
            ],
            [
             0.7777777777777778,
             "#fb9f3a"
            ],
            [
             0.8888888888888888,
             "#fdca26"
            ],
            [
             1,
             "#f0f921"
            ]
           ]
          },
          "colorway": [
           "#636efa",
           "#EF553B",
           "#00cc96",
           "#ab63fa",
           "#FFA15A",
           "#19d3f3",
           "#FF6692",
           "#B6E880",
           "#FF97FF",
           "#FECB52"
          ],
          "font": {
           "color": "#2a3f5f"
          },
          "geo": {
           "bgcolor": "white",
           "lakecolor": "white",
           "landcolor": "#E5ECF6",
           "showlakes": true,
           "showland": true,
           "subunitcolor": "white"
          },
          "hoverlabel": {
           "align": "left"
          },
          "hovermode": "closest",
          "mapbox": {
           "style": "light"
          },
          "paper_bgcolor": "white",
          "plot_bgcolor": "#E5ECF6",
          "polar": {
           "angularaxis": {
            "gridcolor": "white",
            "linecolor": "white",
            "ticks": ""
           },
           "bgcolor": "#E5ECF6",
           "radialaxis": {
            "gridcolor": "white",
            "linecolor": "white",
            "ticks": ""
           }
          },
          "scene": {
           "xaxis": {
            "backgroundcolor": "#E5ECF6",
            "gridcolor": "white",
            "gridwidth": 2,
            "linecolor": "white",
            "showbackground": true,
            "ticks": "",
            "zerolinecolor": "white"
           },
           "yaxis": {
            "backgroundcolor": "#E5ECF6",
            "gridcolor": "white",
            "gridwidth": 2,
            "linecolor": "white",
            "showbackground": true,
            "ticks": "",
            "zerolinecolor": "white"
           },
           "zaxis": {
            "backgroundcolor": "#E5ECF6",
            "gridcolor": "white",
            "gridwidth": 2,
            "linecolor": "white",
            "showbackground": true,
            "ticks": "",
            "zerolinecolor": "white"
           }
          },
          "shapedefaults": {
           "line": {
            "color": "#2a3f5f"
           }
          },
          "ternary": {
           "aaxis": {
            "gridcolor": "white",
            "linecolor": "white",
            "ticks": ""
           },
           "baxis": {
            "gridcolor": "white",
            "linecolor": "white",
            "ticks": ""
           },
           "bgcolor": "#E5ECF6",
           "caxis": {
            "gridcolor": "white",
            "linecolor": "white",
            "ticks": ""
           }
          },
          "title": {
           "x": 0.05
          },
          "xaxis": {
           "automargin": true,
           "gridcolor": "white",
           "linecolor": "white",
           "ticks": "",
           "title": {
            "standoff": 15
           },
           "zerolinecolor": "white",
           "zerolinewidth": 2
          },
          "yaxis": {
           "automargin": true,
           "gridcolor": "white",
           "linecolor": "white",
           "ticks": "",
           "title": {
            "standoff": 15
           },
           "zerolinecolor": "white",
           "zerolinewidth": 2
          }
         }
        },
        "title": {
         "text": "Union 3D embedding of farmers IPM data"
        }
       }
      },
      "image/png": "[encoded data removed]",
      "text/html": [
       "<div>                            <div id=\"103afc4f-b3b0-42b8-a2ca-43cdccd061f5\" class=\"plotly-graph-div\" style=\"height:525px; width:100%;\"></div>            <script type=\"text/javascript\">                require([\"plotly\"], function(Plotly) {                    window.PLOTLYENV=window.PLOTLYENV || {};                                    if (document.getElementById(\"103afc4f-b3b0-42b8-a2ca-43cdccd061f5\")) {                    Plotly.newPlot(                        \"103afc4f-b3b0-42b8-a2ca-43cdccd061f5\",                        [{\"hovertemplate\": \"clusters=0<br>x=%{x}<br>y=%{y}<br>z=%{z}<br>text=%{text}<extra></extra>\", \"legendgroup\": \"0\", \"marker\": {\"color\": \"#636efa\", \"opacity\": 0.5, \"symbol\": \"circle\"}, \"mode\": \"markers+text\", \"name\": \"0\", \"scene\": \"scene\", \"showlegend\": true, \"text\": [0.0, 0.0, 1.0, 1.0, 1.0, 0.0, 0.0, 0.0, 0.0, 1.0, 0.0, 0.0, 0.0, 0.0, 1.0, 0.0, 1.0, 0.0, 0.0, 1.0, 1.0, 0.0, 1.0, 0.0, 1.0, 1.0, 0.0, 1.0, 1.0, 0.0, 1.0, 0.0, 1.0, 0.0, 0.0, 0.0, 1.0, 1.0, 1.0, 1.0, 0.0, 1.0, 0.0, 0.0, 0.0, 1.0, 1.0, 0.0, 1.0, 1.0, 1.0, 1.0], \"type\": \"scatter3d\", \"x\": [26.163402557373047, 27.08210563659668, 23.528736114501953, 23.379337310791016, 24.128093719482422, 25.574420928955078, 25.526290893554688, 26.17416763305664, 27.406538009643555, 24.16459846496582, 25.249942779541016, 25.482694625854492, 25.451770782470703, 24.852113723754883, 24.493030548095703, 25.215280532836914, 23.301733016967773, 24.678245544433594, 26.716779708862305, 23.846939086914062, 24.59949493408203, 27.25513458251953, 24.18981170654297, 27.313953399658203, 24.361080169677734, 24.86371421813965, 26.057764053344727, 24.245479583740234, 25.357254028320312, 26.479822158813477, 24.356155395507812, 27.212732315063477, 23.43710708618164, 24.941946029663086, 26.632232666015625, 27.179229736328125, 24.644372940063477, 25.396669387817383, 24.200986862182617, 23.555055618286133, 25.777101516723633, 23.524757385253906, 25.288986206054688, 25.00198745727539, 25.53434181213379, 24.68173599243164, 21.95621109008789, 26.524948120117188, 23.979721069335938, 23.560354232788086, 24.883930206298828, 25.076847076416016], \"y\": [20.333271026611328, 22.259883880615234, 11.109304428100586, 11.895418167114258, 12.081628799438477, 19.625253677368164, 20.586380004882812, 22.02596092224121, 21.770069122314453, 11.684576988220215, 21.15619468688965, 20.964448928833008, 20.933670043945312, 20.722383499145508, 18.848203659057617, 20.540637969970703, 11.829233169555664, 20.650096893310547, 20.470060348510742, 18.894514083862305, 12.972200393676758, 21.142154693603516, 18.21982192993164, 22.41233253479004, 19.431072235107422, 13.800886154174805, 20.346288681030273, 16.142131805419922, 12.44232177734375, 20.11467742919922, 13.307077407836914, 20.46857452392578, 13.614546775817871, 21.226102828979492, 21.256656646728516, 21.86626434326172, 19.297515869140625, 13.328709602355957, 11.521093368530273, 17.436460494995117, 22.463525772094727, 18.298561096191406, 21.408676147460938, 21.626907348632812, 19.59225082397461, 13.176955223083496, 13.217565536499023, 22.802898406982422, 13.743276596069336, 11.709554672241211, 14.596872329711914, 19.245044708251953], \"z\": [14.313321113586426, 11.12493896484375, 19.555574417114258, 20.13223648071289, 19.244876861572266, 14.41708755493164, 14.485645294189453, 10.067300796508789, 11.713812828063965, 19.976877212524414, 13.839807510375977, 14.204507827758789, 13.99304485321045, 12.812509536743164, 8.108564376831055, 11.245767593383789, 19.312522888183594, 11.795801162719727, 15.629547119140625, 8.464226722717285, 20.53668975830078, 9.6256685256958, 8.441791534423828, 11.166702270507812, 11.197587013244629, 20.534236907958984, 13.78364372253418, 14.586505889892578, 21.27291488647461, 14.075078964233398, 20.930644989013672, 16.257293701171875, 15.677462577819824, 12.326478958129883, 9.554332733154297, 10.254718780517578, 8.386847496032715, 18.31563949584961, 18.977373123168945, 13.112173080444336, 13.163802146911621, 9.209878921508789, 12.798129081726074, 13.256861686706543, 14.746379852294922, 18.562416076660156, 16.646163940429688, 11.807498931884766, 18.15420913696289, 20.343006134033203, 16.0303955078125, 10.74158763885498]}, {\"hovertemplate\": \"clusters=1<br>x=%{x}<br>y=%{y}<br>z=%{z}<br>text=%{text}<extra></extra>\", \"legendgroup\": \"1\", \"marker\": {\"color\": \"#EF553B\", \"opacity\": 0.5, \"symbol\": \"circle\"}, \"mode\": \"markers+text\", \"name\": \"1\", \"scene\": \"scene\", \"showlegend\": true, \"text\": [1.0, 1.0, 1.0, 1.0, 1.0, 1.0, 1.0, 1.0, 1.0, 1.0, 1.0, 1.0, 1.0, 1.0, 1.0, 1.0, 1.0, 1.0, 1.0, 1.0, 1.0, 1.0, 1.0, 1.0, 1.0, 1.0, 1.0, 1.0, 1.0, 1.0, 1.0, 1.0, 1.0, 1.0, 1.0, 1.0, 1.0, 1.0, 1.0, 1.0, 1.0, 1.0, 1.0, 1.0, 1.0, 1.0, 1.0, 1.0], \"type\": \"scatter3d\", \"x\": [4.886120796203613, 2.667965888977051, 2.4660744667053223, 2.588815689086914, 3.6380534172058105, 4.0983123779296875, 3.535975456237793, 2.8346571922302246, 2.307623863220215, 2.996504306793213, 3.512722969055176, 3.4247336387634277, 1.8996829986572266, 3.10443115234375, 4.548074245452881, 4.082361221313477, 4.2231035232543945, 3.9167075157165527, 3.0984554290771484, 1.682539939880371, 3.468019962310791, 3.8883628845214844, 3.5164566040039062, 4.4652180671691895, 4.750277519226074, 4.794234275817871, 3.0077409744262695, 2.2969160079956055, 3.436389923095703, 2.380833148956299, 2.3856420516967773, 2.104231834411621, 3.191422462463379, 5.1759233474731445, 5.288273334503174, 4.419431209564209, 1.8648128509521484, 3.1414952278137207, 2.2725162506103516, 3.1103615760803223, 2.9189696311950684, 4.976150035858154, 2.658895969390869, 3.8146355152130127, 4.495911121368408, 2.417069911956787, 3.4188990592956543, 3.236049175262451], \"y\": [12.183975219726562, 10.836029052734375, 10.165688514709473, 9.479866981506348, 11.20175838470459, 9.767362594604492, 12.222160339355469, 10.383474349975586, 11.263809204101562, 10.852027893066406, 12.799325942993164, 11.619818687438965, 11.254202842712402, 12.021141052246094, 10.326266288757324, 11.635570526123047, 11.909687995910645, 12.299531936645508, 10.991293907165527, 11.432254791259766, 11.438568115234375, 11.325765609741211, 11.782443046569824, 12.916887283325195, 10.756247520446777, 10.556451797485352, 11.75130558013916, 11.48312759399414, 11.396931648254395, 10.911150932312012, 10.6715669631958, 11.694318771362305, 12.462579727172852, 9.78155517578125, 10.087640762329102, 10.434046745300293, 9.772215843200684, 12.984769821166992, 11.90400218963623, 11.657994270324707, 12.689516067504883, 9.82313346862793, 10.972026824951172, 11.51358699798584, 11.23598575592041, 11.847591400146484, 11.036795616149902, 10.662642478942871], \"z\": [11.623666763305664, 13.367546081542969, 13.273786544799805, 12.992671966552734, 11.63698959350586, 14.803876876831055, 11.996472358703613, 11.47301197052002, 13.078885078430176, 10.832561492919922, 12.219926834106445, 10.498847961425781, 11.46566390991211, 11.816356658935547, 13.272090911865234, 12.021240234375, 10.86509895324707, 10.783490180969238, 9.622345924377441, 11.31815242767334, 11.082281112670898, 13.27285385131836, 11.390345573425293, 12.23273754119873, 16.86736488342285, 16.087032318115234, 12.870054244995117, 12.337946891784668, 11.07705307006836, 11.022726058959961, 13.630566596984863, 12.25461196899414, 10.427276611328125, 13.670330047607422, 14.112350463867188, 14.003755569458008, 12.512031555175781, 12.89088249206543, 12.568048477172852, 13.14474105834961, 11.438417434692383, 13.990211486816406, 12.858109474182129, 12.589689254760742, 12.96527099609375, 12.383068084716797, 11.79035758972168, 13.948720932006836]}],                        {\"legend\": {\"title\": {\"text\": \"clusters\"}, \"tracegroupgap\": 0}, \"scene\": {\"domain\": {\"x\": [0.0, 1.0], \"y\": [0.0, 1.0]}, \"xaxis\": {\"title\": {\"text\": \"x\"}}, \"yaxis\": {\"title\": {\"text\": \"y\"}}, \"zaxis\": {\"title\": {\"text\": \"z\"}}}, \"template\": {\"data\": {\"bar\": [{\"error_x\": {\"color\": \"#2a3f5f\"}, \"error_y\": {\"color\": \"#2a3f5f\"}, \"marker\": {\"line\": {\"color\": \"#E5ECF6\", \"width\": 0.5}}, \"type\": \"bar\"}], \"barpolar\": [{\"marker\": {\"line\": {\"color\": \"#E5ECF6\", \"width\": 0.5}}, \"type\": \"barpolar\"}], \"carpet\": [{\"aaxis\": {\"endlinecolor\": \"#2a3f5f\", \"gridcolor\": \"white\", \"linecolor\": \"white\", \"minorgridcolor\": \"white\", \"startlinecolor\": \"#2a3f5f\"}, \"baxis\": {\"endlinecolor\": \"#2a3f5f\", \"gridcolor\": \"white\", \"linecolor\": \"white\", \"minorgridcolor\": \"white\", \"startlinecolor\": \"#2a3f5f\"}, \"type\": \"carpet\"}], \"choropleth\": [{\"colorbar\": {\"outlinewidth\": 0, \"ticks\": \"\"}, \"type\": \"choropleth\"}], \"contour\": [{\"colorbar\": {\"outlinewidth\": 0, \"ticks\": \"\"}, \"colorscale\": [[0.0, \"#0d0887\"], [0.1111111111111111, \"#46039f\"], [0.2222222222222222, \"#7201a8\"], [0.3333333333333333, \"#9c179e\"], [0.4444444444444444, \"#bd3786\"], [0.5555555555555556, \"#d8576b\"], [0.6666666666666666, \"#ed7953\"], [0.7777777777777778, \"#fb9f3a\"], [0.8888888888888888, \"#fdca26\"], [1.0, \"#f0f921\"]], \"type\": \"contour\"}], \"contourcarpet\": [{\"colorbar\": {\"outlinewidth\": 0, \"ticks\": \"\"}, \"type\": \"contourcarpet\"}], \"heatmap\": [{\"colorbar\": {\"outlinewidth\": 0, \"ticks\": \"\"}, \"colorscale\": [[0.0, \"#0d0887\"], [0.1111111111111111, \"#46039f\"], [0.2222222222222222, \"#7201a8\"], [0.3333333333333333, \"#9c179e\"], [0.4444444444444444, \"#bd3786\"], [0.5555555555555556, \"#d8576b\"], [0.6666666666666666, \"#ed7953\"], [0.7777777777777778, \"#fb9f3a\"], [0.8888888888888888, \"#fdca26\"], [1.0, \"#f0f921\"]], \"type\": \"heatmap\"}], \"heatmapgl\": [{\"colorbar\": {\"outlinewidth\": 0, \"ticks\": \"\"}, \"colorscale\": [[0.0, \"#0d0887\"], [0.1111111111111111, \"#46039f\"], [0.2222222222222222, \"#7201a8\"], [0.3333333333333333, \"#9c179e\"], [0.4444444444444444, \"#bd3786\"], [0.5555555555555556, \"#d8576b\"], [0.6666666666666666, \"#ed7953\"], [0.7777777777777778, \"#fb9f3a\"], [0.8888888888888888, \"#fdca26\"], [1.0, \"#f0f921\"]], \"type\": \"heatmapgl\"}], \"histogram\": [{\"marker\": {\"colorbar\": {\"outlinewidth\": 0, \"ticks\": \"\"}}, \"type\": \"histogram\"}], \"histogram2d\": [{\"colorbar\": {\"outlinewidth\": 0, \"ticks\": \"\"}, \"colorscale\": [[0.0, \"#0d0887\"], [0.1111111111111111, \"#46039f\"], [0.2222222222222222, \"#7201a8\"], [0.3333333333333333, \"#9c179e\"], [0.4444444444444444, \"#bd3786\"], [0.5555555555555556, \"#d8576b\"], [0.6666666666666666, \"#ed7953\"], [0.7777777777777778, \"#fb9f3a\"], [0.8888888888888888, \"#fdca26\"], [1.0, \"#f0f921\"]], \"type\": \"histogram2d\"}], \"histogram2dcontour\": [{\"colorbar\": {\"outlinewidth\": 0, \"ticks\": \"\"}, \"colorscale\": [[0.0, \"#0d0887\"], [0.1111111111111111, \"#46039f\"], [0.2222222222222222, \"#7201a8\"], [0.3333333333333333, \"#9c179e\"], [0.4444444444444444, \"#bd3786\"], [0.5555555555555556, \"#d8576b\"], [0.6666666666666666, \"#ed7953\"], [0.7777777777777778, \"#fb9f3a\"], [0.8888888888888888, \"#fdca26\"], [1.0, \"#f0f921\"]], \"type\": \"histogram2dcontour\"}], \"mesh3d\": [{\"colorbar\": {\"outlinewidth\": 0, \"ticks\": \"\"}, \"type\": \"mesh3d\"}], \"parcoords\": [{\"line\": {\"colorbar\": {\"outlinewidth\": 0, \"ticks\": \"\"}}, \"type\": \"parcoords\"}], \"pie\": [{\"automargin\": true, \"type\": \"pie\"}], \"scatter\": [{\"marker\": {\"colorbar\": {\"outlinewidth\": 0, \"ticks\": \"\"}}, \"type\": \"scatter\"}], \"scatter3d\": [{\"line\": {\"colorbar\": {\"outlinewidth\": 0, \"ticks\": \"\"}}, \"marker\": {\"colorbar\": {\"outlinewidth\": 0, \"ticks\": \"\"}}, \"type\": \"scatter3d\"}], \"scattercarpet\": [{\"marker\": {\"colorbar\": {\"outlinewidth\": 0, \"ticks\": \"\"}}, \"type\": \"scattercarpet\"}], \"scattergeo\": [{\"marker\": {\"colorbar\": {\"outlinewidth\": 0, \"ticks\": \"\"}}, \"type\": \"scattergeo\"}], \"scattergl\": [{\"marker\": {\"colorbar\": {\"outlinewidth\": 0, \"ticks\": \"\"}}, \"type\": \"scattergl\"}], \"scattermapbox\": [{\"marker\": {\"colorbar\": {\"outlinewidth\": 0, \"ticks\": \"\"}}, \"type\": \"scattermapbox\"}], \"scatterpolar\": [{\"marker\": {\"colorbar\": {\"outlinewidth\": 0, \"ticks\": \"\"}}, \"type\": \"scatterpolar\"}], \"scatterpolargl\": [{\"marker\": {\"colorbar\": {\"outlinewidth\": 0, \"ticks\": \"\"}}, \"type\": \"scatterpolargl\"}], \"scatterternary\": [{\"marker\": {\"colorbar\": {\"outlinewidth\": 0, \"ticks\": \"\"}}, \"type\": \"scatterternary\"}], \"surface\": [{\"colorbar\": {\"outlinewidth\": 0, \"ticks\": \"\"}, \"colorscale\": [[0.0, \"#0d0887\"], [0.1111111111111111, \"#46039f\"], [0.2222222222222222, \"#7201a8\"], [0.3333333333333333, \"#9c179e\"], [0.4444444444444444, \"#bd3786\"], [0.5555555555555556, \"#d8576b\"], [0.6666666666666666, \"#ed7953\"], [0.7777777777777778, \"#fb9f3a\"], [0.8888888888888888, \"#fdca26\"], [1.0, \"#f0f921\"]], \"type\": \"surface\"}], \"table\": [{\"cells\": {\"fill\": {\"color\": \"#EBF0F8\"}, \"line\": {\"color\": \"white\"}}, \"header\": {\"fill\": {\"color\": \"#C8D4E3\"}, \"line\": {\"color\": \"white\"}}, \"type\": \"table\"}]}, \"layout\": {\"annotationdefaults\": {\"arrowcolor\": \"#2a3f5f\", \"arrowhead\": 0, \"arrowwidth\": 1}, \"autotypenumbers\": \"strict\", \"coloraxis\": {\"colorbar\": {\"outlinewidth\": 0, \"ticks\": \"\"}}, \"colorscale\": {\"diverging\": [[0, \"#8e0152\"], [0.1, \"#c51b7d\"], [0.2, \"#de77ae\"], [0.3, \"#f1b6da\"], [0.4, \"#fde0ef\"], [0.5, \"#f7f7f7\"], [0.6, \"#e6f5d0\"], [0.7, \"#b8e186\"], [0.8, \"#7fbc41\"], [0.9, \"#4d9221\"], [1, \"#276419\"]], \"sequential\": [[0.0, \"#0d0887\"], [0.1111111111111111, \"#46039f\"], [0.2222222222222222, \"#7201a8\"], [0.3333333333333333, \"#9c179e\"], [0.4444444444444444, \"#bd3786\"], [0.5555555555555556, \"#d8576b\"], [0.6666666666666666, \"#ed7953\"], [0.7777777777777778, \"#fb9f3a\"], [0.8888888888888888, \"#fdca26\"], [1.0, \"#f0f921\"]], \"sequentialminus\": [[0.0, \"#0d0887\"], [0.1111111111111111, \"#46039f\"], [0.2222222222222222, \"#7201a8\"], [0.3333333333333333, \"#9c179e\"], [0.4444444444444444, \"#bd3786\"], [0.5555555555555556, \"#d8576b\"], [0.6666666666666666, \"#ed7953\"], [0.7777777777777778, \"#fb9f3a\"], [0.8888888888888888, \"#fdca26\"], [1.0, \"#f0f921\"]]}, \"colorway\": [\"#636efa\", \"#EF553B\", \"#00cc96\", \"#ab63fa\", \"#FFA15A\", \"#19d3f3\", \"#FF6692\", \"#B6E880\", \"#FF97FF\", \"#FECB52\"], \"font\": {\"color\": \"#2a3f5f\"}, \"geo\": {\"bgcolor\": \"white\", \"lakecolor\": \"white\", \"landcolor\": \"#E5ECF6\", \"showlakes\": true, \"showland\": true, \"subunitcolor\": \"white\"}, \"hoverlabel\": {\"align\": \"left\"}, \"hovermode\": \"closest\", \"mapbox\": {\"style\": \"light\"}, \"paper_bgcolor\": \"white\", \"plot_bgcolor\": \"#E5ECF6\", \"polar\": {\"angularaxis\": {\"gridcolor\": \"white\", \"linecolor\": \"white\", \"ticks\": \"\"}, \"bgcolor\": \"#E5ECF6\", \"radialaxis\": {\"gridcolor\": \"white\", \"linecolor\": \"white\", \"ticks\": \"\"}}, \"scene\": {\"xaxis\": {\"backgroundcolor\": \"#E5ECF6\", \"gridcolor\": \"white\", \"gridwidth\": 2, \"linecolor\": \"white\", \"showbackground\": true, \"ticks\": \"\", \"zerolinecolor\": \"white\"}, \"yaxis\": {\"backgroundcolor\": \"#E5ECF6\", \"gridcolor\": \"white\", \"gridwidth\": 2, \"linecolor\": \"white\", \"showbackground\": true, \"ticks\": \"\", \"zerolinecolor\": \"white\"}, \"zaxis\": {\"backgroundcolor\": \"#E5ECF6\", \"gridcolor\": \"white\", \"gridwidth\": 2, \"linecolor\": \"white\", \"showbackground\": true, \"ticks\": \"\", \"zerolinecolor\": \"white\"}}, \"shapedefaults\": {\"line\": {\"color\": \"#2a3f5f\"}}, \"ternary\": {\"aaxis\": {\"gridcolor\": \"white\", \"linecolor\": \"white\", \"ticks\": \"\"}, \"baxis\": {\"gridcolor\": \"white\", \"linecolor\": \"white\", \"ticks\": \"\"}, \"bgcolor\": \"#E5ECF6\", \"caxis\": {\"gridcolor\": \"white\", \"linecolor\": \"white\", \"ticks\": \"\"}}, \"title\": {\"x\": 0.05}, \"xaxis\": {\"automargin\": true, \"gridcolor\": \"white\", \"linecolor\": \"white\", \"ticks\": \"\", \"title\": {\"standoff\": 15}, \"zerolinecolor\": \"white\", \"zerolinewidth\": 2}, \"yaxis\": {\"automargin\": true, \"gridcolor\": \"white\", \"linecolor\": \"white\", \"ticks\": \"\", \"title\": {\"standoff\": 15}, \"zerolinecolor\": \"white\", \"zerolinewidth\": 2}}}, \"title\": {\"text\": \"Union 3D embedding of farmers IPM data\"}},                        {\"responsive\": true}                    ).then(function(){\n",
       "                            \n",
       "var gd = document.getElementById('103afc4f-b3b0-42b8-a2ca-43cdccd061f5');\n",
       "var x = new MutationObserver(function (mutations, observer) {{\n",
       "        var display = window.getComputedStyle(gd).display;\n",
       "        if (!display || display === 'none') {{\n",
       "            console.log([gd, 'removed!']);\n",
       "            Plotly.purge(gd);\n",
       "            observer.disconnect();\n",
       "        }}\n",
       "}});\n",
       "\n",
       "// Listen for the removal of the full notebook cells\n",
       "var notebookContainer = gd.closest('#notebook-container');\n",
       "if (notebookContainer) {{\n",
       "    x.observe(notebookContainer, {childList: true});\n",
       "}}\n",
       "\n",
       "// Listen for the clearing of the current output cell\n",
       "var outputEl = gd.closest('.output');\n",
       "if (outputEl) {{\n",
       "    x.observe(outputEl, {childList: true});\n",
       "}}\n",
       "\n",
       "                        })                };                });            </script>        </div>"
      ]
     },
     "metadata": {},
     "output_type": "display_data"
    }
   ],
   "source": [
    "# Union embedding cluster visualisation \n",
    "fig = px.scatter_3d(union3d_df, \"x\",\"y\",\"z\", color=\"clusters\", text=df_noNaN[\"Already_used_DSS\"], opacity=0.5, \n",
    "                    title=\"Union 3D embedding of farmers IPM data\")\n",
    "fig.write_html(\"output/IPM_Q1.html\")\n",
    "fig.show()"
   ]
  },
  {
   "cell_type": "markdown",
   "metadata": {
    "id": "Os2IRjA7l2Ny"
   },
   "source": [
    "# Cluster explanation "
   ]
  },
  {
   "cell_type": "code",
   "execution_count": 62,
   "metadata": {
    "id": "bTxXmEg4l2Ny"
   },
   "outputs": [],
   "source": [
    "# DataFrame for classification with clusters from embedding3d\n",
    "df_noNaN[\"clusters\"] = hdbscan_2D_union_clusters\n",
    "df_clst = df_noNaN.copy()"
   ]
  },
  {
   "cell_type": "code",
   "execution_count": 63,
   "metadata": {
    "id": "wKi2X2wu0qFV"
   },
   "outputs": [],
   "source": [
    "df_clst.to_csv(\"IPM_data&clusters_question1.csv\", sep=\",\", na_rep=\"?\", index=False)"
   ]
  },
  {
   "cell_type": "markdown",
   "metadata": {
    "id": "kDIW1dSvl2N2"
   },
   "source": [
    "## Modelling"
   ]
  },
  {
   "cell_type": "code",
   "execution_count": null,
   "metadata": {
    "id": "KFFbUXk5lvgc"
   },
   "outputs": [],
   "source": [
    "from sklearn import tree\n",
    "\n",
    "target_class = \"clusters\"\n",
    "X, y = df_noNaN[[_ for _ in list(ohe_df.columns) if _ not in target_class]], df_noNaN[target_class]\n",
    "clf = tree.DecisionTreeClassifier()\n",
    "clf = clf.fit(X, y)\n",
    "tree.plot_tree(clf, feature_names=X.columns, class_names=[str(_) for _ in [0,1,2,3]], filled=True) "
   ]
  },
  {
   "cell_type": "code",
   "execution_count": null,
   "metadata": {
    "id": "Jh4oJSCAFymj"
   },
   "outputs": [],
   "source": [
    "# Train the model\n",
    "from sklearn.linear_model import LogisticRegression\n",
    "from sklearn.model_selection import train_test_split\n",
    "\n",
    "target_class = \"clusters\"\n",
    "X = df_noNaN[[_ for _ in list(ohe_df.columns) if _ not in target_class]]\n",
    "y = df_noNaN[target_class]\n",
    "X_train, X_test, y_train, y_test = train_test_split(X, y, test_size=0.33, random_state=42)\n",
    "\n",
    "model = LogisticRegression(max_iter=1000)\n",
    "model.fit(X_train, y_train)"
   ]
  },
  {
   "cell_type": "code",
   "execution_count": null,
   "metadata": {
    "id": "deWt2UZDJB-7"
   },
   "outputs": [],
   "source": [
    "# Predictions for test dataset\n",
    "y_predict = model.predict(X_test)\n",
    "y_predict"
   ]
  },
  {
   "cell_type": "code",
   "execution_count": null,
   "metadata": {
    "id": "mg2J2A86l2N2"
   },
   "outputs": [],
   "source": [
    "from sklearn.model_selection import cross_val_score\n",
    "from sklearn.tree import DecisionTreeClassifier\n",
    "clf = tree.DecisionTreeClassifier(random_state=0)\n",
    "\n",
    "target_class = \"Already_used_DSS\"\n",
    "X = df_noNaN[[_ for _ in list(ohe_df.columns) if _ not in target_class]]\n",
    "Y = df_noNaN[target_class]\n",
    "clf = clf.fit(X, Y)"
   ]
  },
  {
   "cell_type": "code",
   "execution_count": null,
   "metadata": {
    "id": "CcBXCs85l2N3"
   },
   "outputs": [],
   "source": [
    "from sklearn.tree import DecisionTreeClassifier\n",
    "from sklearn.tree import export_text\n",
    "decision_tree = DecisionTreeClassifier(random_state=0, max_depth=2)\n",
    "decision_tree = decision_tree.fit(X, Y)\n",
    "r = export_text(decision_tree, feature_names=list(X.columns))\n",
    "print(r)"
   ]
  },
  {
   "cell_type": "code",
   "execution_count": null,
   "metadata": {
    "id": "Y2PZlTRLl2N3"
   },
   "outputs": [],
   "source": [
    "# \"\"\"Ne morem importat, nek conflict\n",
    "# import graphviz \n",
    "# dot_data = tree.export_graphviz(clf, out_file=None) \n",
    "# graph = graphviz.Source(dot_data) \n",
    "# graph.render(\"IPM\") \n",
    "# \"\"\""
   ]
  },
  {
   "cell_type": "markdown",
   "metadata": {
    "id": "oTKut8pCWRyH"
   },
   "source": [
    "# create dictionary with value mapping"
   ]
  },
  {
   "cell_type": "code",
   "execution_count": null,
   "metadata": {
    "id": "j0ai7zLivqOh"
   },
   "outputs": [],
   "source": [
    "# df[\"test\"] = df[\"Age_Cat\"].replace({4:\"več kot 50\", 3: \"test\", 1 : \"sdfsdf\", 2 : \"wsf\"})\n",
    "# df[\"Age_Cat\"] = df[\"Age_Cat\"].replace({4:\"več kot 50\", 3: \"test\", 1 : \"sdfsdf\", 2 : \"wsf\"})"
   ]
  }
 ],
 "metadata": {
  "colab": {
   "collapsed_sections": [],
   "include_colab_link": true,
   "name": "IPMdecisions-DataExploration_colab-1_4_Q1.ipynb",
   "provenance": []
  },
  "kernelspec": {
   "display_name": "Python 3",
   "language": "python",
   "name": "python3"
  },
  "language_info": {
   "codemirror_mode": {
    "name": "ipython",
    "version": 3
   },
   "file_extension": ".py",
   "mimetype": "text/x-python",
   "name": "python",
   "nbconvert_exporter": "python",
   "pygments_lexer": "ipython3",
   "version": "3.9.1"
  }
 },
 "nbformat": 4,
 "nbformat_minor": 4
}
