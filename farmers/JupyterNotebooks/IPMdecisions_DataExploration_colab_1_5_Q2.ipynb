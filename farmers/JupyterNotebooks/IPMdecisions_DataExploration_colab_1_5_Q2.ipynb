{
 "cells": [
  {
   "cell_type": "markdown",
   "metadata": {
    "colab_type": "text",
    "id": "view-in-github"
   },
   "source": [
    "<a href=\"https://colab.research.google.com/github/MartinMarzi/IPMdecisions/blob/main/IPMdecisions_DataExploration_colab_1_5_Q2.ipynb\" target=\"_parent\"><img src=\"https://colab.research.google.com/assets/colab-badge.svg\" alt=\"Open In Colab\"/></a>"
   ]
  },
  {
   "cell_type": "code",
   "execution_count": null,
   "metadata": {
    "id": "QIXLlgjHmZNz"
   },
   "outputs": [],
   "source": [
    "# # For colab\n",
    "# %pip install umap-learn\n",
    "# %pip install hdbscan"
   ]
  },
  {
   "cell_type": "code",
   "execution_count": 7,
   "metadata": {
    "id": "l2iXxyyhkdJ0"
   },
   "outputs": [],
   "source": [
    "import numpy as np\n",
    "import pandas as pd\n",
    "from sklearn.datasets import load_digits\n",
    "from sklearn.model_selection import train_test_split\n",
    "from sklearn.preprocessing import StandardScaler\n",
    "import pandas as pd\n",
    "from pandas.api.types import CategoricalDtype\n",
    "import umap\n",
    "import hdbscan\n",
    "import sklearn.cluster as cluster\n",
    "import matplotlib.pyplot as plt\n",
    "import seaborn as sns\n",
    "import plotly.express as px"
   ]
  },
  {
   "cell_type": "code",
   "execution_count": 10,
   "metadata": {
    "id": "WtiRqHhNng-Y"
   },
   "outputs": [],
   "source": [
    "#DATA_FILE = \"data/Farmers_edited data 21.12.2020_IPS_FINAL- WEKA_JM.xlsx\"\n",
    "DATA_FILE = \"https://kt-cloud.ijs.si/index.php/s/PFde9LEGCx78Es3/download\""
   ]
  },
  {
   "cell_type": "code",
   "execution_count": 11,
   "metadata": {
    "id": "27PBpsaZn6ek"
   },
   "outputs": [],
   "source": [
    "# Create dataframe\n",
    "df = pd.read_excel(DATA_FILE, header=0, engine='openpyxl', na_values=['?'], usecols=range(81), \n",
    "                   skiprows= range(150,155))"
   ]
  },
  {
   "cell_type": "code",
   "execution_count": 12,
   "metadata": {
    "colab": {
     "base_uri": "https://localhost:8080/"
    },
    "id": "LvxmcuQwr6Bn",
    "outputId": "98c5f6b8-2527-4e68-bbba-c498023c0dd3"
   },
   "outputs": [
    {
     "data": {
      "text/plain": [
       "(149, 81)"
      ]
     },
     "execution_count": 12,
     "metadata": {},
     "output_type": "execute_result"
    }
   ],
   "source": [
    "# Show data size\n",
    "df.shape"
   ]
  },
  {
   "cell_type": "code",
   "execution_count": 185,
   "metadata": {
    "id": "W3Fgq8Xwl2Nq"
   },
   "outputs": [],
   "source": [
    "pd.set_option(\"max_columns\", None)\n",
    "pd.set_option(\"max_rows\", 30)"
   ]
  },
  {
   "cell_type": "code",
   "execution_count": 186,
   "metadata": {
    "colab": {
     "base_uri": "https://localhost:8080/",
     "height": 224
    },
    "id": "b0PgDIOel2Nq",
    "outputId": "d22f714d-7c60-4c6b-b0f4-7795f11cdc3c"
   },
   "outputs": [
    {
     "data": {
      "text/html": [
       "<div>\n",
       "<style scoped>\n",
       "    .dataframe tbody tr th:only-of-type {\n",
       "        vertical-align: middle;\n",
       "    }\n",
       "\n",
       "    .dataframe tbody tr th {\n",
       "        vertical-align: top;\n",
       "    }\n",
       "\n",
       "    .dataframe thead th {\n",
       "        text-align: right;\n",
       "    }\n",
       "</style>\n",
       "<table border=\"1\" class=\"dataframe\">\n",
       "  <thead>\n",
       "    <tr style=\"text-align: right;\">\n",
       "      <th></th>\n",
       "      <th>Region</th>\n",
       "      <th>Country</th>\n",
       "      <th>Subject</th>\n",
       "      <th>Age_Cat</th>\n",
       "      <th>Gender_1male</th>\n",
       "      <th>Degree_Cat</th>\n",
       "      <th>Farm_size_Cat</th>\n",
       "      <th>ProductionUse_selling</th>\n",
       "      <th>Farm_type_Conventional</th>\n",
       "      <th>Farm_type_Intergrated</th>\n",
       "      <th>Farm_type_Organic</th>\n",
       "      <th>Farm_type_Biodynamic</th>\n",
       "      <th>Income_Cat</th>\n",
       "      <th>Proportion_of_income</th>\n",
       "      <th>Production_level_1to7</th>\n",
       "      <th>Production_level_1to3</th>\n",
       "      <th>Crop_Group_Cat</th>\n",
       "      <th>Legislative_requirements</th>\n",
       "      <th>Own_phone</th>\n",
       "      <th>Years_own_phone</th>\n",
       "      <th>Use_DSS_App</th>\n",
       "      <th>Agricultural_app_use_Cat</th>\n",
       "      <th>Computer_at_home</th>\n",
       "      <th>Speed_internet_Cat</th>\n",
       "      <th>Already_used_DSS</th>\n",
       "      <th>How_do_you_access_DSS_Cat</th>\n",
       "      <th>Potencial_user_of_platform</th>\n",
       "      <th>Prefered_access_Phone</th>\n",
       "      <th>Prefered_access_PC</th>\n",
       "      <th>Prefered_access_Advisor</th>\n",
       "      <th>Willing_to_try_new_products_Cat</th>\n",
       "      <th>Price_important_factor</th>\n",
       "      <th>DSS_are_more_suited_for_ShortTermDecision_1</th>\n",
       "      <th>DSS_are_more_suited_for_LongTermDecision_2</th>\n",
       "      <th>DSS_for_ShortLongTermBothDecision_Cat_NO</th>\n",
       "      <th>Prefered_type_Web_1</th>\n",
       "      <th>Prefered_type_Software_2</th>\n",
       "      <th>Prefered_type_Web_Software_Both_Cat_NO</th>\n",
       "      <th>Importance_of_easy_to_use_1to7</th>\n",
       "      <th>Importance_of_easy_to_use_1to2</th>\n",
       "      <th>Importance_of_easy_to_use_1to3</th>\n",
       "      <th>Importance_of_efficient_1to7</th>\n",
       "      <th>Importance_of_efficient_1to2</th>\n",
       "      <th>Importance_of_efficient_1to3</th>\n",
       "      <th>Importance_low_price_1to7</th>\n",
       "      <th>Importance_low_price_1to2</th>\n",
       "      <th>Importance_low_price_1to3</th>\n",
       "      <th>Importance_polyvalence_1to7</th>\n",
       "      <th>Importance_polyvalence_1to2</th>\n",
       "      <th>Importance_polyvalence_1to3</th>\n",
       "      <th>Enjoy_using_new_techs_1to7</th>\n",
       "      <th>Enjoy_using_new_techs_1to2</th>\n",
       "      <th>Enjoy_using_new_techs_1to3</th>\n",
       "      <th>Appreciate_change_1to7</th>\n",
       "      <th>Appreciate_change_1to2</th>\n",
       "      <th>Appreciate_change_1to3</th>\n",
       "      <th>Trust_in_DSS_1to7</th>\n",
       "      <th>Trust_in_DSS_1to2</th>\n",
       "      <th>Trust_in_DSS_1to3</th>\n",
       "      <th>Trust_in_colleague_advice_1to7</th>\n",
       "      <th>Trust_in_colleague_advice_1to2</th>\n",
       "      <th>Trust_in_colleague_advice_1to3</th>\n",
       "      <th>Trust_advice_friend_1to7</th>\n",
       "      <th>Trust_advice_friend_1to2</th>\n",
       "      <th>Trust_advice_friend_1to3</th>\n",
       "      <th>Need_IT_teaching_Cat</th>\n",
       "      <th>DSS_can_improve_your_productivity_Cat</th>\n",
       "      <th>CL_Output_preference_Graphical_1</th>\n",
       "      <th>CL_Output_preference_Textual_2</th>\n",
       "      <th>CL_Output_preference_Both_3</th>\n",
       "      <th>Output_preference_Cat_NO</th>\n",
       "      <th>Share_DSS_exp_with_colleague_Cat</th>\n",
       "      <th>Use_DSS_from_trusted_sources_Always</th>\n",
       "      <th>WTP_for_DSS_Cat</th>\n",
       "      <th>DSS_must_be_tailored_for_your_farm_Cat</th>\n",
       "      <th>Use_same_DSS_than_advisor_Cat</th>\n",
       "      <th>Age_of_DSS_user_at_the_farm_1</th>\n",
       "      <th>Age_of_DSS_user_at_the_farm_2</th>\n",
       "      <th>Age_of_DSS_user_at_the_farm_3</th>\n",
       "      <th>Marketing_info_about_DSS_Cat</th>\n",
       "      <th>Manufacturer_demo_of_DSS_Cat</th>\n",
       "    </tr>\n",
       "  </thead>\n",
       "  <tbody>\n",
       "    <tr>\n",
       "      <th>0</th>\n",
       "      <td>south_EU</td>\n",
       "      <td>Italy</td>\n",
       "      <td>ITALY1</td>\n",
       "      <td>4</td>\n",
       "      <td>1.0</td>\n",
       "      <td>1.0</td>\n",
       "      <td>5.0</td>\n",
       "      <td>1.0</td>\n",
       "      <td>1.0</td>\n",
       "      <td>1.0</td>\n",
       "      <td>0.0</td>\n",
       "      <td>0.0</td>\n",
       "      <td>NaN</td>\n",
       "      <td>0.0</td>\n",
       "      <td>7.0</td>\n",
       "      <td>3.0</td>\n",
       "      <td>1.0</td>\n",
       "      <td>1.0</td>\n",
       "      <td>1</td>\n",
       "      <td>0</td>\n",
       "      <td>1.0</td>\n",
       "      <td>2.0</td>\n",
       "      <td>1</td>\n",
       "      <td>3</td>\n",
       "      <td>0.0</td>\n",
       "      <td>1.0</td>\n",
       "      <td>0.0</td>\n",
       "      <td>NaN</td>\n",
       "      <td>NaN</td>\n",
       "      <td>NaN</td>\n",
       "      <td>2.0</td>\n",
       "      <td>0.0</td>\n",
       "      <td>NaN</td>\n",
       "      <td>NaN</td>\n",
       "      <td>NaN</td>\n",
       "      <td>NaN</td>\n",
       "      <td>NaN</td>\n",
       "      <td>NaN</td>\n",
       "      <td>NaN</td>\n",
       "      <td>NaN</td>\n",
       "      <td>NaN</td>\n",
       "      <td>NaN</td>\n",
       "      <td>NaN</td>\n",
       "      <td>NaN</td>\n",
       "      <td>NaN</td>\n",
       "      <td>NaN</td>\n",
       "      <td>NaN</td>\n",
       "      <td>NaN</td>\n",
       "      <td>NaN</td>\n",
       "      <td>NaN</td>\n",
       "      <td>NaN</td>\n",
       "      <td>NaN</td>\n",
       "      <td>NaN</td>\n",
       "      <td>7.0</td>\n",
       "      <td>2.0</td>\n",
       "      <td>3.0</td>\n",
       "      <td>1.0</td>\n",
       "      <td>1.0</td>\n",
       "      <td>1.0</td>\n",
       "      <td>2.0</td>\n",
       "      <td>1.0</td>\n",
       "      <td>1.0</td>\n",
       "      <td>2.0</td>\n",
       "      <td>1.0</td>\n",
       "      <td>1.0</td>\n",
       "      <td>1.0</td>\n",
       "      <td>1.0</td>\n",
       "      <td>NaN</td>\n",
       "      <td>NaN</td>\n",
       "      <td>NaN</td>\n",
       "      <td>NaN</td>\n",
       "      <td>2.0</td>\n",
       "      <td>NaN</td>\n",
       "      <td>1.0</td>\n",
       "      <td>1.0</td>\n",
       "      <td>NaN</td>\n",
       "      <td>NaN</td>\n",
       "      <td>NaN</td>\n",
       "      <td>NaN</td>\n",
       "      <td>1.0</td>\n",
       "      <td>1.0</td>\n",
       "    </tr>\n",
       "    <tr>\n",
       "      <th>1</th>\n",
       "      <td>south_EU</td>\n",
       "      <td>Italy</td>\n",
       "      <td>ITALY2</td>\n",
       "      <td>4</td>\n",
       "      <td>1.0</td>\n",
       "      <td>2.0</td>\n",
       "      <td>4.0</td>\n",
       "      <td>1.0</td>\n",
       "      <td>1.0</td>\n",
       "      <td>0.0</td>\n",
       "      <td>0.0</td>\n",
       "      <td>0.0</td>\n",
       "      <td>2.0</td>\n",
       "      <td>0.0</td>\n",
       "      <td>4.0</td>\n",
       "      <td>2.0</td>\n",
       "      <td>2.0</td>\n",
       "      <td>NaN</td>\n",
       "      <td>1</td>\n",
       "      <td>0</td>\n",
       "      <td>NaN</td>\n",
       "      <td>NaN</td>\n",
       "      <td>1</td>\n",
       "      <td>2</td>\n",
       "      <td>NaN</td>\n",
       "      <td>NaN</td>\n",
       "      <td>NaN</td>\n",
       "      <td>NaN</td>\n",
       "      <td>NaN</td>\n",
       "      <td>NaN</td>\n",
       "      <td>NaN</td>\n",
       "      <td>NaN</td>\n",
       "      <td>NaN</td>\n",
       "      <td>NaN</td>\n",
       "      <td>NaN</td>\n",
       "      <td>NaN</td>\n",
       "      <td>NaN</td>\n",
       "      <td>NaN</td>\n",
       "      <td>NaN</td>\n",
       "      <td>NaN</td>\n",
       "      <td>NaN</td>\n",
       "      <td>NaN</td>\n",
       "      <td>NaN</td>\n",
       "      <td>NaN</td>\n",
       "      <td>NaN</td>\n",
       "      <td>NaN</td>\n",
       "      <td>NaN</td>\n",
       "      <td>NaN</td>\n",
       "      <td>NaN</td>\n",
       "      <td>NaN</td>\n",
       "      <td>7.0</td>\n",
       "      <td>2.0</td>\n",
       "      <td>3.0</td>\n",
       "      <td>7.0</td>\n",
       "      <td>2.0</td>\n",
       "      <td>3.0</td>\n",
       "      <td>6.0</td>\n",
       "      <td>2.0</td>\n",
       "      <td>2.0</td>\n",
       "      <td>2.0</td>\n",
       "      <td>1.0</td>\n",
       "      <td>1.0</td>\n",
       "      <td>4.0</td>\n",
       "      <td>1.0</td>\n",
       "      <td>1.0</td>\n",
       "      <td>2.0</td>\n",
       "      <td>3.0</td>\n",
       "      <td>NaN</td>\n",
       "      <td>NaN</td>\n",
       "      <td>NaN</td>\n",
       "      <td>NaN</td>\n",
       "      <td>2.0</td>\n",
       "      <td>NaN</td>\n",
       "      <td>1.0</td>\n",
       "      <td>2.0</td>\n",
       "      <td>NaN</td>\n",
       "      <td>0.0</td>\n",
       "      <td>1.0</td>\n",
       "      <td>0.0</td>\n",
       "      <td>2.0</td>\n",
       "      <td>2.0</td>\n",
       "    </tr>\n",
       "    <tr>\n",
       "      <th>2</th>\n",
       "      <td>south_EU</td>\n",
       "      <td>Italy</td>\n",
       "      <td>ITALY3</td>\n",
       "      <td>2</td>\n",
       "      <td>1.0</td>\n",
       "      <td>2.0</td>\n",
       "      <td>5.0</td>\n",
       "      <td>1.0</td>\n",
       "      <td>1.0</td>\n",
       "      <td>0.0</td>\n",
       "      <td>0.0</td>\n",
       "      <td>0.0</td>\n",
       "      <td>2.0</td>\n",
       "      <td>100.0</td>\n",
       "      <td>5.0</td>\n",
       "      <td>3.0</td>\n",
       "      <td>1.0</td>\n",
       "      <td>1.0</td>\n",
       "      <td>1</td>\n",
       "      <td>10</td>\n",
       "      <td>1.0</td>\n",
       "      <td>2.0</td>\n",
       "      <td>1</td>\n",
       "      <td>2</td>\n",
       "      <td>0.0</td>\n",
       "      <td>1.0</td>\n",
       "      <td>0.0</td>\n",
       "      <td>1.0</td>\n",
       "      <td>1.0</td>\n",
       "      <td>1.0</td>\n",
       "      <td>1.0</td>\n",
       "      <td>1.0</td>\n",
       "      <td>1.0</td>\n",
       "      <td>0.0</td>\n",
       "      <td>1.0</td>\n",
       "      <td>1.0</td>\n",
       "      <td>0.0</td>\n",
       "      <td>1.0</td>\n",
       "      <td>7.0</td>\n",
       "      <td>2.0</td>\n",
       "      <td>3.0</td>\n",
       "      <td>7.0</td>\n",
       "      <td>2.0</td>\n",
       "      <td>3.0</td>\n",
       "      <td>5.0</td>\n",
       "      <td>1.0</td>\n",
       "      <td>2.0</td>\n",
       "      <td>7.0</td>\n",
       "      <td>2.0</td>\n",
       "      <td>3.0</td>\n",
       "      <td>4.0</td>\n",
       "      <td>1.0</td>\n",
       "      <td>1.0</td>\n",
       "      <td>4.0</td>\n",
       "      <td>1.0</td>\n",
       "      <td>1.0</td>\n",
       "      <td>5.0</td>\n",
       "      <td>1.0</td>\n",
       "      <td>2.0</td>\n",
       "      <td>5.0</td>\n",
       "      <td>1.0</td>\n",
       "      <td>2.0</td>\n",
       "      <td>5.0</td>\n",
       "      <td>1.0</td>\n",
       "      <td>2.0</td>\n",
       "      <td>2.0</td>\n",
       "      <td>3.0</td>\n",
       "      <td>0.0</td>\n",
       "      <td>0.0</td>\n",
       "      <td>1.0</td>\n",
       "      <td>3.0</td>\n",
       "      <td>1.0</td>\n",
       "      <td>NaN</td>\n",
       "      <td>2.0</td>\n",
       "      <td>2.0</td>\n",
       "      <td>1.0</td>\n",
       "      <td>NaN</td>\n",
       "      <td>NaN</td>\n",
       "      <td>NaN</td>\n",
       "      <td>2.0</td>\n",
       "      <td>2.0</td>\n",
       "    </tr>\n",
       "    <tr>\n",
       "      <th>3</th>\n",
       "      <td>south_EU</td>\n",
       "      <td>Italy</td>\n",
       "      <td>ITALY4</td>\n",
       "      <td>2</td>\n",
       "      <td>1.0</td>\n",
       "      <td>2.0</td>\n",
       "      <td>4.0</td>\n",
       "      <td>1.0</td>\n",
       "      <td>0.0</td>\n",
       "      <td>0.0</td>\n",
       "      <td>0.0</td>\n",
       "      <td>0.0</td>\n",
       "      <td>5.0</td>\n",
       "      <td>90.0</td>\n",
       "      <td>5.0</td>\n",
       "      <td>3.0</td>\n",
       "      <td>1.0</td>\n",
       "      <td>1.0</td>\n",
       "      <td>1</td>\n",
       "      <td>10</td>\n",
       "      <td>0.0</td>\n",
       "      <td>NaN</td>\n",
       "      <td>1</td>\n",
       "      <td>2</td>\n",
       "      <td>0.0</td>\n",
       "      <td>1.0</td>\n",
       "      <td>0.0</td>\n",
       "      <td>1.0</td>\n",
       "      <td>0.0</td>\n",
       "      <td>0.0</td>\n",
       "      <td>1.0</td>\n",
       "      <td>1.0</td>\n",
       "      <td>0.0</td>\n",
       "      <td>1.0</td>\n",
       "      <td>2.0</td>\n",
       "      <td>0.0</td>\n",
       "      <td>1.0</td>\n",
       "      <td>2.0</td>\n",
       "      <td>7.0</td>\n",
       "      <td>2.0</td>\n",
       "      <td>3.0</td>\n",
       "      <td>6.0</td>\n",
       "      <td>2.0</td>\n",
       "      <td>2.0</td>\n",
       "      <td>4.0</td>\n",
       "      <td>1.0</td>\n",
       "      <td>1.0</td>\n",
       "      <td>6.0</td>\n",
       "      <td>2.0</td>\n",
       "      <td>2.0</td>\n",
       "      <td>6.0</td>\n",
       "      <td>2.0</td>\n",
       "      <td>2.0</td>\n",
       "      <td>6.0</td>\n",
       "      <td>2.0</td>\n",
       "      <td>2.0</td>\n",
       "      <td>4.0</td>\n",
       "      <td>1.0</td>\n",
       "      <td>1.0</td>\n",
       "      <td>4.0</td>\n",
       "      <td>1.0</td>\n",
       "      <td>1.0</td>\n",
       "      <td>4.0</td>\n",
       "      <td>1.0</td>\n",
       "      <td>1.0</td>\n",
       "      <td>2.0</td>\n",
       "      <td>3.0</td>\n",
       "      <td>0.0</td>\n",
       "      <td>0.0</td>\n",
       "      <td>1.0</td>\n",
       "      <td>3.0</td>\n",
       "      <td>NaN</td>\n",
       "      <td>NaN</td>\n",
       "      <td>3.0</td>\n",
       "      <td>2.0</td>\n",
       "      <td>NaN</td>\n",
       "      <td>1.0</td>\n",
       "      <td>0.0</td>\n",
       "      <td>0.0</td>\n",
       "      <td>NaN</td>\n",
       "      <td>1.0</td>\n",
       "    </tr>\n",
       "    <tr>\n",
       "      <th>4</th>\n",
       "      <td>south_EU</td>\n",
       "      <td>Italy</td>\n",
       "      <td>ITALY5</td>\n",
       "      <td>2</td>\n",
       "      <td>1.0</td>\n",
       "      <td>2.0</td>\n",
       "      <td>5.0</td>\n",
       "      <td>1.0</td>\n",
       "      <td>0.0</td>\n",
       "      <td>1.0</td>\n",
       "      <td>0.0</td>\n",
       "      <td>0.0</td>\n",
       "      <td>5.0</td>\n",
       "      <td>0.0</td>\n",
       "      <td>4.0</td>\n",
       "      <td>2.0</td>\n",
       "      <td>2.0</td>\n",
       "      <td>1.0</td>\n",
       "      <td>1</td>\n",
       "      <td>10</td>\n",
       "      <td>1.0</td>\n",
       "      <td>3.0</td>\n",
       "      <td>1</td>\n",
       "      <td>2</td>\n",
       "      <td>1.0</td>\n",
       "      <td>3.0</td>\n",
       "      <td>1.0</td>\n",
       "      <td>1.0</td>\n",
       "      <td>0.0</td>\n",
       "      <td>0.0</td>\n",
       "      <td>1.0</td>\n",
       "      <td>1.0</td>\n",
       "      <td>1.0</td>\n",
       "      <td>0.0</td>\n",
       "      <td>1.0</td>\n",
       "      <td>1.0</td>\n",
       "      <td>0.0</td>\n",
       "      <td>1.0</td>\n",
       "      <td>7.0</td>\n",
       "      <td>2.0</td>\n",
       "      <td>3.0</td>\n",
       "      <td>7.0</td>\n",
       "      <td>2.0</td>\n",
       "      <td>3.0</td>\n",
       "      <td>4.0</td>\n",
       "      <td>1.0</td>\n",
       "      <td>1.0</td>\n",
       "      <td>6.0</td>\n",
       "      <td>2.0</td>\n",
       "      <td>2.0</td>\n",
       "      <td>5.0</td>\n",
       "      <td>1.0</td>\n",
       "      <td>2.0</td>\n",
       "      <td>4.0</td>\n",
       "      <td>1.0</td>\n",
       "      <td>1.0</td>\n",
       "      <td>4.0</td>\n",
       "      <td>1.0</td>\n",
       "      <td>1.0</td>\n",
       "      <td>4.0</td>\n",
       "      <td>1.0</td>\n",
       "      <td>1.0</td>\n",
       "      <td>4.0</td>\n",
       "      <td>1.0</td>\n",
       "      <td>1.0</td>\n",
       "      <td>2.0</td>\n",
       "      <td>3.0</td>\n",
       "      <td>0.0</td>\n",
       "      <td>0.0</td>\n",
       "      <td>1.0</td>\n",
       "      <td>3.0</td>\n",
       "      <td>3.0</td>\n",
       "      <td>1.0</td>\n",
       "      <td>3.0</td>\n",
       "      <td>2.0</td>\n",
       "      <td>2.0</td>\n",
       "      <td>1.0</td>\n",
       "      <td>0.0</td>\n",
       "      <td>0.0</td>\n",
       "      <td>2.0</td>\n",
       "      <td>2.0</td>\n",
       "    </tr>\n",
       "  </tbody>\n",
       "</table>\n",
       "</div>"
      ],
      "text/plain": [
       "     Region Country Subject  Age_Cat  Gender_1male  Degree_Cat  Farm_size_Cat  \\\n",
       "0  south_EU   Italy  ITALY1        4           1.0         1.0            5.0   \n",
       "1  south_EU   Italy  ITALY2        4           1.0         2.0            4.0   \n",
       "2  south_EU   Italy  ITALY3        2           1.0         2.0            5.0   \n",
       "3  south_EU   Italy  ITALY4        2           1.0         2.0            4.0   \n",
       "4  south_EU   Italy  ITALY5        2           1.0         2.0            5.0   \n",
       "\n",
       "   ProductionUse_selling  Farm_type_Conventional  Farm_type_Intergrated  \\\n",
       "0                    1.0                     1.0                    1.0   \n",
       "1                    1.0                     1.0                    0.0   \n",
       "2                    1.0                     1.0                    0.0   \n",
       "3                    1.0                     0.0                    0.0   \n",
       "4                    1.0                     0.0                    1.0   \n",
       "\n",
       "   Farm_type_Organic  Farm_type_Biodynamic  Income_Cat  Proportion_of_income  \\\n",
       "0                0.0                   0.0         NaN                   0.0   \n",
       "1                0.0                   0.0         2.0                   0.0   \n",
       "2                0.0                   0.0         2.0                 100.0   \n",
       "3                0.0                   0.0         5.0                  90.0   \n",
       "4                0.0                   0.0         5.0                   0.0   \n",
       "\n",
       "   Production_level_1to7  Production_level_1to3  Crop_Group_Cat  \\\n",
       "0                    7.0                    3.0             1.0   \n",
       "1                    4.0                    2.0             2.0   \n",
       "2                    5.0                    3.0             1.0   \n",
       "3                    5.0                    3.0             1.0   \n",
       "4                    4.0                    2.0             2.0   \n",
       "\n",
       "   Legislative_requirements  Own_phone  Years_own_phone  Use_DSS_App  \\\n",
       "0                       1.0          1                0          1.0   \n",
       "1                       NaN          1                0          NaN   \n",
       "2                       1.0          1               10          1.0   \n",
       "3                       1.0          1               10          0.0   \n",
       "4                       1.0          1               10          1.0   \n",
       "\n",
       "   Agricultural_app_use_Cat  Computer_at_home  Speed_internet_Cat  \\\n",
       "0                       2.0                 1                   3   \n",
       "1                       NaN                 1                   2   \n",
       "2                       2.0                 1                   2   \n",
       "3                       NaN                 1                   2   \n",
       "4                       3.0                 1                   2   \n",
       "\n",
       "   Already_used_DSS  How_do_you_access_DSS_Cat  Potencial_user_of_platform  \\\n",
       "0               0.0                        1.0                         0.0   \n",
       "1               NaN                        NaN                         NaN   \n",
       "2               0.0                        1.0                         0.0   \n",
       "3               0.0                        1.0                         0.0   \n",
       "4               1.0                        3.0                         1.0   \n",
       "\n",
       "   Prefered_access_Phone  Prefered_access_PC  Prefered_access_Advisor  \\\n",
       "0                    NaN                 NaN                      NaN   \n",
       "1                    NaN                 NaN                      NaN   \n",
       "2                    1.0                 1.0                      1.0   \n",
       "3                    1.0                 0.0                      0.0   \n",
       "4                    1.0                 0.0                      0.0   \n",
       "\n",
       "   Willing_to_try_new_products_Cat  Price_important_factor  \\\n",
       "0                              2.0                     0.0   \n",
       "1                              NaN                     NaN   \n",
       "2                              1.0                     1.0   \n",
       "3                              1.0                     1.0   \n",
       "4                              1.0                     1.0   \n",
       "\n",
       "   DSS_are_more_suited_for_ShortTermDecision_1  \\\n",
       "0                                          NaN   \n",
       "1                                          NaN   \n",
       "2                                          1.0   \n",
       "3                                          0.0   \n",
       "4                                          1.0   \n",
       "\n",
       "   DSS_are_more_suited_for_LongTermDecision_2  \\\n",
       "0                                         NaN   \n",
       "1                                         NaN   \n",
       "2                                         0.0   \n",
       "3                                         1.0   \n",
       "4                                         0.0   \n",
       "\n",
       "   DSS_for_ShortLongTermBothDecision_Cat_NO  Prefered_type_Web_1  \\\n",
       "0                                       NaN                  NaN   \n",
       "1                                       NaN                  NaN   \n",
       "2                                       1.0                  1.0   \n",
       "3                                       2.0                  0.0   \n",
       "4                                       1.0                  1.0   \n",
       "\n",
       "   Prefered_type_Software_2  Prefered_type_Web_Software_Both_Cat_NO  \\\n",
       "0                       NaN                                     NaN   \n",
       "1                       NaN                                     NaN   \n",
       "2                       0.0                                     1.0   \n",
       "3                       1.0                                     2.0   \n",
       "4                       0.0                                     1.0   \n",
       "\n",
       "   Importance_of_easy_to_use_1to7  Importance_of_easy_to_use_1to2  \\\n",
       "0                             NaN                             NaN   \n",
       "1                             NaN                             NaN   \n",
       "2                             7.0                             2.0   \n",
       "3                             7.0                             2.0   \n",
       "4                             7.0                             2.0   \n",
       "\n",
       "   Importance_of_easy_to_use_1to3  Importance_of_efficient_1to7  \\\n",
       "0                             NaN                           NaN   \n",
       "1                             NaN                           NaN   \n",
       "2                             3.0                           7.0   \n",
       "3                             3.0                           6.0   \n",
       "4                             3.0                           7.0   \n",
       "\n",
       "   Importance_of_efficient_1to2  Importance_of_efficient_1to3  \\\n",
       "0                           NaN                           NaN   \n",
       "1                           NaN                           NaN   \n",
       "2                           2.0                           3.0   \n",
       "3                           2.0                           2.0   \n",
       "4                           2.0                           3.0   \n",
       "\n",
       "   Importance_low_price_1to7  Importance_low_price_1to2  \\\n",
       "0                        NaN                        NaN   \n",
       "1                        NaN                        NaN   \n",
       "2                        5.0                        1.0   \n",
       "3                        4.0                        1.0   \n",
       "4                        4.0                        1.0   \n",
       "\n",
       "   Importance_low_price_1to3  Importance_polyvalence_1to7  \\\n",
       "0                        NaN                          NaN   \n",
       "1                        NaN                          NaN   \n",
       "2                        2.0                          7.0   \n",
       "3                        1.0                          6.0   \n",
       "4                        1.0                          6.0   \n",
       "\n",
       "   Importance_polyvalence_1to2  Importance_polyvalence_1to3  \\\n",
       "0                          NaN                          NaN   \n",
       "1                          NaN                          NaN   \n",
       "2                          2.0                          3.0   \n",
       "3                          2.0                          2.0   \n",
       "4                          2.0                          2.0   \n",
       "\n",
       "   Enjoy_using_new_techs_1to7  Enjoy_using_new_techs_1to2  \\\n",
       "0                         NaN                         NaN   \n",
       "1                         7.0                         2.0   \n",
       "2                         4.0                         1.0   \n",
       "3                         6.0                         2.0   \n",
       "4                         5.0                         1.0   \n",
       "\n",
       "   Enjoy_using_new_techs_1to3  Appreciate_change_1to7  Appreciate_change_1to2  \\\n",
       "0                         NaN                     7.0                     2.0   \n",
       "1                         3.0                     7.0                     2.0   \n",
       "2                         1.0                     4.0                     1.0   \n",
       "3                         2.0                     6.0                     2.0   \n",
       "4                         2.0                     4.0                     1.0   \n",
       "\n",
       "   Appreciate_change_1to3  Trust_in_DSS_1to7  Trust_in_DSS_1to2  \\\n",
       "0                     3.0                1.0                1.0   \n",
       "1                     3.0                6.0                2.0   \n",
       "2                     1.0                5.0                1.0   \n",
       "3                     2.0                4.0                1.0   \n",
       "4                     1.0                4.0                1.0   \n",
       "\n",
       "   Trust_in_DSS_1to3  Trust_in_colleague_advice_1to7  \\\n",
       "0                1.0                             2.0   \n",
       "1                2.0                             2.0   \n",
       "2                2.0                             5.0   \n",
       "3                1.0                             4.0   \n",
       "4                1.0                             4.0   \n",
       "\n",
       "   Trust_in_colleague_advice_1to2  Trust_in_colleague_advice_1to3  \\\n",
       "0                             1.0                             1.0   \n",
       "1                             1.0                             1.0   \n",
       "2                             1.0                             2.0   \n",
       "3                             1.0                             1.0   \n",
       "4                             1.0                             1.0   \n",
       "\n",
       "   Trust_advice_friend_1to7  Trust_advice_friend_1to2  \\\n",
       "0                       2.0                       1.0   \n",
       "1                       4.0                       1.0   \n",
       "2                       5.0                       1.0   \n",
       "3                       4.0                       1.0   \n",
       "4                       4.0                       1.0   \n",
       "\n",
       "   Trust_advice_friend_1to3  Need_IT_teaching_Cat  \\\n",
       "0                       1.0                   1.0   \n",
       "1                       1.0                   2.0   \n",
       "2                       2.0                   2.0   \n",
       "3                       1.0                   2.0   \n",
       "4                       1.0                   2.0   \n",
       "\n",
       "   DSS_can_improve_your_productivity_Cat  CL_Output_preference_Graphical_1  \\\n",
       "0                                    1.0                               NaN   \n",
       "1                                    3.0                               NaN   \n",
       "2                                    3.0                               0.0   \n",
       "3                                    3.0                               0.0   \n",
       "4                                    3.0                               0.0   \n",
       "\n",
       "   CL_Output_preference_Textual_2  CL_Output_preference_Both_3  \\\n",
       "0                             NaN                          NaN   \n",
       "1                             NaN                          NaN   \n",
       "2                             0.0                          1.0   \n",
       "3                             0.0                          1.0   \n",
       "4                             0.0                          1.0   \n",
       "\n",
       "   Output_preference_Cat_NO  Share_DSS_exp_with_colleague_Cat  \\\n",
       "0                       NaN                               2.0   \n",
       "1                       NaN                               2.0   \n",
       "2                       3.0                               1.0   \n",
       "3                       3.0                               NaN   \n",
       "4                       3.0                               3.0   \n",
       "\n",
       "   Use_DSS_from_trusted_sources_Always  WTP_for_DSS_Cat  \\\n",
       "0                                  NaN              1.0   \n",
       "1                                  NaN              1.0   \n",
       "2                                  NaN              2.0   \n",
       "3                                  NaN              3.0   \n",
       "4                                  1.0              3.0   \n",
       "\n",
       "   DSS_must_be_tailored_for_your_farm_Cat  Use_same_DSS_than_advisor_Cat  \\\n",
       "0                                     1.0                            NaN   \n",
       "1                                     2.0                            NaN   \n",
       "2                                     2.0                            1.0   \n",
       "3                                     2.0                            NaN   \n",
       "4                                     2.0                            2.0   \n",
       "\n",
       "   Age_of_DSS_user_at_the_farm_1  Age_of_DSS_user_at_the_farm_2  \\\n",
       "0                            NaN                            NaN   \n",
       "1                            0.0                            1.0   \n",
       "2                            NaN                            NaN   \n",
       "3                            1.0                            0.0   \n",
       "4                            1.0                            0.0   \n",
       "\n",
       "   Age_of_DSS_user_at_the_farm_3  Marketing_info_about_DSS_Cat  \\\n",
       "0                            NaN                           1.0   \n",
       "1                            0.0                           2.0   \n",
       "2                            NaN                           2.0   \n",
       "3                            0.0                           NaN   \n",
       "4                            0.0                           2.0   \n",
       "\n",
       "   Manufacturer_demo_of_DSS_Cat  \n",
       "0                           1.0  \n",
       "1                           2.0  \n",
       "2                           2.0  \n",
       "3                           1.0  \n",
       "4                           2.0  "
      ]
     },
     "execution_count": 186,
     "metadata": {
      "tags": []
     },
     "output_type": "execute_result"
    }
   ],
   "source": [
    "df.head()"
   ]
  },
  {
   "cell_type": "code",
   "execution_count": null,
   "metadata": {
    "colab": {
     "base_uri": "https://localhost:8080/"
    },
    "id": "gqulN1Mel2Nq",
    "outputId": "f11ddd20-6cf1-41db-cc59-47dfe94269f3"
   },
   "outputs": [],
   "source": [
    "df.info()"
   ]
  },
  {
   "cell_type": "code",
   "execution_count": 188,
   "metadata": {
    "id": "rjv9dRC3Rq9N"
   },
   "outputs": [],
   "source": [
    "# Remove Greek instances\n",
    "# Greek_index = df.loc[df.Country == \"Greece\"].index\n",
    "# df_noGreek = df.drop(Greek_index, axis=0)\n",
    "# df_noGreek"
   ]
  },
  {
   "cell_type": "code",
   "execution_count": 189,
   "metadata": {
    "id": "1BwwIb_nqyKm"
   },
   "outputs": [],
   "source": [
    "# Remove duplicate features and \"Subject\" feature.\n",
    "dup_feat = [\"Subject\", \"Production_level_1to7\", \"DSS_for_ShortLongTermBothDecision_Cat_NO\", \"Prefered_type_Web_Software_Both_Cat_NO\", \n",
    "            \"Importance_of_easy_to_use_1to7\", \"Importance_of_easy_to_use_1to2\", \"Importance_of_efficient_1to7\", \"Importance_of_efficient_1to2\", \n",
    "            \"Importance_low_price_1to7\", \"Importance_low_price_1to2\", \"Importance_polyvalence_1to7\", \"Importance_polyvalence_1to2\", \n",
    "            \"Enjoy_using_new_techs_1to7\", \"Enjoy_using_new_techs_1to2\", \"Appreciate_change_1to7\", \"Appreciate_change_1to2\",\n",
    "            \"Trust_in_DSS_1to7\", \"Trust_in_DSS_1to2\", \"Trust_in_colleague_advice_1to7\", \"Trust_in_colleague_advice_1to2\",\n",
    "            \"Trust_advice_friend_1to7\", \"Trust_advice_friend_1to2\", \"Output_preference_Cat_NO\"] \n",
    "df_reduced = df.drop(dup_feat, axis=1)"
   ]
  },
  {
   "cell_type": "code",
   "execution_count": 190,
   "metadata": {
    "colab": {
     "base_uri": "https://localhost:8080/"
    },
    "id": "ocfM2RDzrfKE",
    "outputId": "18d5b1cf-bf51-4902-bb5e-c0cf1b1c042b"
   },
   "outputs": [
    {
     "data": {
      "text/plain": [
       "(149, 58)"
      ]
     },
     "execution_count": 190,
     "metadata": {
      "tags": []
     },
     "output_type": "execute_result"
    }
   ],
   "source": [
    "df_reduced.shape"
   ]
  },
  {
   "cell_type": "code",
   "execution_count": 191,
   "metadata": {
    "id": "i0MxT2vNnfrn"
   },
   "outputs": [],
   "source": [
    "# Remove feature specific to Question #2 \"How_do_you_access_DSS_Cat\"\n",
    "removed_featuresQ2 = [\"Country\", \"ProductionUse_selling\", \"Farm_type_Conventional\", \"Farm_type_Intergrated\", \"Farm_type_Organic\",\n",
    "             \"Farm_type_Biodynamic\", \"Proportion_of_income\", \"Production_level_1to3\", \"Crop_Group_Cat\", \"Own_phone\", \"Years_own_phone\", \n",
    "             \"Use_DSS_App\", \"Agricultural_app_use_Cat\", \"Potencial_user_of_platform\", \"Prefered_access_Phone\", \"Prefered_access_PC\", \"Prefered_access_Advisor\",\n",
    "             \"Prefered_type_Web_1\", \"Prefered_type_Software_2\", \"Importance_of_efficient_1to3\", \"Trust_in_DSS_1to3\", \"Trust_in_colleague_advice_1to3\",\n",
    "             \"Trust_advice_friend_1to3\", \"DSS_can_improve_your_productivity_Cat\", \"CL_Output_preference_Graphical_1\", \"CL_Output_preference_Textual_2\",\n",
    "             \"CL_Output_preference_Both_3\", \"Use_DSS_from_trusted_sources_Always\", \"Use_same_DSS_than_advisor_Cat\", \"Age_of_DSS_user_at_the_farm_1\", \n",
    "             \"Age_of_DSS_user_at_the_farm_2\", \"Age_of_DSS_user_at_the_farm_3\", \"Marketing_info_about_DSS_Cat\", \"Already_used_DSS\", \n",
    "             \"DSS_are_more_suited_for_ShortTermDecision_1\", \"DSS_are_more_suited_for_LongTermDecision_2\"]\n",
    "df_reducedQ2 = df_reduced.copy().drop(removed_featuresQ2, axis=1)"
   ]
  },
  {
   "cell_type": "code",
   "execution_count": 192,
   "metadata": {
    "colab": {
     "base_uri": "https://localhost:8080/"
    },
    "id": "OzqvgdFqkdJ-",
    "outputId": "40bfbf6f-c855-4cf2-a22a-fb9004dbd938"
   },
   "outputs": [
    {
     "data": {
      "text/plain": [
       "(149, 22)"
      ]
     },
     "execution_count": 192,
     "metadata": {
      "tags": []
     },
     "output_type": "execute_result"
    }
   ],
   "source": [
    "df_reducedQ2.shape"
   ]
  },
  {
   "cell_type": "code",
   "execution_count": 193,
   "metadata": {
    "colab": {
     "base_uri": "https://localhost:8080/",
     "height": 224
    },
    "id": "sLbHySjan24b",
    "outputId": "c61d5c5f-39c0-4cbb-938b-cc6fc4107b29"
   },
   "outputs": [
    {
     "data": {
      "text/html": [
       "<div>\n",
       "<style scoped>\n",
       "    .dataframe tbody tr th:only-of-type {\n",
       "        vertical-align: middle;\n",
       "    }\n",
       "\n",
       "    .dataframe tbody tr th {\n",
       "        vertical-align: top;\n",
       "    }\n",
       "\n",
       "    .dataframe thead th {\n",
       "        text-align: right;\n",
       "    }\n",
       "</style>\n",
       "<table border=\"1\" class=\"dataframe\">\n",
       "  <thead>\n",
       "    <tr style=\"text-align: right;\">\n",
       "      <th></th>\n",
       "      <th>Region</th>\n",
       "      <th>Age_Cat</th>\n",
       "      <th>Gender_1male</th>\n",
       "      <th>Degree_Cat</th>\n",
       "      <th>Farm_size_Cat</th>\n",
       "      <th>Income_Cat</th>\n",
       "      <th>Legislative_requirements</th>\n",
       "      <th>Computer_at_home</th>\n",
       "      <th>Speed_internet_Cat</th>\n",
       "      <th>How_do_you_access_DSS_Cat</th>\n",
       "      <th>Willing_to_try_new_products_Cat</th>\n",
       "      <th>Price_important_factor</th>\n",
       "      <th>Importance_of_easy_to_use_1to3</th>\n",
       "      <th>Importance_low_price_1to3</th>\n",
       "      <th>Importance_polyvalence_1to3</th>\n",
       "      <th>Enjoy_using_new_techs_1to3</th>\n",
       "      <th>Appreciate_change_1to3</th>\n",
       "      <th>Need_IT_teaching_Cat</th>\n",
       "      <th>Share_DSS_exp_with_colleague_Cat</th>\n",
       "      <th>WTP_for_DSS_Cat</th>\n",
       "      <th>DSS_must_be_tailored_for_your_farm_Cat</th>\n",
       "      <th>Manufacturer_demo_of_DSS_Cat</th>\n",
       "    </tr>\n",
       "  </thead>\n",
       "  <tbody>\n",
       "    <tr>\n",
       "      <th>0</th>\n",
       "      <td>south_EU</td>\n",
       "      <td>4</td>\n",
       "      <td>1.0</td>\n",
       "      <td>1.0</td>\n",
       "      <td>5.0</td>\n",
       "      <td>NaN</td>\n",
       "      <td>1.0</td>\n",
       "      <td>1</td>\n",
       "      <td>3</td>\n",
       "      <td>1.0</td>\n",
       "      <td>2.0</td>\n",
       "      <td>0.0</td>\n",
       "      <td>NaN</td>\n",
       "      <td>NaN</td>\n",
       "      <td>NaN</td>\n",
       "      <td>NaN</td>\n",
       "      <td>3.0</td>\n",
       "      <td>1.0</td>\n",
       "      <td>2.0</td>\n",
       "      <td>1.0</td>\n",
       "      <td>1.0</td>\n",
       "      <td>1.0</td>\n",
       "    </tr>\n",
       "    <tr>\n",
       "      <th>1</th>\n",
       "      <td>south_EU</td>\n",
       "      <td>4</td>\n",
       "      <td>1.0</td>\n",
       "      <td>2.0</td>\n",
       "      <td>4.0</td>\n",
       "      <td>2.0</td>\n",
       "      <td>NaN</td>\n",
       "      <td>1</td>\n",
       "      <td>2</td>\n",
       "      <td>NaN</td>\n",
       "      <td>NaN</td>\n",
       "      <td>NaN</td>\n",
       "      <td>NaN</td>\n",
       "      <td>NaN</td>\n",
       "      <td>NaN</td>\n",
       "      <td>3.0</td>\n",
       "      <td>3.0</td>\n",
       "      <td>2.0</td>\n",
       "      <td>2.0</td>\n",
       "      <td>1.0</td>\n",
       "      <td>2.0</td>\n",
       "      <td>2.0</td>\n",
       "    </tr>\n",
       "    <tr>\n",
       "      <th>2</th>\n",
       "      <td>south_EU</td>\n",
       "      <td>2</td>\n",
       "      <td>1.0</td>\n",
       "      <td>2.0</td>\n",
       "      <td>5.0</td>\n",
       "      <td>2.0</td>\n",
       "      <td>1.0</td>\n",
       "      <td>1</td>\n",
       "      <td>2</td>\n",
       "      <td>1.0</td>\n",
       "      <td>1.0</td>\n",
       "      <td>1.0</td>\n",
       "      <td>3.0</td>\n",
       "      <td>2.0</td>\n",
       "      <td>3.0</td>\n",
       "      <td>1.0</td>\n",
       "      <td>1.0</td>\n",
       "      <td>2.0</td>\n",
       "      <td>1.0</td>\n",
       "      <td>2.0</td>\n",
       "      <td>2.0</td>\n",
       "      <td>2.0</td>\n",
       "    </tr>\n",
       "    <tr>\n",
       "      <th>3</th>\n",
       "      <td>south_EU</td>\n",
       "      <td>2</td>\n",
       "      <td>1.0</td>\n",
       "      <td>2.0</td>\n",
       "      <td>4.0</td>\n",
       "      <td>5.0</td>\n",
       "      <td>1.0</td>\n",
       "      <td>1</td>\n",
       "      <td>2</td>\n",
       "      <td>1.0</td>\n",
       "      <td>1.0</td>\n",
       "      <td>1.0</td>\n",
       "      <td>3.0</td>\n",
       "      <td>1.0</td>\n",
       "      <td>2.0</td>\n",
       "      <td>2.0</td>\n",
       "      <td>2.0</td>\n",
       "      <td>2.0</td>\n",
       "      <td>NaN</td>\n",
       "      <td>3.0</td>\n",
       "      <td>2.0</td>\n",
       "      <td>1.0</td>\n",
       "    </tr>\n",
       "    <tr>\n",
       "      <th>4</th>\n",
       "      <td>south_EU</td>\n",
       "      <td>2</td>\n",
       "      <td>1.0</td>\n",
       "      <td>2.0</td>\n",
       "      <td>5.0</td>\n",
       "      <td>5.0</td>\n",
       "      <td>1.0</td>\n",
       "      <td>1</td>\n",
       "      <td>2</td>\n",
       "      <td>3.0</td>\n",
       "      <td>1.0</td>\n",
       "      <td>1.0</td>\n",
       "      <td>3.0</td>\n",
       "      <td>1.0</td>\n",
       "      <td>2.0</td>\n",
       "      <td>2.0</td>\n",
       "      <td>1.0</td>\n",
       "      <td>2.0</td>\n",
       "      <td>3.0</td>\n",
       "      <td>3.0</td>\n",
       "      <td>2.0</td>\n",
       "      <td>2.0</td>\n",
       "    </tr>\n",
       "  </tbody>\n",
       "</table>\n",
       "</div>"
      ],
      "text/plain": [
       "     Region  Age_Cat  Gender_1male  Degree_Cat  Farm_size_Cat  Income_Cat  \\\n",
       "0  south_EU        4           1.0         1.0            5.0         NaN   \n",
       "1  south_EU        4           1.0         2.0            4.0         2.0   \n",
       "2  south_EU        2           1.0         2.0            5.0         2.0   \n",
       "3  south_EU        2           1.0         2.0            4.0         5.0   \n",
       "4  south_EU        2           1.0         2.0            5.0         5.0   \n",
       "\n",
       "   Legislative_requirements  Computer_at_home  Speed_internet_Cat  \\\n",
       "0                       1.0                 1                   3   \n",
       "1                       NaN                 1                   2   \n",
       "2                       1.0                 1                   2   \n",
       "3                       1.0                 1                   2   \n",
       "4                       1.0                 1                   2   \n",
       "\n",
       "   How_do_you_access_DSS_Cat  Willing_to_try_new_products_Cat  \\\n",
       "0                        1.0                              2.0   \n",
       "1                        NaN                              NaN   \n",
       "2                        1.0                              1.0   \n",
       "3                        1.0                              1.0   \n",
       "4                        3.0                              1.0   \n",
       "\n",
       "   Price_important_factor  Importance_of_easy_to_use_1to3  \\\n",
       "0                     0.0                             NaN   \n",
       "1                     NaN                             NaN   \n",
       "2                     1.0                             3.0   \n",
       "3                     1.0                             3.0   \n",
       "4                     1.0                             3.0   \n",
       "\n",
       "   Importance_low_price_1to3  Importance_polyvalence_1to3  \\\n",
       "0                        NaN                          NaN   \n",
       "1                        NaN                          NaN   \n",
       "2                        2.0                          3.0   \n",
       "3                        1.0                          2.0   \n",
       "4                        1.0                          2.0   \n",
       "\n",
       "   Enjoy_using_new_techs_1to3  Appreciate_change_1to3  Need_IT_teaching_Cat  \\\n",
       "0                         NaN                     3.0                   1.0   \n",
       "1                         3.0                     3.0                   2.0   \n",
       "2                         1.0                     1.0                   2.0   \n",
       "3                         2.0                     2.0                   2.0   \n",
       "4                         2.0                     1.0                   2.0   \n",
       "\n",
       "   Share_DSS_exp_with_colleague_Cat  WTP_for_DSS_Cat  \\\n",
       "0                               2.0              1.0   \n",
       "1                               2.0              1.0   \n",
       "2                               1.0              2.0   \n",
       "3                               NaN              3.0   \n",
       "4                               3.0              3.0   \n",
       "\n",
       "   DSS_must_be_tailored_for_your_farm_Cat  Manufacturer_demo_of_DSS_Cat  \n",
       "0                                     1.0                           1.0  \n",
       "1                                     2.0                           2.0  \n",
       "2                                     2.0                           2.0  \n",
       "3                                     2.0                           1.0  \n",
       "4                                     2.0                           2.0  "
      ]
     },
     "execution_count": 193,
     "metadata": {
      "tags": []
     },
     "output_type": "execute_result"
    }
   ],
   "source": [
    "df_reducedQ2.head()"
   ]
  },
  {
   "cell_type": "code",
   "execution_count": 194,
   "metadata": {
    "id": "YnIWAHzVl2Ns"
   },
   "outputs": [],
   "source": [
    "# One hot encode categorical data.\n",
    "#ohe_df = pd.get_dummies(df, columns=[\"Region\", \"Country\"])\n",
    "ohe_df = pd.get_dummies(df_reducedQ2, columns=[\"Region\"])"
   ]
  },
  {
   "cell_type": "markdown",
   "metadata": {
    "id": "Q8zS_VOMl2Ns"
   },
   "source": [
    "### Missing values"
   ]
  },
  {
   "cell_type": "code",
   "execution_count": 195,
   "metadata": {
    "colab": {
     "base_uri": "https://localhost:8080/"
    },
    "id": "-lQe012UBGev",
    "outputId": "6685b159-e40c-4d1e-8512-57480a354025"
   },
   "outputs": [
    {
     "data": {
      "text/plain": [
       "Age_Cat                                    0\n",
       "Gender_1male                               1\n",
       "Degree_Cat                                 5\n",
       "Farm_size_Cat                              1\n",
       "Income_Cat                                 5\n",
       "Legislative_requirements                  11\n",
       "Computer_at_home                           0\n",
       "Speed_internet_Cat                         0\n",
       "How_do_you_access_DSS_Cat                 15\n",
       "Willing_to_try_new_products_Cat            6\n",
       "Price_important_factor                     3\n",
       "Importance_of_easy_to_use_1to3             9\n",
       "Importance_low_price_1to3                 13\n",
       "Importance_polyvalence_1to3               13\n",
       "Enjoy_using_new_techs_1to3                 2\n",
       "Appreciate_change_1to3                     1\n",
       "Need_IT_teaching_Cat                       2\n",
       "Share_DSS_exp_with_colleague_Cat          13\n",
       "WTP_for_DSS_Cat                            3\n",
       "DSS_must_be_tailored_for_your_farm_Cat     3\n",
       "Manufacturer_demo_of_DSS_Cat               6\n",
       "Region_central_EU                          0\n",
       "Region_north_EU                            0\n",
       "Region_south_EU                            0\n",
       "dtype: int64"
      ]
     },
     "execution_count": 195,
     "metadata": {
      "tags": []
     },
     "output_type": "execute_result"
    }
   ],
   "source": [
    "# Show Missing values\n",
    "ohe_df.isnull().sum()"
   ]
  },
  {
   "cell_type": "code",
   "execution_count": 196,
   "metadata": {
    "id": "xV8O9ayCl2Ns"
   },
   "outputs": [],
   "source": [
    "df_noNaN = ohe_df.dropna(how=\"any\").copy()\n",
    "#df_noNaN = ohe_df.copy().fillna(ohe_df.mean())\n",
    "#df_noNaN = ohe_df.copy().fillna(ohe_df.median())\n",
    "#df_noNaN = ohe_df.copy().fillna(ohe_df.mode())\n",
    "#df_noNaN = ohe_df.interpolate(method=\"linear\", axis=0).copy()\n",
    "#df_noNaN = df_reducedQ2.dropna(how=\"any\").copy()\n",
    "\n",
    "# try scikit learn"
   ]
  },
  {
   "cell_type": "code",
   "execution_count": 197,
   "metadata": {
    "colab": {
     "base_uri": "https://localhost:8080/"
    },
    "id": "qWqOgRootFWS",
    "outputId": "9fa2158c-c193-4c66-b2fb-7d7130c5d1ac"
   },
   "outputs": [
    {
     "data": {
      "text/plain": [
       "Age_Cat                                   0\n",
       "Gender_1male                              0\n",
       "Degree_Cat                                0\n",
       "Farm_size_Cat                             0\n",
       "Income_Cat                                0\n",
       "Legislative_requirements                  0\n",
       "Computer_at_home                          0\n",
       "Speed_internet_Cat                        0\n",
       "How_do_you_access_DSS_Cat                 0\n",
       "Willing_to_try_new_products_Cat           0\n",
       "Price_important_factor                    0\n",
       "Importance_of_easy_to_use_1to3            0\n",
       "Importance_low_price_1to3                 0\n",
       "Importance_polyvalence_1to3               0\n",
       "Enjoy_using_new_techs_1to3                0\n",
       "Appreciate_change_1to3                    0\n",
       "Need_IT_teaching_Cat                      0\n",
       "Share_DSS_exp_with_colleague_Cat          0\n",
       "WTP_for_DSS_Cat                           0\n",
       "DSS_must_be_tailored_for_your_farm_Cat    0\n",
       "Manufacturer_demo_of_DSS_Cat              0\n",
       "Region_central_EU                         0\n",
       "Region_north_EU                           0\n",
       "Region_south_EU                           0\n",
       "dtype: int64"
      ]
     },
     "execution_count": 197,
     "metadata": {
      "tags": []
     },
     "output_type": "execute_result"
    }
   ],
   "source": [
    "df_noNaN.isnull().sum()"
   ]
  },
  {
   "cell_type": "code",
   "execution_count": 198,
   "metadata": {
    "colab": {
     "base_uri": "https://localhost:8080/"
    },
    "id": "UV9s6T-stOYC",
    "outputId": "31a26403-857d-4dce-e023-8320b5492527"
   },
   "outputs": [
    {
     "data": {
      "text/plain": [
       "(95, 24)"
      ]
     },
     "execution_count": 198,
     "metadata": {
      "tags": []
     },
     "output_type": "execute_result"
    }
   ],
   "source": [
    "df_noNaN.shape"
   ]
  },
  {
   "cell_type": "code",
   "execution_count": 199,
   "metadata": {
    "colab": {
     "base_uri": "https://localhost:8080/"
    },
    "id": "o_Sl09elfyIU",
    "outputId": "a3c9e16b-3e0a-4d39-8e9d-44fd91d40a3f"
   },
   "outputs": [
    {
     "data": {
      "text/plain": [
       "Age_Cat                                     int64\n",
       "Gender_1male                              float64\n",
       "Degree_Cat                                float64\n",
       "Farm_size_Cat                             float64\n",
       "Income_Cat                                float64\n",
       "Legislative_requirements                  float64\n",
       "Computer_at_home                            int64\n",
       "Speed_internet_Cat                          int64\n",
       "How_do_you_access_DSS_Cat                 float64\n",
       "Willing_to_try_new_products_Cat           float64\n",
       "Price_important_factor                    float64\n",
       "Importance_of_easy_to_use_1to3            float64\n",
       "Importance_low_price_1to3                 float64\n",
       "Importance_polyvalence_1to3               float64\n",
       "Enjoy_using_new_techs_1to3                float64\n",
       "Appreciate_change_1to3                    float64\n",
       "Need_IT_teaching_Cat                      float64\n",
       "Share_DSS_exp_with_colleague_Cat          float64\n",
       "WTP_for_DSS_Cat                           float64\n",
       "DSS_must_be_tailored_for_your_farm_Cat    float64\n",
       "Manufacturer_demo_of_DSS_Cat              float64\n",
       "Region_central_EU                           uint8\n",
       "Region_north_EU                             uint8\n",
       "Region_south_EU                             uint8\n",
       "dtype: object"
      ]
     },
     "execution_count": 199,
     "metadata": {
      "tags": []
     },
     "output_type": "execute_result"
    }
   ],
   "source": [
    "df_noNaN.dtypes"
   ]
  },
  {
   "cell_type": "code",
   "execution_count": 200,
   "metadata": {
    "colab": {
     "base_uri": "https://localhost:8080/",
     "height": 439
    },
    "id": "ibRDdThYfwgG",
    "outputId": "d4ccfbc2-c068-49c4-cb67-f62b80d4f4bf"
   },
   "outputs": [
    {
     "data": {
      "text/html": [
       "<div>\n",
       "<style scoped>\n",
       "    .dataframe tbody tr th:only-of-type {\n",
       "        vertical-align: middle;\n",
       "    }\n",
       "\n",
       "    .dataframe tbody tr th {\n",
       "        vertical-align: top;\n",
       "    }\n",
       "\n",
       "    .dataframe thead th {\n",
       "        text-align: right;\n",
       "    }\n",
       "</style>\n",
       "<table border=\"1\" class=\"dataframe\">\n",
       "  <thead>\n",
       "    <tr style=\"text-align: right;\">\n",
       "      <th></th>\n",
       "      <th>Age_Cat</th>\n",
       "      <th>Gender_1male</th>\n",
       "      <th>Degree_Cat</th>\n",
       "      <th>Farm_size_Cat</th>\n",
       "      <th>Income_Cat</th>\n",
       "      <th>Legislative_requirements</th>\n",
       "      <th>Computer_at_home</th>\n",
       "      <th>Speed_internet_Cat</th>\n",
       "      <th>How_do_you_access_DSS_Cat</th>\n",
       "      <th>Willing_to_try_new_products_Cat</th>\n",
       "      <th>Price_important_factor</th>\n",
       "      <th>Importance_of_easy_to_use_1to3</th>\n",
       "      <th>Importance_low_price_1to3</th>\n",
       "      <th>Importance_polyvalence_1to3</th>\n",
       "      <th>Enjoy_using_new_techs_1to3</th>\n",
       "      <th>Appreciate_change_1to3</th>\n",
       "      <th>Need_IT_teaching_Cat</th>\n",
       "      <th>Share_DSS_exp_with_colleague_Cat</th>\n",
       "      <th>WTP_for_DSS_Cat</th>\n",
       "      <th>DSS_must_be_tailored_for_your_farm_Cat</th>\n",
       "      <th>Manufacturer_demo_of_DSS_Cat</th>\n",
       "      <th>Region_central_EU</th>\n",
       "      <th>Region_north_EU</th>\n",
       "      <th>Region_south_EU</th>\n",
       "    </tr>\n",
       "  </thead>\n",
       "  <tbody>\n",
       "    <tr>\n",
       "      <th>2</th>\n",
       "      <td>2</td>\n",
       "      <td>1</td>\n",
       "      <td>2</td>\n",
       "      <td>5</td>\n",
       "      <td>2</td>\n",
       "      <td>1</td>\n",
       "      <td>1</td>\n",
       "      <td>2</td>\n",
       "      <td>1</td>\n",
       "      <td>1</td>\n",
       "      <td>1</td>\n",
       "      <td>3</td>\n",
       "      <td>2</td>\n",
       "      <td>3</td>\n",
       "      <td>1</td>\n",
       "      <td>1</td>\n",
       "      <td>2</td>\n",
       "      <td>1</td>\n",
       "      <td>2</td>\n",
       "      <td>2</td>\n",
       "      <td>2</td>\n",
       "      <td>0</td>\n",
       "      <td>0</td>\n",
       "      <td>1</td>\n",
       "    </tr>\n",
       "    <tr>\n",
       "      <th>4</th>\n",
       "      <td>2</td>\n",
       "      <td>1</td>\n",
       "      <td>2</td>\n",
       "      <td>5</td>\n",
       "      <td>5</td>\n",
       "      <td>1</td>\n",
       "      <td>1</td>\n",
       "      <td>2</td>\n",
       "      <td>3</td>\n",
       "      <td>1</td>\n",
       "      <td>1</td>\n",
       "      <td>3</td>\n",
       "      <td>1</td>\n",
       "      <td>2</td>\n",
       "      <td>2</td>\n",
       "      <td>1</td>\n",
       "      <td>2</td>\n",
       "      <td>3</td>\n",
       "      <td>3</td>\n",
       "      <td>2</td>\n",
       "      <td>2</td>\n",
       "      <td>0</td>\n",
       "      <td>0</td>\n",
       "      <td>1</td>\n",
       "    </tr>\n",
       "    <tr>\n",
       "      <th>5</th>\n",
       "      <td>1</td>\n",
       "      <td>1</td>\n",
       "      <td>2</td>\n",
       "      <td>2</td>\n",
       "      <td>1</td>\n",
       "      <td>0</td>\n",
       "      <td>1</td>\n",
       "      <td>3</td>\n",
       "      <td>2</td>\n",
       "      <td>2</td>\n",
       "      <td>1</td>\n",
       "      <td>3</td>\n",
       "      <td>3</td>\n",
       "      <td>3</td>\n",
       "      <td>2</td>\n",
       "      <td>2</td>\n",
       "      <td>1</td>\n",
       "      <td>2</td>\n",
       "      <td>2</td>\n",
       "      <td>3</td>\n",
       "      <td>2</td>\n",
       "      <td>0</td>\n",
       "      <td>0</td>\n",
       "      <td>1</td>\n",
       "    </tr>\n",
       "    <tr>\n",
       "      <th>6</th>\n",
       "      <td>1</td>\n",
       "      <td>1</td>\n",
       "      <td>2</td>\n",
       "      <td>3</td>\n",
       "      <td>1</td>\n",
       "      <td>0</td>\n",
       "      <td>1</td>\n",
       "      <td>2</td>\n",
       "      <td>2</td>\n",
       "      <td>2</td>\n",
       "      <td>1</td>\n",
       "      <td>2</td>\n",
       "      <td>2</td>\n",
       "      <td>2</td>\n",
       "      <td>3</td>\n",
       "      <td>2</td>\n",
       "      <td>2</td>\n",
       "      <td>2</td>\n",
       "      <td>2</td>\n",
       "      <td>1</td>\n",
       "      <td>1</td>\n",
       "      <td>0</td>\n",
       "      <td>0</td>\n",
       "      <td>1</td>\n",
       "    </tr>\n",
       "    <tr>\n",
       "      <th>7</th>\n",
       "      <td>2</td>\n",
       "      <td>1</td>\n",
       "      <td>4</td>\n",
       "      <td>5</td>\n",
       "      <td>2</td>\n",
       "      <td>0</td>\n",
       "      <td>1</td>\n",
       "      <td>3</td>\n",
       "      <td>3</td>\n",
       "      <td>2</td>\n",
       "      <td>1</td>\n",
       "      <td>3</td>\n",
       "      <td>2</td>\n",
       "      <td>1</td>\n",
       "      <td>3</td>\n",
       "      <td>2</td>\n",
       "      <td>2</td>\n",
       "      <td>1</td>\n",
       "      <td>2</td>\n",
       "      <td>2</td>\n",
       "      <td>2</td>\n",
       "      <td>0</td>\n",
       "      <td>0</td>\n",
       "      <td>1</td>\n",
       "    </tr>\n",
       "    <tr>\n",
       "      <th>...</th>\n",
       "      <td>...</td>\n",
       "      <td>...</td>\n",
       "      <td>...</td>\n",
       "      <td>...</td>\n",
       "      <td>...</td>\n",
       "      <td>...</td>\n",
       "      <td>...</td>\n",
       "      <td>...</td>\n",
       "      <td>...</td>\n",
       "      <td>...</td>\n",
       "      <td>...</td>\n",
       "      <td>...</td>\n",
       "      <td>...</td>\n",
       "      <td>...</td>\n",
       "      <td>...</td>\n",
       "      <td>...</td>\n",
       "      <td>...</td>\n",
       "      <td>...</td>\n",
       "      <td>...</td>\n",
       "      <td>...</td>\n",
       "      <td>...</td>\n",
       "      <td>...</td>\n",
       "      <td>...</td>\n",
       "      <td>...</td>\n",
       "    </tr>\n",
       "    <tr>\n",
       "      <th>126</th>\n",
       "      <td>4</td>\n",
       "      <td>1</td>\n",
       "      <td>2</td>\n",
       "      <td>5</td>\n",
       "      <td>2</td>\n",
       "      <td>1</td>\n",
       "      <td>1</td>\n",
       "      <td>1</td>\n",
       "      <td>3</td>\n",
       "      <td>2</td>\n",
       "      <td>1</td>\n",
       "      <td>3</td>\n",
       "      <td>1</td>\n",
       "      <td>2</td>\n",
       "      <td>2</td>\n",
       "      <td>2</td>\n",
       "      <td>2</td>\n",
       "      <td>2</td>\n",
       "      <td>3</td>\n",
       "      <td>3</td>\n",
       "      <td>2</td>\n",
       "      <td>1</td>\n",
       "      <td>0</td>\n",
       "      <td>0</td>\n",
       "    </tr>\n",
       "    <tr>\n",
       "      <th>128</th>\n",
       "      <td>1</td>\n",
       "      <td>1</td>\n",
       "      <td>2</td>\n",
       "      <td>1</td>\n",
       "      <td>1</td>\n",
       "      <td>0</td>\n",
       "      <td>1</td>\n",
       "      <td>2</td>\n",
       "      <td>2</td>\n",
       "      <td>1</td>\n",
       "      <td>1</td>\n",
       "      <td>2</td>\n",
       "      <td>2</td>\n",
       "      <td>2</td>\n",
       "      <td>2</td>\n",
       "      <td>2</td>\n",
       "      <td>2</td>\n",
       "      <td>1</td>\n",
       "      <td>2</td>\n",
       "      <td>2</td>\n",
       "      <td>2</td>\n",
       "      <td>0</td>\n",
       "      <td>0</td>\n",
       "      <td>1</td>\n",
       "    </tr>\n",
       "    <tr>\n",
       "      <th>135</th>\n",
       "      <td>3</td>\n",
       "      <td>1</td>\n",
       "      <td>2</td>\n",
       "      <td>3</td>\n",
       "      <td>3</td>\n",
       "      <td>0</td>\n",
       "      <td>1</td>\n",
       "      <td>2</td>\n",
       "      <td>3</td>\n",
       "      <td>1</td>\n",
       "      <td>1</td>\n",
       "      <td>2</td>\n",
       "      <td>1</td>\n",
       "      <td>2</td>\n",
       "      <td>1</td>\n",
       "      <td>1</td>\n",
       "      <td>2</td>\n",
       "      <td>2</td>\n",
       "      <td>2</td>\n",
       "      <td>1</td>\n",
       "      <td>1</td>\n",
       "      <td>0</td>\n",
       "      <td>0</td>\n",
       "      <td>1</td>\n",
       "    </tr>\n",
       "    <tr>\n",
       "      <th>137</th>\n",
       "      <td>1</td>\n",
       "      <td>1</td>\n",
       "      <td>1</td>\n",
       "      <td>5</td>\n",
       "      <td>4</td>\n",
       "      <td>0</td>\n",
       "      <td>1</td>\n",
       "      <td>3</td>\n",
       "      <td>2</td>\n",
       "      <td>1</td>\n",
       "      <td>0</td>\n",
       "      <td>1</td>\n",
       "      <td>1</td>\n",
       "      <td>2</td>\n",
       "      <td>2</td>\n",
       "      <td>1</td>\n",
       "      <td>2</td>\n",
       "      <td>1</td>\n",
       "      <td>3</td>\n",
       "      <td>2</td>\n",
       "      <td>2</td>\n",
       "      <td>0</td>\n",
       "      <td>0</td>\n",
       "      <td>1</td>\n",
       "    </tr>\n",
       "    <tr>\n",
       "      <th>148</th>\n",
       "      <td>2</td>\n",
       "      <td>1</td>\n",
       "      <td>3</td>\n",
       "      <td>5</td>\n",
       "      <td>2</td>\n",
       "      <td>1</td>\n",
       "      <td>1</td>\n",
       "      <td>2</td>\n",
       "      <td>3</td>\n",
       "      <td>1</td>\n",
       "      <td>1</td>\n",
       "      <td>1</td>\n",
       "      <td>2</td>\n",
       "      <td>3</td>\n",
       "      <td>2</td>\n",
       "      <td>2</td>\n",
       "      <td>2</td>\n",
       "      <td>3</td>\n",
       "      <td>2</td>\n",
       "      <td>2</td>\n",
       "      <td>1</td>\n",
       "      <td>0</td>\n",
       "      <td>0</td>\n",
       "      <td>1</td>\n",
       "    </tr>\n",
       "  </tbody>\n",
       "</table>\n",
       "<p>95 rows × 24 columns</p>\n",
       "</div>"
      ],
      "text/plain": [
       "     Age_Cat  Gender_1male  Degree_Cat  Farm_size_Cat  Income_Cat  \\\n",
       "2          2             1           2              5           2   \n",
       "4          2             1           2              5           5   \n",
       "5          1             1           2              2           1   \n",
       "6          1             1           2              3           1   \n",
       "7          2             1           4              5           2   \n",
       "..       ...           ...         ...            ...         ...   \n",
       "126        4             1           2              5           2   \n",
       "128        1             1           2              1           1   \n",
       "135        3             1           2              3           3   \n",
       "137        1             1           1              5           4   \n",
       "148        2             1           3              5           2   \n",
       "\n",
       "     Legislative_requirements  Computer_at_home  Speed_internet_Cat  \\\n",
       "2                           1                 1                   2   \n",
       "4                           1                 1                   2   \n",
       "5                           0                 1                   3   \n",
       "6                           0                 1                   2   \n",
       "7                           0                 1                   3   \n",
       "..                        ...               ...                 ...   \n",
       "126                         1                 1                   1   \n",
       "128                         0                 1                   2   \n",
       "135                         0                 1                   2   \n",
       "137                         0                 1                   3   \n",
       "148                         1                 1                   2   \n",
       "\n",
       "     How_do_you_access_DSS_Cat  Willing_to_try_new_products_Cat  \\\n",
       "2                            1                                1   \n",
       "4                            3                                1   \n",
       "5                            2                                2   \n",
       "6                            2                                2   \n",
       "7                            3                                2   \n",
       "..                         ...                              ...   \n",
       "126                          3                                2   \n",
       "128                          2                                1   \n",
       "135                          3                                1   \n",
       "137                          2                                1   \n",
       "148                          3                                1   \n",
       "\n",
       "     Price_important_factor  Importance_of_easy_to_use_1to3  \\\n",
       "2                         1                               3   \n",
       "4                         1                               3   \n",
       "5                         1                               3   \n",
       "6                         1                               2   \n",
       "7                         1                               3   \n",
       "..                      ...                             ...   \n",
       "126                       1                               3   \n",
       "128                       1                               2   \n",
       "135                       1                               2   \n",
       "137                       0                               1   \n",
       "148                       1                               1   \n",
       "\n",
       "     Importance_low_price_1to3  Importance_polyvalence_1to3  \\\n",
       "2                            2                            3   \n",
       "4                            1                            2   \n",
       "5                            3                            3   \n",
       "6                            2                            2   \n",
       "7                            2                            1   \n",
       "..                         ...                          ...   \n",
       "126                          1                            2   \n",
       "128                          2                            2   \n",
       "135                          1                            2   \n",
       "137                          1                            2   \n",
       "148                          2                            3   \n",
       "\n",
       "     Enjoy_using_new_techs_1to3  Appreciate_change_1to3  Need_IT_teaching_Cat  \\\n",
       "2                             1                       1                     2   \n",
       "4                             2                       1                     2   \n",
       "5                             2                       2                     1   \n",
       "6                             3                       2                     2   \n",
       "7                             3                       2                     2   \n",
       "..                          ...                     ...                   ...   \n",
       "126                           2                       2                     2   \n",
       "128                           2                       2                     2   \n",
       "135                           1                       1                     2   \n",
       "137                           2                       1                     2   \n",
       "148                           2                       2                     2   \n",
       "\n",
       "     Share_DSS_exp_with_colleague_Cat  WTP_for_DSS_Cat  \\\n",
       "2                                   1                2   \n",
       "4                                   3                3   \n",
       "5                                   2                2   \n",
       "6                                   2                2   \n",
       "7                                   1                2   \n",
       "..                                ...              ...   \n",
       "126                                 2                3   \n",
       "128                                 1                2   \n",
       "135                                 2                2   \n",
       "137                                 1                3   \n",
       "148                                 3                2   \n",
       "\n",
       "     DSS_must_be_tailored_for_your_farm_Cat  Manufacturer_demo_of_DSS_Cat  \\\n",
       "2                                         2                             2   \n",
       "4                                         2                             2   \n",
       "5                                         3                             2   \n",
       "6                                         1                             1   \n",
       "7                                         2                             2   \n",
       "..                                      ...                           ...   \n",
       "126                                       3                             2   \n",
       "128                                       2                             2   \n",
       "135                                       1                             1   \n",
       "137                                       2                             2   \n",
       "148                                       2                             1   \n",
       "\n",
       "     Region_central_EU  Region_north_EU  Region_south_EU  \n",
       "2                    0                0                1  \n",
       "4                    0                0                1  \n",
       "5                    0                0                1  \n",
       "6                    0                0                1  \n",
       "7                    0                0                1  \n",
       "..                 ...              ...              ...  \n",
       "126                  1                0                0  \n",
       "128                  0                0                1  \n",
       "135                  0                0                1  \n",
       "137                  0                0                1  \n",
       "148                  0                0                1  \n",
       "\n",
       "[95 rows x 24 columns]"
      ]
     },
     "execution_count": 200,
     "metadata": {
      "tags": []
     },
     "output_type": "execute_result"
    }
   ],
   "source": [
    "df_noNaN = df_noNaN.astype(\"int64\")\n",
    "df_noNaN"
   ]
  },
  {
   "cell_type": "code",
   "execution_count": 201,
   "metadata": {
    "colab": {
     "base_uri": "https://localhost:8080/"
    },
    "id": "Qf-F8Jbzf_ln",
    "outputId": "ed9e657f-d02f-4b7c-ad41-a93370ba7bde"
   },
   "outputs": [
    {
     "data": {
      "text/plain": [
       "Age_Cat                                   int64\n",
       "Gender_1male                              int64\n",
       "Degree_Cat                                int64\n",
       "Farm_size_Cat                             int64\n",
       "Income_Cat                                int64\n",
       "Legislative_requirements                  int64\n",
       "Computer_at_home                          int64\n",
       "Speed_internet_Cat                        int64\n",
       "How_do_you_access_DSS_Cat                 int64\n",
       "Willing_to_try_new_products_Cat           int64\n",
       "Price_important_factor                    int64\n",
       "Importance_of_easy_to_use_1to3            int64\n",
       "Importance_low_price_1to3                 int64\n",
       "Importance_polyvalence_1to3               int64\n",
       "Enjoy_using_new_techs_1to3                int64\n",
       "Appreciate_change_1to3                    int64\n",
       "Need_IT_teaching_Cat                      int64\n",
       "Share_DSS_exp_with_colleague_Cat          int64\n",
       "WTP_for_DSS_Cat                           int64\n",
       "DSS_must_be_tailored_for_your_farm_Cat    int64\n",
       "Manufacturer_demo_of_DSS_Cat              int64\n",
       "Region_central_EU                         int64\n",
       "Region_north_EU                           int64\n",
       "Region_south_EU                           int64\n",
       "dtype: object"
      ]
     },
     "execution_count": 201,
     "metadata": {
      "tags": []
     },
     "output_type": "execute_result"
    }
   ],
   "source": [
    "df_noNaN.dtypes"
   ]
  },
  {
   "cell_type": "markdown",
   "metadata": {
    "id": "PSEfCZT_l2Ns"
   },
   "source": [
    "### Changing data types to categorical (ordinal) and separating dataframes"
   ]
  },
  {
   "cell_type": "code",
   "execution_count": 202,
   "metadata": {
    "colab": {
     "base_uri": "https://localhost:8080/",
     "height": 137
    },
    "collapsed": true,
    "id": "pQDtZ_EPl2Nt",
    "jupyter": {
     "outputs_hidden": true
    },
    "outputId": "6580006f-e401-4d9b-c15b-5b4c86afc5f1"
   },
   "outputs": [
    {
     "data": {
      "application/vnd.google.colaboratory.intrinsic+json": {
       "type": "string"
      },
      "text/plain": [
       "'\\n# Make CategoricalDtype parameter for ordered features.\\noct = CategoricalDtype(ordered=True) \\n\\n# Make df with all unordered categorical data\\nuo_cat_df = ohe_df.astype(\"category\")\\n\\n# Make final cat_df with unordered and ordered categorical features and two numeric features\\ncat_df = uo_cat_df\\ncat_df[num_feat] = cat_df[num_feat].astype(\"float64\")\\n\\n# {name: oct for name in ord_feat}\\ncat_df = cat_df.astype({\"Age_Cat\":oct, \"Degree_Cat\":oct, \"Farm_size_Cat\":oct, \"Income_Cat\":oct, \"Production_level_1to3\":oct, \"Agricultural_app_use_Cat\":oct,\\n                       \"Speed_internet_Cat\":oct, \"How_do_you_access_DSS_Cat\":oct, \"Importance_of_easy_to_use_1to3\":oct, \"Importance_of_efficient_1to3\":oct, \\n                        \"Importance_low_price_1to3\":oct, \"Importance_polyvalence_1to3\":oct, \"Enjoy_using_new_techs_1to3\":oct, \"Appreciate_change_1to3\":oct, \\n                        \"Trust_in_DSS_1to3\": oct, \"Trust_in_colleague_advice_1to3\":oct, \"Trust_advice_friend_1to3\":oct, \"Need_IT_teaching_Cat\":oct,\\n                        \"DSS_must_be_tailored_for_your_farm_Cat\":oct, \"Marketing_info_about_DSS_Cat\":oct\\n                       })\\n'"
      ]
     },
     "execution_count": 202,
     "metadata": {
      "tags": []
     },
     "output_type": "execute_result"
    }
   ],
   "source": [
    "\"\"\"\n",
    "# Make CategoricalDtype parameter for ordered features.\n",
    "oct = CategoricalDtype(ordered=True) \n",
    "\n",
    "# Make df with all unordered categorical data\n",
    "uo_cat_df = ohe_df.astype(\"category\")\n",
    "\n",
    "# Make final cat_df with unordered and ordered categorical features and two numeric features\n",
    "cat_df = uo_cat_df\n",
    "cat_df[num_feat] = cat_df[num_feat].astype(\"float64\")\n",
    "\n",
    "# {name: oct for name in ord_feat}\n",
    "cat_df = cat_df.astype({\"Age_Cat\":oct, \"Degree_Cat\":oct, \"Farm_size_Cat\":oct, \"Income_Cat\":oct, \"Production_level_1to3\":oct, \"Agricultural_app_use_Cat\":oct,\n",
    "                       \"Speed_internet_Cat\":oct, \"How_do_you_access_DSS_Cat\":oct, \"Importance_of_easy_to_use_1to3\":oct, \"Importance_of_efficient_1to3\":oct, \n",
    "                        \"Importance_low_price_1to3\":oct, \"Importance_polyvalence_1to3\":oct, \"Enjoy_using_new_techs_1to3\":oct, \"Appreciate_change_1to3\":oct, \n",
    "                        \"Trust_in_DSS_1to3\": oct, \"Trust_in_colleague_advice_1to3\":oct, \"Trust_advice_friend_1to3\":oct, \"Need_IT_teaching_Cat\":oct,\n",
    "                        \"DSS_must_be_tailored_for_your_farm_Cat\":oct, \"Marketing_info_about_DSS_Cat\":oct\n",
    "                       })\n",
    "\"\"\""
   ]
  },
  {
   "cell_type": "code",
   "execution_count": 203,
   "metadata": {
    "id": "CR5uQ0DFl2Nt"
   },
   "outputs": [],
   "source": [
    "# # List of ordinal features\n",
    "# ord_feat = [\"Age_Cat\", \"Degree_Cat\", \"Farm_size_Cat\", \"Income_Cat\", \"Production_level_1to3\", \"Agricultural_app_use_Cat\", \"Speed_internet_Cat\", \n",
    "#             \"How_do_you_access_DSS_Cat\", \"Importance_of_easy_to_use_1to3\", \"Importance_of_efficient_1to3\", \"Importance_low_price_1to3\", \n",
    "#             \"Importance_polyvalence_1to3\", \"Enjoy_using_new_techs_1to3\", \"Appreciate_change_1to3\", \"Trust_in_DSS_1to3\", \"Trust_in_colleague_advice_1to3\", \n",
    "#             \"Trust_advice_friend_1to3\", \"Need_IT_teaching_Cat\",\"DSS_can_improve_your_productivity_Cat\", \"Share_DSS_exp_with_colleague_Cat\", \n",
    "#             \"WTP_for_DSS_Cat\", \"DSS_must_be_tailored_for_your_farm_Cat\", \"Marketing_info_about_DSS_Cat\"]\n",
    "\n",
    "# # List of numeric features\n",
    "# num_feat = [\"Years_own_phone\", \"Proportion_of_income\"]\n",
    "\n",
    "# # nom_feat = []"
   ]
  },
  {
   "cell_type": "code",
   "execution_count": 204,
   "metadata": {
    "id": "OKOE6OA3uP5B"
   },
   "outputs": [],
   "source": [
    "# Adapted for Question #2 \"How do you access DSS\"\n",
    "# List of ordinal features\n",
    "old_ord_feat = [\"Age_Cat\", \"Degree_Cat\", \"Farm_size_Cat\", \"Income_Cat\", \"Production_level_1to3\", \"Agricultural_app_use_Cat\", \"Speed_internet_Cat\", \n",
    "            \"How_do_you_access_DSS_Cat\", \"Importance_of_easy_to_use_1to3\", \"Importance_of_efficient_1to3\", \"Importance_low_price_1to3\", \n",
    "            \"Importance_polyvalence_1to3\", \"Enjoy_using_new_techs_1to3\", \"Appreciate_change_1to3\", \"Trust_in_DSS_1to3\", \"Trust_in_colleague_advice_1to3\", \n",
    "            \"Trust_advice_friend_1to3\", \"Need_IT_teaching_Cat\",\"DSS_can_improve_your_productivity_Cat\", \"Share_DSS_exp_with_colleague_Cat\", \n",
    "            \"WTP_for_DSS_Cat\", \"DSS_must_be_tailored_for_your_farm_Cat\", \"Marketing_info_about_DSS_Cat\", \"Manufacturer_demo_of_DSS_Cat\"]\n",
    "\n",
    "ord_feat = [_ for _ in old_ord_feat if _ not in removed_featuresQ2]\n",
    "ord_feat\n",
    "\n",
    "# No numeric features\n",
    "#num_feat = [\"Years_own_phone\", \"Proportion_of_income\"]\n",
    "\n",
    "nom_feat = []"
   ]
  },
  {
   "cell_type": "code",
   "execution_count": 205,
   "metadata": {
    "id": "_r0s5KtBl2Nu"
   },
   "outputs": [],
   "source": [
    "# df with ordinal and numeric featureas only\n",
    "#ordnum_df = pd.concat([df_noNaN[ord_feat], df_noNaN[num_feat]], axis=1).copy()\n",
    "ordnum_df = df_noNaN[ord_feat]\n",
    "\n",
    "# Extract column names\n",
    "all_col_names = list(df_noNaN.columns)\n",
    "ordnum_col_names = list(ordnum_df.columns)\n",
    "nom_col_names = [_ for _ in all_col_names if _ not in ordnum_col_names]\n",
    "\n",
    "# List of nominal features\n",
    "nom_feat = nom_col_names.copy()\n",
    "\n",
    "# df with nominal features only (all but two (\"Crop_Group_Cat\" and \"Willing_to_try_new_products_Cat\") are binary)\n",
    "# binarizarja ta dva\n",
    "nom_df = df_noNaN[nom_col_names]"
   ]
  },
  {
   "cell_type": "code",
   "execution_count": 206,
   "metadata": {
    "colab": {
     "base_uri": "https://localhost:8080/",
     "height": 439
    },
    "id": "W9FvpT59kSK_",
    "outputId": "27de91b2-9f7a-4c3e-eea9-559973a67304"
   },
   "outputs": [
    {
     "data": {
      "text/html": [
       "<div>\n",
       "<style scoped>\n",
       "    .dataframe tbody tr th:only-of-type {\n",
       "        vertical-align: middle;\n",
       "    }\n",
       "\n",
       "    .dataframe tbody tr th {\n",
       "        vertical-align: top;\n",
       "    }\n",
       "\n",
       "    .dataframe thead th {\n",
       "        text-align: right;\n",
       "    }\n",
       "</style>\n",
       "<table border=\"1\" class=\"dataframe\">\n",
       "  <thead>\n",
       "    <tr style=\"text-align: right;\">\n",
       "      <th></th>\n",
       "      <th>Age_Cat</th>\n",
       "      <th>Degree_Cat</th>\n",
       "      <th>Farm_size_Cat</th>\n",
       "      <th>Income_Cat</th>\n",
       "      <th>Speed_internet_Cat</th>\n",
       "      <th>How_do_you_access_DSS_Cat</th>\n",
       "      <th>Importance_of_easy_to_use_1to3</th>\n",
       "      <th>Importance_low_price_1to3</th>\n",
       "      <th>Importance_polyvalence_1to3</th>\n",
       "      <th>Enjoy_using_new_techs_1to3</th>\n",
       "      <th>Appreciate_change_1to3</th>\n",
       "      <th>Need_IT_teaching_Cat</th>\n",
       "      <th>Share_DSS_exp_with_colleague_Cat</th>\n",
       "      <th>WTP_for_DSS_Cat</th>\n",
       "      <th>DSS_must_be_tailored_for_your_farm_Cat</th>\n",
       "      <th>Manufacturer_demo_of_DSS_Cat</th>\n",
       "    </tr>\n",
       "  </thead>\n",
       "  <tbody>\n",
       "    <tr>\n",
       "      <th>2</th>\n",
       "      <td>2</td>\n",
       "      <td>2</td>\n",
       "      <td>5</td>\n",
       "      <td>2</td>\n",
       "      <td>2</td>\n",
       "      <td>1</td>\n",
       "      <td>3</td>\n",
       "      <td>2</td>\n",
       "      <td>3</td>\n",
       "      <td>1</td>\n",
       "      <td>1</td>\n",
       "      <td>2</td>\n",
       "      <td>1</td>\n",
       "      <td>2</td>\n",
       "      <td>2</td>\n",
       "      <td>2</td>\n",
       "    </tr>\n",
       "    <tr>\n",
       "      <th>4</th>\n",
       "      <td>2</td>\n",
       "      <td>2</td>\n",
       "      <td>5</td>\n",
       "      <td>5</td>\n",
       "      <td>2</td>\n",
       "      <td>3</td>\n",
       "      <td>3</td>\n",
       "      <td>1</td>\n",
       "      <td>2</td>\n",
       "      <td>2</td>\n",
       "      <td>1</td>\n",
       "      <td>2</td>\n",
       "      <td>3</td>\n",
       "      <td>3</td>\n",
       "      <td>2</td>\n",
       "      <td>2</td>\n",
       "    </tr>\n",
       "    <tr>\n",
       "      <th>5</th>\n",
       "      <td>1</td>\n",
       "      <td>2</td>\n",
       "      <td>2</td>\n",
       "      <td>1</td>\n",
       "      <td>3</td>\n",
       "      <td>2</td>\n",
       "      <td>3</td>\n",
       "      <td>3</td>\n",
       "      <td>3</td>\n",
       "      <td>2</td>\n",
       "      <td>2</td>\n",
       "      <td>1</td>\n",
       "      <td>2</td>\n",
       "      <td>2</td>\n",
       "      <td>3</td>\n",
       "      <td>2</td>\n",
       "    </tr>\n",
       "    <tr>\n",
       "      <th>6</th>\n",
       "      <td>1</td>\n",
       "      <td>2</td>\n",
       "      <td>3</td>\n",
       "      <td>1</td>\n",
       "      <td>2</td>\n",
       "      <td>2</td>\n",
       "      <td>2</td>\n",
       "      <td>2</td>\n",
       "      <td>2</td>\n",
       "      <td>3</td>\n",
       "      <td>2</td>\n",
       "      <td>2</td>\n",
       "      <td>2</td>\n",
       "      <td>2</td>\n",
       "      <td>1</td>\n",
       "      <td>1</td>\n",
       "    </tr>\n",
       "    <tr>\n",
       "      <th>7</th>\n",
       "      <td>2</td>\n",
       "      <td>4</td>\n",
       "      <td>5</td>\n",
       "      <td>2</td>\n",
       "      <td>3</td>\n",
       "      <td>3</td>\n",
       "      <td>3</td>\n",
       "      <td>2</td>\n",
       "      <td>1</td>\n",
       "      <td>3</td>\n",
       "      <td>2</td>\n",
       "      <td>2</td>\n",
       "      <td>1</td>\n",
       "      <td>2</td>\n",
       "      <td>2</td>\n",
       "      <td>2</td>\n",
       "    </tr>\n",
       "    <tr>\n",
       "      <th>...</th>\n",
       "      <td>...</td>\n",
       "      <td>...</td>\n",
       "      <td>...</td>\n",
       "      <td>...</td>\n",
       "      <td>...</td>\n",
       "      <td>...</td>\n",
       "      <td>...</td>\n",
       "      <td>...</td>\n",
       "      <td>...</td>\n",
       "      <td>...</td>\n",
       "      <td>...</td>\n",
       "      <td>...</td>\n",
       "      <td>...</td>\n",
       "      <td>...</td>\n",
       "      <td>...</td>\n",
       "      <td>...</td>\n",
       "    </tr>\n",
       "    <tr>\n",
       "      <th>126</th>\n",
       "      <td>4</td>\n",
       "      <td>2</td>\n",
       "      <td>5</td>\n",
       "      <td>2</td>\n",
       "      <td>1</td>\n",
       "      <td>3</td>\n",
       "      <td>3</td>\n",
       "      <td>1</td>\n",
       "      <td>2</td>\n",
       "      <td>2</td>\n",
       "      <td>2</td>\n",
       "      <td>2</td>\n",
       "      <td>2</td>\n",
       "      <td>3</td>\n",
       "      <td>3</td>\n",
       "      <td>2</td>\n",
       "    </tr>\n",
       "    <tr>\n",
       "      <th>128</th>\n",
       "      <td>1</td>\n",
       "      <td>2</td>\n",
       "      <td>1</td>\n",
       "      <td>1</td>\n",
       "      <td>2</td>\n",
       "      <td>2</td>\n",
       "      <td>2</td>\n",
       "      <td>2</td>\n",
       "      <td>2</td>\n",
       "      <td>2</td>\n",
       "      <td>2</td>\n",
       "      <td>2</td>\n",
       "      <td>1</td>\n",
       "      <td>2</td>\n",
       "      <td>2</td>\n",
       "      <td>2</td>\n",
       "    </tr>\n",
       "    <tr>\n",
       "      <th>135</th>\n",
       "      <td>3</td>\n",
       "      <td>2</td>\n",
       "      <td>3</td>\n",
       "      <td>3</td>\n",
       "      <td>2</td>\n",
       "      <td>3</td>\n",
       "      <td>2</td>\n",
       "      <td>1</td>\n",
       "      <td>2</td>\n",
       "      <td>1</td>\n",
       "      <td>1</td>\n",
       "      <td>2</td>\n",
       "      <td>2</td>\n",
       "      <td>2</td>\n",
       "      <td>1</td>\n",
       "      <td>1</td>\n",
       "    </tr>\n",
       "    <tr>\n",
       "      <th>137</th>\n",
       "      <td>1</td>\n",
       "      <td>1</td>\n",
       "      <td>5</td>\n",
       "      <td>4</td>\n",
       "      <td>3</td>\n",
       "      <td>2</td>\n",
       "      <td>1</td>\n",
       "      <td>1</td>\n",
       "      <td>2</td>\n",
       "      <td>2</td>\n",
       "      <td>1</td>\n",
       "      <td>2</td>\n",
       "      <td>1</td>\n",
       "      <td>3</td>\n",
       "      <td>2</td>\n",
       "      <td>2</td>\n",
       "    </tr>\n",
       "    <tr>\n",
       "      <th>148</th>\n",
       "      <td>2</td>\n",
       "      <td>3</td>\n",
       "      <td>5</td>\n",
       "      <td>2</td>\n",
       "      <td>2</td>\n",
       "      <td>3</td>\n",
       "      <td>1</td>\n",
       "      <td>2</td>\n",
       "      <td>3</td>\n",
       "      <td>2</td>\n",
       "      <td>2</td>\n",
       "      <td>2</td>\n",
       "      <td>3</td>\n",
       "      <td>2</td>\n",
       "      <td>2</td>\n",
       "      <td>1</td>\n",
       "    </tr>\n",
       "  </tbody>\n",
       "</table>\n",
       "<p>95 rows × 16 columns</p>\n",
       "</div>"
      ],
      "text/plain": [
       "     Age_Cat  Degree_Cat  Farm_size_Cat  Income_Cat  Speed_internet_Cat  \\\n",
       "2          2           2              5           2                   2   \n",
       "4          2           2              5           5                   2   \n",
       "5          1           2              2           1                   3   \n",
       "6          1           2              3           1                   2   \n",
       "7          2           4              5           2                   3   \n",
       "..       ...         ...            ...         ...                 ...   \n",
       "126        4           2              5           2                   1   \n",
       "128        1           2              1           1                   2   \n",
       "135        3           2              3           3                   2   \n",
       "137        1           1              5           4                   3   \n",
       "148        2           3              5           2                   2   \n",
       "\n",
       "     How_do_you_access_DSS_Cat  Importance_of_easy_to_use_1to3  \\\n",
       "2                            1                               3   \n",
       "4                            3                               3   \n",
       "5                            2                               3   \n",
       "6                            2                               2   \n",
       "7                            3                               3   \n",
       "..                         ...                             ...   \n",
       "126                          3                               3   \n",
       "128                          2                               2   \n",
       "135                          3                               2   \n",
       "137                          2                               1   \n",
       "148                          3                               1   \n",
       "\n",
       "     Importance_low_price_1to3  Importance_polyvalence_1to3  \\\n",
       "2                            2                            3   \n",
       "4                            1                            2   \n",
       "5                            3                            3   \n",
       "6                            2                            2   \n",
       "7                            2                            1   \n",
       "..                         ...                          ...   \n",
       "126                          1                            2   \n",
       "128                          2                            2   \n",
       "135                          1                            2   \n",
       "137                          1                            2   \n",
       "148                          2                            3   \n",
       "\n",
       "     Enjoy_using_new_techs_1to3  Appreciate_change_1to3  Need_IT_teaching_Cat  \\\n",
       "2                             1                       1                     2   \n",
       "4                             2                       1                     2   \n",
       "5                             2                       2                     1   \n",
       "6                             3                       2                     2   \n",
       "7                             3                       2                     2   \n",
       "..                          ...                     ...                   ...   \n",
       "126                           2                       2                     2   \n",
       "128                           2                       2                     2   \n",
       "135                           1                       1                     2   \n",
       "137                           2                       1                     2   \n",
       "148                           2                       2                     2   \n",
       "\n",
       "     Share_DSS_exp_with_colleague_Cat  WTP_for_DSS_Cat  \\\n",
       "2                                   1                2   \n",
       "4                                   3                3   \n",
       "5                                   2                2   \n",
       "6                                   2                2   \n",
       "7                                   1                2   \n",
       "..                                ...              ...   \n",
       "126                                 2                3   \n",
       "128                                 1                2   \n",
       "135                                 2                2   \n",
       "137                                 1                3   \n",
       "148                                 3                2   \n",
       "\n",
       "     DSS_must_be_tailored_for_your_farm_Cat  Manufacturer_demo_of_DSS_Cat  \n",
       "2                                         2                             2  \n",
       "4                                         2                             2  \n",
       "5                                         3                             2  \n",
       "6                                         1                             1  \n",
       "7                                         2                             2  \n",
       "..                                      ...                           ...  \n",
       "126                                       3                             2  \n",
       "128                                       2                             2  \n",
       "135                                       1                             1  \n",
       "137                                       2                             2  \n",
       "148                                       2                             1  \n",
       "\n",
       "[95 rows x 16 columns]"
      ]
     },
     "execution_count": 206,
     "metadata": {
      "tags": []
     },
     "output_type": "execute_result"
    }
   ],
   "source": [
    "ordnum_df"
   ]
  },
  {
   "cell_type": "code",
   "execution_count": 207,
   "metadata": {
    "colab": {
     "base_uri": "https://localhost:8080/",
     "height": 439
    },
    "id": "bETnewoDkNkx",
    "outputId": "385fa31f-27ea-4e90-d398-ca73b68636ae"
   },
   "outputs": [
    {
     "data": {
      "text/html": [
       "<div>\n",
       "<style scoped>\n",
       "    .dataframe tbody tr th:only-of-type {\n",
       "        vertical-align: middle;\n",
       "    }\n",
       "\n",
       "    .dataframe tbody tr th {\n",
       "        vertical-align: top;\n",
       "    }\n",
       "\n",
       "    .dataframe thead th {\n",
       "        text-align: right;\n",
       "    }\n",
       "</style>\n",
       "<table border=\"1\" class=\"dataframe\">\n",
       "  <thead>\n",
       "    <tr style=\"text-align: right;\">\n",
       "      <th></th>\n",
       "      <th>Gender_1male</th>\n",
       "      <th>Legislative_requirements</th>\n",
       "      <th>Computer_at_home</th>\n",
       "      <th>Willing_to_try_new_products_Cat</th>\n",
       "      <th>Price_important_factor</th>\n",
       "      <th>Region_central_EU</th>\n",
       "      <th>Region_north_EU</th>\n",
       "      <th>Region_south_EU</th>\n",
       "    </tr>\n",
       "  </thead>\n",
       "  <tbody>\n",
       "    <tr>\n",
       "      <th>2</th>\n",
       "      <td>1</td>\n",
       "      <td>1</td>\n",
       "      <td>1</td>\n",
       "      <td>1</td>\n",
       "      <td>1</td>\n",
       "      <td>0</td>\n",
       "      <td>0</td>\n",
       "      <td>1</td>\n",
       "    </tr>\n",
       "    <tr>\n",
       "      <th>4</th>\n",
       "      <td>1</td>\n",
       "      <td>1</td>\n",
       "      <td>1</td>\n",
       "      <td>1</td>\n",
       "      <td>1</td>\n",
       "      <td>0</td>\n",
       "      <td>0</td>\n",
       "      <td>1</td>\n",
       "    </tr>\n",
       "    <tr>\n",
       "      <th>5</th>\n",
       "      <td>1</td>\n",
       "      <td>0</td>\n",
       "      <td>1</td>\n",
       "      <td>2</td>\n",
       "      <td>1</td>\n",
       "      <td>0</td>\n",
       "      <td>0</td>\n",
       "      <td>1</td>\n",
       "    </tr>\n",
       "    <tr>\n",
       "      <th>6</th>\n",
       "      <td>1</td>\n",
       "      <td>0</td>\n",
       "      <td>1</td>\n",
       "      <td>2</td>\n",
       "      <td>1</td>\n",
       "      <td>0</td>\n",
       "      <td>0</td>\n",
       "      <td>1</td>\n",
       "    </tr>\n",
       "    <tr>\n",
       "      <th>7</th>\n",
       "      <td>1</td>\n",
       "      <td>0</td>\n",
       "      <td>1</td>\n",
       "      <td>2</td>\n",
       "      <td>1</td>\n",
       "      <td>0</td>\n",
       "      <td>0</td>\n",
       "      <td>1</td>\n",
       "    </tr>\n",
       "    <tr>\n",
       "      <th>...</th>\n",
       "      <td>...</td>\n",
       "      <td>...</td>\n",
       "      <td>...</td>\n",
       "      <td>...</td>\n",
       "      <td>...</td>\n",
       "      <td>...</td>\n",
       "      <td>...</td>\n",
       "      <td>...</td>\n",
       "    </tr>\n",
       "    <tr>\n",
       "      <th>126</th>\n",
       "      <td>1</td>\n",
       "      <td>1</td>\n",
       "      <td>1</td>\n",
       "      <td>2</td>\n",
       "      <td>1</td>\n",
       "      <td>1</td>\n",
       "      <td>0</td>\n",
       "      <td>0</td>\n",
       "    </tr>\n",
       "    <tr>\n",
       "      <th>128</th>\n",
       "      <td>1</td>\n",
       "      <td>0</td>\n",
       "      <td>1</td>\n",
       "      <td>1</td>\n",
       "      <td>1</td>\n",
       "      <td>0</td>\n",
       "      <td>0</td>\n",
       "      <td>1</td>\n",
       "    </tr>\n",
       "    <tr>\n",
       "      <th>135</th>\n",
       "      <td>1</td>\n",
       "      <td>0</td>\n",
       "      <td>1</td>\n",
       "      <td>1</td>\n",
       "      <td>1</td>\n",
       "      <td>0</td>\n",
       "      <td>0</td>\n",
       "      <td>1</td>\n",
       "    </tr>\n",
       "    <tr>\n",
       "      <th>137</th>\n",
       "      <td>1</td>\n",
       "      <td>0</td>\n",
       "      <td>1</td>\n",
       "      <td>1</td>\n",
       "      <td>0</td>\n",
       "      <td>0</td>\n",
       "      <td>0</td>\n",
       "      <td>1</td>\n",
       "    </tr>\n",
       "    <tr>\n",
       "      <th>148</th>\n",
       "      <td>1</td>\n",
       "      <td>1</td>\n",
       "      <td>1</td>\n",
       "      <td>1</td>\n",
       "      <td>1</td>\n",
       "      <td>0</td>\n",
       "      <td>0</td>\n",
       "      <td>1</td>\n",
       "    </tr>\n",
       "  </tbody>\n",
       "</table>\n",
       "<p>95 rows × 8 columns</p>\n",
       "</div>"
      ],
      "text/plain": [
       "     Gender_1male  Legislative_requirements  Computer_at_home  \\\n",
       "2               1                         1                 1   \n",
       "4               1                         1                 1   \n",
       "5               1                         0                 1   \n",
       "6               1                         0                 1   \n",
       "7               1                         0                 1   \n",
       "..            ...                       ...               ...   \n",
       "126             1                         1                 1   \n",
       "128             1                         0                 1   \n",
       "135             1                         0                 1   \n",
       "137             1                         0                 1   \n",
       "148             1                         1                 1   \n",
       "\n",
       "     Willing_to_try_new_products_Cat  Price_important_factor  \\\n",
       "2                                  1                       1   \n",
       "4                                  1                       1   \n",
       "5                                  2                       1   \n",
       "6                                  2                       1   \n",
       "7                                  2                       1   \n",
       "..                               ...                     ...   \n",
       "126                                2                       1   \n",
       "128                                1                       1   \n",
       "135                                1                       1   \n",
       "137                                1                       0   \n",
       "148                                1                       1   \n",
       "\n",
       "     Region_central_EU  Region_north_EU  Region_south_EU  \n",
       "2                    0                0                1  \n",
       "4                    0                0                1  \n",
       "5                    0                0                1  \n",
       "6                    0                0                1  \n",
       "7                    0                0                1  \n",
       "..                 ...              ...              ...  \n",
       "126                  1                0                0  \n",
       "128                  0                0                1  \n",
       "135                  0                0                1  \n",
       "137                  0                0                1  \n",
       "148                  0                0                1  \n",
       "\n",
       "[95 rows x 8 columns]"
      ]
     },
     "execution_count": 207,
     "metadata": {
      "tags": []
     },
     "output_type": "execute_result"
    }
   ],
   "source": [
    "nom_df"
   ]
  },
  {
   "cell_type": "markdown",
   "metadata": {
    "id": "s0YJRtEPvdzU"
   },
   "source": [
    "# Dimensionality reduction"
   ]
  },
  {
   "cell_type": "markdown",
   "metadata": {
    "id": "ZqAja1cXl2Nv"
   },
   "source": [
    "### Ordinal and numeric features"
   ]
  },
  {
   "cell_type": "code",
   "execution_count": 243,
   "metadata": {
    "colab": {
     "base_uri": "https://localhost:8080/",
     "height": 464
    },
    "id": "V1svODxIWrh3",
    "outputId": "66a09702-3846-4b41-c314-28bb54b019f8"
   },
   "outputs": [
    {
     "data": {
      "text/plain": [
       "Text(0.5, 1.0, 'UMAP projection of ordinal IPM farmers data')"
      ]
     },
     "execution_count": 243,
     "metadata": {
      "tags": []
     },
     "output_type": "execute_result"
    },
    {
     "data": {
      "image/png": "[encoded data removed]",
      "text/plain": [
       "<Figure size 504x504 with 1 Axes>"
      ]
     },
     "metadata": {
      "tags": []
     },
     "output_type": "display_data"
    }
   ],
   "source": [
    "# Standardisation\n",
    "scaled_array = StandardScaler().fit_transform(ordnum_df)\n",
    "scaled_df = pd.DataFrame(scaled_array, columns=ordnum_df.columns)\n",
    "\n",
    "# Mapping\n",
    "reducer = umap.UMAP(n_neighbors=4, min_dist=0.1, n_components=2, metric=\"euclidean\", random_state=123)\n",
    "ord_embedding = reducer.fit_transform(scaled_df)\n",
    "\n",
    "sns.set(style='white', context='notebook', rc={'figure.figsize':(14,10)})\n",
    "fig, ax = plt.subplots(figsize=(7,7))\n",
    "xs = ord_embedding[:, 0]\n",
    "ys = ord_embedding[:, 1] \n",
    "\n",
    "ax.scatter(xs, ys, c=[sns.color_palette()[int(x)] for x in ordnum_df['How_do_you_access_DSS_Cat']])\n",
    "\n",
    "for i, val in enumerate(df_noNaN[\"Income_Cat\"].values.tolist()):\n",
    "    ax.annotate(str(int(val)), (xs[i], ys[i]), fontsize=9)\n",
    "plt.title('UMAP projection of ordinal IPM farmers data')"
   ]
  },
  {
   "cell_type": "markdown",
   "metadata": {
    "id": "ckHl71Acl2Nv"
   },
   "source": [
    "### Nominal features"
   ]
  },
  {
   "cell_type": "code",
   "execution_count": 254,
   "metadata": {
    "colab": {
     "base_uri": "https://localhost:8080/",
     "height": 532
    },
    "id": "nzzM68bcl2Nv",
    "outputId": "c8892731-ce6e-4069-af5b-2f5e15ebc76f"
   },
   "outputs": [
    {
     "name": "stderr",
     "output_type": "stream",
     "text": [
      "/usr/local/lib/python3.7/dist-packages/umap/umap_.py:1762: UserWarning:\n",
      "\n",
      "gradient function is not yet implemented for dice distance metric; inverse_transform will be unavailable\n",
      "\n"
     ]
    },
    {
     "data": {
      "text/plain": [
       "Text(0.5, 1.0, 'UMAP projection of nominal IPM farmers data')"
      ]
     },
     "execution_count": 254,
     "metadata": {
      "tags": []
     },
     "output_type": "execute_result"
    },
    {
     "data": {
      "image/png": "[encoded data removed]",
      "text/plain": [
       "<Figure size 504x504 with 1 Axes>"
      ]
     },
     "metadata": {
      "tags": []
     },
     "output_type": "display_data"
    }
   ],
   "source": [
    "# scaled_array = StandardScaler().fit_transform(nom_df)\n",
    "# scaled_df = pd.DataFrame(scaled_array, columns=nom_df.columns)\n",
    "\n",
    "reducer = umap.UMAP(n_neighbors=10, min_dist=0.1, n_components=2, metric=\"dice\", random_state=123)\n",
    "nom_embedding = reducer.fit_transform(nom_df)\n",
    "\n",
    "fig, ax = plt.subplots(figsize=(7,7))\n",
    "xs = nom_embedding[:, 0]\n",
    "ys = nom_embedding[:, 1] \n",
    "\n",
    "ax.scatter(xs, ys, c=[sns.color_palette()[int(x)] for x in nom_df['Willing_to_try_new_products_Cat']])\n",
    "\n",
    "for i, val in enumerate(nom_df['Region_north_EU'].values.tolist()):\n",
    "    ax.annotate(str(int(val)), (xs[i], ys[i]), fontsize=9)\n",
    "plt.title('UMAP projection of nominal IPM farmers data')\n",
    "\n",
    "# naredi for loop da odstranjaš posamično atribute"
   ]
  },
  {
   "cell_type": "code",
   "execution_count": null,
   "metadata": {
    "id": "rOODAI9HQc63"
   },
   "outputs": [],
   "source": []
  },
  {
   "cell_type": "code",
   "execution_count": 292,
   "metadata": {
    "colab": {
     "base_uri": "https://localhost:8080/",
     "height": 464
    },
    "id": "VPNILJFnNbRB",
    "outputId": "7745b8bf-6578-4ee2-c689-f22d107bfd83"
   },
   "outputs": [
    {
     "data": {
      "text/plain": [
       "Text(0.5, 1.0, 'PCA projection of nominal IPM farmers data')"
      ]
     },
     "execution_count": 292,
     "metadata": {
      "tags": []
     },
     "output_type": "execute_result"
    },
    {
     "data": {
      "image/png": "[encoded data removed]",
      "text/plain": [
       "<Figure size 504x504 with 1 Axes>"
      ]
     },
     "metadata": {
      "tags": []
     },
     "output_type": "display_data"
    }
   ],
   "source": [
    "# PCA projection nominal df\n",
    "from sklearn.decomposition import PCA\n",
    "X = nom_df\n",
    "pca = PCA(n_components=2)\n",
    "pca.fit(X)\n",
    "pca_embedding = pca.transform(X)\n",
    "\n",
    "fig, ax = plt.subplots(figsize=(7,7))\n",
    "xs = pca_embedding[:, 0]\n",
    "ys = pca_embedding[:, 1] \n",
    "\n",
    "ax.scatter(xs, ys, c=[sns.color_palette()[int(x)] for x in nom_df['Willing_to_try_new_products_Cat']])\n",
    "\n",
    "for i, val in enumerate(nom_df['Region_south_EU'].values.tolist()):\n",
    "    ax.annotate(str(int(val)), (xs[i], ys[i]), fontsize=9)\n",
    "plt.title('PCA projection of nominal IPM farmers data')"
   ]
  },
  {
   "cell_type": "code",
   "execution_count": 295,
   "metadata": {
    "colab": {
     "base_uri": "https://localhost:8080/",
     "height": 464
    },
    "id": "co1DIWcxTUov",
    "outputId": "bc362245-dc06-4981-916d-fc2e0937ebd5"
   },
   "outputs": [
    {
     "data": {
      "text/plain": [
       "Text(0.5, 1.0, 'PCA projection of nominal IPM farmers data')"
      ]
     },
     "execution_count": 295,
     "metadata": {
      "tags": []
     },
     "output_type": "execute_result"
    },
    {
     "data": {
      "image/png": "[encoded data removed]",
      "text/plain": [
       "<Figure size 504x504 with 1 Axes>"
      ]
     },
     "metadata": {
      "tags": []
     },
     "output_type": "display_data"
    }
   ],
   "source": [
    "# t-SNE projection nominal df\n",
    "from sklearn.manifold import TSNE\n",
    "X = nom_df\n",
    "tsne_embedding = TSNE(n_components=2).fit_transform(X)\n",
    "\n",
    "fig, ax = plt.subplots(figsize=(7,7))\n",
    "xs = tsne_embedding[:, 0]\n",
    "ys = tsne_embedding[:, 1] \n",
    "\n",
    "ax.scatter(xs, ys, c=[sns.color_palette()[int(x)] for x in nom_df['Willing_to_try_new_products_Cat']])\n",
    "\n",
    "for i, val in enumerate(nom_df['Region_south_EU'].values.tolist()):\n",
    "    ax.annotate(str(int(val)), (xs[i], ys[i]), fontsize=9)\n",
    "plt.title('t-SNE projection of nominal IPM farmers data')"
   ]
  },
  {
   "cell_type": "markdown",
   "metadata": {
    "id": "5xE9G0XHl2Nw"
   },
   "source": [
    "### Combine nominal and ordinal/numeric feature maps"
   ]
  },
  {
   "cell_type": "code",
   "execution_count": 210,
   "metadata": {
    "id": "NvMmOL7Sl2Nw"
   },
   "outputs": [],
   "source": [
    "# combine mappings\n",
    "intersection_embedding = nom_embedding * ord_embedding\n",
    "union_embedding = nom_embedding + ord_embedding"
   ]
  },
  {
   "cell_type": "code",
   "execution_count": 211,
   "metadata": {
    "colab": {
     "base_uri": "https://localhost:8080/",
     "height": 464
    },
    "id": "cv-qnMwYl2Nx",
    "outputId": "0744769d-3fde-4498-8c20-881c2d3751bb"
   },
   "outputs": [
    {
     "data": {
      "text/plain": [
       "Text(0.5, 1.0, 'UMAP projection of IPM farmers intersection data')"
      ]
     },
     "execution_count": 211,
     "metadata": {
      "tags": []
     },
     "output_type": "execute_result"
    },
    {
     "data": {
      "image/png": "[encoded data removed]",
      "text/plain": [
       "<Figure size 504x504 with 1 Axes>"
      ]
     },
     "metadata": {
      "tags": []
     },
     "output_type": "display_data"
    }
   ],
   "source": [
    "# plot intersection 2D embedding\n",
    "fig, ax = plt.subplots(figsize=(7,7))\n",
    "xs = intersection_embedding[:, 0]\n",
    "ys = intersection_embedding[:, 1] \n",
    "\n",
    "ax.scatter(xs, ys, c=[sns.color_palette()[int(x)] for x in df_noNaN['How_do_you_access_DSS_Cat']])\n",
    "\n",
    "for i, val in enumerate(df_noNaN['Income_Cat'].values.tolist()):\n",
    "    ax.annotate(str(int(val)), (xs[i], ys[i]), fontsize=9)\n",
    "plt.title('UMAP projection of IPM farmers intersection data')"
   ]
  },
  {
   "cell_type": "code",
   "execution_count": 212,
   "metadata": {
    "colab": {
     "base_uri": "https://localhost:8080/",
     "height": 464
    },
    "id": "-5FJameXl2Nw",
    "outputId": "55687b0c-f93a-4778-ed69-0b1c8e03005f"
   },
   "outputs": [
    {
     "data": {
      "text/plain": [
       "Text(0.5, 1.0, 'UMAP projection of IPM farmers union data')"
      ]
     },
     "execution_count": 212,
     "metadata": {
      "tags": []
     },
     "output_type": "execute_result"
    },
    {
     "data": {
      "image/png": "[encoded data removed]",
      "text/plain": [
       "<Figure size 504x504 with 1 Axes>"
      ]
     },
     "metadata": {
      "tags": []
     },
     "output_type": "display_data"
    }
   ],
   "source": [
    "# plot union 2D embedding\n",
    "fig, ax = plt.subplots(figsize=(7,7))\n",
    "xs = union_embedding[:, 0]\n",
    "ys = union_embedding[:, 1] \n",
    "\n",
    "ax.scatter(xs, ys, c=[sns.color_palette()[int(x)] for x in df_noNaN['How_do_you_access_DSS_Cat']])\n",
    "\n",
    "for i, val in enumerate(df_noNaN['Income_Cat'].values.tolist()):\n",
    "    ax.annotate(str(int(val)), (xs[i], ys[i]), fontsize=9)\n",
    "plt.title('UMAP projection of IPM farmers union data')"
   ]
  },
  {
   "cell_type": "markdown",
   "metadata": {
    "id": "1coJnky8vgQC"
   },
   "source": [
    "# CLUSTERING"
   ]
  },
  {
   "cell_type": "markdown",
   "metadata": {
    "id": "1hDB6MaWSe8g"
   },
   "source": [
    "Probaj clustering brez dim reduction"
   ]
  },
  {
   "cell_type": "code",
   "execution_count": 213,
   "metadata": {
    "colab": {
     "base_uri": "https://localhost:8080/",
     "height": 464
    },
    "id": "RhuVUl9Dl2Nx",
    "outputId": "1dabff4e-6dc9-4ab9-ca4c-423674df1eb5"
   },
   "outputs": [
    {
     "data": {
      "text/plain": [
       "Text(0.5, 1.0, 'K-means clusters of UMAP projection of IPM farmers intersection data')"
      ]
     },
     "execution_count": 213,
     "metadata": {
      "tags": []
     },
     "output_type": "execute_result"
    },
    {
     "data": {
      "image/png": "[encoded data removed]",
      "text/plain": [
       "<Figure size 504x504 with 1 Axes>"
      ]
     },
     "metadata": {
      "tags": []
     },
     "output_type": "display_data"
    }
   ],
   "source": [
    "# k-means clustering 2D intersection emnbedding\n",
    "km_inters_clusters = cluster.KMeans(n_clusters=3).fit_predict(intersection_embedding)\n",
    "\n",
    "# plot\n",
    "fig, ax = plt.subplots(figsize=(7,7))\n",
    "ax.scatter(intersection_embedding[:, 0], intersection_embedding[:, 1], c=km_inters_clusters, s=30, cmap='cool')\n",
    "\n",
    "# Add cluster text\n",
    "for i, val in enumerate(km_inters_clusters.tolist()):\n",
    "    ax.annotate(str(int(val)), (intersection_embedding[:, 0][i], intersection_embedding[:, 1][i]), fontsize=10)\n",
    "plt.title('K-means clusters of UMAP projection of IPM farmers intersection data')"
   ]
  },
  {
   "cell_type": "code",
   "execution_count": 214,
   "metadata": {
    "colab": {
     "base_uri": "https://localhost:8080/",
     "height": 501
    },
    "id": "JyUk7XEpl2Nx",
    "outputId": "ae387a40-cd74-4463-cb69-f783c00cdf85"
   },
   "outputs": [
    {
     "name": "stderr",
     "output_type": "stream",
     "text": [
      "*c* argument looks like a single numeric RGB or RGBA sequence, which should be avoided as value-mapping will have precedence in case its length matches with *x* & *y*.  Please use the *color* keyword-argument or provide a 2-D array with a single row if you intend to specify the same RGB or RGBA value for all points.\n"
     ]
    },
    {
     "data": {
      "text/plain": [
       "Text(0.5, 1.0, 'HDBscan clusters of UMAP projection of IPM farmers intersection data')"
      ]
     },
     "execution_count": 214,
     "metadata": {
      "tags": []
     },
     "output_type": "execute_result"
    },
    {
     "data": {
      "image/png": "[encoded data removed]",
      "text/plain": [
       "<Figure size 504x504 with 1 Axes>"
      ]
     },
     "metadata": {
      "tags": []
     },
     "output_type": "display_data"
    }
   ],
   "source": [
    "# hdbscan clustering 2D intersection emnbedding\n",
    "clusterer = hdbscan.HDBSCAN(min_cluster_size=6, min_samples=2)\n",
    "hdbscan_inters_clusters = clusterer.fit_predict(intersection_embedding)\n",
    "\n",
    "fig, ax = plt.subplots(figsize=(7,7))\n",
    "\n",
    "clustered = (hdbscan_inters_clusters >= 0)\n",
    "ax.scatter(intersection_embedding[~clustered, 0],\n",
    "            intersection_embedding[~clustered, 1],\n",
    "            c=(0.5, 0.5, 0.5),\n",
    "            s=50,\n",
    "            alpha=0.3)\n",
    "\n",
    "ax.scatter(intersection_embedding[clustered, 0],\n",
    "            intersection_embedding[clustered, 1],\n",
    "            c=hdbscan_inters_clusters[clustered],\n",
    "            s=50,\n",
    "            cmap='cool')\n",
    "\n",
    "for i, val in enumerate(hdbscan_inters_clusters):\n",
    "    ax.annotate(str(int(val)), (intersection_embedding[:, 0][i], intersection_embedding[:, 1][i]), fontsize=13)\n",
    "\n",
    "plt.title('HDBscan clusters of UMAP projection of IPM farmers intersection data')"
   ]
  },
  {
   "cell_type": "code",
   "execution_count": 215,
   "metadata": {
    "colab": {
     "base_uri": "https://localhost:8080/",
     "height": 464
    },
    "id": "zGU60byuva5K",
    "outputId": "af12401e-c9d9-4d5f-b2e0-bd9263c2c0c1"
   },
   "outputs": [
    {
     "data": {
      "text/plain": [
       "Text(0.5, 1.0, 'K-means clusters of UMAP projection of IPM farmers union data')"
      ]
     },
     "execution_count": 215,
     "metadata": {
      "tags": []
     },
     "output_type": "execute_result"
    },
    {
     "data": {
      "image/png": "[encoded data removed]",
      "text/plain": [
       "<Figure size 504x504 with 1 Axes>"
      ]
     },
     "metadata": {
      "tags": []
     },
     "output_type": "display_data"
    }
   ],
   "source": [
    "# kmeans clustering 2D union emnbedding\n",
    "km_union_clusters = cluster.KMeans(n_clusters=3).fit_predict(union_embedding)\n",
    "#kmeans_labels\n",
    "\n",
    "fig, ax = plt.subplots(figsize=(7,7))\n",
    "ax.scatter(union_embedding[:, 0], union_embedding[:, 1], c=km_union_clusters, s=30, cmap='cool')\n",
    "\n",
    "# daj clustre (številke) gor v umap\n",
    "for i, val in enumerate(km_union_clusters.tolist()):\n",
    "    ax.annotate(str(int(val)), (union_embedding[:, 0][i], union_embedding[:, 1][i]), fontsize=10)\n",
    "\n",
    "plt.title('K-means clusters of UMAP projection of IPM farmers union data')"
   ]
  },
  {
   "cell_type": "code",
   "execution_count": 216,
   "metadata": {
    "colab": {
     "base_uri": "https://localhost:8080/",
     "height": 501
    },
    "id": "aESi6aQdxYRH",
    "outputId": "f6f9dfe9-d119-4061-82d6-0cda0c049a63"
   },
   "outputs": [
    {
     "name": "stderr",
     "output_type": "stream",
     "text": [
      "*c* argument looks like a single numeric RGB or RGBA sequence, which should be avoided as value-mapping will have precedence in case its length matches with *x* & *y*.  Please use the *color* keyword-argument or provide a 2-D array with a single row if you intend to specify the same RGB or RGBA value for all points.\n"
     ]
    },
    {
     "data": {
      "text/plain": [
       "Text(0.5, 1.0, 'HDBscan clusters of UMAP projection of IPM farmers union data')"
      ]
     },
     "execution_count": 216,
     "metadata": {
      "tags": []
     },
     "output_type": "execute_result"
    },
    {
     "data": {
      "image/png": "[encoded data removed]",
      "text/plain": [
       "<Figure size 504x504 with 1 Axes>"
      ]
     },
     "metadata": {
      "tags": []
     },
     "output_type": "display_data"
    }
   ],
   "source": [
    "# hdbscan clustering 2D union emnbedding\n",
    "clusterer = hdbscan.HDBSCAN(min_cluster_size=5, min_samples=4)\n",
    "hdbscan_union_clusters = clusterer.fit_predict(union_embedding)\n",
    "\n",
    "fig, ax = plt.subplots(figsize=(7,7))\n",
    "\n",
    "clustered = (hdbscan_union_clusters >= 0)\n",
    "ax.scatter(union_embedding[~clustered, 0],\n",
    "            union_embedding[~clustered, 1],\n",
    "            c=(0.5, 0.5, 0.5),\n",
    "            s=50,\n",
    "            alpha=0.3)\n",
    "\n",
    "ax.scatter(union_embedding[clustered, 0],\n",
    "            union_embedding[clustered, 1],\n",
    "            c=hdbscan_union_clusters[clustered],\n",
    "            s=50,\n",
    "            cmap='cool')\n",
    "\n",
    "for i, val in enumerate(hdbscan_union_clusters):\n",
    "    ax.annotate(str(int(val)), (union_embedding[:, 0][i], union_embedding[:, 1][i]), fontsize=13)\n",
    "\n",
    "plt.title('HDBscan clusters of UMAP projection of IPM farmers union data')"
   ]
  },
  {
   "cell_type": "markdown",
   "metadata": {
    "id": "xkt-aK6cl2Ny"
   },
   "source": [
    "## Interactive 3D Visualisation"
   ]
  },
  {
   "cell_type": "code",
   "execution_count": 217,
   "metadata": {
    "colab": {
     "base_uri": "https://localhost:8080/"
    },
    "id": "v58bdpdel2Ny",
    "outputId": "e814d809-cc84-4143-9fde-8a038f1588f0"
   },
   "outputs": [
    {
     "name": "stderr",
     "output_type": "stream",
     "text": [
      "/usr/local/lib/python3.7/dist-packages/umap/umap_.py:1762: UserWarning:\n",
      "\n",
      "gradient function is not yet implemented for dice distance metric; inverse_transform will be unavailable\n",
      "\n"
     ]
    },
    {
     "name": "stdout",
     "output_type": "stream",
     "text": [
      "intersection_clusters : [0 0 0 0 0 0 0 0 0 0 0 0 0 0 0 0 0 0 0 0 0 0 0 0 0 0 1 1 1 1 1 1 1 1 1 2 2\n",
      " 2 2 2 2 2 2 2 1 1 1 1 1 1 1 1 1 1 1 1 1 1 1 1 1 1 2 2 2 0 0 0 0 1 2 2 2 2\n",
      " 2 2 2 2 2 2 2 2 2 2 2 2 2 2 1 1 1 0 0 0 0]\n",
      "union_clusters : [0 0 0 0 0 0 0 0 0 0 0 0 0 0 0 0 0 0 0 0 0 0 0 0 0 0 1 1 1 1 1 1 1 1 1 2 2\n",
      " 2 2 2 2 2 2 2 1 1 1 1 1 1 1 1 1 1 1 1 1 1 1 1 1 1 2 2 2 0 0 0 0 1 2 2 2 2\n",
      " 2 2 2 2 2 2 2 2 2 2 2 2 2 2 1 1 1 0 0 0 0]\n"
     ]
    }
   ],
   "source": [
    "# 3D embedding\n",
    "ord_reducer3d = umap.UMAP(n_neighbors=8, min_dist=0.1, n_components=3, metric=\"euclidean\", random_state=123)\n",
    "ord_embedding3d = ord_reducer3d.fit_transform(ordnum_df)\n",
    "\n",
    "nom_reducer3d = umap.UMAP(n_neighbors=8, min_dist=0.1, n_components=3, metric=\"dice\", random_state=123)\n",
    "nom_embedding3d = nom_reducer3d.fit_transform(nom_df)\n",
    "\n",
    "# combine mappings\n",
    "intersection_embedding3d = nom_embedding3d * ord_embedding3d\n",
    "union_embedding3d = nom_embedding3d + ord_embedding3d\n",
    "\n",
    "# hdbscan\n",
    "intersection_clusters = hdbscan.HDBSCAN(min_samples=15, min_cluster_size=10).fit_predict(intersection_embedding3d)\n",
    "union_clusters = hdbscan.HDBSCAN(min_samples=15, min_cluster_size=10).fit_predict(union_embedding3d)\n",
    "print(\"intersection_clusters :\", intersection_clusters)\n",
    "print(\"union_clusters :\", union_clusters)"
   ]
  },
  {
   "cell_type": "markdown",
   "metadata": {
    "id": "cAv_eErWl2Ny"
   },
   "source": [
    "### Plotly visualisation"
   ]
  },
  {
   "cell_type": "code",
   "execution_count": 218,
   "metadata": {
    "id": "a-6DtV_zl2Nz"
   },
   "outputs": [],
   "source": [
    "# 3D dataframes\n",
    "intersection3d_df = pd.DataFrame(data=intersection_embedding3d, columns=[\"x\", \"y\", \"z\"])\n",
    "intersection3d_df[\"clusters\"] = list(map(str, intersection_clusters))\n",
    "union3d_df = pd.DataFrame(data=union_embedding3d, columns=[\"x\", \"y\", \"z\"])\n",
    "union3d_df[\"clusters\"] = list(map(str, union_clusters))"
   ]
  },
  {
   "cell_type": "code",
   "execution_count": 219,
   "metadata": {
    "colab": {
     "base_uri": "https://localhost:8080/",
     "height": 542
    },
    "id": "45A5Qo3Ql2Nz",
    "outputId": "79aa5f72-fd05-48ea-e529-829135e4b5de"
   },
   "outputs": [
    {
     "data": {
      "text/html": [
       "<html>\n",
       "<head><meta charset=\"utf-8\" /></head>\n",
       "<body>\n",
       "    <div>\n",
       "            <script src=\"https://cdnjs.cloudflare.com/ajax/libs/mathjax/2.7.5/MathJax.js?config=TeX-AMS-MML_SVG\"></script><script type=\"text/javascript\">if (window.MathJax) {MathJax.Hub.Config({SVG: {font: \"STIX-Web\"}});}</script>\n",
       "                <script type=\"text/javascript\">window.PlotlyConfig = {MathJaxConfig: 'local'};</script>\n",
       "        <script src=\"https://cdn.plot.ly/plotly-latest.min.js\"></script>    \n",
       "            <div id=\"dce0b593-b73d-4d58-a41d-0fc60b799240\" class=\"plotly-graph-div\" style=\"height:525px; width:100%;\"></div>\n",
       "            <script type=\"text/javascript\">\n",
       "                \n",
       "                    window.PLOTLYENV=window.PLOTLYENV || {};\n",
       "                    \n",
       "                if (document.getElementById(\"dce0b593-b73d-4d58-a41d-0fc60b799240\")) {\n",
       "                    Plotly.newPlot(\n",
       "                        'dce0b593-b73d-4d58-a41d-0fc60b799240',\n",
       "                        [{\"hoverlabel\": {\"namelength\": 0}, \"hovertemplate\": \"clusters=0<br>x=%{x}<br>y=%{y}<br>z=%{z}<br>text=%{text}\", \"legendgroup\": \"clusters=0\", \"marker\": {\"color\": \"#636efa\", \"opacity\": 0.8, \"symbol\": \"circle\"}, \"mode\": \"markers+text\", \"name\": \"clusters=0\", \"scene\": \"scene\", \"showlegend\": true, \"text\": [1.0, 3.0, 2.0, 2.0, 3.0, 1.0, 1.0, 1.0, 1.0, 3.0, 3.0, 3.0, 1.0, 1.0, 3.0, 3.0, 1.0, 2.0, 3.0, 1.0, 2.0, 3.0, 1.0, 2.0, 3.0, 1.0, 3.0, 3.0, 3.0, 3.0, 2.0, 3.0, 2.0, 3.0], \"type\": \"scatter3d\", \"x\": [217.9109649658203, 227.90611267089844, 186.46775817871094, 191.66567993164062, 221.4249725341797, 220.37750244140625, 221.42698669433594, 255.8452911376953, 220.12945556640625, 196.97361755371094, 229.59193420410156, 229.70437622070312, 208.98504638671875, 203.53662109375, 205.23550415039062, 241.93177795410156, 220.63381958007812, 250.38308715820312, 193.1567840576172, 221.1326446533203, 224.25653076171875, 201.43392944335938, 217.12628173828125, 233.97726440429688, 235.3666534423828, 180.73593139648438, 212.77549743652344, 207.72499084472656, 201.21852111816406, 190.00546264648438, 186.04359436035156, 232.20355224609375, 220.29571533203125, 221.5789337158203], \"y\": [-51.11271667480469, -64.163330078125, -10.58199405670166, -9.86015796661377, -17.959693908691406, -50.06239700317383, -45.31415557861328, -64.5414047241211, -73.51986694335938, -14.808348655700684, -78.78570556640625, -79.3827133178711, -45.97580337524414, -44.24176788330078, -54.21360397338867, -58.90483474731445, -50.2911491394043, -67.38055419921875, -50.37892532348633, -46.918479919433594, -65.25794982910156, -12.592703819274902, -12.216524124145508, -54.16419219970703, -77.96350860595703, -16.705171585083008, -54.84522247314453, -54.23296356201172, -49.41637420654297, -52.21599578857422, -12.796114921569824, -14.84848403930664, -14.680646896362305, -77.74079132080078], \"z\": [14.54549503326416, 9.862289428710938, 39.83457565307617, 34.18757247924805, 46.33277130126953, 12.336307525634766, 10.499932289123535, 12.286490440368652, 16.329301834106445, 41.57387161254883, 11.409197807312012, 10.15015983581543, 12.94769287109375, 12.580755233764648, 11.391495704650879, 17.726152420043945, 10.876899719238281, 13.187116622924805, 15.592366218566895, 11.199355125427246, 9.644129753112793, 39.848106384277344, 32.224945068359375, 15.094802856445312, 12.631131172180176, 44.20400619506836, 18.84330177307129, 19.037792205810547, 22.541833877563477, 18.96371841430664, 37.95832061767578, 38.647247314453125, 27.72848892211914, 17.57052993774414]}, {\"hoverlabel\": {\"namelength\": 0}, \"hovertemplate\": \"clusters=1<br>x=%{x}<br>y=%{y}<br>z=%{z}<br>text=%{text}\", \"legendgroup\": \"clusters=1\", \"marker\": {\"color\": \"#EF553B\", \"opacity\": 0.8, \"symbol\": \"circle\"}, \"mode\": \"markers+text\", \"name\": \"clusters=1\", \"scene\": \"scene\", \"showlegend\": true, \"text\": [3.0, 3.0, 3.0, 2.0, 3.0, 3.0, 3.0, 3.0, 3.0, 3.0, 3.0, 3.0, 2.0, 3.0, 3.0, 1.0, 3.0, 1.0, 3.0, 3.0, 3.0, 3.0, 3.0, 1.0, 1.0, 1.0, 3.0, 2.0, 3.0, 3.0, 3.0], \"type\": \"scatter3d\", \"x\": [29.942903518676758, 35.691200256347656, 22.045862197875977, 26.437602996826172, 30.10597801208496, 23.099824905395508, 26.20369529724121, 26.25870132446289, 14.909069061279297, 27.876197814941406, 20.338890075683594, 12.574089050292969, 20.357786178588867, 19.90765953063965, 21.821216583251953, 14.907697677612305, 13.82311725616455, 19.062543869018555, 30.277742385864258, 26.056045532226562, 26.77335548400879, 28.454267501831055, 34.22083282470703, 30.864158630371094, 27.020557403564453, 27.602615356445312, 29.21061134338379, 23.241535186767578, 19.87445640563965, 31.985422134399414, 26.885028839111328], \"y\": [232.6810760498047, 222.60931396484375, 246.74734497070312, 207.90667724609375, 207.45204162597656, 188.64056396484375, 180.17640686035156, 185.3486785888672, 170.26617431640625, 246.6537322998047, 171.49624633789062, 166.0807647705078, 193.8512420654297, 164.5610809326172, 177.88665771484375, 173.96441650390625, 171.1121368408203, 173.03414916992188, 231.6119842529297, 249.62828063964844, 250.2980499267578, 204.3563690185547, 203.39584350585938, 236.0009002685547, 206.17129516601562, 187.4484100341797, 244.4638214111328, 161.28700256347656, 181.43368530273438, 202.35032653808594, 183.00901794433594], \"z\": [-19.01001739501953, -17.826921463012695, -22.55919647216797, -18.16246223449707, -22.288362503051758, -17.196918487548828, -26.81609535217285, -17.088611602783203, -24.97593879699707, -23.10750389099121, -24.492826461791992, -27.063404083251953, -16.059768676757812, -25.680227279663086, -26.211673736572266, -19.49358558654785, -24.655941009521484, -27.468534469604492, -18.47457504272461, -15.231986045837402, -13.764039039611816, -12.380512237548828, -21.868574142456055, -14.091440200805664, -15.538284301757812, -14.776968002319336, -13.062189102172852, -18.49863624572754, -22.574892044067383, -22.48033332824707, -20.680479049682617]}, {\"hoverlabel\": {\"namelength\": 0}, \"hovertemplate\": \"clusters=2<br>x=%{x}<br>y=%{y}<br>z=%{z}<br>text=%{text}\", \"legendgroup\": \"clusters=2\", \"marker\": {\"color\": \"#00cc96\", \"opacity\": 0.8, \"symbol\": \"circle\"}, \"mode\": \"markers+text\", \"name\": \"clusters=2\", \"scene\": \"scene\", \"showlegend\": true, \"text\": [3.0, 2.0, 3.0, 3.0, 1.0, 3.0, 2.0, 3.0, 3.0, 3.0, 2.0, 3.0, 2.0, 1.0, 3.0, 1.0, 1.0, 2.0, 1.0, 2.0, 3.0, 3.0, 1.0, 3.0, 2.0, 3.0, 3.0, 3.0, 2.0, 3.0], \"type\": \"scatter3d\", \"x\": [-168.56626892089844, -168.03619384765625, -177.29478454589844, -179.2161407470703, -183.8245391845703, -185.54196166992188, -154.67630004882812, -147.2754364013672, -174.82626342773438, -167.8438262939453, -165.47921752929688, -168.75767517089844, -135.64645385742188, -146.81198120117188, -172.7710723876953, -159.69935607910156, -149.407958984375, -135.13934326171875, -134.19921875, -126.83490753173828, -134.9027862548828, -162.59207153320312, -162.4468536376953, -159.72848510742188, -134.43008422851562, -155.12501525878906, -164.0347442626953, -138.3551025390625, -147.79722595214844, -159.7561492919922], \"y\": [50.71244430541992, 47.2222900390625, 44.00498962402344, 57.677677154541016, 48.20123291015625, 48.5749626159668, 44.616233825683594, 51.9476203918457, 43.91688537597656, 53.1738166809082, 46.67116928100586, 58.51711654663086, 31.304161071777344, 54.14958572387695, 47.67687225341797, 55.7119026184082, 56.111263275146484, 42.151206970214844, 37.7728271484375, 46.88090133666992, 47.75347900390625, 61.95655822753906, 55.14453125, 59.77495574951172, 51.957454681396484, 57.874855041503906, 62.753353118896484, 44.36106491088867, 51.2830810546875, 65.58258056640625], \"z\": [32.751258850097656, 30.95050811767578, 34.42350387573242, 29.384519577026367, 31.67068862915039, 33.28839874267578, 18.510351181030273, 33.47578048706055, 34.907108306884766, 22.684484481811523, 25.36996841430664, 25.78980255126953, 26.55800437927246, 22.936559677124023, 34.717464447021484, 23.732799530029297, 22.763782501220703, 25.414371490478516, 25.55976676940918, 38.05743408203125, 25.47587776184082, 28.709487915039062, 18.44062614440918, 28.116952896118164, 32.826236724853516, 29.58080291748047, 26.965381622314453, 39.26954650878906, 30.49658203125, 28.346216201782227]}],\n",
       "                        {\"legend\": {\"tracegroupgap\": 0}, \"scene\": {\"domain\": {\"x\": [0.0, 1.0], \"y\": [0.0, 1.0]}, \"xaxis\": {\"title\": {\"text\": \"x\"}}, \"yaxis\": {\"title\": {\"text\": \"y\"}}, \"zaxis\": {\"title\": {\"text\": \"z\"}}}, \"template\": {\"data\": {\"bar\": [{\"error_x\": {\"color\": \"#2a3f5f\"}, \"error_y\": {\"color\": \"#2a3f5f\"}, \"marker\": {\"line\": {\"color\": \"#E5ECF6\", \"width\": 0.5}}, \"type\": \"bar\"}], \"barpolar\": [{\"marker\": {\"line\": {\"color\": \"#E5ECF6\", \"width\": 0.5}}, \"type\": \"barpolar\"}], \"carpet\": [{\"aaxis\": {\"endlinecolor\": \"#2a3f5f\", \"gridcolor\": \"white\", \"linecolor\": \"white\", \"minorgridcolor\": \"white\", \"startlinecolor\": \"#2a3f5f\"}, \"baxis\": {\"endlinecolor\": \"#2a3f5f\", \"gridcolor\": \"white\", \"linecolor\": \"white\", \"minorgridcolor\": \"white\", \"startlinecolor\": \"#2a3f5f\"}, \"type\": \"carpet\"}], \"choropleth\": [{\"colorbar\": {\"outlinewidth\": 0, \"ticks\": \"\"}, \"type\": \"choropleth\"}], \"contour\": [{\"colorbar\": {\"outlinewidth\": 0, \"ticks\": \"\"}, \"colorscale\": [[0.0, \"#0d0887\"], [0.1111111111111111, \"#46039f\"], [0.2222222222222222, \"#7201a8\"], [0.3333333333333333, \"#9c179e\"], [0.4444444444444444, \"#bd3786\"], [0.5555555555555556, \"#d8576b\"], [0.6666666666666666, \"#ed7953\"], [0.7777777777777778, \"#fb9f3a\"], [0.8888888888888888, \"#fdca26\"], [1.0, \"#f0f921\"]], \"type\": \"contour\"}], \"contourcarpet\": [{\"colorbar\": {\"outlinewidth\": 0, \"ticks\": \"\"}, \"type\": \"contourcarpet\"}], \"heatmap\": [{\"colorbar\": {\"outlinewidth\": 0, \"ticks\": \"\"}, \"colorscale\": [[0.0, \"#0d0887\"], [0.1111111111111111, \"#46039f\"], [0.2222222222222222, \"#7201a8\"], [0.3333333333333333, \"#9c179e\"], [0.4444444444444444, \"#bd3786\"], [0.5555555555555556, \"#d8576b\"], [0.6666666666666666, \"#ed7953\"], [0.7777777777777778, \"#fb9f3a\"], [0.8888888888888888, \"#fdca26\"], [1.0, \"#f0f921\"]], \"type\": \"heatmap\"}], \"heatmapgl\": [{\"colorbar\": {\"outlinewidth\": 0, \"ticks\": \"\"}, \"colorscale\": [[0.0, \"#0d0887\"], [0.1111111111111111, \"#46039f\"], [0.2222222222222222, \"#7201a8\"], [0.3333333333333333, \"#9c179e\"], [0.4444444444444444, \"#bd3786\"], [0.5555555555555556, \"#d8576b\"], [0.6666666666666666, \"#ed7953\"], [0.7777777777777778, \"#fb9f3a\"], [0.8888888888888888, \"#fdca26\"], [1.0, \"#f0f921\"]], \"type\": \"heatmapgl\"}], \"histogram\": [{\"marker\": {\"colorbar\": {\"outlinewidth\": 0, \"ticks\": \"\"}}, \"type\": \"histogram\"}], \"histogram2d\": [{\"colorbar\": {\"outlinewidth\": 0, \"ticks\": \"\"}, \"colorscale\": [[0.0, \"#0d0887\"], [0.1111111111111111, \"#46039f\"], [0.2222222222222222, \"#7201a8\"], [0.3333333333333333, \"#9c179e\"], [0.4444444444444444, \"#bd3786\"], [0.5555555555555556, \"#d8576b\"], [0.6666666666666666, \"#ed7953\"], [0.7777777777777778, \"#fb9f3a\"], [0.8888888888888888, \"#fdca26\"], [1.0, \"#f0f921\"]], \"type\": \"histogram2d\"}], \"histogram2dcontour\": [{\"colorbar\": {\"outlinewidth\": 0, \"ticks\": \"\"}, \"colorscale\": [[0.0, \"#0d0887\"], [0.1111111111111111, \"#46039f\"], [0.2222222222222222, \"#7201a8\"], [0.3333333333333333, \"#9c179e\"], [0.4444444444444444, \"#bd3786\"], [0.5555555555555556, \"#d8576b\"], [0.6666666666666666, \"#ed7953\"], [0.7777777777777778, \"#fb9f3a\"], [0.8888888888888888, \"#fdca26\"], [1.0, \"#f0f921\"]], \"type\": \"histogram2dcontour\"}], \"mesh3d\": [{\"colorbar\": {\"outlinewidth\": 0, \"ticks\": \"\"}, \"type\": \"mesh3d\"}], \"parcoords\": [{\"line\": {\"colorbar\": {\"outlinewidth\": 0, \"ticks\": \"\"}}, \"type\": \"parcoords\"}], \"pie\": [{\"automargin\": true, \"type\": \"pie\"}], \"scatter\": [{\"marker\": {\"colorbar\": {\"outlinewidth\": 0, \"ticks\": \"\"}}, \"type\": \"scatter\"}], \"scatter3d\": [{\"line\": {\"colorbar\": {\"outlinewidth\": 0, \"ticks\": \"\"}}, \"marker\": {\"colorbar\": {\"outlinewidth\": 0, \"ticks\": \"\"}}, \"type\": \"scatter3d\"}], \"scattercarpet\": [{\"marker\": {\"colorbar\": {\"outlinewidth\": 0, \"ticks\": \"\"}}, \"type\": \"scattercarpet\"}], \"scattergeo\": [{\"marker\": {\"colorbar\": {\"outlinewidth\": 0, \"ticks\": \"\"}}, \"type\": \"scattergeo\"}], \"scattergl\": [{\"marker\": {\"colorbar\": {\"outlinewidth\": 0, \"ticks\": \"\"}}, \"type\": \"scattergl\"}], \"scattermapbox\": [{\"marker\": {\"colorbar\": {\"outlinewidth\": 0, \"ticks\": \"\"}}, \"type\": \"scattermapbox\"}], \"scatterpolar\": [{\"marker\": {\"colorbar\": {\"outlinewidth\": 0, \"ticks\": \"\"}}, \"type\": \"scatterpolar\"}], \"scatterpolargl\": [{\"marker\": {\"colorbar\": {\"outlinewidth\": 0, \"ticks\": \"\"}}, \"type\": \"scatterpolargl\"}], \"scatterternary\": [{\"marker\": {\"colorbar\": {\"outlinewidth\": 0, \"ticks\": \"\"}}, \"type\": \"scatterternary\"}], \"surface\": [{\"colorbar\": {\"outlinewidth\": 0, \"ticks\": \"\"}, \"colorscale\": [[0.0, \"#0d0887\"], [0.1111111111111111, \"#46039f\"], [0.2222222222222222, \"#7201a8\"], [0.3333333333333333, \"#9c179e\"], [0.4444444444444444, \"#bd3786\"], [0.5555555555555556, \"#d8576b\"], [0.6666666666666666, \"#ed7953\"], [0.7777777777777778, \"#fb9f3a\"], [0.8888888888888888, \"#fdca26\"], [1.0, \"#f0f921\"]], \"type\": \"surface\"}], \"table\": [{\"cells\": {\"fill\": {\"color\": \"#EBF0F8\"}, \"line\": {\"color\": \"white\"}}, \"header\": {\"fill\": {\"color\": \"#C8D4E3\"}, \"line\": {\"color\": \"white\"}}, \"type\": \"table\"}]}, \"layout\": {\"annotationdefaults\": {\"arrowcolor\": \"#2a3f5f\", \"arrowhead\": 0, \"arrowwidth\": 1}, \"coloraxis\": {\"colorbar\": {\"outlinewidth\": 0, \"ticks\": \"\"}}, \"colorscale\": {\"diverging\": [[0, \"#8e0152\"], [0.1, \"#c51b7d\"], [0.2, \"#de77ae\"], [0.3, \"#f1b6da\"], [0.4, \"#fde0ef\"], [0.5, \"#f7f7f7\"], [0.6, \"#e6f5d0\"], [0.7, \"#b8e186\"], [0.8, \"#7fbc41\"], [0.9, \"#4d9221\"], [1, \"#276419\"]], \"sequential\": [[0.0, \"#0d0887\"], [0.1111111111111111, \"#46039f\"], [0.2222222222222222, \"#7201a8\"], [0.3333333333333333, \"#9c179e\"], [0.4444444444444444, \"#bd3786\"], [0.5555555555555556, \"#d8576b\"], [0.6666666666666666, \"#ed7953\"], [0.7777777777777778, \"#fb9f3a\"], [0.8888888888888888, \"#fdca26\"], [1.0, \"#f0f921\"]], \"sequentialminus\": [[0.0, \"#0d0887\"], [0.1111111111111111, \"#46039f\"], [0.2222222222222222, \"#7201a8\"], [0.3333333333333333, \"#9c179e\"], [0.4444444444444444, \"#bd3786\"], [0.5555555555555556, \"#d8576b\"], [0.6666666666666666, \"#ed7953\"], [0.7777777777777778, \"#fb9f3a\"], [0.8888888888888888, \"#fdca26\"], [1.0, \"#f0f921\"]]}, \"colorway\": [\"#636efa\", \"#EF553B\", \"#00cc96\", \"#ab63fa\", \"#FFA15A\", \"#19d3f3\", \"#FF6692\", \"#B6E880\", \"#FF97FF\", \"#FECB52\"], \"font\": {\"color\": \"#2a3f5f\"}, \"geo\": {\"bgcolor\": \"white\", \"lakecolor\": \"white\", \"landcolor\": \"#E5ECF6\", \"showlakes\": true, \"showland\": true, \"subunitcolor\": \"white\"}, \"hoverlabel\": {\"align\": \"left\"}, \"hovermode\": \"closest\", \"mapbox\": {\"style\": \"light\"}, \"paper_bgcolor\": \"white\", \"plot_bgcolor\": \"#E5ECF6\", \"polar\": {\"angularaxis\": {\"gridcolor\": \"white\", \"linecolor\": \"white\", \"ticks\": \"\"}, \"bgcolor\": \"#E5ECF6\", \"radialaxis\": {\"gridcolor\": \"white\", \"linecolor\": \"white\", \"ticks\": \"\"}}, \"scene\": {\"xaxis\": {\"backgroundcolor\": \"#E5ECF6\", \"gridcolor\": \"white\", \"gridwidth\": 2, \"linecolor\": \"white\", \"showbackground\": true, \"ticks\": \"\", \"zerolinecolor\": \"white\"}, \"yaxis\": {\"backgroundcolor\": \"#E5ECF6\", \"gridcolor\": \"white\", \"gridwidth\": 2, \"linecolor\": \"white\", \"showbackground\": true, \"ticks\": \"\", \"zerolinecolor\": \"white\"}, \"zaxis\": {\"backgroundcolor\": \"#E5ECF6\", \"gridcolor\": \"white\", \"gridwidth\": 2, \"linecolor\": \"white\", \"showbackground\": true, \"ticks\": \"\", \"zerolinecolor\": \"white\"}}, \"shapedefaults\": {\"line\": {\"color\": \"#2a3f5f\"}}, \"ternary\": {\"aaxis\": {\"gridcolor\": \"white\", \"linecolor\": \"white\", \"ticks\": \"\"}, \"baxis\": {\"gridcolor\": \"white\", \"linecolor\": \"white\", \"ticks\": \"\"}, \"bgcolor\": \"#E5ECF6\", \"caxis\": {\"gridcolor\": \"white\", \"linecolor\": \"white\", \"ticks\": \"\"}}, \"title\": {\"x\": 0.05}, \"xaxis\": {\"automargin\": true, \"gridcolor\": \"white\", \"linecolor\": \"white\", \"ticks\": \"\", \"title\": {\"standoff\": 15}, \"zerolinecolor\": \"white\", \"zerolinewidth\": 2}, \"yaxis\": {\"automargin\": true, \"gridcolor\": \"white\", \"linecolor\": \"white\", \"ticks\": \"\", \"title\": {\"standoff\": 15}, \"zerolinecolor\": \"white\", \"zerolinewidth\": 2}}}, \"title\": {\"text\": \"Intersection 3D embedding of farmers IPM data\"}},\n",
       "                        {\"responsive\": true}\n",
       "                    ).then(function(){\n",
       "                            \n",
       "var gd = document.getElementById('dce0b593-b73d-4d58-a41d-0fc60b799240');\n",
       "var x = new MutationObserver(function (mutations, observer) {{\n",
       "        var display = window.getComputedStyle(gd).display;\n",
       "        if (!display || display === 'none') {{\n",
       "            console.log([gd, 'removed!']);\n",
       "            Plotly.purge(gd);\n",
       "            observer.disconnect();\n",
       "        }}\n",
       "}});\n",
       "\n",
       "// Listen for the removal of the full notebook cells\n",
       "var notebookContainer = gd.closest('#notebook-container');\n",
       "if (notebookContainer) {{\n",
       "    x.observe(notebookContainer, {childList: true});\n",
       "}}\n",
       "\n",
       "// Listen for the clearing of the current output cell\n",
       "var outputEl = gd.closest('.output');\n",
       "if (outputEl) {{\n",
       "    x.observe(outputEl, {childList: true});\n",
       "}}\n",
       "\n",
       "                        })\n",
       "                };\n",
       "                \n",
       "            </script>\n",
       "        </div>\n",
       "</body>\n",
       "</html>"
      ]
     },
     "metadata": {
      "tags": []
     },
     "output_type": "display_data"
    }
   ],
   "source": [
    "# Intersection embedding cluster visualisation \n",
    "fig = px.scatter_3d(intersection3d_df, \"x\",\"y\",\"z\", color=\"clusters\", text=df_noNaN[\"How_do_you_access_DSS_Cat\"], opacity=0.8, \n",
    "                    title=\"Intersection 3D embedding of farmers IPM data\")\n",
    "fig.show()"
   ]
  },
  {
   "cell_type": "code",
   "execution_count": 220,
   "metadata": {
    "id": "MQ3UT6dB1Lp5"
   },
   "outputs": [],
   "source": [
    "fig.write_html(\"IPM_DataEmbedding_q2.html\")"
   ]
  },
  {
   "cell_type": "code",
   "execution_count": 221,
   "metadata": {
    "colab": {
     "base_uri": "https://localhost:8080/",
     "height": 542
    },
    "id": "r6OTdtXFl2Nz",
    "outputId": "ff30b3b1-b8bb-4fb3-bd2c-dfe4df110709"
   },
   "outputs": [
    {
     "data": {
      "text/html": [
       "<html>\n",
       "<head><meta charset=\"utf-8\" /></head>\n",
       "<body>\n",
       "    <div>\n",
       "            <script src=\"https://cdnjs.cloudflare.com/ajax/libs/mathjax/2.7.5/MathJax.js?config=TeX-AMS-MML_SVG\"></script><script type=\"text/javascript\">if (window.MathJax) {MathJax.Hub.Config({SVG: {font: \"STIX-Web\"}});}</script>\n",
       "                <script type=\"text/javascript\">window.PlotlyConfig = {MathJaxConfig: 'local'};</script>\n",
       "        <script src=\"https://cdn.plot.ly/plotly-latest.min.js\"></script>    \n",
       "            <div id=\"0c487ffd-4289-4463-9ae7-a445c659e4a3\" class=\"plotly-graph-div\" style=\"height:525px; width:100%;\"></div>\n",
       "            <script type=\"text/javascript\">\n",
       "                \n",
       "                    window.PLOTLYENV=window.PLOTLYENV || {};\n",
       "                    \n",
       "                if (document.getElementById(\"0c487ffd-4289-4463-9ae7-a445c659e4a3\")) {\n",
       "                    Plotly.newPlot(\n",
       "                        '0c487ffd-4289-4463-9ae7-a445c659e4a3',\n",
       "                        [{\"hoverlabel\": {\"namelength\": 0}, \"hovertemplate\": \"clusters=0<br>x=%{x}<br>y=%{y}<br>z=%{z}<br>text=%{text}\", \"legendgroup\": \"clusters=0\", \"marker\": {\"color\": \"#636efa\", \"opacity\": 0.5, \"symbol\": \"circle\"}, \"mode\": \"markers+text\", \"name\": \"clusters=0\", \"scene\": \"scene\", \"showlegend\": true, \"text\": [1.0, 3.0, 2.0, 2.0, 3.0, 1.0, 1.0, 1.0, 1.0, 3.0, 3.0, 3.0, 1.0, 1.0, 3.0, 3.0, 1.0, 2.0, 3.0, 1.0, 2.0, 3.0, 1.0, 2.0, 3.0, 1.0, 3.0, 3.0, 3.0, 3.0, 2.0, 3.0, 2.0, 3.0], \"type\": \"scatter3d\", \"x\": [31.03561782836914, 31.508941650390625, 29.354591369628906, 29.736730575561523, 31.249832153320312, 31.23677635192871, 31.12073516845703, 33.13525390625, 31.261091232299805, 29.893226623535156, 31.831809997558594, 31.714256286621094, 30.69039535522461, 30.296546936035156, 30.524696350097656, 32.13405990600586, 31.235774993896484, 32.48640441894531, 30.03575897216797, 31.32619857788086, 31.277164459228516, 30.158855438232422, 30.89599609375, 31.94542694091797, 31.97796630859375, 29.161609649658203, 30.68791389465332, 30.49232292175293, 30.151615142822266, 29.77733612060547, 29.340614318847656, 31.71063232421875, 30.995384216308594, 31.314937591552734], \"y\": [-0.1163034439086914, 1.0378479957580566, 4.695830345153809, 4.834004878997803, 7.3891072273254395, -0.3869481086730957, -0.985107421875, 0.8683075904846191, 1.3189668655395508, 4.625226974487305, 2.4499473571777344, 2.4933571815490723, -0.35782575607299805, -0.44965648651123047, -0.11079931259155273, -0.19119644165039062, -1.6270756721496582, 1.24332857131958, -1.002131462097168, -1.207812786102295, 0.8141756057739258, 4.804268836975098, 4.925788402557373, -0.004242897033691406, 2.495070457458496, 4.83604097366333, -0.31429529190063477, -0.2410264015197754, 0.2105412483215332, -0.20276355743408203, 4.289297103881836, 5.990732192993164, 6.35107421875, 2.2308173179626465], \"z\": [7.6281843185424805, 6.459447860717773, 14.004592895507812, 13.338562965393066, 14.431447982788086, 7.035158634185791, 6.48079252243042, 7.018758296966553, 8.129900932312012, 14.095539093017578, 6.755533695220947, 6.372207164764404, 7.242162704467773, 7.1087517738342285, 6.768328666687012, 8.516572952270508, 6.596046447753906, 7.262839317321777, 7.927069187164307, 6.693658828735352, 6.228055953979492, 13.94829273223877, 13.017011642456055, 7.770447731018066, 7.135589599609375, 14.180290222167969, 8.939607620239258, 8.916934967041016, 9.633931159973145, 8.909690856933594, 13.640156745910645, 13.75668716430664, 12.784954071044922, 8.440710067749023]}, {\"hoverlabel\": {\"namelength\": 0}, \"hovertemplate\": \"clusters=1<br>x=%{x}<br>y=%{y}<br>z=%{z}<br>text=%{text}\", \"legendgroup\": \"clusters=1\", \"marker\": {\"color\": \"#EF553B\", \"opacity\": 0.5, \"symbol\": \"circle\"}, \"mode\": \"markers+text\", \"name\": \"clusters=1\", \"scene\": \"scene\", \"showlegend\": true, \"text\": [3.0, 3.0, 3.0, 2.0, 3.0, 3.0, 3.0, 3.0, 3.0, 3.0, 3.0, 3.0, 2.0, 3.0, 3.0, 1.0, 3.0, 1.0, 3.0, 3.0, 3.0, 3.0, 3.0, 1.0, 1.0, 1.0, 3.0, 2.0, 3.0, 3.0, 3.0], \"type\": \"scatter3d\", \"x\": [14.980457305908203, 15.562515258789062, 12.984158515930176, 14.991092681884766, 15.165753364562988, 13.996007919311523, 12.388818740844727, 13.55888557434082, 9.837120056152344, 13.76449966430664, 10.810953140258789, 9.77439022064209, 13.282403945922852, 10.633489608764648, 10.77474594116211, 10.907918930053711, 9.84846019744873, 10.628458976745605, 14.949329376220703, 13.820505142211914, 13.960014343261719, 13.862176895141602, 15.310081481933594, 13.938355445861816, 14.347991943359375, 13.639959335327148, 13.812905311584473, 12.626058578491211, 12.04055404663086, 15.30656623840332, 14.226242065429688], \"y\": [33.705406188964844, 33.30175018310547, 34.44611358642578, 32.62968063354492, 32.64697265625, 32.07057571411133, 31.855262756347656, 32.20126724243164, 30.663488388061523, 34.22050476074219, 31.65620231628418, 30.698657989501953, 32.067909240722656, 30.463096618652344, 31.785972595214844, 31.17154312133789, 31.100406646728516, 31.629514694213867, 33.332542419433594, 34.857730865478516, 34.6129035949707, 32.70680236816406, 32.93312072753906, 33.89661407470703, 32.70490264892578, 31.504838943481445, 34.426910400390625, 30.40249252319336, 31.958141326904297, 32.55731964111328, 31.856748580932617], \"z\": [-1.494034767150879, 0.19479846954345703, -0.23401212692260742, 0.23488426208496094, 0.4658679962158203, -0.11259174346923828, 0.7529773712158203, 0.05303335189819336, 0.7819104194641113, -0.6039009094238281, 1.0705571174621582, 1.0410652160644531, -0.8390834331512451, 1.2949514389038086, 1.3590960502624512, -0.24433231353759766, 0.8412752151489258, 1.023542881011963, -0.5945148468017578, -0.3758580684661865, -0.5936386585235596, -1.3471004962921143, 0.6681046485900879, -1.2706446647644043, -2.0104963779449463, -2.0363988876342773, -0.8115005493164062, -0.39615678787231445, 0.6862554550170898, 0.28868627548217773, 0.17324113845825195]}, {\"hoverlabel\": {\"namelength\": 0}, \"hovertemplate\": \"clusters=2<br>x=%{x}<br>y=%{y}<br>z=%{z}<br>text=%{text}\", \"legendgroup\": \"clusters=2\", \"marker\": {\"color\": \"#00cc96\", \"opacity\": 0.5, \"symbol\": \"circle\"}, \"mode\": \"markers+text\", \"name\": \"clusters=2\", \"scene\": \"scene\", \"showlegend\": true, \"text\": [3.0, 2.0, 3.0, 3.0, 1.0, 3.0, 2.0, 3.0, 3.0, 3.0, 2.0, 3.0, 2.0, 1.0, 3.0, 1.0, 1.0, 2.0, 1.0, 2.0, 3.0, 3.0, 1.0, 3.0, 2.0, 3.0, 3.0, 3.0, 2.0, 3.0], \"type\": \"scatter3d\", \"x\": [-1.7621278762817383, -1.0769128799438477, -1.0466079711914062, -1.1660327911376953, -1.779740333557129, -1.3231878280639648, -3.0154123306274414, -2.7579002380371094, -1.5496997833251953, -2.031452178955078, -2.040729522705078, -1.6746301651000977, -3.991330146789551, -2.8377981185913086, -1.1369171142578125, -2.8416194915771484, -2.736414909362793, -4.063614845275879, -4.7667694091796875, -3.731273651123047, -3.373040199279785, -2.770437240600586, -2.319559097290039, -2.5880041122436523, -3.380767822265625, -2.888583183288574, -1.8858861923217773, -4.596351623535156, -3.4630279541015625, -2.862454414367676], \"y\": [14.277765274047852, 13.835871696472168, 13.809957504272461, 15.455066680908203, 13.985456466674805, 14.231691360473633, 13.778018951416016, 14.99488639831543, 13.487580299377441, 15.228059768676758, 14.26834487915039, 15.813201904296875, 11.267377853393555, 15.020662307739258, 14.344884872436523, 15.344539642333984, 15.390114784240723, 13.075545310974121, 12.309288024902344, 13.764345169067383, 13.871870040893555, 16.298656463623047, 15.014004707336426, 15.965165138244629, 14.52098560333252, 15.883774757385254, 16.346145629882812, 13.368517875671387, 14.415022850036621, 16.680234909057617], \"z\": [11.783100128173828, 11.31058406829834, 12.05459976196289, 11.045103073120117, 11.531286239624023, 11.750201225280762, 9.688520431518555, 11.851638793945312, 12.154097557067871, 10.137996673583984, 10.788139343261719, 10.97195816040039, 11.007652282714844, 10.345162391662598, 12.087217330932617, 10.443480491638184, 10.229843139648438, 10.510026931762695, 10.591487884521484, 12.507709503173828, 10.81962776184082, 10.973054885864258, 9.64293098449707, 11.165410041809082, 11.732403755187988, 11.090211868286133, 10.795511245727539, 12.655977249145508, 11.34379768371582, 11.233308792114258]}],\n",
       "                        {\"legend\": {\"tracegroupgap\": 0}, \"scene\": {\"domain\": {\"x\": [0.0, 1.0], \"y\": [0.0, 1.0]}, \"xaxis\": {\"title\": {\"text\": \"x\"}}, \"yaxis\": {\"title\": {\"text\": \"y\"}}, \"zaxis\": {\"title\": {\"text\": \"z\"}}}, \"template\": {\"data\": {\"bar\": [{\"error_x\": {\"color\": \"#2a3f5f\"}, \"error_y\": {\"color\": \"#2a3f5f\"}, \"marker\": {\"line\": {\"color\": \"#E5ECF6\", \"width\": 0.5}}, \"type\": \"bar\"}], \"barpolar\": [{\"marker\": {\"line\": {\"color\": \"#E5ECF6\", \"width\": 0.5}}, \"type\": \"barpolar\"}], \"carpet\": [{\"aaxis\": {\"endlinecolor\": \"#2a3f5f\", \"gridcolor\": \"white\", \"linecolor\": \"white\", \"minorgridcolor\": \"white\", \"startlinecolor\": \"#2a3f5f\"}, \"baxis\": {\"endlinecolor\": \"#2a3f5f\", \"gridcolor\": \"white\", \"linecolor\": \"white\", \"minorgridcolor\": \"white\", \"startlinecolor\": \"#2a3f5f\"}, \"type\": \"carpet\"}], \"choropleth\": [{\"colorbar\": {\"outlinewidth\": 0, \"ticks\": \"\"}, \"type\": \"choropleth\"}], \"contour\": [{\"colorbar\": {\"outlinewidth\": 0, \"ticks\": \"\"}, \"colorscale\": [[0.0, \"#0d0887\"], [0.1111111111111111, \"#46039f\"], [0.2222222222222222, \"#7201a8\"], [0.3333333333333333, \"#9c179e\"], [0.4444444444444444, \"#bd3786\"], [0.5555555555555556, \"#d8576b\"], [0.6666666666666666, \"#ed7953\"], [0.7777777777777778, \"#fb9f3a\"], [0.8888888888888888, \"#fdca26\"], [1.0, \"#f0f921\"]], \"type\": \"contour\"}], \"contourcarpet\": [{\"colorbar\": {\"outlinewidth\": 0, \"ticks\": \"\"}, \"type\": \"contourcarpet\"}], \"heatmap\": [{\"colorbar\": {\"outlinewidth\": 0, \"ticks\": \"\"}, \"colorscale\": [[0.0, \"#0d0887\"], [0.1111111111111111, \"#46039f\"], [0.2222222222222222, \"#7201a8\"], [0.3333333333333333, \"#9c179e\"], [0.4444444444444444, \"#bd3786\"], [0.5555555555555556, \"#d8576b\"], [0.6666666666666666, \"#ed7953\"], [0.7777777777777778, \"#fb9f3a\"], [0.8888888888888888, \"#fdca26\"], [1.0, \"#f0f921\"]], \"type\": \"heatmap\"}], \"heatmapgl\": [{\"colorbar\": {\"outlinewidth\": 0, \"ticks\": \"\"}, \"colorscale\": [[0.0, \"#0d0887\"], [0.1111111111111111, \"#46039f\"], [0.2222222222222222, \"#7201a8\"], [0.3333333333333333, \"#9c179e\"], [0.4444444444444444, \"#bd3786\"], [0.5555555555555556, \"#d8576b\"], [0.6666666666666666, \"#ed7953\"], [0.7777777777777778, \"#fb9f3a\"], [0.8888888888888888, \"#fdca26\"], [1.0, \"#f0f921\"]], \"type\": \"heatmapgl\"}], \"histogram\": [{\"marker\": {\"colorbar\": {\"outlinewidth\": 0, \"ticks\": \"\"}}, \"type\": \"histogram\"}], \"histogram2d\": [{\"colorbar\": {\"outlinewidth\": 0, \"ticks\": \"\"}, \"colorscale\": [[0.0, \"#0d0887\"], [0.1111111111111111, \"#46039f\"], [0.2222222222222222, \"#7201a8\"], [0.3333333333333333, \"#9c179e\"], [0.4444444444444444, \"#bd3786\"], [0.5555555555555556, \"#d8576b\"], [0.6666666666666666, \"#ed7953\"], [0.7777777777777778, \"#fb9f3a\"], [0.8888888888888888, \"#fdca26\"], [1.0, \"#f0f921\"]], \"type\": \"histogram2d\"}], \"histogram2dcontour\": [{\"colorbar\": {\"outlinewidth\": 0, \"ticks\": \"\"}, \"colorscale\": [[0.0, \"#0d0887\"], [0.1111111111111111, \"#46039f\"], [0.2222222222222222, \"#7201a8\"], [0.3333333333333333, \"#9c179e\"], [0.4444444444444444, \"#bd3786\"], [0.5555555555555556, \"#d8576b\"], [0.6666666666666666, \"#ed7953\"], [0.7777777777777778, \"#fb9f3a\"], [0.8888888888888888, \"#fdca26\"], [1.0, \"#f0f921\"]], \"type\": \"histogram2dcontour\"}], \"mesh3d\": [{\"colorbar\": {\"outlinewidth\": 0, \"ticks\": \"\"}, \"type\": \"mesh3d\"}], \"parcoords\": [{\"line\": {\"colorbar\": {\"outlinewidth\": 0, \"ticks\": \"\"}}, \"type\": \"parcoords\"}], \"pie\": [{\"automargin\": true, \"type\": \"pie\"}], \"scatter\": [{\"marker\": {\"colorbar\": {\"outlinewidth\": 0, \"ticks\": \"\"}}, \"type\": \"scatter\"}], \"scatter3d\": [{\"line\": {\"colorbar\": {\"outlinewidth\": 0, \"ticks\": \"\"}}, \"marker\": {\"colorbar\": {\"outlinewidth\": 0, \"ticks\": \"\"}}, \"type\": \"scatter3d\"}], \"scattercarpet\": [{\"marker\": {\"colorbar\": {\"outlinewidth\": 0, \"ticks\": \"\"}}, \"type\": \"scattercarpet\"}], \"scattergeo\": [{\"marker\": {\"colorbar\": {\"outlinewidth\": 0, \"ticks\": \"\"}}, \"type\": \"scattergeo\"}], \"scattergl\": [{\"marker\": {\"colorbar\": {\"outlinewidth\": 0, \"ticks\": \"\"}}, \"type\": \"scattergl\"}], \"scattermapbox\": [{\"marker\": {\"colorbar\": {\"outlinewidth\": 0, \"ticks\": \"\"}}, \"type\": \"scattermapbox\"}], \"scatterpolar\": [{\"marker\": {\"colorbar\": {\"outlinewidth\": 0, \"ticks\": \"\"}}, \"type\": \"scatterpolar\"}], \"scatterpolargl\": [{\"marker\": {\"colorbar\": {\"outlinewidth\": 0, \"ticks\": \"\"}}, \"type\": \"scatterpolargl\"}], \"scatterternary\": [{\"marker\": {\"colorbar\": {\"outlinewidth\": 0, \"ticks\": \"\"}}, \"type\": \"scatterternary\"}], \"surface\": [{\"colorbar\": {\"outlinewidth\": 0, \"ticks\": \"\"}, \"colorscale\": [[0.0, \"#0d0887\"], [0.1111111111111111, \"#46039f\"], [0.2222222222222222, \"#7201a8\"], [0.3333333333333333, \"#9c179e\"], [0.4444444444444444, \"#bd3786\"], [0.5555555555555556, \"#d8576b\"], [0.6666666666666666, \"#ed7953\"], [0.7777777777777778, \"#fb9f3a\"], [0.8888888888888888, \"#fdca26\"], [1.0, \"#f0f921\"]], \"type\": \"surface\"}], \"table\": [{\"cells\": {\"fill\": {\"color\": \"#EBF0F8\"}, \"line\": {\"color\": \"white\"}}, \"header\": {\"fill\": {\"color\": \"#C8D4E3\"}, \"line\": {\"color\": \"white\"}}, \"type\": \"table\"}]}, \"layout\": {\"annotationdefaults\": {\"arrowcolor\": \"#2a3f5f\", \"arrowhead\": 0, \"arrowwidth\": 1}, \"coloraxis\": {\"colorbar\": {\"outlinewidth\": 0, \"ticks\": \"\"}}, \"colorscale\": {\"diverging\": [[0, \"#8e0152\"], [0.1, \"#c51b7d\"], [0.2, \"#de77ae\"], [0.3, \"#f1b6da\"], [0.4, \"#fde0ef\"], [0.5, \"#f7f7f7\"], [0.6, \"#e6f5d0\"], [0.7, \"#b8e186\"], [0.8, \"#7fbc41\"], [0.9, \"#4d9221\"], [1, \"#276419\"]], \"sequential\": [[0.0, \"#0d0887\"], [0.1111111111111111, \"#46039f\"], [0.2222222222222222, \"#7201a8\"], [0.3333333333333333, \"#9c179e\"], [0.4444444444444444, \"#bd3786\"], [0.5555555555555556, \"#d8576b\"], [0.6666666666666666, \"#ed7953\"], [0.7777777777777778, \"#fb9f3a\"], [0.8888888888888888, \"#fdca26\"], [1.0, \"#f0f921\"]], \"sequentialminus\": [[0.0, \"#0d0887\"], [0.1111111111111111, \"#46039f\"], [0.2222222222222222, \"#7201a8\"], [0.3333333333333333, \"#9c179e\"], [0.4444444444444444, \"#bd3786\"], [0.5555555555555556, \"#d8576b\"], [0.6666666666666666, \"#ed7953\"], [0.7777777777777778, \"#fb9f3a\"], [0.8888888888888888, \"#fdca26\"], [1.0, \"#f0f921\"]]}, \"colorway\": [\"#636efa\", \"#EF553B\", \"#00cc96\", \"#ab63fa\", \"#FFA15A\", \"#19d3f3\", \"#FF6692\", \"#B6E880\", \"#FF97FF\", \"#FECB52\"], \"font\": {\"color\": \"#2a3f5f\"}, \"geo\": {\"bgcolor\": \"white\", \"lakecolor\": \"white\", \"landcolor\": \"#E5ECF6\", \"showlakes\": true, \"showland\": true, \"subunitcolor\": \"white\"}, \"hoverlabel\": {\"align\": \"left\"}, \"hovermode\": \"closest\", \"mapbox\": {\"style\": \"light\"}, \"paper_bgcolor\": \"white\", \"plot_bgcolor\": \"#E5ECF6\", \"polar\": {\"angularaxis\": {\"gridcolor\": \"white\", \"linecolor\": \"white\", \"ticks\": \"\"}, \"bgcolor\": \"#E5ECF6\", \"radialaxis\": {\"gridcolor\": \"white\", \"linecolor\": \"white\", \"ticks\": \"\"}}, \"scene\": {\"xaxis\": {\"backgroundcolor\": \"#E5ECF6\", \"gridcolor\": \"white\", \"gridwidth\": 2, \"linecolor\": \"white\", \"showbackground\": true, \"ticks\": \"\", \"zerolinecolor\": \"white\"}, \"yaxis\": {\"backgroundcolor\": \"#E5ECF6\", \"gridcolor\": \"white\", \"gridwidth\": 2, \"linecolor\": \"white\", \"showbackground\": true, \"ticks\": \"\", \"zerolinecolor\": \"white\"}, \"zaxis\": {\"backgroundcolor\": \"#E5ECF6\", \"gridcolor\": \"white\", \"gridwidth\": 2, \"linecolor\": \"white\", \"showbackground\": true, \"ticks\": \"\", \"zerolinecolor\": \"white\"}}, \"shapedefaults\": {\"line\": {\"color\": \"#2a3f5f\"}}, \"ternary\": {\"aaxis\": {\"gridcolor\": \"white\", \"linecolor\": \"white\", \"ticks\": \"\"}, \"baxis\": {\"gridcolor\": \"white\", \"linecolor\": \"white\", \"ticks\": \"\"}, \"bgcolor\": \"#E5ECF6\", \"caxis\": {\"gridcolor\": \"white\", \"linecolor\": \"white\", \"ticks\": \"\"}}, \"title\": {\"x\": 0.05}, \"xaxis\": {\"automargin\": true, \"gridcolor\": \"white\", \"linecolor\": \"white\", \"ticks\": \"\", \"title\": {\"standoff\": 15}, \"zerolinecolor\": \"white\", \"zerolinewidth\": 2}, \"yaxis\": {\"automargin\": true, \"gridcolor\": \"white\", \"linecolor\": \"white\", \"ticks\": \"\", \"title\": {\"standoff\": 15}, \"zerolinecolor\": \"white\", \"zerolinewidth\": 2}}}, \"title\": {\"text\": \"Union 3D embedding of farmers IPM data\"}},\n",
       "                        {\"responsive\": true}\n",
       "                    ).then(function(){\n",
       "                            \n",
       "var gd = document.getElementById('0c487ffd-4289-4463-9ae7-a445c659e4a3');\n",
       "var x = new MutationObserver(function (mutations, observer) {{\n",
       "        var display = window.getComputedStyle(gd).display;\n",
       "        if (!display || display === 'none') {{\n",
       "            console.log([gd, 'removed!']);\n",
       "            Plotly.purge(gd);\n",
       "            observer.disconnect();\n",
       "        }}\n",
       "}});\n",
       "\n",
       "// Listen for the removal of the full notebook cells\n",
       "var notebookContainer = gd.closest('#notebook-container');\n",
       "if (notebookContainer) {{\n",
       "    x.observe(notebookContainer, {childList: true});\n",
       "}}\n",
       "\n",
       "// Listen for the clearing of the current output cell\n",
       "var outputEl = gd.closest('.output');\n",
       "if (outputEl) {{\n",
       "    x.observe(outputEl, {childList: true});\n",
       "}}\n",
       "\n",
       "                        })\n",
       "                };\n",
       "                \n",
       "            </script>\n",
       "        </div>\n",
       "</body>\n",
       "</html>"
      ]
     },
     "metadata": {
      "tags": []
     },
     "output_type": "display_data"
    }
   ],
   "source": [
    "# Union embedding cluster visualisation \n",
    "fig = px.scatter_3d(union3d_df, \"x\",\"y\",\"z\", color=\"clusters\", text=df_noNaN[\"How_do_you_access_DSS_Cat\"], opacity=0.5, \n",
    "                    title=\"Union 3D embedding of farmers IPM data\")\n",
    "fig.write_html(\"/content/plotly1.html\")\n",
    "fig.show()"
   ]
  },
  {
   "cell_type": "markdown",
   "metadata": {
    "id": "bcdnOuG4u9vX"
   },
   "source": [
    "Validate clusters Which Metrics?"
   ]
  },
  {
   "cell_type": "markdown",
   "metadata": {
    "id": "Os2IRjA7l2Ny"
   },
   "source": [
    "# Cluster explanation "
   ]
  },
  {
   "cell_type": "code",
   "execution_count": 222,
   "metadata": {
    "colab": {
     "base_uri": "https://localhost:8080/",
     "height": 439
    },
    "id": "bTxXmEg4l2Ny",
    "outputId": "b016d3b5-4516-49d0-b751-8c573de87fd7"
   },
   "outputs": [
    {
     "data": {
      "text/html": [
       "<div>\n",
       "<style scoped>\n",
       "    .dataframe tbody tr th:only-of-type {\n",
       "        vertical-align: middle;\n",
       "    }\n",
       "\n",
       "    .dataframe tbody tr th {\n",
       "        vertical-align: top;\n",
       "    }\n",
       "\n",
       "    .dataframe thead th {\n",
       "        text-align: right;\n",
       "    }\n",
       "</style>\n",
       "<table border=\"1\" class=\"dataframe\">\n",
       "  <thead>\n",
       "    <tr style=\"text-align: right;\">\n",
       "      <th></th>\n",
       "      <th>Age_Cat</th>\n",
       "      <th>Gender_1male</th>\n",
       "      <th>Degree_Cat</th>\n",
       "      <th>Farm_size_Cat</th>\n",
       "      <th>Income_Cat</th>\n",
       "      <th>Legislative_requirements</th>\n",
       "      <th>Computer_at_home</th>\n",
       "      <th>Speed_internet_Cat</th>\n",
       "      <th>How_do_you_access_DSS_Cat</th>\n",
       "      <th>Willing_to_try_new_products_Cat</th>\n",
       "      <th>Price_important_factor</th>\n",
       "      <th>Importance_of_easy_to_use_1to3</th>\n",
       "      <th>Importance_low_price_1to3</th>\n",
       "      <th>Importance_polyvalence_1to3</th>\n",
       "      <th>Enjoy_using_new_techs_1to3</th>\n",
       "      <th>Appreciate_change_1to3</th>\n",
       "      <th>Need_IT_teaching_Cat</th>\n",
       "      <th>Share_DSS_exp_with_colleague_Cat</th>\n",
       "      <th>WTP_for_DSS_Cat</th>\n",
       "      <th>DSS_must_be_tailored_for_your_farm_Cat</th>\n",
       "      <th>Manufacturer_demo_of_DSS_Cat</th>\n",
       "      <th>Region_central_EU</th>\n",
       "      <th>Region_north_EU</th>\n",
       "      <th>Region_south_EU</th>\n",
       "      <th>clusters</th>\n",
       "    </tr>\n",
       "  </thead>\n",
       "  <tbody>\n",
       "    <tr>\n",
       "      <th>2</th>\n",
       "      <td>2</td>\n",
       "      <td>1</td>\n",
       "      <td>2</td>\n",
       "      <td>5</td>\n",
       "      <td>2</td>\n",
       "      <td>1</td>\n",
       "      <td>1</td>\n",
       "      <td>2</td>\n",
       "      <td>1</td>\n",
       "      <td>1</td>\n",
       "      <td>1</td>\n",
       "      <td>3</td>\n",
       "      <td>2</td>\n",
       "      <td>3</td>\n",
       "      <td>1</td>\n",
       "      <td>1</td>\n",
       "      <td>2</td>\n",
       "      <td>1</td>\n",
       "      <td>2</td>\n",
       "      <td>2</td>\n",
       "      <td>2</td>\n",
       "      <td>0</td>\n",
       "      <td>0</td>\n",
       "      <td>1</td>\n",
       "      <td>0</td>\n",
       "    </tr>\n",
       "    <tr>\n",
       "      <th>4</th>\n",
       "      <td>2</td>\n",
       "      <td>1</td>\n",
       "      <td>2</td>\n",
       "      <td>5</td>\n",
       "      <td>5</td>\n",
       "      <td>1</td>\n",
       "      <td>1</td>\n",
       "      <td>2</td>\n",
       "      <td>3</td>\n",
       "      <td>1</td>\n",
       "      <td>1</td>\n",
       "      <td>3</td>\n",
       "      <td>1</td>\n",
       "      <td>2</td>\n",
       "      <td>2</td>\n",
       "      <td>1</td>\n",
       "      <td>2</td>\n",
       "      <td>3</td>\n",
       "      <td>3</td>\n",
       "      <td>2</td>\n",
       "      <td>2</td>\n",
       "      <td>0</td>\n",
       "      <td>0</td>\n",
       "      <td>1</td>\n",
       "      <td>0</td>\n",
       "    </tr>\n",
       "    <tr>\n",
       "      <th>5</th>\n",
       "      <td>1</td>\n",
       "      <td>1</td>\n",
       "      <td>2</td>\n",
       "      <td>2</td>\n",
       "      <td>1</td>\n",
       "      <td>0</td>\n",
       "      <td>1</td>\n",
       "      <td>3</td>\n",
       "      <td>2</td>\n",
       "      <td>2</td>\n",
       "      <td>1</td>\n",
       "      <td>3</td>\n",
       "      <td>3</td>\n",
       "      <td>3</td>\n",
       "      <td>2</td>\n",
       "      <td>2</td>\n",
       "      <td>1</td>\n",
       "      <td>2</td>\n",
       "      <td>2</td>\n",
       "      <td>3</td>\n",
       "      <td>2</td>\n",
       "      <td>0</td>\n",
       "      <td>0</td>\n",
       "      <td>1</td>\n",
       "      <td>0</td>\n",
       "    </tr>\n",
       "    <tr>\n",
       "      <th>6</th>\n",
       "      <td>1</td>\n",
       "      <td>1</td>\n",
       "      <td>2</td>\n",
       "      <td>3</td>\n",
       "      <td>1</td>\n",
       "      <td>0</td>\n",
       "      <td>1</td>\n",
       "      <td>2</td>\n",
       "      <td>2</td>\n",
       "      <td>2</td>\n",
       "      <td>1</td>\n",
       "      <td>2</td>\n",
       "      <td>2</td>\n",
       "      <td>2</td>\n",
       "      <td>3</td>\n",
       "      <td>2</td>\n",
       "      <td>2</td>\n",
       "      <td>2</td>\n",
       "      <td>2</td>\n",
       "      <td>1</td>\n",
       "      <td>1</td>\n",
       "      <td>0</td>\n",
       "      <td>0</td>\n",
       "      <td>1</td>\n",
       "      <td>0</td>\n",
       "    </tr>\n",
       "    <tr>\n",
       "      <th>7</th>\n",
       "      <td>2</td>\n",
       "      <td>1</td>\n",
       "      <td>4</td>\n",
       "      <td>5</td>\n",
       "      <td>2</td>\n",
       "      <td>0</td>\n",
       "      <td>1</td>\n",
       "      <td>3</td>\n",
       "      <td>3</td>\n",
       "      <td>2</td>\n",
       "      <td>1</td>\n",
       "      <td>3</td>\n",
       "      <td>2</td>\n",
       "      <td>1</td>\n",
       "      <td>3</td>\n",
       "      <td>2</td>\n",
       "      <td>2</td>\n",
       "      <td>1</td>\n",
       "      <td>2</td>\n",
       "      <td>2</td>\n",
       "      <td>2</td>\n",
       "      <td>0</td>\n",
       "      <td>0</td>\n",
       "      <td>1</td>\n",
       "      <td>0</td>\n",
       "    </tr>\n",
       "    <tr>\n",
       "      <th>...</th>\n",
       "      <td>...</td>\n",
       "      <td>...</td>\n",
       "      <td>...</td>\n",
       "      <td>...</td>\n",
       "      <td>...</td>\n",
       "      <td>...</td>\n",
       "      <td>...</td>\n",
       "      <td>...</td>\n",
       "      <td>...</td>\n",
       "      <td>...</td>\n",
       "      <td>...</td>\n",
       "      <td>...</td>\n",
       "      <td>...</td>\n",
       "      <td>...</td>\n",
       "      <td>...</td>\n",
       "      <td>...</td>\n",
       "      <td>...</td>\n",
       "      <td>...</td>\n",
       "      <td>...</td>\n",
       "      <td>...</td>\n",
       "      <td>...</td>\n",
       "      <td>...</td>\n",
       "      <td>...</td>\n",
       "      <td>...</td>\n",
       "      <td>...</td>\n",
       "    </tr>\n",
       "    <tr>\n",
       "      <th>126</th>\n",
       "      <td>4</td>\n",
       "      <td>1</td>\n",
       "      <td>2</td>\n",
       "      <td>5</td>\n",
       "      <td>2</td>\n",
       "      <td>1</td>\n",
       "      <td>1</td>\n",
       "      <td>1</td>\n",
       "      <td>3</td>\n",
       "      <td>2</td>\n",
       "      <td>1</td>\n",
       "      <td>3</td>\n",
       "      <td>1</td>\n",
       "      <td>2</td>\n",
       "      <td>2</td>\n",
       "      <td>2</td>\n",
       "      <td>2</td>\n",
       "      <td>2</td>\n",
       "      <td>3</td>\n",
       "      <td>3</td>\n",
       "      <td>2</td>\n",
       "      <td>1</td>\n",
       "      <td>0</td>\n",
       "      <td>0</td>\n",
       "      <td>1</td>\n",
       "    </tr>\n",
       "    <tr>\n",
       "      <th>128</th>\n",
       "      <td>1</td>\n",
       "      <td>1</td>\n",
       "      <td>2</td>\n",
       "      <td>1</td>\n",
       "      <td>1</td>\n",
       "      <td>0</td>\n",
       "      <td>1</td>\n",
       "      <td>2</td>\n",
       "      <td>2</td>\n",
       "      <td>1</td>\n",
       "      <td>1</td>\n",
       "      <td>2</td>\n",
       "      <td>2</td>\n",
       "      <td>2</td>\n",
       "      <td>2</td>\n",
       "      <td>2</td>\n",
       "      <td>2</td>\n",
       "      <td>1</td>\n",
       "      <td>2</td>\n",
       "      <td>2</td>\n",
       "      <td>2</td>\n",
       "      <td>0</td>\n",
       "      <td>0</td>\n",
       "      <td>1</td>\n",
       "      <td>0</td>\n",
       "    </tr>\n",
       "    <tr>\n",
       "      <th>135</th>\n",
       "      <td>3</td>\n",
       "      <td>1</td>\n",
       "      <td>2</td>\n",
       "      <td>3</td>\n",
       "      <td>3</td>\n",
       "      <td>0</td>\n",
       "      <td>1</td>\n",
       "      <td>2</td>\n",
       "      <td>3</td>\n",
       "      <td>1</td>\n",
       "      <td>1</td>\n",
       "      <td>2</td>\n",
       "      <td>1</td>\n",
       "      <td>2</td>\n",
       "      <td>1</td>\n",
       "      <td>1</td>\n",
       "      <td>2</td>\n",
       "      <td>2</td>\n",
       "      <td>2</td>\n",
       "      <td>1</td>\n",
       "      <td>1</td>\n",
       "      <td>0</td>\n",
       "      <td>0</td>\n",
       "      <td>1</td>\n",
       "      <td>0</td>\n",
       "    </tr>\n",
       "    <tr>\n",
       "      <th>137</th>\n",
       "      <td>1</td>\n",
       "      <td>1</td>\n",
       "      <td>1</td>\n",
       "      <td>5</td>\n",
       "      <td>4</td>\n",
       "      <td>0</td>\n",
       "      <td>1</td>\n",
       "      <td>3</td>\n",
       "      <td>2</td>\n",
       "      <td>1</td>\n",
       "      <td>0</td>\n",
       "      <td>1</td>\n",
       "      <td>1</td>\n",
       "      <td>2</td>\n",
       "      <td>2</td>\n",
       "      <td>1</td>\n",
       "      <td>2</td>\n",
       "      <td>1</td>\n",
       "      <td>3</td>\n",
       "      <td>2</td>\n",
       "      <td>2</td>\n",
       "      <td>0</td>\n",
       "      <td>0</td>\n",
       "      <td>1</td>\n",
       "      <td>0</td>\n",
       "    </tr>\n",
       "    <tr>\n",
       "      <th>148</th>\n",
       "      <td>2</td>\n",
       "      <td>1</td>\n",
       "      <td>3</td>\n",
       "      <td>5</td>\n",
       "      <td>2</td>\n",
       "      <td>1</td>\n",
       "      <td>1</td>\n",
       "      <td>2</td>\n",
       "      <td>3</td>\n",
       "      <td>1</td>\n",
       "      <td>1</td>\n",
       "      <td>1</td>\n",
       "      <td>2</td>\n",
       "      <td>3</td>\n",
       "      <td>2</td>\n",
       "      <td>2</td>\n",
       "      <td>2</td>\n",
       "      <td>3</td>\n",
       "      <td>2</td>\n",
       "      <td>2</td>\n",
       "      <td>1</td>\n",
       "      <td>0</td>\n",
       "      <td>0</td>\n",
       "      <td>1</td>\n",
       "      <td>0</td>\n",
       "    </tr>\n",
       "  </tbody>\n",
       "</table>\n",
       "<p>95 rows × 25 columns</p>\n",
       "</div>"
      ],
      "text/plain": [
       "     Age_Cat  Gender_1male  Degree_Cat  Farm_size_Cat  Income_Cat  \\\n",
       "2          2             1           2              5           2   \n",
       "4          2             1           2              5           5   \n",
       "5          1             1           2              2           1   \n",
       "6          1             1           2              3           1   \n",
       "7          2             1           4              5           2   \n",
       "..       ...           ...         ...            ...         ...   \n",
       "126        4             1           2              5           2   \n",
       "128        1             1           2              1           1   \n",
       "135        3             1           2              3           3   \n",
       "137        1             1           1              5           4   \n",
       "148        2             1           3              5           2   \n",
       "\n",
       "     Legislative_requirements  Computer_at_home  Speed_internet_Cat  \\\n",
       "2                           1                 1                   2   \n",
       "4                           1                 1                   2   \n",
       "5                           0                 1                   3   \n",
       "6                           0                 1                   2   \n",
       "7                           0                 1                   3   \n",
       "..                        ...               ...                 ...   \n",
       "126                         1                 1                   1   \n",
       "128                         0                 1                   2   \n",
       "135                         0                 1                   2   \n",
       "137                         0                 1                   3   \n",
       "148                         1                 1                   2   \n",
       "\n",
       "     How_do_you_access_DSS_Cat  Willing_to_try_new_products_Cat  \\\n",
       "2                            1                                1   \n",
       "4                            3                                1   \n",
       "5                            2                                2   \n",
       "6                            2                                2   \n",
       "7                            3                                2   \n",
       "..                         ...                              ...   \n",
       "126                          3                                2   \n",
       "128                          2                                1   \n",
       "135                          3                                1   \n",
       "137                          2                                1   \n",
       "148                          3                                1   \n",
       "\n",
       "     Price_important_factor  Importance_of_easy_to_use_1to3  \\\n",
       "2                         1                               3   \n",
       "4                         1                               3   \n",
       "5                         1                               3   \n",
       "6                         1                               2   \n",
       "7                         1                               3   \n",
       "..                      ...                             ...   \n",
       "126                       1                               3   \n",
       "128                       1                               2   \n",
       "135                       1                               2   \n",
       "137                       0                               1   \n",
       "148                       1                               1   \n",
       "\n",
       "     Importance_low_price_1to3  Importance_polyvalence_1to3  \\\n",
       "2                            2                            3   \n",
       "4                            1                            2   \n",
       "5                            3                            3   \n",
       "6                            2                            2   \n",
       "7                            2                            1   \n",
       "..                         ...                          ...   \n",
       "126                          1                            2   \n",
       "128                          2                            2   \n",
       "135                          1                            2   \n",
       "137                          1                            2   \n",
       "148                          2                            3   \n",
       "\n",
       "     Enjoy_using_new_techs_1to3  Appreciate_change_1to3  Need_IT_teaching_Cat  \\\n",
       "2                             1                       1                     2   \n",
       "4                             2                       1                     2   \n",
       "5                             2                       2                     1   \n",
       "6                             3                       2                     2   \n",
       "7                             3                       2                     2   \n",
       "..                          ...                     ...                   ...   \n",
       "126                           2                       2                     2   \n",
       "128                           2                       2                     2   \n",
       "135                           1                       1                     2   \n",
       "137                           2                       1                     2   \n",
       "148                           2                       2                     2   \n",
       "\n",
       "     Share_DSS_exp_with_colleague_Cat  WTP_for_DSS_Cat  \\\n",
       "2                                   1                2   \n",
       "4                                   3                3   \n",
       "5                                   2                2   \n",
       "6                                   2                2   \n",
       "7                                   1                2   \n",
       "..                                ...              ...   \n",
       "126                                 2                3   \n",
       "128                                 1                2   \n",
       "135                                 2                2   \n",
       "137                                 1                3   \n",
       "148                                 3                2   \n",
       "\n",
       "     DSS_must_be_tailored_for_your_farm_Cat  Manufacturer_demo_of_DSS_Cat  \\\n",
       "2                                         2                             2   \n",
       "4                                         2                             2   \n",
       "5                                         3                             2   \n",
       "6                                         1                             1   \n",
       "7                                         2                             2   \n",
       "..                                      ...                           ...   \n",
       "126                                       3                             2   \n",
       "128                                       2                             2   \n",
       "135                                       1                             1   \n",
       "137                                       2                             2   \n",
       "148                                       2                             1   \n",
       "\n",
       "     Region_central_EU  Region_north_EU  Region_south_EU  clusters  \n",
       "2                    0                0                1         0  \n",
       "4                    0                0                1         0  \n",
       "5                    0                0                1         0  \n",
       "6                    0                0                1         0  \n",
       "7                    0                0                1         0  \n",
       "..                 ...              ...              ...       ...  \n",
       "126                  1                0                0         1  \n",
       "128                  0                0                1         0  \n",
       "135                  0                0                1         0  \n",
       "137                  0                0                1         0  \n",
       "148                  0                0                1         0  \n",
       "\n",
       "[95 rows x 25 columns]"
      ]
     },
     "execution_count": 222,
     "metadata": {
      "tags": []
     },
     "output_type": "execute_result"
    }
   ],
   "source": [
    "# DataFrame for classification with clusters from embedding3d\n",
    "df_noNaN[\"clusters\"] = intersection_clusters\n",
    "df_clst = df_noNaN.copy()\n",
    "df_clst\n",
    "\n",
    "# use Weka and See5 (Quinlan) [moraš poklicat s !]\n",
    "# https://colab.research.google.com/drive/1A9bZkPvXPAViipan7u9siQfkakChyYFV?usp=sharing#scrollTo=CgxRusBSCxrn"
   ]
  },
  {
   "cell_type": "code",
   "execution_count": 223,
   "metadata": {
    "id": "wKi2X2wu0qFV"
   },
   "outputs": [],
   "source": [
    "df_clst.to_csv(\"IPM_data&clusters_question2.csv\")"
   ]
  },
  {
   "cell_type": "markdown",
   "metadata": {
    "id": "kDIW1dSvl2N2"
   },
   "source": [
    "## Modelling"
   ]
  },
  {
   "cell_type": "code",
   "execution_count": 224,
   "metadata": {
    "colab": {
     "base_uri": "https://localhost:8080/",
     "height": 660
    },
    "id": "KFFbUXk5lvgc",
    "outputId": "300c6c47-3616-44aa-ea52-94970f094699"
   },
   "outputs": [
    {
     "data": {
      "text/plain": [
       "[Text(468.72, 453.0, 'Region_south_EU <= 0.5\\ngini = 0.666\\nsamples = 95\\nvalue = [34, 31, 30]\\nclass = 0'),\n",
       " Text(312.48, 271.8, 'Region_north_EU <= 0.5\\ngini = 0.5\\nsamples = 61\\nvalue = [0, 31, 30]\\nclass = 1'),\n",
       " Text(156.24, 90.59999999999997, 'gini = 0.0\\nsamples = 31\\nvalue = [0, 31, 0]\\nclass = 1'),\n",
       " Text(468.72, 90.59999999999997, 'gini = 0.0\\nsamples = 30\\nvalue = [0, 0, 30]\\nclass = 2'),\n",
       " Text(624.96, 271.8, 'gini = 0.0\\nsamples = 34\\nvalue = [34, 0, 0]\\nclass = 0')]"
      ]
     },
     "execution_count": 224,
     "metadata": {
      "tags": []
     },
     "output_type": "execute_result"
    },
    {
     "data": {
      "image/png": "[encoded data removed]",
      "text/plain": [
       "<Figure size 1008x720 with 1 Axes>"
      ]
     },
     "metadata": {
      "tags": []
     },
     "output_type": "display_data"
    }
   ],
   "source": [
    "from sklearn import tree\n",
    "\n",
    "target_class = \"clusters\"\n",
    "X, y = df_noNaN[[_ for _ in list(ohe_df.columns) if _ not in target_class]], df_noNaN[target_class]\n",
    "clf = tree.DecisionTreeClassifier()\n",
    "clf = clf.fit(X, y)\n",
    "tree.plot_tree(clf, feature_names=X.columns, class_names=[str(_) for _ in [0,1,2,3]], filled=True) "
   ]
  },
  {
   "cell_type": "code",
   "execution_count": 225,
   "metadata": {
    "colab": {
     "base_uri": "https://localhost:8080/"
    },
    "id": "Jh4oJSCAFymj",
    "outputId": "e95868b7-494e-43e8-f2db-b1cfe7faf189"
   },
   "outputs": [
    {
     "data": {
      "text/plain": [
       "LogisticRegression(C=1.0, class_weight=None, dual=False, fit_intercept=True,\n",
       "                   intercept_scaling=1, l1_ratio=None, max_iter=1000,\n",
       "                   multi_class='auto', n_jobs=None, penalty='l2',\n",
       "                   random_state=None, solver='lbfgs', tol=0.0001, verbose=0,\n",
       "                   warm_start=False)"
      ]
     },
     "execution_count": 225,
     "metadata": {
      "tags": []
     },
     "output_type": "execute_result"
    }
   ],
   "source": [
    "# Train the model\n",
    "from sklearn.linear_model import LogisticRegression\n",
    "from sklearn.model_selection import train_test_split\n",
    "\n",
    "target_class = \"clusters\"\n",
    "X = df_noNaN[[_ for _ in list(ohe_df.columns) if _ not in target_class]]\n",
    "y = df_noNaN[target_class]\n",
    "X_train, X_test, y_train, y_test = train_test_split(X, y, test_size=0.33, random_state=42)\n",
    "\n",
    "model = LogisticRegression(max_iter=1000)\n",
    "model.fit(X_train, y_train)"
   ]
  },
  {
   "cell_type": "code",
   "execution_count": 226,
   "metadata": {
    "colab": {
     "base_uri": "https://localhost:8080/"
    },
    "id": "deWt2UZDJB-7",
    "outputId": "75eb29eb-0b84-415d-d05a-28186f40fc4e"
   },
   "outputs": [
    {
     "data": {
      "text/plain": [
       "array([0, 0, 2, 2, 0, 1, 2, 2, 0, 1, 2, 1, 2, 1, 0, 0, 0, 1, 2, 0, 0, 2,\n",
       "       2, 1, 1, 0, 1, 1, 1, 0, 0, 0])"
      ]
     },
     "execution_count": 226,
     "metadata": {
      "tags": []
     },
     "output_type": "execute_result"
    }
   ],
   "source": [
    "# Predictions for test dataset\n",
    "y_predict = model.predict(X_test)\n",
    "y_predict"
   ]
  },
  {
   "cell_type": "code",
   "execution_count": 227,
   "metadata": {
    "colab": {
     "base_uri": "https://localhost:8080/",
     "height": 562
    },
    "id": "mg2J2A86l2N2",
    "outputId": "1daa1540-1f4e-46d8-fbe7-e429d0acf92b"
   },
   "outputs": [
    {
     "ename": "KeyError",
     "evalue": "ignored",
     "output_type": "error",
     "traceback": [
      "\u001b[0;31m---------------------------------------------------------------------------\u001b[0m",
      "\u001b[0;31mKeyError\u001b[0m                                  Traceback (most recent call last)",
      "\u001b[0;32m/usr/local/lib/python3.7/dist-packages/pandas/core/indexes/base.py\u001b[0m in \u001b[0;36mget_loc\u001b[0;34m(self, key, method, tolerance)\u001b[0m\n\u001b[1;32m   2897\u001b[0m             \u001b[0;32mtry\u001b[0m\u001b[0;34m:\u001b[0m\u001b[0;34m\u001b[0m\u001b[0;34m\u001b[0m\u001b[0m\n\u001b[0;32m-> 2898\u001b[0;31m                 \u001b[0;32mreturn\u001b[0m \u001b[0mself\u001b[0m\u001b[0;34m.\u001b[0m\u001b[0m_engine\u001b[0m\u001b[0;34m.\u001b[0m\u001b[0mget_loc\u001b[0m\u001b[0;34m(\u001b[0m\u001b[0mcasted_key\u001b[0m\u001b[0;34m)\u001b[0m\u001b[0;34m\u001b[0m\u001b[0;34m\u001b[0m\u001b[0m\n\u001b[0m\u001b[1;32m   2899\u001b[0m             \u001b[0;32mexcept\u001b[0m \u001b[0mKeyError\u001b[0m \u001b[0;32mas\u001b[0m \u001b[0merr\u001b[0m\u001b[0;34m:\u001b[0m\u001b[0;34m\u001b[0m\u001b[0;34m\u001b[0m\u001b[0m\n",
      "\u001b[0;32mpandas/_libs/index.pyx\u001b[0m in \u001b[0;36mpandas._libs.index.IndexEngine.get_loc\u001b[0;34m()\u001b[0m\n",
      "\u001b[0;32mpandas/_libs/index.pyx\u001b[0m in \u001b[0;36mpandas._libs.index.IndexEngine.get_loc\u001b[0;34m()\u001b[0m\n",
      "\u001b[0;32mpandas/_libs/hashtable_class_helper.pxi\u001b[0m in \u001b[0;36mpandas._libs.hashtable.PyObjectHashTable.get_item\u001b[0;34m()\u001b[0m\n",
      "\u001b[0;32mpandas/_libs/hashtable_class_helper.pxi\u001b[0m in \u001b[0;36mpandas._libs.hashtable.PyObjectHashTable.get_item\u001b[0;34m()\u001b[0m\n",
      "\u001b[0;31mKeyError\u001b[0m: 'Already_used_DSS'",
      "\nThe above exception was the direct cause of the following exception:\n",
      "\u001b[0;31mKeyError\u001b[0m                                  Traceback (most recent call last)",
      "\u001b[0;32m<ipython-input-227-cb22095167bc>\u001b[0m in \u001b[0;36m<module>\u001b[0;34m()\u001b[0m\n\u001b[1;32m      5\u001b[0m \u001b[0mtarget_class\u001b[0m \u001b[0;34m=\u001b[0m \u001b[0;34m\"Already_used_DSS\"\u001b[0m\u001b[0;34m\u001b[0m\u001b[0;34m\u001b[0m\u001b[0m\n\u001b[1;32m      6\u001b[0m \u001b[0mX\u001b[0m \u001b[0;34m=\u001b[0m \u001b[0mdf_noNaN\u001b[0m\u001b[0;34m[\u001b[0m\u001b[0;34m[\u001b[0m\u001b[0m_\u001b[0m \u001b[0;32mfor\u001b[0m \u001b[0m_\u001b[0m \u001b[0;32min\u001b[0m \u001b[0mlist\u001b[0m\u001b[0;34m(\u001b[0m\u001b[0mohe_df\u001b[0m\u001b[0;34m.\u001b[0m\u001b[0mcolumns\u001b[0m\u001b[0;34m)\u001b[0m \u001b[0;32mif\u001b[0m \u001b[0m_\u001b[0m \u001b[0;32mnot\u001b[0m \u001b[0;32min\u001b[0m \u001b[0mtarget_class\u001b[0m\u001b[0;34m]\u001b[0m\u001b[0;34m]\u001b[0m\u001b[0;34m\u001b[0m\u001b[0;34m\u001b[0m\u001b[0m\n\u001b[0;32m----> 7\u001b[0;31m \u001b[0mY\u001b[0m \u001b[0;34m=\u001b[0m \u001b[0mdf_noNaN\u001b[0m\u001b[0;34m[\u001b[0m\u001b[0mtarget_class\u001b[0m\u001b[0;34m]\u001b[0m\u001b[0;34m\u001b[0m\u001b[0;34m\u001b[0m\u001b[0m\n\u001b[0m\u001b[1;32m      8\u001b[0m \u001b[0mclf\u001b[0m \u001b[0;34m=\u001b[0m \u001b[0mclf\u001b[0m\u001b[0;34m.\u001b[0m\u001b[0mfit\u001b[0m\u001b[0;34m(\u001b[0m\u001b[0mX\u001b[0m\u001b[0;34m,\u001b[0m \u001b[0mY\u001b[0m\u001b[0;34m)\u001b[0m\u001b[0;34m\u001b[0m\u001b[0;34m\u001b[0m\u001b[0m\n",
      "\u001b[0;32m/usr/local/lib/python3.7/dist-packages/pandas/core/frame.py\u001b[0m in \u001b[0;36m__getitem__\u001b[0;34m(self, key)\u001b[0m\n\u001b[1;32m   2904\u001b[0m             \u001b[0;32mif\u001b[0m \u001b[0mself\u001b[0m\u001b[0;34m.\u001b[0m\u001b[0mcolumns\u001b[0m\u001b[0;34m.\u001b[0m\u001b[0mnlevels\u001b[0m \u001b[0;34m>\u001b[0m \u001b[0;36m1\u001b[0m\u001b[0;34m:\u001b[0m\u001b[0;34m\u001b[0m\u001b[0;34m\u001b[0m\u001b[0m\n\u001b[1;32m   2905\u001b[0m                 \u001b[0;32mreturn\u001b[0m \u001b[0mself\u001b[0m\u001b[0;34m.\u001b[0m\u001b[0m_getitem_multilevel\u001b[0m\u001b[0;34m(\u001b[0m\u001b[0mkey\u001b[0m\u001b[0;34m)\u001b[0m\u001b[0;34m\u001b[0m\u001b[0;34m\u001b[0m\u001b[0m\n\u001b[0;32m-> 2906\u001b[0;31m             \u001b[0mindexer\u001b[0m \u001b[0;34m=\u001b[0m \u001b[0mself\u001b[0m\u001b[0;34m.\u001b[0m\u001b[0mcolumns\u001b[0m\u001b[0;34m.\u001b[0m\u001b[0mget_loc\u001b[0m\u001b[0;34m(\u001b[0m\u001b[0mkey\u001b[0m\u001b[0;34m)\u001b[0m\u001b[0;34m\u001b[0m\u001b[0;34m\u001b[0m\u001b[0m\n\u001b[0m\u001b[1;32m   2907\u001b[0m             \u001b[0;32mif\u001b[0m \u001b[0mis_integer\u001b[0m\u001b[0;34m(\u001b[0m\u001b[0mindexer\u001b[0m\u001b[0;34m)\u001b[0m\u001b[0;34m:\u001b[0m\u001b[0;34m\u001b[0m\u001b[0;34m\u001b[0m\u001b[0m\n\u001b[1;32m   2908\u001b[0m                 \u001b[0mindexer\u001b[0m \u001b[0;34m=\u001b[0m \u001b[0;34m[\u001b[0m\u001b[0mindexer\u001b[0m\u001b[0;34m]\u001b[0m\u001b[0;34m\u001b[0m\u001b[0;34m\u001b[0m\u001b[0m\n",
      "\u001b[0;32m/usr/local/lib/python3.7/dist-packages/pandas/core/indexes/base.py\u001b[0m in \u001b[0;36mget_loc\u001b[0;34m(self, key, method, tolerance)\u001b[0m\n\u001b[1;32m   2898\u001b[0m                 \u001b[0;32mreturn\u001b[0m \u001b[0mself\u001b[0m\u001b[0;34m.\u001b[0m\u001b[0m_engine\u001b[0m\u001b[0;34m.\u001b[0m\u001b[0mget_loc\u001b[0m\u001b[0;34m(\u001b[0m\u001b[0mcasted_key\u001b[0m\u001b[0;34m)\u001b[0m\u001b[0;34m\u001b[0m\u001b[0;34m\u001b[0m\u001b[0m\n\u001b[1;32m   2899\u001b[0m             \u001b[0;32mexcept\u001b[0m \u001b[0mKeyError\u001b[0m \u001b[0;32mas\u001b[0m \u001b[0merr\u001b[0m\u001b[0;34m:\u001b[0m\u001b[0;34m\u001b[0m\u001b[0;34m\u001b[0m\u001b[0m\n\u001b[0;32m-> 2900\u001b[0;31m                 \u001b[0;32mraise\u001b[0m \u001b[0mKeyError\u001b[0m\u001b[0;34m(\u001b[0m\u001b[0mkey\u001b[0m\u001b[0;34m)\u001b[0m \u001b[0;32mfrom\u001b[0m \u001b[0merr\u001b[0m\u001b[0;34m\u001b[0m\u001b[0;34m\u001b[0m\u001b[0m\n\u001b[0m\u001b[1;32m   2901\u001b[0m \u001b[0;34m\u001b[0m\u001b[0m\n\u001b[1;32m   2902\u001b[0m         \u001b[0;32mif\u001b[0m \u001b[0mtolerance\u001b[0m \u001b[0;32mis\u001b[0m \u001b[0;32mnot\u001b[0m \u001b[0;32mNone\u001b[0m\u001b[0;34m:\u001b[0m\u001b[0;34m\u001b[0m\u001b[0;34m\u001b[0m\u001b[0m\n",
      "\u001b[0;31mKeyError\u001b[0m: 'Already_used_DSS'"
     ]
    }
   ],
   "source": [
    "from sklearn.model_selection import cross_val_score\n",
    "from sklearn.tree import DecisionTreeClassifier\n",
    "clf = tree.DecisionTreeClassifier(random_state=0)\n",
    "\n",
    "target_class = \"Already_used_DSS\"\n",
    "X = df_noNaN[[_ for _ in list(ohe_df.columns) if _ not in target_class]]\n",
    "Y = df_noNaN[target_class]\n",
    "clf = clf.fit(X, Y)"
   ]
  },
  {
   "cell_type": "code",
   "execution_count": null,
   "metadata": {
    "id": "CcBXCs85l2N3"
   },
   "outputs": [],
   "source": [
    "from sklearn.tree import DecisionTreeClassifier\n",
    "from sklearn.tree import export_text\n",
    "decision_tree = DecisionTreeClassifier(random_state=0, max_depth=2)\n",
    "decision_tree = decision_tree.fit(X, Y)\n",
    "r = export_text(decision_tree, feature_names=list(X.columns))\n",
    "print(r)"
   ]
  },
  {
   "cell_type": "code",
   "execution_count": null,
   "metadata": {
    "id": "Y2PZlTRLl2N3"
   },
   "outputs": [],
   "source": [
    "# \"\"\"Ne morem importat, nek conflict\n",
    "# import graphviz \n",
    "# dot_data = tree.export_graphviz(clf, out_file=None) \n",
    "# graph = graphviz.Source(dot_data) \n",
    "# graph.render(\"IPM\") \n",
    "# \"\"\""
   ]
  },
  {
   "cell_type": "markdown",
   "metadata": {
    "id": "oTKut8pCWRyH"
   },
   "source": [
    "# create dictionary with value mapping"
   ]
  },
  {
   "cell_type": "code",
   "execution_count": null,
   "metadata": {
    "id": "j0ai7zLivqOh"
   },
   "outputs": [],
   "source": [
    "# df[\"test\"] = df[\"Age_Cat\"].replace({4:\"več kot 50\", 3: \"test\", 1 : \"sdfsdf\", 2 : \"wsf\"})\n",
    "# df[\"Age_Cat\"] = df[\"Age_Cat\"].replace({4:\"več kot 50\", 3: \"test\", 1 : \"sdfsdf\", 2 : \"wsf\"})"
   ]
  }
 ],
 "metadata": {
  "colab": {
   "collapsed_sections": [],
   "include_colab_link": true,
   "name": "IPMdecisions-DataExploration_colab-1_4_Q2.ipynb",
   "provenance": []
  },
  "kernelspec": {
   "display_name": "Python 3",
   "language": "python",
   "name": "python3"
  },
  "language_info": {
   "codemirror_mode": {
    "name": "ipython",
    "version": 3
   },
   "file_extension": ".py",
   "mimetype": "text/x-python",
   "name": "python",
   "nbconvert_exporter": "python",
   "pygments_lexer": "ipython3",
   "version": "3.9.1"
  }
 },
 "nbformat": 4,
 "nbformat_minor": 4
}
